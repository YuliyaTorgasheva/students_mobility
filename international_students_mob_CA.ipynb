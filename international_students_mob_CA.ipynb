{
 "cells": [
  {
   "cell_type": "code",
   "execution_count": 1,
   "metadata": {},
   "outputs": [],
   "source": [
    "import pandas as pd\n",
    "import matplotlib.pyplot as plt\n",
    "import numpy as np\n",
    "from matplotlib.ticker import ScalarFormatter\n",
    "import plotly.graph_objects as go\n",
    "from plotly.subplots import make_subplots\n",
    "import plotly.io as pio\n",
    "import plotly.express as px"
   ]
  },
  {
   "cell_type": "markdown",
   "metadata": {},
   "source": [
    "<h2>Initial Data Load</h2>"
   ]
  },
  {
   "cell_type": "markdown",
   "metadata": {},
   "source": [
    "<h3>Data Sources</h3>"
   ]
  },
  {
   "cell_type": "markdown",
   "metadata": {},
   "source": [
    "<p>UNESCO Bulk Data Download Service can be accessed here: <a href>https://uis.unesco.org/bdds</a> \n",
    "<br> Labels list is analyzed and students inbound indicators are extracted into distinct csv file named <i>OPRI_student_labels.csv</i>\n",
    "<br>UNESCO Data Service is also availabla at <a href>https://data.uis.unesco.org/#</a> \n",
    "<p>UNESCO UIS DataSet for 2017 and 2022 lacks reports, for several years, from USA, Mexico, Netherlands, Iran, Kazakhstan and some other countries. They are taken from the following sources:\n",
    "<br> USA, 2022 - <a href>https://opendoorsdata.org</a> (by source countries)\n",
    "<br>China, 2022 - <a href>http://www.moe.gov.cn/jyb_xwfb/gzdt_gzdt/s5987/201904/t20190412_377692.html</a>  taken pre-pandemic for distinct countries, in total from <a href>http://en.moe.gov.cn/documents/statistics/2022/national/202401/t20240110_1099530.html</a>  for the 2022\n",
    "<br>China, 2017 - are from 2018 <a href>https://docs.aiddata.org/reports/corridors-of-power.html#figure4</a> \n",
    "<br>Philippines - still absent\n",
    "<br>Israel - still absent\n",
    "<br> Netherlands, 2022 - <a href>https://www.nuffic.nl/sites/default/files/2023-06/incoming-degree-mobility-in-dutch-higher-education-2022-2023.pdf</a>  (total and by source countries where provided)\n",
    "<br> Mexico, 2022 - <a href>https://www.iie.org/research-initiatives/project-atlas/explore-data/mexico-2/</a>  (total inbound students)\n",
    "<br> Iran, 2022 - <a href>https://tehrantimes.com/news/483478/Students-from-91-countries-studying-in-Iranian-universities</a>  (total inbound students)\n",
    "<br> Kazakhstan, 2022 - <a href>https://enic-kazakhstan.edu.kz/uploads/additional_files_items/193/file/tadzhikistan.pdf?cache=1691397957</a> , https://enic-kazakhstan.edu.kz/uploads/additional_files_items/156/file/</a> mezhdunarodnoe-sotrudnichestvo-sng.pdf?cache=1677496628</a> , <a href>https://enic-kazakhstan.edu.kz/uploads/additional_files_items/138/file/3-1-monitoring-akademicheskoy-mobilnosti-2022-rus.pdf?cache=1672983807</a>  (total and by source countries where provided)\n",
    "<br> Egypt, 2017 - <a href>https://enterprise.press/stories/2019/12/16/how-egypt-is-positioning-itself-as-an-educational-hub-for-international-students-8512/</a>  (total inbound students)\n",
    "<br> Thailand, 2017 - <a href>https://apheit.bu.ac.th/jounal/Inter-vol8-1/นานาชาติ_บทความวิจัย_2.pdf</a>  (total inbound students)\n"
   ]
  },
  {
   "cell_type": "markdown",
   "metadata": {},
   "source": [
    "<h3>Data Load</h3>"
   ]
  },
  {
   "cell_type": "markdown",
   "metadata": {},
   "source": [
    "Opening and exploring UNESCO datasets"
   ]
  },
  {
   "cell_type": "code",
   "execution_count": 2,
   "metadata": {},
   "outputs": [
    {
     "name": "stdout",
     "output_type": "stream",
     "text": [
      "Index(['COUNTRY_ID', 'COUNTRY_NAME_EN'], dtype='object')\n"
     ]
    },
    {
     "data": {
      "text/html": [
       "<div>\n",
       "<style scoped>\n",
       "    .dataframe tbody tr th:only-of-type {\n",
       "        vertical-align: middle;\n",
       "    }\n",
       "\n",
       "    .dataframe tbody tr th {\n",
       "        vertical-align: top;\n",
       "    }\n",
       "\n",
       "    .dataframe thead th {\n",
       "        text-align: right;\n",
       "    }\n",
       "</style>\n",
       "<table border=\"1\" class=\"dataframe\">\n",
       "  <thead>\n",
       "    <tr style=\"text-align: right;\">\n",
       "      <th></th>\n",
       "      <th>COUNTRY_ID</th>\n",
       "      <th>COUNTRY_NAME_EN</th>\n",
       "    </tr>\n",
       "  </thead>\n",
       "  <tbody>\n",
       "    <tr>\n",
       "      <th>0</th>\n",
       "      <td>AFG</td>\n",
       "      <td>Afghanistan</td>\n",
       "    </tr>\n",
       "    <tr>\n",
       "      <th>1</th>\n",
       "      <td>ALB</td>\n",
       "      <td>Albania</td>\n",
       "    </tr>\n",
       "  </tbody>\n",
       "</table>\n",
       "</div>"
      ],
      "text/plain": [
       "  COUNTRY_ID COUNTRY_NAME_EN\n",
       "0        AFG     Afghanistan\n",
       "1        ALB         Albania"
      ]
     },
     "execution_count": 2,
     "metadata": {},
     "output_type": "execute_result"
    }
   ],
   "source": [
    "country_names = pd.read_csv(r\"C:\\Users\\yuliy\\Documents\\UNESCO Education\\OPRI_COUNTRY.csv\")#change the file location\n",
    "print(country_names.columns)\n",
    "country_names.head(2)"
   ]
  },
  {
   "cell_type": "code",
   "execution_count": 3,
   "metadata": {},
   "outputs": [
    {
     "name": "stdout",
     "output_type": "stream",
     "text": [
      "Index(['INDICATOR_ID', 'INDICATOR_LABEL_EN'], dtype='object')\n"
     ]
    },
    {
     "data": {
      "text/html": [
       "<div>\n",
       "<style scoped>\n",
       "    .dataframe tbody tr th:only-of-type {\n",
       "        vertical-align: middle;\n",
       "    }\n",
       "\n",
       "    .dataframe tbody tr th {\n",
       "        vertical-align: top;\n",
       "    }\n",
       "\n",
       "    .dataframe thead th {\n",
       "        text-align: right;\n",
       "    }\n",
       "</style>\n",
       "<table border=\"1\" class=\"dataframe\">\n",
       "  <thead>\n",
       "    <tr style=\"text-align: right;\">\n",
       "      <th></th>\n",
       "      <th>INDICATOR_ID</th>\n",
       "      <th>INDICATOR_LABEL_EN</th>\n",
       "    </tr>\n",
       "  </thead>\n",
       "  <tbody>\n",
       "    <tr>\n",
       "      <th>0</th>\n",
       "      <td>26421</td>\n",
       "      <td>Africa: Students from Algeria, both sexes (num...</td>\n",
       "    </tr>\n",
       "    <tr>\n",
       "      <th>1</th>\n",
       "      <td>26422</td>\n",
       "      <td>Africa: Students from Angola, both sexes (number)</td>\n",
       "    </tr>\n",
       "  </tbody>\n",
       "</table>\n",
       "</div>"
      ],
      "text/plain": [
       "   INDICATOR_ID                                 INDICATOR_LABEL_EN\n",
       "0         26421  Africa: Students from Algeria, both sexes (num...\n",
       "1         26422  Africa: Students from Angola, both sexes (number)"
      ]
     },
     "execution_count": 3,
     "metadata": {},
     "output_type": "execute_result"
    }
   ],
   "source": [
    "labels = pd.read_csv(r\"C:\\Users\\yuliy\\Documents\\UNESCO Education\\OPRI_students_label.csv\")#change the file location\n",
    "print(labels.columns)\n",
    "labels.head(2)"
   ]
  },
  {
   "cell_type": "code",
   "execution_count": 4,
   "metadata": {},
   "outputs": [
    {
     "name": "stderr",
     "output_type": "stream",
     "text": [
      "C:\\Users\\yuliy\\AppData\\Local\\Temp\\ipykernel_16240\\4289191484.py:1: DtypeWarning: Columns (0,4) have mixed types. Specify dtype option on import or set low_memory=False.\n",
      "  national = pd.read_csv(r\"C:\\Users\\yuliy\\Documents\\UNESCO Education\\OPRI_DATA_NATIONAL.csv\") #change the file location\n"
     ]
    },
    {
     "name": "stdout",
     "output_type": "stream",
     "text": [
      "Index(['indicator_id', 'country_id', 'year', 'value', 'magnitude',\n",
      "       'qualifier'],\n",
      "      dtype='object')\n"
     ]
    },
    {
     "data": {
      "text/html": [
       "<div>\n",
       "<style scoped>\n",
       "    .dataframe tbody tr th:only-of-type {\n",
       "        vertical-align: middle;\n",
       "    }\n",
       "\n",
       "    .dataframe tbody tr th {\n",
       "        vertical-align: top;\n",
       "    }\n",
       "\n",
       "    .dataframe thead th {\n",
       "        text-align: right;\n",
       "    }\n",
       "</style>\n",
       "<table border=\"1\" class=\"dataframe\">\n",
       "  <thead>\n",
       "    <tr style=\"text-align: right;\">\n",
       "      <th></th>\n",
       "      <th>indicator_id</th>\n",
       "      <th>country_id</th>\n",
       "      <th>year</th>\n",
       "      <th>value</th>\n",
       "      <th>magnitude</th>\n",
       "      <th>qualifier</th>\n",
       "    </tr>\n",
       "  </thead>\n",
       "  <tbody>\n",
       "    <tr>\n",
       "      <th>0</th>\n",
       "      <td>10</td>\n",
       "      <td>ABW</td>\n",
       "      <td>1998</td>\n",
       "      <td>0.0</td>\n",
       "      <td>NaN</td>\n",
       "      <td>NaN</td>\n",
       "    </tr>\n",
       "    <tr>\n",
       "      <th>1</th>\n",
       "      <td>10</td>\n",
       "      <td>ABW</td>\n",
       "      <td>1999</td>\n",
       "      <td>0.0</td>\n",
       "      <td>NaN</td>\n",
       "      <td>NaN</td>\n",
       "    </tr>\n",
       "  </tbody>\n",
       "</table>\n",
       "</div>"
      ],
      "text/plain": [
       "  indicator_id country_id  year  value magnitude qualifier\n",
       "0           10        ABW  1998    0.0       NaN       NaN\n",
       "1           10        ABW  1999    0.0       NaN       NaN"
      ]
     },
     "execution_count": 4,
     "metadata": {},
     "output_type": "execute_result"
    }
   ],
   "source": [
    "national = pd.read_csv(r\"C:\\Users\\yuliy\\Documents\\UNESCO Education\\OPRI_DATA_NATIONAL.csv\") #change the file location\n",
    "print(national.columns)\n",
    "national.head(2)"
   ]
  },
  {
   "cell_type": "markdown",
   "metadata": {},
   "source": [
    "Add USA and other countries inbound students, taken from another sources"
   ]
  },
  {
   "cell_type": "code",
   "execution_count": 5,
   "metadata": {},
   "outputs": [
    {
     "name": "stdout",
     "output_type": "stream",
     "text": [
      "1035161\n"
     ]
    },
    {
     "data": {
      "text/html": [
       "<div>\n",
       "<style scoped>\n",
       "    .dataframe tbody tr th:only-of-type {\n",
       "        vertical-align: middle;\n",
       "    }\n",
       "\n",
       "    .dataframe tbody tr th {\n",
       "        vertical-align: top;\n",
       "    }\n",
       "\n",
       "    .dataframe thead th {\n",
       "        text-align: right;\n",
       "    }\n",
       "</style>\n",
       "<table border=\"1\" class=\"dataframe\">\n",
       "  <thead>\n",
       "    <tr style=\"text-align: right;\">\n",
       "      <th></th>\n",
       "      <th>from</th>\n",
       "      <th>to</th>\n",
       "      <th>year</th>\n",
       "      <th>value</th>\n",
       "      <th>country_id</th>\n",
       "    </tr>\n",
       "  </thead>\n",
       "  <tbody>\n",
       "    <tr>\n",
       "      <th>0</th>\n",
       "      <td>Afghanistan</td>\n",
       "      <td>United States of America</td>\n",
       "      <td>2022</td>\n",
       "      <td>682</td>\n",
       "      <td>USA</td>\n",
       "    </tr>\n",
       "    <tr>\n",
       "      <th>1</th>\n",
       "      <td>Albania</td>\n",
       "      <td>United States of America</td>\n",
       "      <td>2022</td>\n",
       "      <td>1087</td>\n",
       "      <td>USA</td>\n",
       "    </tr>\n",
       "  </tbody>\n",
       "</table>\n",
       "</div>"
      ],
      "text/plain": [
       "          from                        to  year  value country_id\n",
       "0  Afghanistan  United States of America  2022    682        USA\n",
       "1      Albania  United States of America  2022   1087        USA"
      ]
     },
     "execution_count": 5,
     "metadata": {},
     "output_type": "execute_result"
    }
   ],
   "source": [
    "usa_add_long = pd.read_csv(\"usa_inbound.csv\")\n",
    "usa_add_long['to'] = 'United States of America'\n",
    "usa_add_long['year'] = '2022'\n",
    "usa_add_long = usa_add_long.rename(columns={'unesco':'from'})\n",
    "usa_add_long = usa_add_long[['from','to','year','2022']] #we need year 2022\n",
    "usa_add_long.columns = ['from','to','year','value']\n",
    "usa_add_long = usa_add_long[usa_add_long['from']!='#Н/Д']\n",
    "usa_add_long['value'] = usa_add_long['value'].fillna(0).astype(int)\n",
    "usa_add_long['country_id'] = 'USA'\n",
    "print(usa_add_long.value.sum())\n",
    "usa_add_long.head(2)"
   ]
  },
  {
   "cell_type": "markdown",
   "metadata": {},
   "source": [
    "Add Kazakhstan inbound students"
   ]
  },
  {
   "cell_type": "code",
   "execution_count": 6,
   "metadata": {},
   "outputs": [
    {
     "data": {
      "text/html": [
       "<div>\n",
       "<style scoped>\n",
       "    .dataframe tbody tr th:only-of-type {\n",
       "        vertical-align: middle;\n",
       "    }\n",
       "\n",
       "    .dataframe tbody tr th {\n",
       "        vertical-align: top;\n",
       "    }\n",
       "\n",
       "    .dataframe thead th {\n",
       "        text-align: right;\n",
       "    }\n",
       "</style>\n",
       "<table border=\"1\" class=\"dataframe\">\n",
       "  <thead>\n",
       "    <tr style=\"text-align: right;\">\n",
       "      <th></th>\n",
       "      <th>from</th>\n",
       "      <th>to</th>\n",
       "      <th>year</th>\n",
       "      <th>value</th>\n",
       "      <th>country_id</th>\n",
       "    </tr>\n",
       "  </thead>\n",
       "  <tbody>\n",
       "    <tr>\n",
       "      <th>0</th>\n",
       "      <td>Uzbekistan</td>\n",
       "      <td>Kazakhstan</td>\n",
       "      <td>2022</td>\n",
       "      <td>9571.0</td>\n",
       "      <td>KAZ</td>\n",
       "    </tr>\n",
       "    <tr>\n",
       "      <th>1</th>\n",
       "      <td>Tajikistan</td>\n",
       "      <td>Kazakhstan</td>\n",
       "      <td>2022</td>\n",
       "      <td>361.0</td>\n",
       "      <td>KAZ</td>\n",
       "    </tr>\n",
       "  </tbody>\n",
       "</table>\n",
       "</div>"
      ],
      "text/plain": [
       "         from          to  year   value country_id\n",
       "0  Uzbekistan  Kazakhstan  2022  9571.0        KAZ\n",
       "1  Tajikistan  Kazakhstan  2022   361.0        KAZ"
      ]
     },
     "execution_count": 6,
     "metadata": {},
     "output_type": "execute_result"
    }
   ],
   "source": [
    "kaz_add_long = pd.read_csv(\"kazakhstan_inbound.csv\")\n",
    "kaz_add_long['year'] = kaz_add_long['year'].astype(str)\n",
    "kaz_add_long['country_id'] = 'KAZ'\n",
    "kaz_add_long.head(2)"
   ]
  },
  {
   "cell_type": "markdown",
   "metadata": {},
   "source": [
    "Add Netherlands inbound students"
   ]
  },
  {
   "cell_type": "code",
   "execution_count": 7,
   "metadata": {},
   "outputs": [
    {
     "data": {
      "text/html": [
       "<div>\n",
       "<style scoped>\n",
       "    .dataframe tbody tr th:only-of-type {\n",
       "        vertical-align: middle;\n",
       "    }\n",
       "\n",
       "    .dataframe tbody tr th {\n",
       "        vertical-align: top;\n",
       "    }\n",
       "\n",
       "    .dataframe thead th {\n",
       "        text-align: right;\n",
       "    }\n",
       "</style>\n",
       "<table border=\"1\" class=\"dataframe\">\n",
       "  <thead>\n",
       "    <tr style=\"text-align: right;\">\n",
       "      <th></th>\n",
       "      <th>from</th>\n",
       "      <th>to</th>\n",
       "      <th>year</th>\n",
       "      <th>value</th>\n",
       "      <th>country_id</th>\n",
       "    </tr>\n",
       "  </thead>\n",
       "  <tbody>\n",
       "    <tr>\n",
       "      <th>18</th>\n",
       "      <td>Belgium</td>\n",
       "      <td>Netherlands</td>\n",
       "      <td>2022</td>\n",
       "      <td>4780.0</td>\n",
       "      <td>NLD</td>\n",
       "    </tr>\n",
       "    <tr>\n",
       "      <th>29</th>\n",
       "      <td>Bulgaria</td>\n",
       "      <td>Netherlands</td>\n",
       "      <td>2022</td>\n",
       "      <td>5112.0</td>\n",
       "      <td>NLD</td>\n",
       "    </tr>\n",
       "  </tbody>\n",
       "</table>\n",
       "</div>"
      ],
      "text/plain": [
       "        from           to  year   value country_id\n",
       "18   Belgium  Netherlands  2022  4780.0        NLD\n",
       "29  Bulgaria  Netherlands  2022  5112.0        NLD"
      ]
     },
     "execution_count": 7,
     "metadata": {},
     "output_type": "execute_result"
    }
   ],
   "source": [
    "nld_add_long = pd.read_csv(\"nld_inbound.csv\")\n",
    "nld_add_long  = nld_add_long.dropna()\n",
    "nld_add_long['year'] = nld_add_long['year'].astype(str)\n",
    "nld_add_long['country_id'] = 'NLD'\n",
    "nld_add_long.head(2)"
   ]
  },
  {
   "cell_type": "markdown",
   "metadata": {},
   "source": [
    "Add China inbound students"
   ]
  },
  {
   "cell_type": "code",
   "execution_count": 8,
   "metadata": {},
   "outputs": [
    {
     "data": {
      "text/html": [
       "<div>\n",
       "<style scoped>\n",
       "    .dataframe tbody tr th:only-of-type {\n",
       "        vertical-align: middle;\n",
       "    }\n",
       "\n",
       "    .dataframe tbody tr th {\n",
       "        vertical-align: top;\n",
       "    }\n",
       "\n",
       "    .dataframe thead th {\n",
       "        text-align: right;\n",
       "    }\n",
       "</style>\n",
       "<table border=\"1\" class=\"dataframe\">\n",
       "  <thead>\n",
       "    <tr style=\"text-align: right;\">\n",
       "      <th></th>\n",
       "      <th>from</th>\n",
       "      <th>to</th>\n",
       "      <th>year</th>\n",
       "      <th>value</th>\n",
       "      <th>country_id</th>\n",
       "    </tr>\n",
       "  </thead>\n",
       "  <tbody>\n",
       "    <tr>\n",
       "      <th>0</th>\n",
       "      <td>India</td>\n",
       "      <td>China</td>\n",
       "      <td>2017</td>\n",
       "      <td>23198</td>\n",
       "      <td>CHN</td>\n",
       "    </tr>\n",
       "    <tr>\n",
       "      <th>1</th>\n",
       "      <td>India</td>\n",
       "      <td>China</td>\n",
       "      <td>2022</td>\n",
       "      <td>23198</td>\n",
       "      <td>CHN</td>\n",
       "    </tr>\n",
       "  </tbody>\n",
       "</table>\n",
       "</div>"
      ],
      "text/plain": [
       "    from     to  year  value country_id\n",
       "0  India  China  2017  23198        CHN\n",
       "1  India  China  2022  23198        CHN"
      ]
     },
     "execution_count": 8,
     "metadata": {},
     "output_type": "execute_result"
    }
   ],
   "source": [
    "china_add_long = pd.read_csv(\"china_inbound.csv\")\n",
    "china_add_long  = china_add_long.dropna()\n",
    "china_add_long['year'] = china_add_long['year'].astype(str)\n",
    "china_add_long['country_id'] = 'CHN'\n",
    "china_add_long.head(2)"
   ]
  },
  {
   "cell_type": "markdown",
   "metadata": {},
   "source": [
    "Extract labels and country names from the UIS dataset"
   ]
  },
  {
   "cell_type": "code",
   "execution_count": 9,
   "metadata": {},
   "outputs": [
    {
     "name": "stdout",
     "output_type": "stream",
     "text": [
      "(463913, 6)\n"
     ]
    },
    {
     "data": {
      "text/html": [
       "<div>\n",
       "<style scoped>\n",
       "    .dataframe tbody tr th:only-of-type {\n",
       "        vertical-align: middle;\n",
       "    }\n",
       "\n",
       "    .dataframe tbody tr th {\n",
       "        vertical-align: top;\n",
       "    }\n",
       "\n",
       "    .dataframe thead th {\n",
       "        text-align: right;\n",
       "    }\n",
       "</style>\n",
       "<table border=\"1\" class=\"dataframe\">\n",
       "  <thead>\n",
       "    <tr style=\"text-align: right;\">\n",
       "      <th></th>\n",
       "      <th>indicator_id</th>\n",
       "      <th>country_id</th>\n",
       "      <th>year</th>\n",
       "      <th>value</th>\n",
       "      <th>from</th>\n",
       "      <th>to</th>\n",
       "    </tr>\n",
       "  </thead>\n",
       "  <tbody>\n",
       "    <tr>\n",
       "      <th>0</th>\n",
       "      <td>26421</td>\n",
       "      <td>ABW</td>\n",
       "      <td>2003</td>\n",
       "      <td>0</td>\n",
       "      <td>Algeria</td>\n",
       "      <td>Aruba</td>\n",
       "    </tr>\n",
       "  </tbody>\n",
       "</table>\n",
       "</div>"
      ],
      "text/plain": [
       "  indicator_id country_id  year  value     from     to\n",
       "0        26421        ABW  2003      0  Algeria  Aruba"
      ]
     },
     "execution_count": 9,
     "metadata": {},
     "output_type": "execute_result"
    }
   ],
   "source": [
    "from_to_labels = labels[~labels['INDICATOR_ID'].isin([26637,26638,43188])]\n",
    "from_to_labels['from'] = from_to_labels['INDICATOR_LABEL_EN'].apply(lambda x:x.split('from ')[1].split(', both sexes (number)')[0].replace('the ',''))\n",
    "from_to_labels.head(1)\n",
    "total_from_to = national[national['indicator_id'].isin(from_to_labels['INDICATOR_ID'].unique())]\n",
    "total_from_to = pd.merge(total_from_to,from_to_labels,left_on='indicator_id',right_on='INDICATOR_ID',how='left')\n",
    "total_from_to = pd.merge(total_from_to,country_names,left_on='country_id',right_on='COUNTRY_ID',how='left')\n",
    "total_from_to = total_from_to.rename(columns={'COUNTRY_NAME_EN':'to'})\n",
    "total_from_to =total_from_to[['indicator_id','country_id','year','value','from','to']]\n",
    "total_from_to['value'] = total_from_to['value'].astype(int)\n",
    "total_from_to['year'] = total_from_to['year'].astype(str)\n",
    "print(total_from_to.shape)\n",
    "total_from_to.head(1)\n"
   ]
  },
  {
   "cell_type": "markdown",
   "metadata": {},
   "source": [
    "Delete empty 2022 rows for the Netherlands"
   ]
  },
  {
   "cell_type": "code",
   "execution_count": 10,
   "metadata": {},
   "outputs": [
    {
     "name": "stdout",
     "output_type": "stream",
     "text": [
      "(463912, 6)\n"
     ]
    },
    {
     "data": {
      "text/html": [
       "<div>\n",
       "<style scoped>\n",
       "    .dataframe tbody tr th:only-of-type {\n",
       "        vertical-align: middle;\n",
       "    }\n",
       "\n",
       "    .dataframe tbody tr th {\n",
       "        vertical-align: top;\n",
       "    }\n",
       "\n",
       "    .dataframe thead th {\n",
       "        text-align: right;\n",
       "    }\n",
       "</style>\n",
       "<table border=\"1\" class=\"dataframe\">\n",
       "  <thead>\n",
       "    <tr style=\"text-align: right;\">\n",
       "      <th></th>\n",
       "      <th>indicator_id</th>\n",
       "      <th>country_id</th>\n",
       "      <th>year</th>\n",
       "      <th>value</th>\n",
       "      <th>from</th>\n",
       "      <th>to</th>\n",
       "    </tr>\n",
       "  </thead>\n",
       "  <tbody>\n",
       "    <tr>\n",
       "      <th>0</th>\n",
       "      <td>26421</td>\n",
       "      <td>ABW</td>\n",
       "      <td>2003</td>\n",
       "      <td>0</td>\n",
       "      <td>Algeria</td>\n",
       "      <td>Aruba</td>\n",
       "    </tr>\n",
       "    <tr>\n",
       "      <th>1</th>\n",
       "      <td>26421</td>\n",
       "      <td>ABW</td>\n",
       "      <td>2004</td>\n",
       "      <td>0</td>\n",
       "      <td>Algeria</td>\n",
       "      <td>Aruba</td>\n",
       "    </tr>\n",
       "  </tbody>\n",
       "</table>\n",
       "</div>"
      ],
      "text/plain": [
       "  indicator_id country_id  year  value     from     to\n",
       "0        26421        ABW  2003      0  Algeria  Aruba\n",
       "1        26421        ABW  2004      0  Algeria  Aruba"
      ]
     },
     "execution_count": 10,
     "metadata": {},
     "output_type": "execute_result"
    }
   ],
   "source": [
    "total_from_to = total_from_to[~((total_from_to['to']=='Netherlands') & (total_from_to['year']=='2022'))]\n",
    "print(total_from_to.shape)\n",
    "total_from_to.head(2)"
   ]
  },
  {
   "cell_type": "markdown",
   "metadata": {},
   "source": [
    "Union initial UIS dataset and absent countries datasets"
   ]
  },
  {
   "cell_type": "code",
   "execution_count": 11,
   "metadata": {},
   "outputs": [
    {
     "name": "stdout",
     "output_type": "stream",
     "text": [
      "(463912, 6)\n",
      "(464215, 6)\n"
     ]
    },
    {
     "data": {
      "text/html": [
       "<div>\n",
       "<style scoped>\n",
       "    .dataframe tbody tr th:only-of-type {\n",
       "        vertical-align: middle;\n",
       "    }\n",
       "\n",
       "    .dataframe tbody tr th {\n",
       "        vertical-align: top;\n",
       "    }\n",
       "\n",
       "    .dataframe thead th {\n",
       "        text-align: right;\n",
       "    }\n",
       "</style>\n",
       "<table border=\"1\" class=\"dataframe\">\n",
       "  <thead>\n",
       "    <tr style=\"text-align: right;\">\n",
       "      <th></th>\n",
       "      <th>indicator_id</th>\n",
       "      <th>country_id</th>\n",
       "      <th>year</th>\n",
       "      <th>value</th>\n",
       "      <th>from</th>\n",
       "      <th>to</th>\n",
       "    </tr>\n",
       "  </thead>\n",
       "  <tbody>\n",
       "    <tr>\n",
       "      <th>0</th>\n",
       "      <td>26421</td>\n",
       "      <td>ABW</td>\n",
       "      <td>2003</td>\n",
       "      <td>0.0</td>\n",
       "      <td>Algeria</td>\n",
       "      <td>Aruba</td>\n",
       "    </tr>\n",
       "    <tr>\n",
       "      <th>1</th>\n",
       "      <td>26421</td>\n",
       "      <td>ABW</td>\n",
       "      <td>2004</td>\n",
       "      <td>0.0</td>\n",
       "      <td>Algeria</td>\n",
       "      <td>Aruba</td>\n",
       "    </tr>\n",
       "  </tbody>\n",
       "</table>\n",
       "</div>"
      ],
      "text/plain": [
       "  indicator_id country_id  year  value     from     to\n",
       "0        26421        ABW  2003    0.0  Algeria  Aruba\n",
       "1        26421        ABW  2004    0.0  Algeria  Aruba"
      ]
     },
     "execution_count": 11,
     "metadata": {},
     "output_type": "execute_result"
    }
   ],
   "source": [
    "print(total_from_to.shape)\n",
    "total_from_to = pd.concat([total_from_to,usa_add_long,kaz_add_long,nld_add_long,china_add_long])\n",
    "print(total_from_to.shape)\n",
    "total_from_to.head(2)"
   ]
  },
  {
   "cell_type": "markdown",
   "metadata": {},
   "source": [
    "Replace long country names by the shorter ones to save some space in charts"
   ]
  },
  {
   "cell_type": "code",
   "execution_count": 12,
   "metadata": {},
   "outputs": [],
   "source": [
    "total_from_to.loc[total_from_to['from']=='Iran (Islamic Republic of)','from']='Iran'\n",
    "total_from_to.loc[total_from_to['from']=='Islamic Republic of Iran','from']='Iran'\n",
    "total_from_to.loc[total_from_to['from']=='United Kingdom of Great Britain and Northern Ireland','from']='United Kingdom'\n",
    "total_from_to.loc[total_from_to['from']=='China, Hong Kong Special Administrative Region','from']='Hong Kong'\n",
    "total_from_to.loc[total_from_to['from']=='Hong Kong, Special Administrative Region of China','from']='Hong Kong'\n",
    "total_from_to.loc[total_from_to['from']=='China, Macao Special Administrative Region','from']='Macao'\n",
    "total_from_to.loc[total_from_to['from']=='Macao, Special Administrative Region of China','from']='Macao'\n",
    "total_from_to.loc[total_from_to['from']=='United States of America','from']='USA'\n",
    "total_from_to.loc[total_from_to['from']=='United States','from']='USA'\n",
    "total_from_to.loc[total_from_to['from']=='United Republic of Tanzania','from']='Tanzania'\n",
    "total_from_to.loc[total_from_to['from']==\"Lao People's Democratic Republic\",'from'] = 'Lao'\n",
    "total_from_to.loc[total_from_to['from']==\"Turks and Caicos Islands\",'from'] = 'Turks and Caicos'\n",
    "total_from_to.loc[total_from_to['from']==\"Russian Federation\",'from'] = 'Russia'\n",
    "total_from_to.loc[total_from_to['from']==\"Republic of Moldova\",'from'] = 'Moldova'\n",
    "total_from_to.loc[total_from_to['to']=='Iran (Islamic Republic of)','to']='Iran'\n",
    "total_from_to.loc[total_from_to['to']=='Islamic Republic of Iran','to']='Iran'\n",
    "total_from_to.loc[total_from_to['to']=='United Kingdom of Great Britain and Northern Ireland','to']='United Kingdom'\n",
    "total_from_to.loc[total_from_to['to']=='China, Hong Kong Special Administrative Region','to']='Hong Kong'\n",
    "total_from_to.loc[total_from_to['to']=='Hong Kong, Special Administrative Region of China','to']='Hong Kong'\n",
    "total_from_to.loc[total_from_to['to']=='China, Macao Special Administrative Region','to']='Macao'\n",
    "total_from_to.loc[total_from_to['to']=='Macao, Special Administrative Region of China','to']='Macao'\n",
    "total_from_to.loc[total_from_to['to']=='United States of America','to']='USA'\n",
    "total_from_to.loc[total_from_to['to']=='United States','to']='USA'\n",
    "total_from_to.loc[total_from_to['to']=='United Republic of Tanzania','to']='Tanzania'\n",
    "total_from_to.loc[total_from_to['to']==\"Lao People's Democratic Republic\",'to'] = 'Lao'\n",
    "total_from_to.loc[total_from_to['to']==\"Turks and Caicos Islands\",'to'] = 'Turks and Caicos'\n",
    "total_from_to.loc[total_from_to['to']==\"Russian Federation\",'to'] = 'Russia'\n",
    "total_from_to.loc[total_from_to['to']==\"Republic of Moldova\",'to'] = 'Moldova'"
   ]
  },
  {
   "cell_type": "markdown",
   "metadata": {},
   "source": [
    "Calculating numbers for International Education Market and drawing sharts"
   ]
  },
  {
   "cell_type": "code",
   "execution_count": 13,
   "metadata": {},
   "outputs": [
    {
     "data": {
      "text/html": [
       "<div>\n",
       "<style scoped>\n",
       "    .dataframe tbody tr th:only-of-type {\n",
       "        vertical-align: middle;\n",
       "    }\n",
       "\n",
       "    .dataframe tbody tr th {\n",
       "        vertical-align: top;\n",
       "    }\n",
       "\n",
       "    .dataframe thead th {\n",
       "        text-align: right;\n",
       "    }\n",
       "</style>\n",
       "<table border=\"1\" class=\"dataframe\">\n",
       "  <thead>\n",
       "    <tr style=\"text-align: right;\">\n",
       "      <th>year</th>\n",
       "      <th>to</th>\n",
       "      <th>2017</th>\n",
       "      <th>2019</th>\n",
       "      <th>2020</th>\n",
       "      <th>2021</th>\n",
       "      <th>2022</th>\n",
       "    </tr>\n",
       "  </thead>\n",
       "  <tbody>\n",
       "    <tr>\n",
       "      <th>0</th>\n",
       "      <td>Afghanistan</td>\n",
       "      <td>NaN</td>\n",
       "      <td>NaN</td>\n",
       "      <td>0.0</td>\n",
       "      <td>NaN</td>\n",
       "      <td>NaN</td>\n",
       "    </tr>\n",
       "    <tr>\n",
       "      <th>1</th>\n",
       "      <td>Albania</td>\n",
       "      <td>NaN</td>\n",
       "      <td>2156.0</td>\n",
       "      <td>2146.0</td>\n",
       "      <td>1944.0</td>\n",
       "      <td>1731.0</td>\n",
       "    </tr>\n",
       "  </tbody>\n",
       "</table>\n",
       "</div>"
      ],
      "text/plain": [
       "year           to  2017    2019    2020    2021    2022\n",
       "0     Afghanistan   NaN     NaN     0.0     NaN     NaN\n",
       "1         Albania   NaN  2156.0  2146.0  1944.0  1731.0"
      ]
     },
     "execution_count": 13,
     "metadata": {},
     "output_type": "execute_result"
    }
   ],
   "source": [
    "total_years = total_from_to.groupby(['year','to'])['value'].sum().reset_index()\n",
    "#raw data from Unesco and additional by-outbound-countries datasets. Data for country level will be added or corrected later\n",
    "#this df allows to see if we have data for a country in a distinct year\n",
    "df_country = total_years.pivot(index=['to'], columns='year', values='value').reset_index()\n",
    "df_country = df_country[['to','2017','2019','2020','2021','2022']]\n",
    "df_country.head(2)"
   ]
  },
  {
   "cell_type": "markdown",
   "metadata": {},
   "source": [
    "<h4>Inbound by Countries</h4>"
   ]
  },
  {
   "cell_type": "markdown",
   "metadata": {},
   "source": [
    "By inbound reports, country-to-country"
   ]
  },
  {
   "cell_type": "code",
   "execution_count": 14,
   "metadata": {},
   "outputs": [
    {
     "name": "stderr",
     "output_type": "stream",
     "text": [
      "C:\\Users\\yuliy\\AppData\\Local\\Temp\\ipykernel_16240\\3067082320.py:2: SettingWithCopyWarning: \n",
      "A value is trying to be set on a copy of a slice from a DataFrame.\n",
      "Try using .loc[row_indexer,col_indexer] = value instead\n",
      "\n",
      "See the caveats in the documentation: https://pandas.pydata.org/pandas-docs/stable/user_guide/indexing.html#returning-a-view-versus-a-copy\n",
      "  countries['year'] = countries['year'].astype(str)\n"
     ]
    },
    {
     "data": {
      "text/html": [
       "<div>\n",
       "<style scoped>\n",
       "    .dataframe tbody tr th:only-of-type {\n",
       "        vertical-align: middle;\n",
       "    }\n",
       "\n",
       "    .dataframe tbody tr th {\n",
       "        vertical-align: top;\n",
       "    }\n",
       "\n",
       "    .dataframe thead th {\n",
       "        text-align: right;\n",
       "    }\n",
       "</style>\n",
       "<table border=\"1\" class=\"dataframe\">\n",
       "  <thead>\n",
       "    <tr style=\"text-align: right;\">\n",
       "      <th>year</th>\n",
       "      <th>from</th>\n",
       "      <th>to</th>\n",
       "      <th>2017</th>\n",
       "      <th>2022</th>\n",
       "    </tr>\n",
       "  </thead>\n",
       "  <tbody>\n",
       "    <tr>\n",
       "      <th>0</th>\n",
       "      <td>Afghanistan</td>\n",
       "      <td>Albania</td>\n",
       "      <td>0.0</td>\n",
       "      <td>0.0</td>\n",
       "    </tr>\n",
       "    <tr>\n",
       "      <th>1</th>\n",
       "      <td>Afghanistan</td>\n",
       "      <td>Andorra</td>\n",
       "      <td>0.0</td>\n",
       "      <td>0.0</td>\n",
       "    </tr>\n",
       "  </tbody>\n",
       "</table>\n",
       "</div>"
      ],
      "text/plain": [
       "year         from       to  2017  2022\n",
       "0     Afghanistan  Albania   0.0   0.0\n",
       "1     Afghanistan  Andorra   0.0   0.0"
      ]
     },
     "execution_count": 14,
     "metadata": {},
     "output_type": "execute_result"
    }
   ],
   "source": [
    "countries = total_from_to[total_from_to['year'].isin(['2017','2022'])]\n",
    "countries['year'] = countries['year'].astype(str)\n",
    "countries = countries[countries['from']!=countries['to']]\n",
    "countries = countries.groupby(['year','from','to'])['value'].sum().reset_index()\n",
    "countries = countries.pivot(index=['from','to'], columns='year', values='value').reset_index()\n",
    "countries = countries.fillna(0)\n",
    "countries['from'] = countries['from'].apply(lambda x:x.strip())\n",
    "countries['to'] = countries['to'].apply(lambda x:x.strip())\n",
    "countries.head(2)"
   ]
  },
  {
   "cell_type": "code",
   "execution_count": 16,
   "metadata": {},
   "outputs": [],
   "source": [
    "# After exploring dataset we can see that data for some years for some countries ar ealso absent. \n",
    "# Earlier we added some critical countries where we can get full data in country-to-country level\n",
    "# That is not possible for every absent country, so for several countries we only add a total sum of inbound students \n",
    "# countries with large inbound flows that are absent in the UNESCO dataset:\n",
    "# Egypt: 2017, 2022\n",
    "# Iran: 2022\n",
    "# Israel: 2017, 2022\n",
    "# Panama: 2017\n",
    "# Singapore: 2017, 2022\n",
    "# Philippines: 2017, 2022\n",
    "# Thailand: 2017\n",
    "# Togo: 2017,2022\n",
    "# Ukraine: 2022\n",
    "# Uruguay: 2017,2022\n",
    "# Mexico:2022\n",
    "# Cuba: 2022\n",
    "# Yemen\n",
    "# Zambia\n",
    "# Zimbabwe\n",
    "#Indonesia 2022"
   ]
  },
  {
   "cell_type": "markdown",
   "metadata": {},
   "source": [
    "Add total inbound students for absent countries where we don't have disctinct values by source countries"
   ]
  },
  {
   "cell_type": "code",
   "execution_count": 15,
   "metadata": {},
   "outputs": [
    {
     "data": {
      "text/html": [
       "<div>\n",
       "<style scoped>\n",
       "    .dataframe tbody tr th:only-of-type {\n",
       "        vertical-align: middle;\n",
       "    }\n",
       "\n",
       "    .dataframe tbody tr th {\n",
       "        vertical-align: top;\n",
       "    }\n",
       "\n",
       "    .dataframe thead th {\n",
       "        text-align: right;\n",
       "    }\n",
       "</style>\n",
       "<table border=\"1\" class=\"dataframe\">\n",
       "  <thead>\n",
       "    <tr style=\"text-align: right;\">\n",
       "      <th></th>\n",
       "      <th>to</th>\n",
       "      <th>2017</th>\n",
       "      <th>2022</th>\n",
       "    </tr>\n",
       "  </thead>\n",
       "  <tbody>\n",
       "    <tr>\n",
       "      <th>0</th>\n",
       "      <td>Albania</td>\n",
       "      <td>0.0</td>\n",
       "      <td>1731.0</td>\n",
       "    </tr>\n",
       "  </tbody>\n",
       "</table>\n",
       "</div>"
      ],
      "text/plain": [
       "        to  2017    2022\n",
       "0  Albania   0.0  1731.0"
      ]
     },
     "execution_count": 15,
     "metadata": {},
     "output_type": "execute_result"
    }
   ],
   "source": [
    "#Data sources are cited before\n",
    "inbound = pd.merge(countries.groupby(['to'])['2017'].sum().reset_index(),\n",
    "                 countries.groupby(['to'])['2022'].sum().reset_index(),\n",
    "                 on = 'to',\n",
    "                 how='left')\n",
    "inbound.fillna(0,inplace=True)\n",
    "\n",
    "new_data = [\n",
    "    {'to': 'Egypt', '2017': 51162,'2022':69021} #2021 data https://www.statista.com/statistics/1193448/number-of-students-in-higher-education-in-egypt-by-nationality/\n",
    "]\n",
    "new_data_df = pd.DataFrame(new_data)\n",
    "inbound = pd.concat([inbound,new_data_df])\n",
    "\n",
    "inbound.loc[inbound['to']=='Thailand','2017']=43821\n",
    "inbound.loc[inbound['to']=='Mexico','2022']=51659\n",
    "inbound.loc[inbound['to']=='Iran','2022']=94406\n",
    "inbound.loc[inbound['to']=='Ukraine','2022']=50870\n",
    "inbound.loc[inbound['to']=='Cuba','2022']=7773\n",
    "inbound.loc[inbound['to']=='Kazakhstan','2022']=26080 #add values by countries and also in total, as not every source is known\n",
    "inbound.loc[inbound['to']=='China','2022']=253177\n",
    "inbound.loc[inbound['to']=='China','2017']=489172\n",
    "inbound.loc[inbound['to']=='Netherlands','2022']=122287\n",
    "inbound.head(1)\n"
   ]
  },
  {
   "cell_type": "markdown",
   "metadata": {},
   "source": [
    "Calc total sum for each year including rows where one of the years is empty"
   ]
  },
  {
   "cell_type": "code",
   "execution_count": 16,
   "metadata": {},
   "outputs": [
    {
     "data": {
      "text/html": [
       "<div>\n",
       "<style scoped>\n",
       "    .dataframe tbody tr th:only-of-type {\n",
       "        vertical-align: middle;\n",
       "    }\n",
       "\n",
       "    .dataframe tbody tr th {\n",
       "        vertical-align: top;\n",
       "    }\n",
       "\n",
       "    .dataframe thead th {\n",
       "        text-align: right;\n",
       "    }\n",
       "</style>\n",
       "<table border=\"1\" class=\"dataframe\">\n",
       "  <thead>\n",
       "    <tr style=\"text-align: right;\">\n",
       "      <th></th>\n",
       "      <th>2017</th>\n",
       "      <th>2022</th>\n",
       "      <th>2022/2017,%</th>\n",
       "    </tr>\n",
       "  </thead>\n",
       "  <tbody>\n",
       "    <tr>\n",
       "      <th>0</th>\n",
       "      <td>5147503.0</td>\n",
       "      <td>6283374.0</td>\n",
       "      <td>+22</td>\n",
       "    </tr>\n",
       "  </tbody>\n",
       "</table>\n",
       "</div>"
      ],
      "text/plain": [
       "        2017       2022 2022/2017,%\n",
       "0  5147503.0  6283374.0         +22"
      ]
     },
     "execution_count": 16,
     "metadata": {},
     "output_type": "execute_result"
    }
   ],
   "source": [
    "world = pd.DataFrame({'2017':[inbound['2017'].sum()],'2022':[inbound['2022'].sum()]})\n",
    "#calc total change\n",
    "world['2022/2017,%'] = round(world['2022']/world['2017']*100,0).astype(int)-100\n",
    "world['2022/2017,%'] = world['2022/2017,%'].apply(lambda x:'+'+str(x) if x>0 else str(x))\n",
    "world\n"
   ]
  },
  {
   "cell_type": "markdown",
   "metadata": {},
   "source": [
    "Draw total sums chart"
   ]
  },
  {
   "cell_type": "code",
   "execution_count": 17,
   "metadata": {},
   "outputs": [
    {
     "name": "stdout",
     "output_type": "stream",
     "text": [
      "        2017       2022 2022/2017,%\n",
      "0  5147503.0  6283374.0         +22\n"
     ]
    }
   ],
   "source": [
    "color_2017 = '#686D76'\n",
    "color_2022 = '#373A40'\n",
    "fig = go.Figure()\n",
    "trace1 = go.Bar(x=[world.columns[0]],\n",
    "    y=world['2017'],\n",
    "    name=f'2017',\n",
    "    text=[f\"{value/1000000:.1f}m\" if value < 1000 else f\"{value/1000000:.1f}m\" for value in world['2017']],  # Value labels in thousands\n",
    "    textposition='auto',\n",
    "    textfont=dict(size=14),\n",
    "    marker_color=color_2017,\n",
    "    width=[0.4]\n",
    "    )\n",
    "trace2 = go.Bar(x=[world.columns[1]],\n",
    "    y=world['2022'],\n",
    "    name=f'2022',\n",
    "    text=[f\"{value/1000000:.1f}m\\n({world['2022/2017,%'].values[j]}%)\" if value < 1000 \n",
    "          else f\"{value/1000000:.1f}m<br><b>{world['2022/2017,%'].values[j]}%</b>\" for j, value in enumerate(world['2022'])],  # Value labels in thousands\n",
    "    textposition='auto',\n",
    "    textfont=dict(size=14),\n",
    "    marker_color=color_2022,\n",
    "    width=[0.4]\n",
    "    )\n",
    "years = ['2017','2022']\n",
    "fig.add_trace(trace1)\n",
    "fig.add_trace(trace2)\n",
    "fig.update_layout(\n",
    "    yaxis_title='Число студентов, тыс.',\n",
    "    barmode='group',  # Group bars together\n",
    "    height=400,\n",
    "    width=600,\n",
    "    plot_bgcolor='white',\n",
    "    title=dict(text=\"Входящий поток иностранных студентов по группам стран с 2017 по 2022 г.\", \n",
    "               font=dict(size=14), \n",
    "               yref='paper'),\n",
    "    showlegend=False,\n",
    "    bargap=0.04,\n",
    "    annotations=[\n",
    "            dict(\n",
    "                x=0.35,  # Center the annotation\n",
    "                y=-0.24,  # Move it below the chart\n",
    "                text=\"@Conspect Labs, Sources: UNESCO, OpenDoorsData, Nuffic, IIE, Statista, <br>MoE of Kazakhstan, Iran, Egypt, Thailand\",\n",
    "                showarrow=False,\n",
    "                xref=\"paper\",  # Use paper coordinates\n",
    "                yref=\"paper\",\n",
    "                font=dict(size=10, color=\"grey\"),\n",
    "                align=\"left\"\n",
    "        )\n",
    "        ]\n",
    ")\n",
    "\n",
    "pio.write_image(fig, \"world_higher_ed_market_2017_2022.png\")\n",
    "# fig.show()\n",
    "print(world)"
   ]
  },
  {
   "cell_type": "markdown",
   "metadata": {},
   "source": [
    "![Alt Text](world_higher_ed_market_2017_2022.png)"
   ]
  },
  {
   "cell_type": "markdown",
   "metadata": {},
   "source": [
    "Inbound students"
   ]
  },
  {
   "cell_type": "markdown",
   "metadata": {},
   "source": [
    "Return to the country-level analysis. Remove rows where there is at least one zero value, as we need year-to-year comparisons. # This could be a real zero, but small countries are still not needed, so get rid of them too. Then calculate the change and draw a chart."
   ]
  },
  {
   "cell_type": "code",
   "execution_count": 18,
   "metadata": {},
   "outputs": [
    {
     "name": "stderr",
     "output_type": "stream",
     "text": [
      "C:\\Users\\yuliy\\AppData\\Local\\Temp\\ipykernel_16240\\3433500544.py:3: SettingWithCopyWarning:\n",
      "\n",
      "\n",
      "A value is trying to be set on a copy of a slice from a DataFrame.\n",
      "Try using .loc[row_indexer,col_indexer] = value instead\n",
      "\n",
      "See the caveats in the documentation: https://pandas.pydata.org/pandas-docs/stable/user_guide/indexing.html#returning-a-view-versus-a-copy\n",
      "\n",
      "C:\\Users\\yuliy\\AppData\\Local\\Temp\\ipykernel_16240\\3433500544.py:10: SettingWithCopyWarning:\n",
      "\n",
      "\n",
      "A value is trying to be set on a copy of a slice from a DataFrame.\n",
      "Try using .loc[row_indexer,col_indexer] = value instead\n",
      "\n",
      "See the caveats in the documentation: https://pandas.pydata.org/pandas-docs/stable/user_guide/indexing.html#returning-a-view-versus-a-copy\n",
      "\n"
     ]
    },
    {
     "data": {
      "text/html": [
       "<div>\n",
       "<style scoped>\n",
       "    .dataframe tbody tr th:only-of-type {\n",
       "        vertical-align: middle;\n",
       "    }\n",
       "\n",
       "    .dataframe tbody tr th {\n",
       "        vertical-align: top;\n",
       "    }\n",
       "\n",
       "    .dataframe thead th {\n",
       "        text-align: right;\n",
       "    }\n",
       "</style>\n",
       "<table border=\"1\" class=\"dataframe\">\n",
       "  <thead>\n",
       "    <tr style=\"text-align: right;\">\n",
       "      <th></th>\n",
       "      <th>2017</th>\n",
       "      <th>2022</th>\n",
       "      <th>2022/2017,%</th>\n",
       "      <th>group</th>\n",
       "    </tr>\n",
       "    <tr>\n",
       "      <th>to</th>\n",
       "      <th></th>\n",
       "      <th></th>\n",
       "      <th></th>\n",
       "      <th></th>\n",
       "    </tr>\n",
       "  </thead>\n",
       "  <tbody>\n",
       "    <tr>\n",
       "      <th>USA</th>\n",
       "      <td>984170.0</td>\n",
       "      <td>1035161.0</td>\n",
       "      <td>+5</td>\n",
       "      <td>Больше 100 тыс.</td>\n",
       "    </tr>\n",
       "    <tr>\n",
       "      <th>United Kingdom</th>\n",
       "      <td>435389.0</td>\n",
       "      <td>674440.0</td>\n",
       "      <td>+55</td>\n",
       "      <td>Больше 100 тыс.</td>\n",
       "    </tr>\n",
       "  </tbody>\n",
       "</table>\n",
       "</div>"
      ],
      "text/plain": [
       "                    2017       2022 2022/2017,%            group\n",
       "to                                                              \n",
       "USA             984170.0  1035161.0          +5  Больше 100 тыс.\n",
       "United Kingdom  435389.0   674440.0         +55  Больше 100 тыс."
      ]
     },
     "execution_count": 18,
     "metadata": {},
     "output_type": "execute_result"
    }
   ],
   "source": [
    "inbound_no_zero = inbound[(inbound['2017'] != 0) & (inbound['2022'] != 0)]\n",
    "\n",
    "inbound_no_zero['2022/2017,%'] = inbound_no_zero.apply(\n",
    "    lambda row: int(round(row['2022'] / row['2017'] * 100, 0)) - 100\n",
    "    if row['2022'] != 0 and row['2017'] != 0 else None,\n",
    "    axis=1\n",
    ")\n",
    "\n",
    "# Format the output to add '+' sign for positive values\n",
    "inbound_no_zero['2022/2017,%'] = inbound_no_zero['2022/2017,%'].apply(lambda x: '+' + str(x) if x > 0 else str(x))\n",
    "\n",
    "#shorten the countries list by inbound numbers\n",
    "inbound_no_zero = inbound_no_zero[inbound_no_zero['2022']>5000]\n",
    "\n",
    "#And assign groups to make clear charts\n",
    "def group(x):\n",
    "    if x<20000:\n",
    "        group_name = '5-20 тыс.'\n",
    "    elif 20000<=x<50000:\n",
    "        group_name = '20-50 тыс.'\n",
    "    elif 50000<=x<100000:\n",
    "        group_name = '50-100 тыс.'\n",
    "    else:\n",
    "        group_name = 'Больше 100 тыс.'\n",
    "    return group_name\n",
    "inbound_no_zero['group'] = inbound_no_zero['2022'].apply(lambda x: group(x))\n",
    "inbound_no_zero.set_index('to', inplace=True)\n",
    "inbound_no_zero = inbound_no_zero.sort_values(by='2022',ascending=False)\n",
    "inbound_no_zero.head(2)"
   ]
  },
  {
   "cell_type": "markdown",
   "metadata": {},
   "source": [
    "Draw a chart for inbound students for every country"
   ]
  },
  {
   "cell_type": "code",
   "execution_count": 19,
   "metadata": {},
   "outputs": [],
   "source": [
    "n_cols = 2 \n",
    "color_2017 = '#686D76'\n",
    "color_2022 = '#373A40'\n",
    "distinct_color = '#DC5F00'\n",
    "unique_groups = ['Больше 100 тыс.', '50-100 тыс.', '20-50 тыс.','5-20 тыс.']\n",
    "num_plots = len(unique_groups)\n",
    "num_cols = 2  # Maximum of 2 columns\n",
    "num_rows = (num_plots + num_cols - 1) // num_cols  # Calculate the number of rows\n",
    "fig = make_subplots(rows=num_rows, cols=num_cols, subplot_titles=unique_groups,vertical_spacing=0.08 )\n",
    "\n",
    "for i, group in enumerate(unique_groups):\n",
    "    filtered_df = inbound_no_zero[inbound_no_zero['group'] == group]\n",
    "    row_index = i // n_cols + 1\n",
    "    col_index = i % n_cols + 1\n",
    "    \n",
    "    trace1 = go.Bar(x=filtered_df.index,\n",
    "        y=filtered_df['2017'],\n",
    "        name=f'2017 - {group}',\n",
    "        text=[f\"{value/1000:.1f}k\" if value < 1000 else f\"{int(value/1000)}k\" for value in filtered_df['2017']],  # Value labels in thousands\n",
    "        textposition='auto',\n",
    "        textfont=dict(size=12),\n",
    "        marker_color=color_2017,\n",
    "        marker_line=dict(width=6, color=[distinct_color if country == 'Russia' else color_2017 for country in filtered_df.index]) \n",
    "        )\n",
    "    trace2 = go.Bar(x=filtered_df.index,\n",
    "        y=filtered_df['2022'],\n",
    "        name=f'2022 - {group}',\n",
    "        text=[f\"{value/1000:.1f}k {filtered_df['2022/2017,%'].values[j]}%\" if value < 1000 else f\"{int(value/1000)}k {filtered_df['2022/2017,%'].values[j]}%\" for j, value in enumerate(filtered_df['2022'])],  # Value labels in thousands\n",
    "        textposition='auto',\n",
    "        textfont=dict(size=12),\n",
    "        marker_color=color_2022,\n",
    "        marker_line=dict(width=6, color=[distinct_color if country == 'Russia' else color_2022 for country in filtered_df.index]) \n",
    "        )\n",
    "    \n",
    "    fig.add_trace(trace1, row=row_index, col=col_index)\n",
    "    fig.add_trace(trace2, row=row_index, col=col_index)\n",
    "\n",
    "original_annotations = list(fig.layout.annotations if 'annotations' in fig.layout else [])\n",
    "custom_annotation = dict(\n",
    "    x=0.01,\n",
    "    y=-0.1,\n",
    "    text=\"@Conspect Labs, Sources: UNESCO, OpenDoorsData, Nuffic, IIE, Statista, MoE of Kazakhstan, Iran, Egypt, Thailand\",\n",
    "    showarrow=False,\n",
    "    xref=\"paper\",\n",
    "    yref=\"paper\",\n",
    "    font=dict(size=12, color=\"grey\"),\n",
    "    align=\"center\"\n",
    ")       \n",
    "fig.update_layout(\n",
    "        title=dict(text=\"Входящий поток иностранных студентов по группам стран, 2017 и 2022 гг.\", \n",
    "                   font=dict(size=20,color='black'), \n",
    "                #    automargin=True, \n",
    "                   yref='paper'),\n",
    "        # xaxis_title='Country',\n",
    "        yaxis_title='Число студентов, тыс.',\n",
    "        barmode='group',  # Group bars together\n",
    "        height=1400,\n",
    "        width=2000,\n",
    "        plot_bgcolor='white',\n",
    "        annotations=original_annotations + [custom_annotation]\n",
    ")\n",
    "for i in range(1, num_rows + 1):\n",
    "    for j in range(1, num_cols + 1):\n",
    "        fig.update_xaxes(tickangle=45, row=i, col=j)\n",
    "        fig.update_yaxes(gridcolor='lightgrey', row=i, col=j)\n",
    "        # fig.update_xaxes(tickfont=dict(size=14,family='Times'), row=i, col=j)\n",
    "        # fig.update_yaxes(tickfont=dict(size=14, family='Times'), row=i, col=j)\n",
    "        fig.update_xaxes(tickfont=dict(size=12, color='black'), row=i, col=j)\n",
    "        fig.update_yaxes(tickfont=dict(size=12, color='black'), row=i, col=j)\n",
    "fig.update_traces(textfont=dict(size=10),row=2,col=2)\n",
    "fig.update_traces(constraintext='none')\n",
    "pio.write_image(fig, \"total_inbound_students_by_countries_2017_2022_ru.png\")\n",
    "fig.update_layout(\n",
    "        title=dict(text=\"Total inbound students by countries, 2017 и 2022 years\"))\n",
    "pio.write_image(fig, \"total_inbound_students_by_countries_2017_2022_en.png\")\n",
    "# fig.show()\n"
   ]
  },
  {
   "cell_type": "markdown",
   "metadata": {},
   "source": [
    "![Alt Text](total_inbound_students_by_countries_2017_2022_en.png)"
   ]
  },
  {
   "cell_type": "markdown",
   "metadata": {},
   "source": [
    "Draw a Treemap chart to see how much the market is fragmented "
   ]
  },
  {
   "cell_type": "code",
   "execution_count": 20,
   "metadata": {},
   "outputs": [],
   "source": [
    "tree_df = inbound_no_zero[['2022']].reset_index()\n",
    "tree_df['2022'] = tree_df['2022']/1000\n",
    "fig = px.treemap(tree_df,\n",
    "                  path=[px.Constant(\"all\"), 'to'], \n",
    "                  values='2022',\n",
    "                  title= 'Въездные потоки студентов по странам, 2022 г'\n",
    "  )\n",
    "\n",
    "fig.update_traces(root_color=\"lightgrey\",\n",
    "                textinfo=\"label+value\",\n",
    "                texttemplate=\"%{label}<br>%{value:.0f}K\"\n",
    "                )\n",
    "\n",
    "fig.update_layout(margin = dict(t=50, l=25, r=25, b=25),\n",
    "width=1000, height=1000)\n",
    "fig.write_image(\"Inbound_students_treemap.svg\", format=\"svg\")\n",
    "# fig.show()"
   ]
  },
  {
   "cell_type": "markdown",
   "metadata": {},
   "source": [
    "![Alt Text](Inbound_students_treemap.svg)"
   ]
  },
  {
   "cell_type": "markdown",
   "metadata": {},
   "source": [
    "Calculatuing and comparing shares of countries in world higher education market"
   ]
  },
  {
   "cell_type": "code",
   "execution_count": 21,
   "metadata": {},
   "outputs": [
    {
     "data": {
      "text/html": [
       "<div>\n",
       "<style scoped>\n",
       "    .dataframe tbody tr th:only-of-type {\n",
       "        vertical-align: middle;\n",
       "    }\n",
       "\n",
       "    .dataframe tbody tr th {\n",
       "        vertical-align: top;\n",
       "    }\n",
       "\n",
       "    .dataframe thead th {\n",
       "        text-align: right;\n",
       "    }\n",
       "</style>\n",
       "<table border=\"1\" class=\"dataframe\">\n",
       "  <thead>\n",
       "    <tr style=\"text-align: right;\">\n",
       "      <th></th>\n",
       "      <th>2017</th>\n",
       "      <th>2022</th>\n",
       "      <th>2022/2017,%</th>\n",
       "      <th>group</th>\n",
       "      <th>share_2017</th>\n",
       "      <th>share_2022</th>\n",
       "    </tr>\n",
       "    <tr>\n",
       "      <th>to</th>\n",
       "      <th></th>\n",
       "      <th></th>\n",
       "      <th></th>\n",
       "      <th></th>\n",
       "      <th></th>\n",
       "      <th></th>\n",
       "    </tr>\n",
       "  </thead>\n",
       "  <tbody>\n",
       "    <tr>\n",
       "      <th>USA</th>\n",
       "      <td>984170.0</td>\n",
       "      <td>1035161.0</td>\n",
       "      <td>+5</td>\n",
       "      <td>Больше 100 тыс.</td>\n",
       "      <td>19.4</td>\n",
       "      <td>16.6</td>\n",
       "    </tr>\n",
       "    <tr>\n",
       "      <th>United Kingdom</th>\n",
       "      <td>435389.0</td>\n",
       "      <td>674440.0</td>\n",
       "      <td>+55</td>\n",
       "      <td>Больше 100 тыс.</td>\n",
       "      <td>8.6</td>\n",
       "      <td>10.8</td>\n",
       "    </tr>\n",
       "    <tr>\n",
       "      <th>Germany</th>\n",
       "      <td>241497.0</td>\n",
       "      <td>374226.0</td>\n",
       "      <td>+55</td>\n",
       "      <td>Больше 100 тыс.</td>\n",
       "      <td>4.8</td>\n",
       "      <td>6.0</td>\n",
       "    </tr>\n",
       "    <tr>\n",
       "      <th>Australia</th>\n",
       "      <td>375140.0</td>\n",
       "      <td>369923.0</td>\n",
       "      <td>-1</td>\n",
       "      <td>Больше 100 тыс.</td>\n",
       "      <td>7.4</td>\n",
       "      <td>5.9</td>\n",
       "    </tr>\n",
       "    <tr>\n",
       "      <th>Canada</th>\n",
       "      <td>205816.0</td>\n",
       "      <td>336504.0</td>\n",
       "      <td>+63</td>\n",
       "      <td>Больше 100 тыс.</td>\n",
       "      <td>4.1</td>\n",
       "      <td>5.4</td>\n",
       "    </tr>\n",
       "  </tbody>\n",
       "</table>\n",
       "</div>"
      ],
      "text/plain": [
       "                    2017       2022 2022/2017,%            group  share_2017  \\\n",
       "to                                                                             \n",
       "USA             984170.0  1035161.0          +5  Больше 100 тыс.        19.4   \n",
       "United Kingdom  435389.0   674440.0         +55  Больше 100 тыс.         8.6   \n",
       "Germany         241497.0   374226.0         +55  Больше 100 тыс.         4.8   \n",
       "Australia       375140.0   369923.0          -1  Больше 100 тыс.         7.4   \n",
       "Canada          205816.0   336504.0         +63  Больше 100 тыс.         4.1   \n",
       "\n",
       "                share_2022  \n",
       "to                          \n",
       "USA                   16.6  \n",
       "United Kingdom        10.8  \n",
       "Germany                6.0  \n",
       "Australia              5.9  \n",
       "Canada                 5.4  "
      ]
     },
     "execution_count": 21,
     "metadata": {},
     "output_type": "execute_result"
    }
   ],
   "source": [
    "#we need shares calculated for each year\n",
    "inbound_no_zero['share_2017']=round(inbound_no_zero['2017']/inbound_no_zero['2017'].sum()*100,1)\n",
    "inbound_no_zero['share_2022']=round(inbound_no_zero['2022']/inbound_no_zero['2022'].sum()*100,1)\n",
    "inbound_no_zero.head()"
   ]
  },
  {
   "cell_type": "markdown",
   "metadata": {},
   "source": [
    "Draw the bar chart with shares to show their change year-to-year "
   ]
  },
  {
   "cell_type": "code",
   "execution_count": 23,
   "metadata": {},
   "outputs": [],
   "source": [
    "n_cols = 2 \n",
    "color_2017 = '#3486eb'\n",
    "color_2022 = '#173e6e'\n",
    "distinct_color = '#DC5F00'\n",
    "unique_groups = ['Больше 100 тыс.', '50-100 тыс.']\n",
    "\n",
    "filtered_df = inbound_no_zero[inbound_no_zero['group'].isin(unique_groups)].sort_values(by='2022',ascending=False).head(20)\n",
    "# row_index = i // n_cols + 1\n",
    "# col_index = i % n_cols + 1\n",
    "fig = go.Figure()\n",
    "trace1 = go.Bar(x=filtered_df.index,\n",
    "    y=filtered_df['share_2017'],\n",
    "    name=f'2017',\n",
    "    text = [f\"{int(value)}%\" if value > 10 or value == int(value) \n",
    "                            else f\"{value:.1f}%\"\n",
    "                            for value in filtered_df['share_2017']\n",
    "                            ],\n",
    "    textposition='outside',\n",
    "    textfont=dict(size=10),\n",
    "    marker_color=color_2017,\n",
    "    marker_line=dict(width=6, color=[distinct_color if country == 'Russia' else color_2017 for country in filtered_df.index]) \n",
    "    )\n",
    "trace2 = go.Bar(x=filtered_df.index,\n",
    "    y=filtered_df['share_2022'],\n",
    "    name=f'2022',\n",
    "    text = [f\"{int(value)}%\" if value > 10 or value == int(value) \n",
    "                            else f\"{value:.1f}%\" \n",
    "                            for value in filtered_df['share_2022']],\n",
    "    textposition='outside',\n",
    "    textfont=dict(size=10),\n",
    "    marker_color=color_2022,\n",
    "    marker_line=dict(width=3, color=[distinct_color if country == 'Russia' else color_2022 for country in filtered_df.index]) \n",
    "    )\n",
    "\n",
    "fig.add_trace(trace1)\n",
    "fig.add_trace(trace2)\n",
    "\n",
    "original_annotations = list(fig.layout.annotations if 'annotations' in fig.layout else [])\n",
    "custom_annotation = dict(\n",
    "    x=0.01,\n",
    "    y=-0.17,\n",
    "    text=\"@Conspect Labs, Sources: UNESCO, OpenDoorsData, Nuffic, IIE, Statista, MoE of Kazakhstan, Iran, Egypt, Thailand\",\n",
    "    showarrow=False,\n",
    "    xref=\"paper\",\n",
    "    yref=\"paper\",\n",
    "    font=dict(size=10, color=\"grey\"),\n",
    "    align=\"center\"\n",
    ")    \n",
    "   \n",
    "fig.update_layout(\n",
    "        title=dict(text=\"Доли рынка международного образования, 20 стран-лидеров, 2017 и 2022 гг\", \n",
    "                   font=dict(size=14,color='black'), \n",
    "                   yref='paper'),\n",
    "        barmode='group',  \n",
    "        height=600,\n",
    "        width=1400,\n",
    "        plot_bgcolor='white',\n",
    "        margin = dict(t=50, l=50, r=25, b=90),\n",
    "        annotations=original_annotations + [custom_annotation]\n",
    ")\n",
    "fig.update_xaxes(tickangle=45,tickfont=dict(size=10,color='black'))\n",
    "fig.update_yaxes(gridcolor='lightgrey')\n",
    "fig.update_traces(constraintext='none')\n",
    "\n",
    "pio.write_image(fig, \"top_20_world_hihger_education_market_shares_2017_2022_ru.png\")\n",
    "fig.update_layout(\n",
    "        title=dict(text=\"Top 20 world international higher education markets shares, 2017 and 2022 years\", \n",
    "                   font=dict(size=14,color='black'), \n",
    "                   yref='paper'))\n",
    "pio.write_image(fig, \"top_20_world_hihger_education_market_shares_2017_2022_en.png\")\n",
    "# fig.show()"
   ]
  },
  {
   "cell_type": "markdown",
   "metadata": {},
   "source": [
    "![Alt Text](top_20_world_hihger_education_market_shares_2017_2022_en.png)"
   ]
  },
  {
   "cell_type": "markdown",
   "metadata": {},
   "source": [
    "<h4>Outbound by Countries</h4>"
   ]
  },
  {
   "cell_type": "markdown",
   "metadata": {},
   "source": [
    "Exploring outbound internationally mobile tertiary students studying abroad, all countries."
   ]
  },
  {
   "cell_type": "code",
   "execution_count": 24,
   "metadata": {},
   "outputs": [
    {
     "data": {
      "text/html": [
       "<div>\n",
       "<style scoped>\n",
       "    .dataframe tbody tr th:only-of-type {\n",
       "        vertical-align: middle;\n",
       "    }\n",
       "\n",
       "    .dataframe tbody tr th {\n",
       "        vertical-align: top;\n",
       "    }\n",
       "\n",
       "    .dataframe thead th {\n",
       "        text-align: right;\n",
       "    }\n",
       "</style>\n",
       "<table border=\"1\" class=\"dataframe\">\n",
       "  <thead>\n",
       "    <tr style=\"text-align: right;\">\n",
       "      <th></th>\n",
       "      <th>2017</th>\n",
       "      <th>2022</th>\n",
       "      <th>2022/2017,%</th>\n",
       "      <th>group</th>\n",
       "    </tr>\n",
       "    <tr>\n",
       "      <th>from</th>\n",
       "      <th></th>\n",
       "      <th></th>\n",
       "      <th></th>\n",
       "      <th></th>\n",
       "    </tr>\n",
       "  </thead>\n",
       "  <tbody>\n",
       "    <tr>\n",
       "      <th>China</th>\n",
       "      <td>839754.0</td>\n",
       "      <td>960174.0</td>\n",
       "      <td>+14</td>\n",
       "      <td>Больше 200 тыс.</td>\n",
       "    </tr>\n",
       "  </tbody>\n",
       "</table>\n",
       "</div>"
      ],
      "text/plain": [
       "           2017      2022 2022/2017,%            group\n",
       "from                                                  \n",
       "China  839754.0  960174.0         +14  Больше 200 тыс."
      ]
     },
     "execution_count": 24,
     "metadata": {},
     "output_type": "execute_result"
    }
   ],
   "source": [
    "outbound = pd.merge(countries.groupby(['from'])['2017'].sum().reset_index(),\n",
    "                 countries.groupby(['from'])['2022'].sum().reset_index(),\n",
    "                 on = 'from',\n",
    "                 how='left')\n",
    "outbound = outbound[~(outbound['2017'].isna()) & ~(outbound['2022'].isna())]\n",
    "outbound = outbound[~(outbound['2017']==0) & ~(outbound['2022']==0)]\n",
    "outbound['2022/2017,%'] = round(outbound['2022']/outbound['2017']*100,0).astype(int)-100\n",
    "outbound['2022/2017,%'] = outbound['2022/2017,%'].apply(lambda x:'+'+str(x) if x>0 else str(x))\n",
    "outbound = outbound[outbound['2022']>5000]\n",
    "def group(x):\n",
    "    if x<20000:\n",
    "        group_name = '5-20 тыс.'\n",
    "    elif 20000<=x<50000:\n",
    "        group_name = '20-50 тыс.'\n",
    "    elif 50000<=x<100000:\n",
    "        group_name = '50-100 тыс.'\n",
    "    elif 100000<=x<200000:\n",
    "        group_name = '100-200 тыс.'\n",
    "    else:\n",
    "        group_name = 'Больше 200 тыс.'\n",
    "    return group_name\n",
    "outbound['group'] = outbound['2022'].apply(lambda x: group(x))\n",
    "outbound.set_index('from', inplace=True)\n",
    "outbound = outbound.sort_values(by='2022',ascending=False)\n",
    "outbound.head(1)"
   ]
  },
  {
   "cell_type": "code",
   "execution_count": 25,
   "metadata": {},
   "outputs": [],
   "source": [
    "color_2017 = '#eab676'\n",
    "color_2022 = '#873e23'\n",
    "distinct_color = 'black'\n",
    "n_cols = 2  # Number of columns in subplot grid\n",
    "unique_groups = ['Больше 200 тыс.','100-200 тыс.', '50-100 тыс.', '20-50 тыс.']\n",
    "num_plots = len(unique_groups)\n",
    "num_cols = 2 \n",
    "num_rows = (num_plots + num_cols - 1) // num_cols\n",
    "fig = make_subplots(rows=num_rows, cols=num_cols, subplot_titles=unique_groups,vertical_spacing=0.07)\n",
    "outbound = outbound.sort_values(by=['2022'],ascending=False)\n",
    "for i, group in enumerate(unique_groups):\n",
    "    filtered_df = outbound[outbound['group'] == group]\n",
    "    row_index = i // n_cols + 1\n",
    "    col_index = i % n_cols + 1\n",
    "    \n",
    "    trace1 = go.Bar(x=filtered_df.index,\n",
    "        y=filtered_df['2017'],\n",
    "        name=f'2017 - {group}',\n",
    "        text=[f\"{value/1000:.1f}k\" if value < 1000 else f\"{int(value/1000)}k\" for value in filtered_df['2017']],  # Value labels in thousands\n",
    "        textposition='auto',\n",
    "        textfont=dict(size=12),\n",
    "        marker_color=color_2017,\n",
    "        marker_line=dict(width=3, color=[distinct_color if country == 'Uzbekistan' else color_2017 for country in filtered_df.index]) \n",
    "        )\n",
    "    trace2 = go.Bar(x=filtered_df.index,\n",
    "        y=filtered_df['2022'],\n",
    "        name=f'2022 - {group}',\n",
    "        text=[f\"{value/1000:.1f}k {filtered_df['2022/2017,%'].values[j]}%\" if value < 1000 else f\"{int(value/1000)}k {filtered_df['2022/2017,%'].values[j]}%\" for j, value in enumerate(filtered_df['2022'])],  # Value labels in thousands\n",
    "        textposition='auto',\n",
    "        textfont=dict(size=12),\n",
    "        marker_color=color_2022,\n",
    "        marker_line=dict(width=3, color=[distinct_color if country == 'Uzbekistan' else color_2022 for country in filtered_df.index]) \n",
    "        )\n",
    "    \n",
    "    fig.add_trace(trace1, row=row_index, col=col_index)\n",
    "    fig.add_trace(trace2, row=row_index, col=col_index)\n",
    "\n",
    "original_annotations = list(fig.layout.annotations if 'annotations' in fig.layout else [])\n",
    "custom_annotation = dict(\n",
    "    x=0.01,\n",
    "    y=-0.15,\n",
    "    text=\"@Conspect Labs, Sources: UNESCO, OpenDoorsData, Nuffic, IIE, Statista, MoE of Kazakhstan, Iran, Egypt, Thailand\",\n",
    "    showarrow=False,\n",
    "    xref=\"paper\",\n",
    "    yref=\"paper\",\n",
    "    font=dict(size=12, color=\"grey\"),\n",
    "    align=\"center\"\n",
    ") \n",
    "  \n",
    "fig.update_layout(\n",
    "    title=dict(text=\"Исходящий поток иностранных студентов по группам стран с 2017 по 2022 г.\", \n",
    "                   font=dict(size=20, color='black'),\n",
    "                   yref='paper'),\n",
    "    barmode='group',     height=1200,\n",
    "    width=2000,\n",
    "    plot_bgcolor='white',\n",
    "    annotations=original_annotations + [custom_annotation],\n",
    "\n",
    ")\n",
    "for i in range(1, num_rows + 1):\n",
    "    for j in range(1, num_cols + 1):\n",
    "        fig.update_xaxes(tickangle=45, row=i, col=j)\n",
    "        fig.update_yaxes(gridcolor='lightgrey', row=i, col=j)\n",
    "        fig.update_xaxes(tickfont=dict(size=12, color='black'), row=i, col=j)\n",
    "        fig.update_yaxes(tickfont=dict(size=12, color='black'), row=i, col=j)\n",
    "fig.update_traces(constraintext='none')\n",
    "fig.update_traces(textfont=dict(size=10),row=2,col=2)\n",
    "pio.write_image(fig, \"Outbound_students_by_countries_2017_2022_ru.png\")\n",
    "fig.update_layout(\n",
    "    title=dict(text=\"Outbound students by country, 2017 and 2022 years\",\n",
    "               font=dict(size=20, color='black'),\n",
    "                   yref='paper'))\n",
    "pio.write_image(fig, \"Outbound_students_by_countries_2017_2022_en.png\")\n",
    "# fig.show()"
   ]
  },
  {
   "cell_type": "markdown",
   "metadata": {},
   "source": [
    "![Alt Text](Outbound_students_by_countries_2017_2022_en.png)"
   ]
  },
  {
   "cell_type": "markdown",
   "metadata": {},
   "source": [
    "<h4>Student flows inside CIS</h4>"
   ]
  },
  {
   "cell_type": "markdown",
   "metadata": {},
   "source": [
    "To see how students flows change over time, we use Sankey diagram. It demands different names for sources and targets, so let's make some tweaks."
   ]
  },
  {
   "cell_type": "code",
   "execution_count": 27,
   "metadata": {},
   "outputs": [
    {
     "data": {
      "text/html": [
       "<div>\n",
       "<style scoped>\n",
       "    .dataframe tbody tr th:only-of-type {\n",
       "        vertical-align: middle;\n",
       "    }\n",
       "\n",
       "    .dataframe tbody tr th {\n",
       "        vertical-align: top;\n",
       "    }\n",
       "\n",
       "    .dataframe thead th {\n",
       "        text-align: right;\n",
       "    }\n",
       "</style>\n",
       "<table border=\"1\" class=\"dataframe\">\n",
       "  <thead>\n",
       "    <tr style=\"text-align: right;\">\n",
       "      <th>year</th>\n",
       "      <th>from</th>\n",
       "      <th>to</th>\n",
       "      <th>2017</th>\n",
       "      <th>2022</th>\n",
       "    </tr>\n",
       "  </thead>\n",
       "  <tbody>\n",
       "    <tr>\n",
       "      <th>2</th>\n",
       "      <td>Afghanistan Out</td>\n",
       "      <td>Argentina In</td>\n",
       "      <td>15.0</td>\n",
       "      <td>16.0</td>\n",
       "    </tr>\n",
       "    <tr>\n",
       "      <th>4</th>\n",
       "      <td>Afghanistan Out</td>\n",
       "      <td>Australia In</td>\n",
       "      <td>44.0</td>\n",
       "      <td>73.0</td>\n",
       "    </tr>\n",
       "  </tbody>\n",
       "</table>\n",
       "</div>"
      ],
      "text/plain": [
       "year             from            to  2017  2022\n",
       "2     Afghanistan Out  Argentina In  15.0  16.0\n",
       "4     Afghanistan Out  Australia In  44.0  73.0"
      ]
     },
     "execution_count": 27,
     "metadata": {},
     "output_type": "execute_result"
    }
   ],
   "source": [
    "countries2 = countries[~(countries['2017'].isna()) & ~(countries['2022'].isna())]\n",
    "countries2 = countries2[~(countries2['2017']==0) & ~(countries2['2022']==0)]\n",
    "countries2['from'] = countries2['from']+ ' Out'\n",
    "countries2['to'] = countries2['to']+ ' In'\n",
    "countries2.head(2)"
   ]
  },
  {
   "cell_type": "code",
   "execution_count": 28,
   "metadata": {},
   "outputs": [
    {
     "data": {
      "text/html": [
       "<div>\n",
       "<style scoped>\n",
       "    .dataframe tbody tr th:only-of-type {\n",
       "        vertical-align: middle;\n",
       "    }\n",
       "\n",
       "    .dataframe tbody tr th {\n",
       "        vertical-align: top;\n",
       "    }\n",
       "\n",
       "    .dataframe thead th {\n",
       "        text-align: right;\n",
       "    }\n",
       "</style>\n",
       "<table border=\"1\" class=\"dataframe\">\n",
       "  <thead>\n",
       "    <tr style=\"text-align: right;\">\n",
       "      <th>year</th>\n",
       "      <th>from</th>\n",
       "      <th>to</th>\n",
       "      <th>2017</th>\n",
       "      <th>2022</th>\n",
       "    </tr>\n",
       "  </thead>\n",
       "  <tbody>\n",
       "    <tr>\n",
       "      <th>953</th>\n",
       "      <td>Armenia Out</td>\n",
       "      <td>Argentina In</td>\n",
       "      <td>31.0</td>\n",
       "      <td>65.0</td>\n",
       "    </tr>\n",
       "    <tr>\n",
       "      <th>955</th>\n",
       "      <td>Armenia Out</td>\n",
       "      <td>Austria In</td>\n",
       "      <td>60.0</td>\n",
       "      <td>66.0</td>\n",
       "    </tr>\n",
       "  </tbody>\n",
       "</table>\n",
       "</div>"
      ],
      "text/plain": [
       "year         from            to  2017  2022\n",
       "953   Armenia Out  Argentina In  31.0  65.0\n",
       "955   Armenia Out    Austria In  60.0  66.0"
      ]
     },
     "execution_count": 28,
     "metadata": {},
     "output_type": "execute_result"
    }
   ],
   "source": [
    "cis_c = ['Russia','Moldova','Belarus','Kazakhstan','Uzbekistan',\n",
    "          'Kyrgyzstan','Tajikistan','Turkmenistan',\n",
    "          'Armenia','Azerbaijan','Ukraine']\n",
    "cis = [item + ' Out' for item in cis_c] + [item + ' In' for item in cis_c]\n",
    "cis_countries_from = countries2[countries2['from'].isin(cis)]\n",
    "cis_countries_from.head(2)"
   ]
  },
  {
   "cell_type": "markdown",
   "metadata": {},
   "source": [
    "Extract top 5 target countries for every source country in 2017 and 2022."
   ]
  },
  {
   "cell_type": "code",
   "execution_count": null,
   "metadata": {},
   "outputs": [
    {
     "name": "stderr",
     "output_type": "stream",
     "text": [
      "C:\\Users\\yuliy\\AppData\\Local\\Temp\\ipykernel_16240\\589063051.py:2: DeprecationWarning:\n",
      "\n",
      "DataFrameGroupBy.apply operated on the grouping columns. This behavior is deprecated, and in a future version of pandas the grouping columns will be excluded from the operation. Either pass `include_groups=False` to exclude the groupings or explicitly select the grouping columns after groupby to silence this warning.\n",
      "\n",
      "C:\\Users\\yuliy\\AppData\\Local\\Temp\\ipykernel_16240\\589063051.py:4: DeprecationWarning:\n",
      "\n",
      "DataFrameGroupBy.apply operated on the grouping columns. This behavior is deprecated, and in a future version of pandas the grouping columns will be excluded from the operation. Either pass `include_groups=False` to exclude the groupings or explicitly select the grouping columns after groupby to silence this warning.\n",
      "\n"
     ]
    },
    {
     "data": {
      "text/plain": [
       "array(['Russia In', 'France In', 'Germany In', 'USA In',\n",
       "       'United Kingdom In', 'Turkey In', 'Georgia In', 'Poland In',\n",
       "       'Lithuania In', 'Czechia In', 'China In', 'Kyrgyzstan In',\n",
       "       'Kazakhstan In', 'Saudi Arabia In', 'Romania In', 'Italy In',\n",
       "       'Belarus In', 'Malaysia In', 'Republic of Korea In', 'Latvia In',\n",
       "       'Bulgaria In', 'Uzbekistan In', 'Slovakia In'], dtype=object)"
      ]
     },
     "execution_count": 29,
     "metadata": {},
     "output_type": "execute_result"
    }
   ],
   "source": [
    "cis_countries_from_2022_top10 = cis_countries_from.groupby('from').apply(lambda x: x.nlargest(5, '2022')).reset_index(drop=True)\n",
    "cis_countries_from_2022_top10.drop(columns='2017',inplace=True)\n",
    "cis_countries_from_2017_top10 = cis_countries_from.groupby('from').apply(lambda x: x.nlargest(5, '2017')).reset_index(drop=True)\n",
    "cis_countries_from_2017_top10.drop(columns='2022',inplace=True)\n",
    "cis_countries_from_top = pd.concat([cis_countries_from_2017_top10,cis_countries_from_2022_top10])\n",
    "cis_countries_from_top['to'].unique()"
   ]
  },
  {
   "cell_type": "code",
   "execution_count": 30,
   "metadata": {},
   "outputs": [],
   "source": [
    "other_color = 'rgba(189, 195, 199, 0.8)'\n",
    "country_colors = {\n",
    "        'Armenia': 'rgba(31, 119, 180, 0.8)',  # Blue\n",
    "        'Azerbaijan': 'rgba(255, 127, 14, 0.8)',  # Orange\n",
    "        'Belarus': 'rgba(44, 162, 44, 0.8)',  # Green\n",
    "        'Kazakhstan': 'rgba(214, 39, 40, 0.8)',  # Red\n",
    "        'Kyrgyzstan': 'rgba(148, 103, 189, 0.8)',  # Purple\n",
    "        'Moldova': 'rgba(140, 86, 75, 0.8)',  # Brown\n",
    "        'Russia': 'rgba(227, 119, 194, 0.8)',  # Pink\n",
    "        'Tajikistan': 'rgba(127, 127, 127, 0.8)',  # Gray\n",
    "        'Turkmenistan': 'rgba(188, 189, 34, 0.8)',  # Yellow-green\n",
    "        'Ukraine': 'rgba(23, 190, 239, 0.8)',  # Cyan\n",
    "        'Uzbekistan': 'rgba(255, 187, 120, 0.8)',   # Light Orange (to make it distinct)\n",
    "        **{\n",
    "        country: f'rgba({i*20 %255}, {(i*40) %255}, {(i*60) %255},0.8)'\n",
    "        for i,country in enumerate([\n",
    "            \"France\", \"Germany\", \"USA\", \"United Kingdom\", \"Turkey\",\n",
    "            \"Georgia\", \"Poland\", \"Lithuania\", \"Canada\",\"Romania\", \"Italy\",\n",
    "            \"Czechia\", \"Republic of Korea\", \"Saudi Arabia\", \"Cyprus\",\"Latvia\",\n",
    "            \"Malaysia\", \"Bulgaria\", \"Slovakia\", \"China\",\"New Zealand\", \"India\", \"Egypt\",\n",
    "            \"Morocco\", \"Iraq\", \"Viet Nam\", \"Nigeria\", \"Mongolia\", \"Angola\",\"Iran\",\"Syrian Arab Republic\",\n",
    "            \"Australia\",\"Netherlands\",\"Sweden\",\"Ireland\",\"Japan\",'Hong Kong','Macao'\n",
    "        ])\n",
    "    }\n",
    "}"
   ]
  },
  {
   "cell_type": "code",
   "execution_count": 34,
   "metadata": {},
   "outputs": [
    {
     "name": "stdout",
     "output_type": "stream",
     "text": [
      "Central_Asia\n",
      "Europe_Caucasus\n"
     ]
    }
   ],
   "source": [
    "#Draw Sankey for every year\n",
    "c_a = ('Kazakhstan Out','Kyrgyzstan Out','Tajikistan Out','Turkmenistan Out','Uzbekistan Out')\n",
    "e_c = ('Russia Out','Moldova Out','Belarus Out','Ukraine Out','Armenia Out','Azerbaijan Out')\n",
    "regions = {c_a:'Central_Asia',\n",
    "           e_c:'Europe_Caucasus'}\n",
    "\n",
    "for key,value in regions.items():\n",
    "    print(value)\n",
    "    df = cis_countries_from_top[cis_countries_from_top['from'].isin(key)]\n",
    "    unique_labels = list(set(df['from'].tolist() + df['to'].tolist()))\n",
    "       \n",
    "    # You can use color mapping for countries. Change i and coeffs to get distinct colors.\n",
    "    # country_colors = {country: f'rgba({(i+100) * 20 % 255}, {((i+50) * 200 + 100) % 255}, {((i+200) * 380) % 255}, 1)'\n",
    "    #                   for i, country in enumerate(set([label.split()[0] for label in unique_labels]))}\n",
    "    # Function to get sorted unique labels based on total link values\n",
    "\n",
    "    def get_sorted_labels(df, year):\n",
    "        link_sums = pd.concat([\n",
    "            df.groupby('from')[year].sum(),\n",
    "            df.groupby('to')[year].sum()\n",
    "        ]).groupby(level=0).sum()\n",
    "        return link_sums.sort_values(ascending=False).index.tolist()\n",
    "\n",
    "    # Function to build a Sankey trace for a specific year\n",
    "    def build_sankey_trace(df, year,pad_size):\n",
    "        sorted_labels = get_sorted_labels(df, year)\n",
    "        unique_labels_sorted = [label for label in unique_labels if label in sorted_labels]\n",
    "        \n",
    "        # Map source and target to indices\n",
    "        source_indices = [unique_labels_sorted.index(src) for src in df['from']]\n",
    "        target_indices = [unique_labels_sorted.index(tgt) for tgt in df['to']]\n",
    "        \n",
    "        # Assign link colors based on source country\n",
    "        link_colors = [country_colors[\" \".join(src.split()[:-1])].replace('1)', '0.8)') for src in df['from']]\n",
    "        \n",
    "        return go.Sankey(\n",
    "            node=dict(\n",
    "                pad=pad_size,\n",
    "                thickness=50,\n",
    "                line=dict(color=\"black\", width=0.5),\n",
    "                label=[f\"{label} ({int(df[df['from'] == label][year].sum() + df[df['to'] == label][year].sum())})\"\n",
    "                    for label in unique_labels_sorted],\n",
    "                color=[country_colors[\" \".join(label.split()[:-1])] for label in unique_labels_sorted]\n",
    "            ),\n",
    "            link=dict(\n",
    "                source=source_indices,\n",
    "                target=target_indices,\n",
    "                value=df[year],\n",
    "                color=link_colors,\n",
    "                label=[f\"{df.iloc[i]['from']} → {df.iloc[i]['to']}: {df.iloc[i][year]}\"\n",
    "                    for i in range(len(df))]\n",
    "            )\n",
    "        )\n",
    "\n",
    "    def generate_annotations(df, unique_labels_sorted, year):\n",
    "        annotations = []\n",
    "        df=df[['from','to',year]].dropna()\n",
    "        for i, row in df.iterrows():\n",
    "            source_idx = unique_labels_sorted.index(row['from'])\n",
    "            target_idx = unique_labels_sorted.index(row['to'])\n",
    "            annotations.append(dict(\n",
    "                # x=x_pos, y=y_pos,\n",
    "                text=f\"{int(row[year])}\",  # Display value as an integer\n",
    "                showarrow=False,\n",
    "                font=dict(size=10, color=\"black\"),\n",
    "                align=\"center\"\n",
    "            ))\n",
    "        return annotations\n",
    "\n",
    "    fig = make_subplots(\n",
    "        rows=1, cols=2, \n",
    "        specs=[[{'type': 'domain'}, {'type': 'domain'}]]  # Specify 'domain' for Sankey\n",
    "    )\n",
    "    fig.add_trace(build_sankey_trace(df, \"2017\",48), row=1, col=1)\n",
    "    fig.add_trace(build_sankey_trace(df, \"2022\",18), row=1, col=2)\n",
    "    fig.update_layout(\n",
    "        title_text=f\"Иностранные студенты из стран СНГ, {value}, Топ-5 направлений выезда для каждой страны\",\n",
    "        font=dict(size=12, color='black'),\n",
    "        height=800,\n",
    "        width=1600,\n",
    "        plot_bgcolor='white',\n",
    "        annotations=[\n",
    "            dict(\n",
    "                x=0.2,  # Center of first subplot\n",
    "                y=1.05, \n",
    "                text=\"2017\",\n",
    "                showarrow=False,\n",
    "                font=dict(size=16, color=\"black\")\n",
    "            ),\n",
    "            dict(\n",
    "                x=0.78,  # Center of second subplot\n",
    "                y=1.05, \n",
    "                text=\"2022\",\n",
    "                showarrow=False,\n",
    "                font=dict(size=16, color=\"black\"),\n",
    "            ),\n",
    "            dict(\n",
    "                x=0.002,  # Comments\n",
    "                y=-0.12, \n",
    "                text=\"Число студентов показано для суммы входящих и исходящих потоков стран на диаграмме. <br>@Conspect Labs, Sources: UNESCO, OpenDoorsData, Nuffic, IIE, Statista, MoE of Kazakhstan, Iran, Egypt, Thailand\",\n",
    "                showarrow=False,\n",
    "                font=dict(size=12, color=\"black\")\n",
    "            )\n",
    "        ]\n",
    "    )\n",
    "\n",
    "    output_file = f\"top_5_destinations_sankey_diagrams_{value}_ru.png\"  # You can change this to .png, .pdf, or .jpeg\n",
    "    pio.write_image(fig, output_file, format=\"png\", width=1600, height=800)\n",
    "    \n",
    "    fig.update_layout(\n",
    "        title_text=f\"Outbound students from the CIS countries, {value}, Top 5 destinations for every country\",\n",
    "        font=dict(size=12, color='black'),\n",
    "        height=800,\n",
    "        width=1600,\n",
    "        plot_bgcolor='white',\n",
    "        annotations=[\n",
    "            dict(\n",
    "                x=0.2,  # Center of first subplot\n",
    "                y=1.05, \n",
    "                text=\"2017\",\n",
    "                showarrow=False,\n",
    "                font=dict(size=16, color=\"black\")\n",
    "            ),\n",
    "            dict(\n",
    "                x=0.78,  # Center of second subplot\n",
    "                y=1.05, \n",
    "                text=\"2022\",\n",
    "                showarrow=False,\n",
    "                font=dict(size=16, color=\"black\"),\n",
    "            ),\n",
    "            dict(\n",
    "                x=0.002,  # Comments\n",
    "                y=-0.12, \n",
    "                text=\"Students number is the sum of the flows at the diagram. <br>@Conspect Labs, Sources: UNESCO, OpenDoorsData, Nuffic, IIE, Statista, MoE of Kazakhstan, Iran, Egypt, Thailand\",\n",
    "                showarrow=False,\n",
    "                font=dict(size=12, color=\"black\")\n",
    "            )\n",
    "        ]\n",
    "    )\n",
    "    output_file = f\"top_5_destinations_sankey_diagrams_{value}_en.png\"  # You can change this to .png, .pdf, or .jpeg\n",
    "    pio.write_image(fig, output_file, format=\"png\", width=1600, height=800)\n",
    "    # Show the figure\n",
    "    # fig.show()"
   ]
  },
  {
   "cell_type": "markdown",
   "metadata": {},
   "source": [
    "![Alt Text](top_5_destinations_sankey_diagrams_Central_Asia_en.png)"
   ]
  },
  {
   "cell_type": "markdown",
   "metadata": {},
   "source": [
    "<h4>Top 20 source countries for Russia</h4>"
   ]
  },
  {
   "cell_type": "code",
   "execution_count": 35,
   "metadata": {},
   "outputs": [
    {
     "data": {
      "text/html": [
       "<div>\n",
       "<style scoped>\n",
       "    .dataframe tbody tr th:only-of-type {\n",
       "        vertical-align: middle;\n",
       "    }\n",
       "\n",
       "    .dataframe tbody tr th {\n",
       "        vertical-align: top;\n",
       "    }\n",
       "\n",
       "    .dataframe thead th {\n",
       "        text-align: right;\n",
       "    }\n",
       "</style>\n",
       "<table border=\"1\" class=\"dataframe\">\n",
       "  <thead>\n",
       "    <tr style=\"text-align: right;\">\n",
       "      <th>year</th>\n",
       "      <th>from</th>\n",
       "      <th>to</th>\n",
       "      <th>2017</th>\n",
       "      <th>2022</th>\n",
       "    </tr>\n",
       "  </thead>\n",
       "  <tbody>\n",
       "    <tr>\n",
       "      <th>91</th>\n",
       "      <td>Afghanistan Out</td>\n",
       "      <td>Russia In</td>\n",
       "      <td>188.0</td>\n",
       "      <td>1602.0</td>\n",
       "    </tr>\n",
       "  </tbody>\n",
       "</table>\n",
       "</div>"
      ],
      "text/plain": [
       "year             from         to   2017    2022\n",
       "91    Afghanistan Out  Russia In  188.0  1602.0"
      ]
     },
     "execution_count": 35,
     "metadata": {},
     "output_type": "execute_result"
    }
   ],
   "source": [
    "#Extract all source countries for Russia\n",
    "inbound_country='Russia In'\n",
    "inbound_to_country = countries2[countries2['to']==inbound_country]\n",
    "inbound_to_country.head(1)"
   ]
  },
  {
   "cell_type": "markdown",
   "metadata": {},
   "source": [
    "Extract top 20 source countries for Russia, separately for in 2017 and 2022, as the list of 20 leading countries could change."
   ]
  },
  {
   "cell_type": "code",
   "execution_count": 36,
   "metadata": {},
   "outputs": [
    {
     "name": "stdout",
     "output_type": "stream",
     "text": [
      "year         from         to     2017  share                   color\n",
      "11603  Kazakhstan  Russia In  65237.0   33.1  rgba(214, 39, 40, 0.8)\n",
      "year         from         to     2022  share                   color\n",
      "11603  Kazakhstan  Russia In  53935.0   18.1  rgba(214, 39, 40, 0.8)\n"
     ]
    }
   ],
   "source": [
    "inbound_to_country_from_2017_top20 = inbound_to_country.sort_values(by='2017', ascending=False).head(20)\n",
    "inbound_to_country_from_2017_top20 = inbound_to_country_from_2017_top20[['from','to','2017']]\n",
    "inbound_to_country_from_2022_top20 = inbound_to_country.sort_values(by='2022', ascending=False).head(20)\n",
    "inbound_to_country_from_2022_top20 = inbound_to_country_from_2022_top20[['from','to','2022']]\n",
    "inbound_to_country_from_2017_top20['share'] = round(inbound_to_country_from_2017_top20['2017']/inbound_to_country_from_2017_top20['2017'].sum()*100,1)\n",
    "inbound_to_country_from_2022_top20['share'] = round(inbound_to_country_from_2022_top20['2022']/inbound_to_country_from_2022_top20['2022'].sum()*100,1)\n",
    "for df in [inbound_to_country_from_2017_top20,inbound_to_country_from_2022_top20]:\n",
    "    df['from'] = df['from'].apply(lambda x:x.replace(' Out',''))\n",
    "    df['color'] = df['from'].map(country_colors)\n",
    "    print(df.head(1))"
   ]
  },
  {
   "cell_type": "markdown",
   "metadata": {},
   "source": [
    "Draw the diagram of the main source countries of inbound students in Russia."
   ]
  },
  {
   "cell_type": "code",
   "execution_count": 37,
   "metadata": {},
   "outputs": [],
   "source": [
    "inbound_to_country_from_2017_top20.sort_values(by='2017',ascending=True,inplace=True)\n",
    "inbound_to_country_from_2022_top20.sort_values(by='2022',ascending=True,inplace=True)\n",
    "\n",
    "# Create subplots\n",
    "fig = make_subplots(\n",
    "    rows=1, cols=2,\n",
    "    subplot_titles=['2017', '2022'],\n",
    "    row_heights =[1],\n",
    "    \n",
    ")\n",
    "trace1 = go.Bar(\n",
    "    y=inbound_to_country_from_2017_top20['from'],\n",
    "    x=inbound_to_country_from_2017_top20['2017'],\n",
    "    orientation='h',\n",
    "    name=f'2017',\n",
    "    # text=[f\"{value/1000:.1f}k\" if value < 10000 else f\"{int(value/1000)}k\" for value in inbound_to_country_from_2017_top20['2017']],  # Value labels in thousands\n",
    "    text=[f\"{value/1000:.1f}k ({inbound_to_country_from_2017_top20['share'].values[j]}%)\" if value < 10000 else f\"{int(value/1000)}k ({inbound_to_country_from_2017_top20['share'].values[j]}%)\" for j,value in enumerate(inbound_to_country_from_2017_top20['2017'])],  \n",
    "    textposition='outside',\n",
    "    textfont=dict(size=10),\n",
    "    marker_color=[color for color in inbound_to_country_from_2017_top20['color']],\n",
    "    cliponaxis=False \n",
    "    )\n",
    "trace2 = go.Bar(\n",
    "    y=inbound_to_country_from_2022_top20['from'],\n",
    "    x=inbound_to_country_from_2022_top20['2022'],\n",
    "    orientation='h',\n",
    "    name=f'2022',\n",
    "    # text=[f\"{value/1000:.1f}k\" if value < 10000 else f\"{int(value/1000)}k\" for value in inbound_to_country_from_2022_top20['2022']],  # Value labels in thousands\n",
    "    text=[f\"{value/1000:.1f}k ({inbound_to_country_from_2022_top20['share'].values[j]}%)\" if value < 10000 else f\"{int(value/1000)}k ({inbound_to_country_from_2022_top20['share'].values[j]}%)\" for j,value in enumerate(inbound_to_country_from_2022_top20['2022'])],  \n",
    "    textposition='outside',\n",
    "    textfont=dict(size=10),\n",
    "    marker_color=[color for color in inbound_to_country_from_2022_top20['color']],\n",
    "    cliponaxis=False \n",
    "    )\n",
    "    \n",
    "fig.add_trace(trace1, row=1, col=1)\n",
    "fig.add_trace(trace2, row=1, col=2)\n",
    "\n",
    "\n",
    "fig.update_layout(\n",
    "    title='Топ-20 стран по количеству студентов в России в 2017 и 2022 г. и их доли в общем кол-ве иностранных студентов',\n",
    "    # yaxis_title='Число студентов',\n",
    "    barmode='group',  # Group bars together\n",
    "    height=600,\n",
    "    width=1300,\n",
    "    showlegend=False,\n",
    "    font=dict(size=12, color='black'),\n",
    "    yaxis=dict(\n",
    "            tickfont=dict(size=10)  # Adjust font size here\n",
    "        ),\n",
    "        yaxis2=dict(\n",
    "            tickfont=dict(size=10)  # Adjust font size here\n",
    "        ),\n",
    "        xaxis=dict(\n",
    "            tickfont=dict(size=10)  # Adjust font size here\n",
    "        ),\n",
    "        xaxis2=dict(\n",
    "            tickfont=dict(size=10)  # Adjust font size here\n",
    "        ),\n",
    "    margin=dict(l=50, r=50, t=100, b=100),\n",
    "    plot_bgcolor='white',\n",
    "    annotations=[\n",
    "            dict(\n",
    "                x=0.2,  # Center of first subplot\n",
    "                y=1.05, \n",
    "                text=\"2017\",\n",
    "                showarrow=False,\n",
    "                font=dict(size=10, color=\"black\")\n",
    "            ),\n",
    "            dict(\n",
    "                x=0.78,  # Center of second subplot\n",
    "                y=1.05, \n",
    "                text=\"2022\",\n",
    "                showarrow=False,\n",
    "                font=dict(size=10, color=\"black\"),\n",
    "            ),\n",
    "            dict(\n",
    "                x=0.4,  # Center the annotation\n",
    "                y=-0.18,  # Move it below the chart\n",
    "                text=\"@Conspect Labs, Sources: UNESCO, OpenDoorsData, Nuffic, IIE, Statista, MoE of Kazakhstan, Iran, Egypt, Thailand\",\n",
    "                showarrow=False,\n",
    "                xref=\"paper\",  # Use paper coordinates\n",
    "                yref=\"paper\",\n",
    "                font=dict(size=12, color=\"grey\"),\n",
    "                align=\"left\"\n",
    "        )\n",
    "        ]\n",
    ")\n",
    "\n",
    "pio.write_image(fig, \"top_20_countries_inbound_to_russia_2017_2022_ru.png\")\n",
    "    \n",
    "fig.update_layout(\n",
    "    title=f'Top 20 Countries by Number of Students in Russia in 2017 and 2022 and Their Shares in the Total Number of International Students'\n",
    ")\n",
    "    \n",
    "pio.write_image(fig, \"top_20_countries_inbound_to_russia_2017_2022_en.png\")\n",
    "# fig.show()"
   ]
  },
  {
   "cell_type": "markdown",
   "metadata": {},
   "source": [
    "![Alt Text](top_20_countries_inbound_to_russia_2017_2022_en.png)"
   ]
  },
  {
   "cell_type": "markdown",
   "metadata": {},
   "source": [
    "Let's see how concentrated the international higher education market is in Russia. Russian universities primarily depend on Central Asian countries and China — 60% of students come from Kazakhstan, Uzbekistan, Turkmenistan, Tajikistan, and China. Market diversification is occurring, but not quickly: in 2017, the top 10 donor countries to Russia accounted for 85% of student inflows, while in 2022, this figure dropped to 78%."
   ]
  },
  {
   "cell_type": "code",
   "execution_count": 38,
   "metadata": {},
   "outputs": [
    {
     "name": "stdout",
     "output_type": "stream",
     "text": [
      "197050.0\n"
     ]
    }
   ],
   "source": [
    "print(inbound_to_country_from_2017_top20['2017'].sum())"
   ]
  },
  {
   "cell_type": "code",
   "execution_count": 39,
   "metadata": {},
   "outputs": [
    {
     "data": {
      "text/plain": [
       "np.float64(0.6293490911499484)"
      ]
     },
     "execution_count": 39,
     "metadata": {},
     "output_type": "execute_result"
    }
   ],
   "source": [
    "inbound_to_country.sort_values(by='2017', ascending=False).head(5)['2017'].sum()/inbound_to_country['2017'].sum()"
   ]
  },
  {
   "cell_type": "code",
   "execution_count": 40,
   "metadata": {},
   "outputs": [
    {
     "data": {
      "text/plain": [
       "np.float64(0.5899888186650563)"
      ]
     },
     "execution_count": 40,
     "metadata": {},
     "output_type": "execute_result"
    }
   ],
   "source": [
    "inbound_to_country.sort_values(by='2022', ascending=False).head(5)['2022'].sum()/inbound_to_country['2022'].sum()"
   ]
  },
  {
   "cell_type": "code",
   "execution_count": 41,
   "metadata": {},
   "outputs": [
    {
     "data": {
      "text/plain": [
       "np.float64(0.8511728470993443)"
      ]
     },
     "execution_count": 41,
     "metadata": {},
     "output_type": "execute_result"
    }
   ],
   "source": [
    "inbound_to_country.sort_values(by='2017', ascending=False).head(10)['2017'].sum()/inbound_to_country['2017'].sum()"
   ]
  },
  {
   "cell_type": "code",
   "execution_count": 42,
   "metadata": {},
   "outputs": [
    {
     "data": {
      "text/plain": [
       "np.float64(0.7812135634974259)"
      ]
     },
     "execution_count": 42,
     "metadata": {},
     "output_type": "execute_result"
    }
   ],
   "source": [
    "inbound_to_country.sort_values(by='2022', ascending=False).head(10)['2022'].sum()/inbound_to_country['2022'].sum()"
   ]
  },
  {
   "cell_type": "markdown",
   "metadata": {},
   "source": [
    "<h4>Russia's share in outbound students flows by country, 2017 and 2022</h4>"
   ]
  },
  {
   "cell_type": "markdown",
   "metadata": {},
   "source": [
    "Draw a chart to see how Russia's share on distinct markets changed over time."
   ]
  },
  {
   "cell_type": "code",
   "execution_count": 44,
   "metadata": {},
   "outputs": [
    {
     "data": {
      "text/html": [
       "<div>\n",
       "<style scoped>\n",
       "    .dataframe tbody tr th:only-of-type {\n",
       "        vertical-align: middle;\n",
       "    }\n",
       "\n",
       "    .dataframe tbody tr th {\n",
       "        vertical-align: top;\n",
       "    }\n",
       "\n",
       "    .dataframe thead th {\n",
       "        text-align: right;\n",
       "    }\n",
       "</style>\n",
       "<table border=\"1\" class=\"dataframe\">\n",
       "  <thead>\n",
       "    <tr style=\"text-align: right;\">\n",
       "      <th></th>\n",
       "      <th>Country</th>\n",
       "      <th>Total_2017</th>\n",
       "      <th>Russia_In_2017</th>\n",
       "      <th>Share_to_Russia_%_2017</th>\n",
       "      <th>Total_2022</th>\n",
       "      <th>Russia_In_2022</th>\n",
       "      <th>Share_to_Russia_%_2022</th>\n",
       "      <th>total_change</th>\n",
       "      <th>Russia_in_change</th>\n",
       "    </tr>\n",
       "  </thead>\n",
       "  <tbody>\n",
       "    <tr>\n",
       "      <th>181</th>\n",
       "      <td>Tajikistan Out</td>\n",
       "      <td>19156.0</td>\n",
       "      <td>14204.0</td>\n",
       "      <td>74.1</td>\n",
       "      <td>31553.0</td>\n",
       "      <td>27086.0</td>\n",
       "      <td>85.8</td>\n",
       "      <td>64.7</td>\n",
       "      <td>90.7</td>\n",
       "    </tr>\n",
       "    <tr>\n",
       "      <th>96</th>\n",
       "      <td>Kazakhstan Out</td>\n",
       "      <td>95570.0</td>\n",
       "      <td>65237.0</td>\n",
       "      <td>68.3</td>\n",
       "      <td>92404.0</td>\n",
       "      <td>53935.0</td>\n",
       "      <td>58.4</td>\n",
       "      <td>-3.3</td>\n",
       "      <td>-17.3</td>\n",
       "    </tr>\n",
       "  </tbody>\n",
       "</table>\n",
       "</div>"
      ],
      "text/plain": [
       "            Country  Total_2017  Russia_In_2017  Share_to_Russia_%_2017  \\\n",
       "181  Tajikistan Out     19156.0         14204.0                    74.1   \n",
       "96   Kazakhstan Out     95570.0         65237.0                    68.3   \n",
       "\n",
       "     Total_2022  Russia_In_2022  Share_to_Russia_%_2022  total_change  \\\n",
       "181     31553.0         27086.0                    85.8          64.7   \n",
       "96      92404.0         53935.0                    58.4          -3.3   \n",
       "\n",
       "     Russia_in_change  \n",
       "181              90.7  \n",
       "96              -17.3  "
      ]
     },
     "execution_count": 44,
     "metadata": {},
     "output_type": "execute_result"
    }
   ],
   "source": [
    "results = []\n",
    "for every in countries2['from'].unique():\n",
    "    source = countries2[countries2['from']==every]\n",
    "    \n",
    "    source_sum_17 = source[source['from']==every]['2017'].sum()\n",
    "    russia_in_17 = source[source['to']=='Russia In']['2017'].sum()\n",
    "    share_17 = round(russia_in_17/source_sum_17*100,1)\n",
    "    \n",
    "    source_sum_22 = source[source['from']==every]['2022'].sum()\n",
    "    russia_in_22 = source[source['to']=='Russia In']['2022'].sum()\n",
    "    share_22 = round(russia_in_22/source_sum_22*100,1)\n",
    "    results.append({\n",
    "        'Country': every,\n",
    "        'Total_2017': source_sum_17,\n",
    "        'Russia_In_2017': russia_in_17,\n",
    "        'Share_to_Russia_%_2017': share_17,\n",
    "        'Total_2022': source_sum_22,\n",
    "        'Russia_In_2022': russia_in_22,\n",
    "        'Share_to_Russia_%_2022': share_22,\n",
    "    })\n",
    "results_df = pd.DataFrame(results)\n",
    "results_df['total_change'] = round((results_df['Total_2022']/results_df['Total_2017']-1)*100,1)\n",
    "results_df['Russia_in_change'] = round((results_df['Russia_In_2022']/results_df['Russia_In_2017']-1)*100,1)\n",
    "results_df = results_df.reset_index()\n",
    "results_df = results_df.drop(columns=['index']).sort_values(by='Share_to_Russia_%_2022',ascending=False)\n",
    "results_df.head(2)"
   ]
  },
  {
   "cell_type": "markdown",
   "metadata": {},
   "source": [
    "Draw the diagram of how Russia's share in outbound students flows has changed since 2017."
   ]
  },
  {
   "cell_type": "code",
   "execution_count": 41,
   "metadata": {},
   "outputs": [],
   "source": [
    "color_2017 = '#b380e0'\n",
    "color_2022 = '#5e3b7d'\n",
    "fig = go.Figure()\n",
    "results_df_1 = results_df\n",
    "#select countries with more then 2% Russia's share and inbound flow more then 500\n",
    "results_df_1 = results_df_1[results_df_1['Share_to_Russia_%_2022']>=2]\n",
    "results_df_1 = results_df_1[results_df_1['Russia_In_2022']>=500]\n",
    "trace1 = go.Bar(\n",
    "    x=[country.replace(' Out', '') for country in results_df_1['Country']],\n",
    "    y=results_df_1['Share_to_Russia_%_2017'],\n",
    "    name='2017',\n",
    "    text=[f\"{int(value)}%\" if value >= 10 or value == int(value) else f\"{value:.1f}%\"   for value in results_df_1['Share_to_Russia_%_2017']],  # Value labels in thousands\n",
    "    textposition='outside',\n",
    "    textfont=dict(size=9),\n",
    "    marker_color=color_2017\n",
    "    )\n",
    "trace2 = go.Bar(\n",
    "    x=[country.replace(' Out', '') for country in results_df_1['Country']],\n",
    "    y=results_df_1['Share_to_Russia_%_2022'],\n",
    "    name='2022',\n",
    "    text = [f\"{int(value)}%\" if value >= 10 or value == int(value) else f\"{value:.1f}%\"  for value in results_df_1['Share_to_Russia_%_2022']],\n",
    "    textposition='outside',\n",
    "    textfont=dict(size=9),\n",
    "    marker_color=color_2022\n",
    "    )\n",
    "   \n",
    "fig.add_trace(trace1)\n",
    "fig.add_trace(trace2)   \n",
    "\n",
    "original_annotations = list(fig.layout.annotations if 'annotations' in fig.layout else [])\n",
    "custom_annotation = dict(\n",
    "    x=0.01,\n",
    "    y=-0.17,\n",
    "    text=\"@Conspect Labs, Sources: UNESCO, OpenDoorsData, Nuffic, IIE, Statista, MoE of Kazakhstan, Iran, Egypt, Thailand\",\n",
    "    showarrow=False,\n",
    "    xref=\"paper\",\n",
    "    yref=\"paper\",\n",
    "    font=dict(size=10, color=\"grey\"),\n",
    "    align=\"center\"\n",
    ") \n",
    "fig.update_layout(\n",
    "    title='Доля России в выездном потоке студентов по странам в 2017 и 2022 гг',\n",
    "    font=dict(size=12, color='black'),\n",
    "    barmode='group', \n",
    "    height=600,\n",
    "    width=1600,\n",
    "    yaxis=dict(title='', showgrid=True),\n",
    "    plot_bgcolor='white',\n",
    "    margin = dict(t=50, l=50, r=25, b=90),\n",
    "        annotations=original_annotations + [custom_annotation]\n",
    ")\n",
    "fig.update_traces(constraintext='none')\n",
    "pio.write_image(fig, \"Russia_share_outbound_flows_by_country_ru.png\")\n",
    "fig.update_layout(\n",
    "    title=\"Russia's Share in Student Outflow by Countries in 2017 and 2022\"\n",
    ")\n",
    "pio.write_image(fig, \"Russia_share_outbound_flows_by_country_en.png\")\n",
    "# fig.show()"
   ]
  },
  {
   "cell_type": "markdown",
   "metadata": {},
   "source": [
    "![Alt Text](Russia_share_outbound_flows_by_country_en.png)"
   ]
  },
  {
   "cell_type": "markdown",
   "metadata": {},
   "source": [
    "<h4>Where do students from major markets go?</h4>"
   ]
  },
  {
   "cell_type": "markdown",
   "metadata": {},
   "source": [
    "The top global markets for international education are China (over 900,000 outbound students per year), India (over 700,000), Vietnam and Uzbekistan (over 140,000 each), Germany and France (over 120,000), Pakistan (115,000), Nigeria (107,000), Nepal, the USA, and Syria (over 90,000). Let's see, how the student flows distributed among these countries."
   ]
  },
  {
   "cell_type": "code",
   "execution_count": 45,
   "metadata": {},
   "outputs": [],
   "source": [
    "all_out = countries2.groupby(['from'])['2017'].sum().reset_index()"
   ]
  },
  {
   "cell_type": "code",
   "execution_count": 46,
   "metadata": {},
   "outputs": [],
   "source": [
    "top_out_ru = {'Индия':'India Out','Китай':'China Out',\n",
    "           'Узбекистан':'Uzbekistan Out',\n",
    "           'Вьетнам':'Viet Nam Out',\n",
    "           'Азербайджан':'Azerbaijan Out',\n",
    "           'Беларусь':'Belarus Out',\n",
    "           'Казахстан':'Kazakhstan Out',\n",
    "           'Туркменистан':'Turkmenistan Out'}\n",
    "        #    'Germany Out','France Out','Pakistan Out','Nigeria Out','Nepal Out','USA Out',' Syrian Arab Republic Out']"
   ]
  },
  {
   "cell_type": "code",
   "execution_count": 47,
   "metadata": {},
   "outputs": [],
   "source": [
    "top_out_en = {'India':'India Out','China':'China Out',\n",
    "           'Uzbekistan':'Uzbekistan Out', 'Viet Nam':'Viet Nam Out',\n",
    "           'Azerbaijan':'Azerbaijan Out','Belarus':'Belarus Out',\n",
    "           'Kazakhstan':'Kazakhstan Out','Turkmenistan':'Turkmenistan Out',\n",
    "           'Germany':'Germany Out','France':'France Out',\n",
    "           'Pakistan':'Pakistan Out','Nigeria':'Nigeria Out',\n",
    "           'Nepal':'Nepal Out','USA':'USA Out',\n",
    "           'Syria':'Syrian Arab Republic Out'}"
   ]
  },
  {
   "cell_type": "markdown",
   "metadata": {},
   "source": [
    "Draw a chart for outbound students flow for every country for 2017 and 2022 years "
   ]
  },
  {
   "cell_type": "code",
   "execution_count": 51,
   "metadata": {},
   "outputs": [],
   "source": [
    "for country,otbound_country in top_out_en.items():\n",
    "    outbound_from_country = countries2[countries2['from']==otbound_country]\n",
    "    outbound_from_country_2017_top20 = outbound_from_country[['from','to','2017']]\n",
    "    outbound_from_country_2017_top20['share_2017'] = round(outbound_from_country_2017_top20['2017']/outbound_from_country_2017_top20['2017'].sum()*100,1)\n",
    "    outbound_from_country_2017_top20['to'] = outbound_from_country_2017_top20['to'].apply(lambda x:x.replace(' In',''))\n",
    "    outbound_from_country_2017_top20 = outbound_from_country_2017_top20[['to','2017','share_2017']].set_index('to').reset_index()\n",
    "    outbound_from_country_2017_top20['color'] = outbound_from_country_2017_top20['to'].map(country_colors)\n",
    "\n",
    "    outbound_from_country_2022_top20 = outbound_from_country[['from','to','2022']]\n",
    "    outbound_from_country_2022_top20['share_2022'] = round(outbound_from_country_2022_top20['2022']/outbound_from_country_2022_top20['2022'].sum()*100,1)\n",
    "    outbound_from_country_2022_top20['to'] = outbound_from_country_2022_top20['to'].apply(lambda x:x.replace(' In',''))\n",
    "    outbound_from_country_2022_top20 = outbound_from_country_2022_top20[['to','2022','share_2022']].set_index('to').reset_index()\n",
    "    outbound_from_country_2022_top20['color'] = outbound_from_country_2022_top20['to'].map(country_colors)\n",
    "\n",
    "    outbound_from_country_2017_top20 = outbound_from_country_2017_top20.sort_values(by='2017',ascending=False).head(10).sort_values(by='2017',ascending=True)\n",
    "    outbound_from_country_2022_top20 = outbound_from_country_2022_top20.sort_values(by='2022',ascending=False).head(10).sort_values(by='2022',ascending=True)\n",
    "    fig = make_subplots(\n",
    "        rows=1, cols=2,\n",
    "        subplot_titles=['2017', '2022'],\n",
    "        row_heights =[1],\n",
    "        horizontal_spacing=0.12,\n",
    "        column_widths = [0.4, 0.4],\n",
    "    )\n",
    "    trace1 = go.Bar(\n",
    "        y=outbound_from_country_2017_top20['to'],\n",
    "        x=outbound_from_country_2017_top20['2017'],\n",
    "        orientation='h',\n",
    "        name=f'2017',\n",
    "        text=[f\"{value/1000:.1f}k ({outbound_from_country_2017_top20['share_2017'].values[j]}%)\" if value < 10000 else f\"{int(value/1000)}k ({outbound_from_country_2017_top20['share_2017'].values[j]}%)\" for j,value in enumerate(outbound_from_country_2017_top20['2017'])],\n",
    "        textposition='outside',\n",
    "        textfont=dict(size=10),\n",
    "        marker_color=[color for color in outbound_from_country_2017_top20['color']],\n",
    "        cliponaxis=False \n",
    "        )\n",
    "    trace2 = go.Bar(\n",
    "        y=outbound_from_country_2022_top20['to'],\n",
    "        x=outbound_from_country_2022_top20['2022'],\n",
    "        orientation='h',\n",
    "        name=f'2022',\n",
    "        text=[f\"{value/1000:.1f}k ({outbound_from_country_2022_top20['share_2022'].values[j]}%)\" if value < 10000 else f\"{int(value/1000)}k ({outbound_from_country_2022_top20['share_2022'].values[j]}%)\" for j,value in enumerate(outbound_from_country_2022_top20['2022'])],  \n",
    "        textposition='outside',\n",
    "        textfont=dict(size=10),\n",
    "        marker_color=[color for color in outbound_from_country_2022_top20['color']],\n",
    "        cliponaxis=False \n",
    "        )\n",
    "        \n",
    "    fig.add_trace(trace1, row=1, col=1)\n",
    "    fig.add_trace(trace2, row=1, col=2)\n",
    "            \n",
    "    fig.update_layout(\n",
    "        title=f'Top-10 Countries for Student Outflow, {country}, 2017 and 2022',\n",
    "        font=dict(size=12, color='black'),\n",
    "        barmode='group', \n",
    "        yaxis=dict(\n",
    "            tickfont=dict(size=10)  # Adjust font size for every subplot\n",
    "        ),\n",
    "        yaxis2=dict(\n",
    "            tickfont=dict(size=10) \n",
    "        ),\n",
    "        xaxis=dict(\n",
    "            tickfont=dict(size=10)\n",
    "        ),\n",
    "        xaxis2=dict(\n",
    "            tickfont=dict(size=10) \n",
    "        ),\n",
    "        height=400,\n",
    "        width=1100,\n",
    "        showlegend=False,\n",
    "        margin=dict(l=20, r=60, t=100, b=100),\n",
    "        plot_bgcolor='white',\n",
    "        annotations=[\n",
    "                dict(\n",
    "                    x=0.2,  # Center of first subplot\n",
    "                    y=1.05, \n",
    "                    text=\"2017\",\n",
    "                    showarrow=False,\n",
    "                    font=dict(size=8, color=\"black\"),\n",
    "                ),\n",
    "                dict(\n",
    "                    x=0.78,  # Center of second subplot\n",
    "                    y=1.05, \n",
    "                    text=\"2022\",\n",
    "                    showarrow=False,\n",
    "                    font=dict(size=8, color=\"black\"),\n",
    "                ),\n",
    "                dict(\n",
    "                    x=0.005,  # Center the annotation\n",
    "                    y=-0.25,  # Move it below the chart\n",
    "                    text=\"@Conspect Labs, Sources: UNESCO, OpenDoorsData, Nuffic, IIE, Statista, MoE of Kazakhstan, Iran, Egypt, Thailand\",\n",
    "                    showarrow=False,\n",
    "                    xref=\"paper\",  # Use paper coordinates\n",
    "                    yref=\"paper\",\n",
    "                    font=dict(size=10, color=\"grey\"),\n",
    "                    align=\"left\"\n",
    "            )\n",
    "            ]\n",
    "    )\n",
    "pio.write_image(fig, f\"Top-10_Countries_for_Student_Outflow_({country})_2017_2022.png\")\n",
    "    \n",
    "    # Create a second version with Russian titles\n",
    "fig.update_layout(\n",
    "    title=f'Топ-10 стран по направлениям выезда студентов, {country}, 2017 и 2022 гг.'\n",
    ")\n",
    "\n",
    "pio.write_image(fig, f\"Топ-10 стран по направлениям выезда студентов ({country}), 2017 и 2022 гг.png\")\n",
    "    "
   ]
  },
  {
   "cell_type": "markdown",
   "metadata": {},
   "source": [
    "![Alt Text](Top-10_Countries_for_Student_Outflow_(China)_2017_2022.png)"
   ]
  },
  {
   "cell_type": "markdown",
   "metadata": {},
   "source": [
    "![Alt Text](Top-10_Countries_for_Student_Outflow_(India)_2017_2022.png)"
   ]
  },
  {
   "cell_type": "markdown",
   "metadata": {},
   "source": [
    "![Alt Text](Top-10_Countries_for_Student_Outflow_(Uzbekistan)_2017_2022.png)"
   ]
  },
  {
   "cell_type": "markdown",
   "metadata": {},
   "source": [
    "![Alt Text](Top-10_Countries_for_Student_Outflow_(Viet_Nam)_2017_2022.png)"
   ]
  }
 ],
 "metadata": {
  "kernelspec": {
   "display_name": "Python 3",
   "language": "python",
   "name": "python3"
  },
  "language_info": {
   "codemirror_mode": {
    "name": "ipython",
    "version": 3
   },
   "file_extension": ".py",
   "mimetype": "text/x-python",
   "name": "python",
   "nbconvert_exporter": "python",
   "pygments_lexer": "ipython3",
   "version": "3.11.9"
  }
 },
 "nbformat": 4,
 "nbformat_minor": 2
}
