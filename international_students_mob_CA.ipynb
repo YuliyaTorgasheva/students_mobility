{
 "cells": [
  {
   "cell_type": "code",
   "execution_count": 3,
   "metadata": {},
   "outputs": [],
   "source": [
    "import pandas as pd\n",
    "import matplotlib.pyplot as plt\n",
    "import numpy as np\n",
    "from matplotlib.ticker import ScalarFormatter\n",
    "import plotly.graph_objects as go\n",
    "from plotly.subplots import make_subplots\n",
    "import plotly.io as pio\n",
    "import plotly.express as px"
   ]
  },
  {
   "cell_type": "markdown",
   "metadata": {},
   "source": [
    "<h4>Данные</h4>"
   ]
  },
  {
   "cell_type": "markdown",
   "metadata": {},
   "source": [
    "<p>UNESCO Bulk Data Download Service can be accessed here: <a href>https://uis.unesco.org/bdds</a> \n",
    "<br> Labels list is analyzed and students inbound indicators are extracted into distinct csv file named <i>OPRI_student_labels.csv</i>\n",
    "<br>UNESCO Data Service is also availabla at https://data.uis.unesco.org/#\n",
    "<p>UNESCO UIS DataSet for 2017 and 2022 lacks data from USA, Mexico, Netherlands, Iran, Kazakhstan and some other countries. They are taken from the following sources:\n",
    "<br> USA, 2022 - <a href>https://opendoorsdata.org</a> (by source countries)\n",
    "<br>China, 2022 - http://www.moe.gov.cn/jyb_xwfb/gzdt_gzdt/s5987/201904/t20190412_377692.html taken pre-pandemic for distinct countries, total from http://en.moe.gov.cn/documents/statistics/2022/national/202401/t20240110_1099530.html for 2022\n",
    "<br>China, 2017 - are from 2018 https://docs.aiddata.org/reports/corridors-of-power.html#figure4\n",
    "<br>Philippines\n",
    "<br>Israel\n",
    "<br> Netherlands, 2022 - https://www.nuffic.nl/sites/default/files/2023-06/incoming-degree-mobility-in-dutch-higher-education-2022-2023.pdf (total and by source countries where provided)\n",
    "<br> Mexico, 2022 - https://www.iie.org/research-initiatives/project-atlas/explore-data/mexico-2/ (total inbound students)\n",
    "<br> Iran, 2022 - https://tehrantimes.com/news/483478/Students-from-91-countries-studying-in-Iranian-universities (total inbound students)\n",
    "<br> Kazakhstan, 2022 - https://enic-kazakhstan.edu.kz/uploads/additional_files_items/193/file/tadzhikistan.pdf?cache=1691397957, https://enic-kazakhstan.edu.kz/uploads/additional_files_items/156/file/mezhdunarodnoe-sotrudnichestvo-sng.pdf?cache=1677496628, https://enic-kazakhstan.edu.kz/uploads/additional_files_items/138/file/3-1-monitoring-akademicheskoy-mobilnosti-2022-rus.pdf?cache=1672983807 (total and by source countries where provided)\n",
    "<br> Egypt, 2017 - https://enterprise.press/stories/2019/12/16/how-egypt-is-positioning-itself-as-an-educational-hub-for-international-students-8512/ (total inbound students)\n",
    "<br> Thailand, 2017 - https://apheit.bu.ac.th/jounal/Inter-vol8-1/นานาชาติ_บทความวิจัย_2.pdf (total inbound students)\n"
   ]
  },
  {
   "cell_type": "code",
   "execution_count": 415,
   "metadata": {},
   "outputs": [
    {
     "name": "stdout",
     "output_type": "stream",
     "text": [
      "Index(['COUNTRY_ID', 'COUNTRY_NAME_EN'], dtype='object')\n"
     ]
    },
    {
     "data": {
      "text/html": [
       "<div>\n",
       "<style scoped>\n",
       "    .dataframe tbody tr th:only-of-type {\n",
       "        vertical-align: middle;\n",
       "    }\n",
       "\n",
       "    .dataframe tbody tr th {\n",
       "        vertical-align: top;\n",
       "    }\n",
       "\n",
       "    .dataframe thead th {\n",
       "        text-align: right;\n",
       "    }\n",
       "</style>\n",
       "<table border=\"1\" class=\"dataframe\">\n",
       "  <thead>\n",
       "    <tr style=\"text-align: right;\">\n",
       "      <th></th>\n",
       "      <th>COUNTRY_ID</th>\n",
       "      <th>COUNTRY_NAME_EN</th>\n",
       "    </tr>\n",
       "  </thead>\n",
       "  <tbody>\n",
       "    <tr>\n",
       "      <th>0</th>\n",
       "      <td>AFG</td>\n",
       "      <td>Afghanistan</td>\n",
       "    </tr>\n",
       "    <tr>\n",
       "      <th>1</th>\n",
       "      <td>ALB</td>\n",
       "      <td>Albania</td>\n",
       "    </tr>\n",
       "  </tbody>\n",
       "</table>\n",
       "</div>"
      ],
      "text/plain": [
       "  COUNTRY_ID COUNTRY_NAME_EN\n",
       "0        AFG     Afghanistan\n",
       "1        ALB         Albania"
      ]
     },
     "execution_count": 415,
     "metadata": {},
     "output_type": "execute_result"
    }
   ],
   "source": [
    "country_names = pd.read_csv(r\"C:\\Users\\yuliy\\Documents\\UNESCO Education\\OPRI_COUNTRY.csv\")\n",
    "print(country_names.columns)\n",
    "country_names.head(2)"
   ]
  },
  {
   "cell_type": "code",
   "execution_count": 416,
   "metadata": {},
   "outputs": [
    {
     "name": "stdout",
     "output_type": "stream",
     "text": [
      "Index(['INDICATOR_ID', 'INDICATOR_LABEL_EN'], dtype='object')\n"
     ]
    },
    {
     "data": {
      "text/html": [
       "<div>\n",
       "<style scoped>\n",
       "    .dataframe tbody tr th:only-of-type {\n",
       "        vertical-align: middle;\n",
       "    }\n",
       "\n",
       "    .dataframe tbody tr th {\n",
       "        vertical-align: top;\n",
       "    }\n",
       "\n",
       "    .dataframe thead th {\n",
       "        text-align: right;\n",
       "    }\n",
       "</style>\n",
       "<table border=\"1\" class=\"dataframe\">\n",
       "  <thead>\n",
       "    <tr style=\"text-align: right;\">\n",
       "      <th></th>\n",
       "      <th>INDICATOR_ID</th>\n",
       "      <th>INDICATOR_LABEL_EN</th>\n",
       "    </tr>\n",
       "  </thead>\n",
       "  <tbody>\n",
       "    <tr>\n",
       "      <th>0</th>\n",
       "      <td>26421</td>\n",
       "      <td>Africa: Students from Algeria, both sexes (num...</td>\n",
       "    </tr>\n",
       "    <tr>\n",
       "      <th>1</th>\n",
       "      <td>26422</td>\n",
       "      <td>Africa: Students from Angola, both sexes (number)</td>\n",
       "    </tr>\n",
       "  </tbody>\n",
       "</table>\n",
       "</div>"
      ],
      "text/plain": [
       "   INDICATOR_ID                                 INDICATOR_LABEL_EN\n",
       "0         26421  Africa: Students from Algeria, both sexes (num...\n",
       "1         26422  Africa: Students from Angola, both sexes (number)"
      ]
     },
     "execution_count": 416,
     "metadata": {},
     "output_type": "execute_result"
    }
   ],
   "source": [
    "labels = pd.read_csv(r\"C:\\Users\\yuliy\\Documents\\UNESCO Education\\OPRI_students_label.csv\")\n",
    "print(labels.columns)\n",
    "labels.head(2)"
   ]
  },
  {
   "cell_type": "code",
   "execution_count": 417,
   "metadata": {},
   "outputs": [
    {
     "name": "stderr",
     "output_type": "stream",
     "text": [
      "C:\\Users\\yuliy\\AppData\\Local\\Temp\\ipykernel_15076\\3015259283.py:1: DtypeWarning:\n",
      "\n",
      "Columns (0,4) have mixed types. Specify dtype option on import or set low_memory=False.\n",
      "\n"
     ]
    },
    {
     "name": "stdout",
     "output_type": "stream",
     "text": [
      "Index(['indicator_id', 'country_id', 'year', 'value', 'magnitude',\n",
      "       'qualifier'],\n",
      "      dtype='object')\n"
     ]
    },
    {
     "data": {
      "text/html": [
       "<div>\n",
       "<style scoped>\n",
       "    .dataframe tbody tr th:only-of-type {\n",
       "        vertical-align: middle;\n",
       "    }\n",
       "\n",
       "    .dataframe tbody tr th {\n",
       "        vertical-align: top;\n",
       "    }\n",
       "\n",
       "    .dataframe thead th {\n",
       "        text-align: right;\n",
       "    }\n",
       "</style>\n",
       "<table border=\"1\" class=\"dataframe\">\n",
       "  <thead>\n",
       "    <tr style=\"text-align: right;\">\n",
       "      <th></th>\n",
       "      <th>indicator_id</th>\n",
       "      <th>country_id</th>\n",
       "      <th>year</th>\n",
       "      <th>value</th>\n",
       "      <th>magnitude</th>\n",
       "      <th>qualifier</th>\n",
       "    </tr>\n",
       "  </thead>\n",
       "  <tbody>\n",
       "    <tr>\n",
       "      <th>0</th>\n",
       "      <td>10</td>\n",
       "      <td>ABW</td>\n",
       "      <td>1998</td>\n",
       "      <td>0.0</td>\n",
       "      <td>NaN</td>\n",
       "      <td>NaN</td>\n",
       "    </tr>\n",
       "    <tr>\n",
       "      <th>1</th>\n",
       "      <td>10</td>\n",
       "      <td>ABW</td>\n",
       "      <td>1999</td>\n",
       "      <td>0.0</td>\n",
       "      <td>NaN</td>\n",
       "      <td>NaN</td>\n",
       "    </tr>\n",
       "  </tbody>\n",
       "</table>\n",
       "</div>"
      ],
      "text/plain": [
       "  indicator_id country_id  year  value magnitude qualifier\n",
       "0           10        ABW  1998    0.0       NaN       NaN\n",
       "1           10        ABW  1999    0.0       NaN       NaN"
      ]
     },
     "execution_count": 417,
     "metadata": {},
     "output_type": "execute_result"
    }
   ],
   "source": [
    "national = pd.read_csv(r\"C:\\Users\\yuliy\\Documents\\UNESCO Education\\OPRI_DATA_NATIONAL.csv\")\n",
    "print(national.columns)\n",
    "national.head(2)"
   ]
  },
  {
   "cell_type": "code",
   "execution_count": 418,
   "metadata": {},
   "outputs": [
    {
     "data": {
      "text/html": [
       "<div>\n",
       "<style scoped>\n",
       "    .dataframe tbody tr th:only-of-type {\n",
       "        vertical-align: middle;\n",
       "    }\n",
       "\n",
       "    .dataframe tbody tr th {\n",
       "        vertical-align: top;\n",
       "    }\n",
       "\n",
       "    .dataframe thead th {\n",
       "        text-align: right;\n",
       "    }\n",
       "</style>\n",
       "<table border=\"1\" class=\"dataframe\">\n",
       "  <thead>\n",
       "    <tr style=\"text-align: right;\">\n",
       "      <th></th>\n",
       "      <th>from</th>\n",
       "      <th>to</th>\n",
       "      <th>year</th>\n",
       "      <th>value</th>\n",
       "      <th>country_id</th>\n",
       "    </tr>\n",
       "  </thead>\n",
       "  <tbody>\n",
       "    <tr>\n",
       "      <th>0</th>\n",
       "      <td>Afghanistan</td>\n",
       "      <td>United States of America</td>\n",
       "      <td>2022</td>\n",
       "      <td>682</td>\n",
       "      <td>USA</td>\n",
       "    </tr>\n",
       "    <tr>\n",
       "      <th>1</th>\n",
       "      <td>Albania</td>\n",
       "      <td>United States of America</td>\n",
       "      <td>2022</td>\n",
       "      <td>1087</td>\n",
       "      <td>USA</td>\n",
       "    </tr>\n",
       "  </tbody>\n",
       "</table>\n",
       "</div>"
      ],
      "text/plain": [
       "          from                        to  year  value country_id\n",
       "0  Afghanistan  United States of America  2022    682        USA\n",
       "1      Albania  United States of America  2022   1087        USA"
      ]
     },
     "execution_count": 418,
     "metadata": {},
     "output_type": "execute_result"
    }
   ],
   "source": [
    "#Add USA inbound students\n",
    "usa_add_long = pd.read_csv(\"usa_inbound.csv\")\n",
    "usa_add_long['to'] = 'United States of America'\n",
    "usa_add_long['year'] = '2022'\n",
    "usa_add_long = usa_add_long.rename(columns={'unesco':'from'})\n",
    "usa_add_long = usa_add_long[['from','to','year','2022']]\n",
    "usa_add_long.columns = ['from','to','year','value']\n",
    "usa_add_long = usa_add_long[usa_add_long['from']!='#Н/Д']\n",
    "usa_add_long['value'] = usa_add_long['value'].fillna(0).astype(int)\n",
    "usa_add_long['country_id'] = 'USA'\n",
    "usa_add_long.head(2)"
   ]
  },
  {
   "cell_type": "code",
   "execution_count": 419,
   "metadata": {},
   "outputs": [
    {
     "data": {
      "text/html": [
       "<div>\n",
       "<style scoped>\n",
       "    .dataframe tbody tr th:only-of-type {\n",
       "        vertical-align: middle;\n",
       "    }\n",
       "\n",
       "    .dataframe tbody tr th {\n",
       "        vertical-align: top;\n",
       "    }\n",
       "\n",
       "    .dataframe thead th {\n",
       "        text-align: right;\n",
       "    }\n",
       "</style>\n",
       "<table border=\"1\" class=\"dataframe\">\n",
       "  <thead>\n",
       "    <tr style=\"text-align: right;\">\n",
       "      <th></th>\n",
       "      <th>from</th>\n",
       "      <th>to</th>\n",
       "      <th>year</th>\n",
       "      <th>value</th>\n",
       "      <th>country_id</th>\n",
       "    </tr>\n",
       "  </thead>\n",
       "  <tbody>\n",
       "    <tr>\n",
       "      <th>0</th>\n",
       "      <td>Uzbekistan</td>\n",
       "      <td>Kazakhstan</td>\n",
       "      <td>2022</td>\n",
       "      <td>9571.0</td>\n",
       "      <td>KAZ</td>\n",
       "    </tr>\n",
       "    <tr>\n",
       "      <th>1</th>\n",
       "      <td>Tajikistan</td>\n",
       "      <td>Kazakhstan</td>\n",
       "      <td>2022</td>\n",
       "      <td>361.0</td>\n",
       "      <td>KAZ</td>\n",
       "    </tr>\n",
       "  </tbody>\n",
       "</table>\n",
       "</div>"
      ],
      "text/plain": [
       "         from          to  year   value country_id\n",
       "0  Uzbekistan  Kazakhstan  2022  9571.0        KAZ\n",
       "1  Tajikistan  Kazakhstan  2022   361.0        KAZ"
      ]
     },
     "execution_count": 419,
     "metadata": {},
     "output_type": "execute_result"
    }
   ],
   "source": [
    "#Add Kazakhstan inbound students\n",
    "kaz_add_long = pd.read_csv(\"kazakhstan_inbound.csv\")\n",
    "kaz_add_long['year'] = kaz_add_long['year'].astype(str)\n",
    "kaz_add_long['country_id'] = 'KAZ'\n",
    "kaz_add_long.head(2)"
   ]
  },
  {
   "cell_type": "code",
   "execution_count": null,
   "metadata": {},
   "outputs": [
    {
     "data": {
      "text/html": [
       "<div>\n",
       "<style scoped>\n",
       "    .dataframe tbody tr th:only-of-type {\n",
       "        vertical-align: middle;\n",
       "    }\n",
       "\n",
       "    .dataframe tbody tr th {\n",
       "        vertical-align: top;\n",
       "    }\n",
       "\n",
       "    .dataframe thead th {\n",
       "        text-align: right;\n",
       "    }\n",
       "</style>\n",
       "<table border=\"1\" class=\"dataframe\">\n",
       "  <thead>\n",
       "    <tr style=\"text-align: right;\">\n",
       "      <th></th>\n",
       "      <th>from</th>\n",
       "      <th>to</th>\n",
       "      <th>year</th>\n",
       "      <th>value</th>\n",
       "      <th>country_id</th>\n",
       "    </tr>\n",
       "  </thead>\n",
       "  <tbody>\n",
       "    <tr>\n",
       "      <th>18</th>\n",
       "      <td>Belgium</td>\n",
       "      <td>Netherlands</td>\n",
       "      <td>2022</td>\n",
       "      <td>4780.0</td>\n",
       "      <td>NLD</td>\n",
       "    </tr>\n",
       "    <tr>\n",
       "      <th>29</th>\n",
       "      <td>Bulgaria</td>\n",
       "      <td>Netherlands</td>\n",
       "      <td>2022</td>\n",
       "      <td>5112.0</td>\n",
       "      <td>NLD</td>\n",
       "    </tr>\n",
       "  </tbody>\n",
       "</table>\n",
       "</div>"
      ],
      "text/plain": [
       "        from           to  year   value country_id\n",
       "18   Belgium  Netherlands  2022  4780.0        NLD\n",
       "29  Bulgaria  Netherlands  2022  5112.0        NLD"
      ]
     },
     "execution_count": 420,
     "metadata": {},
     "output_type": "execute_result"
    }
   ],
   "source": [
    "#Addd Netherlands inbound students\n",
    "nld_add_long = pd.read_csv(\"nld_inbound.csv\")\n",
    "nld_add_long  = nld_add_long.dropna()\n",
    "nld_add_long['year'] = nld_add_long['year'].astype(str)\n",
    "nld_add_long['country_id'] = 'NLD'\n",
    "nld_add_long.head(2)"
   ]
  },
  {
   "cell_type": "code",
   "execution_count": 444,
   "metadata": {},
   "outputs": [
    {
     "data": {
      "text/html": [
       "<div>\n",
       "<style scoped>\n",
       "    .dataframe tbody tr th:only-of-type {\n",
       "        vertical-align: middle;\n",
       "    }\n",
       "\n",
       "    .dataframe tbody tr th {\n",
       "        vertical-align: top;\n",
       "    }\n",
       "\n",
       "    .dataframe thead th {\n",
       "        text-align: right;\n",
       "    }\n",
       "</style>\n",
       "<table border=\"1\" class=\"dataframe\">\n",
       "  <thead>\n",
       "    <tr style=\"text-align: right;\">\n",
       "      <th></th>\n",
       "      <th>from</th>\n",
       "      <th>to</th>\n",
       "      <th>year</th>\n",
       "      <th>value</th>\n",
       "      <th>country_id</th>\n",
       "    </tr>\n",
       "  </thead>\n",
       "  <tbody>\n",
       "    <tr>\n",
       "      <th>0</th>\n",
       "      <td>India</td>\n",
       "      <td>China</td>\n",
       "      <td>2017</td>\n",
       "      <td>23198</td>\n",
       "      <td>CHN</td>\n",
       "    </tr>\n",
       "    <tr>\n",
       "      <th>1</th>\n",
       "      <td>India</td>\n",
       "      <td>China</td>\n",
       "      <td>2022</td>\n",
       "      <td>23198</td>\n",
       "      <td>CHN</td>\n",
       "    </tr>\n",
       "  </tbody>\n",
       "</table>\n",
       "</div>"
      ],
      "text/plain": [
       "    from     to  year  value country_id\n",
       "0  India  China  2017  23198        CHN\n",
       "1  India  China  2022  23198        CHN"
      ]
     },
     "execution_count": 444,
     "metadata": {},
     "output_type": "execute_result"
    }
   ],
   "source": [
    "china_add_long = pd.read_csv(\"china_inbound.csv\")\n",
    "china_add_long  = china_add_long.dropna()\n",
    "china_add_long['year'] = china_add_long['year'].astype(str)\n",
    "china_add_long['country_id'] = 'CHN'\n",
    "china_add_long.head(2)"
   ]
  },
  {
   "cell_type": "markdown",
   "metadata": {},
   "source": [
    "inbound отчеты - обработка и добавление отсутствующих стран"
   ]
  },
  {
   "cell_type": "code",
   "execution_count": 421,
   "metadata": {},
   "outputs": [
    {
     "name": "stderr",
     "output_type": "stream",
     "text": [
      "C:\\Users\\yuliy\\AppData\\Local\\Temp\\ipykernel_15076\\1943333084.py:3: SettingWithCopyWarning:\n",
      "\n",
      "\n",
      "A value is trying to be set on a copy of a slice from a DataFrame.\n",
      "Try using .loc[row_indexer,col_indexer] = value instead\n",
      "\n",
      "See the caveats in the documentation: https://pandas.pydata.org/pandas-docs/stable/user_guide/indexing.html#returning-a-view-versus-a-copy\n",
      "\n"
     ]
    },
    {
     "data": {
      "text/html": [
       "<div>\n",
       "<style scoped>\n",
       "    .dataframe tbody tr th:only-of-type {\n",
       "        vertical-align: middle;\n",
       "    }\n",
       "\n",
       "    .dataframe tbody tr th {\n",
       "        vertical-align: top;\n",
       "    }\n",
       "\n",
       "    .dataframe thead th {\n",
       "        text-align: right;\n",
       "    }\n",
       "</style>\n",
       "<table border=\"1\" class=\"dataframe\">\n",
       "  <thead>\n",
       "    <tr style=\"text-align: right;\">\n",
       "      <th></th>\n",
       "      <th>INDICATOR_ID</th>\n",
       "      <th>INDICATOR_LABEL_EN</th>\n",
       "      <th>from</th>\n",
       "    </tr>\n",
       "  </thead>\n",
       "  <tbody>\n",
       "    <tr>\n",
       "      <th>0</th>\n",
       "      <td>26421</td>\n",
       "      <td>Africa: Students from Algeria, both sexes (num...</td>\n",
       "      <td>Algeria</td>\n",
       "    </tr>\n",
       "    <tr>\n",
       "      <th>1</th>\n",
       "      <td>26422</td>\n",
       "      <td>Africa: Students from Angola, both sexes (number)</td>\n",
       "      <td>Angola</td>\n",
       "    </tr>\n",
       "    <tr>\n",
       "      <th>2</th>\n",
       "      <td>26423</td>\n",
       "      <td>Africa: Students from Benin, both sexes (number)</td>\n",
       "      <td>Benin</td>\n",
       "    </tr>\n",
       "    <tr>\n",
       "      <th>3</th>\n",
       "      <td>26424</td>\n",
       "      <td>Africa: Students from Botswana, both sexes (nu...</td>\n",
       "      <td>Botswana</td>\n",
       "    </tr>\n",
       "    <tr>\n",
       "      <th>4</th>\n",
       "      <td>26425</td>\n",
       "      <td>Africa: Students from Burkina Faso, both sexes...</td>\n",
       "      <td>Burkina Faso</td>\n",
       "    </tr>\n",
       "  </tbody>\n",
       "</table>\n",
       "</div>"
      ],
      "text/plain": [
       "   INDICATOR_ID                                 INDICATOR_LABEL_EN  \\\n",
       "0         26421  Africa: Students from Algeria, both sexes (num...   \n",
       "1         26422  Africa: Students from Angola, both sexes (number)   \n",
       "2         26423   Africa: Students from Benin, both sexes (number)   \n",
       "3         26424  Africa: Students from Botswana, both sexes (nu...   \n",
       "4         26425  Africa: Students from Burkina Faso, both sexes...   \n",
       "\n",
       "           from  \n",
       "0       Algeria  \n",
       "1        Angola  \n",
       "2         Benin  \n",
       "3      Botswana  \n",
       "4  Burkina Faso  "
      ]
     },
     "execution_count": 421,
     "metadata": {},
     "output_type": "execute_result"
    }
   ],
   "source": [
    "#Extract labels and countru names from UIS dataset\n",
    "from_to_labels = labels[~labels['INDICATOR_ID'].isin([26637,26638,43188])]\n",
    "from_to_labels['from'] = from_to_labels['INDICATOR_LABEL_EN'].apply(lambda x:x.split('from ')[1].split(', both sexes (number)')[0].replace('the ',''))\n",
    "from_to_labels.head()"
   ]
  },
  {
   "cell_type": "code",
   "execution_count": 422,
   "metadata": {},
   "outputs": [
    {
     "name": "stdout",
     "output_type": "stream",
     "text": [
      "(453280, 6)\n"
     ]
    },
    {
     "data": {
      "text/html": [
       "<div>\n",
       "<style scoped>\n",
       "    .dataframe tbody tr th:only-of-type {\n",
       "        vertical-align: middle;\n",
       "    }\n",
       "\n",
       "    .dataframe tbody tr th {\n",
       "        vertical-align: top;\n",
       "    }\n",
       "\n",
       "    .dataframe thead th {\n",
       "        text-align: right;\n",
       "    }\n",
       "</style>\n",
       "<table border=\"1\" class=\"dataframe\">\n",
       "  <thead>\n",
       "    <tr style=\"text-align: right;\">\n",
       "      <th></th>\n",
       "      <th>indicator_id</th>\n",
       "      <th>country_id</th>\n",
       "      <th>year</th>\n",
       "      <th>value</th>\n",
       "      <th>from</th>\n",
       "      <th>to</th>\n",
       "    </tr>\n",
       "  </thead>\n",
       "  <tbody>\n",
       "    <tr>\n",
       "      <th>0</th>\n",
       "      <td>26421</td>\n",
       "      <td>ABW</td>\n",
       "      <td>2003</td>\n",
       "      <td>0</td>\n",
       "      <td>Algeria</td>\n",
       "      <td>Aruba</td>\n",
       "    </tr>\n",
       "    <tr>\n",
       "      <th>1</th>\n",
       "      <td>26421</td>\n",
       "      <td>ABW</td>\n",
       "      <td>2004</td>\n",
       "      <td>0</td>\n",
       "      <td>Algeria</td>\n",
       "      <td>Aruba</td>\n",
       "    </tr>\n",
       "    <tr>\n",
       "      <th>2</th>\n",
       "      <td>26421</td>\n",
       "      <td>ABW</td>\n",
       "      <td>2006</td>\n",
       "      <td>0</td>\n",
       "      <td>Algeria</td>\n",
       "      <td>Aruba</td>\n",
       "    </tr>\n",
       "    <tr>\n",
       "      <th>3</th>\n",
       "      <td>26421</td>\n",
       "      <td>ABW</td>\n",
       "      <td>2009</td>\n",
       "      <td>0</td>\n",
       "      <td>Algeria</td>\n",
       "      <td>Aruba</td>\n",
       "    </tr>\n",
       "    <tr>\n",
       "      <th>4</th>\n",
       "      <td>26421</td>\n",
       "      <td>ABW</td>\n",
       "      <td>2010</td>\n",
       "      <td>0</td>\n",
       "      <td>Algeria</td>\n",
       "      <td>Aruba</td>\n",
       "    </tr>\n",
       "  </tbody>\n",
       "</table>\n",
       "</div>"
      ],
      "text/plain": [
       "  indicator_id country_id  year  value     from     to\n",
       "0        26421        ABW  2003      0  Algeria  Aruba\n",
       "1        26421        ABW  2004      0  Algeria  Aruba\n",
       "2        26421        ABW  2006      0  Algeria  Aruba\n",
       "3        26421        ABW  2009      0  Algeria  Aruba\n",
       "4        26421        ABW  2010      0  Algeria  Aruba"
      ]
     },
     "execution_count": 422,
     "metadata": {},
     "output_type": "execute_result"
    }
   ],
   "source": [
    "total_from_to = national[national['indicator_id'].isin(from_to_labels['INDICATOR_ID'].unique())]\n",
    "total_from_to = pd.merge(total_from_to,from_to_labels,left_on='indicator_id',right_on='INDICATOR_ID',how='left')\n",
    "total_from_to = pd.merge(total_from_to,country_names,left_on='country_id',right_on='COUNTRY_ID',how='left')\n",
    "total_from_to = total_from_to.rename(columns={'COUNTRY_NAME_EN':'to'})\n",
    "total_from_to =total_from_to[['indicator_id','country_id','year','value','from','to']]\n",
    "total_from_to['value'] = total_from_to['value'].astype(int)\n",
    "print(total_from_to.shape)\n",
    "total_from_to.head()"
   ]
  },
  {
   "cell_type": "code",
   "execution_count": 423,
   "metadata": {},
   "outputs": [],
   "source": [
    "canada_in = total_from_to[((total_from_to['to'] == 'Canada') & (total_from_to['year'] == 2022))]"
   ]
  },
  {
   "cell_type": "code",
   "execution_count": 424,
   "metadata": {},
   "outputs": [
    {
     "data": {
      "text/html": [
       "<div>\n",
       "<style scoped>\n",
       "    .dataframe tbody tr th:only-of-type {\n",
       "        vertical-align: middle;\n",
       "    }\n",
       "\n",
       "    .dataframe tbody tr th {\n",
       "        vertical-align: top;\n",
       "    }\n",
       "\n",
       "    .dataframe thead th {\n",
       "        text-align: right;\n",
       "    }\n",
       "</style>\n",
       "<table border=\"1\" class=\"dataframe\">\n",
       "  <thead>\n",
       "    <tr style=\"text-align: right;\">\n",
       "      <th></th>\n",
       "      <th>indicator_id</th>\n",
       "      <th>country_id</th>\n",
       "      <th>year</th>\n",
       "      <th>value</th>\n",
       "      <th>from</th>\n",
       "      <th>to</th>\n",
       "    </tr>\n",
       "  </thead>\n",
       "  <tbody>\n",
       "    <tr>\n",
       "      <th>372156</th>\n",
       "      <td>26599</td>\n",
       "      <td>NLD</td>\n",
       "      <td>2022</td>\n",
       "      <td>0</td>\n",
       "      <td>Netherlands</td>\n",
       "      <td>Netherlands</td>\n",
       "    </tr>\n",
       "  </tbody>\n",
       "</table>\n",
       "</div>"
      ],
      "text/plain": [
       "       indicator_id country_id  year  value         from           to\n",
       "372156        26599        NLD  2022      0  Netherlands  Netherlands"
      ]
     },
     "execution_count": 424,
     "metadata": {},
     "output_type": "execute_result"
    }
   ],
   "source": [
    "total_from_to[((total_from_to['to'] == 'Netherlands') & (total_from_to['year'] == 2022))]"
   ]
  },
  {
   "cell_type": "code",
   "execution_count": 425,
   "metadata": {},
   "outputs": [
    {
     "data": {
      "text/html": [
       "<div>\n",
       "<style scoped>\n",
       "    .dataframe tbody tr th:only-of-type {\n",
       "        vertical-align: middle;\n",
       "    }\n",
       "\n",
       "    .dataframe tbody tr th {\n",
       "        vertical-align: top;\n",
       "    }\n",
       "\n",
       "    .dataframe thead th {\n",
       "        text-align: right;\n",
       "    }\n",
       "</style>\n",
       "<table border=\"1\" class=\"dataframe\">\n",
       "  <thead>\n",
       "    <tr style=\"text-align: right;\">\n",
       "      <th></th>\n",
       "      <th>indicator_id</th>\n",
       "      <th>country_id</th>\n",
       "      <th>year</th>\n",
       "      <th>value</th>\n",
       "      <th>from</th>\n",
       "      <th>to</th>\n",
       "    </tr>\n",
       "  </thead>\n",
       "  <tbody>\n",
       "  </tbody>\n",
       "</table>\n",
       "</div>"
      ],
      "text/plain": [
       "Empty DataFrame\n",
       "Columns: [indicator_id, country_id, year, value, from, to]\n",
       "Index: []"
      ]
     },
     "execution_count": 425,
     "metadata": {},
     "output_type": "execute_result"
    }
   ],
   "source": [
    "total_from_to[((total_from_to['to'] == 'Kazakhstan') & (total_from_to['year'] == 2022))]"
   ]
  },
  {
   "cell_type": "code",
   "execution_count": 426,
   "metadata": {},
   "outputs": [
    {
     "name": "stdout",
     "output_type": "stream",
     "text": [
      "(453278, 6)\n"
     ]
    },
    {
     "data": {
      "text/html": [
       "<div>\n",
       "<style scoped>\n",
       "    .dataframe tbody tr th:only-of-type {\n",
       "        vertical-align: middle;\n",
       "    }\n",
       "\n",
       "    .dataframe tbody tr th {\n",
       "        vertical-align: top;\n",
       "    }\n",
       "\n",
       "    .dataframe thead th {\n",
       "        text-align: right;\n",
       "    }\n",
       "</style>\n",
       "<table border=\"1\" class=\"dataframe\">\n",
       "  <thead>\n",
       "    <tr style=\"text-align: right;\">\n",
       "      <th></th>\n",
       "      <th>indicator_id</th>\n",
       "      <th>country_id</th>\n",
       "      <th>year</th>\n",
       "      <th>value</th>\n",
       "      <th>from</th>\n",
       "      <th>to</th>\n",
       "    </tr>\n",
       "  </thead>\n",
       "  <tbody>\n",
       "    <tr>\n",
       "      <th>0</th>\n",
       "      <td>26421</td>\n",
       "      <td>ABW</td>\n",
       "      <td>2003</td>\n",
       "      <td>0</td>\n",
       "      <td>Algeria</td>\n",
       "      <td>Aruba</td>\n",
       "    </tr>\n",
       "    <tr>\n",
       "      <th>1</th>\n",
       "      <td>26421</td>\n",
       "      <td>ABW</td>\n",
       "      <td>2004</td>\n",
       "      <td>0</td>\n",
       "      <td>Algeria</td>\n",
       "      <td>Aruba</td>\n",
       "    </tr>\n",
       "  </tbody>\n",
       "</table>\n",
       "</div>"
      ],
      "text/plain": [
       "  indicator_id country_id  year  value     from     to\n",
       "0        26421        ABW  2003      0  Algeria  Aruba\n",
       "1        26421        ABW  2004      0  Algeria  Aruba"
      ]
     },
     "execution_count": 426,
     "metadata": {},
     "output_type": "execute_result"
    }
   ],
   "source": [
    "#delete empty 2022 rows for the USA, Netherlands, Mexico\n",
    "total_from_to['year'] = total_from_to['year'].astype(str)\n",
    "total_from_to = total_from_to[~((total_from_to['to'] == 'United States of America') & (total_from_to['year'] == '2022'))]\n",
    "total_from_to = total_from_to[~((total_from_to['to']=='Netherlands') & (total_from_to['year']=='2022'))]\n",
    "total_from_to = total_from_to[~((total_from_to['to']=='Kazakhstan') & (total_from_to['year']=='2022'))]\n",
    "print(total_from_to.shape)\n",
    "total_from_to.head(2)"
   ]
  },
  {
   "cell_type": "code",
   "execution_count": 427,
   "metadata": {},
   "outputs": [
    {
     "name": "stdout",
     "output_type": "stream",
     "text": [
      "(453278, 6)\n",
      "(453549, 6)\n"
     ]
    },
    {
     "data": {
      "text/html": [
       "<div>\n",
       "<style scoped>\n",
       "    .dataframe tbody tr th:only-of-type {\n",
       "        vertical-align: middle;\n",
       "    }\n",
       "\n",
       "    .dataframe tbody tr th {\n",
       "        vertical-align: top;\n",
       "    }\n",
       "\n",
       "    .dataframe thead th {\n",
       "        text-align: right;\n",
       "    }\n",
       "</style>\n",
       "<table border=\"1\" class=\"dataframe\">\n",
       "  <thead>\n",
       "    <tr style=\"text-align: right;\">\n",
       "      <th></th>\n",
       "      <th>indicator_id</th>\n",
       "      <th>country_id</th>\n",
       "      <th>year</th>\n",
       "      <th>value</th>\n",
       "      <th>from</th>\n",
       "      <th>to</th>\n",
       "    </tr>\n",
       "  </thead>\n",
       "  <tbody>\n",
       "    <tr>\n",
       "      <th>0</th>\n",
       "      <td>26421</td>\n",
       "      <td>ABW</td>\n",
       "      <td>2003</td>\n",
       "      <td>0.0</td>\n",
       "      <td>Algeria</td>\n",
       "      <td>Aruba</td>\n",
       "    </tr>\n",
       "    <tr>\n",
       "      <th>1</th>\n",
       "      <td>26421</td>\n",
       "      <td>ABW</td>\n",
       "      <td>2004</td>\n",
       "      <td>0.0</td>\n",
       "      <td>Algeria</td>\n",
       "      <td>Aruba</td>\n",
       "    </tr>\n",
       "  </tbody>\n",
       "</table>\n",
       "</div>"
      ],
      "text/plain": [
       "  indicator_id country_id  year  value     from     to\n",
       "0        26421        ABW  2003    0.0  Algeria  Aruba\n",
       "1        26421        ABW  2004    0.0  Algeria  Aruba"
      ]
     },
     "execution_count": 427,
     "metadata": {},
     "output_type": "execute_result"
    }
   ],
   "source": [
    "print(total_from_to.shape)\n",
    "#Add absent countries into df\n",
    "total_from_to = pd.concat([total_from_to,usa_add_long,kaz_add_long,nld_add_long])\n",
    "print(total_from_to.shape)\n",
    "total_from_to.head(2)"
   ]
  },
  {
   "cell_type": "markdown",
   "metadata": {},
   "source": [
    "International Education Market"
   ]
  },
  {
   "cell_type": "code",
   "execution_count": null,
   "metadata": {},
   "outputs": [
    {
     "data": {
      "text/html": [
       "<div>\n",
       "<style scoped>\n",
       "    .dataframe tbody tr th:only-of-type {\n",
       "        vertical-align: middle;\n",
       "    }\n",
       "\n",
       "    .dataframe tbody tr th {\n",
       "        vertical-align: top;\n",
       "    }\n",
       "\n",
       "    .dataframe thead th {\n",
       "        text-align: right;\n",
       "    }\n",
       "</style>\n",
       "<table border=\"1\" class=\"dataframe\">\n",
       "  <thead>\n",
       "    <tr style=\"text-align: right;\">\n",
       "      <th></th>\n",
       "      <th>year</th>\n",
       "      <th>to</th>\n",
       "      <th>value</th>\n",
       "    </tr>\n",
       "  </thead>\n",
       "  <tbody>\n",
       "    <tr>\n",
       "      <th>2091</th>\n",
       "      <td>2017</td>\n",
       "      <td>Algeria</td>\n",
       "      <td>0.0</td>\n",
       "    </tr>\n",
       "    <tr>\n",
       "      <th>2092</th>\n",
       "      <td>2017</td>\n",
       "      <td>Andorra</td>\n",
       "      <td>182.0</td>\n",
       "    </tr>\n",
       "    <tr>\n",
       "      <th>2093</th>\n",
       "      <td>2017</td>\n",
       "      <td>Argentina</td>\n",
       "      <td>85945.0</td>\n",
       "    </tr>\n",
       "    <tr>\n",
       "      <th>2094</th>\n",
       "      <td>2017</td>\n",
       "      <td>Armenia</td>\n",
       "      <td>4138.0</td>\n",
       "    </tr>\n",
       "    <tr>\n",
       "      <th>2095</th>\n",
       "      <td>2017</td>\n",
       "      <td>Australia</td>\n",
       "      <td>370409.0</td>\n",
       "    </tr>\n",
       "    <tr>\n",
       "      <th>...</th>\n",
       "      <td>...</td>\n",
       "      <td>...</td>\n",
       "      <td>...</td>\n",
       "    </tr>\n",
       "    <tr>\n",
       "      <th>0</th>\n",
       "      <td>2017</td>\n",
       "      <td>Egypt</td>\n",
       "      <td>51162.0</td>\n",
       "    </tr>\n",
       "    <tr>\n",
       "      <th>1</th>\n",
       "      <td>2017</td>\n",
       "      <td>Thailand</td>\n",
       "      <td>43821.0</td>\n",
       "    </tr>\n",
       "    <tr>\n",
       "      <th>2</th>\n",
       "      <td>2022</td>\n",
       "      <td>Mexico</td>\n",
       "      <td>51659.0</td>\n",
       "    </tr>\n",
       "    <tr>\n",
       "      <th>3</th>\n",
       "      <td>2022</td>\n",
       "      <td>Iran</td>\n",
       "      <td>94406.0</td>\n",
       "    </tr>\n",
       "    <tr>\n",
       "      <th>4</th>\n",
       "      <td>2022</td>\n",
       "      <td>Ukraine</td>\n",
       "      <td>50870.0</td>\n",
       "    </tr>\n",
       "  </tbody>\n",
       "</table>\n",
       "<p>240 rows × 3 columns</p>\n",
       "</div>"
      ],
      "text/plain": [
       "      year         to     value\n",
       "2091  2017    Algeria       0.0\n",
       "2092  2017    Andorra     182.0\n",
       "2093  2017  Argentina   85945.0\n",
       "2094  2017    Armenia    4138.0\n",
       "2095  2017  Australia  370409.0\n",
       "...    ...        ...       ...\n",
       "0     2017      Egypt   51162.0\n",
       "1     2017   Thailand   43821.0\n",
       "2     2022     Mexico   51659.0\n",
       "3     2022       Iran   94406.0\n",
       "4     2022    Ukraine   50870.0\n",
       "\n",
       "[240 rows x 3 columns]"
      ]
     },
     "execution_count": 432,
     "metadata": {},
     "output_type": "execute_result"
    }
   ],
   "source": [
    "total_years = total_from_to[~total_from_to['year'].isin(['1998','1999'])].groupby(['year','to'])['value'].sum().reset_index()\n",
    "\n",
    "new_data = [\n",
    "    {'to': 'Egypt', 'year': '2017', 'value': 51162},\n",
    "    {'to': 'Thailand', 'year': '2017', 'value': 43821},\n",
    "    {'to': 'Mexico', 'year': '2022', 'value': 51659},\n",
    "    {'to': 'Iran', 'year': '2022', 'value': 94406},\n",
    "    {'to': 'Ukraine', 'year': '2022', 'value': 50870},\n",
    "]\n",
    "\n",
    "new_data_df = pd.DataFrame(new_data)\n",
    "\n",
    "total_years = pd.concat([total_years,new_data_df])\n",
    "\n",
    "total_years.loc[(total_years['to']=='Kazakhstan') & (total_years['year'] == '2022'),'value']=26080 #replace as inbound by countries is less than known sum\n",
    "total_years.loc[(total_years['to']=='China') & (total_years['year'] == '2022'),'value'] = 253177 #replace as inbound by countries is less than known sum http://en.moe.gov.cn/documents/statistics/2022/national/202401/t20240110_1099530.html\n",
    "total_years.loc[(total_years['to']=='China') & (total_years['year'] == '2017'),'value'] = 489172\n",
    "total_years.loc[(total_years['to']=='Netherlands') & (total_years['year'] == '2022'),'value']=122287 #replace as inbound by countries is less than known sum\n",
    "# china = pd.DataFrame({'year':['2017','2022'],'to':['China','China'],'value':[]})\n",
    "\n",
    "# <br>China, 2017\n",
    "# <br>Philippines\n",
    "# <br>Israel\n",
    "total_years[total_years['year'].isin(['2017','2022'])]"
   ]
  },
  {
   "cell_type": "markdown",
   "metadata": {},
   "source": [
    "<h4>Inbound by Countries</h4>"
   ]
  },
  {
   "cell_type": "markdown",
   "metadata": {},
   "source": [
    "На основании отчетов inbound в разрезе страна-страна"
   ]
  },
  {
   "cell_type": "code",
   "execution_count": 433,
   "metadata": {},
   "outputs": [
    {
     "data": {
      "text/html": [
       "<div>\n",
       "<style scoped>\n",
       "    .dataframe tbody tr th:only-of-type {\n",
       "        vertical-align: middle;\n",
       "    }\n",
       "\n",
       "    .dataframe tbody tr th {\n",
       "        vertical-align: top;\n",
       "    }\n",
       "\n",
       "    .dataframe thead th {\n",
       "        text-align: right;\n",
       "    }\n",
       "</style>\n",
       "<table border=\"1\" class=\"dataframe\">\n",
       "  <thead>\n",
       "    <tr style=\"text-align: right;\">\n",
       "      <th>year</th>\n",
       "      <th>from</th>\n",
       "      <th>to</th>\n",
       "      <th>2017</th>\n",
       "      <th>2022</th>\n",
       "    </tr>\n",
       "  </thead>\n",
       "  <tbody>\n",
       "    <tr>\n",
       "      <th>0</th>\n",
       "      <td>Afghanistan</td>\n",
       "      <td>Albania</td>\n",
       "      <td>NaN</td>\n",
       "      <td>0.0</td>\n",
       "    </tr>\n",
       "    <tr>\n",
       "      <th>1</th>\n",
       "      <td>Afghanistan</td>\n",
       "      <td>Andorra</td>\n",
       "      <td>0.0</td>\n",
       "      <td>NaN</td>\n",
       "    </tr>\n",
       "    <tr>\n",
       "      <th>2</th>\n",
       "      <td>Afghanistan</td>\n",
       "      <td>Argentina</td>\n",
       "      <td>15.0</td>\n",
       "      <td>16.0</td>\n",
       "    </tr>\n",
       "    <tr>\n",
       "      <th>3</th>\n",
       "      <td>Afghanistan</td>\n",
       "      <td>Armenia</td>\n",
       "      <td>0.0</td>\n",
       "      <td>0.0</td>\n",
       "    </tr>\n",
       "    <tr>\n",
       "      <th>4</th>\n",
       "      <td>Afghanistan</td>\n",
       "      <td>Australia</td>\n",
       "      <td>44.0</td>\n",
       "      <td>73.0</td>\n",
       "    </tr>\n",
       "  </tbody>\n",
       "</table>\n",
       "</div>"
      ],
      "text/plain": [
       "year         from         to  2017  2022\n",
       "0     Afghanistan    Albania   NaN   0.0\n",
       "1     Afghanistan    Andorra   0.0   NaN\n",
       "2     Afghanistan  Argentina  15.0  16.0\n",
       "3     Afghanistan    Armenia   0.0   0.0\n",
       "4     Afghanistan  Australia  44.0  73.0"
      ]
     },
     "execution_count": 433,
     "metadata": {},
     "output_type": "execute_result"
    }
   ],
   "source": [
    "#Filter and unpivot df to compare countries year to year, and do some cleaning\n",
    "countries = total_from_to[total_from_to['year'].isin(['2017','2022'])]\n",
    "countries = countries[countries['from']!=countries['to']]\n",
    "countries = countries.drop_duplicates()\n",
    "countries = countries.pivot(index=['from','to'], columns='year', values='value').reset_index()\n",
    "countries = countries[countries['from']!='unknown countries']\n",
    "countries['from'] = countries['from'].apply(lambda x:x.strip())\n",
    "countries['to'] = countries['to'].apply(lambda x:x.strip())\n",
    "countries.loc[countries['from']=='Iran (Islamic Republic of)','from']='Iran'\n",
    "countries.loc[countries['from']=='Islamic Republic of Iran','from']='Iran'\n",
    "countries.loc[countries['from']=='United Kingdom of Great Britain and Northern Ireland','from']='United Kingdom'\n",
    "countries.loc[countries['from']=='China, Hong Kong Special Administrative Region','from']='Hong Kong'\n",
    "countries.loc[countries['from']=='Hong Kong, Special Administrative Region of China','from']='Hong Kong'\n",
    "countries.loc[countries['from']=='China, Macao Special Administrative Region','from']='Macao'\n",
    "countries.loc[countries['from']=='Macao, Special Administrative Region of China','from']='Macao'\n",
    "countries.loc[countries['from']=='United States of America','from']='USA'\n",
    "countries.loc[countries['from']=='United States','from']='USA'\n",
    "countries.loc[countries['from']=='United Republic of Tanzania','from']='Tanzania'\n",
    "countries.loc[countries['from']==\"Lao People's Democratic Republic\",'from'] = 'Lao'\n",
    "countries.loc[countries['from']==\"Turks and Caicos Islands\",'from'] = 'Turks and Caicos'\n",
    "countries.loc[countries['from']==\"Russian Federation\",'from'] = 'Russia'\n",
    "countries.loc[countries['from']==\"Republic of Moldova\",'from'] = 'Moldova'\n",
    "countries.loc[countries['to']=='Iran (Islamic Republic of)','to']='Iran'\n",
    "countries.loc[countries['to']=='Islamic Republic of Iran','to']='Iran'\n",
    "countries.loc[countries['to']=='United Kingdom of Great Britain and Northern Ireland','to']='United Kingdom'\n",
    "countries.loc[countries['to']=='China, Hong Kong Special Administrative Region','to']='Hong Kong'\n",
    "countries.loc[countries['to']=='Hong Kong, Special Administrative Region of China','to']='Hong Kong'\n",
    "countries.loc[countries['to']=='China, Macao Special Administrative Region','to']='Macao'\n",
    "countries.loc[countries['to']=='Macao, Special Administrative Region of China','to']='Macao'\n",
    "countries.loc[countries['to']=='United States of America','to']='USA'\n",
    "countries.loc[countries['to']=='United States','to']='USA'\n",
    "countries.loc[countries['to']=='United Republic of Tanzania','to']='Tanzania'\n",
    "countries.loc[countries['to']==\"Lao People's Democratic Republic\",'to'] = 'Lao'\n",
    "countries.loc[countries['to']==\"Turks and Caicos Islands\",'to'] = 'Turks and Caicos'\n",
    "countries.loc[countries['to']==\"Russian Federation\",'to'] = 'Russia'\n",
    "countries.loc[countries['to']==\"Republic of Moldova\",'to'] = 'Moldova'\n",
    "countries.head()"
   ]
  },
  {
   "cell_type": "code",
   "execution_count": 434,
   "metadata": {},
   "outputs": [
    {
     "data": {
      "text/plain": [
       "year\n",
       "from    AfghanistanAfghanistanAfghanistanAfghanistanAf...\n",
       "to      AlbaniaAndorraArgentinaArmeniaAustraliaAustria...\n",
       "2017                                            4494782.0\n",
       "2022                                            5691192.0\n",
       "dtype: object"
      ]
     },
     "execution_count": 434,
     "metadata": {},
     "output_type": "execute_result"
    }
   ],
   "source": [
    "countries.sum()"
   ]
  },
  {
   "cell_type": "code",
   "execution_count": null,
   "metadata": {},
   "outputs": [
    {
     "data": {
      "text/html": [
       "<div>\n",
       "<style scoped>\n",
       "    .dataframe tbody tr th:only-of-type {\n",
       "        vertical-align: middle;\n",
       "    }\n",
       "\n",
       "    .dataframe tbody tr th {\n",
       "        vertical-align: top;\n",
       "    }\n",
       "\n",
       "    .dataframe thead th {\n",
       "        text-align: right;\n",
       "    }\n",
       "</style>\n",
       "<table border=\"1\" class=\"dataframe\">\n",
       "  <thead>\n",
       "    <tr style=\"text-align: right;\">\n",
       "      <th></th>\n",
       "      <th>to</th>\n",
       "      <th>2017</th>\n",
       "      <th>2022</th>\n",
       "    </tr>\n",
       "  </thead>\n",
       "  <tbody>\n",
       "    <tr>\n",
       "      <th>0</th>\n",
       "      <td>Albania</td>\n",
       "      <td>0.0</td>\n",
       "      <td>1345.0</td>\n",
       "    </tr>\n",
       "    <tr>\n",
       "      <th>1</th>\n",
       "      <td>Andorra</td>\n",
       "      <td>182.0</td>\n",
       "      <td>0.0</td>\n",
       "    </tr>\n",
       "    <tr>\n",
       "      <th>2</th>\n",
       "      <td>Argentina</td>\n",
       "      <td>85945.0</td>\n",
       "      <td>135754.0</td>\n",
       "    </tr>\n",
       "    <tr>\n",
       "      <th>3</th>\n",
       "      <td>Armenia</td>\n",
       "      <td>4138.0</td>\n",
       "      <td>6635.0</td>\n",
       "    </tr>\n",
       "    <tr>\n",
       "      <th>4</th>\n",
       "      <td>Australia</td>\n",
       "      <td>368594.0</td>\n",
       "      <td>364473.0</td>\n",
       "    </tr>\n",
       "  </tbody>\n",
       "</table>\n",
       "</div>"
      ],
      "text/plain": [
       "          to      2017      2022\n",
       "0    Albania       0.0    1345.0\n",
       "1    Andorra     182.0       0.0\n",
       "2  Argentina   85945.0  135754.0\n",
       "3    Armenia    4138.0    6635.0\n",
       "4  Australia  368594.0  364473.0"
      ]
     },
     "execution_count": 441,
     "metadata": {},
     "output_type": "execute_result"
    }
   ],
   "source": [
    "#Add total inbound students for absent countries where we don't have disctinct values by source countries\n",
    "inbound = pd.merge(countries.groupby(['to'])['2017'].sum().reset_index(),\n",
    "                 countries.groupby(['to'])['2022'].sum().reset_index(),\n",
    "                 on = 'to',\n",
    "                 how='left')\n",
    "new_data = [\n",
    "    {'to': 'Egypt', '2017': 51162},\n",
    "    {'to': 'Thailand', '2017': 43821},\n",
    "    {'to': 'Mexico', '2022': 51659},\n",
    "    {'to': 'Iran', '2022': 94406},\n",
    "    {'to': 'Ukraine', '2022': 50870},\n",
    "]\n",
    "new_data_df = pd.DataFrame(new_data)\n",
    "inbound = pd.concat([inbound,new_data_df])\n",
    "\n",
    "# inbound.loc[inbound['to']=='Egypt','2017']=51162\n",
    "# inbound.loc[inbound['to']=='Thailand','2017'] = 43821\n",
    "# inbound.loc[inbound['to']=='Mexico','2022']=51659\n",
    "# inbound.loc[inbound['to']=='Iran','2022']=94406\n",
    "# inbound.loc[inbound['to']=='Ukraine','2022']=50870\n",
    "\n",
    "inbound.loc[inbound['to']=='Kazakhstan','2022']=26080 #add values by countries and total, as not every source is known\n",
    "inbound.loc[inbound['to']=='China','2022']=253177\n",
    "inbound.loc[inbound['to']=='China','2017']=489172\n",
    "inbound.loc[inbound['to']=='Netherlands','2022']=122287\n",
    "\n",
    "# inbound = inbound[~(inbound['2017'].isna()) & ~(inbound['2022'].isna())]\n",
    "# inbound = inbound[~(inbound['2017']==0) & ~(inbound['2022']==0)]\n",
    "# inbound['2022/2017,%'] = round(inbound['2022']/inbound['2017']*100,0).astype(int)-100\n",
    "# inbound['2022/2017,%'] = inbound['2022/2017,%'].apply(lambda x:'+'+str(x) if x>0 else str(x))\n",
    "# #shorten the countries list\n",
    "# inbound = inbound[inbound['2022']>5000]\n",
    "\n",
    "# #And assign groups to make understandable charts\n",
    "# def group(x):\n",
    "#     if x<20000:\n",
    "#         group_name = '5-20 тыс.'\n",
    "#     elif 20000<=x<50000:\n",
    "#         group_name = '20-50 тыс.'\n",
    "#     elif 50000<=x<100000:\n",
    "#         group_name = '50-100 тыс.'\n",
    "#     else:\n",
    "#         group_name = 'Больше 100 тыс.'\n",
    "#     return group_name\n",
    "# inbound['group'] = inbound['2022'].apply(lambda x: group(x))\n",
    "# inbound.set_index('to', inplace=True)\n",
    "# inbound = inbound.sort_values(by='2022',ascending=False)\n",
    "inbound.head()"
   ]
  },
  {
   "cell_type": "code",
   "execution_count": null,
   "metadata": {},
   "outputs": [
    {
     "data": {
      "text/html": [
       "<div>\n",
       "<style scoped>\n",
       "    .dataframe tbody tr th:only-of-type {\n",
       "        vertical-align: middle;\n",
       "    }\n",
       "\n",
       "    .dataframe tbody tr th {\n",
       "        vertical-align: top;\n",
       "    }\n",
       "\n",
       "    .dataframe thead th {\n",
       "        text-align: right;\n",
       "    }\n",
       "</style>\n",
       "<table border=\"1\" class=\"dataframe\">\n",
       "  <thead>\n",
       "    <tr style=\"text-align: right;\">\n",
       "      <th></th>\n",
       "      <th>2017</th>\n",
       "      <th>2022</th>\n",
       "      <th>2022/2017,%</th>\n",
       "    </tr>\n",
       "  </thead>\n",
       "  <tbody>\n",
       "    <tr>\n",
       "      <th>0</th>\n",
       "      <td>4456691.0</td>\n",
       "      <td>5829508.0</td>\n",
       "      <td>+31</td>\n",
       "    </tr>\n",
       "  </tbody>\n",
       "</table>\n",
       "</div>"
      ],
      "text/plain": [
       "        2017       2022 2022/2017,%\n",
       "0  4456691.0  5829508.0         +31"
      ]
     },
     "execution_count": 399,
     "metadata": {},
     "output_type": "execute_result"
    }
   ],
   "source": [
    "world = pd.DataFrame({'2017':[inbound['2017'].sum()],'2022':[inbound['2022'].sum()]})\n",
    "world['2022/2017,%'] = round(world['2022']/world['2017']*100,0).astype(int)-100\n",
    "world['2022/2017,%'] = world['2022/2017,%'].apply(lambda x:'+'+str(x) if x>0 else str(x))\n",
    "fig = \n",
    "trace1 = go.Bar(x=filtered_df.index,\n",
    "    y=filtered_df['2017'],\n",
    "    name=f'2017 - Group {group}',\n",
    "    text=[f\"{value/1000:.1f}k\" if value < 1000 else f\"{int(value/1000)}k\" for value in filtered_df['2017']],  # Value labels in thousands\n",
    "    textposition='auto',\n",
    "    textfont=dict(size=16),\n",
    "    marker_color='blue',\n",
    "    marker_line=dict(width=3, color=['red' if country == 'Russia' else 'blue' for country in filtered_df.index]) \n",
    "    )\n",
    "trace2 = go.Bar(x=filtered_df.index,\n",
    "    y=filtered_df['2022'],\n",
    "    name=f'2022 - Group {group}',\n",
    "    text=[f\"{value/1000:.1f}k\\n({filtered_df['2022/2017,%'].values[j]}%)\" if value < 1000 else f\"{int(value/1000)}k\\n({filtered_df['2022/2017,%'].values[j]}%)\" for j, value in enumerate(filtered_df['2022'])],  # Value labels in thousands\n",
    "    textposition='auto',\n",
    "    textfont=dict(size=16),\n",
    "    marker_color='green',\n",
    "    marker_line=dict(width=3, color=['red' if country == 'Russia' else 'green' for country in filtered_df.index]) \n",
    "    )\n",
    "\n",
    "fig.add_trace(trace1)\n",
    "fig.add_trace(trace2)\n",
    "fig.update_layout(\n",
    "    title='Входящий поток иностранных студентов по группам стран с 2017 по 2022 г.',\n",
    "    # xaxis_title='Country',\n",
    "    yaxis_title='Число студентов, тыс.',\n",
    "    barmode='group',  # Group bars together\n",
    "    height=1400,\n",
    "    width=2600,\n",
    "    plot_bgcolor='white'\n",
    ")\n",
    "for i in range(1, num_rows + 1):\n",
    "    for j in range(1, num_cols + 1):\n",
    "        fig.update_xaxes(tickangle=45, row=i, col=j)\n",
    "        fig.update_yaxes(gridcolor='lightgrey', row=i, col=j)\n",
    "pio.write_image(fig, \"Входящий поток иностранных студентов по группам стран с 2017 по 2022 г.png\")\n",
    "fig.show()\n",
    "print(world)"
   ]
  },
  {
   "cell_type": "markdown",
   "metadata": {},
   "source": [
    "Inbound students"
   ]
  },
  {
   "cell_type": "code",
   "execution_count": 20,
   "metadata": {},
   "outputs": [
    {
     "data": {
      "application/vnd.plotly.v1+json": {
       "config": {
        "plotlyServerURL": "https://plot.ly"
       },
       "data": [
        {
         "marker": {
          "color": "blue",
          "line": {
           "color": [
            "blue",
            "blue",
            "blue",
            "blue",
            "red",
            "blue",
            "blue",
            "blue",
            "blue",
            "blue"
           ],
           "width": 3
          }
         },
         "name": "2017 - Group Больше 100 тыс.",
         "text": [
          "965k",
          "435k",
          "221k",
          "368k",
          "211k",
          "204k",
          "243k",
          "104k",
          "85k",
          "69k"
         ],
         "textfont": {
          "size": 16
         },
         "textposition": "auto",
         "type": "bar",
         "x": [
          "USA",
          "United Kingdom",
          "Germany",
          "Australia",
          "Russia",
          "Canada",
          "France",
          "Turkey",
          "Argentina",
          "Republic of Korea"
         ],
         "xaxis": "x",
         "y": [
          965780,
          435035,
          221382,
          368594,
          211045,
          204061,
          243280,
          104446,
          85945,
          69757
         ],
         "yaxis": "y"
        },
        {
         "marker": {
          "color": "green",
          "line": {
           "color": [
            "green",
            "green",
            "green",
            "green",
            "red",
            "green",
            "green",
            "green",
            "green",
            "green"
           ],
           "width": 3
          }
         },
         "name": "2022 - Group Больше 100 тыс.",
         "text": [
          "1035k\n(+7%)",
          "674k\n(+55%)",
          "370k\n(+67%)",
          "364k\n(-1%)",
          "334k\n(+59%)",
          "332k\n(+63%)",
          "258k\n(+6%)",
          "237k\n(+128%)",
          "135k\n(+58%)",
          "122k\n(+75%)"
         ],
         "textfont": {
          "size": 16
         },
         "textposition": "auto",
         "type": "bar",
         "x": [
          "USA",
          "United Kingdom",
          "Germany",
          "Australia",
          "Russia",
          "Canada",
          "France",
          "Turkey",
          "Argentina",
          "Republic of Korea"
         ],
         "xaxis": "x",
         "y": [
          1035161,
          674046,
          370641,
          364473,
          334622,
          332319,
          258943,
          237939,
          135754,
          122305
         ],
         "yaxis": "y"
        },
        {
         "marker": {
          "color": "blue",
          "line": {
           "color": [
            "blue",
            "blue",
            "blue",
            "blue",
            "blue",
            "blue",
            "blue",
            "blue",
            "blue",
            "blue",
            "blue",
            "blue",
            "blue",
            "blue",
            "blue",
            "blue"
           ],
           "width": 3
          }
         },
         "name": "2017 - Group 50-100 тыс.",
         "text": [
          "97k",
          "73k",
          "20k",
          "64k",
          "71k",
          "71k",
          "63k",
          "96k",
          "14k",
          "50k",
          "75k",
          "44k",
          "32k",
          "11k",
          "51k",
          "38k"
         ],
         "textfont": {
          "size": 16
         },
         "textposition": "auto",
         "type": "bar",
         "x": [
          "Malaysia",
          "Netherlands",
          "Iran",
          "Spain",
          "Japan",
          "Austria",
          "Poland",
          "Italy",
          "Kyrgyzstan",
          "Switzerland",
          "Saudi Arabia",
          "Czechia",
          "Hong Kong",
          "Mexico",
          "Ukraine",
          "Belgium"
         ],
         "xaxis": "x2",
         "y": [
          97900,
          73081,
          20072,
          64693,
          71788,
          71967,
          63120,
          96928,
          14869,
          50534,
          75046,
          44112,
          32818,
          11335,
          51872,
          38485
         ],
         "yaxis": "y2"
        },
        {
         "marker": {
          "color": "green",
          "line": {
           "color": [
            "green",
            "green",
            "green",
            "green",
            "green",
            "green",
            "green",
            "green",
            "green",
            "green",
            "green",
            "green",
            "green",
            "green",
            "green",
            "green"
           ],
           "width": 3
          }
         },
         "name": "2022 - Group 50-100 тыс.",
         "text": [
          "98k\n(+1%)",
          "94k\n(+30%)",
          "94k\n(+370%)",
          "91k\n(+41%)",
          "89k\n(+25%)",
          "82k\n(+15%)",
          "81k\n(+29%)",
          "81k\n(-16%)",
          "80k\n(+438%)",
          "61k\n(+22%)",
          "59k\n(-21%)",
          "53k\n(+20%)",
          "52k\n(+60%)",
          "51k\n(+356%)",
          "50k\n(-2%)",
          "50k\n(+31%)"
         ],
         "textfont": {
          "size": 16
         },
         "textposition": "auto",
         "type": "bar",
         "x": [
          "Malaysia",
          "Netherlands",
          "Iran",
          "Spain",
          "Japan",
          "Austria",
          "Poland",
          "Italy",
          "Kyrgyzstan",
          "Switzerland",
          "Saudi Arabia",
          "Czechia",
          "Hong Kong",
          "Mexico",
          "Ukraine",
          "Belgium"
         ],
         "xaxis": "x2",
         "y": [
          98513,
          94809,
          94406,
          91340,
          89718,
          82781,
          81646,
          81332,
          80012,
          61748,
          59580,
          53099,
          52531,
          51659,
          50870,
          50341
         ],
         "yaxis": "y2"
        },
        {
         "marker": {
          "color": "blue",
          "line": {
           "color": [
            "blue",
            "blue",
            "blue",
            "blue",
            "blue",
            "blue",
            "blue",
            "blue",
            "blue",
            "blue",
            "blue",
            "blue",
            "blue",
            "blue",
            "blue",
            "blue",
            "blue",
            "blue"
           ],
           "width": 3
          }
         },
         "name": "2017 - Group 20-50 тыс.",
         "text": [
          "22k",
          "44k",
          "28k",
          "38k",
          "27k",
          "33k",
          "39k",
          "14k",
          "18k",
          "22k",
          "43k",
          "16k",
          "52k",
          "13k",
          "19k",
          "20k",
          "19k",
          "19k"
         ],
         "textfont": {
          "size": 16
         },
         "textposition": "auto",
         "type": "bar",
         "x": [
          "Portugal",
          "India",
          "Hungary",
          "Jordan",
          "Romania",
          "Denmark",
          "South Africa",
          "Macao",
          "Ireland",
          "Sweden",
          "Thailand",
          "Belarus",
          "New Zealand",
          "Kazakhstan",
          "Finland",
          "Brazil",
          "Greece",
          "Morocco"
         ],
         "xaxis": "x3",
         "y": [
          22159,
          44020,
          28458,
          38126,
          27432,
          33540,
          39952,
          14821,
          18485,
          22502,
          43821,
          16601,
          52642,
          13833,
          19833,
          20573,
          19407,
          19024
         ],
         "yaxis": "y3"
        },
        {
         "marker": {
          "color": "green",
          "line": {
           "color": [
            "green",
            "green",
            "green",
            "green",
            "green",
            "green",
            "green",
            "green",
            "green",
            "green",
            "green",
            "green",
            "green",
            "green",
            "green",
            "green",
            "green",
            "green"
           ],
           "width": 3
          }
         },
         "name": "2022 - Group 20-50 тыс.",
         "text": [
          "49k\n(+125%)",
          "44k\n(+1%)",
          "39k\n(+40%)",
          "38k\n(+2%)",
          "34k\n(+26%)",
          "31k\n(-7%)",
          "29k\n(-27%)",
          "28k\n(+91%)",
          "27k\n(+46%)",
          "25k\n(+15%)",
          "25k\n(-41%)",
          "25k\n(+54%)",
          "25k\n(-52%)",
          "25k\n(+81%)",
          "24k\n(+21%)",
          "23k\n(+16%)",
          "23k\n(+22%)",
          "21k\n(+14%)"
         ],
         "textfont": {
          "size": 16
         },
         "textposition": "auto",
         "type": "bar",
         "x": [
          "Portugal",
          "India",
          "Hungary",
          "Jordan",
          "Romania",
          "Denmark",
          "South Africa",
          "Macao",
          "Ireland",
          "Sweden",
          "Thailand",
          "Belarus",
          "New Zealand",
          "Kazakhstan",
          "Finland",
          "Brazil",
          "Greece",
          "Morocco"
         ],
         "xaxis": "x3",
         "y": [
          49887,
          44369,
          39861,
          38732,
          34685,
          31321,
          29178,
          28263,
          27024,
          25949,
          25920,
          25605,
          25362,
          25090,
          24063,
          23853,
          23626,
          21774
         ],
         "yaxis": "y3"
        },
        {
         "marker": {
          "color": "blue",
          "line": {
           "color": [
            "blue",
            "blue",
            "blue",
            "blue",
            "blue",
            "blue",
            "blue",
            "blue",
            "blue",
            "blue",
            "blue",
            "blue",
            "blue",
            "blue",
            "blue",
            "blue",
            "blue",
            "blue",
            "blue",
            "blue",
            "blue",
            "blue",
            "blue",
            "blue",
            "blue",
            "blue"
           ],
           "width": 3
          }
         },
         "name": "2017 - Group 5-20 тыс.",
         "text": [
          "13k",
          "7k",
          "4k",
          "10k",
          "10k",
          "8k",
          "11k",
          "10k",
          "6k",
          "8k",
          "4k",
          "6k",
          "2k",
          "4k",
          "3k",
          "4k",
          "9k",
          "4k",
          "3k",
          "7k",
          "4k",
          "5k",
          "0.5k",
          "4k",
          "12k",
          "3k"
         ],
         "textfont": {
          "size": 16
         },
         "textposition": "auto",
         "type": "bar",
         "x": [
          "Bulgaria",
          "Georgia",
          "Chile",
          "Slovakia",
          "Qatar",
          "Norway",
          "Serbia",
          "Cyprus",
          "Latvia",
          "Senegal",
          "Lithuania",
          "Tunisia",
          "Cameroon",
          "Viet Nam",
          "Slovenia",
          "Armenia",
          "Dominican Republic",
          "Azerbaijan",
          "Moldova",
          "Bosnia and Herzegovina",
          "Croatia",
          "Bahrain",
          "Uzbekistan",
          "Colombia",
          "Ghana",
          "Estonia"
         ],
         "xaxis": "x4",
         "y": [
          13744,
          7794,
          4481,
          10761,
          10207,
          8616,
          11599,
          10444,
          6123,
          8303,
          4529,
          6280,
          2898,
          4125,
          3041,
          4138,
          9057,
          4264,
          3952,
          7263,
          4737,
          5488,
          524,
          4455,
          12791,
          3903
         ],
         "yaxis": "y4"
        },
        {
         "marker": {
          "color": "green",
          "line": {
           "color": [
            "green",
            "green",
            "green",
            "green",
            "green",
            "green",
            "green",
            "green",
            "green",
            "green",
            "green",
            "green",
            "green",
            "green",
            "green",
            "green",
            "green",
            "green",
            "green",
            "green",
            "green",
            "green",
            "green",
            "green",
            "green",
            "green"
           ],
           "width": 3
          }
         },
         "name": "2022 - Group 5-20 тыс.",
         "text": [
          "18k\n(+38%)",
          "17k\n(+120%)",
          "16k\n(+279%)",
          "16k\n(+55%)",
          "15k\n(+53%)",
          "12k\n(+49%)",
          "11k\n(-3%)",
          "10k\n(+3%)",
          "9k\n(+60%)",
          "9k\n(+11%)",
          "9k\n(+100%)",
          "8k\n(+37%)",
          "8k\n(+193%)",
          "7k\n(+88%)",
          "7k\n(+150%)",
          "6k\n(+60%)",
          "6k\n(-27%)",
          "6k\n(+49%)",
          "5k\n(+44%)",
          "5k\n(-22%)",
          "5k\n(+20%)",
          "5k\n(+2%)",
          "5k\n(+950%)",
          "5k\n(+21%)",
          "5k\n(-58%)",
          "5k\n(+29%)"
         ],
         "textfont": {
          "size": 16
         },
         "textposition": "auto",
         "type": "bar",
         "x": [
          "Bulgaria",
          "Georgia",
          "Chile",
          "Slovakia",
          "Qatar",
          "Norway",
          "Serbia",
          "Cyprus",
          "Latvia",
          "Senegal",
          "Lithuania",
          "Tunisia",
          "Cameroon",
          "Viet Nam",
          "Slovenia",
          "Armenia",
          "Dominican Republic",
          "Azerbaijan",
          "Moldova",
          "Bosnia and Herzegovina",
          "Croatia",
          "Bahrain",
          "Uzbekistan",
          "Colombia",
          "Ghana",
          "Estonia"
         ],
         "xaxis": "x4",
         "y": [
          18995,
          17175,
          16970,
          16690,
          15592,
          12872,
          11223,
          10723,
          9792,
          9190,
          9075,
          8619,
          8489,
          7759,
          7602,
          6635,
          6616,
          6363,
          5706,
          5671,
          5671,
          5621,
          5502,
          5395,
          5370,
          5042
         ],
         "yaxis": "y4"
        }
       ],
       "layout": {
        "annotations": [
         {
          "font": {
           "size": 16
          },
          "showarrow": false,
          "text": "Больше 100 тыс.",
          "x": 0.225,
          "xanchor": "center",
          "xref": "paper",
          "y": 1,
          "yanchor": "bottom",
          "yref": "paper"
         },
         {
          "font": {
           "size": 16
          },
          "showarrow": false,
          "text": "50-100 тыс.",
          "x": 0.775,
          "xanchor": "center",
          "xref": "paper",
          "y": 1,
          "yanchor": "bottom",
          "yref": "paper"
         },
         {
          "font": {
           "size": 16
          },
          "showarrow": false,
          "text": "20-50 тыс.",
          "x": 0.225,
          "xanchor": "center",
          "xref": "paper",
          "y": 0.375,
          "yanchor": "bottom",
          "yref": "paper"
         },
         {
          "font": {
           "size": 16
          },
          "showarrow": false,
          "text": "5-20 тыс.",
          "x": 0.775,
          "xanchor": "center",
          "xref": "paper",
          "y": 0.375,
          "yanchor": "bottom",
          "yref": "paper"
         }
        ],
        "barmode": "group",
        "height": 1400,
        "plot_bgcolor": "white",
        "template": {
         "data": {
          "bar": [
           {
            "error_x": {
             "color": "#2a3f5f"
            },
            "error_y": {
             "color": "#2a3f5f"
            },
            "marker": {
             "line": {
              "color": "#E5ECF6",
              "width": 0.5
             },
             "pattern": {
              "fillmode": "overlay",
              "size": 10,
              "solidity": 0.2
             }
            },
            "type": "bar"
           }
          ],
          "barpolar": [
           {
            "marker": {
             "line": {
              "color": "#E5ECF6",
              "width": 0.5
             },
             "pattern": {
              "fillmode": "overlay",
              "size": 10,
              "solidity": 0.2
             }
            },
            "type": "barpolar"
           }
          ],
          "carpet": [
           {
            "aaxis": {
             "endlinecolor": "#2a3f5f",
             "gridcolor": "white",
             "linecolor": "white",
             "minorgridcolor": "white",
             "startlinecolor": "#2a3f5f"
            },
            "baxis": {
             "endlinecolor": "#2a3f5f",
             "gridcolor": "white",
             "linecolor": "white",
             "minorgridcolor": "white",
             "startlinecolor": "#2a3f5f"
            },
            "type": "carpet"
           }
          ],
          "choropleth": [
           {
            "colorbar": {
             "outlinewidth": 0,
             "ticks": ""
            },
            "type": "choropleth"
           }
          ],
          "contour": [
           {
            "colorbar": {
             "outlinewidth": 0,
             "ticks": ""
            },
            "colorscale": [
             [
              0,
              "#0d0887"
             ],
             [
              0.1111111111111111,
              "#46039f"
             ],
             [
              0.2222222222222222,
              "#7201a8"
             ],
             [
              0.3333333333333333,
              "#9c179e"
             ],
             [
              0.4444444444444444,
              "#bd3786"
             ],
             [
              0.5555555555555556,
              "#d8576b"
             ],
             [
              0.6666666666666666,
              "#ed7953"
             ],
             [
              0.7777777777777778,
              "#fb9f3a"
             ],
             [
              0.8888888888888888,
              "#fdca26"
             ],
             [
              1,
              "#f0f921"
             ]
            ],
            "type": "contour"
           }
          ],
          "contourcarpet": [
           {
            "colorbar": {
             "outlinewidth": 0,
             "ticks": ""
            },
            "type": "contourcarpet"
           }
          ],
          "heatmap": [
           {
            "colorbar": {
             "outlinewidth": 0,
             "ticks": ""
            },
            "colorscale": [
             [
              0,
              "#0d0887"
             ],
             [
              0.1111111111111111,
              "#46039f"
             ],
             [
              0.2222222222222222,
              "#7201a8"
             ],
             [
              0.3333333333333333,
              "#9c179e"
             ],
             [
              0.4444444444444444,
              "#bd3786"
             ],
             [
              0.5555555555555556,
              "#d8576b"
             ],
             [
              0.6666666666666666,
              "#ed7953"
             ],
             [
              0.7777777777777778,
              "#fb9f3a"
             ],
             [
              0.8888888888888888,
              "#fdca26"
             ],
             [
              1,
              "#f0f921"
             ]
            ],
            "type": "heatmap"
           }
          ],
          "heatmapgl": [
           {
            "colorbar": {
             "outlinewidth": 0,
             "ticks": ""
            },
            "colorscale": [
             [
              0,
              "#0d0887"
             ],
             [
              0.1111111111111111,
              "#46039f"
             ],
             [
              0.2222222222222222,
              "#7201a8"
             ],
             [
              0.3333333333333333,
              "#9c179e"
             ],
             [
              0.4444444444444444,
              "#bd3786"
             ],
             [
              0.5555555555555556,
              "#d8576b"
             ],
             [
              0.6666666666666666,
              "#ed7953"
             ],
             [
              0.7777777777777778,
              "#fb9f3a"
             ],
             [
              0.8888888888888888,
              "#fdca26"
             ],
             [
              1,
              "#f0f921"
             ]
            ],
            "type": "heatmapgl"
           }
          ],
          "histogram": [
           {
            "marker": {
             "pattern": {
              "fillmode": "overlay",
              "size": 10,
              "solidity": 0.2
             }
            },
            "type": "histogram"
           }
          ],
          "histogram2d": [
           {
            "colorbar": {
             "outlinewidth": 0,
             "ticks": ""
            },
            "colorscale": [
             [
              0,
              "#0d0887"
             ],
             [
              0.1111111111111111,
              "#46039f"
             ],
             [
              0.2222222222222222,
              "#7201a8"
             ],
             [
              0.3333333333333333,
              "#9c179e"
             ],
             [
              0.4444444444444444,
              "#bd3786"
             ],
             [
              0.5555555555555556,
              "#d8576b"
             ],
             [
              0.6666666666666666,
              "#ed7953"
             ],
             [
              0.7777777777777778,
              "#fb9f3a"
             ],
             [
              0.8888888888888888,
              "#fdca26"
             ],
             [
              1,
              "#f0f921"
             ]
            ],
            "type": "histogram2d"
           }
          ],
          "histogram2dcontour": [
           {
            "colorbar": {
             "outlinewidth": 0,
             "ticks": ""
            },
            "colorscale": [
             [
              0,
              "#0d0887"
             ],
             [
              0.1111111111111111,
              "#46039f"
             ],
             [
              0.2222222222222222,
              "#7201a8"
             ],
             [
              0.3333333333333333,
              "#9c179e"
             ],
             [
              0.4444444444444444,
              "#bd3786"
             ],
             [
              0.5555555555555556,
              "#d8576b"
             ],
             [
              0.6666666666666666,
              "#ed7953"
             ],
             [
              0.7777777777777778,
              "#fb9f3a"
             ],
             [
              0.8888888888888888,
              "#fdca26"
             ],
             [
              1,
              "#f0f921"
             ]
            ],
            "type": "histogram2dcontour"
           }
          ],
          "mesh3d": [
           {
            "colorbar": {
             "outlinewidth": 0,
             "ticks": ""
            },
            "type": "mesh3d"
           }
          ],
          "parcoords": [
           {
            "line": {
             "colorbar": {
              "outlinewidth": 0,
              "ticks": ""
             }
            },
            "type": "parcoords"
           }
          ],
          "pie": [
           {
            "automargin": true,
            "type": "pie"
           }
          ],
          "scatter": [
           {
            "fillpattern": {
             "fillmode": "overlay",
             "size": 10,
             "solidity": 0.2
            },
            "type": "scatter"
           }
          ],
          "scatter3d": [
           {
            "line": {
             "colorbar": {
              "outlinewidth": 0,
              "ticks": ""
             }
            },
            "marker": {
             "colorbar": {
              "outlinewidth": 0,
              "ticks": ""
             }
            },
            "type": "scatter3d"
           }
          ],
          "scattercarpet": [
           {
            "marker": {
             "colorbar": {
              "outlinewidth": 0,
              "ticks": ""
             }
            },
            "type": "scattercarpet"
           }
          ],
          "scattergeo": [
           {
            "marker": {
             "colorbar": {
              "outlinewidth": 0,
              "ticks": ""
             }
            },
            "type": "scattergeo"
           }
          ],
          "scattergl": [
           {
            "marker": {
             "colorbar": {
              "outlinewidth": 0,
              "ticks": ""
             }
            },
            "type": "scattergl"
           }
          ],
          "scattermapbox": [
           {
            "marker": {
             "colorbar": {
              "outlinewidth": 0,
              "ticks": ""
             }
            },
            "type": "scattermapbox"
           }
          ],
          "scatterpolar": [
           {
            "marker": {
             "colorbar": {
              "outlinewidth": 0,
              "ticks": ""
             }
            },
            "type": "scatterpolar"
           }
          ],
          "scatterpolargl": [
           {
            "marker": {
             "colorbar": {
              "outlinewidth": 0,
              "ticks": ""
             }
            },
            "type": "scatterpolargl"
           }
          ],
          "scatterternary": [
           {
            "marker": {
             "colorbar": {
              "outlinewidth": 0,
              "ticks": ""
             }
            },
            "type": "scatterternary"
           }
          ],
          "surface": [
           {
            "colorbar": {
             "outlinewidth": 0,
             "ticks": ""
            },
            "colorscale": [
             [
              0,
              "#0d0887"
             ],
             [
              0.1111111111111111,
              "#46039f"
             ],
             [
              0.2222222222222222,
              "#7201a8"
             ],
             [
              0.3333333333333333,
              "#9c179e"
             ],
             [
              0.4444444444444444,
              "#bd3786"
             ],
             [
              0.5555555555555556,
              "#d8576b"
             ],
             [
              0.6666666666666666,
              "#ed7953"
             ],
             [
              0.7777777777777778,
              "#fb9f3a"
             ],
             [
              0.8888888888888888,
              "#fdca26"
             ],
             [
              1,
              "#f0f921"
             ]
            ],
            "type": "surface"
           }
          ],
          "table": [
           {
            "cells": {
             "fill": {
              "color": "#EBF0F8"
             },
             "line": {
              "color": "white"
             }
            },
            "header": {
             "fill": {
              "color": "#C8D4E3"
             },
             "line": {
              "color": "white"
             }
            },
            "type": "table"
           }
          ]
         },
         "layout": {
          "annotationdefaults": {
           "arrowcolor": "#2a3f5f",
           "arrowhead": 0,
           "arrowwidth": 1
          },
          "autotypenumbers": "strict",
          "coloraxis": {
           "colorbar": {
            "outlinewidth": 0,
            "ticks": ""
           }
          },
          "colorscale": {
           "diverging": [
            [
             0,
             "#8e0152"
            ],
            [
             0.1,
             "#c51b7d"
            ],
            [
             0.2,
             "#de77ae"
            ],
            [
             0.3,
             "#f1b6da"
            ],
            [
             0.4,
             "#fde0ef"
            ],
            [
             0.5,
             "#f7f7f7"
            ],
            [
             0.6,
             "#e6f5d0"
            ],
            [
             0.7,
             "#b8e186"
            ],
            [
             0.8,
             "#7fbc41"
            ],
            [
             0.9,
             "#4d9221"
            ],
            [
             1,
             "#276419"
            ]
           ],
           "sequential": [
            [
             0,
             "#0d0887"
            ],
            [
             0.1111111111111111,
             "#46039f"
            ],
            [
             0.2222222222222222,
             "#7201a8"
            ],
            [
             0.3333333333333333,
             "#9c179e"
            ],
            [
             0.4444444444444444,
             "#bd3786"
            ],
            [
             0.5555555555555556,
             "#d8576b"
            ],
            [
             0.6666666666666666,
             "#ed7953"
            ],
            [
             0.7777777777777778,
             "#fb9f3a"
            ],
            [
             0.8888888888888888,
             "#fdca26"
            ],
            [
             1,
             "#f0f921"
            ]
           ],
           "sequentialminus": [
            [
             0,
             "#0d0887"
            ],
            [
             0.1111111111111111,
             "#46039f"
            ],
            [
             0.2222222222222222,
             "#7201a8"
            ],
            [
             0.3333333333333333,
             "#9c179e"
            ],
            [
             0.4444444444444444,
             "#bd3786"
            ],
            [
             0.5555555555555556,
             "#d8576b"
            ],
            [
             0.6666666666666666,
             "#ed7953"
            ],
            [
             0.7777777777777778,
             "#fb9f3a"
            ],
            [
             0.8888888888888888,
             "#fdca26"
            ],
            [
             1,
             "#f0f921"
            ]
           ]
          },
          "colorway": [
           "#636efa",
           "#EF553B",
           "#00cc96",
           "#ab63fa",
           "#FFA15A",
           "#19d3f3",
           "#FF6692",
           "#B6E880",
           "#FF97FF",
           "#FECB52"
          ],
          "font": {
           "color": "#2a3f5f"
          },
          "geo": {
           "bgcolor": "white",
           "lakecolor": "white",
           "landcolor": "#E5ECF6",
           "showlakes": true,
           "showland": true,
           "subunitcolor": "white"
          },
          "hoverlabel": {
           "align": "left"
          },
          "hovermode": "closest",
          "mapbox": {
           "style": "light"
          },
          "paper_bgcolor": "white",
          "plot_bgcolor": "#E5ECF6",
          "polar": {
           "angularaxis": {
            "gridcolor": "white",
            "linecolor": "white",
            "ticks": ""
           },
           "bgcolor": "#E5ECF6",
           "radialaxis": {
            "gridcolor": "white",
            "linecolor": "white",
            "ticks": ""
           }
          },
          "scene": {
           "xaxis": {
            "backgroundcolor": "#E5ECF6",
            "gridcolor": "white",
            "gridwidth": 2,
            "linecolor": "white",
            "showbackground": true,
            "ticks": "",
            "zerolinecolor": "white"
           },
           "yaxis": {
            "backgroundcolor": "#E5ECF6",
            "gridcolor": "white",
            "gridwidth": 2,
            "linecolor": "white",
            "showbackground": true,
            "ticks": "",
            "zerolinecolor": "white"
           },
           "zaxis": {
            "backgroundcolor": "#E5ECF6",
            "gridcolor": "white",
            "gridwidth": 2,
            "linecolor": "white",
            "showbackground": true,
            "ticks": "",
            "zerolinecolor": "white"
           }
          },
          "shapedefaults": {
           "line": {
            "color": "#2a3f5f"
           }
          },
          "ternary": {
           "aaxis": {
            "gridcolor": "white",
            "linecolor": "white",
            "ticks": ""
           },
           "baxis": {
            "gridcolor": "white",
            "linecolor": "white",
            "ticks": ""
           },
           "bgcolor": "#E5ECF6",
           "caxis": {
            "gridcolor": "white",
            "linecolor": "white",
            "ticks": ""
           }
          },
          "title": {
           "x": 0.05
          },
          "xaxis": {
           "automargin": true,
           "gridcolor": "white",
           "linecolor": "white",
           "ticks": "",
           "title": {
            "standoff": 15
           },
           "zerolinecolor": "white",
           "zerolinewidth": 2
          },
          "yaxis": {
           "automargin": true,
           "gridcolor": "white",
           "linecolor": "white",
           "ticks": "",
           "title": {
            "standoff": 15
           },
           "zerolinecolor": "white",
           "zerolinewidth": 2
          }
         }
        },
        "title": {
         "text": "Входящий поток иностранных студентов по группам стран с 2017 по 2022 г."
        },
        "width": 2600,
        "xaxis": {
         "anchor": "y",
         "domain": [
          0,
          0.45
         ],
         "tickangle": 45
        },
        "xaxis2": {
         "anchor": "y2",
         "domain": [
          0.55,
          1
         ],
         "tickangle": 45
        },
        "xaxis3": {
         "anchor": "y3",
         "domain": [
          0,
          0.45
         ],
         "tickangle": 45
        },
        "xaxis4": {
         "anchor": "y4",
         "domain": [
          0.55,
          1
         ],
         "tickangle": 45
        },
        "yaxis": {
         "anchor": "x",
         "domain": [
          0.625,
          1
         ],
         "gridcolor": "lightgrey",
         "title": {
          "text": "Число студентов, тыс."
         }
        },
        "yaxis2": {
         "anchor": "x2",
         "domain": [
          0.625,
          1
         ],
         "gridcolor": "lightgrey"
        },
        "yaxis3": {
         "anchor": "x3",
         "domain": [
          0,
          0.375
         ],
         "gridcolor": "lightgrey"
        },
        "yaxis4": {
         "anchor": "x4",
         "domain": [
          0,
          0.375
         ],
         "gridcolor": "lightgrey"
        }
       }
      }
     },
     "metadata": {},
     "output_type": "display_data"
    }
   ],
   "source": [
    "n_cols = 2  # Number of columns in subplot grid\n",
    "# unique_groups  = diff['group'].unique()\n",
    "unique_groups = ['Больше 100 тыс.', '50-100 тыс.', '20-50 тыс.','5-20 тыс.']\n",
    "num_plots = len(unique_groups)\n",
    "num_cols = 2  # Maximum of 2 columns\n",
    "num_rows = (num_plots + num_cols - 1) // num_cols  # Calculate the number of rows\n",
    "fig = make_subplots(rows=num_rows, cols=num_cols, subplot_titles=unique_groups)\n",
    "\n",
    "for i, group in enumerate(unique_groups):\n",
    "    filtered_df = inbound[inbound['group'] == group]\n",
    "    row_index = i // n_cols + 1\n",
    "    col_index = i % n_cols + 1\n",
    "    \n",
    "    trace1 = go.Bar(x=filtered_df.index,\n",
    "        y=filtered_df['2017'],\n",
    "        name=f'2017 - Group {group}',\n",
    "        text=[f\"{value/1000:.1f}k\" if value < 1000 else f\"{int(value/1000)}k\" for value in filtered_df['2017']],  # Value labels in thousands\n",
    "        textposition='auto',\n",
    "        textfont=dict(size=16),\n",
    "        marker_color='blue',\n",
    "        marker_line=dict(width=3, color=['red' if country == 'Russia' else 'blue' for country in filtered_df.index]) \n",
    "        )\n",
    "    trace2 = go.Bar(x=filtered_df.index,\n",
    "        y=filtered_df['2022'],\n",
    "        name=f'2022 - Group {group}',\n",
    "        text=[f\"{value/1000:.1f}k\\n({filtered_df['2022/2017,%'].values[j]}%)\" if value < 1000 else f\"{int(value/1000)}k\\n({filtered_df['2022/2017,%'].values[j]}%)\" for j, value in enumerate(filtered_df['2022'])],  # Value labels in thousands\n",
    "        textposition='auto',\n",
    "        textfont=dict(size=16),\n",
    "        marker_color='green',\n",
    "        marker_line=dict(width=3, color=['red' if country == 'Russia' else 'green' for country in filtered_df.index]) \n",
    "        )\n",
    "    \n",
    "    fig.add_trace(trace1, row=row_index, col=col_index)\n",
    "    fig.add_trace(trace2, row=row_index, col=col_index)\n",
    "        \n",
    "fig.update_layout(\n",
    "title='Входящий поток иностранных студентов по группам стран с 2017 по 2022 г.',\n",
    "# xaxis_title='Country',\n",
    "yaxis_title='Число студентов, тыс.',\n",
    "barmode='group',  # Group bars together\n",
    "height=1400,\n",
    "width=2600,\n",
    "plot_bgcolor='white'\n",
    ")\n",
    "for i in range(1, num_rows + 1):\n",
    "    for j in range(1, num_cols + 1):\n",
    "        fig.update_xaxes(tickangle=45, row=i, col=j)\n",
    "        fig.update_yaxes(gridcolor='lightgrey', row=i, col=j)\n",
    "pio.write_image(fig, \"Входящий поток иностранных студентов по группам стран с 2017 по 2022 г.png\")\n",
    "fig.show()\n"
   ]
  },
  {
   "cell_type": "markdown",
   "metadata": {},
   "source": [
    "На основании отчетов inbound в разрезе весь мир -страна"
   ]
  },
  {
   "cell_type": "code",
   "execution_count": 101,
   "metadata": {},
   "outputs": [],
   "source": [
    "# total_inbound = national[national['indicator_id'].isin([26637])]\n",
    "# total_inbound['from'] = 'World'\n",
    "# total_inbound.head()"
   ]
  },
  {
   "cell_type": "markdown",
   "metadata": {},
   "source": [
    "<h4>Исходящие по странам</h4>"
   ]
  },
  {
   "cell_type": "markdown",
   "metadata": {},
   "source": [
    "OE.5T8.40510 \n",
    "Total outbound internationally mobile tertiary students studying abroad, all countries, both sexes (UIS estimate) (number)"
   ]
  },
  {
   "cell_type": "code",
   "execution_count": 318,
   "metadata": {},
   "outputs": [
    {
     "data": {
      "text/html": [
       "<div>\n",
       "<style scoped>\n",
       "    .dataframe tbody tr th:only-of-type {\n",
       "        vertical-align: middle;\n",
       "    }\n",
       "\n",
       "    .dataframe tbody tr th {\n",
       "        vertical-align: top;\n",
       "    }\n",
       "\n",
       "    .dataframe thead th {\n",
       "        text-align: right;\n",
       "    }\n",
       "</style>\n",
       "<table border=\"1\" class=\"dataframe\">\n",
       "  <thead>\n",
       "    <tr style=\"text-align: right;\">\n",
       "      <th></th>\n",
       "      <th>2017</th>\n",
       "      <th>2022</th>\n",
       "      <th>2022/2017,%</th>\n",
       "      <th>group</th>\n",
       "    </tr>\n",
       "    <tr>\n",
       "      <th>from</th>\n",
       "      <th></th>\n",
       "      <th></th>\n",
       "      <th></th>\n",
       "      <th></th>\n",
       "    </tr>\n",
       "  </thead>\n",
       "  <tbody>\n",
       "    <tr>\n",
       "      <th>China</th>\n",
       "      <td>839754.0</td>\n",
       "      <td>960174.0</td>\n",
       "      <td>+14</td>\n",
       "      <td>Больше 200 тыс.</td>\n",
       "    </tr>\n",
       "    <tr>\n",
       "      <th>India</th>\n",
       "      <td>327376.0</td>\n",
       "      <td>709884.0</td>\n",
       "      <td>+117</td>\n",
       "      <td>Больше 200 тыс.</td>\n",
       "    </tr>\n",
       "    <tr>\n",
       "      <th>Viet Nam</th>\n",
       "      <td>93589.0</td>\n",
       "      <td>133922.0</td>\n",
       "      <td>+43</td>\n",
       "      <td>100-200 тыс.</td>\n",
       "    </tr>\n",
       "    <tr>\n",
       "      <th>Uzbekistan</th>\n",
       "      <td>34689.0</td>\n",
       "      <td>132963.0</td>\n",
       "      <td>+283</td>\n",
       "      <td>100-200 тыс.</td>\n",
       "    </tr>\n",
       "    <tr>\n",
       "      <th>Germany</th>\n",
       "      <td>122284.0</td>\n",
       "      <td>129970.0</td>\n",
       "      <td>+6</td>\n",
       "      <td>100-200 тыс.</td>\n",
       "    </tr>\n",
       "  </tbody>\n",
       "</table>\n",
       "</div>"
      ],
      "text/plain": [
       "                2017      2022 2022/2017,%            group\n",
       "from                                                       \n",
       "China       839754.0  960174.0         +14  Больше 200 тыс.\n",
       "India       327376.0  709884.0        +117  Больше 200 тыс.\n",
       "Viet Nam     93589.0  133922.0         +43     100-200 тыс.\n",
       "Uzbekistan   34689.0  132963.0        +283     100-200 тыс.\n",
       "Germany     122284.0  129970.0          +6     100-200 тыс."
      ]
     },
     "execution_count": 318,
     "metadata": {},
     "output_type": "execute_result"
    }
   ],
   "source": [
    "outbound = pd.merge(countries.groupby(['from'])['2017'].sum().reset_index(),\n",
    "                 countries.groupby(['from'])['2022'].sum().reset_index(),\n",
    "                 on = 'from',\n",
    "                 how='left')\n",
    "outbound = outbound[~(outbound['2017'].isna()) & ~(outbound['2022'].isna())]\n",
    "outbound = outbound[~(outbound['2017']==0) & ~(outbound['2022']==0)]\n",
    "outbound['2022/2017,%'] = round(outbound['2022']/outbound['2017']*100,0).astype(int)-100\n",
    "outbound['2022/2017,%'] = outbound['2022/2017,%'].apply(lambda x:'+'+str(x) if x>0 else str(x))\n",
    "outbound = outbound[outbound['2022']>5000]\n",
    "def group(x):\n",
    "    if x<20000:\n",
    "        group_name = '5-20 тыс.'\n",
    "    elif 20000<=x<50000:\n",
    "        group_name = '20-50 тыс.'\n",
    "    elif 50000<=x<100000:\n",
    "        group_name = '50-100 тыс.'\n",
    "    elif 100000<=x<200000:\n",
    "        group_name = '100-200 тыс.'\n",
    "    else:\n",
    "        group_name = 'Больше 200 тыс.'\n",
    "    return group_name\n",
    "outbound['group'] = outbound['2022'].apply(lambda x: group(x))\n",
    "outbound.set_index('from', inplace=True)\n",
    "outbound = outbound.sort_values(by='2022',ascending=False)\n",
    "outbound.head()"
   ]
  },
  {
   "cell_type": "code",
   "execution_count": 22,
   "metadata": {},
   "outputs": [
    {
     "data": {
      "application/vnd.plotly.v1+json": {
       "config": {
        "plotlyServerURL": "https://plot.ly"
       },
       "data": [
        {
         "marker": {
          "color": "brown",
          "line": {
           "color": [
            "brown",
            "brown"
           ],
           "width": 3
          }
         },
         "name": "2017 - Group Больше 200 тыс.",
         "text": [
          "839k",
          "327k"
         ],
         "textfont": {
          "size": 12
         },
         "textposition": "auto",
         "type": "bar",
         "x": [
          "China",
          "India"
         ],
         "xaxis": "x",
         "y": [
          839754,
          327376
         ],
         "yaxis": "y"
        },
        {
         "marker": {
          "color": "orange",
          "line": {
           "color": [
            "orange",
            "orange"
           ],
           "width": 3
          }
         },
         "name": "2022 - Group Больше 200 тыс.",
         "text": [
          "960k<br>(+14%)",
          "709k<br>(+117%)"
         ],
         "textfont": {
          "size": 12
         },
         "textposition": "auto",
         "type": "bar",
         "x": [
          "China",
          "India"
         ],
         "xaxis": "x",
         "y": [
          960174,
          709884
         ],
         "yaxis": "y"
        },
        {
         "marker": {
          "color": "brown",
          "line": {
           "color": [
            "brown",
            "brown",
            "brown",
            "brown",
            "brown"
           ],
           "width": 3
          }
         },
         "name": "2017 - Group 100-200 тыс.",
         "text": [
          "93k",
          "34k",
          "122k",
          "93k",
          "82k"
         ],
         "textfont": {
          "size": 12
         },
         "textposition": "auto",
         "type": "bar",
         "x": [
          "Viet Nam",
          "Uzbekistan",
          "Germany",
          "France",
          "Nigeria"
         ],
         "xaxis": "x2",
         "y": [
          93589,
          34689,
          122284,
          93566,
          82503
         ],
         "yaxis": "y2"
        },
        {
         "marker": {
          "color": "orange",
          "line": {
           "color": [
            "orange",
            "orange",
            "orange",
            "orange",
            "orange"
           ],
           "width": 3
          }
         },
         "name": "2022 - Group 100-200 тыс.",
         "text": [
          "133k<br>(+43%)",
          "132k<br>(+283%)",
          "129k<br>(+6%)",
          "116k<br>(+25%)",
          "107k<br>(+30%)"
         ],
         "textfont": {
          "size": 12
         },
         "textposition": "auto",
         "type": "bar",
         "x": [
          "Viet Nam",
          "Uzbekistan",
          "Germany",
          "France",
          "Nigeria"
         ],
         "xaxis": "x2",
         "y": [
          133922,
          132963,
          129970,
          116987,
          107228
         ],
         "yaxis": "y2"
        },
        {
         "marker": {
          "color": "brown",
          "line": {
           "color": [
            "brown",
            "brown",
            "brown",
            "brown",
            "brown",
            "brown",
            "brown",
            "brown",
            "brown",
            "brown",
            "brown",
            "brown",
            "black",
            "brown",
            "brown",
            "brown",
            "brown",
            "brown",
            "brown"
           ],
           "width": 3
          }
         },
         "name": "2017 - Group 50-100 тыс.",
         "text": [
          "63k",
          "46k",
          "73k",
          "49k",
          "57k",
          "50k",
          "80k",
          "84k",
          "77k",
          "91k",
          "50k",
          "56k",
          "55k",
          "41k",
          "29k",
          "44k",
          "44k",
          "41k",
          "46k"
         ],
         "textfont": {
          "size": 12
         },
         "textposition": "auto",
         "type": "bar",
         "x": [
          "Nepal",
          "Syrian Arab Republic",
          "Italy",
          "Pakistan",
          "Brazil",
          "Iran",
          "USA",
          "Kazakhstan",
          "Ukraine",
          "Republic of Korea",
          "Morocco",
          "Bangladesh",
          "Russia",
          "Colombia",
          "Egypt",
          "Turkey",
          "Indonesia",
          "Spain",
          "Turkmenistan"
         ],
         "xaxis": "x3",
         "y": [
          63825,
          46313,
          73369,
          49113,
          57033,
          50377,
          80819,
          84194,
          77124,
          91064,
          50670,
          56962,
          55545,
          41872,
          29239,
          44981,
          44886,
          41249,
          46118
         ],
         "yaxis": "y3"
        },
        {
         "marker": {
          "color": "orange",
          "line": {
           "color": [
            "orange",
            "orange",
            "orange",
            "orange",
            "orange",
            "orange",
            "orange",
            "orange",
            "orange",
            "orange",
            "orange",
            "orange",
            "black",
            "orange",
            "orange",
            "orange",
            "orange",
            "orange",
            "orange"
           ],
           "width": 3
          }
         },
         "name": "2022 - Group 50-100 тыс.",
         "text": [
          "99k<br>(+55%)",
          "95k<br>(+106%)",
          "90k<br>(+23%)",
          "87k<br>(+79%)",
          "86k<br>(+52%)",
          "83k<br>(+67%)",
          "77k<br>(-4%)",
          "77k<br>(-8%)",
          "76k<br>(0%)",
          "76k<br>(-16%)",
          "67k<br>(+33%)",
          "65k<br>(+15%)",
          "61k<br>(+11%)",
          "61k<br>(+48%)",
          "61k<br>(+110%)",
          "58k<br>(+31%)",
          "57k<br>(+28%)",
          "55k<br>(+34%)",
          "54k<br>(+18%)"
         ],
         "textfont": {
          "size": 12
         },
         "textposition": "auto",
         "type": "bar",
         "x": [
          "Nepal",
          "Syrian Arab Republic",
          "Italy",
          "Pakistan",
          "Brazil",
          "Iran",
          "USA",
          "Kazakhstan",
          "Ukraine",
          "Republic of Korea",
          "Morocco",
          "Bangladesh",
          "Russia",
          "Colombia",
          "Egypt",
          "Turkey",
          "Indonesia",
          "Spain",
          "Turkmenistan"
         ],
         "xaxis": "x3",
         "y": [
          99048,
          95633,
          90147,
          87923,
          86930,
          83923,
          77754,
          77739,
          76872,
          76239,
          67601,
          65518,
          61834,
          61808,
          61389,
          58919,
          57617,
          55242,
          54283
         ],
         "yaxis": "y3"
        },
        {
         "marker": {
          "color": "brown",
          "line": {
           "color": [
            "brown",
            "brown",
            "brown",
            "brown",
            "brown",
            "brown",
            "brown",
            "brown",
            "brown",
            "brown",
            "brown",
            "brown",
            "brown",
            "brown",
            "brown",
            "brown",
            "brown",
            "brown",
            "brown",
            "brown",
            "brown",
            "brown",
            "brown",
            "brown",
            "brown",
            "brown",
            "brown",
            "brown",
            "brown",
            "brown",
            "brown",
            "brown",
            "brown",
            "brown",
            "brown",
            "brown",
            "brown",
            "brown"
           ],
           "width": 3
          }
         },
         "name": "2017 - Group 20-50 тыс.",
         "text": [
          "48k",
          "42k",
          "30k",
          "37k",
          "35k",
          "58k",
          "81k",
          "36k",
          "33k",
          "35k",
          "25k",
          "28k",
          "31k",
          "21k",
          "19k",
          "20k",
          "20k",
          "25k",
          "16k",
          "32k",
          "19k",
          "25k",
          "22k",
          "22k",
          "18k",
          "29k",
          "19k",
          "20k",
          "24k",
          "16k",
          "13k",
          "25k",
          "18k",
          "15k",
          "21k",
          "15k",
          "28k",
          "23k"
         ],
         "textfont": {
          "size": 12
         },
         "textposition": "auto",
         "type": "bar",
         "x": [
          "Canada",
          "Azerbaijan",
          "Peru",
          "Greece",
          "United Kingdom",
          "Malaysia",
          "Saudi Arabia",
          "Hong Kong",
          "Mexico",
          "Romania",
          "Algeria",
          "Iraq",
          "Japan",
          "Yemen",
          "Tajikistan",
          "Sri Lanka",
          "Ecuador",
          "Cameroon",
          "Philippines",
          "Slovakia",
          "Bolivarian Republic of Venezuela",
          "Poland",
          "Belarus",
          "Tunisia",
          "Jordan",
          "Thailand",
          "Austria",
          "Palestine",
          "Cyprus",
          "Lebanon",
          "Ghana",
          "Bulgaria",
          "Zimbabwe",
          "Plurinational State of Bolivia",
          "Kuwait",
          "Chile",
          "Afghanistan",
          "Singapore"
         ],
         "xaxis": "x4",
         "y": [
          48198,
          42650,
          30839,
          37768,
          35236,
          58456,
          81469,
          36426,
          33880,
          35909,
          25235,
          28072,
          31304,
          21919,
          19536,
          20397,
          20742,
          25060,
          16457,
          32437,
          19847,
          25049,
          22264,
          22102,
          18481,
          29926,
          19131,
          20651,
          24429,
          16264,
          13491,
          25026,
          18939,
          15615,
          21956,
          15461,
          28964,
          23393
         ],
         "yaxis": "y4"
        },
        {
         "marker": {
          "color": "orange",
          "line": {
           "color": [
            "orange",
            "orange",
            "orange",
            "orange",
            "orange",
            "orange",
            "orange",
            "orange",
            "orange",
            "orange",
            "orange",
            "orange",
            "orange",
            "orange",
            "orange",
            "orange",
            "orange",
            "orange",
            "orange",
            "orange",
            "orange",
            "orange",
            "orange",
            "orange",
            "orange",
            "orange",
            "orange",
            "orange",
            "orange",
            "orange",
            "orange",
            "orange",
            "orange",
            "orange",
            "orange",
            "orange",
            "orange",
            "orange"
           ],
           "width": 3
          }
         },
         "name": "2022 - Group 20-50 тыс.",
         "text": [
          "48k<br>(0%)",
          "45k<br>(+7%)",
          "42k<br>(+37%)",
          "40k<br>(+7%)",
          "39k<br>(+13%)",
          "39k<br>(-32%)",
          "38k<br>(-53%)",
          "37k<br>(+2%)",
          "35k<br>(+5%)",
          "35k<br>(-1%)",
          "34k<br>(+38%)",
          "34k<br>(+22%)",
          "34k<br>(+9%)",
          "32k<br>(+47%)",
          "31k<br>(+63%)",
          "30k<br>(+52%)",
          "30k<br>(+48%)",
          "30k<br>(+20%)",
          "29k<br>(+82%)",
          "29k<br>(-9%)",
          "28k<br>(+44%)",
          "27k<br>(+10%)",
          "26k<br>(+18%)",
          "26k<br>(+19%)",
          "26k<br>(+41%)",
          "25k<br>(-15%)",
          "25k<br>(+33%)",
          "25k<br>(+23%)",
          "25k<br>(+3%)",
          "25k<br>(+54%)",
          "22k<br>(+66%)",
          "21k<br>(-12%)",
          "21k<br>(+15%)",
          "21k<br>(+40%)",
          "20k<br>(-5%)",
          "20k<br>(+35%)",
          "20k<br>(-30%)",
          "20k<br>(-14%)"
         ],
         "textfont": {
          "size": 12
         },
         "textposition": "auto",
         "type": "bar",
         "x": [
          "Canada",
          "Azerbaijan",
          "Peru",
          "Greece",
          "United Kingdom",
          "Malaysia",
          "Saudi Arabia",
          "Hong Kong",
          "Mexico",
          "Romania",
          "Algeria",
          "Iraq",
          "Japan",
          "Yemen",
          "Tajikistan",
          "Sri Lanka",
          "Ecuador",
          "Cameroon",
          "Philippines",
          "Slovakia",
          "Bolivarian Republic of Venezuela",
          "Poland",
          "Belarus",
          "Tunisia",
          "Jordan",
          "Thailand",
          "Austria",
          "Palestine",
          "Cyprus",
          "Lebanon",
          "Ghana",
          "Bulgaria",
          "Zimbabwe",
          "Plurinational State of Bolivia",
          "Kuwait",
          "Chile",
          "Afghanistan",
          "Singapore"
         ],
         "xaxis": "x4",
         "y": [
          48180,
          45465,
          42208,
          40249,
          39818,
          39720,
          38528,
          37041,
          35633,
          35443,
          34905,
          34197,
          34156,
          32280,
          31808,
          30925,
          30790,
          30050,
          29911,
          29624,
          28589,
          27567,
          26375,
          26305,
          26099,
          25438,
          25432,
          25403,
          25140,
          25026,
          22399,
          21901,
          21866,
          21815,
          20828,
          20811,
          20145,
          20004
         ],
         "yaxis": "y4"
        },
        {
         "marker": {
          "color": "brown",
          "line": {
           "color": [
            "brown",
            "brown",
            "brown",
            "brown",
            "brown",
            "brown",
            "brown",
            "brown",
            "brown",
            "brown",
            "brown",
            "brown",
            "brown",
            "brown",
            "brown",
            "brown",
            "brown",
            "brown",
            "brown",
            "brown",
            "brown",
            "brown",
            "brown",
            "brown",
            "brown",
            "brown",
            "brown",
            "brown",
            "brown",
            "brown",
            "brown",
            "brown",
            "brown",
            "brown",
            "brown",
            "brown",
            "brown",
            "brown",
            "brown",
            "brown",
            "brown",
            "brown",
            "brown",
            "brown",
            "brown",
            "brown",
            "brown",
            "brown",
            "brown",
            "brown",
            "brown",
            "brown",
            "brown",
            "brown",
            "brown",
            "brown",
            "brown",
            "brown",
            "brown",
            "brown",
            "brown",
            "brown",
            "brown"
           ],
           "width": 3
          }
         },
         "name": "2017 - Group 5-20 тыс.",
         "text": [
          "18k",
          "14k",
          "14k",
          "14k",
          "18k",
          "13k",
          "14k",
          "14k",
          "12k",
          "11k",
          "14k",
          "13k",
          "11k",
          "7k",
          "10k",
          "12k",
          "15k",
          "17k",
          "17k",
          "15k",
          "5k",
          "16k",
          "7k",
          "11k",
          "13k",
          "8k",
          "13k",
          "9k",
          "11k",
          "10k",
          "10k",
          "7k",
          "6k",
          "9k",
          "15k",
          "8k",
          "7k",
          "2k",
          "8k",
          "11k",
          "10k",
          "4k",
          "6k",
          "5k",
          "11k",
          "4k",
          "11k",
          "10k",
          "4k",
          "3k",
          "6k",
          "5k",
          "4k",
          "5k",
          "6k",
          "7k",
          "5k",
          "3k",
          "4k",
          "4k",
          "5k",
          "4k",
          "3k"
         ],
         "textfont": {
          "size": 12
         },
         "textposition": "auto",
         "type": "bar",
         "x": [
          "Moldova",
          "Portugal",
          "Belgium",
          "Switzerland",
          "Netherlands",
          "Côte d'Ivoire",
          "Kenya",
          "Ireland",
          "Senegal",
          "United Arab Emirates",
          "Israel",
          "Paraguay",
          "Kyrgyzstan",
          "Chad",
          "Mongolia",
          "Hungary",
          "Bosnia and Herzegovina",
          "Norway",
          "Albania",
          "Serbia",
          "Somalia",
          "Sweden",
          "Myanmar",
          "Luxembourg",
          "Australia",
          "Argentina",
          "Czechia",
          "Haiti",
          "Democratic Republic of Congo",
          "South Africa",
          "Oman",
          "Gabon",
          "Ethiopia",
          "Croatia",
          "Angola",
          "Mali",
          "Benin",
          "Guinea-Bissau",
          "Guinea",
          "Congo",
          "Finland",
          "Lao",
          "Togo",
          "Burkina Faso",
          "Georgia",
          "Cambodia",
          "Libya",
          "Lithuania",
          "Niger",
          "Cape Verde",
          "Tanzania",
          "Denmark",
          "Uruguay",
          "Uganda",
          "Qatar",
          "Mauritius",
          "North Macedonia",
          "Rwanda",
          "Montenegro",
          "Madagascar",
          "Armenia",
          "Dominican Republic",
          "Honduras"
         ],
         "xaxis": "x5",
         "y": [
          18673,
          14063,
          14882,
          14224,
          18174,
          13574,
          14633,
          14958,
          12498,
          11243,
          14856,
          13370,
          11314,
          7087,
          10548,
          12316,
          15390,
          17608,
          17429,
          15904,
          5131,
          16386,
          7002,
          11016,
          13209,
          8057,
          13157,
          9418,
          11268,
          10344,
          10928,
          7016,
          6805,
          9668,
          15252,
          8992,
          7043,
          2985,
          8875,
          11475,
          10863,
          4155,
          6003,
          5885,
          11289,
          4798,
          11321,
          10404,
          4383,
          3382,
          6750,
          5245,
          4807,
          5473,
          6190,
          7583,
          5343,
          3918,
          4795,
          4750,
          5832,
          4230,
          3839
         ],
         "yaxis": "y5"
        },
        {
         "marker": {
          "color": "orange",
          "line": {
           "color": [
            "orange",
            "orange",
            "orange",
            "orange",
            "orange",
            "orange",
            "orange",
            "orange",
            "orange",
            "orange",
            "orange",
            "orange",
            "orange",
            "orange",
            "orange",
            "orange",
            "orange",
            "orange",
            "orange",
            "orange",
            "orange",
            "orange",
            "orange",
            "orange",
            "orange",
            "orange",
            "orange",
            "orange",
            "orange",
            "orange",
            "orange",
            "orange",
            "orange",
            "orange",
            "orange",
            "orange",
            "orange",
            "orange",
            "orange",
            "orange",
            "orange",
            "orange",
            "orange",
            "orange",
            "orange",
            "orange",
            "orange",
            "orange",
            "orange",
            "orange",
            "orange",
            "orange",
            "orange",
            "orange",
            "orange",
            "orange",
            "orange",
            "orange",
            "orange",
            "orange",
            "orange",
            "orange",
            "orange"
           ],
           "width": 3
          }
         },
         "name": "2022 - Group 5-20 тыс.",
         "text": [
          "19k<br>(+3%)",
          "19k<br>(+35%)",
          "18k<br>(+28%)",
          "18k<br>(+32%)",
          "18k<br>(+4%)",
          "18k<br>(+38%)",
          "18k<br>(+27%)",
          "18k<br>(+22%)",
          "18k<br>(+45%)",
          "17k<br>(+60%)",
          "17k<br>(+17%)",
          "17k<br>(+29%)",
          "16k<br>(+45%)",
          "16k<br>(+130%)",
          "16k<br>(+53%)",
          "15k<br>(+24%)",
          "15k<br>(-2%)",
          "14k<br>(-15%)",
          "14k<br>(-17%)",
          "14k<br>(-10%)",
          "14k<br>(+180%)",
          "14k<br>(-14%)",
          "13k<br>(+89%)",
          "12k<br>(+16%)",
          "12k<br>(-5%)",
          "11k<br>(+45%)",
          "11k<br>(-12%)",
          "11k<br>(+20%)",
          "11k<br>(0%)",
          "11k<br>(+7%)",
          "10k<br>(-2%)",
          "10k<br>(+50%)",
          "10k<br>(+50%)",
          "9k<br>(-1%)",
          "9k<br>(-37%)",
          "9k<br>(+6%)",
          "9k<br>(+31%)",
          "8k<br>(+190%)",
          "8k<br>(-4%)",
          "8k<br>(-26%)",
          "8k<br>(-23%)",
          "7k<br>(+88%)",
          "7k<br>(+28%)",
          "7k<br>(+29%)",
          "7k<br>(-34%)",
          "7k<br>(+54%)",
          "7k<br>(-37%)",
          "7k<br>(-32%)",
          "6k<br>(+43%)",
          "6k<br>(+83%)",
          "6k<br>(-8%)",
          "6k<br>(+17%)",
          "6k<br>(+25%)",
          "5k<br>(+7%)",
          "5k<br>(-6%)",
          "5k<br>(-24%)",
          "5k<br>(+4%)",
          "5k<br>(+40%)",
          "5k<br>(+12%)",
          "5k<br>(+9%)",
          "5k<br>(-11%)",
          "5k<br>(+19%)",
          "5k<br>(+31%)"
         ],
         "textfont": {
          "size": 12
         },
         "textposition": "auto",
         "type": "bar",
         "x": [
          "Moldova",
          "Portugal",
          "Belgium",
          "Switzerland",
          "Netherlands",
          "Côte d'Ivoire",
          "Kenya",
          "Ireland",
          "Senegal",
          "United Arab Emirates",
          "Israel",
          "Paraguay",
          "Kyrgyzstan",
          "Chad",
          "Mongolia",
          "Hungary",
          "Bosnia and Herzegovina",
          "Norway",
          "Albania",
          "Serbia",
          "Somalia",
          "Sweden",
          "Myanmar",
          "Luxembourg",
          "Australia",
          "Argentina",
          "Czechia",
          "Haiti",
          "Democratic Republic of Congo",
          "South Africa",
          "Oman",
          "Gabon",
          "Ethiopia",
          "Croatia",
          "Angola",
          "Mali",
          "Benin",
          "Guinea-Bissau",
          "Guinea",
          "Congo",
          "Finland",
          "Lao",
          "Togo",
          "Burkina Faso",
          "Georgia",
          "Cambodia",
          "Libya",
          "Lithuania",
          "Niger",
          "Cape Verde",
          "Tanzania",
          "Denmark",
          "Uruguay",
          "Uganda",
          "Qatar",
          "Mauritius",
          "North Macedonia",
          "Rwanda",
          "Montenegro",
          "Madagascar",
          "Armenia",
          "Dominican Republic",
          "Honduras"
         ],
         "xaxis": "x5",
         "y": [
          19195,
          19041,
          18989,
          18846,
          18836,
          18726,
          18636,
          18279,
          18179,
          17938,
          17371,
          17235,
          16456,
          16331,
          16117,
          15225,
          15064,
          14940,
          14542,
          14375,
          14345,
          14011,
          13213,
          12816,
          12505,
          11679,
          11627,
          11301,
          11258,
          11042,
          10751,
          10506,
          10201,
          9613,
          9574,
          9568,
          9208,
          8644,
          8539,
          8435,
          8321,
          7794,
          7694,
          7563,
          7496,
          7377,
          7155,
          7027,
          6278,
          6193,
          6191,
          6139,
          6017,
          5849,
          5842,
          5785,
          5550,
          5482,
          5357,
          5192,
          5178,
          5051,
          5035
         ],
         "yaxis": "y5"
        }
       ],
       "layout": {
        "annotations": [
         {
          "font": {
           "size": 16
          },
          "showarrow": false,
          "text": "Больше 200 тыс.",
          "x": 0.225,
          "xanchor": "center",
          "xref": "paper",
          "y": 1,
          "yanchor": "bottom",
          "yref": "paper"
         },
         {
          "font": {
           "size": 16
          },
          "showarrow": false,
          "text": "100-200 тыс.",
          "x": 0.775,
          "xanchor": "center",
          "xref": "paper",
          "y": 1,
          "yanchor": "bottom",
          "yref": "paper"
         },
         {
          "font": {
           "size": 16
          },
          "showarrow": false,
          "text": "50-100 тыс.",
          "x": 0.225,
          "xanchor": "center",
          "xref": "paper",
          "y": 0.6111111111111112,
          "yanchor": "bottom",
          "yref": "paper"
         },
         {
          "font": {
           "size": 16
          },
          "showarrow": false,
          "text": "20-50 тыс.",
          "x": 0.775,
          "xanchor": "center",
          "xref": "paper",
          "y": 0.6111111111111112,
          "yanchor": "bottom",
          "yref": "paper"
         },
         {
          "font": {
           "size": 16
          },
          "showarrow": false,
          "text": "5-20 тыс.",
          "x": 0.225,
          "xanchor": "center",
          "xref": "paper",
          "y": 0.22222222222222224,
          "yanchor": "bottom",
          "yref": "paper"
         }
        ],
        "barmode": "group",
        "height": 1600,
        "plot_bgcolor": "white",
        "template": {
         "data": {
          "bar": [
           {
            "error_x": {
             "color": "#2a3f5f"
            },
            "error_y": {
             "color": "#2a3f5f"
            },
            "marker": {
             "line": {
              "color": "#E5ECF6",
              "width": 0.5
             },
             "pattern": {
              "fillmode": "overlay",
              "size": 10,
              "solidity": 0.2
             }
            },
            "type": "bar"
           }
          ],
          "barpolar": [
           {
            "marker": {
             "line": {
              "color": "#E5ECF6",
              "width": 0.5
             },
             "pattern": {
              "fillmode": "overlay",
              "size": 10,
              "solidity": 0.2
             }
            },
            "type": "barpolar"
           }
          ],
          "carpet": [
           {
            "aaxis": {
             "endlinecolor": "#2a3f5f",
             "gridcolor": "white",
             "linecolor": "white",
             "minorgridcolor": "white",
             "startlinecolor": "#2a3f5f"
            },
            "baxis": {
             "endlinecolor": "#2a3f5f",
             "gridcolor": "white",
             "linecolor": "white",
             "minorgridcolor": "white",
             "startlinecolor": "#2a3f5f"
            },
            "type": "carpet"
           }
          ],
          "choropleth": [
           {
            "colorbar": {
             "outlinewidth": 0,
             "ticks": ""
            },
            "type": "choropleth"
           }
          ],
          "contour": [
           {
            "colorbar": {
             "outlinewidth": 0,
             "ticks": ""
            },
            "colorscale": [
             [
              0,
              "#0d0887"
             ],
             [
              0.1111111111111111,
              "#46039f"
             ],
             [
              0.2222222222222222,
              "#7201a8"
             ],
             [
              0.3333333333333333,
              "#9c179e"
             ],
             [
              0.4444444444444444,
              "#bd3786"
             ],
             [
              0.5555555555555556,
              "#d8576b"
             ],
             [
              0.6666666666666666,
              "#ed7953"
             ],
             [
              0.7777777777777778,
              "#fb9f3a"
             ],
             [
              0.8888888888888888,
              "#fdca26"
             ],
             [
              1,
              "#f0f921"
             ]
            ],
            "type": "contour"
           }
          ],
          "contourcarpet": [
           {
            "colorbar": {
             "outlinewidth": 0,
             "ticks": ""
            },
            "type": "contourcarpet"
           }
          ],
          "heatmap": [
           {
            "colorbar": {
             "outlinewidth": 0,
             "ticks": ""
            },
            "colorscale": [
             [
              0,
              "#0d0887"
             ],
             [
              0.1111111111111111,
              "#46039f"
             ],
             [
              0.2222222222222222,
              "#7201a8"
             ],
             [
              0.3333333333333333,
              "#9c179e"
             ],
             [
              0.4444444444444444,
              "#bd3786"
             ],
             [
              0.5555555555555556,
              "#d8576b"
             ],
             [
              0.6666666666666666,
              "#ed7953"
             ],
             [
              0.7777777777777778,
              "#fb9f3a"
             ],
             [
              0.8888888888888888,
              "#fdca26"
             ],
             [
              1,
              "#f0f921"
             ]
            ],
            "type": "heatmap"
           }
          ],
          "heatmapgl": [
           {
            "colorbar": {
             "outlinewidth": 0,
             "ticks": ""
            },
            "colorscale": [
             [
              0,
              "#0d0887"
             ],
             [
              0.1111111111111111,
              "#46039f"
             ],
             [
              0.2222222222222222,
              "#7201a8"
             ],
             [
              0.3333333333333333,
              "#9c179e"
             ],
             [
              0.4444444444444444,
              "#bd3786"
             ],
             [
              0.5555555555555556,
              "#d8576b"
             ],
             [
              0.6666666666666666,
              "#ed7953"
             ],
             [
              0.7777777777777778,
              "#fb9f3a"
             ],
             [
              0.8888888888888888,
              "#fdca26"
             ],
             [
              1,
              "#f0f921"
             ]
            ],
            "type": "heatmapgl"
           }
          ],
          "histogram": [
           {
            "marker": {
             "pattern": {
              "fillmode": "overlay",
              "size": 10,
              "solidity": 0.2
             }
            },
            "type": "histogram"
           }
          ],
          "histogram2d": [
           {
            "colorbar": {
             "outlinewidth": 0,
             "ticks": ""
            },
            "colorscale": [
             [
              0,
              "#0d0887"
             ],
             [
              0.1111111111111111,
              "#46039f"
             ],
             [
              0.2222222222222222,
              "#7201a8"
             ],
             [
              0.3333333333333333,
              "#9c179e"
             ],
             [
              0.4444444444444444,
              "#bd3786"
             ],
             [
              0.5555555555555556,
              "#d8576b"
             ],
             [
              0.6666666666666666,
              "#ed7953"
             ],
             [
              0.7777777777777778,
              "#fb9f3a"
             ],
             [
              0.8888888888888888,
              "#fdca26"
             ],
             [
              1,
              "#f0f921"
             ]
            ],
            "type": "histogram2d"
           }
          ],
          "histogram2dcontour": [
           {
            "colorbar": {
             "outlinewidth": 0,
             "ticks": ""
            },
            "colorscale": [
             [
              0,
              "#0d0887"
             ],
             [
              0.1111111111111111,
              "#46039f"
             ],
             [
              0.2222222222222222,
              "#7201a8"
             ],
             [
              0.3333333333333333,
              "#9c179e"
             ],
             [
              0.4444444444444444,
              "#bd3786"
             ],
             [
              0.5555555555555556,
              "#d8576b"
             ],
             [
              0.6666666666666666,
              "#ed7953"
             ],
             [
              0.7777777777777778,
              "#fb9f3a"
             ],
             [
              0.8888888888888888,
              "#fdca26"
             ],
             [
              1,
              "#f0f921"
             ]
            ],
            "type": "histogram2dcontour"
           }
          ],
          "mesh3d": [
           {
            "colorbar": {
             "outlinewidth": 0,
             "ticks": ""
            },
            "type": "mesh3d"
           }
          ],
          "parcoords": [
           {
            "line": {
             "colorbar": {
              "outlinewidth": 0,
              "ticks": ""
             }
            },
            "type": "parcoords"
           }
          ],
          "pie": [
           {
            "automargin": true,
            "type": "pie"
           }
          ],
          "scatter": [
           {
            "fillpattern": {
             "fillmode": "overlay",
             "size": 10,
             "solidity": 0.2
            },
            "type": "scatter"
           }
          ],
          "scatter3d": [
           {
            "line": {
             "colorbar": {
              "outlinewidth": 0,
              "ticks": ""
             }
            },
            "marker": {
             "colorbar": {
              "outlinewidth": 0,
              "ticks": ""
             }
            },
            "type": "scatter3d"
           }
          ],
          "scattercarpet": [
           {
            "marker": {
             "colorbar": {
              "outlinewidth": 0,
              "ticks": ""
             }
            },
            "type": "scattercarpet"
           }
          ],
          "scattergeo": [
           {
            "marker": {
             "colorbar": {
              "outlinewidth": 0,
              "ticks": ""
             }
            },
            "type": "scattergeo"
           }
          ],
          "scattergl": [
           {
            "marker": {
             "colorbar": {
              "outlinewidth": 0,
              "ticks": ""
             }
            },
            "type": "scattergl"
           }
          ],
          "scattermapbox": [
           {
            "marker": {
             "colorbar": {
              "outlinewidth": 0,
              "ticks": ""
             }
            },
            "type": "scattermapbox"
           }
          ],
          "scatterpolar": [
           {
            "marker": {
             "colorbar": {
              "outlinewidth": 0,
              "ticks": ""
             }
            },
            "type": "scatterpolar"
           }
          ],
          "scatterpolargl": [
           {
            "marker": {
             "colorbar": {
              "outlinewidth": 0,
              "ticks": ""
             }
            },
            "type": "scatterpolargl"
           }
          ],
          "scatterternary": [
           {
            "marker": {
             "colorbar": {
              "outlinewidth": 0,
              "ticks": ""
             }
            },
            "type": "scatterternary"
           }
          ],
          "surface": [
           {
            "colorbar": {
             "outlinewidth": 0,
             "ticks": ""
            },
            "colorscale": [
             [
              0,
              "#0d0887"
             ],
             [
              0.1111111111111111,
              "#46039f"
             ],
             [
              0.2222222222222222,
              "#7201a8"
             ],
             [
              0.3333333333333333,
              "#9c179e"
             ],
             [
              0.4444444444444444,
              "#bd3786"
             ],
             [
              0.5555555555555556,
              "#d8576b"
             ],
             [
              0.6666666666666666,
              "#ed7953"
             ],
             [
              0.7777777777777778,
              "#fb9f3a"
             ],
             [
              0.8888888888888888,
              "#fdca26"
             ],
             [
              1,
              "#f0f921"
             ]
            ],
            "type": "surface"
           }
          ],
          "table": [
           {
            "cells": {
             "fill": {
              "color": "#EBF0F8"
             },
             "line": {
              "color": "white"
             }
            },
            "header": {
             "fill": {
              "color": "#C8D4E3"
             },
             "line": {
              "color": "white"
             }
            },
            "type": "table"
           }
          ]
         },
         "layout": {
          "annotationdefaults": {
           "arrowcolor": "#2a3f5f",
           "arrowhead": 0,
           "arrowwidth": 1
          },
          "autotypenumbers": "strict",
          "coloraxis": {
           "colorbar": {
            "outlinewidth": 0,
            "ticks": ""
           }
          },
          "colorscale": {
           "diverging": [
            [
             0,
             "#8e0152"
            ],
            [
             0.1,
             "#c51b7d"
            ],
            [
             0.2,
             "#de77ae"
            ],
            [
             0.3,
             "#f1b6da"
            ],
            [
             0.4,
             "#fde0ef"
            ],
            [
             0.5,
             "#f7f7f7"
            ],
            [
             0.6,
             "#e6f5d0"
            ],
            [
             0.7,
             "#b8e186"
            ],
            [
             0.8,
             "#7fbc41"
            ],
            [
             0.9,
             "#4d9221"
            ],
            [
             1,
             "#276419"
            ]
           ],
           "sequential": [
            [
             0,
             "#0d0887"
            ],
            [
             0.1111111111111111,
             "#46039f"
            ],
            [
             0.2222222222222222,
             "#7201a8"
            ],
            [
             0.3333333333333333,
             "#9c179e"
            ],
            [
             0.4444444444444444,
             "#bd3786"
            ],
            [
             0.5555555555555556,
             "#d8576b"
            ],
            [
             0.6666666666666666,
             "#ed7953"
            ],
            [
             0.7777777777777778,
             "#fb9f3a"
            ],
            [
             0.8888888888888888,
             "#fdca26"
            ],
            [
             1,
             "#f0f921"
            ]
           ],
           "sequentialminus": [
            [
             0,
             "#0d0887"
            ],
            [
             0.1111111111111111,
             "#46039f"
            ],
            [
             0.2222222222222222,
             "#7201a8"
            ],
            [
             0.3333333333333333,
             "#9c179e"
            ],
            [
             0.4444444444444444,
             "#bd3786"
            ],
            [
             0.5555555555555556,
             "#d8576b"
            ],
            [
             0.6666666666666666,
             "#ed7953"
            ],
            [
             0.7777777777777778,
             "#fb9f3a"
            ],
            [
             0.8888888888888888,
             "#fdca26"
            ],
            [
             1,
             "#f0f921"
            ]
           ]
          },
          "colorway": [
           "#636efa",
           "#EF553B",
           "#00cc96",
           "#ab63fa",
           "#FFA15A",
           "#19d3f3",
           "#FF6692",
           "#B6E880",
           "#FF97FF",
           "#FECB52"
          ],
          "font": {
           "color": "#2a3f5f"
          },
          "geo": {
           "bgcolor": "white",
           "lakecolor": "white",
           "landcolor": "#E5ECF6",
           "showlakes": true,
           "showland": true,
           "subunitcolor": "white"
          },
          "hoverlabel": {
           "align": "left"
          },
          "hovermode": "closest",
          "mapbox": {
           "style": "light"
          },
          "paper_bgcolor": "white",
          "plot_bgcolor": "#E5ECF6",
          "polar": {
           "angularaxis": {
            "gridcolor": "white",
            "linecolor": "white",
            "ticks": ""
           },
           "bgcolor": "#E5ECF6",
           "radialaxis": {
            "gridcolor": "white",
            "linecolor": "white",
            "ticks": ""
           }
          },
          "scene": {
           "xaxis": {
            "backgroundcolor": "#E5ECF6",
            "gridcolor": "white",
            "gridwidth": 2,
            "linecolor": "white",
            "showbackground": true,
            "ticks": "",
            "zerolinecolor": "white"
           },
           "yaxis": {
            "backgroundcolor": "#E5ECF6",
            "gridcolor": "white",
            "gridwidth": 2,
            "linecolor": "white",
            "showbackground": true,
            "ticks": "",
            "zerolinecolor": "white"
           },
           "zaxis": {
            "backgroundcolor": "#E5ECF6",
            "gridcolor": "white",
            "gridwidth": 2,
            "linecolor": "white",
            "showbackground": true,
            "ticks": "",
            "zerolinecolor": "white"
           }
          },
          "shapedefaults": {
           "line": {
            "color": "#2a3f5f"
           }
          },
          "ternary": {
           "aaxis": {
            "gridcolor": "white",
            "linecolor": "white",
            "ticks": ""
           },
           "baxis": {
            "gridcolor": "white",
            "linecolor": "white",
            "ticks": ""
           },
           "bgcolor": "#E5ECF6",
           "caxis": {
            "gridcolor": "white",
            "linecolor": "white",
            "ticks": ""
           }
          },
          "title": {
           "x": 0.05
          },
          "xaxis": {
           "automargin": true,
           "gridcolor": "white",
           "linecolor": "white",
           "ticks": "",
           "title": {
            "standoff": 15
           },
           "zerolinecolor": "white",
           "zerolinewidth": 2
          },
          "yaxis": {
           "automargin": true,
           "gridcolor": "white",
           "linecolor": "white",
           "ticks": "",
           "title": {
            "standoff": 15
           },
           "zerolinecolor": "white",
           "zerolinewidth": 2
          }
         }
        },
        "title": {
         "text": "Исходящий поток иностранных студентов по группам стран с 2017 по 2022 г."
        },
        "width": 2600,
        "xaxis": {
         "anchor": "y",
         "domain": [
          0,
          0.45
         ],
         "tickangle": 45
        },
        "xaxis2": {
         "anchor": "y2",
         "domain": [
          0.55,
          1
         ],
         "tickangle": 45
        },
        "xaxis3": {
         "anchor": "y3",
         "domain": [
          0,
          0.45
         ],
         "tickangle": 45
        },
        "xaxis4": {
         "anchor": "y4",
         "domain": [
          0.55,
          1
         ],
         "tickangle": 45
        },
        "xaxis5": {
         "anchor": "y5",
         "domain": [
          0,
          0.45
         ],
         "tickangle": 45
        },
        "xaxis6": {
         "anchor": "y6",
         "domain": [
          0.55,
          1
         ],
         "tickangle": 45
        },
        "yaxis": {
         "anchor": "x",
         "domain": [
          0.7777777777777778,
          1
         ],
         "gridcolor": "lightgrey",
         "title": {
          "text": "Число студентов, тыс."
         }
        },
        "yaxis2": {
         "anchor": "x2",
         "domain": [
          0.7777777777777778,
          1
         ],
         "gridcolor": "lightgrey"
        },
        "yaxis3": {
         "anchor": "x3",
         "domain": [
          0.3888888888888889,
          0.6111111111111112
         ],
         "gridcolor": "lightgrey"
        },
        "yaxis4": {
         "anchor": "x4",
         "domain": [
          0.3888888888888889,
          0.6111111111111112
         ],
         "gridcolor": "lightgrey"
        },
        "yaxis5": {
         "anchor": "x5",
         "domain": [
          0,
          0.22222222222222224
         ],
         "gridcolor": "lightgrey"
        },
        "yaxis6": {
         "anchor": "x6",
         "domain": [
          0,
          0.22222222222222224
         ],
         "gridcolor": "lightgrey"
        }
       }
      }
     },
     "metadata": {},
     "output_type": "display_data"
    }
   ],
   "source": [
    "n_cols = 2  # Number of columns in subplot grid\n",
    "# unique_groups  = diff['group'].unique()\n",
    "unique_groups = ['Больше 200 тыс.','100-200 тыс.', '50-100 тыс.', '20-50 тыс.','5-20 тыс.']\n",
    "num_plots = len(unique_groups)\n",
    "num_cols = 2  # Maximum of 2 columns\n",
    "num_rows = (num_plots + num_cols - 1) // num_cols  # Calculate the number of rows\n",
    "fig = make_subplots(rows=num_rows, cols=num_cols, subplot_titles=unique_groups)\n",
    "outbound = outbound.sort_values(by=['2022'],ascending=False)\n",
    "for i, group in enumerate(unique_groups):\n",
    "    filtered_df = outbound[outbound['group'] == group]\n",
    "    row_index = i // n_cols + 1\n",
    "    col_index = i % n_cols + 1\n",
    "    \n",
    "    trace1 = go.Bar(x=filtered_df.index,\n",
    "        y=filtered_df['2017'],\n",
    "        name=f'2017 - Group {group}',\n",
    "        text=[f\"{value/1000:.1f}k\" if value < 1000 else f\"{int(value/1000)}k\" for value in filtered_df['2017']],  # Value labels in thousands\n",
    "        textposition='auto',\n",
    "        textfont=dict(size=12),\n",
    "        marker_color='brown',\n",
    "        marker_line=dict(width=3, color=['black' if country == 'Russia' else 'brown' for country in filtered_df.index]) \n",
    "        )\n",
    "    trace2 = go.Bar(x=filtered_df.index,\n",
    "        y=filtered_df['2022'],\n",
    "        name=f'2022 - Group {group}',\n",
    "        text=[f\"{value/1000:.1f}k<br>({filtered_df['2022/2017,%'].values[j]}%)\" if value < 1000 else f\"{int(value/1000)}k<br>({filtered_df['2022/2017,%'].values[j]}%)\" for j, value in enumerate(filtered_df['2022'])],  # Value labels in thousands\n",
    "        textposition='auto',\n",
    "        textfont=dict(size=12),\n",
    "        marker_color='orange',\n",
    "        marker_line=dict(width=3, color=['black' if country == 'Russia' else 'orange' for country in filtered_df.index]) \n",
    "        )\n",
    "    \n",
    "    fig.add_trace(trace1, row=row_index, col=col_index)\n",
    "    fig.add_trace(trace2, row=row_index, col=col_index)\n",
    "        \n",
    "fig.update_layout(\n",
    "title='Исходящий поток иностранных студентов по группам стран с 2017 по 2022 г.',\n",
    "# xaxis_title='Country',\n",
    "yaxis_title='Число студентов, тыс.',\n",
    "barmode='group',  # Group bars together\n",
    "height=1600,\n",
    "width=2600,\n",
    "plot_bgcolor='white'\n",
    ")\n",
    "for i in range(1, num_rows + 1):\n",
    "    for j in range(1, num_cols + 1):\n",
    "        fig.update_xaxes(tickangle=45, row=i, col=j)\n",
    "        fig.update_yaxes(gridcolor='lightgrey', row=i, col=j)\n",
    "pio.write_image(fig, \"Исходящий поток иностранных студентов по группам стран с 2017 по 2022 г.png\")\n",
    "fig.show()"
   ]
  },
  {
   "cell_type": "markdown",
   "metadata": {},
   "source": [
    "<h4>Student flows inside CIS</h4>"
   ]
  },
  {
   "cell_type": "code",
   "execution_count": null,
   "metadata": {},
   "outputs": [
    {
     "data": {
      "text/html": [
       "<div>\n",
       "<style scoped>\n",
       "    .dataframe tbody tr th:only-of-type {\n",
       "        vertical-align: middle;\n",
       "    }\n",
       "\n",
       "    .dataframe tbody tr th {\n",
       "        vertical-align: top;\n",
       "    }\n",
       "\n",
       "    .dataframe thead th {\n",
       "        text-align: right;\n",
       "    }\n",
       "</style>\n",
       "<table border=\"1\" class=\"dataframe\">\n",
       "  <thead>\n",
       "    <tr style=\"text-align: right;\">\n",
       "      <th>year</th>\n",
       "      <th>from</th>\n",
       "      <th>to</th>\n",
       "      <th>2017</th>\n",
       "      <th>2022</th>\n",
       "    </tr>\n",
       "  </thead>\n",
       "  <tbody>\n",
       "    <tr>\n",
       "      <th>2</th>\n",
       "      <td>Afghanistan Out</td>\n",
       "      <td>Argentina In</td>\n",
       "      <td>15.0</td>\n",
       "      <td>16.0</td>\n",
       "    </tr>\n",
       "    <tr>\n",
       "      <th>4</th>\n",
       "      <td>Afghanistan Out</td>\n",
       "      <td>Australia In</td>\n",
       "      <td>44.0</td>\n",
       "      <td>73.0</td>\n",
       "    </tr>\n",
       "  </tbody>\n",
       "</table>\n",
       "</div>"
      ],
      "text/plain": [
       "year             from            to  2017  2022\n",
       "2     Afghanistan Out  Argentina In  15.0  16.0\n",
       "4     Afghanistan Out  Australia In  44.0  73.0"
      ]
     },
     "execution_count": 319,
     "metadata": {},
     "output_type": "execute_result"
    }
   ],
   "source": [
    "countries2 = countries[~(countries['2017'].isna()) & ~(countries['2022'].isna())]\n",
    "countries2 = countries2[~(countries2['2017']==0) & ~(countries2['2022']==0)]\n",
    "\n",
    "#some tweaks for Sankey diagram that demands different names for sources and targets\n",
    "countries2['from'] = countries2['from']+ ' Out'\n",
    "countries2['to'] = countries2['to']+ ' In'\n",
    "countries2.head(2)"
   ]
  },
  {
   "cell_type": "code",
   "execution_count": 327,
   "metadata": {},
   "outputs": [
    {
     "data": {
      "text/html": [
       "<div>\n",
       "<style scoped>\n",
       "    .dataframe tbody tr th:only-of-type {\n",
       "        vertical-align: middle;\n",
       "    }\n",
       "\n",
       "    .dataframe tbody tr th {\n",
       "        vertical-align: top;\n",
       "    }\n",
       "\n",
       "    .dataframe thead th {\n",
       "        text-align: right;\n",
       "    }\n",
       "</style>\n",
       "<table border=\"1\" class=\"dataframe\">\n",
       "  <thead>\n",
       "    <tr style=\"text-align: right;\">\n",
       "      <th>year</th>\n",
       "      <th>from</th>\n",
       "      <th>to</th>\n",
       "      <th>2017</th>\n",
       "      <th>2022</th>\n",
       "    </tr>\n",
       "  </thead>\n",
       "  <tbody>\n",
       "    <tr>\n",
       "      <th>953</th>\n",
       "      <td>Armenia Out</td>\n",
       "      <td>Argentina In</td>\n",
       "      <td>31.0</td>\n",
       "      <td>65.0</td>\n",
       "    </tr>\n",
       "    <tr>\n",
       "      <th>955</th>\n",
       "      <td>Armenia Out</td>\n",
       "      <td>Austria In</td>\n",
       "      <td>60.0</td>\n",
       "      <td>66.0</td>\n",
       "    </tr>\n",
       "  </tbody>\n",
       "</table>\n",
       "</div>"
      ],
      "text/plain": [
       "year         from            to  2017  2022\n",
       "953   Armenia Out  Argentina In  31.0  65.0\n",
       "955   Armenia Out    Austria In  60.0  66.0"
      ]
     },
     "execution_count": 327,
     "metadata": {},
     "output_type": "execute_result"
    }
   ],
   "source": [
    "cis_c = ['Russia','Moldova','Belarus','Kazakhstan','Uzbekistan',\n",
    "          'Kyrgyzstan','Tajikistan','Turkmenistan',\n",
    "          'Armenia','Azerbaijan','Ukraine']\n",
    "cis = [item + ' Out' for item in cis_c] + [item + ' In' for item in cis_c]\n",
    "cis_countries_from = countries2[countries2['from'].isin(cis)]\n",
    "cis_countries_from.head(2)"
   ]
  },
  {
   "cell_type": "code",
   "execution_count": 328,
   "metadata": {},
   "outputs": [
    {
     "name": "stderr",
     "output_type": "stream",
     "text": [
      "C:\\Users\\yuliy\\AppData\\Local\\Temp\\ipykernel_15076\\589063051.py:2: DeprecationWarning:\n",
      "\n",
      "DataFrameGroupBy.apply operated on the grouping columns. This behavior is deprecated, and in a future version of pandas the grouping columns will be excluded from the operation. Either pass `include_groups=False` to exclude the groupings or explicitly select the grouping columns after groupby to silence this warning.\n",
      "\n",
      "C:\\Users\\yuliy\\AppData\\Local\\Temp\\ipykernel_15076\\589063051.py:4: DeprecationWarning:\n",
      "\n",
      "DataFrameGroupBy.apply operated on the grouping columns. This behavior is deprecated, and in a future version of pandas the grouping columns will be excluded from the operation. Either pass `include_groups=False` to exclude the groupings or explicitly select the grouping columns after groupby to silence this warning.\n",
      "\n"
     ]
    },
    {
     "data": {
      "text/plain": [
       "array(['Russia In', 'France In', 'Germany In', 'USA In',\n",
       "       'United Kingdom In', 'Turkey In', 'Georgia In', 'Poland In',\n",
       "       'Lithuania In', 'Czechia In', 'Kyrgyzstan In', 'Kazakhstan In',\n",
       "       'Saudi Arabia In', 'Romania In', 'Italy In', 'Belarus In',\n",
       "       'Malaysia In', 'Republic of Korea In', 'Latvia In', 'Bulgaria In',\n",
       "       'Uzbekistan In', 'Slovakia In'], dtype=object)"
      ]
     },
     "execution_count": 328,
     "metadata": {},
     "output_type": "execute_result"
    }
   ],
   "source": [
    "#Extract top 5 target countries for every source country in 2017 and 2022 \n",
    "cis_countries_from_2022_top10 = cis_countries_from.groupby('from').apply(lambda x: x.nlargest(5, '2022')).reset_index(drop=True)\n",
    "cis_countries_from_2022_top10.drop(columns='2017',inplace=True)\n",
    "cis_countries_from_2017_top10 = cis_countries_from.groupby('from').apply(lambda x: x.nlargest(5, '2017')).reset_index(drop=True)\n",
    "cis_countries_from_2017_top10.drop(columns='2022',inplace=True)\n",
    "cis_countries_from_top = pd.concat([cis_countries_from_2017_top10,cis_countries_from_2022_top10])\n",
    "cis_countries_from_top['to'].unique()"
   ]
  },
  {
   "cell_type": "code",
   "execution_count": 336,
   "metadata": {},
   "outputs": [
    {
     "name": "stdout",
     "output_type": "stream",
     "text": [
      "Central Asia\n"
     ]
    },
    {
     "data": {
      "application/vnd.plotly.v1+json": {
       "config": {
        "plotlyServerURL": "https://plot.ly"
       },
       "data": [
        {
         "domain": {
          "x": [
           0,
           0.45
          ],
          "y": [
           0,
           1
          ]
         },
         "link": {
          "color": [
           "rgba(214, 39, 40, 0.8)",
           "rgba(214, 39, 40, 0.8)",
           "rgba(214, 39, 40, 0.8)",
           "rgba(214, 39, 40, 0.8)",
           "rgba(214, 39, 40, 0.8)",
           "rgba(148, 103, 189, 0.8)",
           "rgba(148, 103, 189, 0.8)",
           "rgba(148, 103, 189, 0.8)",
           "rgba(148, 103, 189, 0.8)",
           "rgba(148, 103, 189, 0.8)",
           "rgba(127, 127, 127, 0.8)",
           "rgba(127, 127, 127, 0.8)",
           "rgba(127, 127, 127, 0.8)",
           "rgba(127, 127, 127, 0.8)",
           "rgba(127, 127, 127, 0.8)",
           "rgba(188, 189, 34, 0.8)",
           "rgba(188, 189, 34, 0.8)",
           "rgba(188, 189, 34, 0.8)",
           "rgba(188, 189, 34, 0.8)",
           "rgba(188, 189, 34, 0.8)",
           "rgba(255, 187, 120, 0.8)",
           "rgba(255, 187, 120, 0.8)",
           "rgba(255, 187, 120, 0.8)",
           "rgba(255, 187, 120, 0.8)",
           "rgba(255, 187, 120, 0.8)",
           "rgba(214, 39, 40, 0.8)",
           "rgba(214, 39, 40, 0.8)",
           "rgba(214, 39, 40, 0.8)",
           "rgba(214, 39, 40, 0.8)",
           "rgba(214, 39, 40, 0.8)",
           "rgba(148, 103, 189, 0.8)",
           "rgba(148, 103, 189, 0.8)",
           "rgba(148, 103, 189, 0.8)",
           "rgba(148, 103, 189, 0.8)",
           "rgba(148, 103, 189, 0.8)",
           "rgba(127, 127, 127, 0.8)",
           "rgba(127, 127, 127, 0.8)",
           "rgba(127, 127, 127, 0.8)",
           "rgba(127, 127, 127, 0.8)",
           "rgba(127, 127, 127, 0.8)",
           "rgba(188, 189, 34, 0.8)",
           "rgba(188, 189, 34, 0.8)",
           "rgba(188, 189, 34, 0.8)",
           "rgba(188, 189, 34, 0.8)",
           "rgba(188, 189, 34, 0.8)",
           "rgba(255, 187, 120, 0.8)",
           "rgba(255, 187, 120, 0.8)",
           "rgba(255, 187, 120, 0.8)",
           "rgba(255, 187, 120, 0.8)",
           "rgba(255, 187, 120, 0.8)"
          ],
          "label": [
           "Kazakhstan Out → Russia In: 65237.0",
           "Kazakhstan Out → Kyrgyzstan In: 4907.0",
           "Kazakhstan Out → Turkey In: 2015.0",
           "Kazakhstan Out → USA In: 1706.0",
           "Kazakhstan Out → Czechia In: 1648.0",
           "Kyrgyzstan Out → Russia In: 5523.0",
           "Kyrgyzstan Out → Turkey In: 2032.0",
           "Kyrgyzstan Out → Kazakhstan In: 1459.0",
           "Kyrgyzstan Out → Germany In: 477.0",
           "Kyrgyzstan Out → Saudi Arabia In: 380.0",
           "Tajikistan Out → Russia In: 14204.0",
           "Tajikistan Out → Kyrgyzstan In: 2008.0",
           "Tajikistan Out → Turkey In: 692.0",
           "Tajikistan Out → Belarus In: 446.0",
           "Tajikistan Out → Kazakhstan In: 435.0",
           "Turkmenistan Out → Russia In: 17457.0",
           "Turkmenistan Out → Turkey In: 10418.0",
           "Turkmenistan Out → Belarus In: 8012.0",
           "Turkmenistan Out → Kazakhstan In: 1293.0",
           "Turkmenistan Out → Malaysia In: 252.0",
           "Uzbekistan Out → Russia In: 20862.0",
           "Uzbekistan Out → Kazakhstan In: 3818.0",
           "Uzbekistan Out → Republic of Korea In: 1716.0",
           "Uzbekistan Out → Latvia In: 1025.0",
           "Uzbekistan Out → Turkey In: 736.0",
           "Kazakhstan Out → Russia In: nan",
           "Kazakhstan Out → Turkey In: nan",
           "Kazakhstan Out → Czechia In: nan",
           "Kazakhstan Out → USA In: nan",
           "Kazakhstan Out → Kyrgyzstan In: nan",
           "Kyrgyzstan Out → Russia In: nan",
           "Kyrgyzstan Out → Turkey In: nan",
           "Kyrgyzstan Out → USA In: nan",
           "Kyrgyzstan Out → Kazakhstan In: nan",
           "Kyrgyzstan Out → Germany In: nan",
           "Tajikistan Out → Russia In: nan",
           "Tajikistan Out → Kyrgyzstan In: nan",
           "Tajikistan Out → Turkey In: nan",
           "Tajikistan Out → Kazakhstan In: nan",
           "Tajikistan Out → Poland In: nan",
           "Turkmenistan Out → Russia In: nan",
           "Turkmenistan Out → Turkey In: nan",
           "Turkmenistan Out → Belarus In: nan",
           "Turkmenistan Out → Uzbekistan In: nan",
           "Turkmenistan Out → Kazakhstan In: nan",
           "Uzbekistan Out → Kyrgyzstan In: nan",
           "Uzbekistan Out → Russia In: nan",
           "Uzbekistan Out → Kazakhstan In: nan",
           "Uzbekistan Out → Republic of Korea In: nan",
           "Uzbekistan Out → Turkey In: nan"
          ],
          "source": [
           9,
           9,
           9,
           9,
           9,
           5,
           5,
           5,
           5,
           5,
           1,
           1,
           1,
           1,
           1,
           12,
           12,
           12,
           12,
           12,
           14,
           14,
           14,
           14,
           14,
           9,
           9,
           9,
           9,
           9,
           5,
           5,
           5,
           5,
           5,
           1,
           1,
           1,
           1,
           1,
           12,
           12,
           12,
           12,
           12,
           14,
           14,
           14,
           14,
           14
          ],
          "target": [
           0,
           18,
           13,
           17,
           11,
           0,
           13,
           8,
           4,
           3,
           0,
           18,
           13,
           2,
           8,
           0,
           13,
           2,
           8,
           7,
           0,
           8,
           16,
           6,
           13,
           0,
           13,
           11,
           17,
           18,
           0,
           13,
           17,
           8,
           4,
           0,
           18,
           13,
           8,
           10,
           0,
           13,
           2,
           15,
           8,
           18,
           0,
           8,
           16,
           13
          ],
          "value": [
           65237,
           4907,
           2015,
           1706,
           1648,
           5523,
           2032,
           1459,
           477,
           380,
           14204,
           2008,
           692,
           446,
           435,
           17457,
           10418,
           8012,
           1293,
           252,
           20862,
           3818,
           1716,
           1025,
           736,
           null,
           null,
           null,
           null,
           null,
           null,
           null,
           null,
           null,
           null,
           null,
           null,
           null,
           null,
           null,
           null,
           null,
           null,
           null,
           null,
           null,
           null,
           null,
           null,
           null
          ]
         },
         "node": {
          "color": [
           "rgba(227, 119, 194, 0.8)",
           "rgba(127, 127, 127, 0.8)",
           "rgba(44, 162, 44, 0.8)",
           "rgba(189, 195, 199, 0.8)",
           "rgba(189, 195, 199, 0.8)",
           "rgba(148, 103, 189, 0.8)",
           "rgba(189, 195, 199, 0.8)",
           "rgba(189, 195, 199, 0.8)",
           "rgba(214, 39, 40, 0.8)",
           "rgba(214, 39, 40, 0.8)",
           "rgba(189, 195, 199, 0.8)",
           "rgba(189, 195, 199, 0.8)",
           "rgba(188, 189, 34, 0.8)",
           "rgba(189, 195, 199, 0.8)",
           "rgba(255, 187, 120, 0.8)",
           "rgba(255, 187, 120, 0.8)",
           "rgba(189, 195, 199, 0.8)",
           "rgba(189, 195, 199, 0.8)",
           "rgba(148, 103, 189, 0.8)"
          ],
          "label": [
           "Russia In (123283)",
           "Tajikistan Out (17785)",
           "Belarus In (8458)",
           "Saudi Arabia In (380)",
           "Germany In (477)",
           "Kyrgyzstan Out (9871)",
           "Latvia In (1025)",
           "Malaysia In (252)",
           "Kazakhstan In (7005)",
           "Kazakhstan Out (75513)",
           "Poland In (0)",
           "Czechia In (1648)",
           "Turkmenistan Out (37432)",
           "Turkey In (15893)",
           "Uzbekistan Out (28157)",
           "Uzbekistan In (0)",
           "Republic of Korea In (1716)",
           "USA In (1706)",
           "Kyrgyzstan In (6915)"
          ],
          "line": {
           "color": "black",
           "width": 0.5
          },
          "pad": 48,
          "thickness": 50
         },
         "type": "sankey"
        },
        {
         "domain": {
          "x": [
           0.55,
           1
          ],
          "y": [
           0,
           1
          ]
         },
         "link": {
          "color": [
           "rgba(214, 39, 40, 0.8)",
           "rgba(214, 39, 40, 0.8)",
           "rgba(214, 39, 40, 0.8)",
           "rgba(214, 39, 40, 0.8)",
           "rgba(214, 39, 40, 0.8)",
           "rgba(148, 103, 189, 0.8)",
           "rgba(148, 103, 189, 0.8)",
           "rgba(148, 103, 189, 0.8)",
           "rgba(148, 103, 189, 0.8)",
           "rgba(148, 103, 189, 0.8)",
           "rgba(127, 127, 127, 0.8)",
           "rgba(127, 127, 127, 0.8)",
           "rgba(127, 127, 127, 0.8)",
           "rgba(127, 127, 127, 0.8)",
           "rgba(127, 127, 127, 0.8)",
           "rgba(188, 189, 34, 0.8)",
           "rgba(188, 189, 34, 0.8)",
           "rgba(188, 189, 34, 0.8)",
           "rgba(188, 189, 34, 0.8)",
           "rgba(188, 189, 34, 0.8)",
           "rgba(255, 187, 120, 0.8)",
           "rgba(255, 187, 120, 0.8)",
           "rgba(255, 187, 120, 0.8)",
           "rgba(255, 187, 120, 0.8)",
           "rgba(255, 187, 120, 0.8)",
           "rgba(214, 39, 40, 0.8)",
           "rgba(214, 39, 40, 0.8)",
           "rgba(214, 39, 40, 0.8)",
           "rgba(214, 39, 40, 0.8)",
           "rgba(214, 39, 40, 0.8)",
           "rgba(148, 103, 189, 0.8)",
           "rgba(148, 103, 189, 0.8)",
           "rgba(148, 103, 189, 0.8)",
           "rgba(148, 103, 189, 0.8)",
           "rgba(148, 103, 189, 0.8)",
           "rgba(127, 127, 127, 0.8)",
           "rgba(127, 127, 127, 0.8)",
           "rgba(127, 127, 127, 0.8)",
           "rgba(127, 127, 127, 0.8)",
           "rgba(127, 127, 127, 0.8)",
           "rgba(188, 189, 34, 0.8)",
           "rgba(188, 189, 34, 0.8)",
           "rgba(188, 189, 34, 0.8)",
           "rgba(188, 189, 34, 0.8)",
           "rgba(188, 189, 34, 0.8)",
           "rgba(255, 187, 120, 0.8)",
           "rgba(255, 187, 120, 0.8)",
           "rgba(255, 187, 120, 0.8)",
           "rgba(255, 187, 120, 0.8)",
           "rgba(255, 187, 120, 0.8)"
          ],
          "label": [
           "Kazakhstan Out → Russia In: nan",
           "Kazakhstan Out → Kyrgyzstan In: nan",
           "Kazakhstan Out → Turkey In: nan",
           "Kazakhstan Out → USA In: nan",
           "Kazakhstan Out → Czechia In: nan",
           "Kyrgyzstan Out → Russia In: nan",
           "Kyrgyzstan Out → Turkey In: nan",
           "Kyrgyzstan Out → Kazakhstan In: nan",
           "Kyrgyzstan Out → Germany In: nan",
           "Kyrgyzstan Out → Saudi Arabia In: nan",
           "Tajikistan Out → Russia In: nan",
           "Tajikistan Out → Kyrgyzstan In: nan",
           "Tajikistan Out → Turkey In: nan",
           "Tajikistan Out → Belarus In: nan",
           "Tajikistan Out → Kazakhstan In: nan",
           "Turkmenistan Out → Russia In: nan",
           "Turkmenistan Out → Turkey In: nan",
           "Turkmenistan Out → Belarus In: nan",
           "Turkmenistan Out → Kazakhstan In: nan",
           "Turkmenistan Out → Malaysia In: nan",
           "Uzbekistan Out → Russia In: nan",
           "Uzbekistan Out → Kazakhstan In: nan",
           "Uzbekistan Out → Republic of Korea In: nan",
           "Uzbekistan Out → Latvia In: nan",
           "Uzbekistan Out → Turkey In: nan",
           "Kazakhstan Out → Russia In: 53935.0",
           "Kazakhstan Out → Turkey In: 4788.0",
           "Kazakhstan Out → Czechia In: 2610.0",
           "Kazakhstan Out → USA In: 2440.0",
           "Kazakhstan Out → Kyrgyzstan In: 1985.0",
           "Kyrgyzstan Out → Russia In: 9345.0",
           "Kyrgyzstan Out → Turkey In: 1759.0",
           "Kyrgyzstan Out → USA In: 705.0",
           "Kyrgyzstan Out → Kazakhstan In: 597.0",
           "Kyrgyzstan Out → Germany In: 541.0",
           "Tajikistan Out → Russia In: 27086.0",
           "Tajikistan Out → Kyrgyzstan In: 1595.0",
           "Tajikistan Out → Turkey In: 669.0",
           "Tajikistan Out → Kazakhstan In: 361.0",
           "Tajikistan Out → Poland In: 317.0",
           "Turkmenistan Out → Russia In: 27095.0",
           "Turkmenistan Out → Turkey In: 15362.0",
           "Turkmenistan Out → Belarus In: 6482.0",
           "Turkmenistan Out → Uzbekistan In: 2233.0",
           "Turkmenistan Out → Kazakhstan In: 1373.0",
           "Uzbekistan Out → Kyrgyzstan In: 51605.0",
           "Uzbekistan Out → Russia In: 48430.0",
           "Uzbekistan Out → Kazakhstan In: 9571.0",
           "Uzbekistan Out → Republic of Korea In: 8222.0",
           "Uzbekistan Out → Turkey In: 3325.0"
          ],
          "source": [
           9,
           9,
           9,
           9,
           9,
           5,
           5,
           5,
           5,
           5,
           1,
           1,
           1,
           1,
           1,
           12,
           12,
           12,
           12,
           12,
           14,
           14,
           14,
           14,
           14,
           9,
           9,
           9,
           9,
           9,
           5,
           5,
           5,
           5,
           5,
           1,
           1,
           1,
           1,
           1,
           12,
           12,
           12,
           12,
           12,
           14,
           14,
           14,
           14,
           14
          ],
          "target": [
           0,
           18,
           13,
           17,
           11,
           0,
           13,
           8,
           4,
           3,
           0,
           18,
           13,
           2,
           8,
           0,
           13,
           2,
           8,
           7,
           0,
           8,
           16,
           6,
           13,
           0,
           13,
           11,
           17,
           18,
           0,
           13,
           17,
           8,
           4,
           0,
           18,
           13,
           8,
           10,
           0,
           13,
           2,
           15,
           8,
           18,
           0,
           8,
           16,
           13
          ],
          "value": [
           null,
           null,
           null,
           null,
           null,
           null,
           null,
           null,
           null,
           null,
           null,
           null,
           null,
           null,
           null,
           null,
           null,
           null,
           null,
           null,
           null,
           null,
           null,
           null,
           null,
           53935,
           4788,
           2610,
           2440,
           1985,
           9345,
           1759,
           705,
           597,
           541,
           27086,
           1595,
           669,
           361,
           317,
           27095,
           15362,
           6482,
           2233,
           1373,
           51605,
           48430,
           9571,
           8222,
           3325
          ]
         },
         "node": {
          "color": [
           "rgba(227, 119, 194, 0.8)",
           "rgba(127, 127, 127, 0.8)",
           "rgba(44, 162, 44, 0.8)",
           "rgba(189, 195, 199, 0.8)",
           "rgba(189, 195, 199, 0.8)",
           "rgba(148, 103, 189, 0.8)",
           "rgba(189, 195, 199, 0.8)",
           "rgba(189, 195, 199, 0.8)",
           "rgba(214, 39, 40, 0.8)",
           "rgba(214, 39, 40, 0.8)",
           "rgba(189, 195, 199, 0.8)",
           "rgba(189, 195, 199, 0.8)",
           "rgba(188, 189, 34, 0.8)",
           "rgba(189, 195, 199, 0.8)",
           "rgba(255, 187, 120, 0.8)",
           "rgba(255, 187, 120, 0.8)",
           "rgba(189, 195, 199, 0.8)",
           "rgba(189, 195, 199, 0.8)",
           "rgba(148, 103, 189, 0.8)"
          ],
          "label": [
           "Russia In (165891)",
           "Tajikistan Out (30028)",
           "Belarus In (6482)",
           "Saudi Arabia In (0)",
           "Germany In (541)",
           "Kyrgyzstan Out (12947)",
           "Latvia In (0)",
           "Malaysia In (0)",
           "Kazakhstan In (11902)",
           "Kazakhstan Out (65758)",
           "Poland In (317)",
           "Czechia In (2610)",
           "Turkmenistan Out (52545)",
           "Turkey In (25903)",
           "Uzbekistan Out (121153)",
           "Uzbekistan In (2233)",
           "Republic of Korea In (8222)",
           "USA In (3145)",
           "Kyrgyzstan In (55185)"
          ],
          "line": {
           "color": "black",
           "width": 0.5
          },
          "pad": 18,
          "thickness": 50
         },
         "type": "sankey"
        }
       ],
       "layout": {
        "annotations": [
         {
          "font": {
           "color": "black",
           "size": 16
          },
          "showarrow": false,
          "text": "2017",
          "x": 0.2,
          "y": 1.05
         },
         {
          "font": {
           "color": "black",
           "size": 16
          },
          "showarrow": false,
          "text": "2022",
          "x": 0.78,
          "y": 1.05
         },
         {
          "font": {
           "color": "black",
           "size": 12
          },
          "showarrow": false,
          "text": "@Conspect Labs, Sources: UNESCO, OpenDoorsData, Nuffic, IIE, Statista, MoE of Kazakhstan, Iran, Egypt, Thailand",
          "x": 0.002,
          "y": -0.1
         }
        ],
        "font": {
         "color": "black",
         "family": "Times",
         "size": 12
        },
        "height": 600,
        "plot_bgcolor": "white",
        "template": {
         "data": {
          "bar": [
           {
            "error_x": {
             "color": "#2a3f5f"
            },
            "error_y": {
             "color": "#2a3f5f"
            },
            "marker": {
             "line": {
              "color": "#E5ECF6",
              "width": 0.5
             },
             "pattern": {
              "fillmode": "overlay",
              "size": 10,
              "solidity": 0.2
             }
            },
            "type": "bar"
           }
          ],
          "barpolar": [
           {
            "marker": {
             "line": {
              "color": "#E5ECF6",
              "width": 0.5
             },
             "pattern": {
              "fillmode": "overlay",
              "size": 10,
              "solidity": 0.2
             }
            },
            "type": "barpolar"
           }
          ],
          "carpet": [
           {
            "aaxis": {
             "endlinecolor": "#2a3f5f",
             "gridcolor": "white",
             "linecolor": "white",
             "minorgridcolor": "white",
             "startlinecolor": "#2a3f5f"
            },
            "baxis": {
             "endlinecolor": "#2a3f5f",
             "gridcolor": "white",
             "linecolor": "white",
             "minorgridcolor": "white",
             "startlinecolor": "#2a3f5f"
            },
            "type": "carpet"
           }
          ],
          "choropleth": [
           {
            "colorbar": {
             "outlinewidth": 0,
             "ticks": ""
            },
            "type": "choropleth"
           }
          ],
          "contour": [
           {
            "colorbar": {
             "outlinewidth": 0,
             "ticks": ""
            },
            "colorscale": [
             [
              0,
              "#0d0887"
             ],
             [
              0.1111111111111111,
              "#46039f"
             ],
             [
              0.2222222222222222,
              "#7201a8"
             ],
             [
              0.3333333333333333,
              "#9c179e"
             ],
             [
              0.4444444444444444,
              "#bd3786"
             ],
             [
              0.5555555555555556,
              "#d8576b"
             ],
             [
              0.6666666666666666,
              "#ed7953"
             ],
             [
              0.7777777777777778,
              "#fb9f3a"
             ],
             [
              0.8888888888888888,
              "#fdca26"
             ],
             [
              1,
              "#f0f921"
             ]
            ],
            "type": "contour"
           }
          ],
          "contourcarpet": [
           {
            "colorbar": {
             "outlinewidth": 0,
             "ticks": ""
            },
            "type": "contourcarpet"
           }
          ],
          "heatmap": [
           {
            "colorbar": {
             "outlinewidth": 0,
             "ticks": ""
            },
            "colorscale": [
             [
              0,
              "#0d0887"
             ],
             [
              0.1111111111111111,
              "#46039f"
             ],
             [
              0.2222222222222222,
              "#7201a8"
             ],
             [
              0.3333333333333333,
              "#9c179e"
             ],
             [
              0.4444444444444444,
              "#bd3786"
             ],
             [
              0.5555555555555556,
              "#d8576b"
             ],
             [
              0.6666666666666666,
              "#ed7953"
             ],
             [
              0.7777777777777778,
              "#fb9f3a"
             ],
             [
              0.8888888888888888,
              "#fdca26"
             ],
             [
              1,
              "#f0f921"
             ]
            ],
            "type": "heatmap"
           }
          ],
          "heatmapgl": [
           {
            "colorbar": {
             "outlinewidth": 0,
             "ticks": ""
            },
            "colorscale": [
             [
              0,
              "#0d0887"
             ],
             [
              0.1111111111111111,
              "#46039f"
             ],
             [
              0.2222222222222222,
              "#7201a8"
             ],
             [
              0.3333333333333333,
              "#9c179e"
             ],
             [
              0.4444444444444444,
              "#bd3786"
             ],
             [
              0.5555555555555556,
              "#d8576b"
             ],
             [
              0.6666666666666666,
              "#ed7953"
             ],
             [
              0.7777777777777778,
              "#fb9f3a"
             ],
             [
              0.8888888888888888,
              "#fdca26"
             ],
             [
              1,
              "#f0f921"
             ]
            ],
            "type": "heatmapgl"
           }
          ],
          "histogram": [
           {
            "marker": {
             "pattern": {
              "fillmode": "overlay",
              "size": 10,
              "solidity": 0.2
             }
            },
            "type": "histogram"
           }
          ],
          "histogram2d": [
           {
            "colorbar": {
             "outlinewidth": 0,
             "ticks": ""
            },
            "colorscale": [
             [
              0,
              "#0d0887"
             ],
             [
              0.1111111111111111,
              "#46039f"
             ],
             [
              0.2222222222222222,
              "#7201a8"
             ],
             [
              0.3333333333333333,
              "#9c179e"
             ],
             [
              0.4444444444444444,
              "#bd3786"
             ],
             [
              0.5555555555555556,
              "#d8576b"
             ],
             [
              0.6666666666666666,
              "#ed7953"
             ],
             [
              0.7777777777777778,
              "#fb9f3a"
             ],
             [
              0.8888888888888888,
              "#fdca26"
             ],
             [
              1,
              "#f0f921"
             ]
            ],
            "type": "histogram2d"
           }
          ],
          "histogram2dcontour": [
           {
            "colorbar": {
             "outlinewidth": 0,
             "ticks": ""
            },
            "colorscale": [
             [
              0,
              "#0d0887"
             ],
             [
              0.1111111111111111,
              "#46039f"
             ],
             [
              0.2222222222222222,
              "#7201a8"
             ],
             [
              0.3333333333333333,
              "#9c179e"
             ],
             [
              0.4444444444444444,
              "#bd3786"
             ],
             [
              0.5555555555555556,
              "#d8576b"
             ],
             [
              0.6666666666666666,
              "#ed7953"
             ],
             [
              0.7777777777777778,
              "#fb9f3a"
             ],
             [
              0.8888888888888888,
              "#fdca26"
             ],
             [
              1,
              "#f0f921"
             ]
            ],
            "type": "histogram2dcontour"
           }
          ],
          "mesh3d": [
           {
            "colorbar": {
             "outlinewidth": 0,
             "ticks": ""
            },
            "type": "mesh3d"
           }
          ],
          "parcoords": [
           {
            "line": {
             "colorbar": {
              "outlinewidth": 0,
              "ticks": ""
             }
            },
            "type": "parcoords"
           }
          ],
          "pie": [
           {
            "automargin": true,
            "type": "pie"
           }
          ],
          "scatter": [
           {
            "fillpattern": {
             "fillmode": "overlay",
             "size": 10,
             "solidity": 0.2
            },
            "type": "scatter"
           }
          ],
          "scatter3d": [
           {
            "line": {
             "colorbar": {
              "outlinewidth": 0,
              "ticks": ""
             }
            },
            "marker": {
             "colorbar": {
              "outlinewidth": 0,
              "ticks": ""
             }
            },
            "type": "scatter3d"
           }
          ],
          "scattercarpet": [
           {
            "marker": {
             "colorbar": {
              "outlinewidth": 0,
              "ticks": ""
             }
            },
            "type": "scattercarpet"
           }
          ],
          "scattergeo": [
           {
            "marker": {
             "colorbar": {
              "outlinewidth": 0,
              "ticks": ""
             }
            },
            "type": "scattergeo"
           }
          ],
          "scattergl": [
           {
            "marker": {
             "colorbar": {
              "outlinewidth": 0,
              "ticks": ""
             }
            },
            "type": "scattergl"
           }
          ],
          "scattermapbox": [
           {
            "marker": {
             "colorbar": {
              "outlinewidth": 0,
              "ticks": ""
             }
            },
            "type": "scattermapbox"
           }
          ],
          "scatterpolar": [
           {
            "marker": {
             "colorbar": {
              "outlinewidth": 0,
              "ticks": ""
             }
            },
            "type": "scatterpolar"
           }
          ],
          "scatterpolargl": [
           {
            "marker": {
             "colorbar": {
              "outlinewidth": 0,
              "ticks": ""
             }
            },
            "type": "scatterpolargl"
           }
          ],
          "scatterternary": [
           {
            "marker": {
             "colorbar": {
              "outlinewidth": 0,
              "ticks": ""
             }
            },
            "type": "scatterternary"
           }
          ],
          "surface": [
           {
            "colorbar": {
             "outlinewidth": 0,
             "ticks": ""
            },
            "colorscale": [
             [
              0,
              "#0d0887"
             ],
             [
              0.1111111111111111,
              "#46039f"
             ],
             [
              0.2222222222222222,
              "#7201a8"
             ],
             [
              0.3333333333333333,
              "#9c179e"
             ],
             [
              0.4444444444444444,
              "#bd3786"
             ],
             [
              0.5555555555555556,
              "#d8576b"
             ],
             [
              0.6666666666666666,
              "#ed7953"
             ],
             [
              0.7777777777777778,
              "#fb9f3a"
             ],
             [
              0.8888888888888888,
              "#fdca26"
             ],
             [
              1,
              "#f0f921"
             ]
            ],
            "type": "surface"
           }
          ],
          "table": [
           {
            "cells": {
             "fill": {
              "color": "#EBF0F8"
             },
             "line": {
              "color": "white"
             }
            },
            "header": {
             "fill": {
              "color": "#C8D4E3"
             },
             "line": {
              "color": "white"
             }
            },
            "type": "table"
           }
          ]
         },
         "layout": {
          "annotationdefaults": {
           "arrowcolor": "#2a3f5f",
           "arrowhead": 0,
           "arrowwidth": 1
          },
          "autotypenumbers": "strict",
          "coloraxis": {
           "colorbar": {
            "outlinewidth": 0,
            "ticks": ""
           }
          },
          "colorscale": {
           "diverging": [
            [
             0,
             "#8e0152"
            ],
            [
             0.1,
             "#c51b7d"
            ],
            [
             0.2,
             "#de77ae"
            ],
            [
             0.3,
             "#f1b6da"
            ],
            [
             0.4,
             "#fde0ef"
            ],
            [
             0.5,
             "#f7f7f7"
            ],
            [
             0.6,
             "#e6f5d0"
            ],
            [
             0.7,
             "#b8e186"
            ],
            [
             0.8,
             "#7fbc41"
            ],
            [
             0.9,
             "#4d9221"
            ],
            [
             1,
             "#276419"
            ]
           ],
           "sequential": [
            [
             0,
             "#0d0887"
            ],
            [
             0.1111111111111111,
             "#46039f"
            ],
            [
             0.2222222222222222,
             "#7201a8"
            ],
            [
             0.3333333333333333,
             "#9c179e"
            ],
            [
             0.4444444444444444,
             "#bd3786"
            ],
            [
             0.5555555555555556,
             "#d8576b"
            ],
            [
             0.6666666666666666,
             "#ed7953"
            ],
            [
             0.7777777777777778,
             "#fb9f3a"
            ],
            [
             0.8888888888888888,
             "#fdca26"
            ],
            [
             1,
             "#f0f921"
            ]
           ],
           "sequentialminus": [
            [
             0,
             "#0d0887"
            ],
            [
             0.1111111111111111,
             "#46039f"
            ],
            [
             0.2222222222222222,
             "#7201a8"
            ],
            [
             0.3333333333333333,
             "#9c179e"
            ],
            [
             0.4444444444444444,
             "#bd3786"
            ],
            [
             0.5555555555555556,
             "#d8576b"
            ],
            [
             0.6666666666666666,
             "#ed7953"
            ],
            [
             0.7777777777777778,
             "#fb9f3a"
            ],
            [
             0.8888888888888888,
             "#fdca26"
            ],
            [
             1,
             "#f0f921"
            ]
           ]
          },
          "colorway": [
           "#636efa",
           "#EF553B",
           "#00cc96",
           "#ab63fa",
           "#FFA15A",
           "#19d3f3",
           "#FF6692",
           "#B6E880",
           "#FF97FF",
           "#FECB52"
          ],
          "font": {
           "color": "#2a3f5f"
          },
          "geo": {
           "bgcolor": "white",
           "lakecolor": "white",
           "landcolor": "#E5ECF6",
           "showlakes": true,
           "showland": true,
           "subunitcolor": "white"
          },
          "hoverlabel": {
           "align": "left"
          },
          "hovermode": "closest",
          "mapbox": {
           "style": "light"
          },
          "paper_bgcolor": "white",
          "plot_bgcolor": "#E5ECF6",
          "polar": {
           "angularaxis": {
            "gridcolor": "white",
            "linecolor": "white",
            "ticks": ""
           },
           "bgcolor": "#E5ECF6",
           "radialaxis": {
            "gridcolor": "white",
            "linecolor": "white",
            "ticks": ""
           }
          },
          "scene": {
           "xaxis": {
            "backgroundcolor": "#E5ECF6",
            "gridcolor": "white",
            "gridwidth": 2,
            "linecolor": "white",
            "showbackground": true,
            "ticks": "",
            "zerolinecolor": "white"
           },
           "yaxis": {
            "backgroundcolor": "#E5ECF6",
            "gridcolor": "white",
            "gridwidth": 2,
            "linecolor": "white",
            "showbackground": true,
            "ticks": "",
            "zerolinecolor": "white"
           },
           "zaxis": {
            "backgroundcolor": "#E5ECF6",
            "gridcolor": "white",
            "gridwidth": 2,
            "linecolor": "white",
            "showbackground": true,
            "ticks": "",
            "zerolinecolor": "white"
           }
          },
          "shapedefaults": {
           "line": {
            "color": "#2a3f5f"
           }
          },
          "ternary": {
           "aaxis": {
            "gridcolor": "white",
            "linecolor": "white",
            "ticks": ""
           },
           "baxis": {
            "gridcolor": "white",
            "linecolor": "white",
            "ticks": ""
           },
           "bgcolor": "#E5ECF6",
           "caxis": {
            "gridcolor": "white",
            "linecolor": "white",
            "ticks": ""
           }
          },
          "title": {
           "x": 0.05
          },
          "xaxis": {
           "automargin": true,
           "gridcolor": "white",
           "linecolor": "white",
           "ticks": "",
           "title": {
            "standoff": 15
           },
           "zerolinecolor": "white",
           "zerolinewidth": 2
          },
          "yaxis": {
           "automargin": true,
           "gridcolor": "white",
           "linecolor": "white",
           "ticks": "",
           "title": {
            "standoff": 15
           },
           "zerolinecolor": "white",
           "zerolinewidth": 2
          }
         }
        },
        "title": {
         "text": "Students Flows from Central Asia CIS Countries, Top 5 destinations for every country"
        },
        "width": 1000
       }
      }
     },
     "metadata": {},
     "output_type": "display_data"
    },
    {
     "name": "stdout",
     "output_type": "stream",
     "text": [
      "Europe & Caucasus\n"
     ]
    },
    {
     "data": {
      "application/vnd.plotly.v1+json": {
       "config": {
        "plotlyServerURL": "https://plot.ly"
       },
       "data": [
        {
         "domain": {
          "x": [
           0,
           0.45
          ],
          "y": [
           0,
           1
          ]
         },
         "link": {
          "color": [
           "rgba(31, 119, 180, 0.8)",
           "rgba(31, 119, 180, 0.8)",
           "rgba(31, 119, 180, 0.8)",
           "rgba(31, 119, 180, 0.8)",
           "rgba(31, 119, 180, 0.8)",
           "rgba(255, 127, 14, 0.8)",
           "rgba(255, 127, 14, 0.8)",
           "rgba(255, 127, 14, 0.8)",
           "rgba(255, 127, 14, 0.8)",
           "rgba(255, 127, 14, 0.8)",
           "rgba(44, 162, 44, 0.8)",
           "rgba(44, 162, 44, 0.8)",
           "rgba(44, 162, 44, 0.8)",
           "rgba(44, 162, 44, 0.8)",
           "rgba(44, 162, 44, 0.8)",
           "rgba(140, 86, 75, 0.8)",
           "rgba(140, 86, 75, 0.8)",
           "rgba(140, 86, 75, 0.8)",
           "rgba(140, 86, 75, 0.8)",
           "rgba(140, 86, 75, 0.8)",
           "rgba(227, 119, 194, 0.8)",
           "rgba(227, 119, 194, 0.8)",
           "rgba(227, 119, 194, 0.8)",
           "rgba(227, 119, 194, 0.8)",
           "rgba(227, 119, 194, 0.8)",
           "rgba(23, 190, 239, 0.8)",
           "rgba(23, 190, 239, 0.8)",
           "rgba(23, 190, 239, 0.8)",
           "rgba(23, 190, 239, 0.8)",
           "rgba(23, 190, 239, 0.8)",
           "rgba(31, 119, 180, 0.8)",
           "rgba(31, 119, 180, 0.8)",
           "rgba(31, 119, 180, 0.8)",
           "rgba(31, 119, 180, 0.8)",
           "rgba(31, 119, 180, 0.8)",
           "rgba(255, 127, 14, 0.8)",
           "rgba(255, 127, 14, 0.8)",
           "rgba(255, 127, 14, 0.8)",
           "rgba(255, 127, 14, 0.8)",
           "rgba(255, 127, 14, 0.8)",
           "rgba(44, 162, 44, 0.8)",
           "rgba(44, 162, 44, 0.8)",
           "rgba(44, 162, 44, 0.8)",
           "rgba(44, 162, 44, 0.8)",
           "rgba(44, 162, 44, 0.8)",
           "rgba(140, 86, 75, 0.8)",
           "rgba(140, 86, 75, 0.8)",
           "rgba(140, 86, 75, 0.8)",
           "rgba(140, 86, 75, 0.8)",
           "rgba(140, 86, 75, 0.8)",
           "rgba(227, 119, 194, 0.8)",
           "rgba(227, 119, 194, 0.8)",
           "rgba(227, 119, 194, 0.8)",
           "rgba(227, 119, 194, 0.8)",
           "rgba(227, 119, 194, 0.8)",
           "rgba(23, 190, 239, 0.8)",
           "rgba(23, 190, 239, 0.8)",
           "rgba(23, 190, 239, 0.8)",
           "rgba(23, 190, 239, 0.8)",
           "rgba(23, 190, 239, 0.8)"
          ],
          "label": [
           "Armenia Out → Russia In: 2720.0",
           "Armenia Out → France In: 1070.0",
           "Armenia Out → Germany In: 615.0",
           "Armenia Out → USA In: 262.0",
           "Armenia Out → United Kingdom In: 120.0",
           "Azerbaijan Out → Turkey In: 14878.0",
           "Azerbaijan Out → Russia In: 11269.0",
           "Azerbaijan Out → Georgia In: 2650.0",
           "Azerbaijan Out → Germany In: 712.0",
           "Azerbaijan Out → United Kingdom In: 633.0",
           "Belarus Out → Russia In: 11600.0",
           "Belarus Out → Poland In: 5002.0",
           "Belarus Out → Lithuania In: 1152.0",
           "Belarus Out → Germany In: 1115.0",
           "Belarus Out → Czechia In: 751.0",
           "Moldova Out → Romania In: 8301.0",
           "Moldova Out → Russia In: 3402.0",
           "Moldova Out → Italy In: 2575.0",
           "Moldova Out → Germany In: 708.0",
           "Moldova Out → France In: 626.0",
           "Russia Out → Germany In: 9620.0",
           "Russia Out → Czechia In: 5979.0",
           "Russia Out → USA In: 5081.0",
           "Russia Out → United Kingdom In: 3920.0",
           "Russia Out → France In: 3691.0",
           "Ukraine Out → Poland In: 34692.0",
           "Ukraine Out → Russia In: 15263.0",
           "Ukraine Out → Germany In: 6148.0",
           "Ukraine Out → Czechia In: 3015.0",
           "Ukraine Out → Italy In: 2775.0",
           "Armenia Out → Russia In: nan",
           "Armenia Out → Germany In: nan",
           "Armenia Out → USA In: nan",
           "Armenia Out → France In: nan",
           "Armenia Out → United Kingdom In: nan",
           "Azerbaijan Out → Turkey In: nan",
           "Azerbaijan Out → Russia In: nan",
           "Azerbaijan Out → Germany In: nan",
           "Azerbaijan Out → Poland In: nan",
           "Azerbaijan Out → Georgia In: nan",
           "Belarus Out → Poland In: nan",
           "Belarus Out → Russia In: nan",
           "Belarus Out → Germany In: nan",
           "Belarus Out → Lithuania In: nan",
           "Belarus Out → Czechia In: nan",
           "Moldova Out → Romania In: nan",
           "Moldova Out → Russia In: nan",
           "Moldova Out → Germany In: nan",
           "Moldova Out → Italy In: nan",
           "Moldova Out → Bulgaria In: nan",
           "Russia Out → Germany In: nan",
           "Russia Out → Czechia In: nan",
           "Russia Out → USA In: nan",
           "Russia Out → United Kingdom In: nan",
           "Russia Out → France In: nan",
           "Ukraine Out → Poland In: nan",
           "Ukraine Out → Russia In: nan",
           "Ukraine Out → Germany In: nan",
           "Ukraine Out → Slovakia In: nan",
           "Ukraine Out → Czechia In: nan"
          ],
          "source": [
           7,
           7,
           7,
           7,
           7,
           8,
           8,
           8,
           8,
           8,
           16,
           16,
           16,
           16,
           16,
           4,
           4,
           4,
           4,
           4,
           13,
           13,
           13,
           13,
           13,
           1,
           1,
           1,
           1,
           1,
           7,
           7,
           7,
           7,
           7,
           8,
           8,
           8,
           8,
           8,
           16,
           16,
           16,
           16,
           16,
           4,
           4,
           4,
           4,
           4,
           13,
           13,
           13,
           13,
           13,
           1,
           1,
           1,
           1,
           1
          ],
          "target": [
           0,
           2,
           3,
           18,
           6,
           15,
           0,
           19,
           3,
           6,
           0,
           9,
           11,
           3,
           10,
           5,
           0,
           17,
           3,
           2,
           3,
           10,
           18,
           6,
           2,
           9,
           0,
           3,
           10,
           17,
           0,
           3,
           18,
           2,
           6,
           15,
           0,
           3,
           9,
           19,
           9,
           0,
           3,
           11,
           10,
           5,
           0,
           3,
           17,
           12,
           3,
           10,
           18,
           6,
           2,
           9,
           0,
           3,
           14,
           10
          ],
          "value": [
           2720,
           1070,
           615,
           262,
           120,
           14878,
           11269,
           2650,
           712,
           633,
           11600,
           5002,
           1152,
           1115,
           751,
           8301,
           3402,
           2575,
           708,
           626,
           9620,
           5979,
           5081,
           3920,
           3691,
           34692,
           15263,
           6148,
           3015,
           2775,
           null,
           null,
           null,
           null,
           null,
           null,
           null,
           null,
           null,
           null,
           null,
           null,
           null,
           null,
           null,
           null,
           null,
           null,
           null,
           null,
           null,
           null,
           null,
           null,
           null,
           null,
           null,
           null,
           null,
           null
          ]
         },
         "node": {
          "color": [
           "rgba(227, 119, 194, 0.8)",
           "rgba(23, 190, 239, 0.8)",
           "rgba(189, 195, 199, 0.8)",
           "rgba(189, 195, 199, 0.8)",
           "rgba(140, 86, 75, 0.8)",
           "rgba(189, 195, 199, 0.8)",
           "rgba(189, 195, 199, 0.8)",
           "rgba(31, 119, 180, 0.8)",
           "rgba(255, 127, 14, 0.8)",
           "rgba(189, 195, 199, 0.8)",
           "rgba(189, 195, 199, 0.8)",
           "rgba(189, 195, 199, 0.8)",
           "rgba(189, 195, 199, 0.8)",
           "rgba(227, 119, 194, 0.8)",
           "rgba(189, 195, 199, 0.8)",
           "rgba(189, 195, 199, 0.8)",
           "rgba(44, 162, 44, 0.8)",
           "rgba(189, 195, 199, 0.8)",
           "rgba(189, 195, 199, 0.8)",
           "rgba(189, 195, 199, 0.8)"
          ],
          "label": [
           "Russia In (44254)",
           "Ukraine Out (61893)",
           "France In (5387)",
           "Germany In (18918)",
           "Moldova Out (15612)",
           "Romania In (8301)",
           "United Kingdom In (4673)",
           "Armenia Out (4787)",
           "Azerbaijan Out (30142)",
           "Poland In (39694)",
           "Czechia In (9745)",
           "Lithuania In (1152)",
           "Bulgaria In (0)",
           "Russia Out (28291)",
           "Slovakia In (0)",
           "Turkey In (14878)",
           "Belarus Out (19620)",
           "Italy In (5350)",
           "USA In (5343)",
           "Georgia In (2650)"
          ],
          "line": {
           "color": "black",
           "width": 0.5
          },
          "pad": 48,
          "thickness": 50
         },
         "type": "sankey"
        },
        {
         "domain": {
          "x": [
           0.55,
           1
          ],
          "y": [
           0,
           1
          ]
         },
         "link": {
          "color": [
           "rgba(31, 119, 180, 0.8)",
           "rgba(31, 119, 180, 0.8)",
           "rgba(31, 119, 180, 0.8)",
           "rgba(31, 119, 180, 0.8)",
           "rgba(31, 119, 180, 0.8)",
           "rgba(255, 127, 14, 0.8)",
           "rgba(255, 127, 14, 0.8)",
           "rgba(255, 127, 14, 0.8)",
           "rgba(255, 127, 14, 0.8)",
           "rgba(255, 127, 14, 0.8)",
           "rgba(44, 162, 44, 0.8)",
           "rgba(44, 162, 44, 0.8)",
           "rgba(44, 162, 44, 0.8)",
           "rgba(44, 162, 44, 0.8)",
           "rgba(44, 162, 44, 0.8)",
           "rgba(140, 86, 75, 0.8)",
           "rgba(140, 86, 75, 0.8)",
           "rgba(140, 86, 75, 0.8)",
           "rgba(140, 86, 75, 0.8)",
           "rgba(140, 86, 75, 0.8)",
           "rgba(227, 119, 194, 0.8)",
           "rgba(227, 119, 194, 0.8)",
           "rgba(227, 119, 194, 0.8)",
           "rgba(227, 119, 194, 0.8)",
           "rgba(227, 119, 194, 0.8)",
           "rgba(23, 190, 239, 0.8)",
           "rgba(23, 190, 239, 0.8)",
           "rgba(23, 190, 239, 0.8)",
           "rgba(23, 190, 239, 0.8)",
           "rgba(23, 190, 239, 0.8)",
           "rgba(31, 119, 180, 0.8)",
           "rgba(31, 119, 180, 0.8)",
           "rgba(31, 119, 180, 0.8)",
           "rgba(31, 119, 180, 0.8)",
           "rgba(31, 119, 180, 0.8)",
           "rgba(255, 127, 14, 0.8)",
           "rgba(255, 127, 14, 0.8)",
           "rgba(255, 127, 14, 0.8)",
           "rgba(255, 127, 14, 0.8)",
           "rgba(255, 127, 14, 0.8)",
           "rgba(44, 162, 44, 0.8)",
           "rgba(44, 162, 44, 0.8)",
           "rgba(44, 162, 44, 0.8)",
           "rgba(44, 162, 44, 0.8)",
           "rgba(44, 162, 44, 0.8)",
           "rgba(140, 86, 75, 0.8)",
           "rgba(140, 86, 75, 0.8)",
           "rgba(140, 86, 75, 0.8)",
           "rgba(140, 86, 75, 0.8)",
           "rgba(140, 86, 75, 0.8)",
           "rgba(227, 119, 194, 0.8)",
           "rgba(227, 119, 194, 0.8)",
           "rgba(227, 119, 194, 0.8)",
           "rgba(227, 119, 194, 0.8)",
           "rgba(227, 119, 194, 0.8)",
           "rgba(23, 190, 239, 0.8)",
           "rgba(23, 190, 239, 0.8)",
           "rgba(23, 190, 239, 0.8)",
           "rgba(23, 190, 239, 0.8)",
           "rgba(23, 190, 239, 0.8)"
          ],
          "label": [
           "Armenia Out → Russia In: nan",
           "Armenia Out → France In: nan",
           "Armenia Out → Germany In: nan",
           "Armenia Out → USA In: nan",
           "Armenia Out → United Kingdom In: nan",
           "Azerbaijan Out → Turkey In: nan",
           "Azerbaijan Out → Russia In: nan",
           "Azerbaijan Out → Georgia In: nan",
           "Azerbaijan Out → Germany In: nan",
           "Azerbaijan Out → United Kingdom In: nan",
           "Belarus Out → Russia In: nan",
           "Belarus Out → Poland In: nan",
           "Belarus Out → Lithuania In: nan",
           "Belarus Out → Germany In: nan",
           "Belarus Out → Czechia In: nan",
           "Moldova Out → Romania In: nan",
           "Moldova Out → Russia In: nan",
           "Moldova Out → Italy In: nan",
           "Moldova Out → Germany In: nan",
           "Moldova Out → France In: nan",
           "Russia Out → Germany In: nan",
           "Russia Out → Czechia In: nan",
           "Russia Out → USA In: nan",
           "Russia Out → United Kingdom In: nan",
           "Russia Out → France In: nan",
           "Ukraine Out → Poland In: nan",
           "Ukraine Out → Russia In: nan",
           "Ukraine Out → Germany In: nan",
           "Ukraine Out → Czechia In: nan",
           "Ukraine Out → Italy In: nan",
           "Armenia Out → Russia In: 2424.0",
           "Armenia Out → Germany In: 796.0",
           "Armenia Out → USA In: 457.0",
           "Armenia Out → France In: 306.0",
           "Armenia Out → United Kingdom In: 124.0",
           "Azerbaijan Out → Turkey In: 28616.0",
           "Azerbaijan Out → Russia In: 6761.0",
           "Azerbaijan Out → Germany In: 1628.0",
           "Azerbaijan Out → Poland In: 1621.0",
           "Azerbaijan Out → Georgia In: 907.0",
           "Belarus Out → Poland In: 10738.0",
           "Belarus Out → Russia In: 9821.0",
           "Belarus Out → Germany In: 1173.0",
           "Belarus Out → Lithuania In: 1163.0",
           "Belarus Out → Czechia In: 1044.0",
           "Moldova Out → Romania In: 12101.0",
           "Moldova Out → Russia In: 3360.0",
           "Moldova Out → Germany In: 845.0",
           "Moldova Out → Italy In: 533.0",
           "Moldova Out → Bulgaria In: 421.0",
           "Russia Out → Germany In: 11369.0",
           "Russia Out → Czechia In: 8255.0",
           "Russia Out → USA In: 4913.0",
           "Russia Out → United Kingdom In: 3331.0",
           "Russia Out → France In: 2685.0",
           "Ukraine Out → Poland In: 33067.0",
           "Ukraine Out → Russia In: 9446.0",
           "Ukraine Out → Germany In: 6328.0",
           "Ukraine Out → Slovakia In: 5760.0",
           "Ukraine Out → Czechia In: 4622.0"
          ],
          "source": [
           7,
           7,
           7,
           7,
           7,
           8,
           8,
           8,
           8,
           8,
           16,
           16,
           16,
           16,
           16,
           4,
           4,
           4,
           4,
           4,
           13,
           13,
           13,
           13,
           13,
           1,
           1,
           1,
           1,
           1,
           7,
           7,
           7,
           7,
           7,
           8,
           8,
           8,
           8,
           8,
           16,
           16,
           16,
           16,
           16,
           4,
           4,
           4,
           4,
           4,
           13,
           13,
           13,
           13,
           13,
           1,
           1,
           1,
           1,
           1
          ],
          "target": [
           0,
           2,
           3,
           18,
           6,
           15,
           0,
           19,
           3,
           6,
           0,
           9,
           11,
           3,
           10,
           5,
           0,
           17,
           3,
           2,
           3,
           10,
           18,
           6,
           2,
           9,
           0,
           3,
           10,
           17,
           0,
           3,
           18,
           2,
           6,
           15,
           0,
           3,
           9,
           19,
           9,
           0,
           3,
           11,
           10,
           5,
           0,
           3,
           17,
           12,
           3,
           10,
           18,
           6,
           2,
           9,
           0,
           3,
           14,
           10
          ],
          "value": [
           null,
           null,
           null,
           null,
           null,
           null,
           null,
           null,
           null,
           null,
           null,
           null,
           null,
           null,
           null,
           null,
           null,
           null,
           null,
           null,
           null,
           null,
           null,
           null,
           null,
           null,
           null,
           null,
           null,
           null,
           2424,
           796,
           457,
           306,
           124,
           28616,
           6761,
           1628,
           1621,
           907,
           10738,
           9821,
           1173,
           1163,
           1044,
           12101,
           3360,
           845,
           533,
           421,
           11369,
           8255,
           4913,
           3331,
           2685,
           33067,
           9446,
           6328,
           5760,
           4622
          ]
         },
         "node": {
          "color": [
           "rgba(227, 119, 194, 0.8)",
           "rgba(23, 190, 239, 0.8)",
           "rgba(189, 195, 199, 0.8)",
           "rgba(189, 195, 199, 0.8)",
           "rgba(140, 86, 75, 0.8)",
           "rgba(189, 195, 199, 0.8)",
           "rgba(189, 195, 199, 0.8)",
           "rgba(31, 119, 180, 0.8)",
           "rgba(255, 127, 14, 0.8)",
           "rgba(189, 195, 199, 0.8)",
           "rgba(189, 195, 199, 0.8)",
           "rgba(189, 195, 199, 0.8)",
           "rgba(189, 195, 199, 0.8)",
           "rgba(227, 119, 194, 0.8)",
           "rgba(189, 195, 199, 0.8)",
           "rgba(189, 195, 199, 0.8)",
           "rgba(44, 162, 44, 0.8)",
           "rgba(189, 195, 199, 0.8)",
           "rgba(189, 195, 199, 0.8)",
           "rgba(189, 195, 199, 0.8)"
          ],
          "label": [
           "Russia In (31812)",
           "Ukraine Out (59223)",
           "France In (2991)",
           "Germany In (22139)",
           "Moldova Out (17260)",
           "Romania In (12101)",
           "United Kingdom In (3455)",
           "Armenia Out (4107)",
           "Azerbaijan Out (39533)",
           "Poland In (45426)",
           "Czechia In (13921)",
           "Lithuania In (1163)",
           "Bulgaria In (421)",
           "Russia Out (30553)",
           "Slovakia In (5760)",
           "Turkey In (28616)",
           "Belarus Out (23939)",
           "Italy In (533)",
           "USA In (5370)",
           "Georgia In (907)"
          ],
          "line": {
           "color": "black",
           "width": 0.5
          },
          "pad": 18,
          "thickness": 50
         },
         "type": "sankey"
        }
       ],
       "layout": {
        "annotations": [
         {
          "font": {
           "color": "black",
           "size": 16
          },
          "showarrow": false,
          "text": "2017",
          "x": 0.2,
          "y": 1.05
         },
         {
          "font": {
           "color": "black",
           "size": 16
          },
          "showarrow": false,
          "text": "2022",
          "x": 0.78,
          "y": 1.05
         },
         {
          "font": {
           "color": "black",
           "size": 12
          },
          "showarrow": false,
          "text": "@Conspect Labs, Sources: UNESCO, OpenDoorsData, Nuffic, IIE, Statista, MoE of Kazakhstan, Iran, Egypt, Thailand",
          "x": 0.002,
          "y": -0.1
         }
        ],
        "font": {
         "color": "black",
         "family": "Times",
         "size": 12
        },
        "height": 600,
        "plot_bgcolor": "white",
        "template": {
         "data": {
          "bar": [
           {
            "error_x": {
             "color": "#2a3f5f"
            },
            "error_y": {
             "color": "#2a3f5f"
            },
            "marker": {
             "line": {
              "color": "#E5ECF6",
              "width": 0.5
             },
             "pattern": {
              "fillmode": "overlay",
              "size": 10,
              "solidity": 0.2
             }
            },
            "type": "bar"
           }
          ],
          "barpolar": [
           {
            "marker": {
             "line": {
              "color": "#E5ECF6",
              "width": 0.5
             },
             "pattern": {
              "fillmode": "overlay",
              "size": 10,
              "solidity": 0.2
             }
            },
            "type": "barpolar"
           }
          ],
          "carpet": [
           {
            "aaxis": {
             "endlinecolor": "#2a3f5f",
             "gridcolor": "white",
             "linecolor": "white",
             "minorgridcolor": "white",
             "startlinecolor": "#2a3f5f"
            },
            "baxis": {
             "endlinecolor": "#2a3f5f",
             "gridcolor": "white",
             "linecolor": "white",
             "minorgridcolor": "white",
             "startlinecolor": "#2a3f5f"
            },
            "type": "carpet"
           }
          ],
          "choropleth": [
           {
            "colorbar": {
             "outlinewidth": 0,
             "ticks": ""
            },
            "type": "choropleth"
           }
          ],
          "contour": [
           {
            "colorbar": {
             "outlinewidth": 0,
             "ticks": ""
            },
            "colorscale": [
             [
              0,
              "#0d0887"
             ],
             [
              0.1111111111111111,
              "#46039f"
             ],
             [
              0.2222222222222222,
              "#7201a8"
             ],
             [
              0.3333333333333333,
              "#9c179e"
             ],
             [
              0.4444444444444444,
              "#bd3786"
             ],
             [
              0.5555555555555556,
              "#d8576b"
             ],
             [
              0.6666666666666666,
              "#ed7953"
             ],
             [
              0.7777777777777778,
              "#fb9f3a"
             ],
             [
              0.8888888888888888,
              "#fdca26"
             ],
             [
              1,
              "#f0f921"
             ]
            ],
            "type": "contour"
           }
          ],
          "contourcarpet": [
           {
            "colorbar": {
             "outlinewidth": 0,
             "ticks": ""
            },
            "type": "contourcarpet"
           }
          ],
          "heatmap": [
           {
            "colorbar": {
             "outlinewidth": 0,
             "ticks": ""
            },
            "colorscale": [
             [
              0,
              "#0d0887"
             ],
             [
              0.1111111111111111,
              "#46039f"
             ],
             [
              0.2222222222222222,
              "#7201a8"
             ],
             [
              0.3333333333333333,
              "#9c179e"
             ],
             [
              0.4444444444444444,
              "#bd3786"
             ],
             [
              0.5555555555555556,
              "#d8576b"
             ],
             [
              0.6666666666666666,
              "#ed7953"
             ],
             [
              0.7777777777777778,
              "#fb9f3a"
             ],
             [
              0.8888888888888888,
              "#fdca26"
             ],
             [
              1,
              "#f0f921"
             ]
            ],
            "type": "heatmap"
           }
          ],
          "heatmapgl": [
           {
            "colorbar": {
             "outlinewidth": 0,
             "ticks": ""
            },
            "colorscale": [
             [
              0,
              "#0d0887"
             ],
             [
              0.1111111111111111,
              "#46039f"
             ],
             [
              0.2222222222222222,
              "#7201a8"
             ],
             [
              0.3333333333333333,
              "#9c179e"
             ],
             [
              0.4444444444444444,
              "#bd3786"
             ],
             [
              0.5555555555555556,
              "#d8576b"
             ],
             [
              0.6666666666666666,
              "#ed7953"
             ],
             [
              0.7777777777777778,
              "#fb9f3a"
             ],
             [
              0.8888888888888888,
              "#fdca26"
             ],
             [
              1,
              "#f0f921"
             ]
            ],
            "type": "heatmapgl"
           }
          ],
          "histogram": [
           {
            "marker": {
             "pattern": {
              "fillmode": "overlay",
              "size": 10,
              "solidity": 0.2
             }
            },
            "type": "histogram"
           }
          ],
          "histogram2d": [
           {
            "colorbar": {
             "outlinewidth": 0,
             "ticks": ""
            },
            "colorscale": [
             [
              0,
              "#0d0887"
             ],
             [
              0.1111111111111111,
              "#46039f"
             ],
             [
              0.2222222222222222,
              "#7201a8"
             ],
             [
              0.3333333333333333,
              "#9c179e"
             ],
             [
              0.4444444444444444,
              "#bd3786"
             ],
             [
              0.5555555555555556,
              "#d8576b"
             ],
             [
              0.6666666666666666,
              "#ed7953"
             ],
             [
              0.7777777777777778,
              "#fb9f3a"
             ],
             [
              0.8888888888888888,
              "#fdca26"
             ],
             [
              1,
              "#f0f921"
             ]
            ],
            "type": "histogram2d"
           }
          ],
          "histogram2dcontour": [
           {
            "colorbar": {
             "outlinewidth": 0,
             "ticks": ""
            },
            "colorscale": [
             [
              0,
              "#0d0887"
             ],
             [
              0.1111111111111111,
              "#46039f"
             ],
             [
              0.2222222222222222,
              "#7201a8"
             ],
             [
              0.3333333333333333,
              "#9c179e"
             ],
             [
              0.4444444444444444,
              "#bd3786"
             ],
             [
              0.5555555555555556,
              "#d8576b"
             ],
             [
              0.6666666666666666,
              "#ed7953"
             ],
             [
              0.7777777777777778,
              "#fb9f3a"
             ],
             [
              0.8888888888888888,
              "#fdca26"
             ],
             [
              1,
              "#f0f921"
             ]
            ],
            "type": "histogram2dcontour"
           }
          ],
          "mesh3d": [
           {
            "colorbar": {
             "outlinewidth": 0,
             "ticks": ""
            },
            "type": "mesh3d"
           }
          ],
          "parcoords": [
           {
            "line": {
             "colorbar": {
              "outlinewidth": 0,
              "ticks": ""
             }
            },
            "type": "parcoords"
           }
          ],
          "pie": [
           {
            "automargin": true,
            "type": "pie"
           }
          ],
          "scatter": [
           {
            "fillpattern": {
             "fillmode": "overlay",
             "size": 10,
             "solidity": 0.2
            },
            "type": "scatter"
           }
          ],
          "scatter3d": [
           {
            "line": {
             "colorbar": {
              "outlinewidth": 0,
              "ticks": ""
             }
            },
            "marker": {
             "colorbar": {
              "outlinewidth": 0,
              "ticks": ""
             }
            },
            "type": "scatter3d"
           }
          ],
          "scattercarpet": [
           {
            "marker": {
             "colorbar": {
              "outlinewidth": 0,
              "ticks": ""
             }
            },
            "type": "scattercarpet"
           }
          ],
          "scattergeo": [
           {
            "marker": {
             "colorbar": {
              "outlinewidth": 0,
              "ticks": ""
             }
            },
            "type": "scattergeo"
           }
          ],
          "scattergl": [
           {
            "marker": {
             "colorbar": {
              "outlinewidth": 0,
              "ticks": ""
             }
            },
            "type": "scattergl"
           }
          ],
          "scattermapbox": [
           {
            "marker": {
             "colorbar": {
              "outlinewidth": 0,
              "ticks": ""
             }
            },
            "type": "scattermapbox"
           }
          ],
          "scatterpolar": [
           {
            "marker": {
             "colorbar": {
              "outlinewidth": 0,
              "ticks": ""
             }
            },
            "type": "scatterpolar"
           }
          ],
          "scatterpolargl": [
           {
            "marker": {
             "colorbar": {
              "outlinewidth": 0,
              "ticks": ""
             }
            },
            "type": "scatterpolargl"
           }
          ],
          "scatterternary": [
           {
            "marker": {
             "colorbar": {
              "outlinewidth": 0,
              "ticks": ""
             }
            },
            "type": "scatterternary"
           }
          ],
          "surface": [
           {
            "colorbar": {
             "outlinewidth": 0,
             "ticks": ""
            },
            "colorscale": [
             [
              0,
              "#0d0887"
             ],
             [
              0.1111111111111111,
              "#46039f"
             ],
             [
              0.2222222222222222,
              "#7201a8"
             ],
             [
              0.3333333333333333,
              "#9c179e"
             ],
             [
              0.4444444444444444,
              "#bd3786"
             ],
             [
              0.5555555555555556,
              "#d8576b"
             ],
             [
              0.6666666666666666,
              "#ed7953"
             ],
             [
              0.7777777777777778,
              "#fb9f3a"
             ],
             [
              0.8888888888888888,
              "#fdca26"
             ],
             [
              1,
              "#f0f921"
             ]
            ],
            "type": "surface"
           }
          ],
          "table": [
           {
            "cells": {
             "fill": {
              "color": "#EBF0F8"
             },
             "line": {
              "color": "white"
             }
            },
            "header": {
             "fill": {
              "color": "#C8D4E3"
             },
             "line": {
              "color": "white"
             }
            },
            "type": "table"
           }
          ]
         },
         "layout": {
          "annotationdefaults": {
           "arrowcolor": "#2a3f5f",
           "arrowhead": 0,
           "arrowwidth": 1
          },
          "autotypenumbers": "strict",
          "coloraxis": {
           "colorbar": {
            "outlinewidth": 0,
            "ticks": ""
           }
          },
          "colorscale": {
           "diverging": [
            [
             0,
             "#8e0152"
            ],
            [
             0.1,
             "#c51b7d"
            ],
            [
             0.2,
             "#de77ae"
            ],
            [
             0.3,
             "#f1b6da"
            ],
            [
             0.4,
             "#fde0ef"
            ],
            [
             0.5,
             "#f7f7f7"
            ],
            [
             0.6,
             "#e6f5d0"
            ],
            [
             0.7,
             "#b8e186"
            ],
            [
             0.8,
             "#7fbc41"
            ],
            [
             0.9,
             "#4d9221"
            ],
            [
             1,
             "#276419"
            ]
           ],
           "sequential": [
            [
             0,
             "#0d0887"
            ],
            [
             0.1111111111111111,
             "#46039f"
            ],
            [
             0.2222222222222222,
             "#7201a8"
            ],
            [
             0.3333333333333333,
             "#9c179e"
            ],
            [
             0.4444444444444444,
             "#bd3786"
            ],
            [
             0.5555555555555556,
             "#d8576b"
            ],
            [
             0.6666666666666666,
             "#ed7953"
            ],
            [
             0.7777777777777778,
             "#fb9f3a"
            ],
            [
             0.8888888888888888,
             "#fdca26"
            ],
            [
             1,
             "#f0f921"
            ]
           ],
           "sequentialminus": [
            [
             0,
             "#0d0887"
            ],
            [
             0.1111111111111111,
             "#46039f"
            ],
            [
             0.2222222222222222,
             "#7201a8"
            ],
            [
             0.3333333333333333,
             "#9c179e"
            ],
            [
             0.4444444444444444,
             "#bd3786"
            ],
            [
             0.5555555555555556,
             "#d8576b"
            ],
            [
             0.6666666666666666,
             "#ed7953"
            ],
            [
             0.7777777777777778,
             "#fb9f3a"
            ],
            [
             0.8888888888888888,
             "#fdca26"
            ],
            [
             1,
             "#f0f921"
            ]
           ]
          },
          "colorway": [
           "#636efa",
           "#EF553B",
           "#00cc96",
           "#ab63fa",
           "#FFA15A",
           "#19d3f3",
           "#FF6692",
           "#B6E880",
           "#FF97FF",
           "#FECB52"
          ],
          "font": {
           "color": "#2a3f5f"
          },
          "geo": {
           "bgcolor": "white",
           "lakecolor": "white",
           "landcolor": "#E5ECF6",
           "showlakes": true,
           "showland": true,
           "subunitcolor": "white"
          },
          "hoverlabel": {
           "align": "left"
          },
          "hovermode": "closest",
          "mapbox": {
           "style": "light"
          },
          "paper_bgcolor": "white",
          "plot_bgcolor": "#E5ECF6",
          "polar": {
           "angularaxis": {
            "gridcolor": "white",
            "linecolor": "white",
            "ticks": ""
           },
           "bgcolor": "#E5ECF6",
           "radialaxis": {
            "gridcolor": "white",
            "linecolor": "white",
            "ticks": ""
           }
          },
          "scene": {
           "xaxis": {
            "backgroundcolor": "#E5ECF6",
            "gridcolor": "white",
            "gridwidth": 2,
            "linecolor": "white",
            "showbackground": true,
            "ticks": "",
            "zerolinecolor": "white"
           },
           "yaxis": {
            "backgroundcolor": "#E5ECF6",
            "gridcolor": "white",
            "gridwidth": 2,
            "linecolor": "white",
            "showbackground": true,
            "ticks": "",
            "zerolinecolor": "white"
           },
           "zaxis": {
            "backgroundcolor": "#E5ECF6",
            "gridcolor": "white",
            "gridwidth": 2,
            "linecolor": "white",
            "showbackground": true,
            "ticks": "",
            "zerolinecolor": "white"
           }
          },
          "shapedefaults": {
           "line": {
            "color": "#2a3f5f"
           }
          },
          "ternary": {
           "aaxis": {
            "gridcolor": "white",
            "linecolor": "white",
            "ticks": ""
           },
           "baxis": {
            "gridcolor": "white",
            "linecolor": "white",
            "ticks": ""
           },
           "bgcolor": "#E5ECF6",
           "caxis": {
            "gridcolor": "white",
            "linecolor": "white",
            "ticks": ""
           }
          },
          "title": {
           "x": 0.05
          },
          "xaxis": {
           "automargin": true,
           "gridcolor": "white",
           "linecolor": "white",
           "ticks": "",
           "title": {
            "standoff": 15
           },
           "zerolinecolor": "white",
           "zerolinewidth": 2
          },
          "yaxis": {
           "automargin": true,
           "gridcolor": "white",
           "linecolor": "white",
           "ticks": "",
           "title": {
            "standoff": 15
           },
           "zerolinecolor": "white",
           "zerolinewidth": 2
          }
         }
        },
        "title": {
         "text": "Students Flows from Europe & Caucasus CIS Countries, Top 5 destinations for every country"
        },
        "width": 1000
       }
      }
     },
     "metadata": {},
     "output_type": "display_data"
    }
   ],
   "source": [
    "#Draw Sankey for every year\n",
    "c_a = ('Kazakhstan Out','Kyrgyzstan Out','Tajikistan Out','Turkmenistan Out','Uzbekistan Out')\n",
    "e_c = ('Russia Out','Moldova Out','Belarus Out','Ukraine Out','Armenia Out','Azerbaijan Out')\n",
    "regions = {c_a:'Central Asia',\n",
    "           e_c:'Europe & Caucasus'}\n",
    "\n",
    "for key,value in regions.items():\n",
    "    print(value)\n",
    "    df = cis_countries_from_top[cis_countries_from_top['from'].isin(key)]\n",
    "    unique_labels = list(set(df['from'].tolist() + df['to'].tolist()))\n",
    "    other_color = 'rgba(189, 195, 199, 0.8)'\n",
    "    country_colors = {\n",
    "        'Armenia': 'rgba(31, 119, 180, 0.8)',  # Blue\n",
    "        'Azerbaijan': 'rgba(255, 127, 14, 0.8)',  # Orange\n",
    "        'Belarus': 'rgba(44, 162, 44, 0.8)',  # Green\n",
    "        'Kazakhstan': 'rgba(214, 39, 40, 0.8)',  # Red\n",
    "        'Kyrgyzstan': 'rgba(148, 103, 189, 0.8)',  # Purple\n",
    "        'Moldova': 'rgba(140, 86, 75, 0.8)',  # Brown\n",
    "        'Russia': 'rgba(227, 119, 194, 0.8)',  # Pink\n",
    "        'Tajikistan': 'rgba(127, 127, 127, 0.8)',  # Gray\n",
    "        'Turkmenistan': 'rgba(188, 189, 34, 0.8)',  # Yellow-green\n",
    "        'Ukraine': 'rgba(23, 190, 239, 0.8)',  # Cyan\n",
    "        'Uzbekistan': 'rgba(255, 187, 120, 0.8)',   # Light Orange (to make it distinct)\n",
    "        'France':other_color, \n",
    "        'Germany':other_color, \n",
    "        'USA':other_color, \n",
    "        'United Kingdom':other_color, \n",
    "        'Turkey':other_color, \n",
    "        'Georgia':other_color, \n",
    "        'Poland':other_color, \n",
    "        'Lithuania':other_color, \n",
    "        'Romania':other_color, \n",
    "        'Italy':other_color, \n",
    "        'Czechia':other_color, \n",
    "        'Republic of Korea':other_color,\n",
    "        'Saudi Arabia':other_color,\n",
    "        'Latvia':other_color,\n",
    "        'Malaysia':other_color,\n",
    "        'Bulgaria':other_color,\n",
    "        'Slovakia':other_color,\n",
    "    }\n",
    "\n",
    "    # You can use color mapping for countries. Change i and coeffs to get distinct colors.\n",
    "    # country_colors = {country: f'rgba({(i+100) * 20 % 255}, {((i+50) * 200 + 100) % 255}, {((i+200) * 380) % 255}, 1)'\n",
    "    #                   for i, country in enumerate(set([label.split()[0] for label in unique_labels]))}\n",
    "    # Function to get sorted unique labels based on total link values\n",
    "\n",
    "    def get_sorted_labels(df, year):\n",
    "        link_sums = pd.concat([\n",
    "            df.groupby('from')[year].sum(),\n",
    "            df.groupby('to')[year].sum()\n",
    "        ]).groupby(level=0).sum()\n",
    "        return link_sums.sort_values(ascending=False).index.tolist()\n",
    "\n",
    "    # Function to build a Sankey trace for a specific year\n",
    "    def build_sankey_trace(df, year,pad_size):\n",
    "        sorted_labels = get_sorted_labels(df, year)\n",
    "        unique_labels_sorted = [label for label in unique_labels if label in sorted_labels]\n",
    "        \n",
    "        # Map source and target to indices\n",
    "        source_indices = [unique_labels_sorted.index(src) for src in df['from']]\n",
    "        target_indices = [unique_labels_sorted.index(tgt) for tgt in df['to']]\n",
    "        \n",
    "        # Assign link colors based on source country\n",
    "        link_colors = [country_colors[\" \".join(src.split()[:-1])].replace('1)', '0.8)') for src in df['from']]\n",
    "        \n",
    "        return go.Sankey(\n",
    "            node=dict(\n",
    "                pad=pad_size,\n",
    "                thickness=50,\n",
    "                line=dict(color=\"black\", width=0.5),\n",
    "                label=[f\"{label} ({int(df[df['from'] == label][year].sum() + df[df['to'] == label][year].sum())})\"\n",
    "                    for label in unique_labels_sorted],\n",
    "                color=[country_colors[\" \".join(label.split()[:-1])] for label in unique_labels_sorted]\n",
    "            ),\n",
    "            link=dict(\n",
    "                source=source_indices,\n",
    "                target=target_indices,\n",
    "                value=df[year],\n",
    "                color=link_colors,\n",
    "                label=[f\"{df.iloc[i]['from']} → {df.iloc[i]['to']}: {df.iloc[i][year]}\"\n",
    "                    for i in range(len(df))]\n",
    "            )\n",
    "        )\n",
    "\n",
    "    def generate_annotations(df, unique_labels_sorted, year):\n",
    "        annotations = []\n",
    "        df=df[['from','to',year]].dropna()\n",
    "        for i, row in df.iterrows():\n",
    "            source_idx = unique_labels_sorted.index(row['from'])\n",
    "            target_idx = unique_labels_sorted.index(row['to'])\n",
    "            annotations.append(dict(\n",
    "                # x=x_pos, y=y_pos,\n",
    "                text=f\"{int(row[year])}\",  # Display value as an integer\n",
    "                showarrow=False,\n",
    "                font=dict(size=10, color=\"black\"),\n",
    "                align=\"center\"\n",
    "            ))\n",
    "        return annotations\n",
    "\n",
    "    fig = make_subplots(\n",
    "        rows=1, cols=2, \n",
    "        specs=[[{'type': 'domain'}, {'type': 'domain'}]]  # Specify 'domain' for Sankey\n",
    "    )\n",
    "    fig.add_trace(build_sankey_trace(df, \"2017\",48), row=1, col=1)\n",
    "    fig.add_trace(build_sankey_trace(df, \"2022\",18), row=1, col=2)\n",
    "    fig.update_layout(\n",
    "        title_text=f\"Students Flows from {value} CIS Countries, Top 5 destinations for every country\",\n",
    "        font=dict(size=12, color='black', family='Times'),\n",
    "        height=600,\n",
    "        width=1000,\n",
    "        plot_bgcolor='white',\n",
    "        annotations=[\n",
    "            dict(\n",
    "                x=0.2,  # Center of first subplot\n",
    "                y=1.05, \n",
    "                text=\"2017\",\n",
    "                showarrow=False,\n",
    "                font=dict(size=16, color=\"black\")\n",
    "            ),\n",
    "            dict(\n",
    "                x=0.78,  # Center of second subplot\n",
    "                y=1.05, \n",
    "                text=\"2022\",\n",
    "                showarrow=False,\n",
    "                font=dict(size=16, color=\"black\"),\n",
    "            ),\n",
    "            dict(\n",
    "                x=0.002,  # Comments\n",
    "                y=-0.1, \n",
    "                text=\"@Conspect Labs, Sources: UNESCO, OpenDoorsData, Nuffic, IIE, Statista, MoE of Kazakhstan, Iran, Egypt, Thailand\",\n",
    "                showarrow=False,\n",
    "                font=dict(size=12, color=\"black\")\n",
    "            )\n",
    "        ]\n",
    "    )\n",
    "\n",
    "    output_file = f\"top_5_destinations_sankey_diagrams _{value}.png\"  # You can change this to .png, .pdf, or .jpeg\n",
    "    pio.write_image(fig, output_file, format=\"png\", width=1600, height=800)\n",
    "    # Show the figure\n",
    "    fig.show()"
   ]
  },
  {
   "cell_type": "markdown",
   "metadata": {},
   "source": [
    "Top 20 source countries for Russia"
   ]
  },
  {
   "cell_type": "code",
   "execution_count": 353,
   "metadata": {},
   "outputs": [
    {
     "data": {
      "text/html": [
       "<div>\n",
       "<style scoped>\n",
       "    .dataframe tbody tr th:only-of-type {\n",
       "        vertical-align: middle;\n",
       "    }\n",
       "\n",
       "    .dataframe tbody tr th {\n",
       "        vertical-align: top;\n",
       "    }\n",
       "\n",
       "    .dataframe thead th {\n",
       "        text-align: right;\n",
       "    }\n",
       "</style>\n",
       "<table border=\"1\" class=\"dataframe\">\n",
       "  <thead>\n",
       "    <tr style=\"text-align: right;\">\n",
       "      <th>year</th>\n",
       "      <th>from</th>\n",
       "      <th>to</th>\n",
       "      <th>2017</th>\n",
       "      <th>2022</th>\n",
       "    </tr>\n",
       "  </thead>\n",
       "  <tbody>\n",
       "    <tr>\n",
       "      <th>91</th>\n",
       "      <td>Afghanistan Out</td>\n",
       "      <td>Russia In</td>\n",
       "      <td>188.0</td>\n",
       "      <td>1602.0</td>\n",
       "    </tr>\n",
       "    <tr>\n",
       "      <th>210</th>\n",
       "      <td>Albania Out</td>\n",
       "      <td>Russia In</td>\n",
       "      <td>4.0</td>\n",
       "      <td>92.0</td>\n",
       "    </tr>\n",
       "    <tr>\n",
       "      <th>329</th>\n",
       "      <td>Algeria Out</td>\n",
       "      <td>Russia In</td>\n",
       "      <td>246.0</td>\n",
       "      <td>1524.0</td>\n",
       "    </tr>\n",
       "    <tr>\n",
       "      <th>567</th>\n",
       "      <td>Angola Out</td>\n",
       "      <td>Russia In</td>\n",
       "      <td>865.0</td>\n",
       "      <td>805.0</td>\n",
       "    </tr>\n",
       "    <tr>\n",
       "      <th>923</th>\n",
       "      <td>Argentina Out</td>\n",
       "      <td>Russia In</td>\n",
       "      <td>6.0</td>\n",
       "      <td>46.0</td>\n",
       "    </tr>\n",
       "  </tbody>\n",
       "</table>\n",
       "</div>"
      ],
      "text/plain": [
       "year             from         to   2017    2022\n",
       "91    Afghanistan Out  Russia In  188.0  1602.0\n",
       "210       Albania Out  Russia In    4.0    92.0\n",
       "329       Algeria Out  Russia In  246.0  1524.0\n",
       "567        Angola Out  Russia In  865.0   805.0\n",
       "923     Argentina Out  Russia In    6.0    46.0"
      ]
     },
     "execution_count": 353,
     "metadata": {},
     "output_type": "execute_result"
    }
   ],
   "source": [
    "#Extract all source countries for Russia\n",
    "inbound_country='Russia In'\n",
    "inbound_to_country = countries2[countries2['to']==inbound_country]\n",
    "inbound_to_country.head()"
   ]
  },
  {
   "cell_type": "code",
   "execution_count": 372,
   "metadata": {},
   "outputs": [
    {
     "data": {
      "text/html": [
       "<div>\n",
       "<style scoped>\n",
       "    .dataframe tbody tr th:only-of-type {\n",
       "        vertical-align: middle;\n",
       "    }\n",
       "\n",
       "    .dataframe tbody tr th {\n",
       "        vertical-align: top;\n",
       "    }\n",
       "\n",
       "    .dataframe thead th {\n",
       "        text-align: right;\n",
       "    }\n",
       "</style>\n",
       "<table border=\"1\" class=\"dataframe\">\n",
       "  <thead>\n",
       "    <tr style=\"text-align: right;\">\n",
       "      <th>year</th>\n",
       "      <th>from</th>\n",
       "      <th>to</th>\n",
       "      <th>2017</th>\n",
       "    </tr>\n",
       "  </thead>\n",
       "  <tbody>\n",
       "    <tr>\n",
       "      <th>11602</th>\n",
       "      <td>Kazakhstan Out</td>\n",
       "      <td>Russia In</td>\n",
       "      <td>65237.0</td>\n",
       "    </tr>\n",
       "    <tr>\n",
       "      <th>23822</th>\n",
       "      <td>Uzbekistan Out</td>\n",
       "      <td>Russia In</td>\n",
       "      <td>20862.0</td>\n",
       "    </tr>\n",
       "    <tr>\n",
       "      <th>22631</th>\n",
       "      <td>Turkmenistan Out</td>\n",
       "      <td>Russia In</td>\n",
       "      <td>17457.0</td>\n",
       "    </tr>\n",
       "    <tr>\n",
       "      <th>23106</th>\n",
       "      <td>Ukraine Out</td>\n",
       "      <td>Russia In</td>\n",
       "      <td>15263.0</td>\n",
       "    </tr>\n",
       "    <tr>\n",
       "      <th>21563</th>\n",
       "      <td>Tajikistan Out</td>\n",
       "      <td>Russia In</td>\n",
       "      <td>14204.0</td>\n",
       "    </tr>\n",
       "    <tr>\n",
       "      <th>4836</th>\n",
       "      <td>China Out</td>\n",
       "      <td>Russia In</td>\n",
       "      <td>11950.0</td>\n",
       "    </tr>\n",
       "    <tr>\n",
       "      <th>2107</th>\n",
       "      <td>Belarus Out</td>\n",
       "      <td>Russia In</td>\n",
       "      <td>11600.0</td>\n",
       "    </tr>\n",
       "    <tr>\n",
       "      <th>1514</th>\n",
       "      <td>Azerbaijan Out</td>\n",
       "      <td>Russia In</td>\n",
       "      <td>11269.0</td>\n",
       "    </tr>\n",
       "    <tr>\n",
       "      <th>10417</th>\n",
       "      <td>India Out</td>\n",
       "      <td>Russia In</td>\n",
       "      <td>6544.0</td>\n",
       "    </tr>\n",
       "    <tr>\n",
       "      <th>12076</th>\n",
       "      <td>Kyrgyzstan Out</td>\n",
       "      <td>Russia In</td>\n",
       "      <td>5523.0</td>\n",
       "    </tr>\n",
       "  </tbody>\n",
       "</table>\n",
       "</div>"
      ],
      "text/plain": [
       "year               from         to     2017\n",
       "11602    Kazakhstan Out  Russia In  65237.0\n",
       "23822    Uzbekistan Out  Russia In  20862.0\n",
       "22631  Turkmenistan Out  Russia In  17457.0\n",
       "23106       Ukraine Out  Russia In  15263.0\n",
       "21563    Tajikistan Out  Russia In  14204.0\n",
       "4836          China Out  Russia In  11950.0\n",
       "2107        Belarus Out  Russia In  11600.0\n",
       "1514     Azerbaijan Out  Russia In  11269.0\n",
       "10417         India Out  Russia In   6544.0\n",
       "12076    Kyrgyzstan Out  Russia In   5523.0"
      ]
     },
     "execution_count": 372,
     "metadata": {},
     "output_type": "execute_result"
    }
   ],
   "source": [
    "#Extract top 20 source countries for Russia in 2017 and 2022 \n",
    "inbound_to_country_from_2017_top20 = inbound_to_country.sort_values(by='2017', ascending=False).head(10)\n",
    "inbound_to_country_from_2017_top20 = inbound_to_country_from_2017_top20[['from','to','2017']]\n",
    "inbound_to_country_from_2017_top20\n"
   ]
  },
  {
   "cell_type": "code",
   "execution_count": 373,
   "metadata": {},
   "outputs": [
    {
     "data": {
      "text/html": [
       "<div>\n",
       "<style scoped>\n",
       "    .dataframe tbody tr th:only-of-type {\n",
       "        vertical-align: middle;\n",
       "    }\n",
       "\n",
       "    .dataframe tbody tr th {\n",
       "        vertical-align: top;\n",
       "    }\n",
       "\n",
       "    .dataframe thead th {\n",
       "        text-align: right;\n",
       "    }\n",
       "</style>\n",
       "<table border=\"1\" class=\"dataframe\">\n",
       "  <thead>\n",
       "    <tr style=\"text-align: right;\">\n",
       "      <th>year</th>\n",
       "      <th>from</th>\n",
       "      <th>to</th>\n",
       "      <th>2022</th>\n",
       "    </tr>\n",
       "  </thead>\n",
       "  <tbody>\n",
       "    <tr>\n",
       "      <th>11602</th>\n",
       "      <td>Kazakhstan Out</td>\n",
       "      <td>Russia In</td>\n",
       "      <td>53935.0</td>\n",
       "    </tr>\n",
       "    <tr>\n",
       "      <th>23822</th>\n",
       "      <td>Uzbekistan Out</td>\n",
       "      <td>Russia In</td>\n",
       "      <td>48430.0</td>\n",
       "    </tr>\n",
       "    <tr>\n",
       "      <th>4836</th>\n",
       "      <td>China Out</td>\n",
       "      <td>Russia In</td>\n",
       "      <td>40797.0</td>\n",
       "    </tr>\n",
       "    <tr>\n",
       "      <th>22631</th>\n",
       "      <td>Turkmenistan Out</td>\n",
       "      <td>Russia In</td>\n",
       "      <td>27095.0</td>\n",
       "    </tr>\n",
       "    <tr>\n",
       "      <th>21563</th>\n",
       "      <td>Tajikistan Out</td>\n",
       "      <td>Russia In</td>\n",
       "      <td>27086.0</td>\n",
       "    </tr>\n",
       "    <tr>\n",
       "      <th>10417</th>\n",
       "      <td>India Out</td>\n",
       "      <td>Russia In</td>\n",
       "      <td>19734.0</td>\n",
       "    </tr>\n",
       "    <tr>\n",
       "      <th>6973</th>\n",
       "      <td>Egypt Out</td>\n",
       "      <td>Russia In</td>\n",
       "      <td>15616.0</td>\n",
       "    </tr>\n",
       "    <tr>\n",
       "      <th>2107</th>\n",
       "      <td>Belarus Out</td>\n",
       "      <td>Russia In</td>\n",
       "      <td>9821.0</td>\n",
       "    </tr>\n",
       "    <tr>\n",
       "      <th>23106</th>\n",
       "      <td>Ukraine Out</td>\n",
       "      <td>Russia In</td>\n",
       "      <td>9446.0</td>\n",
       "    </tr>\n",
       "    <tr>\n",
       "      <th>12076</th>\n",
       "      <td>Kyrgyzstan Out</td>\n",
       "      <td>Russia In</td>\n",
       "      <td>9345.0</td>\n",
       "    </tr>\n",
       "  </tbody>\n",
       "</table>\n",
       "</div>"
      ],
      "text/plain": [
       "year               from         to     2022\n",
       "11602    Kazakhstan Out  Russia In  53935.0\n",
       "23822    Uzbekistan Out  Russia In  48430.0\n",
       "4836          China Out  Russia In  40797.0\n",
       "22631  Turkmenistan Out  Russia In  27095.0\n",
       "21563    Tajikistan Out  Russia In  27086.0\n",
       "10417         India Out  Russia In  19734.0\n",
       "6973          Egypt Out  Russia In  15616.0\n",
       "2107        Belarus Out  Russia In   9821.0\n",
       "23106       Ukraine Out  Russia In   9446.0\n",
       "12076    Kyrgyzstan Out  Russia In   9345.0"
      ]
     },
     "execution_count": 373,
     "metadata": {},
     "output_type": "execute_result"
    }
   ],
   "source": [
    "inbound_to_country_from_2022_top20 = inbound_to_country.sort_values(by='2022', ascending=False).head(10)\n",
    "inbound_to_country_from_2022_top20 = inbound_to_country_from_2022_top20[['from','to','2022']]\n",
    "inbound_to_country_from_2022_top20"
   ]
  },
  {
   "cell_type": "code",
   "execution_count": null,
   "metadata": {},
   "outputs": [],
   "source": []
  },
  {
   "cell_type": "markdown",
   "metadata": {},
   "source": [
    "Российские вузы зависят в основном от стран Центральной Азии и Китая - 60% студентов приезжают из Казахстана, Узбекистана, Туркменистана, Таджикистана и Китая. Диверсификация рынка происходит, но не быстро: в 2017 году топ-10 стран-доноров России составляли 85% въезда студентов, в 2022-м - 78%. "
   ]
  },
  {
   "cell_type": "code",
   "execution_count": 364,
   "metadata": {},
   "outputs": [
    {
     "data": {
      "text/plain": [
       "np.float64(0.5901387854701391)"
      ]
     },
     "execution_count": 364,
     "metadata": {},
     "output_type": "execute_result"
    }
   ],
   "source": [
    "inbound_to_country.sort_values(by='2022', ascending=False).head(5)['2022'].sum()/inbound_to_country['2022'].sum()"
   ]
  },
  {
   "cell_type": "code",
   "execution_count": 363,
   "metadata": {},
   "outputs": [
    {
     "data": {
      "text/plain": [
       "np.float64(0.7814121369254279)"
      ]
     },
     "execution_count": 363,
     "metadata": {},
     "output_type": "execute_result"
    }
   ],
   "source": [
    "inbound_to_country.sort_values(by='2022', ascending=False).head(10)['2022'].sum()/inbound_to_country['2022'].sum()"
   ]
  },
  {
   "cell_type": "code",
   "execution_count": 365,
   "metadata": {},
   "outputs": [
    {
     "data": {
      "text/plain": [
       "np.float64(0.6303152926905545)"
      ]
     },
     "execution_count": 365,
     "metadata": {},
     "output_type": "execute_result"
    }
   ],
   "source": [
    "inbound_to_country.sort_values(by='2017', ascending=False).head(5)['2017'].sum()/inbound_to_country['2017'].sum()"
   ]
  },
  {
   "cell_type": "code",
   "execution_count": 366,
   "metadata": {},
   "outputs": [
    {
     "data": {
      "text/plain": [
       "np.float64(0.8524796012168194)"
      ]
     },
     "execution_count": 366,
     "metadata": {},
     "output_type": "execute_result"
    }
   ],
   "source": [
    "inbound_to_country.sort_values(by='2017', ascending=False).head(10)['2017'].sum()/inbound_to_country['2017'].sum()"
   ]
  },
  {
   "cell_type": "markdown",
   "metadata": {},
   "source": [
    "Наибольший вклад в прирост въезда за 2017-2022 годы внесли Китай, Египет, Индия, "
   ]
  }
 ],
 "metadata": {
  "kernelspec": {
   "display_name": "Python 3",
   "language": "python",
   "name": "python3"
  },
  "language_info": {
   "codemirror_mode": {
    "name": "ipython",
    "version": 3
   },
   "file_extension": ".py",
   "mimetype": "text/x-python",
   "name": "python",
   "nbconvert_exporter": "python",
   "pygments_lexer": "ipython3",
   "version": "3.11.9"
  }
 },
 "nbformat": 4,
 "nbformat_minor": 2
}
