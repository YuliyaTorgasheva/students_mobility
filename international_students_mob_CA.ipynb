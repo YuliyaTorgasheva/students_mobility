{
 "cells": [
  {
   "cell_type": "code",
   "execution_count": 3,
   "metadata": {},
   "outputs": [],
   "source": [
    "import pandas as pd\n",
    "import matplotlib.pyplot as plt\n",
    "import numpy as np\n",
    "from matplotlib.ticker import ScalarFormatter\n",
    "import plotly.graph_objects as go\n",
    "from plotly.subplots import make_subplots\n",
    "import plotly.io as pio\n",
    "import plotly.express as px"
   ]
  },
  {
   "cell_type": "markdown",
   "metadata": {},
   "source": [
    "<h4>Данные</h4>"
   ]
  },
  {
   "cell_type": "markdown",
   "metadata": {},
   "source": [
    "<p>UNESCO Bulk Data Download Service can be accessed here: <a href>https://uis.unesco.org/bdds</a> \n",
    "<br> Labels list is analyzed and students inbound indicators are extracted into distinct csv file named <i>OPRI_student_labels.csv</i>\n",
    "<br>UNESCO Data Service is also availabla at https://data.uis.unesco.org/#\n",
    "<p>UNESCO UIS DataSet for 2017 and 2022 lacks data from USA, Mexico, Netherlands, Iran, Kazakhstan and some other countries. They are taken from the following sources:\n",
    "<br> USA, 2022 - <a href>https://opendoorsdata.org</a> (by source countries)\n",
    "<br>China, 2022 - http://www.moe.gov.cn/jyb_xwfb/gzdt_gzdt/s5987/201904/t20190412_377692.html taken pre-pandemic for distinct countries, total from http://en.moe.gov.cn/documents/statistics/2022/national/202401/t20240110_1099530.html for 2022\n",
    "<br>China, 2017 - are from 2018 https://docs.aiddata.org/reports/corridors-of-power.html#figure4\n",
    "<br>Philippines\n",
    "<br>Israel\n",
    "<br> Netherlands, 2022 - https://www.nuffic.nl/sites/default/files/2023-06/incoming-degree-mobility-in-dutch-higher-education-2022-2023.pdf (total and by source countries where provided)\n",
    "<br> Mexico, 2022 - https://www.iie.org/research-initiatives/project-atlas/explore-data/mexico-2/ (total inbound students)\n",
    "<br> Iran, 2022 - https://tehrantimes.com/news/483478/Students-from-91-countries-studying-in-Iranian-universities (total inbound students)\n",
    "<br> Kazakhstan, 2022 - https://enic-kazakhstan.edu.kz/uploads/additional_files_items/193/file/tadzhikistan.pdf?cache=1691397957, https://enic-kazakhstan.edu.kz/uploads/additional_files_items/156/file/mezhdunarodnoe-sotrudnichestvo-sng.pdf?cache=1677496628, https://enic-kazakhstan.edu.kz/uploads/additional_files_items/138/file/3-1-monitoring-akademicheskoy-mobilnosti-2022-rus.pdf?cache=1672983807 (total and by source countries where provided)\n",
    "<br> Egypt, 2017 - https://enterprise.press/stories/2019/12/16/how-egypt-is-positioning-itself-as-an-educational-hub-for-international-students-8512/ (total inbound students)\n",
    "<br> Thailand, 2017 - https://apheit.bu.ac.th/jounal/Inter-vol8-1/นานาชาติ_บทความวิจัย_2.pdf (total inbound students)\n"
   ]
  },
  {
   "cell_type": "code",
   "execution_count": 4,
   "metadata": {},
   "outputs": [
    {
     "name": "stdout",
     "output_type": "stream",
     "text": [
      "Index(['COUNTRY_ID', 'COUNTRY_NAME_EN'], dtype='object')\n"
     ]
    },
    {
     "data": {
      "text/html": [
       "<div>\n",
       "<style scoped>\n",
       "    .dataframe tbody tr th:only-of-type {\n",
       "        vertical-align: middle;\n",
       "    }\n",
       "\n",
       "    .dataframe tbody tr th {\n",
       "        vertical-align: top;\n",
       "    }\n",
       "\n",
       "    .dataframe thead th {\n",
       "        text-align: right;\n",
       "    }\n",
       "</style>\n",
       "<table border=\"1\" class=\"dataframe\">\n",
       "  <thead>\n",
       "    <tr style=\"text-align: right;\">\n",
       "      <th></th>\n",
       "      <th>COUNTRY_ID</th>\n",
       "      <th>COUNTRY_NAME_EN</th>\n",
       "    </tr>\n",
       "  </thead>\n",
       "  <tbody>\n",
       "    <tr>\n",
       "      <th>0</th>\n",
       "      <td>AFG</td>\n",
       "      <td>Afghanistan</td>\n",
       "    </tr>\n",
       "    <tr>\n",
       "      <th>1</th>\n",
       "      <td>ALB</td>\n",
       "      <td>Albania</td>\n",
       "    </tr>\n",
       "  </tbody>\n",
       "</table>\n",
       "</div>"
      ],
      "text/plain": [
       "  COUNTRY_ID COUNTRY_NAME_EN\n",
       "0        AFG     Afghanistan\n",
       "1        ALB         Albania"
      ]
     },
     "execution_count": 4,
     "metadata": {},
     "output_type": "execute_result"
    }
   ],
   "source": [
    "country_names = pd.read_csv(r\"C:\\Users\\yuliy\\Documents\\UNESCO Education\\OPRI_COUNTRY.csv\")\n",
    "print(country_names.columns)\n",
    "country_names.head(2)"
   ]
  },
  {
   "cell_type": "code",
   "execution_count": 5,
   "metadata": {},
   "outputs": [
    {
     "name": "stdout",
     "output_type": "stream",
     "text": [
      "Index(['INDICATOR_ID', 'INDICATOR_LABEL_EN'], dtype='object')\n"
     ]
    },
    {
     "data": {
      "text/html": [
       "<div>\n",
       "<style scoped>\n",
       "    .dataframe tbody tr th:only-of-type {\n",
       "        vertical-align: middle;\n",
       "    }\n",
       "\n",
       "    .dataframe tbody tr th {\n",
       "        vertical-align: top;\n",
       "    }\n",
       "\n",
       "    .dataframe thead th {\n",
       "        text-align: right;\n",
       "    }\n",
       "</style>\n",
       "<table border=\"1\" class=\"dataframe\">\n",
       "  <thead>\n",
       "    <tr style=\"text-align: right;\">\n",
       "      <th></th>\n",
       "      <th>INDICATOR_ID</th>\n",
       "      <th>INDICATOR_LABEL_EN</th>\n",
       "    </tr>\n",
       "  </thead>\n",
       "  <tbody>\n",
       "    <tr>\n",
       "      <th>0</th>\n",
       "      <td>26421</td>\n",
       "      <td>Africa: Students from Algeria, both sexes (num...</td>\n",
       "    </tr>\n",
       "    <tr>\n",
       "      <th>1</th>\n",
       "      <td>26422</td>\n",
       "      <td>Africa: Students from Angola, both sexes (number)</td>\n",
       "    </tr>\n",
       "  </tbody>\n",
       "</table>\n",
       "</div>"
      ],
      "text/plain": [
       "   INDICATOR_ID                                 INDICATOR_LABEL_EN\n",
       "0         26421  Africa: Students from Algeria, both sexes (num...\n",
       "1         26422  Africa: Students from Angola, both sexes (number)"
      ]
     },
     "execution_count": 5,
     "metadata": {},
     "output_type": "execute_result"
    }
   ],
   "source": [
    "labels = pd.read_csv(r\"C:\\Users\\yuliy\\Documents\\UNESCO Education\\OPRI_students_label.csv\")\n",
    "print(labels.columns)\n",
    "labels.head(2)"
   ]
  },
  {
   "cell_type": "code",
   "execution_count": 6,
   "metadata": {},
   "outputs": [
    {
     "name": "stderr",
     "output_type": "stream",
     "text": [
      "C:\\Users\\yuliy\\AppData\\Local\\Temp\\ipykernel_20200\\3015259283.py:1: DtypeWarning: Columns (0,4) have mixed types. Specify dtype option on import or set low_memory=False.\n",
      "  national = pd.read_csv(r\"C:\\Users\\yuliy\\Documents\\UNESCO Education\\OPRI_DATA_NATIONAL.csv\")\n"
     ]
    },
    {
     "name": "stdout",
     "output_type": "stream",
     "text": [
      "Index(['indicator_id', 'country_id', 'year', 'value', 'magnitude',\n",
      "       'qualifier'],\n",
      "      dtype='object')\n"
     ]
    },
    {
     "data": {
      "text/html": [
       "<div>\n",
       "<style scoped>\n",
       "    .dataframe tbody tr th:only-of-type {\n",
       "        vertical-align: middle;\n",
       "    }\n",
       "\n",
       "    .dataframe tbody tr th {\n",
       "        vertical-align: top;\n",
       "    }\n",
       "\n",
       "    .dataframe thead th {\n",
       "        text-align: right;\n",
       "    }\n",
       "</style>\n",
       "<table border=\"1\" class=\"dataframe\">\n",
       "  <thead>\n",
       "    <tr style=\"text-align: right;\">\n",
       "      <th></th>\n",
       "      <th>indicator_id</th>\n",
       "      <th>country_id</th>\n",
       "      <th>year</th>\n",
       "      <th>value</th>\n",
       "      <th>magnitude</th>\n",
       "      <th>qualifier</th>\n",
       "    </tr>\n",
       "  </thead>\n",
       "  <tbody>\n",
       "    <tr>\n",
       "      <th>0</th>\n",
       "      <td>10</td>\n",
       "      <td>ABW</td>\n",
       "      <td>1998</td>\n",
       "      <td>0.0</td>\n",
       "      <td>NaN</td>\n",
       "      <td>NaN</td>\n",
       "    </tr>\n",
       "    <tr>\n",
       "      <th>1</th>\n",
       "      <td>10</td>\n",
       "      <td>ABW</td>\n",
       "      <td>1999</td>\n",
       "      <td>0.0</td>\n",
       "      <td>NaN</td>\n",
       "      <td>NaN</td>\n",
       "    </tr>\n",
       "  </tbody>\n",
       "</table>\n",
       "</div>"
      ],
      "text/plain": [
       "  indicator_id country_id  year  value magnitude qualifier\n",
       "0           10        ABW  1998    0.0       NaN       NaN\n",
       "1           10        ABW  1999    0.0       NaN       NaN"
      ]
     },
     "execution_count": 6,
     "metadata": {},
     "output_type": "execute_result"
    }
   ],
   "source": [
    "national = pd.read_csv(r\"C:\\Users\\yuliy\\Documents\\UNESCO Education\\OPRI_DATA_NATIONAL.csv\")\n",
    "print(national.columns)\n",
    "national.head(2)"
   ]
  },
  {
   "cell_type": "code",
   "execution_count": 7,
   "metadata": {},
   "outputs": [
    {
     "name": "stdout",
     "output_type": "stream",
     "text": [
      "1035161\n"
     ]
    },
    {
     "data": {
      "text/html": [
       "<div>\n",
       "<style scoped>\n",
       "    .dataframe tbody tr th:only-of-type {\n",
       "        vertical-align: middle;\n",
       "    }\n",
       "\n",
       "    .dataframe tbody tr th {\n",
       "        vertical-align: top;\n",
       "    }\n",
       "\n",
       "    .dataframe thead th {\n",
       "        text-align: right;\n",
       "    }\n",
       "</style>\n",
       "<table border=\"1\" class=\"dataframe\">\n",
       "  <thead>\n",
       "    <tr style=\"text-align: right;\">\n",
       "      <th></th>\n",
       "      <th>from</th>\n",
       "      <th>to</th>\n",
       "      <th>year</th>\n",
       "      <th>value</th>\n",
       "      <th>country_id</th>\n",
       "    </tr>\n",
       "  </thead>\n",
       "  <tbody>\n",
       "    <tr>\n",
       "      <th>0</th>\n",
       "      <td>Afghanistan</td>\n",
       "      <td>United States of America</td>\n",
       "      <td>2022</td>\n",
       "      <td>682</td>\n",
       "      <td>USA</td>\n",
       "    </tr>\n",
       "    <tr>\n",
       "      <th>1</th>\n",
       "      <td>Albania</td>\n",
       "      <td>United States of America</td>\n",
       "      <td>2022</td>\n",
       "      <td>1087</td>\n",
       "      <td>USA</td>\n",
       "    </tr>\n",
       "  </tbody>\n",
       "</table>\n",
       "</div>"
      ],
      "text/plain": [
       "          from                        to  year  value country_id\n",
       "0  Afghanistan  United States of America  2022    682        USA\n",
       "1      Albania  United States of America  2022   1087        USA"
      ]
     },
     "execution_count": 7,
     "metadata": {},
     "output_type": "execute_result"
    }
   ],
   "source": [
    "#Add USA inbound students\n",
    "usa_add_long = pd.read_csv(\"usa_inbound.csv\")\n",
    "usa_add_long['to'] = 'United States of America'\n",
    "usa_add_long['year'] = '2022'\n",
    "usa_add_long = usa_add_long.rename(columns={'unesco':'from'})\n",
    "usa_add_long = usa_add_long[['from','to','year','2022']] #берем только 2022\n",
    "usa_add_long.columns = ['from','to','year','value']\n",
    "usa_add_long = usa_add_long[usa_add_long['from']!='#Н/Д']\n",
    "usa_add_long['value'] = usa_add_long['value'].fillna(0).astype(int)\n",
    "usa_add_long['country_id'] = 'USA'\n",
    "print(usa_add_long.value.sum())\n",
    "usa_add_long.head(2)"
   ]
  },
  {
   "cell_type": "code",
   "execution_count": 8,
   "metadata": {},
   "outputs": [
    {
     "data": {
      "text/html": [
       "<div>\n",
       "<style scoped>\n",
       "    .dataframe tbody tr th:only-of-type {\n",
       "        vertical-align: middle;\n",
       "    }\n",
       "\n",
       "    .dataframe tbody tr th {\n",
       "        vertical-align: top;\n",
       "    }\n",
       "\n",
       "    .dataframe thead th {\n",
       "        text-align: right;\n",
       "    }\n",
       "</style>\n",
       "<table border=\"1\" class=\"dataframe\">\n",
       "  <thead>\n",
       "    <tr style=\"text-align: right;\">\n",
       "      <th></th>\n",
       "      <th>from</th>\n",
       "      <th>to</th>\n",
       "      <th>year</th>\n",
       "      <th>value</th>\n",
       "      <th>country_id</th>\n",
       "    </tr>\n",
       "  </thead>\n",
       "  <tbody>\n",
       "    <tr>\n",
       "      <th>0</th>\n",
       "      <td>Uzbekistan</td>\n",
       "      <td>Kazakhstan</td>\n",
       "      <td>2022</td>\n",
       "      <td>9571.0</td>\n",
       "      <td>KAZ</td>\n",
       "    </tr>\n",
       "    <tr>\n",
       "      <th>1</th>\n",
       "      <td>Tajikistan</td>\n",
       "      <td>Kazakhstan</td>\n",
       "      <td>2022</td>\n",
       "      <td>361.0</td>\n",
       "      <td>KAZ</td>\n",
       "    </tr>\n",
       "  </tbody>\n",
       "</table>\n",
       "</div>"
      ],
      "text/plain": [
       "         from          to  year   value country_id\n",
       "0  Uzbekistan  Kazakhstan  2022  9571.0        KAZ\n",
       "1  Tajikistan  Kazakhstan  2022   361.0        KAZ"
      ]
     },
     "execution_count": 8,
     "metadata": {},
     "output_type": "execute_result"
    }
   ],
   "source": [
    "#Add Kazakhstan inbound students\n",
    "kaz_add_long = pd.read_csv(\"kazakhstan_inbound.csv\")\n",
    "kaz_add_long['year'] = kaz_add_long['year'].astype(str)\n",
    "kaz_add_long['country_id'] = 'KAZ'\n",
    "kaz_add_long.head(2)"
   ]
  },
  {
   "cell_type": "code",
   "execution_count": 9,
   "metadata": {},
   "outputs": [
    {
     "data": {
      "text/html": [
       "<div>\n",
       "<style scoped>\n",
       "    .dataframe tbody tr th:only-of-type {\n",
       "        vertical-align: middle;\n",
       "    }\n",
       "\n",
       "    .dataframe tbody tr th {\n",
       "        vertical-align: top;\n",
       "    }\n",
       "\n",
       "    .dataframe thead th {\n",
       "        text-align: right;\n",
       "    }\n",
       "</style>\n",
       "<table border=\"1\" class=\"dataframe\">\n",
       "  <thead>\n",
       "    <tr style=\"text-align: right;\">\n",
       "      <th></th>\n",
       "      <th>from</th>\n",
       "      <th>to</th>\n",
       "      <th>year</th>\n",
       "      <th>value</th>\n",
       "      <th>country_id</th>\n",
       "    </tr>\n",
       "  </thead>\n",
       "  <tbody>\n",
       "    <tr>\n",
       "      <th>18</th>\n",
       "      <td>Belgium</td>\n",
       "      <td>Netherlands</td>\n",
       "      <td>2022</td>\n",
       "      <td>4780.0</td>\n",
       "      <td>NLD</td>\n",
       "    </tr>\n",
       "    <tr>\n",
       "      <th>29</th>\n",
       "      <td>Bulgaria</td>\n",
       "      <td>Netherlands</td>\n",
       "      <td>2022</td>\n",
       "      <td>5112.0</td>\n",
       "      <td>NLD</td>\n",
       "    </tr>\n",
       "  </tbody>\n",
       "</table>\n",
       "</div>"
      ],
      "text/plain": [
       "        from           to  year   value country_id\n",
       "18   Belgium  Netherlands  2022  4780.0        NLD\n",
       "29  Bulgaria  Netherlands  2022  5112.0        NLD"
      ]
     },
     "execution_count": 9,
     "metadata": {},
     "output_type": "execute_result"
    }
   ],
   "source": [
    "#Addd Netherlands inbound students\n",
    "nld_add_long = pd.read_csv(\"nld_inbound.csv\")\n",
    "nld_add_long  = nld_add_long.dropna()\n",
    "nld_add_long['year'] = nld_add_long['year'].astype(str)\n",
    "nld_add_long['country_id'] = 'NLD'\n",
    "nld_add_long.head(2)"
   ]
  },
  {
   "cell_type": "code",
   "execution_count": 10,
   "metadata": {},
   "outputs": [
    {
     "data": {
      "text/html": [
       "<div>\n",
       "<style scoped>\n",
       "    .dataframe tbody tr th:only-of-type {\n",
       "        vertical-align: middle;\n",
       "    }\n",
       "\n",
       "    .dataframe tbody tr th {\n",
       "        vertical-align: top;\n",
       "    }\n",
       "\n",
       "    .dataframe thead th {\n",
       "        text-align: right;\n",
       "    }\n",
       "</style>\n",
       "<table border=\"1\" class=\"dataframe\">\n",
       "  <thead>\n",
       "    <tr style=\"text-align: right;\">\n",
       "      <th></th>\n",
       "      <th>from</th>\n",
       "      <th>to</th>\n",
       "      <th>year</th>\n",
       "      <th>value</th>\n",
       "      <th>country_id</th>\n",
       "    </tr>\n",
       "  </thead>\n",
       "  <tbody>\n",
       "    <tr>\n",
       "      <th>0</th>\n",
       "      <td>India</td>\n",
       "      <td>China</td>\n",
       "      <td>2017</td>\n",
       "      <td>23198</td>\n",
       "      <td>CHN</td>\n",
       "    </tr>\n",
       "    <tr>\n",
       "      <th>1</th>\n",
       "      <td>India</td>\n",
       "      <td>China</td>\n",
       "      <td>2022</td>\n",
       "      <td>23198</td>\n",
       "      <td>CHN</td>\n",
       "    </tr>\n",
       "  </tbody>\n",
       "</table>\n",
       "</div>"
      ],
      "text/plain": [
       "    from     to  year  value country_id\n",
       "0  India  China  2017  23198        CHN\n",
       "1  India  China  2022  23198        CHN"
      ]
     },
     "execution_count": 10,
     "metadata": {},
     "output_type": "execute_result"
    }
   ],
   "source": [
    "china_add_long = pd.read_csv(\"china_inbound.csv\")\n",
    "china_add_long  = china_add_long.dropna()\n",
    "china_add_long['year'] = china_add_long['year'].astype(str)\n",
    "china_add_long['country_id'] = 'CHN'\n",
    "china_add_long.head(2)"
   ]
  },
  {
   "cell_type": "markdown",
   "metadata": {},
   "source": [
    "inbound отчеты - обработка и добавление отсутствующих стран"
   ]
  },
  {
   "cell_type": "code",
   "execution_count": 11,
   "metadata": {},
   "outputs": [
    {
     "data": {
      "text/html": [
       "<div>\n",
       "<style scoped>\n",
       "    .dataframe tbody tr th:only-of-type {\n",
       "        vertical-align: middle;\n",
       "    }\n",
       "\n",
       "    .dataframe tbody tr th {\n",
       "        vertical-align: top;\n",
       "    }\n",
       "\n",
       "    .dataframe thead th {\n",
       "        text-align: right;\n",
       "    }\n",
       "</style>\n",
       "<table border=\"1\" class=\"dataframe\">\n",
       "  <thead>\n",
       "    <tr style=\"text-align: right;\">\n",
       "      <th></th>\n",
       "      <th>INDICATOR_ID</th>\n",
       "      <th>INDICATOR_LABEL_EN</th>\n",
       "      <th>from</th>\n",
       "    </tr>\n",
       "  </thead>\n",
       "  <tbody>\n",
       "    <tr>\n",
       "      <th>0</th>\n",
       "      <td>26421</td>\n",
       "      <td>Africa: Students from Algeria, both sexes (num...</td>\n",
       "      <td>Algeria</td>\n",
       "    </tr>\n",
       "    <tr>\n",
       "      <th>1</th>\n",
       "      <td>26422</td>\n",
       "      <td>Africa: Students from Angola, both sexes (number)</td>\n",
       "      <td>Angola</td>\n",
       "    </tr>\n",
       "    <tr>\n",
       "      <th>2</th>\n",
       "      <td>26423</td>\n",
       "      <td>Africa: Students from Benin, both sexes (number)</td>\n",
       "      <td>Benin</td>\n",
       "    </tr>\n",
       "    <tr>\n",
       "      <th>3</th>\n",
       "      <td>26424</td>\n",
       "      <td>Africa: Students from Botswana, both sexes (nu...</td>\n",
       "      <td>Botswana</td>\n",
       "    </tr>\n",
       "    <tr>\n",
       "      <th>4</th>\n",
       "      <td>26425</td>\n",
       "      <td>Africa: Students from Burkina Faso, both sexes...</td>\n",
       "      <td>Burkina Faso</td>\n",
       "    </tr>\n",
       "  </tbody>\n",
       "</table>\n",
       "</div>"
      ],
      "text/plain": [
       "   INDICATOR_ID                                 INDICATOR_LABEL_EN  \\\n",
       "0         26421  Africa: Students from Algeria, both sexes (num...   \n",
       "1         26422  Africa: Students from Angola, both sexes (number)   \n",
       "2         26423   Africa: Students from Benin, both sexes (number)   \n",
       "3         26424  Africa: Students from Botswana, both sexes (nu...   \n",
       "4         26425  Africa: Students from Burkina Faso, both sexes...   \n",
       "\n",
       "           from  \n",
       "0       Algeria  \n",
       "1        Angola  \n",
       "2         Benin  \n",
       "3      Botswana  \n",
       "4  Burkina Faso  "
      ]
     },
     "execution_count": 11,
     "metadata": {},
     "output_type": "execute_result"
    }
   ],
   "source": [
    "#Extract labels and countru names from UIS dataset\n",
    "from_to_labels = labels[~labels['INDICATOR_ID'].isin([26637,26638,43188])]\n",
    "from_to_labels['from'] = from_to_labels['INDICATOR_LABEL_EN'].apply(lambda x:x.split('from ')[1].split(', both sexes (number)')[0].replace('the ',''))\n",
    "from_to_labels.head()"
   ]
  },
  {
   "cell_type": "code",
   "execution_count": 12,
   "metadata": {},
   "outputs": [
    {
     "name": "stdout",
     "output_type": "stream",
     "text": [
      "(463913, 6)\n"
     ]
    },
    {
     "data": {
      "text/html": [
       "<div>\n",
       "<style scoped>\n",
       "    .dataframe tbody tr th:only-of-type {\n",
       "        vertical-align: middle;\n",
       "    }\n",
       "\n",
       "    .dataframe tbody tr th {\n",
       "        vertical-align: top;\n",
       "    }\n",
       "\n",
       "    .dataframe thead th {\n",
       "        text-align: right;\n",
       "    }\n",
       "</style>\n",
       "<table border=\"1\" class=\"dataframe\">\n",
       "  <thead>\n",
       "    <tr style=\"text-align: right;\">\n",
       "      <th></th>\n",
       "      <th>indicator_id</th>\n",
       "      <th>country_id</th>\n",
       "      <th>year</th>\n",
       "      <th>value</th>\n",
       "      <th>from</th>\n",
       "      <th>to</th>\n",
       "    </tr>\n",
       "  </thead>\n",
       "  <tbody>\n",
       "    <tr>\n",
       "      <th>0</th>\n",
       "      <td>26421</td>\n",
       "      <td>ABW</td>\n",
       "      <td>2003</td>\n",
       "      <td>0</td>\n",
       "      <td>Algeria</td>\n",
       "      <td>Aruba</td>\n",
       "    </tr>\n",
       "    <tr>\n",
       "      <th>1</th>\n",
       "      <td>26421</td>\n",
       "      <td>ABW</td>\n",
       "      <td>2004</td>\n",
       "      <td>0</td>\n",
       "      <td>Algeria</td>\n",
       "      <td>Aruba</td>\n",
       "    </tr>\n",
       "    <tr>\n",
       "      <th>2</th>\n",
       "      <td>26421</td>\n",
       "      <td>ABW</td>\n",
       "      <td>2006</td>\n",
       "      <td>0</td>\n",
       "      <td>Algeria</td>\n",
       "      <td>Aruba</td>\n",
       "    </tr>\n",
       "    <tr>\n",
       "      <th>3</th>\n",
       "      <td>26421</td>\n",
       "      <td>ABW</td>\n",
       "      <td>2009</td>\n",
       "      <td>0</td>\n",
       "      <td>Algeria</td>\n",
       "      <td>Aruba</td>\n",
       "    </tr>\n",
       "    <tr>\n",
       "      <th>4</th>\n",
       "      <td>26421</td>\n",
       "      <td>ABW</td>\n",
       "      <td>2010</td>\n",
       "      <td>0</td>\n",
       "      <td>Algeria</td>\n",
       "      <td>Aruba</td>\n",
       "    </tr>\n",
       "  </tbody>\n",
       "</table>\n",
       "</div>"
      ],
      "text/plain": [
       "  indicator_id country_id  year  value     from     to\n",
       "0        26421        ABW  2003      0  Algeria  Aruba\n",
       "1        26421        ABW  2004      0  Algeria  Aruba\n",
       "2        26421        ABW  2006      0  Algeria  Aruba\n",
       "3        26421        ABW  2009      0  Algeria  Aruba\n",
       "4        26421        ABW  2010      0  Algeria  Aruba"
      ]
     },
     "execution_count": 12,
     "metadata": {},
     "output_type": "execute_result"
    }
   ],
   "source": [
    "total_from_to = national[national['indicator_id'].isin(from_to_labels['INDICATOR_ID'].unique())]\n",
    "total_from_to = pd.merge(total_from_to,from_to_labels,left_on='indicator_id',right_on='INDICATOR_ID',how='left')\n",
    "total_from_to = pd.merge(total_from_to,country_names,left_on='country_id',right_on='COUNTRY_ID',how='left')\n",
    "total_from_to = total_from_to.rename(columns={'COUNTRY_NAME_EN':'to'})\n",
    "total_from_to =total_from_to[['indicator_id','country_id','year','value','from','to']]\n",
    "total_from_to['value'] = total_from_to['value'].astype(int)\n",
    "total_from_to['year'] = total_from_to['year'].astype(str)\n",
    "print(total_from_to.shape)\n",
    "total_from_to.head()"
   ]
  },
  {
   "cell_type": "code",
   "execution_count": 13,
   "metadata": {},
   "outputs": [
    {
     "data": {
      "text/html": [
       "<div>\n",
       "<style scoped>\n",
       "    .dataframe tbody tr th:only-of-type {\n",
       "        vertical-align: middle;\n",
       "    }\n",
       "\n",
       "    .dataframe tbody tr th {\n",
       "        vertical-align: top;\n",
       "    }\n",
       "\n",
       "    .dataframe thead th {\n",
       "        text-align: right;\n",
       "    }\n",
       "</style>\n",
       "<table border=\"1\" class=\"dataframe\">\n",
       "  <thead>\n",
       "    <tr style=\"text-align: right;\">\n",
       "      <th></th>\n",
       "      <th>indicator_id</th>\n",
       "      <th>country_id</th>\n",
       "      <th>year</th>\n",
       "      <th>value</th>\n",
       "      <th>from</th>\n",
       "      <th>to</th>\n",
       "    </tr>\n",
       "  </thead>\n",
       "  <tbody>\n",
       "    <tr>\n",
       "      <th>2118</th>\n",
       "      <td>26421</td>\n",
       "      <td>USA</td>\n",
       "      <td>1999</td>\n",
       "      <td>202</td>\n",
       "      <td>Algeria</td>\n",
       "      <td>United States of America</td>\n",
       "    </tr>\n",
       "    <tr>\n",
       "      <th>2119</th>\n",
       "      <td>26421</td>\n",
       "      <td>USA</td>\n",
       "      <td>2005</td>\n",
       "      <td>149</td>\n",
       "      <td>Algeria</td>\n",
       "      <td>United States of America</td>\n",
       "    </tr>\n",
       "    <tr>\n",
       "      <th>2120</th>\n",
       "      <td>26421</td>\n",
       "      <td>USA</td>\n",
       "      <td>2013</td>\n",
       "      <td>168</td>\n",
       "      <td>Algeria</td>\n",
       "      <td>United States of America</td>\n",
       "    </tr>\n",
       "    <tr>\n",
       "      <th>2121</th>\n",
       "      <td>26421</td>\n",
       "      <td>USA</td>\n",
       "      <td>2014</td>\n",
       "      <td>164</td>\n",
       "      <td>Algeria</td>\n",
       "      <td>United States of America</td>\n",
       "    </tr>\n",
       "    <tr>\n",
       "      <th>2122</th>\n",
       "      <td>26421</td>\n",
       "      <td>USA</td>\n",
       "      <td>2015</td>\n",
       "      <td>162</td>\n",
       "      <td>Algeria</td>\n",
       "      <td>United States of America</td>\n",
       "    </tr>\n",
       "    <tr>\n",
       "      <th>...</th>\n",
       "      <td>...</td>\n",
       "      <td>...</td>\n",
       "      <td>...</td>\n",
       "      <td>...</td>\n",
       "      <td>...</td>\n",
       "      <td>...</td>\n",
       "    </tr>\n",
       "    <tr>\n",
       "      <th>463840</th>\n",
       "      <td>26652</td>\n",
       "      <td>USA</td>\n",
       "      <td>2016</td>\n",
       "      <td>118</td>\n",
       "      <td>Montenegro</td>\n",
       "      <td>United States of America</td>\n",
       "    </tr>\n",
       "    <tr>\n",
       "      <th>463841</th>\n",
       "      <td>26652</td>\n",
       "      <td>USA</td>\n",
       "      <td>2017</td>\n",
       "      <td>108</td>\n",
       "      <td>Montenegro</td>\n",
       "      <td>United States of America</td>\n",
       "    </tr>\n",
       "    <tr>\n",
       "      <th>463842</th>\n",
       "      <td>26652</td>\n",
       "      <td>USA</td>\n",
       "      <td>2018</td>\n",
       "      <td>116</td>\n",
       "      <td>Montenegro</td>\n",
       "      <td>United States of America</td>\n",
       "    </tr>\n",
       "    <tr>\n",
       "      <th>463843</th>\n",
       "      <td>26652</td>\n",
       "      <td>USA</td>\n",
       "      <td>2020</td>\n",
       "      <td>120</td>\n",
       "      <td>Montenegro</td>\n",
       "      <td>United States of America</td>\n",
       "    </tr>\n",
       "    <tr>\n",
       "      <th>463844</th>\n",
       "      <td>26652</td>\n",
       "      <td>USA</td>\n",
       "      <td>2021</td>\n",
       "      <td>134</td>\n",
       "      <td>Montenegro</td>\n",
       "      <td>United States of America</td>\n",
       "    </tr>\n",
       "  </tbody>\n",
       "</table>\n",
       "<p>2117 rows × 6 columns</p>\n",
       "</div>"
      ],
      "text/plain": [
       "       indicator_id country_id  year  value        from  \\\n",
       "2118          26421        USA  1999    202     Algeria   \n",
       "2119          26421        USA  2005    149     Algeria   \n",
       "2120          26421        USA  2013    168     Algeria   \n",
       "2121          26421        USA  2014    164     Algeria   \n",
       "2122          26421        USA  2015    162     Algeria   \n",
       "...             ...        ...   ...    ...         ...   \n",
       "463840        26652        USA  2016    118  Montenegro   \n",
       "463841        26652        USA  2017    108  Montenegro   \n",
       "463842        26652        USA  2018    116  Montenegro   \n",
       "463843        26652        USA  2020    120  Montenegro   \n",
       "463844        26652        USA  2021    134  Montenegro   \n",
       "\n",
       "                              to  \n",
       "2118    United States of America  \n",
       "2119    United States of America  \n",
       "2120    United States of America  \n",
       "2121    United States of America  \n",
       "2122    United States of America  \n",
       "...                          ...  \n",
       "463840  United States of America  \n",
       "463841  United States of America  \n",
       "463842  United States of America  \n",
       "463843  United States of America  \n",
       "463844  United States of America  \n",
       "\n",
       "[2117 rows x 6 columns]"
      ]
     },
     "execution_count": 13,
     "metadata": {},
     "output_type": "execute_result"
    }
   ],
   "source": [
    "canada_in = total_from_to[total_from_to['to'] == 'United States of America']\n",
    "canada_in\n",
    "#не хватает 2022, добавляем из файла с фильтром по году"
   ]
  },
  {
   "cell_type": "code",
   "execution_count": 14,
   "metadata": {},
   "outputs": [
    {
     "data": {
      "text/html": [
       "<div>\n",
       "<style scoped>\n",
       "    .dataframe tbody tr th:only-of-type {\n",
       "        vertical-align: middle;\n",
       "    }\n",
       "\n",
       "    .dataframe tbody tr th {\n",
       "        vertical-align: top;\n",
       "    }\n",
       "\n",
       "    .dataframe thead th {\n",
       "        text-align: right;\n",
       "    }\n",
       "</style>\n",
       "<table border=\"1\" class=\"dataframe\">\n",
       "  <thead>\n",
       "    <tr style=\"text-align: right;\">\n",
       "      <th></th>\n",
       "      <th>indicator_id</th>\n",
       "      <th>country_id</th>\n",
       "      <th>year</th>\n",
       "      <th>value</th>\n",
       "      <th>from</th>\n",
       "      <th>to</th>\n",
       "    </tr>\n",
       "  </thead>\n",
       "  <tbody>\n",
       "    <tr>\n",
       "      <th>1544</th>\n",
       "      <td>26421</td>\n",
       "      <td>NLD</td>\n",
       "      <td>1999</td>\n",
       "      <td>17</td>\n",
       "      <td>Algeria</td>\n",
       "      <td>Netherlands</td>\n",
       "    </tr>\n",
       "    <tr>\n",
       "      <th>1545</th>\n",
       "      <td>26421</td>\n",
       "      <td>NLD</td>\n",
       "      <td>2000</td>\n",
       "      <td>19</td>\n",
       "      <td>Algeria</td>\n",
       "      <td>Netherlands</td>\n",
       "    </tr>\n",
       "    <tr>\n",
       "      <th>1546</th>\n",
       "      <td>26421</td>\n",
       "      <td>NLD</td>\n",
       "      <td>2001</td>\n",
       "      <td>19</td>\n",
       "      <td>Algeria</td>\n",
       "      <td>Netherlands</td>\n",
       "    </tr>\n",
       "    <tr>\n",
       "      <th>1547</th>\n",
       "      <td>26421</td>\n",
       "      <td>NLD</td>\n",
       "      <td>2002</td>\n",
       "      <td>21</td>\n",
       "      <td>Algeria</td>\n",
       "      <td>Netherlands</td>\n",
       "    </tr>\n",
       "    <tr>\n",
       "      <th>1548</th>\n",
       "      <td>26421</td>\n",
       "      <td>NLD</td>\n",
       "      <td>2003</td>\n",
       "      <td>18</td>\n",
       "      <td>Algeria</td>\n",
       "      <td>Netherlands</td>\n",
       "    </tr>\n",
       "    <tr>\n",
       "      <th>...</th>\n",
       "      <td>...</td>\n",
       "      <td>...</td>\n",
       "      <td>...</td>\n",
       "      <td>...</td>\n",
       "      <td>...</td>\n",
       "      <td>...</td>\n",
       "    </tr>\n",
       "    <tr>\n",
       "      <th>463434</th>\n",
       "      <td>26652</td>\n",
       "      <td>NLD</td>\n",
       "      <td>2015</td>\n",
       "      <td>5</td>\n",
       "      <td>Montenegro</td>\n",
       "      <td>Netherlands</td>\n",
       "    </tr>\n",
       "    <tr>\n",
       "      <th>463435</th>\n",
       "      <td>26652</td>\n",
       "      <td>NLD</td>\n",
       "      <td>2016</td>\n",
       "      <td>7</td>\n",
       "      <td>Montenegro</td>\n",
       "      <td>Netherlands</td>\n",
       "    </tr>\n",
       "    <tr>\n",
       "      <th>463436</th>\n",
       "      <td>26652</td>\n",
       "      <td>NLD</td>\n",
       "      <td>2017</td>\n",
       "      <td>13</td>\n",
       "      <td>Montenegro</td>\n",
       "      <td>Netherlands</td>\n",
       "    </tr>\n",
       "    <tr>\n",
       "      <th>463437</th>\n",
       "      <td>26652</td>\n",
       "      <td>NLD</td>\n",
       "      <td>2018</td>\n",
       "      <td>15</td>\n",
       "      <td>Montenegro</td>\n",
       "      <td>Netherlands</td>\n",
       "    </tr>\n",
       "    <tr>\n",
       "      <th>463438</th>\n",
       "      <td>26652</td>\n",
       "      <td>NLD</td>\n",
       "      <td>2019</td>\n",
       "      <td>14</td>\n",
       "      <td>Montenegro</td>\n",
       "      <td>Netherlands</td>\n",
       "    </tr>\n",
       "  </tbody>\n",
       "</table>\n",
       "<p>4424 rows × 6 columns</p>\n",
       "</div>"
      ],
      "text/plain": [
       "       indicator_id country_id  year  value        from           to\n",
       "1544          26421        NLD  1999     17     Algeria  Netherlands\n",
       "1545          26421        NLD  2000     19     Algeria  Netherlands\n",
       "1546          26421        NLD  2001     19     Algeria  Netherlands\n",
       "1547          26421        NLD  2002     21     Algeria  Netherlands\n",
       "1548          26421        NLD  2003     18     Algeria  Netherlands\n",
       "...             ...        ...   ...    ...         ...          ...\n",
       "463434        26652        NLD  2015      5  Montenegro  Netherlands\n",
       "463435        26652        NLD  2016      7  Montenegro  Netherlands\n",
       "463436        26652        NLD  2017     13  Montenegro  Netherlands\n",
       "463437        26652        NLD  2018     15  Montenegro  Netherlands\n",
       "463438        26652        NLD  2019     14  Montenegro  Netherlands\n",
       "\n",
       "[4424 rows x 6 columns]"
      ]
     },
     "execution_count": 14,
     "metadata": {},
     "output_type": "execute_result"
    }
   ],
   "source": [
    "total_from_to[total_from_to['to'] == 'Netherlands']\n",
    "#не хватает 2022, добавляем из файла"
   ]
  },
  {
   "cell_type": "code",
   "execution_count": 15,
   "metadata": {},
   "outputs": [
    {
     "data": {
      "text/html": [
       "<div>\n",
       "<style scoped>\n",
       "    .dataframe tbody tr th:only-of-type {\n",
       "        vertical-align: middle;\n",
       "    }\n",
       "\n",
       "    .dataframe tbody tr th {\n",
       "        vertical-align: top;\n",
       "    }\n",
       "\n",
       "    .dataframe thead th {\n",
       "        text-align: right;\n",
       "    }\n",
       "</style>\n",
       "<table border=\"1\" class=\"dataframe\">\n",
       "  <thead>\n",
       "    <tr style=\"text-align: right;\">\n",
       "      <th></th>\n",
       "      <th>indicator_id</th>\n",
       "      <th>country_id</th>\n",
       "      <th>year</th>\n",
       "      <th>value</th>\n",
       "      <th>from</th>\n",
       "      <th>to</th>\n",
       "    </tr>\n",
       "  </thead>\n",
       "  <tbody>\n",
       "    <tr>\n",
       "      <th>1059</th>\n",
       "      <td>26421</td>\n",
       "      <td>KAZ</td>\n",
       "      <td>1999</td>\n",
       "      <td>0</td>\n",
       "      <td>Algeria</td>\n",
       "      <td>Kazakhstan</td>\n",
       "    </tr>\n",
       "    <tr>\n",
       "      <th>1060</th>\n",
       "      <td>26421</td>\n",
       "      <td>KAZ</td>\n",
       "      <td>2000</td>\n",
       "      <td>0</td>\n",
       "      <td>Algeria</td>\n",
       "      <td>Kazakhstan</td>\n",
       "    </tr>\n",
       "    <tr>\n",
       "      <th>1061</th>\n",
       "      <td>26421</td>\n",
       "      <td>KAZ</td>\n",
       "      <td>2001</td>\n",
       "      <td>1</td>\n",
       "      <td>Algeria</td>\n",
       "      <td>Kazakhstan</td>\n",
       "    </tr>\n",
       "    <tr>\n",
       "      <th>1062</th>\n",
       "      <td>26421</td>\n",
       "      <td>KAZ</td>\n",
       "      <td>2003</td>\n",
       "      <td>0</td>\n",
       "      <td>Algeria</td>\n",
       "      <td>Kazakhstan</td>\n",
       "    </tr>\n",
       "    <tr>\n",
       "      <th>1063</th>\n",
       "      <td>26421</td>\n",
       "      <td>KAZ</td>\n",
       "      <td>2004</td>\n",
       "      <td>0</td>\n",
       "      <td>Algeria</td>\n",
       "      <td>Kazakhstan</td>\n",
       "    </tr>\n",
       "    <tr>\n",
       "      <th>...</th>\n",
       "      <td>...</td>\n",
       "      <td>...</td>\n",
       "      <td>...</td>\n",
       "      <td>...</td>\n",
       "      <td>...</td>\n",
       "      <td>...</td>\n",
       "    </tr>\n",
       "    <tr>\n",
       "      <th>463070</th>\n",
       "      <td>26652</td>\n",
       "      <td>KAZ</td>\n",
       "      <td>2016</td>\n",
       "      <td>0</td>\n",
       "      <td>Montenegro</td>\n",
       "      <td>Kazakhstan</td>\n",
       "    </tr>\n",
       "    <tr>\n",
       "      <th>463071</th>\n",
       "      <td>26652</td>\n",
       "      <td>KAZ</td>\n",
       "      <td>2017</td>\n",
       "      <td>0</td>\n",
       "      <td>Montenegro</td>\n",
       "      <td>Kazakhstan</td>\n",
       "    </tr>\n",
       "    <tr>\n",
       "      <th>463072</th>\n",
       "      <td>26652</td>\n",
       "      <td>KAZ</td>\n",
       "      <td>2018</td>\n",
       "      <td>0</td>\n",
       "      <td>Montenegro</td>\n",
       "      <td>Kazakhstan</td>\n",
       "    </tr>\n",
       "    <tr>\n",
       "      <th>463073</th>\n",
       "      <td>26652</td>\n",
       "      <td>KAZ</td>\n",
       "      <td>2019</td>\n",
       "      <td>0</td>\n",
       "      <td>Montenegro</td>\n",
       "      <td>Kazakhstan</td>\n",
       "    </tr>\n",
       "    <tr>\n",
       "      <th>463074</th>\n",
       "      <td>26652</td>\n",
       "      <td>KAZ</td>\n",
       "      <td>2020</td>\n",
       "      <td>0</td>\n",
       "      <td>Montenegro</td>\n",
       "      <td>Kazakhstan</td>\n",
       "    </tr>\n",
       "  </tbody>\n",
       "</table>\n",
       "<p>4459 rows × 6 columns</p>\n",
       "</div>"
      ],
      "text/plain": [
       "       indicator_id country_id  year  value        from          to\n",
       "1059          26421        KAZ  1999      0     Algeria  Kazakhstan\n",
       "1060          26421        KAZ  2000      0     Algeria  Kazakhstan\n",
       "1061          26421        KAZ  2001      1     Algeria  Kazakhstan\n",
       "1062          26421        KAZ  2003      0     Algeria  Kazakhstan\n",
       "1063          26421        KAZ  2004      0     Algeria  Kazakhstan\n",
       "...             ...        ...   ...    ...         ...         ...\n",
       "463070        26652        KAZ  2016      0  Montenegro  Kazakhstan\n",
       "463071        26652        KAZ  2017      0  Montenegro  Kazakhstan\n",
       "463072        26652        KAZ  2018      0  Montenegro  Kazakhstan\n",
       "463073        26652        KAZ  2019      0  Montenegro  Kazakhstan\n",
       "463074        26652        KAZ  2020      0  Montenegro  Kazakhstan\n",
       "\n",
       "[4459 rows x 6 columns]"
      ]
     },
     "execution_count": 15,
     "metadata": {},
     "output_type": "execute_result"
    }
   ],
   "source": [
    "total_from_to[total_from_to['to'] == 'Kazakhstan']\n",
    "#не хватает 2021, 2022, добавляем из файла"
   ]
  },
  {
   "cell_type": "code",
   "execution_count": 16,
   "metadata": {},
   "outputs": [
    {
     "name": "stdout",
     "output_type": "stream",
     "text": [
      "(463912, 6)\n"
     ]
    },
    {
     "data": {
      "text/html": [
       "<div>\n",
       "<style scoped>\n",
       "    .dataframe tbody tr th:only-of-type {\n",
       "        vertical-align: middle;\n",
       "    }\n",
       "\n",
       "    .dataframe tbody tr th {\n",
       "        vertical-align: top;\n",
       "    }\n",
       "\n",
       "    .dataframe thead th {\n",
       "        text-align: right;\n",
       "    }\n",
       "</style>\n",
       "<table border=\"1\" class=\"dataframe\">\n",
       "  <thead>\n",
       "    <tr style=\"text-align: right;\">\n",
       "      <th></th>\n",
       "      <th>indicator_id</th>\n",
       "      <th>country_id</th>\n",
       "      <th>year</th>\n",
       "      <th>value</th>\n",
       "      <th>from</th>\n",
       "      <th>to</th>\n",
       "    </tr>\n",
       "  </thead>\n",
       "  <tbody>\n",
       "    <tr>\n",
       "      <th>0</th>\n",
       "      <td>26421</td>\n",
       "      <td>ABW</td>\n",
       "      <td>2003</td>\n",
       "      <td>0</td>\n",
       "      <td>Algeria</td>\n",
       "      <td>Aruba</td>\n",
       "    </tr>\n",
       "    <tr>\n",
       "      <th>1</th>\n",
       "      <td>26421</td>\n",
       "      <td>ABW</td>\n",
       "      <td>2004</td>\n",
       "      <td>0</td>\n",
       "      <td>Algeria</td>\n",
       "      <td>Aruba</td>\n",
       "    </tr>\n",
       "  </tbody>\n",
       "</table>\n",
       "</div>"
      ],
      "text/plain": [
       "  indicator_id country_id  year  value     from     to\n",
       "0        26421        ABW  2003      0  Algeria  Aruba\n",
       "1        26421        ABW  2004      0  Algeria  Aruba"
      ]
     },
     "execution_count": 16,
     "metadata": {},
     "output_type": "execute_result"
    }
   ],
   "source": [
    "#delete empty 2022 rows for the Netherlands\n",
    "\n",
    "# total_from_to = total_from_to[~((total_from_to['to'] == 'United States of America') & (total_from_to['year'] == '2022'))]\n",
    "total_from_to = total_from_to[~((total_from_to['to']=='Netherlands') & (total_from_to['year']=='2022'))]\n",
    "# total_from_to = total_from_to[~((total_from_to['to']=='Kazakhstan') & (total_from_to['year']=='2022'))]\n",
    "# total_from_to = total_from_to[~((total_from_to['to']=='China') & (total_from_to['year']=='2022'))]\n",
    "# total_from_to = total_from_to[~((total_from_to['to']=='China') & (total_from_to['year']=='2017'))]\n",
    "print(total_from_to.shape)\n",
    "total_from_to.head(2)"
   ]
  },
  {
   "cell_type": "code",
   "execution_count": 18,
   "metadata": {},
   "outputs": [
    {
     "data": {
      "text/html": [
       "<div>\n",
       "<style scoped>\n",
       "    .dataframe tbody tr th:only-of-type {\n",
       "        vertical-align: middle;\n",
       "    }\n",
       "\n",
       "    .dataframe tbody tr th {\n",
       "        vertical-align: top;\n",
       "    }\n",
       "\n",
       "    .dataframe thead th {\n",
       "        text-align: right;\n",
       "    }\n",
       "</style>\n",
       "<table border=\"1\" class=\"dataframe\">\n",
       "  <thead>\n",
       "    <tr style=\"text-align: right;\">\n",
       "      <th></th>\n",
       "      <th>indicator_id</th>\n",
       "      <th>country_id</th>\n",
       "      <th>year</th>\n",
       "      <th>value</th>\n",
       "      <th>from</th>\n",
       "      <th>to</th>\n",
       "    </tr>\n",
       "  </thead>\n",
       "  <tbody>\n",
       "    <tr>\n",
       "      <th>2118</th>\n",
       "      <td>26421</td>\n",
       "      <td>USA</td>\n",
       "      <td>1999</td>\n",
       "      <td>202</td>\n",
       "      <td>Algeria</td>\n",
       "      <td>United States of America</td>\n",
       "    </tr>\n",
       "    <tr>\n",
       "      <th>2119</th>\n",
       "      <td>26421</td>\n",
       "      <td>USA</td>\n",
       "      <td>2005</td>\n",
       "      <td>149</td>\n",
       "      <td>Algeria</td>\n",
       "      <td>United States of America</td>\n",
       "    </tr>\n",
       "    <tr>\n",
       "      <th>2120</th>\n",
       "      <td>26421</td>\n",
       "      <td>USA</td>\n",
       "      <td>2013</td>\n",
       "      <td>168</td>\n",
       "      <td>Algeria</td>\n",
       "      <td>United States of America</td>\n",
       "    </tr>\n",
       "    <tr>\n",
       "      <th>2121</th>\n",
       "      <td>26421</td>\n",
       "      <td>USA</td>\n",
       "      <td>2014</td>\n",
       "      <td>164</td>\n",
       "      <td>Algeria</td>\n",
       "      <td>United States of America</td>\n",
       "    </tr>\n",
       "    <tr>\n",
       "      <th>2122</th>\n",
       "      <td>26421</td>\n",
       "      <td>USA</td>\n",
       "      <td>2015</td>\n",
       "      <td>162</td>\n",
       "      <td>Algeria</td>\n",
       "      <td>United States of America</td>\n",
       "    </tr>\n",
       "    <tr>\n",
       "      <th>...</th>\n",
       "      <td>...</td>\n",
       "      <td>...</td>\n",
       "      <td>...</td>\n",
       "      <td>...</td>\n",
       "      <td>...</td>\n",
       "      <td>...</td>\n",
       "    </tr>\n",
       "    <tr>\n",
       "      <th>463840</th>\n",
       "      <td>26652</td>\n",
       "      <td>USA</td>\n",
       "      <td>2016</td>\n",
       "      <td>118</td>\n",
       "      <td>Montenegro</td>\n",
       "      <td>United States of America</td>\n",
       "    </tr>\n",
       "    <tr>\n",
       "      <th>463841</th>\n",
       "      <td>26652</td>\n",
       "      <td>USA</td>\n",
       "      <td>2017</td>\n",
       "      <td>108</td>\n",
       "      <td>Montenegro</td>\n",
       "      <td>United States of America</td>\n",
       "    </tr>\n",
       "    <tr>\n",
       "      <th>463842</th>\n",
       "      <td>26652</td>\n",
       "      <td>USA</td>\n",
       "      <td>2018</td>\n",
       "      <td>116</td>\n",
       "      <td>Montenegro</td>\n",
       "      <td>United States of America</td>\n",
       "    </tr>\n",
       "    <tr>\n",
       "      <th>463843</th>\n",
       "      <td>26652</td>\n",
       "      <td>USA</td>\n",
       "      <td>2020</td>\n",
       "      <td>120</td>\n",
       "      <td>Montenegro</td>\n",
       "      <td>United States of America</td>\n",
       "    </tr>\n",
       "    <tr>\n",
       "      <th>463844</th>\n",
       "      <td>26652</td>\n",
       "      <td>USA</td>\n",
       "      <td>2021</td>\n",
       "      <td>134</td>\n",
       "      <td>Montenegro</td>\n",
       "      <td>United States of America</td>\n",
       "    </tr>\n",
       "  </tbody>\n",
       "</table>\n",
       "<p>2117 rows × 6 columns</p>\n",
       "</div>"
      ],
      "text/plain": [
       "       indicator_id country_id  year  value        from  \\\n",
       "2118          26421        USA  1999    202     Algeria   \n",
       "2119          26421        USA  2005    149     Algeria   \n",
       "2120          26421        USA  2013    168     Algeria   \n",
       "2121          26421        USA  2014    164     Algeria   \n",
       "2122          26421        USA  2015    162     Algeria   \n",
       "...             ...        ...   ...    ...         ...   \n",
       "463840        26652        USA  2016    118  Montenegro   \n",
       "463841        26652        USA  2017    108  Montenegro   \n",
       "463842        26652        USA  2018    116  Montenegro   \n",
       "463843        26652        USA  2020    120  Montenegro   \n",
       "463844        26652        USA  2021    134  Montenegro   \n",
       "\n",
       "                              to  \n",
       "2118    United States of America  \n",
       "2119    United States of America  \n",
       "2120    United States of America  \n",
       "2121    United States of America  \n",
       "2122    United States of America  \n",
       "...                          ...  \n",
       "463840  United States of America  \n",
       "463841  United States of America  \n",
       "463842  United States of America  \n",
       "463843  United States of America  \n",
       "463844  United States of America  \n",
       "\n",
       "[2117 rows x 6 columns]"
      ]
     },
     "execution_count": 18,
     "metadata": {},
     "output_type": "execute_result"
    }
   ],
   "source": [
    "canada_in = total_from_to[total_from_to['to'] == 'United States of America']\n",
    "canada_in"
   ]
  },
  {
   "cell_type": "code",
   "execution_count": 19,
   "metadata": {},
   "outputs": [
    {
     "name": "stdout",
     "output_type": "stream",
     "text": [
      "(463912, 6)\n",
      "(464215, 6)\n"
     ]
    },
    {
     "data": {
      "text/html": [
       "<div>\n",
       "<style scoped>\n",
       "    .dataframe tbody tr th:only-of-type {\n",
       "        vertical-align: middle;\n",
       "    }\n",
       "\n",
       "    .dataframe tbody tr th {\n",
       "        vertical-align: top;\n",
       "    }\n",
       "\n",
       "    .dataframe thead th {\n",
       "        text-align: right;\n",
       "    }\n",
       "</style>\n",
       "<table border=\"1\" class=\"dataframe\">\n",
       "  <thead>\n",
       "    <tr style=\"text-align: right;\">\n",
       "      <th></th>\n",
       "      <th>indicator_id</th>\n",
       "      <th>country_id</th>\n",
       "      <th>year</th>\n",
       "      <th>value</th>\n",
       "      <th>from</th>\n",
       "      <th>to</th>\n",
       "    </tr>\n",
       "  </thead>\n",
       "  <tbody>\n",
       "    <tr>\n",
       "      <th>0</th>\n",
       "      <td>26421</td>\n",
       "      <td>ABW</td>\n",
       "      <td>2003</td>\n",
       "      <td>0.0</td>\n",
       "      <td>Algeria</td>\n",
       "      <td>Aruba</td>\n",
       "    </tr>\n",
       "    <tr>\n",
       "      <th>1</th>\n",
       "      <td>26421</td>\n",
       "      <td>ABW</td>\n",
       "      <td>2004</td>\n",
       "      <td>0.0</td>\n",
       "      <td>Algeria</td>\n",
       "      <td>Aruba</td>\n",
       "    </tr>\n",
       "  </tbody>\n",
       "</table>\n",
       "</div>"
      ],
      "text/plain": [
       "  indicator_id country_id  year  value     from     to\n",
       "0        26421        ABW  2003    0.0  Algeria  Aruba\n",
       "1        26421        ABW  2004    0.0  Algeria  Aruba"
      ]
     },
     "execution_count": 19,
     "metadata": {},
     "output_type": "execute_result"
    }
   ],
   "source": [
    "print(total_from_to.shape)\n",
    "#Add absent countries into df\n",
    "total_from_to = pd.concat([total_from_to,usa_add_long,kaz_add_long,nld_add_long,china_add_long])\n",
    "print(total_from_to.shape)\n",
    "# total_from_to['value'] = total_from_to['value'].astype(int)\n",
    "total_from_to.head(2)"
   ]
  },
  {
   "cell_type": "code",
   "execution_count": null,
   "metadata": {},
   "outputs": [],
   "source": [
    "#replace long country names by short to make charts cleaner\n",
    "total_from_to.loc[total_from_to['from']=='Iran (Islamic Republic of)','from']='Iran'\n",
    "total_from_to.loc[total_from_to['from']=='Islamic Republic of Iran','from']='Iran'\n",
    "total_from_to.loc[total_from_to['from']=='United Kingdom of Great Britain and Northern Ireland','from']='United Kingdom'\n",
    "total_from_to.loc[total_from_to['from']=='China, Hong Kong Special Administrative Region','from']='Hong Kong'\n",
    "total_from_to.loc[total_from_to['from']=='Hong Kong, Special Administrative Region of China','from']='Hong Kong'\n",
    "total_from_to.loc[total_from_to['from']=='China, Macao Special Administrative Region','from']='Macao'\n",
    "total_from_to.loc[total_from_to['from']=='Macao, Special Administrative Region of China','from']='Macao'\n",
    "total_from_to.loc[total_from_to['from']=='United States of America','from']='USA'\n",
    "total_from_to.loc[total_from_to['from']=='United States','from']='USA'\n",
    "total_from_to.loc[total_from_to['from']=='United Republic of Tanzania','from']='Tanzania'\n",
    "total_from_to.loc[total_from_to['from']==\"Lao People's Democratic Republic\",'from'] = 'Lao'\n",
    "total_from_to.loc[total_from_to['from']==\"Turks and Caicos Islands\",'from'] = 'Turks and Caicos'\n",
    "total_from_to.loc[total_from_to['from']==\"Russian Federation\",'from'] = 'Russia'\n",
    "total_from_to.loc[total_from_to['from']==\"Republic of Moldova\",'from'] = 'Moldova'\n",
    "total_from_to.loc[total_from_to['to']=='Iran (Islamic Republic of)','to']='Iran'\n",
    "total_from_to.loc[total_from_to['to']=='Islamic Republic of Iran','to']='Iran'\n",
    "total_from_to.loc[total_from_to['to']=='United Kingdom of Great Britain and Northern Ireland','to']='United Kingdom'\n",
    "total_from_to.loc[total_from_to['to']=='China, Hong Kong Special Administrative Region','to']='Hong Kong'\n",
    "total_from_to.loc[total_from_to['to']=='Hong Kong, Special Administrative Region of China','to']='Hong Kong'\n",
    "total_from_to.loc[total_from_to['to']=='China, Macao Special Administrative Region','to']='Macao'\n",
    "total_from_to.loc[total_from_to['to']=='Macao, Special Administrative Region of China','to']='Macao'\n",
    "total_from_to.loc[total_from_to['to']=='United States of America','to']='USA'\n",
    "total_from_to.loc[total_from_to['to']=='United States','to']='USA'\n",
    "total_from_to.loc[total_from_to['to']=='United Republic of Tanzania','to']='Tanzania'\n",
    "total_from_to.loc[total_from_to['to']==\"Lao People's Democratic Republic\",'to'] = 'Lao'\n",
    "total_from_to.loc[total_from_to['to']==\"Turks and Caicos Islands\",'to'] = 'Turks and Caicos'\n",
    "total_from_to.loc[total_from_to['to']==\"Russian Federation\",'to'] = 'Russia'\n",
    "total_from_to.loc[total_from_to['to']==\"Republic of Moldova\",'to'] = 'Moldova'"
   ]
  },
  {
   "cell_type": "markdown",
   "metadata": {},
   "source": [
    "International Education Market"
   ]
  },
  {
   "cell_type": "code",
   "execution_count": 21,
   "metadata": {},
   "outputs": [
    {
     "data": {
      "text/html": [
       "<div>\n",
       "<style scoped>\n",
       "    .dataframe tbody tr th:only-of-type {\n",
       "        vertical-align: middle;\n",
       "    }\n",
       "\n",
       "    .dataframe tbody tr th {\n",
       "        vertical-align: top;\n",
       "    }\n",
       "\n",
       "    .dataframe thead th {\n",
       "        text-align: right;\n",
       "    }\n",
       "</style>\n",
       "<table border=\"1\" class=\"dataframe\">\n",
       "  <thead>\n",
       "    <tr style=\"text-align: right;\">\n",
       "      <th></th>\n",
       "      <th>year</th>\n",
       "      <th>to</th>\n",
       "      <th>value</th>\n",
       "    </tr>\n",
       "  </thead>\n",
       "  <tbody>\n",
       "    <tr>\n",
       "      <th>2321</th>\n",
       "      <td>2017</td>\n",
       "      <td>Algeria</td>\n",
       "      <td>0.0</td>\n",
       "    </tr>\n",
       "    <tr>\n",
       "      <th>2322</th>\n",
       "      <td>2017</td>\n",
       "      <td>Andorra</td>\n",
       "      <td>182.0</td>\n",
       "    </tr>\n",
       "    <tr>\n",
       "      <th>2323</th>\n",
       "      <td>2017</td>\n",
       "      <td>Argentina</td>\n",
       "      <td>86665.0</td>\n",
       "    </tr>\n",
       "    <tr>\n",
       "      <th>2324</th>\n",
       "      <td>2017</td>\n",
       "      <td>Armenia</td>\n",
       "      <td>4138.0</td>\n",
       "    </tr>\n",
       "    <tr>\n",
       "      <th>2325</th>\n",
       "      <td>2017</td>\n",
       "      <td>Australia</td>\n",
       "      <td>375140.0</td>\n",
       "    </tr>\n",
       "    <tr>\n",
       "      <th>...</th>\n",
       "      <td>...</td>\n",
       "      <td>...</td>\n",
       "      <td>...</td>\n",
       "    </tr>\n",
       "    <tr>\n",
       "      <th>3013</th>\n",
       "      <td>2022</td>\n",
       "      <td>Turks and Caicos</td>\n",
       "      <td>183.0</td>\n",
       "    </tr>\n",
       "    <tr>\n",
       "      <th>3014</th>\n",
       "      <td>2022</td>\n",
       "      <td>USA</td>\n",
       "      <td>1035161.0</td>\n",
       "    </tr>\n",
       "    <tr>\n",
       "      <th>3015</th>\n",
       "      <td>2022</td>\n",
       "      <td>United Kingdom</td>\n",
       "      <td>674440.0</td>\n",
       "    </tr>\n",
       "    <tr>\n",
       "      <th>3016</th>\n",
       "      <td>2022</td>\n",
       "      <td>Uzbekistan</td>\n",
       "      <td>5502.0</td>\n",
       "    </tr>\n",
       "    <tr>\n",
       "      <th>3017</th>\n",
       "      <td>2022</td>\n",
       "      <td>Viet Nam</td>\n",
       "      <td>7759.0</td>\n",
       "    </tr>\n",
       "  </tbody>\n",
       "</table>\n",
       "<p>235 rows × 3 columns</p>\n",
       "</div>"
      ],
      "text/plain": [
       "      year                to      value\n",
       "2321  2017           Algeria        0.0\n",
       "2322  2017           Andorra      182.0\n",
       "2323  2017         Argentina    86665.0\n",
       "2324  2017           Armenia     4138.0\n",
       "2325  2017         Australia   375140.0\n",
       "...    ...               ...        ...\n",
       "3013  2022  Turks and Caicos      183.0\n",
       "3014  2022               USA  1035161.0\n",
       "3015  2022    United Kingdom   674440.0\n",
       "3016  2022        Uzbekistan     5502.0\n",
       "3017  2022          Viet Nam     7759.0\n",
       "\n",
       "[235 rows x 3 columns]"
      ]
     },
     "execution_count": 21,
     "metadata": {},
     "output_type": "execute_result"
    }
   ],
   "source": [
    "total_years = total_from_to.groupby(['year','to'])['value'].sum().reset_index()\n",
    "#raw data from Unesco and additional by-outbound-countries datasets. Data for country level are added or corrected later\n",
    "#this df allows to see if we have data for a country in a distinct year\n",
    "total_years[total_years['year'].isin(['2017','2022'])]"
   ]
  },
  {
   "cell_type": "code",
   "execution_count": 22,
   "metadata": {},
   "outputs": [
    {
     "data": {
      "text/html": [
       "<div>\n",
       "<style scoped>\n",
       "    .dataframe tbody tr th:only-of-type {\n",
       "        vertical-align: middle;\n",
       "    }\n",
       "\n",
       "    .dataframe tbody tr th {\n",
       "        vertical-align: top;\n",
       "    }\n",
       "\n",
       "    .dataframe thead th {\n",
       "        text-align: right;\n",
       "    }\n",
       "</style>\n",
       "<table border=\"1\" class=\"dataframe\">\n",
       "  <thead>\n",
       "    <tr style=\"text-align: right;\">\n",
       "      <th>year</th>\n",
       "      <th>to</th>\n",
       "      <th>2017</th>\n",
       "      <th>2019</th>\n",
       "      <th>2020</th>\n",
       "      <th>2021</th>\n",
       "      <th>2022</th>\n",
       "    </tr>\n",
       "  </thead>\n",
       "  <tbody>\n",
       "    <tr>\n",
       "      <th>0</th>\n",
       "      <td>Afghanistan</td>\n",
       "      <td>NaN</td>\n",
       "      <td>NaN</td>\n",
       "      <td>0.0</td>\n",
       "      <td>NaN</td>\n",
       "      <td>NaN</td>\n",
       "    </tr>\n",
       "    <tr>\n",
       "      <th>1</th>\n",
       "      <td>Albania</td>\n",
       "      <td>NaN</td>\n",
       "      <td>2156.0</td>\n",
       "      <td>2146.0</td>\n",
       "      <td>1944.0</td>\n",
       "      <td>1731.0</td>\n",
       "    </tr>\n",
       "    <tr>\n",
       "      <th>2</th>\n",
       "      <td>Algeria</td>\n",
       "      <td>0.0</td>\n",
       "      <td>0.0</td>\n",
       "      <td>0.0</td>\n",
       "      <td>0.0</td>\n",
       "      <td>0.0</td>\n",
       "    </tr>\n",
       "    <tr>\n",
       "      <th>3</th>\n",
       "      <td>American Samoa</td>\n",
       "      <td>NaN</td>\n",
       "      <td>NaN</td>\n",
       "      <td>NaN</td>\n",
       "      <td>NaN</td>\n",
       "      <td>NaN</td>\n",
       "    </tr>\n",
       "    <tr>\n",
       "      <th>4</th>\n",
       "      <td>Andorra</td>\n",
       "      <td>182.0</td>\n",
       "      <td>258.0</td>\n",
       "      <td>286.0</td>\n",
       "      <td>282.0</td>\n",
       "      <td>NaN</td>\n",
       "    </tr>\n",
       "    <tr>\n",
       "      <th>...</th>\n",
       "      <td>...</td>\n",
       "      <td>...</td>\n",
       "      <td>...</td>\n",
       "      <td>...</td>\n",
       "      <td>...</td>\n",
       "      <td>...</td>\n",
       "    </tr>\n",
       "    <tr>\n",
       "      <th>200</th>\n",
       "      <td>Venezuela (Bolivarian Republic of)</td>\n",
       "      <td>NaN</td>\n",
       "      <td>NaN</td>\n",
       "      <td>NaN</td>\n",
       "      <td>NaN</td>\n",
       "      <td>NaN</td>\n",
       "    </tr>\n",
       "    <tr>\n",
       "      <th>201</th>\n",
       "      <td>Viet Nam</td>\n",
       "      <td>4125.0</td>\n",
       "      <td>7248.0</td>\n",
       "      <td>8645.0</td>\n",
       "      <td>8369.0</td>\n",
       "      <td>7759.0</td>\n",
       "    </tr>\n",
       "    <tr>\n",
       "      <th>202</th>\n",
       "      <td>Yemen</td>\n",
       "      <td>NaN</td>\n",
       "      <td>NaN</td>\n",
       "      <td>NaN</td>\n",
       "      <td>NaN</td>\n",
       "      <td>NaN</td>\n",
       "    </tr>\n",
       "    <tr>\n",
       "      <th>203</th>\n",
       "      <td>Zambia</td>\n",
       "      <td>NaN</td>\n",
       "      <td>NaN</td>\n",
       "      <td>NaN</td>\n",
       "      <td>NaN</td>\n",
       "      <td>NaN</td>\n",
       "    </tr>\n",
       "    <tr>\n",
       "      <th>204</th>\n",
       "      <td>Zimbabwe</td>\n",
       "      <td>NaN</td>\n",
       "      <td>NaN</td>\n",
       "      <td>NaN</td>\n",
       "      <td>NaN</td>\n",
       "      <td>NaN</td>\n",
       "    </tr>\n",
       "  </tbody>\n",
       "</table>\n",
       "<p>205 rows × 6 columns</p>\n",
       "</div>"
      ],
      "text/plain": [
       "year                                  to    2017    2019    2020    2021  \\\n",
       "0                            Afghanistan     NaN     NaN     0.0     NaN   \n",
       "1                                Albania     NaN  2156.0  2146.0  1944.0   \n",
       "2                                Algeria     0.0     0.0     0.0     0.0   \n",
       "3                         American Samoa     NaN     NaN     NaN     NaN   \n",
       "4                                Andorra   182.0   258.0   286.0   282.0   \n",
       "..                                   ...     ...     ...     ...     ...   \n",
       "200   Venezuela (Bolivarian Republic of)     NaN     NaN     NaN     NaN   \n",
       "201                             Viet Nam  4125.0  7248.0  8645.0  8369.0   \n",
       "202                                Yemen     NaN     NaN     NaN     NaN   \n",
       "203                               Zambia     NaN     NaN     NaN     NaN   \n",
       "204                             Zimbabwe     NaN     NaN     NaN     NaN   \n",
       "\n",
       "year    2022  \n",
       "0        NaN  \n",
       "1     1731.0  \n",
       "2        0.0  \n",
       "3        NaN  \n",
       "4        NaN  \n",
       "..       ...  \n",
       "200      NaN  \n",
       "201   7759.0  \n",
       "202      NaN  \n",
       "203      NaN  \n",
       "204      NaN  \n",
       "\n",
       "[205 rows x 6 columns]"
      ]
     },
     "execution_count": 22,
     "metadata": {},
     "output_type": "execute_result"
    }
   ],
   "source": [
    "country='Egypt'\n",
    "df_country = total_years.pivot(index=['to'], columns='year', values='value').reset_index()\n",
    "# df_country = df_country[df_country['to']==country]\n",
    "df_country = df_country[['to','2017','2019','2020','2021','2022']]\n",
    "df_country"
   ]
  },
  {
   "cell_type": "code",
   "execution_count": 653,
   "metadata": {},
   "outputs": [
    {
     "data": {
      "text/plain": [
       "year\n",
       "to      AfghanistanAlbaniaAlgeriaAmerican SamoaAndorra...\n",
       "2017                                            4838081.0\n",
       "2019                                            4075461.0\n",
       "2020                                            5329383.0\n",
       "2021                                            5241636.0\n",
       "2022                                            6022009.0\n",
       "dtype: object"
      ]
     },
     "execution_count": 653,
     "metadata": {},
     "output_type": "execute_result"
    }
   ],
   "source": [
    "df_country.sum()"
   ]
  },
  {
   "cell_type": "code",
   "execution_count": null,
   "metadata": {},
   "outputs": [],
   "source": [
    "#не хватает крупных рынков - импорт\n",
    "# Египет: 2017, 2022\n",
    "# Иран: 2022\n",
    "# Израиль: 2017, 2022\n",
    "# панама: 2017\n",
    "# Сингапур: 2017, 2022\n",
    "# Philippines: 2017, 2022\n",
    "# Thailand: 2017\n",
    "# Togo: 2017,2022\n",
    "# Ukraine: 2022\n",
    "# Uruguay: 2017,2022\n",
    "# Mexico:2022\n",
    "# куба: 2022 - взять 2021\n",
    "# Yemen\n",
    "# Zambia\n",
    "# Zimbabwe\n",
    "#Indonesia 2022"
   ]
  },
  {
   "cell_type": "markdown",
   "metadata": {},
   "source": [
    "<h4>Inbound by Countries</h4>"
   ]
  },
  {
   "cell_type": "markdown",
   "metadata": {},
   "source": [
    "На основании отчетов inbound в разрезе страна-страна"
   ]
  },
  {
   "cell_type": "code",
   "execution_count": 23,
   "metadata": {},
   "outputs": [
    {
     "name": "stderr",
     "output_type": "stream",
     "text": [
      "C:\\Users\\yuliy\\AppData\\Local\\Temp\\ipykernel_20200\\3490173088.py:2: SettingWithCopyWarning: \n",
      "A value is trying to be set on a copy of a slice from a DataFrame.\n",
      "Try using .loc[row_indexer,col_indexer] = value instead\n",
      "\n",
      "See the caveats in the documentation: https://pandas.pydata.org/pandas-docs/stable/user_guide/indexing.html#returning-a-view-versus-a-copy\n",
      "  countries['year'] = countries['year'].astype(str)\n"
     ]
    },
    {
     "data": {
      "text/html": [
       "<div>\n",
       "<style scoped>\n",
       "    .dataframe tbody tr th:only-of-type {\n",
       "        vertical-align: middle;\n",
       "    }\n",
       "\n",
       "    .dataframe tbody tr th {\n",
       "        vertical-align: top;\n",
       "    }\n",
       "\n",
       "    .dataframe thead th {\n",
       "        text-align: right;\n",
       "    }\n",
       "</style>\n",
       "<table border=\"1\" class=\"dataframe\">\n",
       "  <thead>\n",
       "    <tr style=\"text-align: right;\">\n",
       "      <th>year</th>\n",
       "      <th>from</th>\n",
       "      <th>to</th>\n",
       "      <th>2017</th>\n",
       "      <th>2022</th>\n",
       "    </tr>\n",
       "  </thead>\n",
       "  <tbody>\n",
       "    <tr>\n",
       "      <th>0</th>\n",
       "      <td>Afghanistan</td>\n",
       "      <td>Albania</td>\n",
       "      <td>0.0</td>\n",
       "      <td>0.0</td>\n",
       "    </tr>\n",
       "    <tr>\n",
       "      <th>1</th>\n",
       "      <td>Afghanistan</td>\n",
       "      <td>Andorra</td>\n",
       "      <td>0.0</td>\n",
       "      <td>0.0</td>\n",
       "    </tr>\n",
       "    <tr>\n",
       "      <th>2</th>\n",
       "      <td>Afghanistan</td>\n",
       "      <td>Argentina</td>\n",
       "      <td>15.0</td>\n",
       "      <td>16.0</td>\n",
       "    </tr>\n",
       "    <tr>\n",
       "      <th>3</th>\n",
       "      <td>Afghanistan</td>\n",
       "      <td>Armenia</td>\n",
       "      <td>0.0</td>\n",
       "      <td>0.0</td>\n",
       "    </tr>\n",
       "    <tr>\n",
       "      <th>4</th>\n",
       "      <td>Afghanistan</td>\n",
       "      <td>Australia</td>\n",
       "      <td>44.0</td>\n",
       "      <td>73.0</td>\n",
       "    </tr>\n",
       "  </tbody>\n",
       "</table>\n",
       "</div>"
      ],
      "text/plain": [
       "year         from         to  2017  2022\n",
       "0     Afghanistan    Albania   0.0   0.0\n",
       "1     Afghanistan    Andorra   0.0   0.0\n",
       "2     Afghanistan  Argentina  15.0  16.0\n",
       "3     Afghanistan    Armenia   0.0   0.0\n",
       "4     Afghanistan  Australia  44.0  73.0"
      ]
     },
     "execution_count": 23,
     "metadata": {},
     "output_type": "execute_result"
    }
   ],
   "source": [
    "countries = total_from_to[total_from_to['year'].isin(['2017','2022'])]\n",
    "countries['year'] = countries['year'].astype(str)\n",
    "countries = countries[countries['from']!=countries['to']]\n",
    "countries = countries.groupby(['year','from','to'])['value'].sum().reset_index()\n",
    "countries = countries.pivot(index=['from','to'], columns='year', values='value').reset_index()\n",
    "countries = countries.fillna(0)\n",
    "# countries = countries[countries['from']!='unknown countries']\n",
    "countries['from'] = countries['from'].apply(lambda x:x.strip())\n",
    "countries['to'] = countries['to'].apply(lambda x:x.strip())\n",
    "countries.head()"
   ]
  },
  {
   "cell_type": "code",
   "execution_count": 26,
   "metadata": {},
   "outputs": [
    {
     "data": {
      "text/html": [
       "<div>\n",
       "<style scoped>\n",
       "    .dataframe tbody tr th:only-of-type {\n",
       "        vertical-align: middle;\n",
       "    }\n",
       "\n",
       "    .dataframe tbody tr th {\n",
       "        vertical-align: top;\n",
       "    }\n",
       "\n",
       "    .dataframe thead th {\n",
       "        text-align: right;\n",
       "    }\n",
       "</style>\n",
       "<table border=\"1\" class=\"dataframe\">\n",
       "  <thead>\n",
       "    <tr style=\"text-align: right;\">\n",
       "      <th></th>\n",
       "      <th>to</th>\n",
       "      <th>2017</th>\n",
       "      <th>2022</th>\n",
       "    </tr>\n",
       "  </thead>\n",
       "  <tbody>\n",
       "    <tr>\n",
       "      <th>0</th>\n",
       "      <td>Albania</td>\n",
       "      <td>0.0</td>\n",
       "      <td>1731.0</td>\n",
       "    </tr>\n",
       "    <tr>\n",
       "      <th>1</th>\n",
       "      <td>Andorra</td>\n",
       "      <td>182.0</td>\n",
       "      <td>0.0</td>\n",
       "    </tr>\n",
       "    <tr>\n",
       "      <th>2</th>\n",
       "      <td>Argentina</td>\n",
       "      <td>86665.0</td>\n",
       "      <td>136259.0</td>\n",
       "    </tr>\n",
       "    <tr>\n",
       "      <th>3</th>\n",
       "      <td>Armenia</td>\n",
       "      <td>4138.0</td>\n",
       "      <td>6635.0</td>\n",
       "    </tr>\n",
       "    <tr>\n",
       "      <th>4</th>\n",
       "      <td>Australia</td>\n",
       "      <td>375140.0</td>\n",
       "      <td>369923.0</td>\n",
       "    </tr>\n",
       "  </tbody>\n",
       "</table>\n",
       "</div>"
      ],
      "text/plain": [
       "          to      2017      2022\n",
       "0    Albania       0.0    1731.0\n",
       "1    Andorra     182.0       0.0\n",
       "2  Argentina   86665.0  136259.0\n",
       "3    Armenia    4138.0    6635.0\n",
       "4  Australia  375140.0  369923.0"
      ]
     },
     "execution_count": 26,
     "metadata": {},
     "output_type": "execute_result"
    }
   ],
   "source": [
    "#Add total inbound students for absent countries where we don't have disctinct values by source countries\n",
    "inbound = pd.merge(countries.groupby(['to'])['2017'].sum().reset_index(),\n",
    "                 countries.groupby(['to'])['2022'].sum().reset_index(),\n",
    "                 on = 'to',\n",
    "                 how='left')\n",
    "inbound.fillna(0,inplace=True)\n",
    "\n",
    "new_data = [\n",
    "    {'to': 'Egypt', '2017': 51162,'2022':69021} #2021 data https://www.statista.com/statistics/1193448/number-of-students-in-higher-education-in-egypt-by-nationality/\n",
    "]\n",
    "new_data_df = pd.DataFrame(new_data)\n",
    "inbound = pd.concat([inbound,new_data_df])\n",
    "\n",
    "inbound.loc[inbound['to']=='Thailand','2017']=43821\n",
    "inbound.loc[inbound['to']=='Mexico','2022']=51659\n",
    "inbound.loc[inbound['to']=='Iran','2022']=94406\n",
    "inbound.loc[inbound['to']=='Ukraine','2022']=50870\n",
    "inbound.loc[inbound['to']=='Cuba','2022']=7773\n",
    "inbound.loc[inbound['to']=='Kazakhstan','2022']=26080 #add values by countries and total, as not every source is known\n",
    "inbound.loc[inbound['to']=='China','2022']=253177\n",
    "inbound.loc[inbound['to']=='China','2017']=489172\n",
    "inbound.loc[inbound['to']=='Netherlands','2022']=122287\n",
    "inbound.head()\n"
   ]
  },
  {
   "cell_type": "code",
   "execution_count": 27,
   "metadata": {},
   "outputs": [
    {
     "data": {
      "text/html": [
       "<div>\n",
       "<style scoped>\n",
       "    .dataframe tbody tr th:only-of-type {\n",
       "        vertical-align: middle;\n",
       "    }\n",
       "\n",
       "    .dataframe tbody tr th {\n",
       "        vertical-align: top;\n",
       "    }\n",
       "\n",
       "    .dataframe thead th {\n",
       "        text-align: right;\n",
       "    }\n",
       "</style>\n",
       "<table border=\"1\" class=\"dataframe\">\n",
       "  <thead>\n",
       "    <tr style=\"text-align: right;\">\n",
       "      <th></th>\n",
       "      <th>2017</th>\n",
       "      <th>2022</th>\n",
       "      <th>2022/2017,%</th>\n",
       "    </tr>\n",
       "  </thead>\n",
       "  <tbody>\n",
       "    <tr>\n",
       "      <th>0</th>\n",
       "      <td>5147503.0</td>\n",
       "      <td>6283374.0</td>\n",
       "      <td>+22</td>\n",
       "    </tr>\n",
       "  </tbody>\n",
       "</table>\n",
       "</div>"
      ],
      "text/plain": [
       "        2017       2022 2022/2017,%\n",
       "0  5147503.0  6283374.0         +22"
      ]
     },
     "execution_count": 27,
     "metadata": {},
     "output_type": "execute_result"
    }
   ],
   "source": [
    "#Этап до удаления нулевых значений. Считаем сумму для каждого года и разницу сумм\n",
    "world = pd.DataFrame({'2017':[inbound['2017'].sum()],'2022':[inbound['2022'].sum()]})\n",
    "world['2022/2017,%'] = round(world['2022']/world['2017']*100,0).astype(int)-100\n",
    "world['2022/2017,%'] = world['2022/2017,%'].apply(lambda x:'+'+str(x) if x>0 else str(x))\n",
    "world\n"
   ]
  },
  {
   "cell_type": "code",
   "execution_count": 28,
   "metadata": {},
   "outputs": [
    {
     "data": {
      "application/vnd.plotly.v1+json": {
       "config": {
        "plotlyServerURL": "https://plot.ly"
       },
       "data": [
        {
         "marker": {
          "color": "blue",
          "line": {
           "color": [
            "blue"
           ],
           "width": 3
          }
         },
         "name": "2017",
         "text": [
          "5.1m"
         ],
         "textfont": {
          "size": 16
         },
         "textposition": "auto",
         "type": "bar",
         "x": [
          0
         ],
         "y": [
          5147503
         ]
        },
        {
         "marker": {
          "color": "green",
          "line": {
           "color": [
            "green"
           ],
           "width": 3
          }
         },
         "name": "2022",
         "text": [
          "6.3m\n(+22%)"
         ],
         "textfont": {
          "size": 16
         },
         "textposition": "auto",
         "type": "bar",
         "x": [
          0
         ],
         "y": [
          6283374
         ]
        }
       ],
       "layout": {
        "barmode": "group",
        "height": 400,
        "plot_bgcolor": "white",
        "template": {
         "data": {
          "bar": [
           {
            "error_x": {
             "color": "#2a3f5f"
            },
            "error_y": {
             "color": "#2a3f5f"
            },
            "marker": {
             "line": {
              "color": "#E5ECF6",
              "width": 0.5
             },
             "pattern": {
              "fillmode": "overlay",
              "size": 10,
              "solidity": 0.2
             }
            },
            "type": "bar"
           }
          ],
          "barpolar": [
           {
            "marker": {
             "line": {
              "color": "#E5ECF6",
              "width": 0.5
             },
             "pattern": {
              "fillmode": "overlay",
              "size": 10,
              "solidity": 0.2
             }
            },
            "type": "barpolar"
           }
          ],
          "carpet": [
           {
            "aaxis": {
             "endlinecolor": "#2a3f5f",
             "gridcolor": "white",
             "linecolor": "white",
             "minorgridcolor": "white",
             "startlinecolor": "#2a3f5f"
            },
            "baxis": {
             "endlinecolor": "#2a3f5f",
             "gridcolor": "white",
             "linecolor": "white",
             "minorgridcolor": "white",
             "startlinecolor": "#2a3f5f"
            },
            "type": "carpet"
           }
          ],
          "choropleth": [
           {
            "colorbar": {
             "outlinewidth": 0,
             "ticks": ""
            },
            "type": "choropleth"
           }
          ],
          "contour": [
           {
            "colorbar": {
             "outlinewidth": 0,
             "ticks": ""
            },
            "colorscale": [
             [
              0,
              "#0d0887"
             ],
             [
              0.1111111111111111,
              "#46039f"
             ],
             [
              0.2222222222222222,
              "#7201a8"
             ],
             [
              0.3333333333333333,
              "#9c179e"
             ],
             [
              0.4444444444444444,
              "#bd3786"
             ],
             [
              0.5555555555555556,
              "#d8576b"
             ],
             [
              0.6666666666666666,
              "#ed7953"
             ],
             [
              0.7777777777777778,
              "#fb9f3a"
             ],
             [
              0.8888888888888888,
              "#fdca26"
             ],
             [
              1,
              "#f0f921"
             ]
            ],
            "type": "contour"
           }
          ],
          "contourcarpet": [
           {
            "colorbar": {
             "outlinewidth": 0,
             "ticks": ""
            },
            "type": "contourcarpet"
           }
          ],
          "heatmap": [
           {
            "colorbar": {
             "outlinewidth": 0,
             "ticks": ""
            },
            "colorscale": [
             [
              0,
              "#0d0887"
             ],
             [
              0.1111111111111111,
              "#46039f"
             ],
             [
              0.2222222222222222,
              "#7201a8"
             ],
             [
              0.3333333333333333,
              "#9c179e"
             ],
             [
              0.4444444444444444,
              "#bd3786"
             ],
             [
              0.5555555555555556,
              "#d8576b"
             ],
             [
              0.6666666666666666,
              "#ed7953"
             ],
             [
              0.7777777777777778,
              "#fb9f3a"
             ],
             [
              0.8888888888888888,
              "#fdca26"
             ],
             [
              1,
              "#f0f921"
             ]
            ],
            "type": "heatmap"
           }
          ],
          "heatmapgl": [
           {
            "colorbar": {
             "outlinewidth": 0,
             "ticks": ""
            },
            "colorscale": [
             [
              0,
              "#0d0887"
             ],
             [
              0.1111111111111111,
              "#46039f"
             ],
             [
              0.2222222222222222,
              "#7201a8"
             ],
             [
              0.3333333333333333,
              "#9c179e"
             ],
             [
              0.4444444444444444,
              "#bd3786"
             ],
             [
              0.5555555555555556,
              "#d8576b"
             ],
             [
              0.6666666666666666,
              "#ed7953"
             ],
             [
              0.7777777777777778,
              "#fb9f3a"
             ],
             [
              0.8888888888888888,
              "#fdca26"
             ],
             [
              1,
              "#f0f921"
             ]
            ],
            "type": "heatmapgl"
           }
          ],
          "histogram": [
           {
            "marker": {
             "pattern": {
              "fillmode": "overlay",
              "size": 10,
              "solidity": 0.2
             }
            },
            "type": "histogram"
           }
          ],
          "histogram2d": [
           {
            "colorbar": {
             "outlinewidth": 0,
             "ticks": ""
            },
            "colorscale": [
             [
              0,
              "#0d0887"
             ],
             [
              0.1111111111111111,
              "#46039f"
             ],
             [
              0.2222222222222222,
              "#7201a8"
             ],
             [
              0.3333333333333333,
              "#9c179e"
             ],
             [
              0.4444444444444444,
              "#bd3786"
             ],
             [
              0.5555555555555556,
              "#d8576b"
             ],
             [
              0.6666666666666666,
              "#ed7953"
             ],
             [
              0.7777777777777778,
              "#fb9f3a"
             ],
             [
              0.8888888888888888,
              "#fdca26"
             ],
             [
              1,
              "#f0f921"
             ]
            ],
            "type": "histogram2d"
           }
          ],
          "histogram2dcontour": [
           {
            "colorbar": {
             "outlinewidth": 0,
             "ticks": ""
            },
            "colorscale": [
             [
              0,
              "#0d0887"
             ],
             [
              0.1111111111111111,
              "#46039f"
             ],
             [
              0.2222222222222222,
              "#7201a8"
             ],
             [
              0.3333333333333333,
              "#9c179e"
             ],
             [
              0.4444444444444444,
              "#bd3786"
             ],
             [
              0.5555555555555556,
              "#d8576b"
             ],
             [
              0.6666666666666666,
              "#ed7953"
             ],
             [
              0.7777777777777778,
              "#fb9f3a"
             ],
             [
              0.8888888888888888,
              "#fdca26"
             ],
             [
              1,
              "#f0f921"
             ]
            ],
            "type": "histogram2dcontour"
           }
          ],
          "mesh3d": [
           {
            "colorbar": {
             "outlinewidth": 0,
             "ticks": ""
            },
            "type": "mesh3d"
           }
          ],
          "parcoords": [
           {
            "line": {
             "colorbar": {
              "outlinewidth": 0,
              "ticks": ""
             }
            },
            "type": "parcoords"
           }
          ],
          "pie": [
           {
            "automargin": true,
            "type": "pie"
           }
          ],
          "scatter": [
           {
            "fillpattern": {
             "fillmode": "overlay",
             "size": 10,
             "solidity": 0.2
            },
            "type": "scatter"
           }
          ],
          "scatter3d": [
           {
            "line": {
             "colorbar": {
              "outlinewidth": 0,
              "ticks": ""
             }
            },
            "marker": {
             "colorbar": {
              "outlinewidth": 0,
              "ticks": ""
             }
            },
            "type": "scatter3d"
           }
          ],
          "scattercarpet": [
           {
            "marker": {
             "colorbar": {
              "outlinewidth": 0,
              "ticks": ""
             }
            },
            "type": "scattercarpet"
           }
          ],
          "scattergeo": [
           {
            "marker": {
             "colorbar": {
              "outlinewidth": 0,
              "ticks": ""
             }
            },
            "type": "scattergeo"
           }
          ],
          "scattergl": [
           {
            "marker": {
             "colorbar": {
              "outlinewidth": 0,
              "ticks": ""
             }
            },
            "type": "scattergl"
           }
          ],
          "scattermapbox": [
           {
            "marker": {
             "colorbar": {
              "outlinewidth": 0,
              "ticks": ""
             }
            },
            "type": "scattermapbox"
           }
          ],
          "scatterpolar": [
           {
            "marker": {
             "colorbar": {
              "outlinewidth": 0,
              "ticks": ""
             }
            },
            "type": "scatterpolar"
           }
          ],
          "scatterpolargl": [
           {
            "marker": {
             "colorbar": {
              "outlinewidth": 0,
              "ticks": ""
             }
            },
            "type": "scatterpolargl"
           }
          ],
          "scatterternary": [
           {
            "marker": {
             "colorbar": {
              "outlinewidth": 0,
              "ticks": ""
             }
            },
            "type": "scatterternary"
           }
          ],
          "surface": [
           {
            "colorbar": {
             "outlinewidth": 0,
             "ticks": ""
            },
            "colorscale": [
             [
              0,
              "#0d0887"
             ],
             [
              0.1111111111111111,
              "#46039f"
             ],
             [
              0.2222222222222222,
              "#7201a8"
             ],
             [
              0.3333333333333333,
              "#9c179e"
             ],
             [
              0.4444444444444444,
              "#bd3786"
             ],
             [
              0.5555555555555556,
              "#d8576b"
             ],
             [
              0.6666666666666666,
              "#ed7953"
             ],
             [
              0.7777777777777778,
              "#fb9f3a"
             ],
             [
              0.8888888888888888,
              "#fdca26"
             ],
             [
              1,
              "#f0f921"
             ]
            ],
            "type": "surface"
           }
          ],
          "table": [
           {
            "cells": {
             "fill": {
              "color": "#EBF0F8"
             },
             "line": {
              "color": "white"
             }
            },
            "header": {
             "fill": {
              "color": "#C8D4E3"
             },
             "line": {
              "color": "white"
             }
            },
            "type": "table"
           }
          ]
         },
         "layout": {
          "annotationdefaults": {
           "arrowcolor": "#2a3f5f",
           "arrowhead": 0,
           "arrowwidth": 1
          },
          "autotypenumbers": "strict",
          "coloraxis": {
           "colorbar": {
            "outlinewidth": 0,
            "ticks": ""
           }
          },
          "colorscale": {
           "diverging": [
            [
             0,
             "#8e0152"
            ],
            [
             0.1,
             "#c51b7d"
            ],
            [
             0.2,
             "#de77ae"
            ],
            [
             0.3,
             "#f1b6da"
            ],
            [
             0.4,
             "#fde0ef"
            ],
            [
             0.5,
             "#f7f7f7"
            ],
            [
             0.6,
             "#e6f5d0"
            ],
            [
             0.7,
             "#b8e186"
            ],
            [
             0.8,
             "#7fbc41"
            ],
            [
             0.9,
             "#4d9221"
            ],
            [
             1,
             "#276419"
            ]
           ],
           "sequential": [
            [
             0,
             "#0d0887"
            ],
            [
             0.1111111111111111,
             "#46039f"
            ],
            [
             0.2222222222222222,
             "#7201a8"
            ],
            [
             0.3333333333333333,
             "#9c179e"
            ],
            [
             0.4444444444444444,
             "#bd3786"
            ],
            [
             0.5555555555555556,
             "#d8576b"
            ],
            [
             0.6666666666666666,
             "#ed7953"
            ],
            [
             0.7777777777777778,
             "#fb9f3a"
            ],
            [
             0.8888888888888888,
             "#fdca26"
            ],
            [
             1,
             "#f0f921"
            ]
           ],
           "sequentialminus": [
            [
             0,
             "#0d0887"
            ],
            [
             0.1111111111111111,
             "#46039f"
            ],
            [
             0.2222222222222222,
             "#7201a8"
            ],
            [
             0.3333333333333333,
             "#9c179e"
            ],
            [
             0.4444444444444444,
             "#bd3786"
            ],
            [
             0.5555555555555556,
             "#d8576b"
            ],
            [
             0.6666666666666666,
             "#ed7953"
            ],
            [
             0.7777777777777778,
             "#fb9f3a"
            ],
            [
             0.8888888888888888,
             "#fdca26"
            ],
            [
             1,
             "#f0f921"
            ]
           ]
          },
          "colorway": [
           "#636efa",
           "#EF553B",
           "#00cc96",
           "#ab63fa",
           "#FFA15A",
           "#19d3f3",
           "#FF6692",
           "#B6E880",
           "#FF97FF",
           "#FECB52"
          ],
          "font": {
           "color": "#2a3f5f"
          },
          "geo": {
           "bgcolor": "white",
           "lakecolor": "white",
           "landcolor": "#E5ECF6",
           "showlakes": true,
           "showland": true,
           "subunitcolor": "white"
          },
          "hoverlabel": {
           "align": "left"
          },
          "hovermode": "closest",
          "mapbox": {
           "style": "light"
          },
          "paper_bgcolor": "white",
          "plot_bgcolor": "#E5ECF6",
          "polar": {
           "angularaxis": {
            "gridcolor": "white",
            "linecolor": "white",
            "ticks": ""
           },
           "bgcolor": "#E5ECF6",
           "radialaxis": {
            "gridcolor": "white",
            "linecolor": "white",
            "ticks": ""
           }
          },
          "scene": {
           "xaxis": {
            "backgroundcolor": "#E5ECF6",
            "gridcolor": "white",
            "gridwidth": 2,
            "linecolor": "white",
            "showbackground": true,
            "ticks": "",
            "zerolinecolor": "white"
           },
           "yaxis": {
            "backgroundcolor": "#E5ECF6",
            "gridcolor": "white",
            "gridwidth": 2,
            "linecolor": "white",
            "showbackground": true,
            "ticks": "",
            "zerolinecolor": "white"
           },
           "zaxis": {
            "backgroundcolor": "#E5ECF6",
            "gridcolor": "white",
            "gridwidth": 2,
            "linecolor": "white",
            "showbackground": true,
            "ticks": "",
            "zerolinecolor": "white"
           }
          },
          "shapedefaults": {
           "line": {
            "color": "#2a3f5f"
           }
          },
          "ternary": {
           "aaxis": {
            "gridcolor": "white",
            "linecolor": "white",
            "ticks": ""
           },
           "baxis": {
            "gridcolor": "white",
            "linecolor": "white",
            "ticks": ""
           },
           "bgcolor": "#E5ECF6",
           "caxis": {
            "gridcolor": "white",
            "linecolor": "white",
            "ticks": ""
           }
          },
          "title": {
           "x": 0.05
          },
          "xaxis": {
           "automargin": true,
           "gridcolor": "white",
           "linecolor": "white",
           "ticks": "",
           "title": {
            "standoff": 15
           },
           "zerolinecolor": "white",
           "zerolinewidth": 2
          },
          "yaxis": {
           "automargin": true,
           "gridcolor": "white",
           "linecolor": "white",
           "ticks": "",
           "title": {
            "standoff": 15
           },
           "zerolinecolor": "white",
           "zerolinewidth": 2
          }
         }
        },
        "title": {
         "text": "Входящий поток иностранных студентов по группам стран с 2017 по 2022 г."
        },
        "width": 600,
        "yaxis": {
         "title": {
          "text": "Число студентов, тыс."
         }
        }
       }
      }
     },
     "metadata": {},
     "output_type": "display_data"
    },
    {
     "name": "stdout",
     "output_type": "stream",
     "text": [
      "        2017       2022 2022/2017,%\n",
      "0  5147503.0  6283374.0         +22\n"
     ]
    }
   ],
   "source": [
    "\n",
    "fig = go.Figure()\n",
    "trace1 = go.Bar(x=world.index,\n",
    "    y=world['2017'],\n",
    "    name=f'2017',\n",
    "    text=[f\"{value/1000000:.1f}m\" if value < 1000 else f\"{value/1000000:.1f}m\" for value in world['2017']],  # Value labels in thousands\n",
    "    textposition='auto',\n",
    "    textfont=dict(size=16),\n",
    "    marker_color='blue',\n",
    "    marker_line=dict(width=3, color=['red' if country == 'Russia' else 'blue' for country in world.index]) \n",
    "    )\n",
    "trace2 = go.Bar(x=world.index,\n",
    "    y=world['2022'],\n",
    "    name=f'2022',\n",
    "    text=[f\"{value/1000000:.1f}m\\n({world['2022/2017,%'].values[j]}%)\" if value < 1000 \n",
    "          else f\"{value/1000000:.1f}m\\n({world['2022/2017,%'].values[j]}%)\" for j, value in enumerate(world['2022'])],  # Value labels in thousands\n",
    "    textposition='auto',\n",
    "    textfont=dict(size=16),\n",
    "    marker_color='green',\n",
    "    marker_line=dict(width=3, color=['red' if country == 'Russia' else 'green' for country in world.index]) \n",
    "    )\n",
    "\n",
    "fig.add_trace(trace1)\n",
    "fig.add_trace(trace2)\n",
    "fig.update_layout(\n",
    "    title='Входящий поток иностранных студентов по группам стран с 2017 по 2022 г.',\n",
    "    # xaxis_title='Country',\n",
    "    yaxis_title='Число студентов, тыс.',\n",
    "    barmode='group',  # Group bars together\n",
    "    height=400,\n",
    "    width=600,\n",
    "    plot_bgcolor='white'\n",
    ")\n",
    "# for i in range(1, num_rows + 1):\n",
    "#     for j in range(1, num_cols + 1):\n",
    "#         fig.update_xaxes(tickangle=45, row=i, col=j)\n",
    "#         fig.update_yaxes(gridcolor='lightgrey', row=i, col=j)\n",
    "pio.write_image(fig, \"Число иностранных студентов в мире 2017 и 2022.png\")\n",
    "fig.show()\n",
    "print(world)"
   ]
  },
  {
   "cell_type": "code",
   "execution_count": 29,
   "metadata": {},
   "outputs": [
    {
     "name": "stderr",
     "output_type": "stream",
     "text": [
      "C:\\Users\\yuliy\\AppData\\Local\\Temp\\ipykernel_20200\\1757706485.py:4: SettingWithCopyWarning:\n",
      "\n",
      "\n",
      "A value is trying to be set on a copy of a slice from a DataFrame.\n",
      "Try using .loc[row_indexer,col_indexer] = value instead\n",
      "\n",
      "See the caveats in the documentation: https://pandas.pydata.org/pandas-docs/stable/user_guide/indexing.html#returning-a-view-versus-a-copy\n",
      "\n",
      "C:\\Users\\yuliy\\AppData\\Local\\Temp\\ipykernel_20200\\1757706485.py:14: SettingWithCopyWarning:\n",
      "\n",
      "\n",
      "A value is trying to be set on a copy of a slice from a DataFrame.\n",
      "Try using .loc[row_indexer,col_indexer] = value instead\n",
      "\n",
      "See the caveats in the documentation: https://pandas.pydata.org/pandas-docs/stable/user_guide/indexing.html#returning-a-view-versus-a-copy\n",
      "\n"
     ]
    },
    {
     "data": {
      "text/html": [
       "<div>\n",
       "<style scoped>\n",
       "    .dataframe tbody tr th:only-of-type {\n",
       "        vertical-align: middle;\n",
       "    }\n",
       "\n",
       "    .dataframe tbody tr th {\n",
       "        vertical-align: top;\n",
       "    }\n",
       "\n",
       "    .dataframe thead th {\n",
       "        text-align: right;\n",
       "    }\n",
       "</style>\n",
       "<table border=\"1\" class=\"dataframe\">\n",
       "  <thead>\n",
       "    <tr style=\"text-align: right;\">\n",
       "      <th></th>\n",
       "      <th>2017</th>\n",
       "      <th>2022</th>\n",
       "      <th>2022/2017,%</th>\n",
       "      <th>group</th>\n",
       "    </tr>\n",
       "    <tr>\n",
       "      <th>to</th>\n",
       "      <th></th>\n",
       "      <th></th>\n",
       "      <th></th>\n",
       "      <th></th>\n",
       "    </tr>\n",
       "  </thead>\n",
       "  <tbody>\n",
       "    <tr>\n",
       "      <th>USA</th>\n",
       "      <td>984170.0</td>\n",
       "      <td>1035161.0</td>\n",
       "      <td>+5</td>\n",
       "      <td>Больше 100 тыс.</td>\n",
       "    </tr>\n",
       "    <tr>\n",
       "      <th>United Kingdom</th>\n",
       "      <td>435389.0</td>\n",
       "      <td>674440.0</td>\n",
       "      <td>+55</td>\n",
       "      <td>Больше 100 тыс.</td>\n",
       "    </tr>\n",
       "    <tr>\n",
       "      <th>Germany</th>\n",
       "      <td>241497.0</td>\n",
       "      <td>374226.0</td>\n",
       "      <td>+55</td>\n",
       "      <td>Больше 100 тыс.</td>\n",
       "    </tr>\n",
       "    <tr>\n",
       "      <th>Australia</th>\n",
       "      <td>375140.0</td>\n",
       "      <td>369923.0</td>\n",
       "      <td>-1</td>\n",
       "      <td>Больше 100 тыс.</td>\n",
       "    </tr>\n",
       "    <tr>\n",
       "      <th>Canada</th>\n",
       "      <td>205816.0</td>\n",
       "      <td>336504.0</td>\n",
       "      <td>+63</td>\n",
       "      <td>Больше 100 тыс.</td>\n",
       "    </tr>\n",
       "  </tbody>\n",
       "</table>\n",
       "</div>"
      ],
      "text/plain": [
       "                    2017       2022 2022/2017,%            group\n",
       "to                                                              \n",
       "USA             984170.0  1035161.0          +5  Больше 100 тыс.\n",
       "United Kingdom  435389.0   674440.0         +55  Больше 100 тыс.\n",
       "Germany         241497.0   374226.0         +55  Больше 100 тыс.\n",
       "Australia       375140.0   369923.0          -1  Больше 100 тыс.\n",
       "Canada          205816.0   336504.0         +63  Больше 100 тыс."
      ]
     },
     "execution_count": 29,
     "metadata": {},
     "output_type": "execute_result"
    }
   ],
   "source": [
    "#возвращаемся к страновому разрезу, удаляем нулевые строки, считаем динамику и рисуем чарт\n",
    "inbound_no_zero = inbound[(inbound['2017'] != 0) & (inbound['2022'] != 0)]\n",
    "\n",
    "inbound_no_zero['2022/2017,%'] = inbound_no_zero.apply(\n",
    "    lambda row: int(round(row['2022'] / row['2017'] * 100, 0)) - 100\n",
    "    if row['2022'] != 0 and row['2017'] != 0 else None,\n",
    "    axis=1\n",
    ")\n",
    "\n",
    "\n",
    "# inbound_no_zero['2022/2017,%'] = inbound_no_zero['2022/2017,%'].apply(lambda x: int(x) if x is not None else None)\n",
    "\n",
    "# # Format the output to add '+' sign for positive values\n",
    "inbound_no_zero['2022/2017,%'] = inbound_no_zero['2022/2017,%'].apply(lambda x: '+' + str(x) if x > 0 else str(x))\n",
    "\n",
    "#shorten the countries list\n",
    "inbound_no_zero = inbound_no_zero[inbound_no_zero['2022']>5000]\n",
    "\n",
    "#And assign groups to make understandable charts\n",
    "def group(x):\n",
    "    if x<20000:\n",
    "        group_name = '5-20 тыс.'\n",
    "    elif 20000<=x<50000:\n",
    "        group_name = '20-50 тыс.'\n",
    "    elif 50000<=x<100000:\n",
    "        group_name = '50-100 тыс.'\n",
    "    else:\n",
    "        group_name = 'Больше 100 тыс.'\n",
    "    return group_name\n",
    "inbound_no_zero['group'] = inbound_no_zero['2022'].apply(lambda x: group(x))\n",
    "inbound_no_zero.set_index('to', inplace=True)\n",
    "inbound_no_zero = inbound_no_zero.sort_values(by='2022',ascending=False)\n",
    "inbound_no_zero.head()"
   ]
  },
  {
   "cell_type": "markdown",
   "metadata": {},
   "source": [
    "Inbound students"
   ]
  },
  {
   "cell_type": "code",
   "execution_count": 30,
   "metadata": {},
   "outputs": [
    {
     "data": {
      "application/vnd.plotly.v1+json": {
       "config": {
        "plotlyServerURL": "https://plot.ly"
       },
       "data": [
        {
         "marker": {
          "color": "blue",
          "line": {
           "color": [
            "blue",
            "blue",
            "blue",
            "blue",
            "blue",
            "red",
            "blue",
            "blue",
            "blue",
            "blue",
            "blue",
            "blue"
           ],
           "width": 3
          }
         },
         "name": "2017 - Group Больше 100 тыс.",
         "text": [
          "984k",
          "435k",
          "241k",
          "375k",
          "205k",
          "211k",
          "243k",
          "489k",
          "107k",
          "86k",
          "70k",
          "73k"
         ],
         "textfont": {
          "size": 16
         },
         "textposition": "auto",
         "type": "bar",
         "x": [
          "USA",
          "United Kingdom",
          "Germany",
          "Australia",
          "Canada",
          "Russia",
          "France",
          "China",
          "Turkey",
          "Argentina",
          "Republic of Korea",
          "Netherlands"
         ],
         "xaxis": "x",
         "y": [
          984170,
          435389,
          241497,
          375140,
          205816,
          211369,
          243436,
          489172,
          107035,
          86665,
          70767,
          73304
         ],
         "yaxis": "y"
        },
        {
         "marker": {
          "color": "green",
          "line": {
           "color": [
            "green",
            "green",
            "green",
            "green",
            "green",
            "red",
            "green",
            "green",
            "green",
            "green",
            "green",
            "green"
           ],
           "width": 3
          }
         },
         "name": "2022 - Group Больше 100 тыс.",
         "text": [
          "1035k\n(+5%)",
          "674k\n(+55%)",
          "374k\n(+55%)",
          "369k\n(-1%)",
          "336k\n(+63%)",
          "334k\n(+58%)",
          "259k\n(+7%)",
          "253k\n(-48%)",
          "239k\n(+124%)",
          "136k\n(+57%)",
          "123k\n(+74%)",
          "122k\n(+67%)"
         ],
         "textfont": {
          "size": 16
         },
         "textposition": "auto",
         "type": "bar",
         "x": [
          "USA",
          "United Kingdom",
          "Germany",
          "Australia",
          "Canada",
          "Russia",
          "France",
          "China",
          "Turkey",
          "Argentina",
          "Republic of Korea",
          "Netherlands"
         ],
         "xaxis": "x",
         "y": [
          1035161,
          674440,
          374226,
          369923,
          336504,
          334707,
          259989,
          253177,
          239625,
          136259,
          123235,
          122287
         ],
         "yaxis": "y"
        },
        {
         "marker": {
          "color": "blue",
          "line": {
           "color": [
            "blue",
            "blue",
            "blue",
            "blue",
            "blue",
            "blue",
            "blue",
            "blue",
            "blue",
            "blue",
            "blue",
            "blue",
            "blue",
            "blue",
            "blue",
            "blue"
           ],
           "width": 3
          }
         },
         "name": "2017 - Group 50-100 тыс.",
         "text": [
          "98k",
          "20k",
          "64k",
          "71k",
          "71k",
          "63k",
          "97k",
          "15k",
          "51k",
          "75k",
          "50k",
          "44k",
          "32k",
          "13k",
          "51k",
          "38k"
         ],
         "textfont": {
          "size": 16
         },
         "textposition": "auto",
         "type": "bar",
         "x": [
          "Malaysia",
          "Iran",
          "Spain",
          "Japan",
          "Austria",
          "Poland",
          "Italy",
          "Kyrgyzstan",
          "Egypt",
          "Saudi Arabia",
          "Switzerland",
          "Czechia",
          "Hong Kong",
          "Mexico",
          "Ukraine",
          "Belgium"
         ],
         "xaxis": "x2",
         "y": [
          98031,
          20072,
          64702,
          71792,
          71967,
          63902,
          97276,
          15149,
          51162,
          75972,
          50537,
          44113,
          32953,
          13415,
          51881,
          38511
         ],
         "yaxis": "y2"
        },
        {
         "marker": {
          "color": "green",
          "line": {
           "color": [
            "green",
            "green",
            "green",
            "green",
            "green",
            "green",
            "green",
            "green",
            "green",
            "green",
            "green",
            "green",
            "green",
            "green",
            "green",
            "green"
           ],
           "width": 3
          }
         },
         "name": "2022 - Group 50-100 тыс.",
         "text": [
          "98k\n(+1%)",
          "94k\n(+370%)",
          "91k\n(+41%)",
          "89k\n(+25%)",
          "83k\n(+16%)",
          "82k\n(+29%)",
          "81k\n(-16%)",
          "80k\n(+428%)",
          "69k\n(+35%)",
          "62k\n(-18%)",
          "61k\n(+23%)",
          "53k\n(+20%)",
          "52k\n(+61%)",
          "51k\n(+285%)",
          "50k\n(-2%)",
          "50k\n(+31%)"
         ],
         "textfont": {
          "size": 16
         },
         "textposition": "auto",
         "type": "bar",
         "x": [
          "Malaysia",
          "Iran",
          "Spain",
          "Japan",
          "Austria",
          "Poland",
          "Italy",
          "Kyrgyzstan",
          "Egypt",
          "Saudi Arabia",
          "Switzerland",
          "Czechia",
          "Hong Kong",
          "Mexico",
          "Ukraine",
          "Belgium"
         ],
         "xaxis": "x2",
         "y": [
          98640,
          94406,
          91352,
          89721,
          83273,
          82471,
          81565,
          80012,
          69021,
          62443,
          61911,
          53149,
          52974,
          51659,
          50870,
          50481
         ],
         "yaxis": "y2"
        },
        {
         "marker": {
          "color": "blue",
          "line": {
           "color": [
            "blue",
            "blue",
            "blue",
            "blue",
            "blue",
            "blue",
            "blue",
            "blue",
            "blue",
            "blue",
            "blue",
            "blue",
            "blue",
            "blue",
            "blue",
            "blue",
            "blue",
            "blue"
           ],
           "width": 3
          }
         },
         "name": "2017 - Group 20-50 тыс.",
         "text": [
          "22k",
          "44k",
          "28k",
          "38k",
          "27k",
          "33k",
          "41k",
          "14k",
          "18k",
          "43k",
          "22k",
          "13k",
          "16k",
          "52k",
          "19k",
          "20k",
          "19k",
          "19k"
         ],
         "textfont": {
          "size": 16
         },
         "textposition": "auto",
         "type": "bar",
         "x": [
          "Portugal",
          "India",
          "Hungary",
          "Jordan",
          "Romania",
          "Denmark",
          "South Africa",
          "Macao",
          "Ireland",
          "Thailand",
          "Sweden",
          "Kazakhstan",
          "Belarus",
          "New Zealand",
          "Finland",
          "Brazil",
          "Greece",
          "Morocco"
         ],
         "xaxis": "x3",
         "y": [
          22183,
          44630,
          28594,
          38873,
          27433,
          33588,
          41157,
          14821,
          18524,
          43821,
          22569,
          13850,
          16622,
          52642,
          19836,
          20576,
          19410,
          19988
         ],
         "yaxis": "y3"
        },
        {
         "marker": {
          "color": "green",
          "line": {
           "color": [
            "green",
            "green",
            "green",
            "green",
            "green",
            "green",
            "green",
            "green",
            "green",
            "green",
            "green",
            "green",
            "green",
            "green",
            "green",
            "green",
            "green",
            "green"
           ],
           "width": 3
          }
         },
         "name": "2022 - Group 20-50 тыс.",
         "text": [
          "49k\n(+125%)",
          "45k\n(+1%)",
          "40k\n(+41%)",
          "38k\n(0%)",
          "34k\n(+27%)",
          "31k\n(-7%)",
          "29k\n(-29%)",
          "28k\n(+91%)",
          "27k\n(+46%)",
          "26k\n(-40%)",
          "26k\n(+16%)",
          "26k\n(+88%)",
          "25k\n(+54%)",
          "25k\n(-52%)",
          "24k\n(+21%)",
          "23k\n(+16%)",
          "23k\n(+22%)",
          "22k\n(+10%)"
         ],
         "textfont": {
          "size": 16
         },
         "textposition": "auto",
         "type": "bar",
         "x": [
          "Portugal",
          "India",
          "Hungary",
          "Jordan",
          "Romania",
          "Denmark",
          "South Africa",
          "Macao",
          "Ireland",
          "Thailand",
          "Sweden",
          "Kazakhstan",
          "Belarus",
          "New Zealand",
          "Finland",
          "Brazil",
          "Greece",
          "Morocco"
         ],
         "xaxis": "x3",
         "y": [
          49905,
          45270,
          40202,
          38760,
          34733,
          31372,
          29178,
          28263,
          27083,
          26266,
          26094,
          26080,
          25606,
          25362,
          24078,
          23857,
          23627,
          22025
         ],
         "yaxis": "y3"
        },
        {
         "marker": {
          "color": "blue",
          "line": {
           "color": [
            "blue",
            "blue",
            "blue",
            "blue",
            "blue",
            "blue",
            "blue",
            "blue",
            "blue",
            "blue",
            "blue",
            "blue",
            "blue",
            "blue",
            "blue",
            "blue",
            "blue",
            "blue",
            "blue",
            "blue",
            "blue",
            "blue",
            "blue",
            "blue",
            "blue",
            "blue",
            "blue"
           ],
           "width": 3
          }
         },
         "name": "2017 - Group 5-20 тыс.",
         "text": [
          "13k",
          "7k",
          "4k",
          "10k",
          "13k",
          "10k",
          "8k",
          "11k",
          "10k",
          "6k",
          "4k",
          "6k",
          "3k",
          "10k",
          "4k",
          "3k",
          "4k",
          "9k",
          "4k",
          "4k",
          "3k",
          "7k",
          "5k",
          "0.5k",
          "4k",
          "12k",
          "3k"
         ],
         "textfont": {
          "size": 16
         },
         "textposition": "auto",
         "type": "bar",
         "x": [
          "Bulgaria",
          "Georgia",
          "Chile",
          "Slovakia",
          "Senegal",
          "Qatar",
          "Norway",
          "Serbia",
          "Cyprus",
          "Latvia",
          "Lithuania",
          "Tunisia",
          "Cameroon",
          "Cuba",
          "Viet Nam",
          "Slovenia",
          "Armenia",
          "Dominican Republic",
          "Azerbaijan",
          "Croatia",
          "Moldova",
          "Bosnia and Herzegovina",
          "Bahrain",
          "Uzbekistan",
          "Colombia",
          "Ghana",
          "Estonia"
         ],
         "xaxis": "x4",
         "y": [
          13744,
          7794,
          4481,
          10761,
          13431,
          10305,
          8660,
          11617,
          10444,
          6127,
          4529,
          6281,
          3941,
          10629,
          4125,
          3086,
          4138,
          9070,
          4264,
          4776,
          3952,
          7264,
          5488,
          524,
          4466,
          12960,
          3907
         ],
         "yaxis": "y4"
        },
        {
         "marker": {
          "color": "green",
          "line": {
           "color": [
            "green",
            "green",
            "green",
            "green",
            "green",
            "green",
            "green",
            "green",
            "green",
            "green",
            "green",
            "green",
            "green",
            "green",
            "green",
            "green",
            "green",
            "green",
            "green",
            "green",
            "green",
            "green",
            "green",
            "green",
            "green",
            "green",
            "green"
           ],
           "width": 3
          }
         },
         "name": "2022 - Group 5-20 тыс.",
         "text": [
          "19k\n(+39%)",
          "17k\n(+121%)",
          "16k\n(+279%)",
          "16k\n(+55%)",
          "16k\n(+20%)",
          "15k\n(+53%)",
          "12k\n(+49%)",
          "11k\n(-3%)",
          "10k\n(+3%)",
          "9k\n(+60%)",
          "9k\n(+102%)",
          "8k\n(+37%)",
          "8k\n(+116%)",
          "7k\n(-27%)",
          "7k\n(+88%)",
          "7k\n(+150%)",
          "6k\n(+60%)",
          "6k\n(-27%)",
          "6k\n(+49%)",
          "5k\n(+20%)",
          "5k\n(+44%)",
          "5k\n(-22%)",
          "5k\n(+2%)",
          "5k\n(+950%)",
          "5k\n(+21%)",
          "5k\n(-59%)",
          "5k\n(+29%)"
         ],
         "textfont": {
          "size": 16
         },
         "textposition": "auto",
         "type": "bar",
         "x": [
          "Bulgaria",
          "Georgia",
          "Chile",
          "Slovakia",
          "Senegal",
          "Qatar",
          "Norway",
          "Serbia",
          "Cyprus",
          "Latvia",
          "Lithuania",
          "Tunisia",
          "Cameroon",
          "Cuba",
          "Viet Nam",
          "Slovenia",
          "Armenia",
          "Dominican Republic",
          "Azerbaijan",
          "Croatia",
          "Moldova",
          "Bosnia and Herzegovina",
          "Bahrain",
          "Uzbekistan",
          "Colombia",
          "Ghana",
          "Estonia"
         ],
         "xaxis": "x4",
         "y": [
          19157,
          17202,
          16970,
          16690,
          16053,
          15743,
          12933,
          11223,
          10723,
          9809,
          9127,
          8619,
          8499,
          7773,
          7759,
          7728,
          6635,
          6616,
          6363,
          5726,
          5706,
          5673,
          5623,
          5502,
          5399,
          5374,
          5048
         ],
         "yaxis": "y4"
        }
       ],
       "layout": {
        "annotations": [
         {
          "font": {
           "size": 16
          },
          "showarrow": false,
          "text": "Больше 100 тыс.",
          "x": 0.225,
          "xanchor": "center",
          "xref": "paper",
          "y": 1,
          "yanchor": "bottom",
          "yref": "paper"
         },
         {
          "font": {
           "size": 16
          },
          "showarrow": false,
          "text": "50-100 тыс.",
          "x": 0.775,
          "xanchor": "center",
          "xref": "paper",
          "y": 1,
          "yanchor": "bottom",
          "yref": "paper"
         },
         {
          "font": {
           "size": 16
          },
          "showarrow": false,
          "text": "20-50 тыс.",
          "x": 0.225,
          "xanchor": "center",
          "xref": "paper",
          "y": 0.375,
          "yanchor": "bottom",
          "yref": "paper"
         },
         {
          "font": {
           "size": 16
          },
          "showarrow": false,
          "text": "5-20 тыс.",
          "x": 0.775,
          "xanchor": "center",
          "xref": "paper",
          "y": 0.375,
          "yanchor": "bottom",
          "yref": "paper"
         }
        ],
        "barmode": "group",
        "height": 1400,
        "plot_bgcolor": "white",
        "template": {
         "data": {
          "bar": [
           {
            "error_x": {
             "color": "#2a3f5f"
            },
            "error_y": {
             "color": "#2a3f5f"
            },
            "marker": {
             "line": {
              "color": "#E5ECF6",
              "width": 0.5
             },
             "pattern": {
              "fillmode": "overlay",
              "size": 10,
              "solidity": 0.2
             }
            },
            "type": "bar"
           }
          ],
          "barpolar": [
           {
            "marker": {
             "line": {
              "color": "#E5ECF6",
              "width": 0.5
             },
             "pattern": {
              "fillmode": "overlay",
              "size": 10,
              "solidity": 0.2
             }
            },
            "type": "barpolar"
           }
          ],
          "carpet": [
           {
            "aaxis": {
             "endlinecolor": "#2a3f5f",
             "gridcolor": "white",
             "linecolor": "white",
             "minorgridcolor": "white",
             "startlinecolor": "#2a3f5f"
            },
            "baxis": {
             "endlinecolor": "#2a3f5f",
             "gridcolor": "white",
             "linecolor": "white",
             "minorgridcolor": "white",
             "startlinecolor": "#2a3f5f"
            },
            "type": "carpet"
           }
          ],
          "choropleth": [
           {
            "colorbar": {
             "outlinewidth": 0,
             "ticks": ""
            },
            "type": "choropleth"
           }
          ],
          "contour": [
           {
            "colorbar": {
             "outlinewidth": 0,
             "ticks": ""
            },
            "colorscale": [
             [
              0,
              "#0d0887"
             ],
             [
              0.1111111111111111,
              "#46039f"
             ],
             [
              0.2222222222222222,
              "#7201a8"
             ],
             [
              0.3333333333333333,
              "#9c179e"
             ],
             [
              0.4444444444444444,
              "#bd3786"
             ],
             [
              0.5555555555555556,
              "#d8576b"
             ],
             [
              0.6666666666666666,
              "#ed7953"
             ],
             [
              0.7777777777777778,
              "#fb9f3a"
             ],
             [
              0.8888888888888888,
              "#fdca26"
             ],
             [
              1,
              "#f0f921"
             ]
            ],
            "type": "contour"
           }
          ],
          "contourcarpet": [
           {
            "colorbar": {
             "outlinewidth": 0,
             "ticks": ""
            },
            "type": "contourcarpet"
           }
          ],
          "heatmap": [
           {
            "colorbar": {
             "outlinewidth": 0,
             "ticks": ""
            },
            "colorscale": [
             [
              0,
              "#0d0887"
             ],
             [
              0.1111111111111111,
              "#46039f"
             ],
             [
              0.2222222222222222,
              "#7201a8"
             ],
             [
              0.3333333333333333,
              "#9c179e"
             ],
             [
              0.4444444444444444,
              "#bd3786"
             ],
             [
              0.5555555555555556,
              "#d8576b"
             ],
             [
              0.6666666666666666,
              "#ed7953"
             ],
             [
              0.7777777777777778,
              "#fb9f3a"
             ],
             [
              0.8888888888888888,
              "#fdca26"
             ],
             [
              1,
              "#f0f921"
             ]
            ],
            "type": "heatmap"
           }
          ],
          "heatmapgl": [
           {
            "colorbar": {
             "outlinewidth": 0,
             "ticks": ""
            },
            "colorscale": [
             [
              0,
              "#0d0887"
             ],
             [
              0.1111111111111111,
              "#46039f"
             ],
             [
              0.2222222222222222,
              "#7201a8"
             ],
             [
              0.3333333333333333,
              "#9c179e"
             ],
             [
              0.4444444444444444,
              "#bd3786"
             ],
             [
              0.5555555555555556,
              "#d8576b"
             ],
             [
              0.6666666666666666,
              "#ed7953"
             ],
             [
              0.7777777777777778,
              "#fb9f3a"
             ],
             [
              0.8888888888888888,
              "#fdca26"
             ],
             [
              1,
              "#f0f921"
             ]
            ],
            "type": "heatmapgl"
           }
          ],
          "histogram": [
           {
            "marker": {
             "pattern": {
              "fillmode": "overlay",
              "size": 10,
              "solidity": 0.2
             }
            },
            "type": "histogram"
           }
          ],
          "histogram2d": [
           {
            "colorbar": {
             "outlinewidth": 0,
             "ticks": ""
            },
            "colorscale": [
             [
              0,
              "#0d0887"
             ],
             [
              0.1111111111111111,
              "#46039f"
             ],
             [
              0.2222222222222222,
              "#7201a8"
             ],
             [
              0.3333333333333333,
              "#9c179e"
             ],
             [
              0.4444444444444444,
              "#bd3786"
             ],
             [
              0.5555555555555556,
              "#d8576b"
             ],
             [
              0.6666666666666666,
              "#ed7953"
             ],
             [
              0.7777777777777778,
              "#fb9f3a"
             ],
             [
              0.8888888888888888,
              "#fdca26"
             ],
             [
              1,
              "#f0f921"
             ]
            ],
            "type": "histogram2d"
           }
          ],
          "histogram2dcontour": [
           {
            "colorbar": {
             "outlinewidth": 0,
             "ticks": ""
            },
            "colorscale": [
             [
              0,
              "#0d0887"
             ],
             [
              0.1111111111111111,
              "#46039f"
             ],
             [
              0.2222222222222222,
              "#7201a8"
             ],
             [
              0.3333333333333333,
              "#9c179e"
             ],
             [
              0.4444444444444444,
              "#bd3786"
             ],
             [
              0.5555555555555556,
              "#d8576b"
             ],
             [
              0.6666666666666666,
              "#ed7953"
             ],
             [
              0.7777777777777778,
              "#fb9f3a"
             ],
             [
              0.8888888888888888,
              "#fdca26"
             ],
             [
              1,
              "#f0f921"
             ]
            ],
            "type": "histogram2dcontour"
           }
          ],
          "mesh3d": [
           {
            "colorbar": {
             "outlinewidth": 0,
             "ticks": ""
            },
            "type": "mesh3d"
           }
          ],
          "parcoords": [
           {
            "line": {
             "colorbar": {
              "outlinewidth": 0,
              "ticks": ""
             }
            },
            "type": "parcoords"
           }
          ],
          "pie": [
           {
            "automargin": true,
            "type": "pie"
           }
          ],
          "scatter": [
           {
            "fillpattern": {
             "fillmode": "overlay",
             "size": 10,
             "solidity": 0.2
            },
            "type": "scatter"
           }
          ],
          "scatter3d": [
           {
            "line": {
             "colorbar": {
              "outlinewidth": 0,
              "ticks": ""
             }
            },
            "marker": {
             "colorbar": {
              "outlinewidth": 0,
              "ticks": ""
             }
            },
            "type": "scatter3d"
           }
          ],
          "scattercarpet": [
           {
            "marker": {
             "colorbar": {
              "outlinewidth": 0,
              "ticks": ""
             }
            },
            "type": "scattercarpet"
           }
          ],
          "scattergeo": [
           {
            "marker": {
             "colorbar": {
              "outlinewidth": 0,
              "ticks": ""
             }
            },
            "type": "scattergeo"
           }
          ],
          "scattergl": [
           {
            "marker": {
             "colorbar": {
              "outlinewidth": 0,
              "ticks": ""
             }
            },
            "type": "scattergl"
           }
          ],
          "scattermapbox": [
           {
            "marker": {
             "colorbar": {
              "outlinewidth": 0,
              "ticks": ""
             }
            },
            "type": "scattermapbox"
           }
          ],
          "scatterpolar": [
           {
            "marker": {
             "colorbar": {
              "outlinewidth": 0,
              "ticks": ""
             }
            },
            "type": "scatterpolar"
           }
          ],
          "scatterpolargl": [
           {
            "marker": {
             "colorbar": {
              "outlinewidth": 0,
              "ticks": ""
             }
            },
            "type": "scatterpolargl"
           }
          ],
          "scatterternary": [
           {
            "marker": {
             "colorbar": {
              "outlinewidth": 0,
              "ticks": ""
             }
            },
            "type": "scatterternary"
           }
          ],
          "surface": [
           {
            "colorbar": {
             "outlinewidth": 0,
             "ticks": ""
            },
            "colorscale": [
             [
              0,
              "#0d0887"
             ],
             [
              0.1111111111111111,
              "#46039f"
             ],
             [
              0.2222222222222222,
              "#7201a8"
             ],
             [
              0.3333333333333333,
              "#9c179e"
             ],
             [
              0.4444444444444444,
              "#bd3786"
             ],
             [
              0.5555555555555556,
              "#d8576b"
             ],
             [
              0.6666666666666666,
              "#ed7953"
             ],
             [
              0.7777777777777778,
              "#fb9f3a"
             ],
             [
              0.8888888888888888,
              "#fdca26"
             ],
             [
              1,
              "#f0f921"
             ]
            ],
            "type": "surface"
           }
          ],
          "table": [
           {
            "cells": {
             "fill": {
              "color": "#EBF0F8"
             },
             "line": {
              "color": "white"
             }
            },
            "header": {
             "fill": {
              "color": "#C8D4E3"
             },
             "line": {
              "color": "white"
             }
            },
            "type": "table"
           }
          ]
         },
         "layout": {
          "annotationdefaults": {
           "arrowcolor": "#2a3f5f",
           "arrowhead": 0,
           "arrowwidth": 1
          },
          "autotypenumbers": "strict",
          "coloraxis": {
           "colorbar": {
            "outlinewidth": 0,
            "ticks": ""
           }
          },
          "colorscale": {
           "diverging": [
            [
             0,
             "#8e0152"
            ],
            [
             0.1,
             "#c51b7d"
            ],
            [
             0.2,
             "#de77ae"
            ],
            [
             0.3,
             "#f1b6da"
            ],
            [
             0.4,
             "#fde0ef"
            ],
            [
             0.5,
             "#f7f7f7"
            ],
            [
             0.6,
             "#e6f5d0"
            ],
            [
             0.7,
             "#b8e186"
            ],
            [
             0.8,
             "#7fbc41"
            ],
            [
             0.9,
             "#4d9221"
            ],
            [
             1,
             "#276419"
            ]
           ],
           "sequential": [
            [
             0,
             "#0d0887"
            ],
            [
             0.1111111111111111,
             "#46039f"
            ],
            [
             0.2222222222222222,
             "#7201a8"
            ],
            [
             0.3333333333333333,
             "#9c179e"
            ],
            [
             0.4444444444444444,
             "#bd3786"
            ],
            [
             0.5555555555555556,
             "#d8576b"
            ],
            [
             0.6666666666666666,
             "#ed7953"
            ],
            [
             0.7777777777777778,
             "#fb9f3a"
            ],
            [
             0.8888888888888888,
             "#fdca26"
            ],
            [
             1,
             "#f0f921"
            ]
           ],
           "sequentialminus": [
            [
             0,
             "#0d0887"
            ],
            [
             0.1111111111111111,
             "#46039f"
            ],
            [
             0.2222222222222222,
             "#7201a8"
            ],
            [
             0.3333333333333333,
             "#9c179e"
            ],
            [
             0.4444444444444444,
             "#bd3786"
            ],
            [
             0.5555555555555556,
             "#d8576b"
            ],
            [
             0.6666666666666666,
             "#ed7953"
            ],
            [
             0.7777777777777778,
             "#fb9f3a"
            ],
            [
             0.8888888888888888,
             "#fdca26"
            ],
            [
             1,
             "#f0f921"
            ]
           ]
          },
          "colorway": [
           "#636efa",
           "#EF553B",
           "#00cc96",
           "#ab63fa",
           "#FFA15A",
           "#19d3f3",
           "#FF6692",
           "#B6E880",
           "#FF97FF",
           "#FECB52"
          ],
          "font": {
           "color": "#2a3f5f"
          },
          "geo": {
           "bgcolor": "white",
           "lakecolor": "white",
           "landcolor": "#E5ECF6",
           "showlakes": true,
           "showland": true,
           "subunitcolor": "white"
          },
          "hoverlabel": {
           "align": "left"
          },
          "hovermode": "closest",
          "mapbox": {
           "style": "light"
          },
          "paper_bgcolor": "white",
          "plot_bgcolor": "#E5ECF6",
          "polar": {
           "angularaxis": {
            "gridcolor": "white",
            "linecolor": "white",
            "ticks": ""
           },
           "bgcolor": "#E5ECF6",
           "radialaxis": {
            "gridcolor": "white",
            "linecolor": "white",
            "ticks": ""
           }
          },
          "scene": {
           "xaxis": {
            "backgroundcolor": "#E5ECF6",
            "gridcolor": "white",
            "gridwidth": 2,
            "linecolor": "white",
            "showbackground": true,
            "ticks": "",
            "zerolinecolor": "white"
           },
           "yaxis": {
            "backgroundcolor": "#E5ECF6",
            "gridcolor": "white",
            "gridwidth": 2,
            "linecolor": "white",
            "showbackground": true,
            "ticks": "",
            "zerolinecolor": "white"
           },
           "zaxis": {
            "backgroundcolor": "#E5ECF6",
            "gridcolor": "white",
            "gridwidth": 2,
            "linecolor": "white",
            "showbackground": true,
            "ticks": "",
            "zerolinecolor": "white"
           }
          },
          "shapedefaults": {
           "line": {
            "color": "#2a3f5f"
           }
          },
          "ternary": {
           "aaxis": {
            "gridcolor": "white",
            "linecolor": "white",
            "ticks": ""
           },
           "baxis": {
            "gridcolor": "white",
            "linecolor": "white",
            "ticks": ""
           },
           "bgcolor": "#E5ECF6",
           "caxis": {
            "gridcolor": "white",
            "linecolor": "white",
            "ticks": ""
           }
          },
          "title": {
           "x": 0.05
          },
          "xaxis": {
           "automargin": true,
           "gridcolor": "white",
           "linecolor": "white",
           "ticks": "",
           "title": {
            "standoff": 15
           },
           "zerolinecolor": "white",
           "zerolinewidth": 2
          },
          "yaxis": {
           "automargin": true,
           "gridcolor": "white",
           "linecolor": "white",
           "ticks": "",
           "title": {
            "standoff": 15
           },
           "zerolinecolor": "white",
           "zerolinewidth": 2
          }
         }
        },
        "title": {
         "text": "Входящий поток иностранных студентов по группам стран с 2017 по 2022 г."
        },
        "width": 2600,
        "xaxis": {
         "anchor": "y",
         "domain": [
          0,
          0.45
         ],
         "tickangle": 45
        },
        "xaxis2": {
         "anchor": "y2",
         "domain": [
          0.55,
          1
         ],
         "tickangle": 45
        },
        "xaxis3": {
         "anchor": "y3",
         "domain": [
          0,
          0.45
         ],
         "tickangle": 45
        },
        "xaxis4": {
         "anchor": "y4",
         "domain": [
          0.55,
          1
         ],
         "tickangle": 45
        },
        "yaxis": {
         "anchor": "x",
         "domain": [
          0.625,
          1
         ],
         "gridcolor": "lightgrey",
         "title": {
          "text": "Число студентов, тыс."
         }
        },
        "yaxis2": {
         "anchor": "x2",
         "domain": [
          0.625,
          1
         ],
         "gridcolor": "lightgrey"
        },
        "yaxis3": {
         "anchor": "x3",
         "domain": [
          0,
          0.375
         ],
         "gridcolor": "lightgrey"
        },
        "yaxis4": {
         "anchor": "x4",
         "domain": [
          0,
          0.375
         ],
         "gridcolor": "lightgrey"
        }
       }
      }
     },
     "metadata": {},
     "output_type": "display_data"
    }
   ],
   "source": [
    "n_cols = 2  # Number of columns in subplot grid\n",
    "# unique_groups  = diff['group'].unique()\n",
    "unique_groups = ['Больше 100 тыс.', '50-100 тыс.', '20-50 тыс.','5-20 тыс.']\n",
    "num_plots = len(unique_groups)\n",
    "num_cols = 2  # Maximum of 2 columns\n",
    "num_rows = (num_plots + num_cols - 1) // num_cols  # Calculate the number of rows\n",
    "fig = make_subplots(rows=num_rows, cols=num_cols, subplot_titles=unique_groups)\n",
    "\n",
    "for i, group in enumerate(unique_groups):\n",
    "    filtered_df = inbound_no_zero[inbound_no_zero['group'] == group]\n",
    "    row_index = i // n_cols + 1\n",
    "    col_index = i % n_cols + 1\n",
    "    \n",
    "    trace1 = go.Bar(x=filtered_df.index,\n",
    "        y=filtered_df['2017'],\n",
    "        name=f'2017 - Group {group}',\n",
    "        text=[f\"{value/1000:.1f}k\" if value < 1000 else f\"{int(value/1000)}k\" for value in filtered_df['2017']],  # Value labels in thousands\n",
    "        textposition='auto',\n",
    "        textfont=dict(size=16),\n",
    "        marker_color='blue',\n",
    "        marker_line=dict(width=3, color=['red' if country == 'Russia' else 'blue' for country in filtered_df.index]) \n",
    "        )\n",
    "    trace2 = go.Bar(x=filtered_df.index,\n",
    "        y=filtered_df['2022'],\n",
    "        name=f'2022 - Group {group}',\n",
    "        text=[f\"{value/1000:.1f}k\\n({filtered_df['2022/2017,%'].values[j]}%)\" if value < 1000 else f\"{int(value/1000)}k\\n({filtered_df['2022/2017,%'].values[j]}%)\" for j, value in enumerate(filtered_df['2022'])],  # Value labels in thousands\n",
    "        textposition='auto',\n",
    "        textfont=dict(size=16),\n",
    "        marker_color='green',\n",
    "        marker_line=dict(width=3, color=['red' if country == 'Russia' else 'green' for country in filtered_df.index]) \n",
    "        )\n",
    "    \n",
    "    fig.add_trace(trace1, row=row_index, col=col_index)\n",
    "    fig.add_trace(trace2, row=row_index, col=col_index)\n",
    "        \n",
    "fig.update_layout(\n",
    "title='Входящий поток иностранных студентов по группам стран с 2017 по 2022 г.',\n",
    "# xaxis_title='Country',\n",
    "yaxis_title='Число студентов, тыс.',\n",
    "barmode='group',  # Group bars together\n",
    "height=1400,\n",
    "width=2600,\n",
    "plot_bgcolor='white'\n",
    ")\n",
    "for i in range(1, num_rows + 1):\n",
    "    for j in range(1, num_cols + 1):\n",
    "        fig.update_xaxes(tickangle=45, row=i, col=j)\n",
    "        fig.update_yaxes(gridcolor='lightgrey', row=i, col=j)\n",
    "pio.write_image(fig, \"Входящий поток иностранных студентов по группам стран с 2017 по 2022 г.png\")\n",
    "fig.show()\n"
   ]
  },
  {
   "cell_type": "markdown",
   "metadata": {},
   "source": [
    "На основании отчетов inbound в разрезе весь мир -страна"
   ]
  },
  {
   "cell_type": "code",
   "execution_count": 101,
   "metadata": {},
   "outputs": [],
   "source": [
    "# total_inbound = national[national['indicator_id'].isin([26637])]\n",
    "# total_inbound['from'] = 'World'\n",
    "# total_inbound.head()"
   ]
  },
  {
   "cell_type": "markdown",
   "metadata": {},
   "source": [
    "<h4>Исходящие по странам</h4>"
   ]
  },
  {
   "cell_type": "markdown",
   "metadata": {},
   "source": [
    "OE.5T8.40510 \n",
    "Total outbound internationally mobile tertiary students studying abroad, all countries, both sexes (UIS estimate) (number)"
   ]
  },
  {
   "cell_type": "code",
   "execution_count": 31,
   "metadata": {},
   "outputs": [
    {
     "data": {
      "text/html": [
       "<div>\n",
       "<style scoped>\n",
       "    .dataframe tbody tr th:only-of-type {\n",
       "        vertical-align: middle;\n",
       "    }\n",
       "\n",
       "    .dataframe tbody tr th {\n",
       "        vertical-align: top;\n",
       "    }\n",
       "\n",
       "    .dataframe thead th {\n",
       "        text-align: right;\n",
       "    }\n",
       "</style>\n",
       "<table border=\"1\" class=\"dataframe\">\n",
       "  <thead>\n",
       "    <tr style=\"text-align: right;\">\n",
       "      <th></th>\n",
       "      <th>2017</th>\n",
       "      <th>2022</th>\n",
       "      <th>2022/2017,%</th>\n",
       "      <th>group</th>\n",
       "    </tr>\n",
       "    <tr>\n",
       "      <th>from</th>\n",
       "      <th></th>\n",
       "      <th></th>\n",
       "      <th></th>\n",
       "      <th></th>\n",
       "    </tr>\n",
       "  </thead>\n",
       "  <tbody>\n",
       "    <tr>\n",
       "      <th>China</th>\n",
       "      <td>839754.0</td>\n",
       "      <td>960174.0</td>\n",
       "      <td>+14</td>\n",
       "      <td>Больше 200 тыс.</td>\n",
       "    </tr>\n",
       "    <tr>\n",
       "      <th>India</th>\n",
       "      <td>350574.0</td>\n",
       "      <td>733082.0</td>\n",
       "      <td>+109</td>\n",
       "      <td>Больше 200 тыс.</td>\n",
       "    </tr>\n",
       "    <tr>\n",
       "      <th>Viet Nam</th>\n",
       "      <td>104888.0</td>\n",
       "      <td>145221.0</td>\n",
       "      <td>+38</td>\n",
       "      <td>100-200 тыс.</td>\n",
       "    </tr>\n",
       "    <tr>\n",
       "      <th>Uzbekistan</th>\n",
       "      <td>34689.0</td>\n",
       "      <td>140963.0</td>\n",
       "      <td>+306</td>\n",
       "      <td>100-200 тыс.</td>\n",
       "    </tr>\n",
       "    <tr>\n",
       "      <th>Germany</th>\n",
       "      <td>122284.0</td>\n",
       "      <td>129970.0</td>\n",
       "      <td>+6</td>\n",
       "      <td>100-200 тыс.</td>\n",
       "    </tr>\n",
       "  </tbody>\n",
       "</table>\n",
       "</div>"
      ],
      "text/plain": [
       "                2017      2022 2022/2017,%            group\n",
       "from                                                       \n",
       "China       839754.0  960174.0         +14  Больше 200 тыс.\n",
       "India       350574.0  733082.0        +109  Больше 200 тыс.\n",
       "Viet Nam    104888.0  145221.0         +38     100-200 тыс.\n",
       "Uzbekistan   34689.0  140963.0        +306     100-200 тыс.\n",
       "Germany     122284.0  129970.0          +6     100-200 тыс."
      ]
     },
     "execution_count": 31,
     "metadata": {},
     "output_type": "execute_result"
    }
   ],
   "source": [
    "outbound = pd.merge(countries.groupby(['from'])['2017'].sum().reset_index(),\n",
    "                 countries.groupby(['from'])['2022'].sum().reset_index(),\n",
    "                 on = 'from',\n",
    "                 how='left')\n",
    "outbound = outbound[~(outbound['2017'].isna()) & ~(outbound['2022'].isna())]\n",
    "outbound = outbound[~(outbound['2017']==0) & ~(outbound['2022']==0)]\n",
    "outbound['2022/2017,%'] = round(outbound['2022']/outbound['2017']*100,0).astype(int)-100\n",
    "outbound['2022/2017,%'] = outbound['2022/2017,%'].apply(lambda x:'+'+str(x) if x>0 else str(x))\n",
    "outbound = outbound[outbound['2022']>5000]\n",
    "def group(x):\n",
    "    if x<20000:\n",
    "        group_name = '5-20 тыс.'\n",
    "    elif 20000<=x<50000:\n",
    "        group_name = '20-50 тыс.'\n",
    "    elif 50000<=x<100000:\n",
    "        group_name = '50-100 тыс.'\n",
    "    elif 100000<=x<200000:\n",
    "        group_name = '100-200 тыс.'\n",
    "    else:\n",
    "        group_name = 'Больше 200 тыс.'\n",
    "    return group_name\n",
    "outbound['group'] = outbound['2022'].apply(lambda x: group(x))\n",
    "outbound.set_index('from', inplace=True)\n",
    "outbound = outbound.sort_values(by='2022',ascending=False)\n",
    "outbound.head()"
   ]
  },
  {
   "cell_type": "code",
   "execution_count": 159,
   "metadata": {},
   "outputs": [
    {
     "data": {
      "application/vnd.plotly.v1+json": {
       "config": {
        "plotlyServerURL": "https://plot.ly"
       },
       "data": [
        {
         "marker": {
          "color": "brown",
          "line": {
           "color": [
            "brown",
            "brown"
           ],
           "width": 3
          }
         },
         "name": "2017 - Group Больше 200 тыс.",
         "text": [
          "839k",
          "350k"
         ],
         "textfont": {
          "size": 12
         },
         "textposition": "auto",
         "type": "bar",
         "x": [
          "China",
          "India"
         ],
         "xaxis": "x",
         "y": [
          839754,
          350574
         ],
         "yaxis": "y"
        },
        {
         "marker": {
          "color": "orange",
          "line": {
           "color": [
            "orange",
            "orange"
           ],
           "width": 3
          }
         },
         "name": "2022 - Group Больше 200 тыс.",
         "text": [
          "960k<br>(+14%)",
          "733k<br>(+109%)"
         ],
         "textfont": {
          "size": 12
         },
         "textposition": "auto",
         "type": "bar",
         "x": [
          "China",
          "India"
         ],
         "xaxis": "x",
         "y": [
          960174,
          733082
         ],
         "yaxis": "y"
        },
        {
         "marker": {
          "color": "brown",
          "line": {
           "color": [
            "brown",
            "brown",
            "brown",
            "brown",
            "brown",
            "brown"
           ],
           "width": 3
          }
         },
         "name": "2017 - Group 100-200 тыс.",
         "text": [
          "104k",
          "34k",
          "122k",
          "104k",
          "73k",
          "82k"
         ],
         "textfont": {
          "size": 12
         },
         "textposition": "auto",
         "type": "bar",
         "x": [
          "Viet Nam",
          "Uzbekistan",
          "Germany",
          "France",
          "Pakistan",
          "Nigeria"
         ],
         "xaxis": "x2",
         "y": [
          104888,
          34689,
          122284,
          104261,
          73113,
          82503
         ],
         "yaxis": "y2"
        },
        {
         "marker": {
          "color": "orange",
          "line": {
           "color": [
            "orange",
            "orange",
            "orange",
            "orange",
            "orange",
            "orange"
           ],
           "width": 3
          }
         },
         "name": "2022 - Group 100-200 тыс.",
         "text": [
          "145k<br>(+38%)",
          "140k<br>(+306%)",
          "129k<br>(+6%)",
          "127k<br>(+22%)",
          "115k<br>(+59%)",
          "107k<br>(+30%)"
         ],
         "textfont": {
          "size": 12
         },
         "textposition": "auto",
         "type": "bar",
         "x": [
          "Viet Nam",
          "Uzbekistan",
          "Germany",
          "France",
          "Pakistan",
          "Nigeria"
         ],
         "xaxis": "x2",
         "y": [
          145221,
          140963,
          129970,
          127682,
          115955,
          107228
         ],
         "yaxis": "y2"
        },
        {
         "marker": {
          "color": "brown",
          "line": {
           "color": [
            "brown",
            "brown",
            "brown",
            "brown",
            "brown",
            "brown",
            "brown",
            "black",
            "brown",
            "brown",
            "brown",
            "brown",
            "brown",
            "brown",
            "brown",
            "brown",
            "brown",
            "brown",
            "brown",
            "brown"
           ],
           "width": 3
          }
         },
         "name": "2017 - Group 50-100 тыс.",
         "text": [
          "63k",
          "101k",
          "46k",
          "95k",
          "73k",
          "57k",
          "50k",
          "74k",
          "77k",
          "67k",
          "91k",
          "59k",
          "50k",
          "41k",
          "29k",
          "44k",
          "41k",
          "46k",
          "58k",
          "50k"
         ],
         "textfont": {
          "size": 12
         },
         "textposition": "auto",
         "type": "bar",
         "x": [
          "Nepal",
          "USA",
          "Syrian Arab Republic",
          "Kazakhstan",
          "Italy",
          "Brazil",
          "Iran",
          "Russia",
          "Ukraine",
          "Bangladesh",
          "Republic of Korea",
          "Indonesia",
          "Morocco",
          "Colombia",
          "Egypt",
          "Turkey",
          "Spain",
          "Turkmenistan",
          "Thailand",
          "South Korea"
         ],
         "xaxis": "x3",
         "y": [
          63825,
          101815,
          46313,
          95978,
          73369,
          57033,
          50377,
          74784,
          77124,
          67697,
          91064,
          59936,
          50670,
          41872,
          29239,
          44981,
          41249,
          46118,
          58534,
          50600
         ],
         "yaxis": "y3"
        },
        {
         "marker": {
          "color": "orange",
          "line": {
           "color": [
            "orange",
            "orange",
            "orange",
            "orange",
            "orange",
            "orange",
            "orange",
            "black",
            "orange",
            "orange",
            "orange",
            "orange",
            "orange",
            "orange",
            "orange",
            "orange",
            "orange",
            "orange",
            "orange",
            "orange"
           ],
           "width": 3
          }
         },
         "name": "2022 - Group 50-100 тыс.",
         "text": [
          "99k<br>(+55%)",
          "96k<br>(-5%)",
          "95k<br>(+106%)",
          "92k<br>(-3%)",
          "90k<br>(+23%)",
          "86k<br>(+52%)",
          "83k<br>(+67%)",
          "81k<br>(+8%)",
          "76k<br>(0%)",
          "76k<br>(+13%)",
          "76k<br>(-16%)",
          "72k<br>(+21%)",
          "67k<br>(+33%)",
          "61k<br>(+48%)",
          "61k<br>(+110%)",
          "58k<br>(+31%)",
          "55k<br>(+34%)",
          "54k<br>(+18%)",
          "54k<br>(-8%)",
          "50k<br>(0%)"
         ],
         "textfont": {
          "size": 12
         },
         "textposition": "auto",
         "type": "bar",
         "x": [
          "Nepal",
          "USA",
          "Syrian Arab Republic",
          "Kazakhstan",
          "Italy",
          "Brazil",
          "Iran",
          "Russia",
          "Ukraine",
          "Bangladesh",
          "Republic of Korea",
          "Indonesia",
          "Morocco",
          "Colombia",
          "Egypt",
          "Turkey",
          "Spain",
          "Turkmenistan",
          "Thailand",
          "South Korea"
         ],
         "xaxis": "x3",
         "y": [
          99048,
          96877,
          95633,
          92739,
          90147,
          86930,
          83923,
          81073,
          76872,
          76253,
          76239,
          72667,
          67601,
          61808,
          61389,
          58919,
          55242,
          54283,
          54046,
          50600
         ],
         "yaxis": "y3"
        },
        {
         "marker": {
          "color": "brown",
          "line": {
           "color": [
            "brown",
            "brown",
            "brown",
            "brown",
            "brown",
            "brown",
            "brown",
            "brown",
            "brown",
            "brown",
            "brown",
            "brown",
            "brown",
            "brown",
            "brown",
            "brown",
            "brown",
            "brown",
            "brown",
            "brown",
            "brown",
            "brown",
            "brown",
            "brown",
            "brown",
            "brown",
            "brown",
            "brown",
            "brown",
            "brown",
            "brown",
            "brown",
            "brown",
            "brown",
            "brown",
            "brown",
            "brown",
            "brown",
            "brown",
            "brown"
           ],
           "width": 3
          }
         },
         "name": "2017 - Group 20-50 тыс.",
         "text": [
          "67k",
          "45k",
          "48k",
          "42k",
          "30k",
          "37k",
          "35k",
          "81k",
          "36k",
          "68k",
          "19k",
          "33k",
          "35k",
          "25k",
          "28k",
          "21k",
          "20k",
          "20k",
          "25k",
          "16k",
          "32k",
          "19k",
          "25k",
          "22k",
          "22k",
          "20k",
          "18k",
          "19k",
          "20k",
          "24k",
          "16k",
          "18k",
          "13k",
          "25k",
          "18k",
          "15k",
          "21k",
          "15k",
          "28k",
          "23k"
         ],
         "textfont": {
          "size": 12
         },
         "textposition": "auto",
         "type": "bar",
         "x": [
          "Malaysia",
          "Japan",
          "Canada",
          "Azerbaijan",
          "Peru",
          "Greece",
          "United Kingdom",
          "Saudi Arabia",
          "Hong Kong",
          "unknown countries",
          "Tajikistan",
          "Mexico",
          "Romania",
          "Algeria",
          "Iraq",
          "Yemen",
          "Sri Lanka",
          "Ecuador",
          "Cameroon",
          "Philippines",
          "Slovakia",
          "Bolivarian Republic of Venezuela",
          "Poland",
          "Belarus",
          "Tunisia",
          "Mongolia",
          "Jordan",
          "Austria",
          "Palestine",
          "Cyprus",
          "Lebanon",
          "Lao",
          "Ghana",
          "Bulgaria",
          "Zimbabwe",
          "Plurinational State of Bolivia",
          "Kuwait",
          "Chile",
          "Afghanistan",
          "Singapore"
         ],
         "xaxis": "x4",
         "y": [
          67935,
          45534,
          48198,
          42650,
          30839,
          37768,
          35236,
          81469,
          36426,
          68566,
          19536,
          33880,
          35909,
          25235,
          28072,
          21919,
          20397,
          20742,
          25060,
          16457,
          32437,
          19847,
          25049,
          22264,
          22102,
          20706,
          18481,
          19131,
          20651,
          24429,
          16264,
          18800,
          13491,
          25026,
          18939,
          15615,
          21956,
          15461,
          28964,
          23393
         ],
         "yaxis": "y4"
        },
        {
         "marker": {
          "color": "orange",
          "line": {
           "color": [
            "orange",
            "orange",
            "orange",
            "orange",
            "orange",
            "orange",
            "orange",
            "orange",
            "orange",
            "orange",
            "orange",
            "orange",
            "orange",
            "orange",
            "orange",
            "orange",
            "orange",
            "orange",
            "orange",
            "orange",
            "orange",
            "orange",
            "orange",
            "orange",
            "orange",
            "orange",
            "orange",
            "orange",
            "orange",
            "orange",
            "orange",
            "orange",
            "orange",
            "orange",
            "orange",
            "orange",
            "orange",
            "orange",
            "orange",
            "orange"
           ],
           "width": 3
          }
         },
         "name": "2022 - Group 20-50 тыс.",
         "text": [
          "49k<br>(-28%)",
          "48k<br>(+6%)",
          "48k<br>(0%)",
          "45k<br>(+7%)",
          "42k<br>(+37%)",
          "40k<br>(+7%)",
          "39k<br>(+13%)",
          "38k<br>(-53%)",
          "37k<br>(+2%)",
          "36k<br>(-46%)",
          "35k<br>(+83%)",
          "35k<br>(+5%)",
          "35k<br>(-1%)",
          "34k<br>(+38%)",
          "34k<br>(+22%)",
          "32k<br>(+47%)",
          "30k<br>(+52%)",
          "30k<br>(+48%)",
          "30k<br>(+20%)",
          "29k<br>(+82%)",
          "29k<br>(-9%)",
          "28k<br>(+44%)",
          "27k<br>(+10%)",
          "26k<br>(+18%)",
          "26k<br>(+19%)",
          "26k<br>(+27%)",
          "26k<br>(+41%)",
          "25k<br>(+33%)",
          "25k<br>(+23%)",
          "25k<br>(+3%)",
          "25k<br>(+54%)",
          "22k<br>(+19%)",
          "22k<br>(+66%)",
          "21k<br>(-12%)",
          "21k<br>(+15%)",
          "21k<br>(+40%)",
          "20k<br>(-5%)",
          "20k<br>(+35%)",
          "20k<br>(-30%)",
          "20k<br>(-14%)"
         ],
         "textfont": {
          "size": 12
         },
         "textposition": "auto",
         "type": "bar",
         "x": [
          "Malaysia",
          "Japan",
          "Canada",
          "Azerbaijan",
          "Peru",
          "Greece",
          "United Kingdom",
          "Saudi Arabia",
          "Hong Kong",
          "unknown countries",
          "Tajikistan",
          "Mexico",
          "Romania",
          "Algeria",
          "Iraq",
          "Yemen",
          "Sri Lanka",
          "Ecuador",
          "Cameroon",
          "Philippines",
          "Slovakia",
          "Bolivarian Republic of Venezuela",
          "Poland",
          "Belarus",
          "Tunisia",
          "Mongolia",
          "Jordan",
          "Austria",
          "Palestine",
          "Cyprus",
          "Lebanon",
          "Lao",
          "Ghana",
          "Bulgaria",
          "Zimbabwe",
          "Plurinational State of Bolivia",
          "Kuwait",
          "Chile",
          "Afghanistan",
          "Singapore"
         ],
         "xaxis": "x4",
         "y": [
          49199,
          48386,
          48180,
          45465,
          42208,
          40249,
          39818,
          38528,
          37041,
          36808,
          35808,
          35633,
          35443,
          34905,
          34197,
          32280,
          30925,
          30790,
          30050,
          29911,
          29624,
          28589,
          27567,
          26375,
          26305,
          26275,
          26099,
          25432,
          25403,
          25140,
          25026,
          22439,
          22399,
          21901,
          21866,
          21815,
          20828,
          20811,
          20145,
          20004
         ],
         "yaxis": "y4"
        },
        {
         "marker": {
          "color": "brown",
          "line": {
           "color": [
            "brown",
            "brown",
            "brown",
            "brown",
            "brown",
            "brown",
            "brown",
            "brown",
            "brown",
            "brown",
            "brown",
            "brown",
            "brown",
            "brown",
            "brown",
            "brown",
            "brown",
            "brown",
            "brown",
            "brown",
            "brown",
            "brown",
            "brown",
            "brown",
            "brown",
            "brown",
            "brown",
            "brown",
            "brown",
            "brown",
            "brown",
            "brown",
            "brown",
            "brown",
            "brown",
            "brown",
            "brown",
            "brown",
            "brown",
            "brown",
            "brown",
            "brown",
            "brown",
            "brown",
            "brown",
            "brown",
            "brown",
            "brown",
            "brown",
            "brown",
            "brown",
            "brown",
            "brown",
            "brown",
            "brown",
            "brown",
            "brown",
            "brown",
            "brown",
            "brown",
            "brown"
           ],
           "width": 3
          }
         },
         "name": "2017 - Group 5-20 тыс.",
         "text": [
          "18k",
          "14k",
          "14k",
          "14k",
          "18k",
          "13k",
          "14k",
          "14k",
          "12k",
          "11k",
          "14k",
          "13k",
          "11k",
          "7k",
          "12k",
          "15k",
          "17k",
          "17k",
          "15k",
          "5k",
          "16k",
          "7k",
          "11k",
          "13k",
          "8k",
          "13k",
          "9k",
          "11k",
          "10k",
          "10k",
          "7k",
          "6k",
          "9k",
          "15k",
          "8k",
          "7k",
          "2k",
          "8k",
          "11k",
          "10k",
          "6k",
          "5k",
          "11k",
          "4k",
          "11k",
          "10k",
          "4k",
          "3k",
          "6k",
          "5k",
          "4k",
          "5k",
          "6k",
          "7k",
          "5k",
          "3k",
          "4k",
          "4k",
          "5k",
          "4k",
          "3k"
         ],
         "textfont": {
          "size": 12
         },
         "textposition": "auto",
         "type": "bar",
         "x": [
          "Moldova",
          "Portugal",
          "Belgium",
          "Switzerland",
          "Netherlands",
          "Côte d'Ivoire",
          "Kenya",
          "Ireland",
          "Senegal",
          "United Arab Emirates",
          "Israel",
          "Paraguay",
          "Kyrgyzstan",
          "Chad",
          "Hungary",
          "Bosnia and Herzegovina",
          "Norway",
          "Albania",
          "Serbia",
          "Somalia",
          "Sweden",
          "Myanmar",
          "Luxembourg",
          "Australia",
          "Argentina",
          "Czechia",
          "Haiti",
          "Democratic Republic of Congo",
          "South Africa",
          "Oman",
          "Gabon",
          "Ethiopia",
          "Croatia",
          "Angola",
          "Mali",
          "Benin",
          "Guinea-Bissau",
          "Guinea",
          "Congo",
          "Finland",
          "Togo",
          "Burkina Faso",
          "Georgia",
          "Cambodia",
          "Libya",
          "Lithuania",
          "Niger",
          "Cape Verde",
          "Tanzania",
          "Denmark",
          "Uruguay",
          "Uganda",
          "Qatar",
          "Mauritius",
          "North Macedonia",
          "Rwanda",
          "Montenegro",
          "Madagascar",
          "Armenia",
          "Dominican Republic",
          "Honduras"
         ],
         "xaxis": "x5",
         "y": [
          18673,
          14063,
          14882,
          14224,
          18174,
          13574,
          14633,
          14958,
          12498,
          11243,
          14856,
          13370,
          11314,
          7087,
          12316,
          15390,
          17608,
          17429,
          15904,
          5131,
          16386,
          7002,
          11016,
          13209,
          8057,
          13157,
          9418,
          11268,
          10344,
          10928,
          7016,
          6805,
          9668,
          15252,
          8992,
          7043,
          2985,
          8875,
          11475,
          10863,
          6003,
          5885,
          11289,
          4798,
          11321,
          10404,
          4383,
          3382,
          6750,
          5245,
          4807,
          5473,
          6190,
          7583,
          5343,
          3918,
          4795,
          4750,
          5832,
          4230,
          3839
         ],
         "yaxis": "y5"
        },
        {
         "marker": {
          "color": "orange",
          "line": {
           "color": [
            "orange",
            "orange",
            "orange",
            "orange",
            "orange",
            "orange",
            "orange",
            "orange",
            "orange",
            "orange",
            "orange",
            "orange",
            "orange",
            "orange",
            "orange",
            "orange",
            "orange",
            "orange",
            "orange",
            "orange",
            "orange",
            "orange",
            "orange",
            "orange",
            "orange",
            "orange",
            "orange",
            "orange",
            "orange",
            "orange",
            "orange",
            "orange",
            "orange",
            "orange",
            "orange",
            "orange",
            "orange",
            "orange",
            "orange",
            "orange",
            "orange",
            "orange",
            "orange",
            "orange",
            "orange",
            "orange",
            "orange",
            "orange",
            "orange",
            "orange",
            "orange",
            "orange",
            "orange",
            "orange",
            "orange",
            "orange",
            "orange",
            "orange",
            "orange",
            "orange",
            "orange"
           ],
           "width": 3
          }
         },
         "name": "2022 - Group 5-20 тыс.",
         "text": [
          "19k<br>(+3%)",
          "19k<br>(+35%)",
          "18k<br>(+28%)",
          "18k<br>(+32%)",
          "18k<br>(+4%)",
          "18k<br>(+38%)",
          "18k<br>(+27%)",
          "18k<br>(+22%)",
          "18k<br>(+45%)",
          "17k<br>(+60%)",
          "17k<br>(+17%)",
          "17k<br>(+29%)",
          "16k<br>(+45%)",
          "16k<br>(+130%)",
          "15k<br>(+24%)",
          "15k<br>(-2%)",
          "14k<br>(-15%)",
          "14k<br>(-17%)",
          "14k<br>(-10%)",
          "14k<br>(+180%)",
          "14k<br>(-14%)",
          "13k<br>(+89%)",
          "12k<br>(+16%)",
          "12k<br>(-5%)",
          "11k<br>(+45%)",
          "11k<br>(-12%)",
          "11k<br>(+20%)",
          "11k<br>(0%)",
          "11k<br>(+7%)",
          "10k<br>(-2%)",
          "10k<br>(+50%)",
          "10k<br>(+50%)",
          "9k<br>(-1%)",
          "9k<br>(-37%)",
          "9k<br>(+6%)",
          "9k<br>(+31%)",
          "8k<br>(+190%)",
          "8k<br>(-4%)",
          "8k<br>(-26%)",
          "8k<br>(-23%)",
          "7k<br>(+28%)",
          "7k<br>(+29%)",
          "7k<br>(-34%)",
          "7k<br>(+54%)",
          "7k<br>(-37%)",
          "7k<br>(-32%)",
          "6k<br>(+43%)",
          "6k<br>(+83%)",
          "6k<br>(-8%)",
          "6k<br>(+17%)",
          "6k<br>(+25%)",
          "5k<br>(+7%)",
          "5k<br>(-6%)",
          "5k<br>(-24%)",
          "5k<br>(+4%)",
          "5k<br>(+40%)",
          "5k<br>(+12%)",
          "5k<br>(+9%)",
          "5k<br>(-11%)",
          "5k<br>(+19%)",
          "5k<br>(+31%)"
         ],
         "textfont": {
          "size": 12
         },
         "textposition": "auto",
         "type": "bar",
         "x": [
          "Moldova",
          "Portugal",
          "Belgium",
          "Switzerland",
          "Netherlands",
          "Côte d'Ivoire",
          "Kenya",
          "Ireland",
          "Senegal",
          "United Arab Emirates",
          "Israel",
          "Paraguay",
          "Kyrgyzstan",
          "Chad",
          "Hungary",
          "Bosnia and Herzegovina",
          "Norway",
          "Albania",
          "Serbia",
          "Somalia",
          "Sweden",
          "Myanmar",
          "Luxembourg",
          "Australia",
          "Argentina",
          "Czechia",
          "Haiti",
          "Democratic Republic of Congo",
          "South Africa",
          "Oman",
          "Gabon",
          "Ethiopia",
          "Croatia",
          "Angola",
          "Mali",
          "Benin",
          "Guinea-Bissau",
          "Guinea",
          "Congo",
          "Finland",
          "Togo",
          "Burkina Faso",
          "Georgia",
          "Cambodia",
          "Libya",
          "Lithuania",
          "Niger",
          "Cape Verde",
          "Tanzania",
          "Denmark",
          "Uruguay",
          "Uganda",
          "Qatar",
          "Mauritius",
          "North Macedonia",
          "Rwanda",
          "Montenegro",
          "Madagascar",
          "Armenia",
          "Dominican Republic",
          "Honduras"
         ],
         "xaxis": "x5",
         "y": [
          19195,
          19041,
          18989,
          18846,
          18836,
          18726,
          18636,
          18279,
          18179,
          17938,
          17371,
          17235,
          16456,
          16331,
          15225,
          15064,
          14940,
          14542,
          14375,
          14345,
          14011,
          13213,
          12816,
          12505,
          11679,
          11627,
          11301,
          11258,
          11042,
          10751,
          10506,
          10201,
          9613,
          9574,
          9568,
          9208,
          8644,
          8539,
          8435,
          8321,
          7694,
          7563,
          7496,
          7377,
          7155,
          7027,
          6278,
          6193,
          6191,
          6139,
          6017,
          5849,
          5842,
          5785,
          5550,
          5482,
          5357,
          5192,
          5178,
          5051,
          5035
         ],
         "yaxis": "y5"
        }
       ],
       "layout": {
        "annotations": [
         {
          "align": "left",
          "font": {
           "color": "grey",
           "size": 12
          },
          "showarrow": false,
          "text": "@Conspect Labs, Sources: UNESCO, OpenDoorsData, Nuffic, IIE, Statista, MoE of Kazakhstan, Iran, Egypt, Thailand",
          "x": 0.4,
          "xanchor": "center",
          "xref": "paper",
          "y": -0.18,
          "yanchor": "bottom",
          "yref": "paper"
         },
         {
          "align": "left",
          "font": {
           "color": "grey",
           "size": 12
          },
          "showarrow": false,
          "text": "@Conspect Labs, Sources: UNESCO, OpenDoorsData, Nuffic, IIE, Statista, MoE of Kazakhstan, Iran, Egypt, Thailand",
          "x": 0.4,
          "xanchor": "center",
          "xref": "paper",
          "y": -0.18,
          "yanchor": "bottom",
          "yref": "paper"
         },
         {
          "align": "left",
          "font": {
           "color": "grey",
           "size": 12
          },
          "showarrow": false,
          "text": "@Conspect Labs, Sources: UNESCO, OpenDoorsData, Nuffic, IIE, Statista, MoE of Kazakhstan, Iran, Egypt, Thailand",
          "x": 0.4,
          "xanchor": "center",
          "xref": "paper",
          "y": -0.18,
          "yanchor": "bottom",
          "yref": "paper"
         },
         {
          "align": "left",
          "font": {
           "color": "grey",
           "size": 12
          },
          "showarrow": false,
          "text": "@Conspect Labs, Sources: UNESCO, OpenDoorsData, Nuffic, IIE, Statista, MoE of Kazakhstan, Iran, Egypt, Thailand",
          "x": 0.4,
          "xanchor": "center",
          "xref": "paper",
          "y": -0.18,
          "yanchor": "bottom",
          "yref": "paper"
         },
         {
          "align": "left",
          "font": {
           "color": "grey",
           "size": 12
          },
          "showarrow": false,
          "text": "@Conspect Labs, Sources: UNESCO, OpenDoorsData, Nuffic, IIE, Statista, MoE of Kazakhstan, Iran, Egypt, Thailand",
          "x": 0.4,
          "xanchor": "center",
          "xref": "paper",
          "y": -0.18,
          "yanchor": "bottom",
          "yref": "paper"
         }
        ],
        "barmode": "group",
        "height": 1600,
        "plot_bgcolor": "white",
        "template": {
         "data": {
          "bar": [
           {
            "error_x": {
             "color": "#2a3f5f"
            },
            "error_y": {
             "color": "#2a3f5f"
            },
            "marker": {
             "line": {
              "color": "#E5ECF6",
              "width": 0.5
             },
             "pattern": {
              "fillmode": "overlay",
              "size": 10,
              "solidity": 0.2
             }
            },
            "type": "bar"
           }
          ],
          "barpolar": [
           {
            "marker": {
             "line": {
              "color": "#E5ECF6",
              "width": 0.5
             },
             "pattern": {
              "fillmode": "overlay",
              "size": 10,
              "solidity": 0.2
             }
            },
            "type": "barpolar"
           }
          ],
          "carpet": [
           {
            "aaxis": {
             "endlinecolor": "#2a3f5f",
             "gridcolor": "white",
             "linecolor": "white",
             "minorgridcolor": "white",
             "startlinecolor": "#2a3f5f"
            },
            "baxis": {
             "endlinecolor": "#2a3f5f",
             "gridcolor": "white",
             "linecolor": "white",
             "minorgridcolor": "white",
             "startlinecolor": "#2a3f5f"
            },
            "type": "carpet"
           }
          ],
          "choropleth": [
           {
            "colorbar": {
             "outlinewidth": 0,
             "ticks": ""
            },
            "type": "choropleth"
           }
          ],
          "contour": [
           {
            "colorbar": {
             "outlinewidth": 0,
             "ticks": ""
            },
            "colorscale": [
             [
              0,
              "#0d0887"
             ],
             [
              0.1111111111111111,
              "#46039f"
             ],
             [
              0.2222222222222222,
              "#7201a8"
             ],
             [
              0.3333333333333333,
              "#9c179e"
             ],
             [
              0.4444444444444444,
              "#bd3786"
             ],
             [
              0.5555555555555556,
              "#d8576b"
             ],
             [
              0.6666666666666666,
              "#ed7953"
             ],
             [
              0.7777777777777778,
              "#fb9f3a"
             ],
             [
              0.8888888888888888,
              "#fdca26"
             ],
             [
              1,
              "#f0f921"
             ]
            ],
            "type": "contour"
           }
          ],
          "contourcarpet": [
           {
            "colorbar": {
             "outlinewidth": 0,
             "ticks": ""
            },
            "type": "contourcarpet"
           }
          ],
          "heatmap": [
           {
            "colorbar": {
             "outlinewidth": 0,
             "ticks": ""
            },
            "colorscale": [
             [
              0,
              "#0d0887"
             ],
             [
              0.1111111111111111,
              "#46039f"
             ],
             [
              0.2222222222222222,
              "#7201a8"
             ],
             [
              0.3333333333333333,
              "#9c179e"
             ],
             [
              0.4444444444444444,
              "#bd3786"
             ],
             [
              0.5555555555555556,
              "#d8576b"
             ],
             [
              0.6666666666666666,
              "#ed7953"
             ],
             [
              0.7777777777777778,
              "#fb9f3a"
             ],
             [
              0.8888888888888888,
              "#fdca26"
             ],
             [
              1,
              "#f0f921"
             ]
            ],
            "type": "heatmap"
           }
          ],
          "heatmapgl": [
           {
            "colorbar": {
             "outlinewidth": 0,
             "ticks": ""
            },
            "colorscale": [
             [
              0,
              "#0d0887"
             ],
             [
              0.1111111111111111,
              "#46039f"
             ],
             [
              0.2222222222222222,
              "#7201a8"
             ],
             [
              0.3333333333333333,
              "#9c179e"
             ],
             [
              0.4444444444444444,
              "#bd3786"
             ],
             [
              0.5555555555555556,
              "#d8576b"
             ],
             [
              0.6666666666666666,
              "#ed7953"
             ],
             [
              0.7777777777777778,
              "#fb9f3a"
             ],
             [
              0.8888888888888888,
              "#fdca26"
             ],
             [
              1,
              "#f0f921"
             ]
            ],
            "type": "heatmapgl"
           }
          ],
          "histogram": [
           {
            "marker": {
             "pattern": {
              "fillmode": "overlay",
              "size": 10,
              "solidity": 0.2
             }
            },
            "type": "histogram"
           }
          ],
          "histogram2d": [
           {
            "colorbar": {
             "outlinewidth": 0,
             "ticks": ""
            },
            "colorscale": [
             [
              0,
              "#0d0887"
             ],
             [
              0.1111111111111111,
              "#46039f"
             ],
             [
              0.2222222222222222,
              "#7201a8"
             ],
             [
              0.3333333333333333,
              "#9c179e"
             ],
             [
              0.4444444444444444,
              "#bd3786"
             ],
             [
              0.5555555555555556,
              "#d8576b"
             ],
             [
              0.6666666666666666,
              "#ed7953"
             ],
             [
              0.7777777777777778,
              "#fb9f3a"
             ],
             [
              0.8888888888888888,
              "#fdca26"
             ],
             [
              1,
              "#f0f921"
             ]
            ],
            "type": "histogram2d"
           }
          ],
          "histogram2dcontour": [
           {
            "colorbar": {
             "outlinewidth": 0,
             "ticks": ""
            },
            "colorscale": [
             [
              0,
              "#0d0887"
             ],
             [
              0.1111111111111111,
              "#46039f"
             ],
             [
              0.2222222222222222,
              "#7201a8"
             ],
             [
              0.3333333333333333,
              "#9c179e"
             ],
             [
              0.4444444444444444,
              "#bd3786"
             ],
             [
              0.5555555555555556,
              "#d8576b"
             ],
             [
              0.6666666666666666,
              "#ed7953"
             ],
             [
              0.7777777777777778,
              "#fb9f3a"
             ],
             [
              0.8888888888888888,
              "#fdca26"
             ],
             [
              1,
              "#f0f921"
             ]
            ],
            "type": "histogram2dcontour"
           }
          ],
          "mesh3d": [
           {
            "colorbar": {
             "outlinewidth": 0,
             "ticks": ""
            },
            "type": "mesh3d"
           }
          ],
          "parcoords": [
           {
            "line": {
             "colorbar": {
              "outlinewidth": 0,
              "ticks": ""
             }
            },
            "type": "parcoords"
           }
          ],
          "pie": [
           {
            "automargin": true,
            "type": "pie"
           }
          ],
          "scatter": [
           {
            "fillpattern": {
             "fillmode": "overlay",
             "size": 10,
             "solidity": 0.2
            },
            "type": "scatter"
           }
          ],
          "scatter3d": [
           {
            "line": {
             "colorbar": {
              "outlinewidth": 0,
              "ticks": ""
             }
            },
            "marker": {
             "colorbar": {
              "outlinewidth": 0,
              "ticks": ""
             }
            },
            "type": "scatter3d"
           }
          ],
          "scattercarpet": [
           {
            "marker": {
             "colorbar": {
              "outlinewidth": 0,
              "ticks": ""
             }
            },
            "type": "scattercarpet"
           }
          ],
          "scattergeo": [
           {
            "marker": {
             "colorbar": {
              "outlinewidth": 0,
              "ticks": ""
             }
            },
            "type": "scattergeo"
           }
          ],
          "scattergl": [
           {
            "marker": {
             "colorbar": {
              "outlinewidth": 0,
              "ticks": ""
             }
            },
            "type": "scattergl"
           }
          ],
          "scattermapbox": [
           {
            "marker": {
             "colorbar": {
              "outlinewidth": 0,
              "ticks": ""
             }
            },
            "type": "scattermapbox"
           }
          ],
          "scatterpolar": [
           {
            "marker": {
             "colorbar": {
              "outlinewidth": 0,
              "ticks": ""
             }
            },
            "type": "scatterpolar"
           }
          ],
          "scatterpolargl": [
           {
            "marker": {
             "colorbar": {
              "outlinewidth": 0,
              "ticks": ""
             }
            },
            "type": "scatterpolargl"
           }
          ],
          "scatterternary": [
           {
            "marker": {
             "colorbar": {
              "outlinewidth": 0,
              "ticks": ""
             }
            },
            "type": "scatterternary"
           }
          ],
          "surface": [
           {
            "colorbar": {
             "outlinewidth": 0,
             "ticks": ""
            },
            "colorscale": [
             [
              0,
              "#0d0887"
             ],
             [
              0.1111111111111111,
              "#46039f"
             ],
             [
              0.2222222222222222,
              "#7201a8"
             ],
             [
              0.3333333333333333,
              "#9c179e"
             ],
             [
              0.4444444444444444,
              "#bd3786"
             ],
             [
              0.5555555555555556,
              "#d8576b"
             ],
             [
              0.6666666666666666,
              "#ed7953"
             ],
             [
              0.7777777777777778,
              "#fb9f3a"
             ],
             [
              0.8888888888888888,
              "#fdca26"
             ],
             [
              1,
              "#f0f921"
             ]
            ],
            "type": "surface"
           }
          ],
          "table": [
           {
            "cells": {
             "fill": {
              "color": "#EBF0F8"
             },
             "line": {
              "color": "white"
             }
            },
            "header": {
             "fill": {
              "color": "#C8D4E3"
             },
             "line": {
              "color": "white"
             }
            },
            "type": "table"
           }
          ]
         },
         "layout": {
          "annotationdefaults": {
           "arrowcolor": "#2a3f5f",
           "arrowhead": 0,
           "arrowwidth": 1
          },
          "autotypenumbers": "strict",
          "coloraxis": {
           "colorbar": {
            "outlinewidth": 0,
            "ticks": ""
           }
          },
          "colorscale": {
           "diverging": [
            [
             0,
             "#8e0152"
            ],
            [
             0.1,
             "#c51b7d"
            ],
            [
             0.2,
             "#de77ae"
            ],
            [
             0.3,
             "#f1b6da"
            ],
            [
             0.4,
             "#fde0ef"
            ],
            [
             0.5,
             "#f7f7f7"
            ],
            [
             0.6,
             "#e6f5d0"
            ],
            [
             0.7,
             "#b8e186"
            ],
            [
             0.8,
             "#7fbc41"
            ],
            [
             0.9,
             "#4d9221"
            ],
            [
             1,
             "#276419"
            ]
           ],
           "sequential": [
            [
             0,
             "#0d0887"
            ],
            [
             0.1111111111111111,
             "#46039f"
            ],
            [
             0.2222222222222222,
             "#7201a8"
            ],
            [
             0.3333333333333333,
             "#9c179e"
            ],
            [
             0.4444444444444444,
             "#bd3786"
            ],
            [
             0.5555555555555556,
             "#d8576b"
            ],
            [
             0.6666666666666666,
             "#ed7953"
            ],
            [
             0.7777777777777778,
             "#fb9f3a"
            ],
            [
             0.8888888888888888,
             "#fdca26"
            ],
            [
             1,
             "#f0f921"
            ]
           ],
           "sequentialminus": [
            [
             0,
             "#0d0887"
            ],
            [
             0.1111111111111111,
             "#46039f"
            ],
            [
             0.2222222222222222,
             "#7201a8"
            ],
            [
             0.3333333333333333,
             "#9c179e"
            ],
            [
             0.4444444444444444,
             "#bd3786"
            ],
            [
             0.5555555555555556,
             "#d8576b"
            ],
            [
             0.6666666666666666,
             "#ed7953"
            ],
            [
             0.7777777777777778,
             "#fb9f3a"
            ],
            [
             0.8888888888888888,
             "#fdca26"
            ],
            [
             1,
             "#f0f921"
            ]
           ]
          },
          "colorway": [
           "#636efa",
           "#EF553B",
           "#00cc96",
           "#ab63fa",
           "#FFA15A",
           "#19d3f3",
           "#FF6692",
           "#B6E880",
           "#FF97FF",
           "#FECB52"
          ],
          "font": {
           "color": "#2a3f5f"
          },
          "geo": {
           "bgcolor": "white",
           "lakecolor": "white",
           "landcolor": "#E5ECF6",
           "showlakes": true,
           "showland": true,
           "subunitcolor": "white"
          },
          "hoverlabel": {
           "align": "left"
          },
          "hovermode": "closest",
          "mapbox": {
           "style": "light"
          },
          "paper_bgcolor": "white",
          "plot_bgcolor": "#E5ECF6",
          "polar": {
           "angularaxis": {
            "gridcolor": "white",
            "linecolor": "white",
            "ticks": ""
           },
           "bgcolor": "#E5ECF6",
           "radialaxis": {
            "gridcolor": "white",
            "linecolor": "white",
            "ticks": ""
           }
          },
          "scene": {
           "xaxis": {
            "backgroundcolor": "#E5ECF6",
            "gridcolor": "white",
            "gridwidth": 2,
            "linecolor": "white",
            "showbackground": true,
            "ticks": "",
            "zerolinecolor": "white"
           },
           "yaxis": {
            "backgroundcolor": "#E5ECF6",
            "gridcolor": "white",
            "gridwidth": 2,
            "linecolor": "white",
            "showbackground": true,
            "ticks": "",
            "zerolinecolor": "white"
           },
           "zaxis": {
            "backgroundcolor": "#E5ECF6",
            "gridcolor": "white",
            "gridwidth": 2,
            "linecolor": "white",
            "showbackground": true,
            "ticks": "",
            "zerolinecolor": "white"
           }
          },
          "shapedefaults": {
           "line": {
            "color": "#2a3f5f"
           }
          },
          "ternary": {
           "aaxis": {
            "gridcolor": "white",
            "linecolor": "white",
            "ticks": ""
           },
           "baxis": {
            "gridcolor": "white",
            "linecolor": "white",
            "ticks": ""
           },
           "bgcolor": "#E5ECF6",
           "caxis": {
            "gridcolor": "white",
            "linecolor": "white",
            "ticks": ""
           }
          },
          "title": {
           "x": 0.05
          },
          "xaxis": {
           "automargin": true,
           "gridcolor": "white",
           "linecolor": "white",
           "ticks": "",
           "title": {
            "standoff": 15
           },
           "zerolinecolor": "white",
           "zerolinewidth": 2
          },
          "yaxis": {
           "automargin": true,
           "gridcolor": "white",
           "linecolor": "white",
           "ticks": "",
           "title": {
            "standoff": 15
           },
           "zerolinecolor": "white",
           "zerolinewidth": 2
          }
         }
        },
        "title": {
         "text": "Исходящий поток иностранных студентов по группам стран с 2017 по 2022 г."
        },
        "width": 2600,
        "xaxis": {
         "anchor": "y",
         "domain": [
          0,
          0.45
         ],
         "tickangle": 45
        },
        "xaxis2": {
         "anchor": "y2",
         "domain": [
          0.55,
          1
         ],
         "tickangle": 45
        },
        "xaxis3": {
         "anchor": "y3",
         "domain": [
          0,
          0.45
         ],
         "tickangle": 45
        },
        "xaxis4": {
         "anchor": "y4",
         "domain": [
          0.55,
          1
         ],
         "tickangle": 45
        },
        "xaxis5": {
         "anchor": "y5",
         "domain": [
          0,
          0.45
         ],
         "tickangle": 45
        },
        "xaxis6": {
         "anchor": "y6",
         "domain": [
          0.55,
          1
         ],
         "tickangle": 45
        },
        "yaxis": {
         "anchor": "x",
         "domain": [
          0.7777777777777778,
          1
         ],
         "gridcolor": "lightgrey",
         "title": {
          "text": "Число студентов, тыс."
         }
        },
        "yaxis2": {
         "anchor": "x2",
         "domain": [
          0.7777777777777778,
          1
         ],
         "gridcolor": "lightgrey"
        },
        "yaxis3": {
         "anchor": "x3",
         "domain": [
          0.3888888888888889,
          0.6111111111111112
         ],
         "gridcolor": "lightgrey"
        },
        "yaxis4": {
         "anchor": "x4",
         "domain": [
          0.3888888888888889,
          0.6111111111111112
         ],
         "gridcolor": "lightgrey"
        },
        "yaxis5": {
         "anchor": "x5",
         "domain": [
          0,
          0.22222222222222224
         ],
         "gridcolor": "lightgrey"
        },
        "yaxis6": {
         "anchor": "x6",
         "domain": [
          0,
          0.22222222222222224
         ],
         "gridcolor": "lightgrey"
        }
       }
      }
     },
     "metadata": {},
     "output_type": "display_data"
    }
   ],
   "source": [
    "n_cols = 2  # Number of columns in subplot grid\n",
    "# unique_groups  = diff['group'].unique()\n",
    "unique_groups = ['Больше 200 тыс.','100-200 тыс.', '50-100 тыс.', '20-50 тыс.','5-20 тыс.']\n",
    "num_plots = len(unique_groups)\n",
    "num_cols = 2  # Maximum of 2 columns\n",
    "num_rows = (num_plots + num_cols - 1) // num_cols  # Calculate the number of rows\n",
    "fig = make_subplots(rows=num_rows, cols=num_cols, subplot_titles=unique_groups)\n",
    "outbound = outbound.sort_values(by=['2022'],ascending=False)\n",
    "for i, group in enumerate(unique_groups):\n",
    "    filtered_df = outbound[outbound['group'] == group]\n",
    "    row_index = i // n_cols + 1\n",
    "    col_index = i % n_cols + 1\n",
    "    \n",
    "    trace1 = go.Bar(x=filtered_df.index,\n",
    "        y=filtered_df['2017'],\n",
    "        name=f'2017 - Group {group}',\n",
    "        text=[f\"{value/1000:.1f}k\" if value < 1000 else f\"{int(value/1000)}k\" for value in filtered_df['2017']],  # Value labels in thousands\n",
    "        textposition='auto',\n",
    "        textfont=dict(size=12),\n",
    "        marker_color='brown',\n",
    "        marker_line=dict(width=3, color=['black' if country == 'Russia' else 'brown' for country in filtered_df.index]) \n",
    "        )\n",
    "    trace2 = go.Bar(x=filtered_df.index,\n",
    "        y=filtered_df['2022'],\n",
    "        name=f'2022 - Group {group}',\n",
    "        text=[f\"{value/1000:.1f}k<br>({filtered_df['2022/2017,%'].values[j]}%)\" if value < 1000 else f\"{int(value/1000)}k<br>({filtered_df['2022/2017,%'].values[j]}%)\" for j, value in enumerate(filtered_df['2022'])],  # Value labels in thousands\n",
    "        textposition='auto',\n",
    "        textfont=dict(size=12),\n",
    "        marker_color='orange',\n",
    "        marker_line=dict(width=3, color=['black' if country == 'Russia' else 'orange' for country in filtered_df.index]) \n",
    "        )\n",
    "    \n",
    "    fig.add_trace(trace1, row=row_index, col=col_index)\n",
    "    fig.add_trace(trace2, row=row_index, col=col_index)\n",
    "        \n",
    "fig.update_layout(\n",
    "    title='Исходящий поток иностранных студентов по группам стран с 2017 по 2022 г.',\n",
    "    # xaxis_title='Country',\n",
    "    yaxis_title='Число студентов, тыс.',\n",
    "    barmode='group',  # Group bars together\n",
    "    height=1600,\n",
    "    width=2600,\n",
    "    plot_bgcolor='white',\n",
    "    annotations=[\n",
    "                dict(\n",
    "                    x=0.4,  # Center the annotation\n",
    "                    y=-0.18,  # Move it below the chart\n",
    "                    text=\"@Conspect Labs, Sources: UNESCO, OpenDoorsData, Nuffic, IIE, Statista, MoE of Kazakhstan, Iran, Egypt, Thailand\",\n",
    "                    showarrow=False,\n",
    "                    xref=\"paper\",  # Use paper coordinates\n",
    "                    yref=\"paper\",\n",
    "                    font=dict(size=12, color=\"grey\"),\n",
    "                    align=\"left\"\n",
    "            )\n",
    "            ]\n",
    ")\n",
    "for i in range(1, num_rows + 1):\n",
    "    for j in range(1, num_cols + 1):\n",
    "        fig.update_xaxes(tickangle=45, row=i, col=j)\n",
    "        fig.update_yaxes(gridcolor='lightgrey', row=i, col=j)\n",
    "pio.write_image(fig, \"Исходящий поток иностранных студентов по группам стран с 2017 по 2022 г.png\")\n",
    "fig.show()"
   ]
  },
  {
   "cell_type": "markdown",
   "metadata": {},
   "source": [
    "<h4>Student flows inside CIS</h4>"
   ]
  },
  {
   "cell_type": "code",
   "execution_count": 33,
   "metadata": {},
   "outputs": [
    {
     "data": {
      "text/html": [
       "<div>\n",
       "<style scoped>\n",
       "    .dataframe tbody tr th:only-of-type {\n",
       "        vertical-align: middle;\n",
       "    }\n",
       "\n",
       "    .dataframe tbody tr th {\n",
       "        vertical-align: top;\n",
       "    }\n",
       "\n",
       "    .dataframe thead th {\n",
       "        text-align: right;\n",
       "    }\n",
       "</style>\n",
       "<table border=\"1\" class=\"dataframe\">\n",
       "  <thead>\n",
       "    <tr style=\"text-align: right;\">\n",
       "      <th>year</th>\n",
       "      <th>from</th>\n",
       "      <th>to</th>\n",
       "      <th>2017</th>\n",
       "      <th>2022</th>\n",
       "    </tr>\n",
       "  </thead>\n",
       "  <tbody>\n",
       "    <tr>\n",
       "      <th>2</th>\n",
       "      <td>Afghanistan Out</td>\n",
       "      <td>Argentina In</td>\n",
       "      <td>15.0</td>\n",
       "      <td>16.0</td>\n",
       "    </tr>\n",
       "    <tr>\n",
       "      <th>4</th>\n",
       "      <td>Afghanistan Out</td>\n",
       "      <td>Australia In</td>\n",
       "      <td>44.0</td>\n",
       "      <td>73.0</td>\n",
       "    </tr>\n",
       "  </tbody>\n",
       "</table>\n",
       "</div>"
      ],
      "text/plain": [
       "year             from            to  2017  2022\n",
       "2     Afghanistan Out  Argentina In  15.0  16.0\n",
       "4     Afghanistan Out  Australia In  44.0  73.0"
      ]
     },
     "execution_count": 33,
     "metadata": {},
     "output_type": "execute_result"
    }
   ],
   "source": [
    "countries2 = countries[~(countries['2017'].isna()) & ~(countries['2022'].isna())]\n",
    "countries2 = countries2[~(countries2['2017']==0) & ~(countries2['2022']==0)]\n",
    "\n",
    "#some tweaks for Sankey diagram that demands different names for sources and targets\n",
    "countries2['from'] = countries2['from']+ ' Out'\n",
    "countries2['to'] = countries2['to']+ ' In'\n",
    "countries2.head(2)"
   ]
  },
  {
   "cell_type": "code",
   "execution_count": 34,
   "metadata": {},
   "outputs": [
    {
     "data": {
      "text/html": [
       "<div>\n",
       "<style scoped>\n",
       "    .dataframe tbody tr th:only-of-type {\n",
       "        vertical-align: middle;\n",
       "    }\n",
       "\n",
       "    .dataframe tbody tr th {\n",
       "        vertical-align: top;\n",
       "    }\n",
       "\n",
       "    .dataframe thead th {\n",
       "        text-align: right;\n",
       "    }\n",
       "</style>\n",
       "<table border=\"1\" class=\"dataframe\">\n",
       "  <thead>\n",
       "    <tr style=\"text-align: right;\">\n",
       "      <th>year</th>\n",
       "      <th>from</th>\n",
       "      <th>to</th>\n",
       "      <th>2017</th>\n",
       "      <th>2022</th>\n",
       "    </tr>\n",
       "  </thead>\n",
       "  <tbody>\n",
       "    <tr>\n",
       "      <th>953</th>\n",
       "      <td>Armenia Out</td>\n",
       "      <td>Argentina In</td>\n",
       "      <td>31.0</td>\n",
       "      <td>65.0</td>\n",
       "    </tr>\n",
       "    <tr>\n",
       "      <th>955</th>\n",
       "      <td>Armenia Out</td>\n",
       "      <td>Austria In</td>\n",
       "      <td>60.0</td>\n",
       "      <td>66.0</td>\n",
       "    </tr>\n",
       "  </tbody>\n",
       "</table>\n",
       "</div>"
      ],
      "text/plain": [
       "year         from            to  2017  2022\n",
       "953   Armenia Out  Argentina In  31.0  65.0\n",
       "955   Armenia Out    Austria In  60.0  66.0"
      ]
     },
     "execution_count": 34,
     "metadata": {},
     "output_type": "execute_result"
    }
   ],
   "source": [
    "cis_c = ['Russia','Moldova','Belarus','Kazakhstan','Uzbekistan',\n",
    "          'Kyrgyzstan','Tajikistan','Turkmenistan',\n",
    "          'Armenia','Azerbaijan','Ukraine']\n",
    "cis = [item + ' Out' for item in cis_c] + [item + ' In' for item in cis_c]\n",
    "cis_countries_from = countries2[countries2['from'].isin(cis)]\n",
    "cis_countries_from.head(2)"
   ]
  },
  {
   "cell_type": "code",
   "execution_count": 36,
   "metadata": {},
   "outputs": [
    {
     "name": "stderr",
     "output_type": "stream",
     "text": [
      "C:\\Users\\yuliy\\AppData\\Local\\Temp\\ipykernel_20200\\589063051.py:2: DeprecationWarning:\n",
      "\n",
      "DataFrameGroupBy.apply operated on the grouping columns. This behavior is deprecated, and in a future version of pandas the grouping columns will be excluded from the operation. Either pass `include_groups=False` to exclude the groupings or explicitly select the grouping columns after groupby to silence this warning.\n",
      "\n",
      "C:\\Users\\yuliy\\AppData\\Local\\Temp\\ipykernel_20200\\589063051.py:4: DeprecationWarning:\n",
      "\n",
      "DataFrameGroupBy.apply operated on the grouping columns. This behavior is deprecated, and in a future version of pandas the grouping columns will be excluded from the operation. Either pass `include_groups=False` to exclude the groupings or explicitly select the grouping columns after groupby to silence this warning.\n",
      "\n"
     ]
    },
    {
     "data": {
      "text/plain": [
       "array(['Russia In', 'France In', 'Germany In', 'USA In',\n",
       "       'United Kingdom In', 'Turkey In', 'Georgia In', 'Poland In',\n",
       "       'Lithuania In', 'Czechia In', 'China In', 'Kyrgyzstan In',\n",
       "       'Kazakhstan In', 'Saudi Arabia In', 'Romania In', 'Italy In',\n",
       "       'Belarus In', 'Malaysia In', 'Republic of Korea In', 'Latvia In',\n",
       "       'Bulgaria In', 'Uzbekistan In', 'Slovakia In'], dtype=object)"
      ]
     },
     "execution_count": 36,
     "metadata": {},
     "output_type": "execute_result"
    }
   ],
   "source": [
    "#Extract top 5 target countries for every source country in 2017 and 2022 \n",
    "cis_countries_from_2022_top10 = cis_countries_from.groupby('from').apply(lambda x: x.nlargest(5, '2022')).reset_index(drop=True)\n",
    "cis_countries_from_2022_top10.drop(columns='2017',inplace=True)\n",
    "cis_countries_from_2017_top10 = cis_countries_from.groupby('from').apply(lambda x: x.nlargest(5, '2017')).reset_index(drop=True)\n",
    "cis_countries_from_2017_top10.drop(columns='2022',inplace=True)\n",
    "cis_countries_from_top = pd.concat([cis_countries_from_2017_top10,cis_countries_from_2022_top10])\n",
    "cis_countries_from_top['to'].unique()"
   ]
  },
  {
   "cell_type": "code",
   "execution_count": 37,
   "metadata": {},
   "outputs": [
    {
     "name": "stdout",
     "output_type": "stream",
     "text": [
      "Central Asia\n"
     ]
    },
    {
     "data": {
      "application/vnd.plotly.v1+json": {
       "config": {
        "plotlyServerURL": "https://plot.ly"
       },
       "data": [
        {
         "domain": {
          "x": [
           0,
           0.45
          ],
          "y": [
           0,
           1
          ]
         },
         "link": {
          "color": [
           "rgba(214, 39, 40, 0.8)",
           "rgba(214, 39, 40, 0.8)",
           "rgba(214, 39, 40, 0.8)",
           "rgba(214, 39, 40, 0.8)",
           "rgba(214, 39, 40, 0.8)",
           "rgba(148, 103, 189, 0.8)",
           "rgba(148, 103, 189, 0.8)",
           "rgba(148, 103, 189, 0.8)",
           "rgba(148, 103, 189, 0.8)",
           "rgba(148, 103, 189, 0.8)",
           "rgba(127, 127, 127, 0.8)",
           "rgba(127, 127, 127, 0.8)",
           "rgba(127, 127, 127, 0.8)",
           "rgba(127, 127, 127, 0.8)",
           "rgba(127, 127, 127, 0.8)",
           "rgba(188, 189, 34, 0.8)",
           "rgba(188, 189, 34, 0.8)",
           "rgba(188, 189, 34, 0.8)",
           "rgba(188, 189, 34, 0.8)",
           "rgba(188, 189, 34, 0.8)",
           "rgba(255, 187, 120, 0.8)",
           "rgba(255, 187, 120, 0.8)",
           "rgba(255, 187, 120, 0.8)",
           "rgba(255, 187, 120, 0.8)",
           "rgba(255, 187, 120, 0.8)",
           "rgba(214, 39, 40, 0.8)",
           "rgba(214, 39, 40, 0.8)",
           "rgba(214, 39, 40, 0.8)",
           "rgba(214, 39, 40, 0.8)",
           "rgba(214, 39, 40, 0.8)",
           "rgba(148, 103, 189, 0.8)",
           "rgba(148, 103, 189, 0.8)",
           "rgba(148, 103, 189, 0.8)",
           "rgba(148, 103, 189, 0.8)",
           "rgba(148, 103, 189, 0.8)",
           "rgba(127, 127, 127, 0.8)",
           "rgba(127, 127, 127, 0.8)",
           "rgba(127, 127, 127, 0.8)",
           "rgba(127, 127, 127, 0.8)",
           "rgba(127, 127, 127, 0.8)",
           "rgba(188, 189, 34, 0.8)",
           "rgba(188, 189, 34, 0.8)",
           "rgba(188, 189, 34, 0.8)",
           "rgba(188, 189, 34, 0.8)",
           "rgba(188, 189, 34, 0.8)",
           "rgba(255, 187, 120, 0.8)",
           "rgba(255, 187, 120, 0.8)",
           "rgba(255, 187, 120, 0.8)",
           "rgba(255, 187, 120, 0.8)",
           "rgba(255, 187, 120, 0.8)"
          ],
          "label": [
           "Kazakhstan Out → Russia In: 65237.0",
           "Kazakhstan Out → China In: 11784.0",
           "Kazakhstan Out → Kyrgyzstan In: 4907.0",
           "Kazakhstan Out → Turkey In: 2015.0",
           "Kazakhstan Out → USA In: 1706.0",
           "Kyrgyzstan Out → Russia In: 5523.0",
           "Kyrgyzstan Out → Turkey In: 2032.0",
           "Kyrgyzstan Out → Kazakhstan In: 1459.0",
           "Kyrgyzstan Out → Germany In: 477.0",
           "Kyrgyzstan Out → Saudi Arabia In: 380.0",
           "Tajikistan Out → Russia In: 14204.0",
           "Tajikistan Out → Kyrgyzstan In: 2008.0",
           "Tajikistan Out → Turkey In: 692.0",
           "Tajikistan Out → Belarus In: 446.0",
           "Tajikistan Out → Kazakhstan In: 435.0",
           "Turkmenistan Out → Russia In: 17457.0",
           "Turkmenistan Out → Turkey In: 10418.0",
           "Turkmenistan Out → Belarus In: 8012.0",
           "Turkmenistan Out → Kazakhstan In: 1293.0",
           "Turkmenistan Out → Malaysia In: 252.0",
           "Uzbekistan Out → Russia In: 20862.0",
           "Uzbekistan Out → Kazakhstan In: 3818.0",
           "Uzbekistan Out → Republic of Korea In: 1716.0",
           "Uzbekistan Out → Latvia In: 1025.0",
           "Uzbekistan Out → Turkey In: 736.0",
           "Kazakhstan Out → Russia In: nan",
           "Kazakhstan Out → China In: nan",
           "Kazakhstan Out → Turkey In: nan",
           "Kazakhstan Out → Czechia In: nan",
           "Kazakhstan Out → USA In: nan",
           "Kyrgyzstan Out → Russia In: nan",
           "Kyrgyzstan Out → Turkey In: nan",
           "Kyrgyzstan Out → USA In: nan",
           "Kyrgyzstan Out → Kazakhstan In: nan",
           "Kyrgyzstan Out → Germany In: nan",
           "Tajikistan Out → Russia In: nan",
           "Tajikistan Out → Kyrgyzstan In: nan",
           "Tajikistan Out → Turkey In: nan",
           "Tajikistan Out → Kazakhstan In: nan",
           "Tajikistan Out → Poland In: nan",
           "Turkmenistan Out → Russia In: nan",
           "Turkmenistan Out → Turkey In: nan",
           "Turkmenistan Out → Belarus In: nan",
           "Turkmenistan Out → Uzbekistan In: nan",
           "Turkmenistan Out → Kazakhstan In: nan",
           "Uzbekistan Out → Kyrgyzstan In: nan",
           "Uzbekistan Out → Russia In: nan",
           "Uzbekistan Out → Kazakhstan In: nan",
           "Uzbekistan Out → Republic of Korea In: nan",
           "Uzbekistan Out → Turkey In: nan"
          ],
          "source": [
           8,
           8,
           8,
           8,
           8,
           15,
           15,
           15,
           15,
           15,
           10,
           10,
           10,
           10,
           10,
           6,
           6,
           6,
           6,
           6,
           17,
           17,
           17,
           17,
           17,
           8,
           8,
           8,
           8,
           8,
           15,
           15,
           15,
           15,
           15,
           10,
           10,
           10,
           10,
           10,
           6,
           6,
           6,
           6,
           6,
           17,
           17,
           17,
           17,
           17
          ],
          "target": [
           12,
           5,
           11,
           2,
           0,
           12,
           2,
           7,
           16,
           9,
           12,
           11,
           2,
           14,
           7,
           12,
           2,
           14,
           7,
           4,
           12,
           7,
           18,
           3,
           2,
           12,
           5,
           2,
           13,
           0,
           12,
           2,
           0,
           7,
           16,
           12,
           11,
           2,
           7,
           19,
           12,
           2,
           14,
           1,
           7,
           11,
           12,
           7,
           18,
           2
          ],
          "value": [
           65237,
           11784,
           4907,
           2015,
           1706,
           5523,
           2032,
           1459,
           477,
           380,
           14204,
           2008,
           692,
           446,
           435,
           17457,
           10418,
           8012,
           1293,
           252,
           20862,
           3818,
           1716,
           1025,
           736,
           null,
           null,
           null,
           null,
           null,
           null,
           null,
           null,
           null,
           null,
           null,
           null,
           null,
           null,
           null,
           null,
           null,
           null,
           null,
           null,
           null,
           null,
           null,
           null,
           null
          ]
         },
         "node": {
          "color": [
           "rgba(189, 195, 199, 0.8)",
           "rgba(255, 187, 120, 0.8)",
           "rgba(189, 195, 199, 0.8)",
           "rgba(189, 195, 199, 0.8)",
           "rgba(189, 195, 199, 0.8)",
           "rgba(189, 195, 199, 0.8)",
           "rgba(188, 189, 34, 0.8)",
           "rgba(214, 39, 40, 0.8)",
           "rgba(214, 39, 40, 0.8)",
           "rgba(189, 195, 199, 0.8)",
           "rgba(127, 127, 127, 0.8)",
           "rgba(148, 103, 189, 0.8)",
           "rgba(227, 119, 194, 0.8)",
           "rgba(189, 195, 199, 0.8)",
           "rgba(44, 162, 44, 0.8)",
           "rgba(148, 103, 189, 0.8)",
           "rgba(189, 195, 199, 0.8)",
           "rgba(255, 187, 120, 0.8)",
           "rgba(189, 195, 199, 0.8)",
           "rgba(189, 195, 199, 0.8)"
          ],
          "label": [
           "USA In (1706)",
           "Uzbekistan In (0)",
           "Turkey In (15893)",
           "Latvia In (1025)",
           "Malaysia In (252)",
           "China In (11784)",
           "Turkmenistan Out (37432)",
           "Kazakhstan In (7005)",
           "Kazakhstan Out (85649)",
           "Saudi Arabia In (380)",
           "Tajikistan Out (17785)",
           "Kyrgyzstan In (6915)",
           "Russia In (123283)",
           "Czechia In (0)",
           "Belarus In (8458)",
           "Kyrgyzstan Out (9871)",
           "Germany In (477)",
           "Uzbekistan Out (28157)",
           "Republic of Korea In (1716)",
           "Poland In (0)"
          ],
          "line": {
           "color": "black",
           "width": 0.5
          },
          "pad": 48,
          "thickness": 50
         },
         "type": "sankey"
        },
        {
         "domain": {
          "x": [
           0.55,
           1
          ],
          "y": [
           0,
           1
          ]
         },
         "link": {
          "color": [
           "rgba(214, 39, 40, 0.8)",
           "rgba(214, 39, 40, 0.8)",
           "rgba(214, 39, 40, 0.8)",
           "rgba(214, 39, 40, 0.8)",
           "rgba(214, 39, 40, 0.8)",
           "rgba(148, 103, 189, 0.8)",
           "rgba(148, 103, 189, 0.8)",
           "rgba(148, 103, 189, 0.8)",
           "rgba(148, 103, 189, 0.8)",
           "rgba(148, 103, 189, 0.8)",
           "rgba(127, 127, 127, 0.8)",
           "rgba(127, 127, 127, 0.8)",
           "rgba(127, 127, 127, 0.8)",
           "rgba(127, 127, 127, 0.8)",
           "rgba(127, 127, 127, 0.8)",
           "rgba(188, 189, 34, 0.8)",
           "rgba(188, 189, 34, 0.8)",
           "rgba(188, 189, 34, 0.8)",
           "rgba(188, 189, 34, 0.8)",
           "rgba(188, 189, 34, 0.8)",
           "rgba(255, 187, 120, 0.8)",
           "rgba(255, 187, 120, 0.8)",
           "rgba(255, 187, 120, 0.8)",
           "rgba(255, 187, 120, 0.8)",
           "rgba(255, 187, 120, 0.8)",
           "rgba(214, 39, 40, 0.8)",
           "rgba(214, 39, 40, 0.8)",
           "rgba(214, 39, 40, 0.8)",
           "rgba(214, 39, 40, 0.8)",
           "rgba(214, 39, 40, 0.8)",
           "rgba(148, 103, 189, 0.8)",
           "rgba(148, 103, 189, 0.8)",
           "rgba(148, 103, 189, 0.8)",
           "rgba(148, 103, 189, 0.8)",
           "rgba(148, 103, 189, 0.8)",
           "rgba(127, 127, 127, 0.8)",
           "rgba(127, 127, 127, 0.8)",
           "rgba(127, 127, 127, 0.8)",
           "rgba(127, 127, 127, 0.8)",
           "rgba(127, 127, 127, 0.8)",
           "rgba(188, 189, 34, 0.8)",
           "rgba(188, 189, 34, 0.8)",
           "rgba(188, 189, 34, 0.8)",
           "rgba(188, 189, 34, 0.8)",
           "rgba(188, 189, 34, 0.8)",
           "rgba(255, 187, 120, 0.8)",
           "rgba(255, 187, 120, 0.8)",
           "rgba(255, 187, 120, 0.8)",
           "rgba(255, 187, 120, 0.8)",
           "rgba(255, 187, 120, 0.8)"
          ],
          "label": [
           "Kazakhstan Out → Russia In: nan",
           "Kazakhstan Out → China In: nan",
           "Kazakhstan Out → Kyrgyzstan In: nan",
           "Kazakhstan Out → Turkey In: nan",
           "Kazakhstan Out → USA In: nan",
           "Kyrgyzstan Out → Russia In: nan",
           "Kyrgyzstan Out → Turkey In: nan",
           "Kyrgyzstan Out → Kazakhstan In: nan",
           "Kyrgyzstan Out → Germany In: nan",
           "Kyrgyzstan Out → Saudi Arabia In: nan",
           "Tajikistan Out → Russia In: nan",
           "Tajikistan Out → Kyrgyzstan In: nan",
           "Tajikistan Out → Turkey In: nan",
           "Tajikistan Out → Belarus In: nan",
           "Tajikistan Out → Kazakhstan In: nan",
           "Turkmenistan Out → Russia In: nan",
           "Turkmenistan Out → Turkey In: nan",
           "Turkmenistan Out → Belarus In: nan",
           "Turkmenistan Out → Kazakhstan In: nan",
           "Turkmenistan Out → Malaysia In: nan",
           "Uzbekistan Out → Russia In: nan",
           "Uzbekistan Out → Kazakhstan In: nan",
           "Uzbekistan Out → Republic of Korea In: nan",
           "Uzbekistan Out → Latvia In: nan",
           "Uzbekistan Out → Turkey In: nan",
           "Kazakhstan Out → Russia In: 53935.0",
           "Kazakhstan Out → China In: 15000.0",
           "Kazakhstan Out → Turkey In: 4788.0",
           "Kazakhstan Out → Czechia In: 2610.0",
           "Kazakhstan Out → USA In: 2440.0",
           "Kyrgyzstan Out → Russia In: 9345.0",
           "Kyrgyzstan Out → Turkey In: 1759.0",
           "Kyrgyzstan Out → USA In: 705.0",
           "Kyrgyzstan Out → Kazakhstan In: 597.0",
           "Kyrgyzstan Out → Germany In: 541.0",
           "Tajikistan Out → Russia In: 27086.0",
           "Tajikistan Out → Kyrgyzstan In: 1595.0",
           "Tajikistan Out → Turkey In: 669.0",
           "Tajikistan Out → Kazakhstan In: 361.0",
           "Tajikistan Out → Poland In: 317.0",
           "Turkmenistan Out → Russia In: 27095.0",
           "Turkmenistan Out → Turkey In: 15362.0",
           "Turkmenistan Out → Belarus In: 6482.0",
           "Turkmenistan Out → Uzbekistan In: 2233.0",
           "Turkmenistan Out → Kazakhstan In: 1373.0",
           "Uzbekistan Out → Kyrgyzstan In: 51605.0",
           "Uzbekistan Out → Russia In: 48430.0",
           "Uzbekistan Out → Kazakhstan In: 9571.0",
           "Uzbekistan Out → Republic of Korea In: 8222.0",
           "Uzbekistan Out → Turkey In: 3325.0"
          ],
          "source": [
           8,
           8,
           8,
           8,
           8,
           15,
           15,
           15,
           15,
           15,
           10,
           10,
           10,
           10,
           10,
           6,
           6,
           6,
           6,
           6,
           17,
           17,
           17,
           17,
           17,
           8,
           8,
           8,
           8,
           8,
           15,
           15,
           15,
           15,
           15,
           10,
           10,
           10,
           10,
           10,
           6,
           6,
           6,
           6,
           6,
           17,
           17,
           17,
           17,
           17
          ],
          "target": [
           12,
           5,
           11,
           2,
           0,
           12,
           2,
           7,
           16,
           9,
           12,
           11,
           2,
           14,
           7,
           12,
           2,
           14,
           7,
           4,
           12,
           7,
           18,
           3,
           2,
           12,
           5,
           2,
           13,
           0,
           12,
           2,
           0,
           7,
           16,
           12,
           11,
           2,
           7,
           19,
           12,
           2,
           14,
           1,
           7,
           11,
           12,
           7,
           18,
           2
          ],
          "value": [
           null,
           null,
           null,
           null,
           null,
           null,
           null,
           null,
           null,
           null,
           null,
           null,
           null,
           null,
           null,
           null,
           null,
           null,
           null,
           null,
           null,
           null,
           null,
           null,
           null,
           53935,
           15000,
           4788,
           2610,
           2440,
           9345,
           1759,
           705,
           597,
           541,
           27086,
           1595,
           669,
           361,
           317,
           27095,
           15362,
           6482,
           2233,
           1373,
           51605,
           48430,
           9571,
           8222,
           3325
          ]
         },
         "node": {
          "color": [
           "rgba(189, 195, 199, 0.8)",
           "rgba(255, 187, 120, 0.8)",
           "rgba(189, 195, 199, 0.8)",
           "rgba(189, 195, 199, 0.8)",
           "rgba(189, 195, 199, 0.8)",
           "rgba(189, 195, 199, 0.8)",
           "rgba(188, 189, 34, 0.8)",
           "rgba(214, 39, 40, 0.8)",
           "rgba(214, 39, 40, 0.8)",
           "rgba(189, 195, 199, 0.8)",
           "rgba(127, 127, 127, 0.8)",
           "rgba(148, 103, 189, 0.8)",
           "rgba(227, 119, 194, 0.8)",
           "rgba(189, 195, 199, 0.8)",
           "rgba(44, 162, 44, 0.8)",
           "rgba(148, 103, 189, 0.8)",
           "rgba(189, 195, 199, 0.8)",
           "rgba(255, 187, 120, 0.8)",
           "rgba(189, 195, 199, 0.8)",
           "rgba(189, 195, 199, 0.8)"
          ],
          "label": [
           "USA In (3145)",
           "Uzbekistan In (2233)",
           "Turkey In (25903)",
           "Latvia In (0)",
           "Malaysia In (0)",
           "China In (15000)",
           "Turkmenistan Out (52545)",
           "Kazakhstan In (11902)",
           "Kazakhstan Out (78773)",
           "Saudi Arabia In (0)",
           "Tajikistan Out (30028)",
           "Kyrgyzstan In (53200)",
           "Russia In (165891)",
           "Czechia In (2610)",
           "Belarus In (6482)",
           "Kyrgyzstan Out (12947)",
           "Germany In (541)",
           "Uzbekistan Out (121153)",
           "Republic of Korea In (8222)",
           "Poland In (317)"
          ],
          "line": {
           "color": "black",
           "width": 0.5
          },
          "pad": 18,
          "thickness": 50
         },
         "type": "sankey"
        }
       ],
       "layout": {
        "annotations": [
         {
          "font": {
           "color": "black",
           "size": 16
          },
          "showarrow": false,
          "text": "2017",
          "x": 0.2,
          "y": 1.05
         },
         {
          "font": {
           "color": "black",
           "size": 16
          },
          "showarrow": false,
          "text": "2022",
          "x": 0.78,
          "y": 1.05
         },
         {
          "font": {
           "color": "black",
           "size": 12
          },
          "showarrow": false,
          "text": "@Conspect Labs, Sources: UNESCO, OpenDoorsData, Nuffic, IIE, Statista, MoE of Kazakhstan, Iran, Egypt, Thailand",
          "x": 0.002,
          "y": -0.1
         }
        ],
        "font": {
         "color": "black",
         "family": "Times",
         "size": 12
        },
        "height": 600,
        "plot_bgcolor": "white",
        "template": {
         "data": {
          "bar": [
           {
            "error_x": {
             "color": "#2a3f5f"
            },
            "error_y": {
             "color": "#2a3f5f"
            },
            "marker": {
             "line": {
              "color": "#E5ECF6",
              "width": 0.5
             },
             "pattern": {
              "fillmode": "overlay",
              "size": 10,
              "solidity": 0.2
             }
            },
            "type": "bar"
           }
          ],
          "barpolar": [
           {
            "marker": {
             "line": {
              "color": "#E5ECF6",
              "width": 0.5
             },
             "pattern": {
              "fillmode": "overlay",
              "size": 10,
              "solidity": 0.2
             }
            },
            "type": "barpolar"
           }
          ],
          "carpet": [
           {
            "aaxis": {
             "endlinecolor": "#2a3f5f",
             "gridcolor": "white",
             "linecolor": "white",
             "minorgridcolor": "white",
             "startlinecolor": "#2a3f5f"
            },
            "baxis": {
             "endlinecolor": "#2a3f5f",
             "gridcolor": "white",
             "linecolor": "white",
             "minorgridcolor": "white",
             "startlinecolor": "#2a3f5f"
            },
            "type": "carpet"
           }
          ],
          "choropleth": [
           {
            "colorbar": {
             "outlinewidth": 0,
             "ticks": ""
            },
            "type": "choropleth"
           }
          ],
          "contour": [
           {
            "colorbar": {
             "outlinewidth": 0,
             "ticks": ""
            },
            "colorscale": [
             [
              0,
              "#0d0887"
             ],
             [
              0.1111111111111111,
              "#46039f"
             ],
             [
              0.2222222222222222,
              "#7201a8"
             ],
             [
              0.3333333333333333,
              "#9c179e"
             ],
             [
              0.4444444444444444,
              "#bd3786"
             ],
             [
              0.5555555555555556,
              "#d8576b"
             ],
             [
              0.6666666666666666,
              "#ed7953"
             ],
             [
              0.7777777777777778,
              "#fb9f3a"
             ],
             [
              0.8888888888888888,
              "#fdca26"
             ],
             [
              1,
              "#f0f921"
             ]
            ],
            "type": "contour"
           }
          ],
          "contourcarpet": [
           {
            "colorbar": {
             "outlinewidth": 0,
             "ticks": ""
            },
            "type": "contourcarpet"
           }
          ],
          "heatmap": [
           {
            "colorbar": {
             "outlinewidth": 0,
             "ticks": ""
            },
            "colorscale": [
             [
              0,
              "#0d0887"
             ],
             [
              0.1111111111111111,
              "#46039f"
             ],
             [
              0.2222222222222222,
              "#7201a8"
             ],
             [
              0.3333333333333333,
              "#9c179e"
             ],
             [
              0.4444444444444444,
              "#bd3786"
             ],
             [
              0.5555555555555556,
              "#d8576b"
             ],
             [
              0.6666666666666666,
              "#ed7953"
             ],
             [
              0.7777777777777778,
              "#fb9f3a"
             ],
             [
              0.8888888888888888,
              "#fdca26"
             ],
             [
              1,
              "#f0f921"
             ]
            ],
            "type": "heatmap"
           }
          ],
          "heatmapgl": [
           {
            "colorbar": {
             "outlinewidth": 0,
             "ticks": ""
            },
            "colorscale": [
             [
              0,
              "#0d0887"
             ],
             [
              0.1111111111111111,
              "#46039f"
             ],
             [
              0.2222222222222222,
              "#7201a8"
             ],
             [
              0.3333333333333333,
              "#9c179e"
             ],
             [
              0.4444444444444444,
              "#bd3786"
             ],
             [
              0.5555555555555556,
              "#d8576b"
             ],
             [
              0.6666666666666666,
              "#ed7953"
             ],
             [
              0.7777777777777778,
              "#fb9f3a"
             ],
             [
              0.8888888888888888,
              "#fdca26"
             ],
             [
              1,
              "#f0f921"
             ]
            ],
            "type": "heatmapgl"
           }
          ],
          "histogram": [
           {
            "marker": {
             "pattern": {
              "fillmode": "overlay",
              "size": 10,
              "solidity": 0.2
             }
            },
            "type": "histogram"
           }
          ],
          "histogram2d": [
           {
            "colorbar": {
             "outlinewidth": 0,
             "ticks": ""
            },
            "colorscale": [
             [
              0,
              "#0d0887"
             ],
             [
              0.1111111111111111,
              "#46039f"
             ],
             [
              0.2222222222222222,
              "#7201a8"
             ],
             [
              0.3333333333333333,
              "#9c179e"
             ],
             [
              0.4444444444444444,
              "#bd3786"
             ],
             [
              0.5555555555555556,
              "#d8576b"
             ],
             [
              0.6666666666666666,
              "#ed7953"
             ],
             [
              0.7777777777777778,
              "#fb9f3a"
             ],
             [
              0.8888888888888888,
              "#fdca26"
             ],
             [
              1,
              "#f0f921"
             ]
            ],
            "type": "histogram2d"
           }
          ],
          "histogram2dcontour": [
           {
            "colorbar": {
             "outlinewidth": 0,
             "ticks": ""
            },
            "colorscale": [
             [
              0,
              "#0d0887"
             ],
             [
              0.1111111111111111,
              "#46039f"
             ],
             [
              0.2222222222222222,
              "#7201a8"
             ],
             [
              0.3333333333333333,
              "#9c179e"
             ],
             [
              0.4444444444444444,
              "#bd3786"
             ],
             [
              0.5555555555555556,
              "#d8576b"
             ],
             [
              0.6666666666666666,
              "#ed7953"
             ],
             [
              0.7777777777777778,
              "#fb9f3a"
             ],
             [
              0.8888888888888888,
              "#fdca26"
             ],
             [
              1,
              "#f0f921"
             ]
            ],
            "type": "histogram2dcontour"
           }
          ],
          "mesh3d": [
           {
            "colorbar": {
             "outlinewidth": 0,
             "ticks": ""
            },
            "type": "mesh3d"
           }
          ],
          "parcoords": [
           {
            "line": {
             "colorbar": {
              "outlinewidth": 0,
              "ticks": ""
             }
            },
            "type": "parcoords"
           }
          ],
          "pie": [
           {
            "automargin": true,
            "type": "pie"
           }
          ],
          "scatter": [
           {
            "fillpattern": {
             "fillmode": "overlay",
             "size": 10,
             "solidity": 0.2
            },
            "type": "scatter"
           }
          ],
          "scatter3d": [
           {
            "line": {
             "colorbar": {
              "outlinewidth": 0,
              "ticks": ""
             }
            },
            "marker": {
             "colorbar": {
              "outlinewidth": 0,
              "ticks": ""
             }
            },
            "type": "scatter3d"
           }
          ],
          "scattercarpet": [
           {
            "marker": {
             "colorbar": {
              "outlinewidth": 0,
              "ticks": ""
             }
            },
            "type": "scattercarpet"
           }
          ],
          "scattergeo": [
           {
            "marker": {
             "colorbar": {
              "outlinewidth": 0,
              "ticks": ""
             }
            },
            "type": "scattergeo"
           }
          ],
          "scattergl": [
           {
            "marker": {
             "colorbar": {
              "outlinewidth": 0,
              "ticks": ""
             }
            },
            "type": "scattergl"
           }
          ],
          "scattermapbox": [
           {
            "marker": {
             "colorbar": {
              "outlinewidth": 0,
              "ticks": ""
             }
            },
            "type": "scattermapbox"
           }
          ],
          "scatterpolar": [
           {
            "marker": {
             "colorbar": {
              "outlinewidth": 0,
              "ticks": ""
             }
            },
            "type": "scatterpolar"
           }
          ],
          "scatterpolargl": [
           {
            "marker": {
             "colorbar": {
              "outlinewidth": 0,
              "ticks": ""
             }
            },
            "type": "scatterpolargl"
           }
          ],
          "scatterternary": [
           {
            "marker": {
             "colorbar": {
              "outlinewidth": 0,
              "ticks": ""
             }
            },
            "type": "scatterternary"
           }
          ],
          "surface": [
           {
            "colorbar": {
             "outlinewidth": 0,
             "ticks": ""
            },
            "colorscale": [
             [
              0,
              "#0d0887"
             ],
             [
              0.1111111111111111,
              "#46039f"
             ],
             [
              0.2222222222222222,
              "#7201a8"
             ],
             [
              0.3333333333333333,
              "#9c179e"
             ],
             [
              0.4444444444444444,
              "#bd3786"
             ],
             [
              0.5555555555555556,
              "#d8576b"
             ],
             [
              0.6666666666666666,
              "#ed7953"
             ],
             [
              0.7777777777777778,
              "#fb9f3a"
             ],
             [
              0.8888888888888888,
              "#fdca26"
             ],
             [
              1,
              "#f0f921"
             ]
            ],
            "type": "surface"
           }
          ],
          "table": [
           {
            "cells": {
             "fill": {
              "color": "#EBF0F8"
             },
             "line": {
              "color": "white"
             }
            },
            "header": {
             "fill": {
              "color": "#C8D4E3"
             },
             "line": {
              "color": "white"
             }
            },
            "type": "table"
           }
          ]
         },
         "layout": {
          "annotationdefaults": {
           "arrowcolor": "#2a3f5f",
           "arrowhead": 0,
           "arrowwidth": 1
          },
          "autotypenumbers": "strict",
          "coloraxis": {
           "colorbar": {
            "outlinewidth": 0,
            "ticks": ""
           }
          },
          "colorscale": {
           "diverging": [
            [
             0,
             "#8e0152"
            ],
            [
             0.1,
             "#c51b7d"
            ],
            [
             0.2,
             "#de77ae"
            ],
            [
             0.3,
             "#f1b6da"
            ],
            [
             0.4,
             "#fde0ef"
            ],
            [
             0.5,
             "#f7f7f7"
            ],
            [
             0.6,
             "#e6f5d0"
            ],
            [
             0.7,
             "#b8e186"
            ],
            [
             0.8,
             "#7fbc41"
            ],
            [
             0.9,
             "#4d9221"
            ],
            [
             1,
             "#276419"
            ]
           ],
           "sequential": [
            [
             0,
             "#0d0887"
            ],
            [
             0.1111111111111111,
             "#46039f"
            ],
            [
             0.2222222222222222,
             "#7201a8"
            ],
            [
             0.3333333333333333,
             "#9c179e"
            ],
            [
             0.4444444444444444,
             "#bd3786"
            ],
            [
             0.5555555555555556,
             "#d8576b"
            ],
            [
             0.6666666666666666,
             "#ed7953"
            ],
            [
             0.7777777777777778,
             "#fb9f3a"
            ],
            [
             0.8888888888888888,
             "#fdca26"
            ],
            [
             1,
             "#f0f921"
            ]
           ],
           "sequentialminus": [
            [
             0,
             "#0d0887"
            ],
            [
             0.1111111111111111,
             "#46039f"
            ],
            [
             0.2222222222222222,
             "#7201a8"
            ],
            [
             0.3333333333333333,
             "#9c179e"
            ],
            [
             0.4444444444444444,
             "#bd3786"
            ],
            [
             0.5555555555555556,
             "#d8576b"
            ],
            [
             0.6666666666666666,
             "#ed7953"
            ],
            [
             0.7777777777777778,
             "#fb9f3a"
            ],
            [
             0.8888888888888888,
             "#fdca26"
            ],
            [
             1,
             "#f0f921"
            ]
           ]
          },
          "colorway": [
           "#636efa",
           "#EF553B",
           "#00cc96",
           "#ab63fa",
           "#FFA15A",
           "#19d3f3",
           "#FF6692",
           "#B6E880",
           "#FF97FF",
           "#FECB52"
          ],
          "font": {
           "color": "#2a3f5f"
          },
          "geo": {
           "bgcolor": "white",
           "lakecolor": "white",
           "landcolor": "#E5ECF6",
           "showlakes": true,
           "showland": true,
           "subunitcolor": "white"
          },
          "hoverlabel": {
           "align": "left"
          },
          "hovermode": "closest",
          "mapbox": {
           "style": "light"
          },
          "paper_bgcolor": "white",
          "plot_bgcolor": "#E5ECF6",
          "polar": {
           "angularaxis": {
            "gridcolor": "white",
            "linecolor": "white",
            "ticks": ""
           },
           "bgcolor": "#E5ECF6",
           "radialaxis": {
            "gridcolor": "white",
            "linecolor": "white",
            "ticks": ""
           }
          },
          "scene": {
           "xaxis": {
            "backgroundcolor": "#E5ECF6",
            "gridcolor": "white",
            "gridwidth": 2,
            "linecolor": "white",
            "showbackground": true,
            "ticks": "",
            "zerolinecolor": "white"
           },
           "yaxis": {
            "backgroundcolor": "#E5ECF6",
            "gridcolor": "white",
            "gridwidth": 2,
            "linecolor": "white",
            "showbackground": true,
            "ticks": "",
            "zerolinecolor": "white"
           },
           "zaxis": {
            "backgroundcolor": "#E5ECF6",
            "gridcolor": "white",
            "gridwidth": 2,
            "linecolor": "white",
            "showbackground": true,
            "ticks": "",
            "zerolinecolor": "white"
           }
          },
          "shapedefaults": {
           "line": {
            "color": "#2a3f5f"
           }
          },
          "ternary": {
           "aaxis": {
            "gridcolor": "white",
            "linecolor": "white",
            "ticks": ""
           },
           "baxis": {
            "gridcolor": "white",
            "linecolor": "white",
            "ticks": ""
           },
           "bgcolor": "#E5ECF6",
           "caxis": {
            "gridcolor": "white",
            "linecolor": "white",
            "ticks": ""
           }
          },
          "title": {
           "x": 0.05
          },
          "xaxis": {
           "automargin": true,
           "gridcolor": "white",
           "linecolor": "white",
           "ticks": "",
           "title": {
            "standoff": 15
           },
           "zerolinecolor": "white",
           "zerolinewidth": 2
          },
          "yaxis": {
           "automargin": true,
           "gridcolor": "white",
           "linecolor": "white",
           "ticks": "",
           "title": {
            "standoff": 15
           },
           "zerolinecolor": "white",
           "zerolinewidth": 2
          }
         }
        },
        "title": {
         "text": "Students Flows from Central Asia CIS Countries, Top 5 destinations for every country"
        },
        "width": 1000
       }
      }
     },
     "metadata": {},
     "output_type": "display_data"
    },
    {
     "name": "stdout",
     "output_type": "stream",
     "text": [
      "Europe & Caucasus\n"
     ]
    },
    {
     "data": {
      "application/vnd.plotly.v1+json": {
       "config": {
        "plotlyServerURL": "https://plot.ly"
       },
       "data": [
        {
         "domain": {
          "x": [
           0,
           0.45
          ],
          "y": [
           0,
           1
          ]
         },
         "link": {
          "color": [
           "rgba(31, 119, 180, 0.8)",
           "rgba(31, 119, 180, 0.8)",
           "rgba(31, 119, 180, 0.8)",
           "rgba(31, 119, 180, 0.8)",
           "rgba(31, 119, 180, 0.8)",
           "rgba(255, 127, 14, 0.8)",
           "rgba(255, 127, 14, 0.8)",
           "rgba(255, 127, 14, 0.8)",
           "rgba(255, 127, 14, 0.8)",
           "rgba(255, 127, 14, 0.8)",
           "rgba(44, 162, 44, 0.8)",
           "rgba(44, 162, 44, 0.8)",
           "rgba(44, 162, 44, 0.8)",
           "rgba(44, 162, 44, 0.8)",
           "rgba(44, 162, 44, 0.8)",
           "rgba(140, 86, 75, 0.8)",
           "rgba(140, 86, 75, 0.8)",
           "rgba(140, 86, 75, 0.8)",
           "rgba(140, 86, 75, 0.8)",
           "rgba(140, 86, 75, 0.8)",
           "rgba(227, 119, 194, 0.8)",
           "rgba(227, 119, 194, 0.8)",
           "rgba(227, 119, 194, 0.8)",
           "rgba(227, 119, 194, 0.8)",
           "rgba(227, 119, 194, 0.8)",
           "rgba(23, 190, 239, 0.8)",
           "rgba(23, 190, 239, 0.8)",
           "rgba(23, 190, 239, 0.8)",
           "rgba(23, 190, 239, 0.8)",
           "rgba(23, 190, 239, 0.8)",
           "rgba(31, 119, 180, 0.8)",
           "rgba(31, 119, 180, 0.8)",
           "rgba(31, 119, 180, 0.8)",
           "rgba(31, 119, 180, 0.8)",
           "rgba(31, 119, 180, 0.8)",
           "rgba(255, 127, 14, 0.8)",
           "rgba(255, 127, 14, 0.8)",
           "rgba(255, 127, 14, 0.8)",
           "rgba(255, 127, 14, 0.8)",
           "rgba(255, 127, 14, 0.8)",
           "rgba(44, 162, 44, 0.8)",
           "rgba(44, 162, 44, 0.8)",
           "rgba(44, 162, 44, 0.8)",
           "rgba(44, 162, 44, 0.8)",
           "rgba(44, 162, 44, 0.8)",
           "rgba(140, 86, 75, 0.8)",
           "rgba(140, 86, 75, 0.8)",
           "rgba(140, 86, 75, 0.8)",
           "rgba(140, 86, 75, 0.8)",
           "rgba(140, 86, 75, 0.8)",
           "rgba(227, 119, 194, 0.8)",
           "rgba(227, 119, 194, 0.8)",
           "rgba(227, 119, 194, 0.8)",
           "rgba(227, 119, 194, 0.8)",
           "rgba(227, 119, 194, 0.8)",
           "rgba(23, 190, 239, 0.8)",
           "rgba(23, 190, 239, 0.8)",
           "rgba(23, 190, 239, 0.8)",
           "rgba(23, 190, 239, 0.8)",
           "rgba(23, 190, 239, 0.8)"
          ],
          "label": [
           "Armenia Out → Russia In: 2720.0",
           "Armenia Out → France In: 1070.0",
           "Armenia Out → Germany In: 615.0",
           "Armenia Out → USA In: 262.0",
           "Armenia Out → United Kingdom In: 120.0",
           "Azerbaijan Out → Turkey In: 14878.0",
           "Azerbaijan Out → Russia In: 11269.0",
           "Azerbaijan Out → Georgia In: 2650.0",
           "Azerbaijan Out → Germany In: 712.0",
           "Azerbaijan Out → United Kingdom In: 633.0",
           "Belarus Out → Russia In: 11600.0",
           "Belarus Out → Poland In: 5002.0",
           "Belarus Out → Lithuania In: 1152.0",
           "Belarus Out → Germany In: 1115.0",
           "Belarus Out → Czechia In: 751.0",
           "Moldova Out → Romania In: 8301.0",
           "Moldova Out → Russia In: 3402.0",
           "Moldova Out → Italy In: 2575.0",
           "Moldova Out → Germany In: 708.0",
           "Moldova Out → France In: 626.0",
           "Russia Out → China In: 19239.0",
           "Russia Out → Germany In: 9620.0",
           "Russia Out → Czechia In: 5979.0",
           "Russia Out → USA In: 5081.0",
           "Russia Out → United Kingdom In: 3920.0",
           "Ukraine Out → Poland In: 34692.0",
           "Ukraine Out → Russia In: 15263.0",
           "Ukraine Out → Germany In: 6148.0",
           "Ukraine Out → Czechia In: 3015.0",
           "Ukraine Out → Italy In: 2775.0",
           "Armenia Out → Russia In: nan",
           "Armenia Out → Germany In: nan",
           "Armenia Out → USA In: nan",
           "Armenia Out → France In: nan",
           "Armenia Out → United Kingdom In: nan",
           "Azerbaijan Out → Turkey In: nan",
           "Azerbaijan Out → Russia In: nan",
           "Azerbaijan Out → Germany In: nan",
           "Azerbaijan Out → Poland In: nan",
           "Azerbaijan Out → Georgia In: nan",
           "Belarus Out → Poland In: nan",
           "Belarus Out → Russia In: nan",
           "Belarus Out → Germany In: nan",
           "Belarus Out → Lithuania In: nan",
           "Belarus Out → Czechia In: nan",
           "Moldova Out → Romania In: nan",
           "Moldova Out → Russia In: nan",
           "Moldova Out → Germany In: nan",
           "Moldova Out → Italy In: nan",
           "Moldova Out → Bulgaria In: nan",
           "Russia Out → China In: nan",
           "Russia Out → Germany In: nan",
           "Russia Out → Czechia In: nan",
           "Russia Out → USA In: nan",
           "Russia Out → United Kingdom In: nan",
           "Ukraine Out → Poland In: nan",
           "Ukraine Out → Russia In: nan",
           "Ukraine Out → Germany In: nan",
           "Ukraine Out → Slovakia In: nan",
           "Ukraine Out → Czechia In: nan"
          ],
          "source": [
           5,
           5,
           5,
           5,
           5,
           4,
           4,
           4,
           4,
           4,
           13,
           13,
           13,
           13,
           13,
           10,
           10,
           10,
           10,
           10,
           20,
           20,
           20,
           20,
           20,
           3,
           3,
           3,
           3,
           3,
           5,
           5,
           5,
           5,
           5,
           4,
           4,
           4,
           4,
           4,
           13,
           13,
           13,
           13,
           13,
           10,
           10,
           10,
           10,
           10,
           20,
           20,
           20,
           20,
           20,
           3,
           3,
           3,
           3,
           3
          ],
          "target": [
           11,
           19,
           16,
           0,
           9,
           2,
           11,
           1,
           16,
           9,
           11,
           17,
           6,
           16,
           14,
           15,
           11,
           12,
           16,
           19,
           8,
           16,
           14,
           0,
           9,
           17,
           11,
           16,
           14,
           12,
           11,
           16,
           0,
           19,
           9,
           2,
           11,
           16,
           17,
           1,
           17,
           11,
           16,
           6,
           14,
           15,
           11,
           16,
           12,
           18,
           8,
           16,
           14,
           0,
           9,
           17,
           11,
           16,
           7,
           14
          ],
          "value": [
           2720,
           1070,
           615,
           262,
           120,
           14878,
           11269,
           2650,
           712,
           633,
           11600,
           5002,
           1152,
           1115,
           751,
           8301,
           3402,
           2575,
           708,
           626,
           19239,
           9620,
           5979,
           5081,
           3920,
           34692,
           15263,
           6148,
           3015,
           2775,
           null,
           null,
           null,
           null,
           null,
           null,
           null,
           null,
           null,
           null,
           null,
           null,
           null,
           null,
           null,
           null,
           null,
           null,
           null,
           null,
           null,
           null,
           null,
           null,
           null,
           null,
           null,
           null,
           null,
           null
          ]
         },
         "node": {
          "color": [
           "rgba(189, 195, 199, 0.8)",
           "rgba(189, 195, 199, 0.8)",
           "rgba(189, 195, 199, 0.8)",
           "rgba(23, 190, 239, 0.8)",
           "rgba(255, 127, 14, 0.8)",
           "rgba(31, 119, 180, 0.8)",
           "rgba(189, 195, 199, 0.8)",
           "rgba(189, 195, 199, 0.8)",
           "rgba(189, 195, 199, 0.8)",
           "rgba(189, 195, 199, 0.8)",
           "rgba(140, 86, 75, 0.8)",
           "rgba(227, 119, 194, 0.8)",
           "rgba(189, 195, 199, 0.8)",
           "rgba(44, 162, 44, 0.8)",
           "rgba(189, 195, 199, 0.8)",
           "rgba(189, 195, 199, 0.8)",
           "rgba(189, 195, 199, 0.8)",
           "rgba(189, 195, 199, 0.8)",
           "rgba(189, 195, 199, 0.8)",
           "rgba(189, 195, 199, 0.8)",
           "rgba(227, 119, 194, 0.8)"
          ],
          "label": [
           "USA In (5343)",
           "Georgia In (2650)",
           "Turkey In (14878)",
           "Ukraine Out (61893)",
           "Azerbaijan Out (30142)",
           "Armenia Out (4787)",
           "Lithuania In (1152)",
           "Slovakia In (0)",
           "China In (19239)",
           "United Kingdom In (4673)",
           "Moldova Out (15612)",
           "Russia In (44254)",
           "Italy In (5350)",
           "Belarus Out (19620)",
           "Czechia In (9745)",
           "Romania In (8301)",
           "Germany In (18918)",
           "Poland In (39694)",
           "Bulgaria In (0)",
           "France In (1696)",
           "Russia Out (43839)"
          ],
          "line": {
           "color": "black",
           "width": 0.5
          },
          "pad": 48,
          "thickness": 50
         },
         "type": "sankey"
        },
        {
         "domain": {
          "x": [
           0.55,
           1
          ],
          "y": [
           0,
           1
          ]
         },
         "link": {
          "color": [
           "rgba(31, 119, 180, 0.8)",
           "rgba(31, 119, 180, 0.8)",
           "rgba(31, 119, 180, 0.8)",
           "rgba(31, 119, 180, 0.8)",
           "rgba(31, 119, 180, 0.8)",
           "rgba(255, 127, 14, 0.8)",
           "rgba(255, 127, 14, 0.8)",
           "rgba(255, 127, 14, 0.8)",
           "rgba(255, 127, 14, 0.8)",
           "rgba(255, 127, 14, 0.8)",
           "rgba(44, 162, 44, 0.8)",
           "rgba(44, 162, 44, 0.8)",
           "rgba(44, 162, 44, 0.8)",
           "rgba(44, 162, 44, 0.8)",
           "rgba(44, 162, 44, 0.8)",
           "rgba(140, 86, 75, 0.8)",
           "rgba(140, 86, 75, 0.8)",
           "rgba(140, 86, 75, 0.8)",
           "rgba(140, 86, 75, 0.8)",
           "rgba(140, 86, 75, 0.8)",
           "rgba(227, 119, 194, 0.8)",
           "rgba(227, 119, 194, 0.8)",
           "rgba(227, 119, 194, 0.8)",
           "rgba(227, 119, 194, 0.8)",
           "rgba(227, 119, 194, 0.8)",
           "rgba(23, 190, 239, 0.8)",
           "rgba(23, 190, 239, 0.8)",
           "rgba(23, 190, 239, 0.8)",
           "rgba(23, 190, 239, 0.8)",
           "rgba(23, 190, 239, 0.8)",
           "rgba(31, 119, 180, 0.8)",
           "rgba(31, 119, 180, 0.8)",
           "rgba(31, 119, 180, 0.8)",
           "rgba(31, 119, 180, 0.8)",
           "rgba(31, 119, 180, 0.8)",
           "rgba(255, 127, 14, 0.8)",
           "rgba(255, 127, 14, 0.8)",
           "rgba(255, 127, 14, 0.8)",
           "rgba(255, 127, 14, 0.8)",
           "rgba(255, 127, 14, 0.8)",
           "rgba(44, 162, 44, 0.8)",
           "rgba(44, 162, 44, 0.8)",
           "rgba(44, 162, 44, 0.8)",
           "rgba(44, 162, 44, 0.8)",
           "rgba(44, 162, 44, 0.8)",
           "rgba(140, 86, 75, 0.8)",
           "rgba(140, 86, 75, 0.8)",
           "rgba(140, 86, 75, 0.8)",
           "rgba(140, 86, 75, 0.8)",
           "rgba(140, 86, 75, 0.8)",
           "rgba(227, 119, 194, 0.8)",
           "rgba(227, 119, 194, 0.8)",
           "rgba(227, 119, 194, 0.8)",
           "rgba(227, 119, 194, 0.8)",
           "rgba(227, 119, 194, 0.8)",
           "rgba(23, 190, 239, 0.8)",
           "rgba(23, 190, 239, 0.8)",
           "rgba(23, 190, 239, 0.8)",
           "rgba(23, 190, 239, 0.8)",
           "rgba(23, 190, 239, 0.8)"
          ],
          "label": [
           "Armenia Out → Russia In: nan",
           "Armenia Out → France In: nan",
           "Armenia Out → Germany In: nan",
           "Armenia Out → USA In: nan",
           "Armenia Out → United Kingdom In: nan",
           "Azerbaijan Out → Turkey In: nan",
           "Azerbaijan Out → Russia In: nan",
           "Azerbaijan Out → Georgia In: nan",
           "Azerbaijan Out → Germany In: nan",
           "Azerbaijan Out → United Kingdom In: nan",
           "Belarus Out → Russia In: nan",
           "Belarus Out → Poland In: nan",
           "Belarus Out → Lithuania In: nan",
           "Belarus Out → Germany In: nan",
           "Belarus Out → Czechia In: nan",
           "Moldova Out → Romania In: nan",
           "Moldova Out → Russia In: nan",
           "Moldova Out → Italy In: nan",
           "Moldova Out → Germany In: nan",
           "Moldova Out → France In: nan",
           "Russia Out → China In: nan",
           "Russia Out → Germany In: nan",
           "Russia Out → Czechia In: nan",
           "Russia Out → USA In: nan",
           "Russia Out → United Kingdom In: nan",
           "Ukraine Out → Poland In: nan",
           "Ukraine Out → Russia In: nan",
           "Ukraine Out → Germany In: nan",
           "Ukraine Out → Czechia In: nan",
           "Ukraine Out → Italy In: nan",
           "Armenia Out → Russia In: 2424.0",
           "Armenia Out → Germany In: 796.0",
           "Armenia Out → USA In: 457.0",
           "Armenia Out → France In: 306.0",
           "Armenia Out → United Kingdom In: 124.0",
           "Azerbaijan Out → Turkey In: 28616.0",
           "Azerbaijan Out → Russia In: 6761.0",
           "Azerbaijan Out → Germany In: 1628.0",
           "Azerbaijan Out → Poland In: 1621.0",
           "Azerbaijan Out → Georgia In: 907.0",
           "Belarus Out → Poland In: 10738.0",
           "Belarus Out → Russia In: 9821.0",
           "Belarus Out → Germany In: 1173.0",
           "Belarus Out → Lithuania In: 1163.0",
           "Belarus Out → Czechia In: 1044.0",
           "Moldova Out → Romania In: 12101.0",
           "Moldova Out → Russia In: 3360.0",
           "Moldova Out → Germany In: 845.0",
           "Moldova Out → Italy In: 533.0",
           "Moldova Out → Bulgaria In: 421.0",
           "Russia Out → China In: 19239.0",
           "Russia Out → Germany In: 11369.0",
           "Russia Out → Czechia In: 8255.0",
           "Russia Out → USA In: 4913.0",
           "Russia Out → United Kingdom In: 3331.0",
           "Ukraine Out → Poland In: 33067.0",
           "Ukraine Out → Russia In: 9446.0",
           "Ukraine Out → Germany In: 6328.0",
           "Ukraine Out → Slovakia In: 5760.0",
           "Ukraine Out → Czechia In: 4622.0"
          ],
          "source": [
           5,
           5,
           5,
           5,
           5,
           4,
           4,
           4,
           4,
           4,
           13,
           13,
           13,
           13,
           13,
           10,
           10,
           10,
           10,
           10,
           20,
           20,
           20,
           20,
           20,
           3,
           3,
           3,
           3,
           3,
           5,
           5,
           5,
           5,
           5,
           4,
           4,
           4,
           4,
           4,
           13,
           13,
           13,
           13,
           13,
           10,
           10,
           10,
           10,
           10,
           20,
           20,
           20,
           20,
           20,
           3,
           3,
           3,
           3,
           3
          ],
          "target": [
           11,
           19,
           16,
           0,
           9,
           2,
           11,
           1,
           16,
           9,
           11,
           17,
           6,
           16,
           14,
           15,
           11,
           12,
           16,
           19,
           8,
           16,
           14,
           0,
           9,
           17,
           11,
           16,
           14,
           12,
           11,
           16,
           0,
           19,
           9,
           2,
           11,
           16,
           17,
           1,
           17,
           11,
           16,
           6,
           14,
           15,
           11,
           16,
           12,
           18,
           8,
           16,
           14,
           0,
           9,
           17,
           11,
           16,
           7,
           14
          ],
          "value": [
           null,
           null,
           null,
           null,
           null,
           null,
           null,
           null,
           null,
           null,
           null,
           null,
           null,
           null,
           null,
           null,
           null,
           null,
           null,
           null,
           null,
           null,
           null,
           null,
           null,
           null,
           null,
           null,
           null,
           null,
           2424,
           796,
           457,
           306,
           124,
           28616,
           6761,
           1628,
           1621,
           907,
           10738,
           9821,
           1173,
           1163,
           1044,
           12101,
           3360,
           845,
           533,
           421,
           19239,
           11369,
           8255,
           4913,
           3331,
           33067,
           9446,
           6328,
           5760,
           4622
          ]
         },
         "node": {
          "color": [
           "rgba(189, 195, 199, 0.8)",
           "rgba(189, 195, 199, 0.8)",
           "rgba(189, 195, 199, 0.8)",
           "rgba(23, 190, 239, 0.8)",
           "rgba(255, 127, 14, 0.8)",
           "rgba(31, 119, 180, 0.8)",
           "rgba(189, 195, 199, 0.8)",
           "rgba(189, 195, 199, 0.8)",
           "rgba(189, 195, 199, 0.8)",
           "rgba(189, 195, 199, 0.8)",
           "rgba(140, 86, 75, 0.8)",
           "rgba(227, 119, 194, 0.8)",
           "rgba(189, 195, 199, 0.8)",
           "rgba(44, 162, 44, 0.8)",
           "rgba(189, 195, 199, 0.8)",
           "rgba(189, 195, 199, 0.8)",
           "rgba(189, 195, 199, 0.8)",
           "rgba(189, 195, 199, 0.8)",
           "rgba(189, 195, 199, 0.8)",
           "rgba(189, 195, 199, 0.8)",
           "rgba(227, 119, 194, 0.8)"
          ],
          "label": [
           "USA In (5370)",
           "Georgia In (907)",
           "Turkey In (28616)",
           "Ukraine Out (59223)",
           "Azerbaijan Out (39533)",
           "Armenia Out (4107)",
           "Lithuania In (1163)",
           "Slovakia In (5760)",
           "China In (19239)",
           "United Kingdom In (3455)",
           "Moldova Out (17260)",
           "Russia In (31812)",
           "Italy In (533)",
           "Belarus Out (23939)",
           "Czechia In (13921)",
           "Romania In (12101)",
           "Germany In (22139)",
           "Poland In (45426)",
           "Bulgaria In (421)",
           "France In (306)",
           "Russia Out (47107)"
          ],
          "line": {
           "color": "black",
           "width": 0.5
          },
          "pad": 18,
          "thickness": 50
         },
         "type": "sankey"
        }
       ],
       "layout": {
        "annotations": [
         {
          "font": {
           "color": "black",
           "size": 16
          },
          "showarrow": false,
          "text": "2017",
          "x": 0.2,
          "y": 1.05
         },
         {
          "font": {
           "color": "black",
           "size": 16
          },
          "showarrow": false,
          "text": "2022",
          "x": 0.78,
          "y": 1.05
         },
         {
          "font": {
           "color": "black",
           "size": 12
          },
          "showarrow": false,
          "text": "@Conspect Labs, Sources: UNESCO, OpenDoorsData, Nuffic, IIE, Statista, MoE of Kazakhstan, Iran, Egypt, Thailand",
          "x": 0.002,
          "y": -0.1
         }
        ],
        "font": {
         "color": "black",
         "family": "Times",
         "size": 12
        },
        "height": 600,
        "plot_bgcolor": "white",
        "template": {
         "data": {
          "bar": [
           {
            "error_x": {
             "color": "#2a3f5f"
            },
            "error_y": {
             "color": "#2a3f5f"
            },
            "marker": {
             "line": {
              "color": "#E5ECF6",
              "width": 0.5
             },
             "pattern": {
              "fillmode": "overlay",
              "size": 10,
              "solidity": 0.2
             }
            },
            "type": "bar"
           }
          ],
          "barpolar": [
           {
            "marker": {
             "line": {
              "color": "#E5ECF6",
              "width": 0.5
             },
             "pattern": {
              "fillmode": "overlay",
              "size": 10,
              "solidity": 0.2
             }
            },
            "type": "barpolar"
           }
          ],
          "carpet": [
           {
            "aaxis": {
             "endlinecolor": "#2a3f5f",
             "gridcolor": "white",
             "linecolor": "white",
             "minorgridcolor": "white",
             "startlinecolor": "#2a3f5f"
            },
            "baxis": {
             "endlinecolor": "#2a3f5f",
             "gridcolor": "white",
             "linecolor": "white",
             "minorgridcolor": "white",
             "startlinecolor": "#2a3f5f"
            },
            "type": "carpet"
           }
          ],
          "choropleth": [
           {
            "colorbar": {
             "outlinewidth": 0,
             "ticks": ""
            },
            "type": "choropleth"
           }
          ],
          "contour": [
           {
            "colorbar": {
             "outlinewidth": 0,
             "ticks": ""
            },
            "colorscale": [
             [
              0,
              "#0d0887"
             ],
             [
              0.1111111111111111,
              "#46039f"
             ],
             [
              0.2222222222222222,
              "#7201a8"
             ],
             [
              0.3333333333333333,
              "#9c179e"
             ],
             [
              0.4444444444444444,
              "#bd3786"
             ],
             [
              0.5555555555555556,
              "#d8576b"
             ],
             [
              0.6666666666666666,
              "#ed7953"
             ],
             [
              0.7777777777777778,
              "#fb9f3a"
             ],
             [
              0.8888888888888888,
              "#fdca26"
             ],
             [
              1,
              "#f0f921"
             ]
            ],
            "type": "contour"
           }
          ],
          "contourcarpet": [
           {
            "colorbar": {
             "outlinewidth": 0,
             "ticks": ""
            },
            "type": "contourcarpet"
           }
          ],
          "heatmap": [
           {
            "colorbar": {
             "outlinewidth": 0,
             "ticks": ""
            },
            "colorscale": [
             [
              0,
              "#0d0887"
             ],
             [
              0.1111111111111111,
              "#46039f"
             ],
             [
              0.2222222222222222,
              "#7201a8"
             ],
             [
              0.3333333333333333,
              "#9c179e"
             ],
             [
              0.4444444444444444,
              "#bd3786"
             ],
             [
              0.5555555555555556,
              "#d8576b"
             ],
             [
              0.6666666666666666,
              "#ed7953"
             ],
             [
              0.7777777777777778,
              "#fb9f3a"
             ],
             [
              0.8888888888888888,
              "#fdca26"
             ],
             [
              1,
              "#f0f921"
             ]
            ],
            "type": "heatmap"
           }
          ],
          "heatmapgl": [
           {
            "colorbar": {
             "outlinewidth": 0,
             "ticks": ""
            },
            "colorscale": [
             [
              0,
              "#0d0887"
             ],
             [
              0.1111111111111111,
              "#46039f"
             ],
             [
              0.2222222222222222,
              "#7201a8"
             ],
             [
              0.3333333333333333,
              "#9c179e"
             ],
             [
              0.4444444444444444,
              "#bd3786"
             ],
             [
              0.5555555555555556,
              "#d8576b"
             ],
             [
              0.6666666666666666,
              "#ed7953"
             ],
             [
              0.7777777777777778,
              "#fb9f3a"
             ],
             [
              0.8888888888888888,
              "#fdca26"
             ],
             [
              1,
              "#f0f921"
             ]
            ],
            "type": "heatmapgl"
           }
          ],
          "histogram": [
           {
            "marker": {
             "pattern": {
              "fillmode": "overlay",
              "size": 10,
              "solidity": 0.2
             }
            },
            "type": "histogram"
           }
          ],
          "histogram2d": [
           {
            "colorbar": {
             "outlinewidth": 0,
             "ticks": ""
            },
            "colorscale": [
             [
              0,
              "#0d0887"
             ],
             [
              0.1111111111111111,
              "#46039f"
             ],
             [
              0.2222222222222222,
              "#7201a8"
             ],
             [
              0.3333333333333333,
              "#9c179e"
             ],
             [
              0.4444444444444444,
              "#bd3786"
             ],
             [
              0.5555555555555556,
              "#d8576b"
             ],
             [
              0.6666666666666666,
              "#ed7953"
             ],
             [
              0.7777777777777778,
              "#fb9f3a"
             ],
             [
              0.8888888888888888,
              "#fdca26"
             ],
             [
              1,
              "#f0f921"
             ]
            ],
            "type": "histogram2d"
           }
          ],
          "histogram2dcontour": [
           {
            "colorbar": {
             "outlinewidth": 0,
             "ticks": ""
            },
            "colorscale": [
             [
              0,
              "#0d0887"
             ],
             [
              0.1111111111111111,
              "#46039f"
             ],
             [
              0.2222222222222222,
              "#7201a8"
             ],
             [
              0.3333333333333333,
              "#9c179e"
             ],
             [
              0.4444444444444444,
              "#bd3786"
             ],
             [
              0.5555555555555556,
              "#d8576b"
             ],
             [
              0.6666666666666666,
              "#ed7953"
             ],
             [
              0.7777777777777778,
              "#fb9f3a"
             ],
             [
              0.8888888888888888,
              "#fdca26"
             ],
             [
              1,
              "#f0f921"
             ]
            ],
            "type": "histogram2dcontour"
           }
          ],
          "mesh3d": [
           {
            "colorbar": {
             "outlinewidth": 0,
             "ticks": ""
            },
            "type": "mesh3d"
           }
          ],
          "parcoords": [
           {
            "line": {
             "colorbar": {
              "outlinewidth": 0,
              "ticks": ""
             }
            },
            "type": "parcoords"
           }
          ],
          "pie": [
           {
            "automargin": true,
            "type": "pie"
           }
          ],
          "scatter": [
           {
            "fillpattern": {
             "fillmode": "overlay",
             "size": 10,
             "solidity": 0.2
            },
            "type": "scatter"
           }
          ],
          "scatter3d": [
           {
            "line": {
             "colorbar": {
              "outlinewidth": 0,
              "ticks": ""
             }
            },
            "marker": {
             "colorbar": {
              "outlinewidth": 0,
              "ticks": ""
             }
            },
            "type": "scatter3d"
           }
          ],
          "scattercarpet": [
           {
            "marker": {
             "colorbar": {
              "outlinewidth": 0,
              "ticks": ""
             }
            },
            "type": "scattercarpet"
           }
          ],
          "scattergeo": [
           {
            "marker": {
             "colorbar": {
              "outlinewidth": 0,
              "ticks": ""
             }
            },
            "type": "scattergeo"
           }
          ],
          "scattergl": [
           {
            "marker": {
             "colorbar": {
              "outlinewidth": 0,
              "ticks": ""
             }
            },
            "type": "scattergl"
           }
          ],
          "scattermapbox": [
           {
            "marker": {
             "colorbar": {
              "outlinewidth": 0,
              "ticks": ""
             }
            },
            "type": "scattermapbox"
           }
          ],
          "scatterpolar": [
           {
            "marker": {
             "colorbar": {
              "outlinewidth": 0,
              "ticks": ""
             }
            },
            "type": "scatterpolar"
           }
          ],
          "scatterpolargl": [
           {
            "marker": {
             "colorbar": {
              "outlinewidth": 0,
              "ticks": ""
             }
            },
            "type": "scatterpolargl"
           }
          ],
          "scatterternary": [
           {
            "marker": {
             "colorbar": {
              "outlinewidth": 0,
              "ticks": ""
             }
            },
            "type": "scatterternary"
           }
          ],
          "surface": [
           {
            "colorbar": {
             "outlinewidth": 0,
             "ticks": ""
            },
            "colorscale": [
             [
              0,
              "#0d0887"
             ],
             [
              0.1111111111111111,
              "#46039f"
             ],
             [
              0.2222222222222222,
              "#7201a8"
             ],
             [
              0.3333333333333333,
              "#9c179e"
             ],
             [
              0.4444444444444444,
              "#bd3786"
             ],
             [
              0.5555555555555556,
              "#d8576b"
             ],
             [
              0.6666666666666666,
              "#ed7953"
             ],
             [
              0.7777777777777778,
              "#fb9f3a"
             ],
             [
              0.8888888888888888,
              "#fdca26"
             ],
             [
              1,
              "#f0f921"
             ]
            ],
            "type": "surface"
           }
          ],
          "table": [
           {
            "cells": {
             "fill": {
              "color": "#EBF0F8"
             },
             "line": {
              "color": "white"
             }
            },
            "header": {
             "fill": {
              "color": "#C8D4E3"
             },
             "line": {
              "color": "white"
             }
            },
            "type": "table"
           }
          ]
         },
         "layout": {
          "annotationdefaults": {
           "arrowcolor": "#2a3f5f",
           "arrowhead": 0,
           "arrowwidth": 1
          },
          "autotypenumbers": "strict",
          "coloraxis": {
           "colorbar": {
            "outlinewidth": 0,
            "ticks": ""
           }
          },
          "colorscale": {
           "diverging": [
            [
             0,
             "#8e0152"
            ],
            [
             0.1,
             "#c51b7d"
            ],
            [
             0.2,
             "#de77ae"
            ],
            [
             0.3,
             "#f1b6da"
            ],
            [
             0.4,
             "#fde0ef"
            ],
            [
             0.5,
             "#f7f7f7"
            ],
            [
             0.6,
             "#e6f5d0"
            ],
            [
             0.7,
             "#b8e186"
            ],
            [
             0.8,
             "#7fbc41"
            ],
            [
             0.9,
             "#4d9221"
            ],
            [
             1,
             "#276419"
            ]
           ],
           "sequential": [
            [
             0,
             "#0d0887"
            ],
            [
             0.1111111111111111,
             "#46039f"
            ],
            [
             0.2222222222222222,
             "#7201a8"
            ],
            [
             0.3333333333333333,
             "#9c179e"
            ],
            [
             0.4444444444444444,
             "#bd3786"
            ],
            [
             0.5555555555555556,
             "#d8576b"
            ],
            [
             0.6666666666666666,
             "#ed7953"
            ],
            [
             0.7777777777777778,
             "#fb9f3a"
            ],
            [
             0.8888888888888888,
             "#fdca26"
            ],
            [
             1,
             "#f0f921"
            ]
           ],
           "sequentialminus": [
            [
             0,
             "#0d0887"
            ],
            [
             0.1111111111111111,
             "#46039f"
            ],
            [
             0.2222222222222222,
             "#7201a8"
            ],
            [
             0.3333333333333333,
             "#9c179e"
            ],
            [
             0.4444444444444444,
             "#bd3786"
            ],
            [
             0.5555555555555556,
             "#d8576b"
            ],
            [
             0.6666666666666666,
             "#ed7953"
            ],
            [
             0.7777777777777778,
             "#fb9f3a"
            ],
            [
             0.8888888888888888,
             "#fdca26"
            ],
            [
             1,
             "#f0f921"
            ]
           ]
          },
          "colorway": [
           "#636efa",
           "#EF553B",
           "#00cc96",
           "#ab63fa",
           "#FFA15A",
           "#19d3f3",
           "#FF6692",
           "#B6E880",
           "#FF97FF",
           "#FECB52"
          ],
          "font": {
           "color": "#2a3f5f"
          },
          "geo": {
           "bgcolor": "white",
           "lakecolor": "white",
           "landcolor": "#E5ECF6",
           "showlakes": true,
           "showland": true,
           "subunitcolor": "white"
          },
          "hoverlabel": {
           "align": "left"
          },
          "hovermode": "closest",
          "mapbox": {
           "style": "light"
          },
          "paper_bgcolor": "white",
          "plot_bgcolor": "#E5ECF6",
          "polar": {
           "angularaxis": {
            "gridcolor": "white",
            "linecolor": "white",
            "ticks": ""
           },
           "bgcolor": "#E5ECF6",
           "radialaxis": {
            "gridcolor": "white",
            "linecolor": "white",
            "ticks": ""
           }
          },
          "scene": {
           "xaxis": {
            "backgroundcolor": "#E5ECF6",
            "gridcolor": "white",
            "gridwidth": 2,
            "linecolor": "white",
            "showbackground": true,
            "ticks": "",
            "zerolinecolor": "white"
           },
           "yaxis": {
            "backgroundcolor": "#E5ECF6",
            "gridcolor": "white",
            "gridwidth": 2,
            "linecolor": "white",
            "showbackground": true,
            "ticks": "",
            "zerolinecolor": "white"
           },
           "zaxis": {
            "backgroundcolor": "#E5ECF6",
            "gridcolor": "white",
            "gridwidth": 2,
            "linecolor": "white",
            "showbackground": true,
            "ticks": "",
            "zerolinecolor": "white"
           }
          },
          "shapedefaults": {
           "line": {
            "color": "#2a3f5f"
           }
          },
          "ternary": {
           "aaxis": {
            "gridcolor": "white",
            "linecolor": "white",
            "ticks": ""
           },
           "baxis": {
            "gridcolor": "white",
            "linecolor": "white",
            "ticks": ""
           },
           "bgcolor": "#E5ECF6",
           "caxis": {
            "gridcolor": "white",
            "linecolor": "white",
            "ticks": ""
           }
          },
          "title": {
           "x": 0.05
          },
          "xaxis": {
           "automargin": true,
           "gridcolor": "white",
           "linecolor": "white",
           "ticks": "",
           "title": {
            "standoff": 15
           },
           "zerolinecolor": "white",
           "zerolinewidth": 2
          },
          "yaxis": {
           "automargin": true,
           "gridcolor": "white",
           "linecolor": "white",
           "ticks": "",
           "title": {
            "standoff": 15
           },
           "zerolinecolor": "white",
           "zerolinewidth": 2
          }
         }
        },
        "title": {
         "text": "Students Flows from Europe & Caucasus CIS Countries, Top 5 destinations for every country"
        },
        "width": 1000
       }
      }
     },
     "metadata": {},
     "output_type": "display_data"
    }
   ],
   "source": [
    "#Draw Sankey for every year\n",
    "c_a = ('Kazakhstan Out','Kyrgyzstan Out','Tajikistan Out','Turkmenistan Out','Uzbekistan Out')\n",
    "e_c = ('Russia Out','Moldova Out','Belarus Out','Ukraine Out','Armenia Out','Azerbaijan Out')\n",
    "regions = {c_a:'Central Asia',\n",
    "           e_c:'Europe & Caucasus'}\n",
    "\n",
    "for key,value in regions.items():\n",
    "    print(value)\n",
    "    df = cis_countries_from_top[cis_countries_from_top['from'].isin(key)]\n",
    "    unique_labels = list(set(df['from'].tolist() + df['to'].tolist()))\n",
    "    other_color = 'rgba(189, 195, 199, 0.8)'\n",
    "    country_colors = {\n",
    "        'Armenia': 'rgba(31, 119, 180, 0.8)',  # Blue\n",
    "        'Azerbaijan': 'rgba(255, 127, 14, 0.8)',  # Orange\n",
    "        'Belarus': 'rgba(44, 162, 44, 0.8)',  # Green\n",
    "        'Kazakhstan': 'rgba(214, 39, 40, 0.8)',  # Red\n",
    "        'Kyrgyzstan': 'rgba(148, 103, 189, 0.8)',  # Purple\n",
    "        'Moldova': 'rgba(140, 86, 75, 0.8)',  # Brown\n",
    "        'Russia': 'rgba(227, 119, 194, 0.8)',  # Pink\n",
    "        'Tajikistan': 'rgba(127, 127, 127, 0.8)',  # Gray\n",
    "        'Turkmenistan': 'rgba(188, 189, 34, 0.8)',  # Yellow-green\n",
    "        'Ukraine': 'rgba(23, 190, 239, 0.8)',  # Cyan\n",
    "        'Uzbekistan': 'rgba(255, 187, 120, 0.8)',   # Light Orange (to make it distinct)\n",
    "        'France':other_color, \n",
    "        'Germany':other_color, \n",
    "        'USA':other_color, \n",
    "        'United Kingdom':other_color, \n",
    "        'Turkey':other_color, \n",
    "        'Georgia':other_color, \n",
    "        'Poland':other_color, \n",
    "        'Lithuania':other_color, \n",
    "        'Romania':other_color, \n",
    "        'Italy':other_color, \n",
    "        'Czechia':other_color, \n",
    "        'Republic of Korea':other_color,\n",
    "        'Saudi Arabia':other_color,\n",
    "        'Latvia':other_color,\n",
    "        'Malaysia':other_color,\n",
    "        'Bulgaria':other_color,\n",
    "        'Slovakia':other_color,\n",
    "        'China':other_color,\n",
    "        'India':'rgba(97, 126, 79, 0.8)',\n",
    "        'Egypt':'rgba(97, 60, 79, 0.8)'\n",
    "    }\n",
    "\n",
    "    # You can use color mapping for countries. Change i and coeffs to get distinct colors.\n",
    "    # country_colors = {country: f'rgba({(i+100) * 20 % 255}, {((i+50) * 200 + 100) % 255}, {((i+200) * 380) % 255}, 1)'\n",
    "    #                   for i, country in enumerate(set([label.split()[0] for label in unique_labels]))}\n",
    "    # Function to get sorted unique labels based on total link values\n",
    "\n",
    "    def get_sorted_labels(df, year):\n",
    "        link_sums = pd.concat([\n",
    "            df.groupby('from')[year].sum(),\n",
    "            df.groupby('to')[year].sum()\n",
    "        ]).groupby(level=0).sum()\n",
    "        return link_sums.sort_values(ascending=False).index.tolist()\n",
    "\n",
    "    # Function to build a Sankey trace for a specific year\n",
    "    def build_sankey_trace(df, year,pad_size):\n",
    "        sorted_labels = get_sorted_labels(df, year)\n",
    "        unique_labels_sorted = [label for label in unique_labels if label in sorted_labels]\n",
    "        \n",
    "        # Map source and target to indices\n",
    "        source_indices = [unique_labels_sorted.index(src) for src in df['from']]\n",
    "        target_indices = [unique_labels_sorted.index(tgt) for tgt in df['to']]\n",
    "        \n",
    "        # Assign link colors based on source country\n",
    "        link_colors = [country_colors[\" \".join(src.split()[:-1])].replace('1)', '0.8)') for src in df['from']]\n",
    "        \n",
    "        return go.Sankey(\n",
    "            node=dict(\n",
    "                pad=pad_size,\n",
    "                thickness=50,\n",
    "                line=dict(color=\"black\", width=0.5),\n",
    "                label=[f\"{label} ({int(df[df['from'] == label][year].sum() + df[df['to'] == label][year].sum())})\"\n",
    "                    for label in unique_labels_sorted],\n",
    "                color=[country_colors[\" \".join(label.split()[:-1])] for label in unique_labels_sorted]\n",
    "            ),\n",
    "            link=dict(\n",
    "                source=source_indices,\n",
    "                target=target_indices,\n",
    "                value=df[year],\n",
    "                color=link_colors,\n",
    "                label=[f\"{df.iloc[i]['from']} → {df.iloc[i]['to']}: {df.iloc[i][year]}\"\n",
    "                    for i in range(len(df))]\n",
    "            )\n",
    "        )\n",
    "\n",
    "    def generate_annotations(df, unique_labels_sorted, year):\n",
    "        annotations = []\n",
    "        df=df[['from','to',year]].dropna()\n",
    "        for i, row in df.iterrows():\n",
    "            source_idx = unique_labels_sorted.index(row['from'])\n",
    "            target_idx = unique_labels_sorted.index(row['to'])\n",
    "            annotations.append(dict(\n",
    "                # x=x_pos, y=y_pos,\n",
    "                text=f\"{int(row[year])}\",  # Display value as an integer\n",
    "                showarrow=False,\n",
    "                font=dict(size=10, color=\"black\"),\n",
    "                align=\"center\"\n",
    "            ))\n",
    "        return annotations\n",
    "\n",
    "    fig = make_subplots(\n",
    "        rows=1, cols=2, \n",
    "        specs=[[{'type': 'domain'}, {'type': 'domain'}]]  # Specify 'domain' for Sankey\n",
    "    )\n",
    "    fig.add_trace(build_sankey_trace(df, \"2017\",48), row=1, col=1)\n",
    "    fig.add_trace(build_sankey_trace(df, \"2022\",18), row=1, col=2)\n",
    "    fig.update_layout(\n",
    "        title_text=f\"Students Flows from {value} CIS Countries, Top 5 destinations for every country\",\n",
    "        font=dict(size=12, color='black', family='Times'),\n",
    "        height=600,\n",
    "        width=1000,\n",
    "        plot_bgcolor='white',\n",
    "        annotations=[\n",
    "            dict(\n",
    "                x=0.2,  # Center of first subplot\n",
    "                y=1.05, \n",
    "                text=\"2017\",\n",
    "                showarrow=False,\n",
    "                font=dict(size=16, color=\"black\")\n",
    "            ),\n",
    "            dict(\n",
    "                x=0.78,  # Center of second subplot\n",
    "                y=1.05, \n",
    "                text=\"2022\",\n",
    "                showarrow=False,\n",
    "                font=dict(size=16, color=\"black\"),\n",
    "            ),\n",
    "            dict(\n",
    "                x=0.002,  # Comments\n",
    "                y=-0.1, \n",
    "                text=\"@Conspect Labs, Sources: UNESCO, OpenDoorsData, Nuffic, IIE, Statista, MoE of Kazakhstan, Iran, Egypt, Thailand\",\n",
    "                showarrow=False,\n",
    "                font=dict(size=12, color=\"black\")\n",
    "            )\n",
    "        ]\n",
    "    )\n",
    "\n",
    "    output_file = f\"top_5_destinations_sankey_diagrams _{value}.png\"  # You can change this to .png, .pdf, or .jpeg\n",
    "    pio.write_image(fig, output_file, format=\"png\", width=1600, height=800)\n",
    "    # Show the figure\n",
    "    fig.show()"
   ]
  },
  {
   "cell_type": "markdown",
   "metadata": {},
   "source": [
    "<h4>Top 20 source countries for Russia</h4>"
   ]
  },
  {
   "cell_type": "code",
   "execution_count": 38,
   "metadata": {},
   "outputs": [
    {
     "data": {
      "text/html": [
       "<div>\n",
       "<style scoped>\n",
       "    .dataframe tbody tr th:only-of-type {\n",
       "        vertical-align: middle;\n",
       "    }\n",
       "\n",
       "    .dataframe tbody tr th {\n",
       "        vertical-align: top;\n",
       "    }\n",
       "\n",
       "    .dataframe thead th {\n",
       "        text-align: right;\n",
       "    }\n",
       "</style>\n",
       "<table border=\"1\" class=\"dataframe\">\n",
       "  <thead>\n",
       "    <tr style=\"text-align: right;\">\n",
       "      <th>year</th>\n",
       "      <th>from</th>\n",
       "      <th>to</th>\n",
       "      <th>2017</th>\n",
       "      <th>2022</th>\n",
       "    </tr>\n",
       "  </thead>\n",
       "  <tbody>\n",
       "    <tr>\n",
       "      <th>91</th>\n",
       "      <td>Afghanistan Out</td>\n",
       "      <td>Russia In</td>\n",
       "      <td>188.0</td>\n",
       "      <td>1602.0</td>\n",
       "    </tr>\n",
       "    <tr>\n",
       "      <th>210</th>\n",
       "      <td>Albania Out</td>\n",
       "      <td>Russia In</td>\n",
       "      <td>4.0</td>\n",
       "      <td>92.0</td>\n",
       "    </tr>\n",
       "    <tr>\n",
       "      <th>329</th>\n",
       "      <td>Algeria Out</td>\n",
       "      <td>Russia In</td>\n",
       "      <td>246.0</td>\n",
       "      <td>1524.0</td>\n",
       "    </tr>\n",
       "    <tr>\n",
       "      <th>567</th>\n",
       "      <td>Angola Out</td>\n",
       "      <td>Russia In</td>\n",
       "      <td>865.0</td>\n",
       "      <td>805.0</td>\n",
       "    </tr>\n",
       "    <tr>\n",
       "      <th>923</th>\n",
       "      <td>Argentina Out</td>\n",
       "      <td>Russia In</td>\n",
       "      <td>6.0</td>\n",
       "      <td>46.0</td>\n",
       "    </tr>\n",
       "  </tbody>\n",
       "</table>\n",
       "</div>"
      ],
      "text/plain": [
       "year             from         to   2017    2022\n",
       "91    Afghanistan Out  Russia In  188.0  1602.0\n",
       "210       Albania Out  Russia In    4.0    92.0\n",
       "329       Algeria Out  Russia In  246.0  1524.0\n",
       "567        Angola Out  Russia In  865.0   805.0\n",
       "923     Argentina Out  Russia In    6.0    46.0"
      ]
     },
     "execution_count": 38,
     "metadata": {},
     "output_type": "execute_result"
    }
   ],
   "source": [
    "#Extract all source countries for Russia\n",
    "inbound_country='Russia In'\n",
    "inbound_to_country = countries2[countries2['to']==inbound_country]\n",
    "inbound_to_country.head()"
   ]
  },
  {
   "cell_type": "code",
   "execution_count": 161,
   "metadata": {},
   "outputs": [
    {
     "data": {
      "text/html": [
       "<div>\n",
       "<style scoped>\n",
       "    .dataframe tbody tr th:only-of-type {\n",
       "        vertical-align: middle;\n",
       "    }\n",
       "\n",
       "    .dataframe tbody tr th {\n",
       "        vertical-align: top;\n",
       "    }\n",
       "\n",
       "    .dataframe thead th {\n",
       "        text-align: right;\n",
       "    }\n",
       "</style>\n",
       "<table border=\"1\" class=\"dataframe\">\n",
       "  <thead>\n",
       "    <tr style=\"text-align: right;\">\n",
       "      <th>year</th>\n",
       "      <th>from</th>\n",
       "      <th>2017</th>\n",
       "      <th>color</th>\n",
       "    </tr>\n",
       "  </thead>\n",
       "  <tbody>\n",
       "    <tr>\n",
       "      <th>0</th>\n",
       "      <td>Kazakhstan</td>\n",
       "      <td>65237.0</td>\n",
       "      <td>rgba(214, 39, 40, 0.8)</td>\n",
       "    </tr>\n",
       "    <tr>\n",
       "      <th>1</th>\n",
       "      <td>Uzbekistan</td>\n",
       "      <td>20862.0</td>\n",
       "      <td>rgba(255, 187, 120, 0.8)</td>\n",
       "    </tr>\n",
       "    <tr>\n",
       "      <th>2</th>\n",
       "      <td>Turkmenistan</td>\n",
       "      <td>17457.0</td>\n",
       "      <td>rgba(188, 189, 34, 0.8)</td>\n",
       "    </tr>\n",
       "    <tr>\n",
       "      <th>3</th>\n",
       "      <td>Ukraine</td>\n",
       "      <td>15263.0</td>\n",
       "      <td>rgba(23, 190, 239, 0.8)</td>\n",
       "    </tr>\n",
       "    <tr>\n",
       "      <th>4</th>\n",
       "      <td>Tajikistan</td>\n",
       "      <td>14204.0</td>\n",
       "      <td>rgba(127, 127, 127, 0.8)</td>\n",
       "    </tr>\n",
       "    <tr>\n",
       "      <th>5</th>\n",
       "      <td>China</td>\n",
       "      <td>11950.0</td>\n",
       "      <td>rgba(189, 195, 199, 0.8)</td>\n",
       "    </tr>\n",
       "    <tr>\n",
       "      <th>6</th>\n",
       "      <td>Belarus</td>\n",
       "      <td>11600.0</td>\n",
       "      <td>rgba(44, 162, 44, 0.8)</td>\n",
       "    </tr>\n",
       "    <tr>\n",
       "      <th>7</th>\n",
       "      <td>Azerbaijan</td>\n",
       "      <td>11269.0</td>\n",
       "      <td>rgba(255, 127, 14, 0.8)</td>\n",
       "    </tr>\n",
       "    <tr>\n",
       "      <th>8</th>\n",
       "      <td>India</td>\n",
       "      <td>6544.0</td>\n",
       "      <td>rgba(97, 126, 79, 0.8)</td>\n",
       "    </tr>\n",
       "    <tr>\n",
       "      <th>9</th>\n",
       "      <td>Kyrgyzstan</td>\n",
       "      <td>5523.0</td>\n",
       "      <td>rgba(148, 103, 189, 0.8)</td>\n",
       "    </tr>\n",
       "    <tr>\n",
       "      <th>10</th>\n",
       "      <td>Moldova</td>\n",
       "      <td>3402.0</td>\n",
       "      <td>rgba(140, 86, 75, 0.8)</td>\n",
       "    </tr>\n",
       "    <tr>\n",
       "      <th>11</th>\n",
       "      <td>Armenia</td>\n",
       "      <td>2720.0</td>\n",
       "      <td>rgba(31, 119, 180, 0.8)</td>\n",
       "    </tr>\n",
       "    <tr>\n",
       "      <th>12</th>\n",
       "      <td>Malaysia</td>\n",
       "      <td>1838.0</td>\n",
       "      <td>rgba(189, 195, 199, 0.8)</td>\n",
       "    </tr>\n",
       "    <tr>\n",
       "      <th>13</th>\n",
       "      <td>Morocco</td>\n",
       "      <td>1643.0</td>\n",
       "      <td>NaN</td>\n",
       "    </tr>\n",
       "    <tr>\n",
       "      <th>14</th>\n",
       "      <td>Georgia</td>\n",
       "      <td>1580.0</td>\n",
       "      <td>rgba(189, 195, 199, 0.8)</td>\n",
       "    </tr>\n",
       "    <tr>\n",
       "      <th>15</th>\n",
       "      <td>Iraq</td>\n",
       "      <td>1530.0</td>\n",
       "      <td>NaN</td>\n",
       "    </tr>\n",
       "    <tr>\n",
       "      <th>16</th>\n",
       "      <td>Viet Nam</td>\n",
       "      <td>1374.0</td>\n",
       "      <td>NaN</td>\n",
       "    </tr>\n",
       "    <tr>\n",
       "      <th>17</th>\n",
       "      <td>Nigeria</td>\n",
       "      <td>1155.0</td>\n",
       "      <td>NaN</td>\n",
       "    </tr>\n",
       "    <tr>\n",
       "      <th>18</th>\n",
       "      <td>Mongolia</td>\n",
       "      <td>1034.0</td>\n",
       "      <td>NaN</td>\n",
       "    </tr>\n",
       "    <tr>\n",
       "      <th>19</th>\n",
       "      <td>Angola</td>\n",
       "      <td>865.0</td>\n",
       "      <td>NaN</td>\n",
       "    </tr>\n",
       "  </tbody>\n",
       "</table>\n",
       "</div>"
      ],
      "text/plain": [
       "year          from     2017                     color\n",
       "0       Kazakhstan  65237.0    rgba(214, 39, 40, 0.8)\n",
       "1       Uzbekistan  20862.0  rgba(255, 187, 120, 0.8)\n",
       "2     Turkmenistan  17457.0   rgba(188, 189, 34, 0.8)\n",
       "3          Ukraine  15263.0   rgba(23, 190, 239, 0.8)\n",
       "4       Tajikistan  14204.0  rgba(127, 127, 127, 0.8)\n",
       "5            China  11950.0  rgba(189, 195, 199, 0.8)\n",
       "6          Belarus  11600.0    rgba(44, 162, 44, 0.8)\n",
       "7       Azerbaijan  11269.0   rgba(255, 127, 14, 0.8)\n",
       "8            India   6544.0    rgba(97, 126, 79, 0.8)\n",
       "9       Kyrgyzstan   5523.0  rgba(148, 103, 189, 0.8)\n",
       "10         Moldova   3402.0    rgba(140, 86, 75, 0.8)\n",
       "11         Armenia   2720.0   rgba(31, 119, 180, 0.8)\n",
       "12        Malaysia   1838.0  rgba(189, 195, 199, 0.8)\n",
       "13         Morocco   1643.0                       NaN\n",
       "14         Georgia   1580.0  rgba(189, 195, 199, 0.8)\n",
       "15            Iraq   1530.0                       NaN\n",
       "16        Viet Nam   1374.0                       NaN\n",
       "17         Nigeria   1155.0                       NaN\n",
       "18        Mongolia   1034.0                       NaN\n",
       "19          Angola    865.0                       NaN"
      ]
     },
     "execution_count": 161,
     "metadata": {},
     "output_type": "execute_result"
    }
   ],
   "source": [
    "#Extract top 20 source countries for Russia in 2017 and 2022 \n",
    "inbound_to_country_from_2017_top20 = inbound_to_country.sort_values(by='2017', ascending=False).head(20)\n",
    "inbound_to_country_from_2017_top20 = inbound_to_country_from_2017_top20[['from','to','2017']]\n",
    "inbound_to_country_from_2017_top20['from'] = inbound_to_country_from_2017_top20['from'].apply(lambda x:x.replace(' Out',''))\n",
    "inbound_to_country_from_2017_top20 = inbound_to_country_from_2017_top20[['from','2017']].set_index('from').reset_index()\n",
    "inbound_to_country_from_2017_top20['color'] = inbound_to_country_from_2017_top20['from'].map(country_colors)\n",
    "\n",
    "inbound_to_country_from_2017_top20\n"
   ]
  },
  {
   "cell_type": "code",
   "execution_count": 162,
   "metadata": {},
   "outputs": [
    {
     "data": {
      "text/html": [
       "<div>\n",
       "<style scoped>\n",
       "    .dataframe tbody tr th:only-of-type {\n",
       "        vertical-align: middle;\n",
       "    }\n",
       "\n",
       "    .dataframe tbody tr th {\n",
       "        vertical-align: top;\n",
       "    }\n",
       "\n",
       "    .dataframe thead th {\n",
       "        text-align: right;\n",
       "    }\n",
       "</style>\n",
       "<table border=\"1\" class=\"dataframe\">\n",
       "  <thead>\n",
       "    <tr style=\"text-align: right;\">\n",
       "      <th>year</th>\n",
       "      <th>from</th>\n",
       "      <th>2022</th>\n",
       "      <th>color</th>\n",
       "    </tr>\n",
       "  </thead>\n",
       "  <tbody>\n",
       "    <tr>\n",
       "      <th>0</th>\n",
       "      <td>Kazakhstan</td>\n",
       "      <td>53935.0</td>\n",
       "      <td>rgba(214, 39, 40, 0.8)</td>\n",
       "    </tr>\n",
       "    <tr>\n",
       "      <th>1</th>\n",
       "      <td>Uzbekistan</td>\n",
       "      <td>48430.0</td>\n",
       "      <td>rgba(255, 187, 120, 0.8)</td>\n",
       "    </tr>\n",
       "    <tr>\n",
       "      <th>2</th>\n",
       "      <td>China</td>\n",
       "      <td>40797.0</td>\n",
       "      <td>rgba(189, 195, 199, 0.8)</td>\n",
       "    </tr>\n",
       "    <tr>\n",
       "      <th>3</th>\n",
       "      <td>Turkmenistan</td>\n",
       "      <td>27095.0</td>\n",
       "      <td>rgba(188, 189, 34, 0.8)</td>\n",
       "    </tr>\n",
       "    <tr>\n",
       "      <th>4</th>\n",
       "      <td>Tajikistan</td>\n",
       "      <td>27086.0</td>\n",
       "      <td>rgba(127, 127, 127, 0.8)</td>\n",
       "    </tr>\n",
       "    <tr>\n",
       "      <th>5</th>\n",
       "      <td>India</td>\n",
       "      <td>19734.0</td>\n",
       "      <td>rgba(97, 126, 79, 0.8)</td>\n",
       "    </tr>\n",
       "    <tr>\n",
       "      <th>6</th>\n",
       "      <td>Egypt</td>\n",
       "      <td>15616.0</td>\n",
       "      <td>rgba(97, 60, 79, 0.8)</td>\n",
       "    </tr>\n",
       "    <tr>\n",
       "      <th>7</th>\n",
       "      <td>Belarus</td>\n",
       "      <td>9821.0</td>\n",
       "      <td>rgba(44, 162, 44, 0.8)</td>\n",
       "    </tr>\n",
       "    <tr>\n",
       "      <th>8</th>\n",
       "      <td>Ukraine</td>\n",
       "      <td>9446.0</td>\n",
       "      <td>rgba(23, 190, 239, 0.8)</td>\n",
       "    </tr>\n",
       "    <tr>\n",
       "      <th>9</th>\n",
       "      <td>Kyrgyzstan</td>\n",
       "      <td>9345.0</td>\n",
       "      <td>rgba(148, 103, 189, 0.8)</td>\n",
       "    </tr>\n",
       "    <tr>\n",
       "      <th>10</th>\n",
       "      <td>Azerbaijan</td>\n",
       "      <td>6761.0</td>\n",
       "      <td>rgba(255, 127, 14, 0.8)</td>\n",
       "    </tr>\n",
       "    <tr>\n",
       "      <th>11</th>\n",
       "      <td>Iran</td>\n",
       "      <td>6735.0</td>\n",
       "      <td>NaN</td>\n",
       "    </tr>\n",
       "    <tr>\n",
       "      <th>12</th>\n",
       "      <td>Morocco</td>\n",
       "      <td>3601.0</td>\n",
       "      <td>NaN</td>\n",
       "    </tr>\n",
       "    <tr>\n",
       "      <th>13</th>\n",
       "      <td>Iraq</td>\n",
       "      <td>3594.0</td>\n",
       "      <td>NaN</td>\n",
       "    </tr>\n",
       "    <tr>\n",
       "      <th>14</th>\n",
       "      <td>Viet Nam</td>\n",
       "      <td>3537.0</td>\n",
       "      <td>NaN</td>\n",
       "    </tr>\n",
       "    <tr>\n",
       "      <th>15</th>\n",
       "      <td>Moldova</td>\n",
       "      <td>3360.0</td>\n",
       "      <td>rgba(140, 86, 75, 0.8)</td>\n",
       "    </tr>\n",
       "    <tr>\n",
       "      <th>16</th>\n",
       "      <td>Syrian Arab Republic</td>\n",
       "      <td>3290.0</td>\n",
       "      <td>NaN</td>\n",
       "    </tr>\n",
       "    <tr>\n",
       "      <th>17</th>\n",
       "      <td>Armenia</td>\n",
       "      <td>2424.0</td>\n",
       "      <td>rgba(31, 119, 180, 0.8)</td>\n",
       "    </tr>\n",
       "    <tr>\n",
       "      <th>18</th>\n",
       "      <td>Mongolia</td>\n",
       "      <td>2048.0</td>\n",
       "      <td>NaN</td>\n",
       "    </tr>\n",
       "    <tr>\n",
       "      <th>19</th>\n",
       "      <td>Nigeria</td>\n",
       "      <td>1758.0</td>\n",
       "      <td>NaN</td>\n",
       "    </tr>\n",
       "  </tbody>\n",
       "</table>\n",
       "</div>"
      ],
      "text/plain": [
       "year                  from     2022                     color\n",
       "0               Kazakhstan  53935.0    rgba(214, 39, 40, 0.8)\n",
       "1               Uzbekistan  48430.0  rgba(255, 187, 120, 0.8)\n",
       "2                    China  40797.0  rgba(189, 195, 199, 0.8)\n",
       "3             Turkmenistan  27095.0   rgba(188, 189, 34, 0.8)\n",
       "4               Tajikistan  27086.0  rgba(127, 127, 127, 0.8)\n",
       "5                    India  19734.0    rgba(97, 126, 79, 0.8)\n",
       "6                    Egypt  15616.0     rgba(97, 60, 79, 0.8)\n",
       "7                  Belarus   9821.0    rgba(44, 162, 44, 0.8)\n",
       "8                  Ukraine   9446.0   rgba(23, 190, 239, 0.8)\n",
       "9               Kyrgyzstan   9345.0  rgba(148, 103, 189, 0.8)\n",
       "10              Azerbaijan   6761.0   rgba(255, 127, 14, 0.8)\n",
       "11                    Iran   6735.0                       NaN\n",
       "12                 Morocco   3601.0                       NaN\n",
       "13                    Iraq   3594.0                       NaN\n",
       "14                Viet Nam   3537.0                       NaN\n",
       "15                 Moldova   3360.0    rgba(140, 86, 75, 0.8)\n",
       "16    Syrian Arab Republic   3290.0                       NaN\n",
       "17                 Armenia   2424.0   rgba(31, 119, 180, 0.8)\n",
       "18                Mongolia   2048.0                       NaN\n",
       "19                 Nigeria   1758.0                       NaN"
      ]
     },
     "execution_count": 162,
     "metadata": {},
     "output_type": "execute_result"
    }
   ],
   "source": [
    "inbound_to_country_from_2022_top20 = inbound_to_country.sort_values(by='2022', ascending=False).head(20)\n",
    "inbound_to_country_from_2022_top20 = inbound_to_country_from_2022_top20[['from','to','2022']]\n",
    "inbound_to_country_from_2022_top20['from'] = inbound_to_country_from_2022_top20['from'].apply(lambda x:x.replace(' Out',''))\n",
    "inbound_to_country_from_2022_top20 = inbound_to_country_from_2022_top20[['from','2022']].set_index('from').reset_index()\n",
    "inbound_to_country_from_2022_top20['color'] = inbound_to_country_from_2022_top20['from'].map(country_colors)\n",
    "inbound_to_country_from_2022_top20"
   ]
  },
  {
   "cell_type": "code",
   "execution_count": 164,
   "metadata": {},
   "outputs": [
    {
     "data": {
      "application/vnd.plotly.v1+json": {
       "config": {
        "plotlyServerURL": "https://plot.ly"
       },
       "data": [
        {
         "marker": {
          "color": [
           null,
           null,
           null,
           null,
           null,
           "rgba(189, 195, 199, 0.8)",
           null,
           "rgba(189, 195, 199, 0.8)",
           "rgba(31, 119, 180, 0.8)",
           "rgba(140, 86, 75, 0.8)",
           "rgba(148, 103, 189, 0.8)",
           "rgba(97, 126, 79, 0.8)",
           "rgba(255, 127, 14, 0.8)",
           "rgba(44, 162, 44, 0.8)",
           "rgba(189, 195, 199, 0.8)",
           "rgba(127, 127, 127, 0.8)",
           "rgba(23, 190, 239, 0.8)",
           "rgba(188, 189, 34, 0.8)",
           "rgba(255, 187, 120, 0.8)",
           "rgba(214, 39, 40, 0.8)"
          ]
         },
         "name": "2017",
         "orientation": "h",
         "text": [
          "0.9k",
          "1.0k",
          "1.2k",
          "1.4k",
          "1.5k",
          "1.6k",
          "1.6k",
          "1.8k",
          "2k",
          "3k",
          "5k",
          "6k",
          "11k",
          "11k",
          "11k",
          "14k",
          "15k",
          "17k",
          "20k",
          "65k"
         ],
         "textfont": {
          "size": 12
         },
         "textposition": "auto",
         "type": "bar",
         "x": [
          865,
          1034,
          1155,
          1374,
          1530,
          1580,
          1643,
          1838,
          2720,
          3402,
          5523,
          6544,
          11269,
          11600,
          11950,
          14204,
          15263,
          17457,
          20862,
          65237
         ],
         "xaxis": "x",
         "y": [
          "Angola",
          "Mongolia",
          "Nigeria",
          "Viet Nam",
          "Iraq",
          "Georgia",
          "Morocco",
          "Malaysia",
          "Armenia",
          "Moldova",
          "Kyrgyzstan",
          "India",
          "Azerbaijan",
          "Belarus",
          "China",
          "Tajikistan",
          "Ukraine",
          "Turkmenistan",
          "Uzbekistan",
          "Kazakhstan"
         ],
         "yaxis": "y"
        },
        {
         "marker": {
          "color": [
           null,
           null,
           "rgba(31, 119, 180, 0.8)",
           null,
           "rgba(140, 86, 75, 0.8)",
           null,
           null,
           null,
           null,
           "rgba(255, 127, 14, 0.8)",
           "rgba(148, 103, 189, 0.8)",
           "rgba(23, 190, 239, 0.8)",
           "rgba(44, 162, 44, 0.8)",
           "rgba(97, 60, 79, 0.8)",
           "rgba(97, 126, 79, 0.8)",
           "rgba(127, 127, 127, 0.8)",
           "rgba(188, 189, 34, 0.8)",
           "rgba(189, 195, 199, 0.8)",
           "rgba(255, 187, 120, 0.8)",
           "rgba(214, 39, 40, 0.8)"
          ]
         },
         "name": "2022",
         "orientation": "h",
         "text": [
          "1.8k",
          "2k",
          "2k",
          "3k",
          "3k",
          "3k",
          "3k",
          "3k",
          "6k",
          "6k",
          "9k",
          "9k",
          "9k",
          "15k",
          "19k",
          "27k",
          "27k",
          "40k",
          "48k",
          "53k"
         ],
         "textfont": {
          "size": 12
         },
         "textposition": "auto",
         "type": "bar",
         "x": [
          1758,
          2048,
          2424,
          3290,
          3360,
          3537,
          3594,
          3601,
          6735,
          6761,
          9345,
          9446,
          9821,
          15616,
          19734,
          27086,
          27095,
          40797,
          48430,
          53935
         ],
         "xaxis": "x2",
         "y": [
          "Nigeria",
          "Mongolia",
          "Armenia",
          "Syrian Arab Republic",
          "Moldova",
          "Viet Nam",
          "Iraq",
          "Morocco",
          "Iran",
          "Azerbaijan",
          "Kyrgyzstan",
          "Ukraine",
          "Belarus",
          "Egypt",
          "India",
          "Tajikistan",
          "Turkmenistan",
          "China",
          "Uzbekistan",
          "Kazakhstan"
         ],
         "yaxis": "y2"
        }
       ],
       "layout": {
        "annotations": [
         {
          "align": "left",
          "font": {
           "color": "grey",
           "size": 12
          },
          "showarrow": false,
          "text": "@Conspect Labs, Sources: UNESCO, OpenDoorsData, Nuffic, IIE, Statista, MoE of Kazakhstan, Iran, Egypt, Thailand",
          "x": 0.4,
          "xanchor": "center",
          "xref": "paper",
          "y": -0.18,
          "yanchor": "bottom",
          "yref": "paper"
         },
         {
          "align": "left",
          "font": {
           "color": "grey",
           "size": 12
          },
          "showarrow": false,
          "text": "@Conspect Labs, Sources: UNESCO, OpenDoorsData, Nuffic, IIE, Statista, MoE of Kazakhstan, Iran, Egypt, Thailand",
          "x": 0.4,
          "xanchor": "center",
          "xref": "paper",
          "y": -0.18,
          "yanchor": "bottom",
          "yref": "paper"
         }
        ],
        "barmode": "group",
        "height": 600,
        "margin": {
         "b": 100,
         "l": 50,
         "r": 50,
         "t": 50
        },
        "plot_bgcolor": "white",
        "template": {
         "data": {
          "bar": [
           {
            "error_x": {
             "color": "#2a3f5f"
            },
            "error_y": {
             "color": "#2a3f5f"
            },
            "marker": {
             "line": {
              "color": "#E5ECF6",
              "width": 0.5
             },
             "pattern": {
              "fillmode": "overlay",
              "size": 10,
              "solidity": 0.2
             }
            },
            "type": "bar"
           }
          ],
          "barpolar": [
           {
            "marker": {
             "line": {
              "color": "#E5ECF6",
              "width": 0.5
             },
             "pattern": {
              "fillmode": "overlay",
              "size": 10,
              "solidity": 0.2
             }
            },
            "type": "barpolar"
           }
          ],
          "carpet": [
           {
            "aaxis": {
             "endlinecolor": "#2a3f5f",
             "gridcolor": "white",
             "linecolor": "white",
             "minorgridcolor": "white",
             "startlinecolor": "#2a3f5f"
            },
            "baxis": {
             "endlinecolor": "#2a3f5f",
             "gridcolor": "white",
             "linecolor": "white",
             "minorgridcolor": "white",
             "startlinecolor": "#2a3f5f"
            },
            "type": "carpet"
           }
          ],
          "choropleth": [
           {
            "colorbar": {
             "outlinewidth": 0,
             "ticks": ""
            },
            "type": "choropleth"
           }
          ],
          "contour": [
           {
            "colorbar": {
             "outlinewidth": 0,
             "ticks": ""
            },
            "colorscale": [
             [
              0,
              "#0d0887"
             ],
             [
              0.1111111111111111,
              "#46039f"
             ],
             [
              0.2222222222222222,
              "#7201a8"
             ],
             [
              0.3333333333333333,
              "#9c179e"
             ],
             [
              0.4444444444444444,
              "#bd3786"
             ],
             [
              0.5555555555555556,
              "#d8576b"
             ],
             [
              0.6666666666666666,
              "#ed7953"
             ],
             [
              0.7777777777777778,
              "#fb9f3a"
             ],
             [
              0.8888888888888888,
              "#fdca26"
             ],
             [
              1,
              "#f0f921"
             ]
            ],
            "type": "contour"
           }
          ],
          "contourcarpet": [
           {
            "colorbar": {
             "outlinewidth": 0,
             "ticks": ""
            },
            "type": "contourcarpet"
           }
          ],
          "heatmap": [
           {
            "colorbar": {
             "outlinewidth": 0,
             "ticks": ""
            },
            "colorscale": [
             [
              0,
              "#0d0887"
             ],
             [
              0.1111111111111111,
              "#46039f"
             ],
             [
              0.2222222222222222,
              "#7201a8"
             ],
             [
              0.3333333333333333,
              "#9c179e"
             ],
             [
              0.4444444444444444,
              "#bd3786"
             ],
             [
              0.5555555555555556,
              "#d8576b"
             ],
             [
              0.6666666666666666,
              "#ed7953"
             ],
             [
              0.7777777777777778,
              "#fb9f3a"
             ],
             [
              0.8888888888888888,
              "#fdca26"
             ],
             [
              1,
              "#f0f921"
             ]
            ],
            "type": "heatmap"
           }
          ],
          "heatmapgl": [
           {
            "colorbar": {
             "outlinewidth": 0,
             "ticks": ""
            },
            "colorscale": [
             [
              0,
              "#0d0887"
             ],
             [
              0.1111111111111111,
              "#46039f"
             ],
             [
              0.2222222222222222,
              "#7201a8"
             ],
             [
              0.3333333333333333,
              "#9c179e"
             ],
             [
              0.4444444444444444,
              "#bd3786"
             ],
             [
              0.5555555555555556,
              "#d8576b"
             ],
             [
              0.6666666666666666,
              "#ed7953"
             ],
             [
              0.7777777777777778,
              "#fb9f3a"
             ],
             [
              0.8888888888888888,
              "#fdca26"
             ],
             [
              1,
              "#f0f921"
             ]
            ],
            "type": "heatmapgl"
           }
          ],
          "histogram": [
           {
            "marker": {
             "pattern": {
              "fillmode": "overlay",
              "size": 10,
              "solidity": 0.2
             }
            },
            "type": "histogram"
           }
          ],
          "histogram2d": [
           {
            "colorbar": {
             "outlinewidth": 0,
             "ticks": ""
            },
            "colorscale": [
             [
              0,
              "#0d0887"
             ],
             [
              0.1111111111111111,
              "#46039f"
             ],
             [
              0.2222222222222222,
              "#7201a8"
             ],
             [
              0.3333333333333333,
              "#9c179e"
             ],
             [
              0.4444444444444444,
              "#bd3786"
             ],
             [
              0.5555555555555556,
              "#d8576b"
             ],
             [
              0.6666666666666666,
              "#ed7953"
             ],
             [
              0.7777777777777778,
              "#fb9f3a"
             ],
             [
              0.8888888888888888,
              "#fdca26"
             ],
             [
              1,
              "#f0f921"
             ]
            ],
            "type": "histogram2d"
           }
          ],
          "histogram2dcontour": [
           {
            "colorbar": {
             "outlinewidth": 0,
             "ticks": ""
            },
            "colorscale": [
             [
              0,
              "#0d0887"
             ],
             [
              0.1111111111111111,
              "#46039f"
             ],
             [
              0.2222222222222222,
              "#7201a8"
             ],
             [
              0.3333333333333333,
              "#9c179e"
             ],
             [
              0.4444444444444444,
              "#bd3786"
             ],
             [
              0.5555555555555556,
              "#d8576b"
             ],
             [
              0.6666666666666666,
              "#ed7953"
             ],
             [
              0.7777777777777778,
              "#fb9f3a"
             ],
             [
              0.8888888888888888,
              "#fdca26"
             ],
             [
              1,
              "#f0f921"
             ]
            ],
            "type": "histogram2dcontour"
           }
          ],
          "mesh3d": [
           {
            "colorbar": {
             "outlinewidth": 0,
             "ticks": ""
            },
            "type": "mesh3d"
           }
          ],
          "parcoords": [
           {
            "line": {
             "colorbar": {
              "outlinewidth": 0,
              "ticks": ""
             }
            },
            "type": "parcoords"
           }
          ],
          "pie": [
           {
            "automargin": true,
            "type": "pie"
           }
          ],
          "scatter": [
           {
            "fillpattern": {
             "fillmode": "overlay",
             "size": 10,
             "solidity": 0.2
            },
            "type": "scatter"
           }
          ],
          "scatter3d": [
           {
            "line": {
             "colorbar": {
              "outlinewidth": 0,
              "ticks": ""
             }
            },
            "marker": {
             "colorbar": {
              "outlinewidth": 0,
              "ticks": ""
             }
            },
            "type": "scatter3d"
           }
          ],
          "scattercarpet": [
           {
            "marker": {
             "colorbar": {
              "outlinewidth": 0,
              "ticks": ""
             }
            },
            "type": "scattercarpet"
           }
          ],
          "scattergeo": [
           {
            "marker": {
             "colorbar": {
              "outlinewidth": 0,
              "ticks": ""
             }
            },
            "type": "scattergeo"
           }
          ],
          "scattergl": [
           {
            "marker": {
             "colorbar": {
              "outlinewidth": 0,
              "ticks": ""
             }
            },
            "type": "scattergl"
           }
          ],
          "scattermapbox": [
           {
            "marker": {
             "colorbar": {
              "outlinewidth": 0,
              "ticks": ""
             }
            },
            "type": "scattermapbox"
           }
          ],
          "scatterpolar": [
           {
            "marker": {
             "colorbar": {
              "outlinewidth": 0,
              "ticks": ""
             }
            },
            "type": "scatterpolar"
           }
          ],
          "scatterpolargl": [
           {
            "marker": {
             "colorbar": {
              "outlinewidth": 0,
              "ticks": ""
             }
            },
            "type": "scatterpolargl"
           }
          ],
          "scatterternary": [
           {
            "marker": {
             "colorbar": {
              "outlinewidth": 0,
              "ticks": ""
             }
            },
            "type": "scatterternary"
           }
          ],
          "surface": [
           {
            "colorbar": {
             "outlinewidth": 0,
             "ticks": ""
            },
            "colorscale": [
             [
              0,
              "#0d0887"
             ],
             [
              0.1111111111111111,
              "#46039f"
             ],
             [
              0.2222222222222222,
              "#7201a8"
             ],
             [
              0.3333333333333333,
              "#9c179e"
             ],
             [
              0.4444444444444444,
              "#bd3786"
             ],
             [
              0.5555555555555556,
              "#d8576b"
             ],
             [
              0.6666666666666666,
              "#ed7953"
             ],
             [
              0.7777777777777778,
              "#fb9f3a"
             ],
             [
              0.8888888888888888,
              "#fdca26"
             ],
             [
              1,
              "#f0f921"
             ]
            ],
            "type": "surface"
           }
          ],
          "table": [
           {
            "cells": {
             "fill": {
              "color": "#EBF0F8"
             },
             "line": {
              "color": "white"
             }
            },
            "header": {
             "fill": {
              "color": "#C8D4E3"
             },
             "line": {
              "color": "white"
             }
            },
            "type": "table"
           }
          ]
         },
         "layout": {
          "annotationdefaults": {
           "arrowcolor": "#2a3f5f",
           "arrowhead": 0,
           "arrowwidth": 1
          },
          "autotypenumbers": "strict",
          "coloraxis": {
           "colorbar": {
            "outlinewidth": 0,
            "ticks": ""
           }
          },
          "colorscale": {
           "diverging": [
            [
             0,
             "#8e0152"
            ],
            [
             0.1,
             "#c51b7d"
            ],
            [
             0.2,
             "#de77ae"
            ],
            [
             0.3,
             "#f1b6da"
            ],
            [
             0.4,
             "#fde0ef"
            ],
            [
             0.5,
             "#f7f7f7"
            ],
            [
             0.6,
             "#e6f5d0"
            ],
            [
             0.7,
             "#b8e186"
            ],
            [
             0.8,
             "#7fbc41"
            ],
            [
             0.9,
             "#4d9221"
            ],
            [
             1,
             "#276419"
            ]
           ],
           "sequential": [
            [
             0,
             "#0d0887"
            ],
            [
             0.1111111111111111,
             "#46039f"
            ],
            [
             0.2222222222222222,
             "#7201a8"
            ],
            [
             0.3333333333333333,
             "#9c179e"
            ],
            [
             0.4444444444444444,
             "#bd3786"
            ],
            [
             0.5555555555555556,
             "#d8576b"
            ],
            [
             0.6666666666666666,
             "#ed7953"
            ],
            [
             0.7777777777777778,
             "#fb9f3a"
            ],
            [
             0.8888888888888888,
             "#fdca26"
            ],
            [
             1,
             "#f0f921"
            ]
           ],
           "sequentialminus": [
            [
             0,
             "#0d0887"
            ],
            [
             0.1111111111111111,
             "#46039f"
            ],
            [
             0.2222222222222222,
             "#7201a8"
            ],
            [
             0.3333333333333333,
             "#9c179e"
            ],
            [
             0.4444444444444444,
             "#bd3786"
            ],
            [
             0.5555555555555556,
             "#d8576b"
            ],
            [
             0.6666666666666666,
             "#ed7953"
            ],
            [
             0.7777777777777778,
             "#fb9f3a"
            ],
            [
             0.8888888888888888,
             "#fdca26"
            ],
            [
             1,
             "#f0f921"
            ]
           ]
          },
          "colorway": [
           "#636efa",
           "#EF553B",
           "#00cc96",
           "#ab63fa",
           "#FFA15A",
           "#19d3f3",
           "#FF6692",
           "#B6E880",
           "#FF97FF",
           "#FECB52"
          ],
          "font": {
           "color": "#2a3f5f"
          },
          "geo": {
           "bgcolor": "white",
           "lakecolor": "white",
           "landcolor": "#E5ECF6",
           "showlakes": true,
           "showland": true,
           "subunitcolor": "white"
          },
          "hoverlabel": {
           "align": "left"
          },
          "hovermode": "closest",
          "mapbox": {
           "style": "light"
          },
          "paper_bgcolor": "white",
          "plot_bgcolor": "#E5ECF6",
          "polar": {
           "angularaxis": {
            "gridcolor": "white",
            "linecolor": "white",
            "ticks": ""
           },
           "bgcolor": "#E5ECF6",
           "radialaxis": {
            "gridcolor": "white",
            "linecolor": "white",
            "ticks": ""
           }
          },
          "scene": {
           "xaxis": {
            "backgroundcolor": "#E5ECF6",
            "gridcolor": "white",
            "gridwidth": 2,
            "linecolor": "white",
            "showbackground": true,
            "ticks": "",
            "zerolinecolor": "white"
           },
           "yaxis": {
            "backgroundcolor": "#E5ECF6",
            "gridcolor": "white",
            "gridwidth": 2,
            "linecolor": "white",
            "showbackground": true,
            "ticks": "",
            "zerolinecolor": "white"
           },
           "zaxis": {
            "backgroundcolor": "#E5ECF6",
            "gridcolor": "white",
            "gridwidth": 2,
            "linecolor": "white",
            "showbackground": true,
            "ticks": "",
            "zerolinecolor": "white"
           }
          },
          "shapedefaults": {
           "line": {
            "color": "#2a3f5f"
           }
          },
          "ternary": {
           "aaxis": {
            "gridcolor": "white",
            "linecolor": "white",
            "ticks": ""
           },
           "baxis": {
            "gridcolor": "white",
            "linecolor": "white",
            "ticks": ""
           },
           "bgcolor": "#E5ECF6",
           "caxis": {
            "gridcolor": "white",
            "linecolor": "white",
            "ticks": ""
           }
          },
          "title": {
           "x": 0.05
          },
          "xaxis": {
           "automargin": true,
           "gridcolor": "white",
           "linecolor": "white",
           "ticks": "",
           "title": {
            "standoff": 15
           },
           "zerolinecolor": "white",
           "zerolinewidth": 2
          },
          "yaxis": {
           "automargin": true,
           "gridcolor": "white",
           "linecolor": "white",
           "ticks": "",
           "title": {
            "standoff": 15
           },
           "zerolinecolor": "white",
           "zerolinewidth": 2
          }
         }
        },
        "title": {
         "text": "Топ-20 стран по количеству студентов в России в 2017 и 2022 г.png"
        },
        "width": 1000,
        "xaxis": {
         "anchor": "y",
         "domain": [
          0,
          0.45
         ]
        },
        "xaxis2": {
         "anchor": "y2",
         "domain": [
          0.55,
          1
         ]
        },
        "yaxis": {
         "anchor": "x",
         "domain": [
          0,
          1
         ],
         "title": {
          "text": "Число студентов"
         }
        },
        "yaxis2": {
         "anchor": "x2",
         "domain": [
          0,
          1
         ]
        }
       }
      }
     },
     "metadata": {},
     "output_type": "display_data"
    }
   ],
   "source": [
    "inbound_to_country_from_2017_top20.sort_values(by='2017',ascending=True,inplace=True)\n",
    "inbound_to_country_from_2022_top20.sort_values(by='2022',ascending=True,inplace=True)\n",
    "\n",
    "# Create subplots\n",
    "fig = make_subplots(\n",
    "    rows=1, cols=2,\n",
    "    subplot_titles=['2017', '2022'],\n",
    "    row_heights =[1]\n",
    ")\n",
    "trace1 = go.Bar(\n",
    "    y=inbound_to_country_from_2017_top20['from'],\n",
    "    x=inbound_to_country_from_2017_top20['2017'],\n",
    "    orientation='h',\n",
    "    name=f'2017',\n",
    "    text=[f\"{value/1000:.1f}k\" if value < 2000 else f\"{int(value/1000)}k\" for value in inbound_to_country_from_2017_top20['2017']],  # Value labels in thousands\n",
    "    textposition='auto',\n",
    "    textfont=dict(size=12),\n",
    "    marker_color=[color for color in inbound_to_country_from_2017_top20['color']]\n",
    "    )\n",
    "trace2 = go.Bar(\n",
    "    y=inbound_to_country_from_2022_top20['from'],\n",
    "    x=inbound_to_country_from_2022_top20['2022'],\n",
    "    orientation='h',\n",
    "    name=f'2022',\n",
    "    text=[f\"{value/1000:.1f}k\" if value < 2000 else f\"{int(value/1000)}k\" for value in inbound_to_country_from_2022_top20['2022']],  # Value labels in thousands\n",
    "    textposition='auto',\n",
    "    textfont=dict(size=12),\n",
    "    marker_color=[color for color in inbound_to_country_from_2022_top20['color']]\n",
    "    )\n",
    "    \n",
    "fig.add_trace(trace1, row=1, col=1)\n",
    "fig.add_trace(trace2, row=1, col=2)\n",
    "        \n",
    "fig.update_layout(\n",
    "    title='Топ-20 стран по количеству студентов в России в 2017 и 2022 г.png',\n",
    "    yaxis_title='Число студентов',\n",
    "    barmode='group',  # Group bars together\n",
    "    height=600,\n",
    "    width=1000,\n",
    "\n",
    "    margin=dict(l=50, r=50, t=50, b=100),\n",
    "    plot_bgcolor='white',\n",
    "    annotations=[\n",
    "            dict(\n",
    "                x=0.4,  # Center the annotation\n",
    "                y=-0.18,  # Move it below the chart\n",
    "                text=\"@Conspect Labs, Sources: UNESCO, OpenDoorsData, Nuffic, IIE, Statista, MoE of Kazakhstan, Iran, Egypt, Thailand\",\n",
    "                showarrow=False,\n",
    "                xref=\"paper\",  # Use paper coordinates\n",
    "                yref=\"paper\",\n",
    "                font=dict(size=12, color=\"grey\"),\n",
    "                align=\"left\"\n",
    "        )\n",
    "        ]\n",
    ")\n",
    "\n",
    "pio.write_image(fig, \"Топ-20 стран по количеству студентов в России в 2017 и 2022 гг.png\")\n",
    "fig.show()"
   ]
  },
  {
   "cell_type": "markdown",
   "metadata": {},
   "source": [
    "Российские вузы зависят в основном от стран Центральной Азии и Китая - 60% студентов приезжают из Казахстана, Узбекистана, Туркменистана, Таджикистана и Китая. Диверсификация рынка происходит, но не быстро: в 2017 году топ-10 стран-доноров России составляли 85% въезда студентов, в 2022-м - 78%. "
   ]
  },
  {
   "cell_type": "code",
   "execution_count": null,
   "metadata": {},
   "outputs": [],
   "source": [
    "print(inbound_to_country_from_2017_top20['2017'].sum()/)"
   ]
  },
  {
   "cell_type": "code",
   "execution_count": 696,
   "metadata": {},
   "outputs": [
    {
     "data": {
      "text/plain": [
       "np.float64(0.6293490911499484)"
      ]
     },
     "execution_count": 696,
     "metadata": {},
     "output_type": "execute_result"
    }
   ],
   "source": [
    "inbound_to_country.sort_values(by='2017', ascending=False).head(5)['2017'].sum()/inbound_to_country['2017'].sum()"
   ]
  },
  {
   "cell_type": "code",
   "execution_count": null,
   "metadata": {},
   "outputs": [
    {
     "data": {
      "text/plain": [
       "np.float64(0.5899888186650563)"
      ]
     },
     "execution_count": 694,
     "metadata": {},
     "output_type": "execute_result"
    }
   ],
   "source": [
    "inbound_to_country.sort_values(by='2022', ascending=False).head(5)['2022'].sum()/inbound_to_country['2022'].sum()"
   ]
  },
  {
   "cell_type": "code",
   "execution_count": 697,
   "metadata": {},
   "outputs": [
    {
     "data": {
      "text/plain": [
       "np.float64(0.8511728470993443)"
      ]
     },
     "execution_count": 697,
     "metadata": {},
     "output_type": "execute_result"
    }
   ],
   "source": [
    "inbound_to_country.sort_values(by='2017', ascending=False).head(10)['2017'].sum()/inbound_to_country['2017'].sum()"
   ]
  },
  {
   "cell_type": "code",
   "execution_count": 695,
   "metadata": {},
   "outputs": [
    {
     "data": {
      "text/plain": [
       "np.float64(0.7812135634974259)"
      ]
     },
     "execution_count": 695,
     "metadata": {},
     "output_type": "execute_result"
    }
   ],
   "source": [
    "inbound_to_country.sort_values(by='2022', ascending=False).head(10)['2022'].sum()/inbound_to_country['2022'].sum()"
   ]
  },
  {
   "cell_type": "markdown",
   "metadata": {},
   "source": [
    "<h4>Роль России в выездном потоке по странам в 2017 и 2022 гг</h4>"
   ]
  },
  {
   "cell_type": "code",
   "execution_count": 116,
   "metadata": {},
   "outputs": [
    {
     "data": {
      "text/html": [
       "<div>\n",
       "<style scoped>\n",
       "    .dataframe tbody tr th:only-of-type {\n",
       "        vertical-align: middle;\n",
       "    }\n",
       "\n",
       "    .dataframe tbody tr th {\n",
       "        vertical-align: top;\n",
       "    }\n",
       "\n",
       "    .dataframe thead th {\n",
       "        text-align: right;\n",
       "    }\n",
       "</style>\n",
       "<table border=\"1\" class=\"dataframe\">\n",
       "  <thead>\n",
       "    <tr style=\"text-align: right;\">\n",
       "      <th></th>\n",
       "      <th>Country</th>\n",
       "      <th>Total_2017</th>\n",
       "      <th>Russia_In_2017</th>\n",
       "      <th>Share_to_Russia_%_2017</th>\n",
       "      <th>Total_2022</th>\n",
       "      <th>Russia_In_2022</th>\n",
       "      <th>Share_to_Russia_%_2022</th>\n",
       "      <th>total_change</th>\n",
       "      <th>Russia_in_change</th>\n",
       "    </tr>\n",
       "  </thead>\n",
       "  <tbody>\n",
       "    <tr>\n",
       "      <th>31</th>\n",
       "      <td>Tajikistan Out</td>\n",
       "      <td>19156.0</td>\n",
       "      <td>14204.0</td>\n",
       "      <td>74.1</td>\n",
       "      <td>31553.0</td>\n",
       "      <td>27086.0</td>\n",
       "      <td>85.8</td>\n",
       "      <td>64.7</td>\n",
       "      <td>90.7</td>\n",
       "    </tr>\n",
       "    <tr>\n",
       "      <th>21</th>\n",
       "      <td>Kazakhstan Out</td>\n",
       "      <td>95570.0</td>\n",
       "      <td>65237.0</td>\n",
       "      <td>68.3</td>\n",
       "      <td>92404.0</td>\n",
       "      <td>53935.0</td>\n",
       "      <td>58.4</td>\n",
       "      <td>-3.3</td>\n",
       "      <td>-17.3</td>\n",
       "    </tr>\n",
       "    <tr>\n",
       "      <th>22</th>\n",
       "      <td>Kyrgyzstan Out</td>\n",
       "      <td>11153.0</td>\n",
       "      <td>5523.0</td>\n",
       "      <td>49.5</td>\n",
       "      <td>16326.0</td>\n",
       "      <td>9345.0</td>\n",
       "      <td>57.2</td>\n",
       "      <td>46.4</td>\n",
       "      <td>69.2</td>\n",
       "    </tr>\n",
       "    <tr>\n",
       "      <th>33</th>\n",
       "      <td>Turkmenistan Out</td>\n",
       "      <td>38924.0</td>\n",
       "      <td>17457.0</td>\n",
       "      <td>44.8</td>\n",
       "      <td>54259.0</td>\n",
       "      <td>27095.0</td>\n",
       "      <td>49.9</td>\n",
       "      <td>39.4</td>\n",
       "      <td>55.2</td>\n",
       "    </tr>\n",
       "    <tr>\n",
       "      <th>3</th>\n",
       "      <td>Armenia Out</td>\n",
       "      <td>5710.0</td>\n",
       "      <td>2720.0</td>\n",
       "      <td>47.6</td>\n",
       "      <td>5116.0</td>\n",
       "      <td>2424.0</td>\n",
       "      <td>47.4</td>\n",
       "      <td>-10.4</td>\n",
       "      <td>-10.9</td>\n",
       "    </tr>\n",
       "    <tr>\n",
       "      <th>5</th>\n",
       "      <td>Belarus Out</td>\n",
       "      <td>21877.0</td>\n",
       "      <td>11600.0</td>\n",
       "      <td>53.0</td>\n",
       "      <td>26364.0</td>\n",
       "      <td>9821.0</td>\n",
       "      <td>37.3</td>\n",
       "      <td>20.5</td>\n",
       "      <td>-15.3</td>\n",
       "    </tr>\n",
       "    <tr>\n",
       "      <th>35</th>\n",
       "      <td>Uzbekistan Out</td>\n",
       "      <td>32570.0</td>\n",
       "      <td>20862.0</td>\n",
       "      <td>64.1</td>\n",
       "      <td>132936.0</td>\n",
       "      <td>48430.0</td>\n",
       "      <td>36.4</td>\n",
       "      <td>308.2</td>\n",
       "      <td>132.1</td>\n",
       "    </tr>\n",
       "    <tr>\n",
       "      <th>12</th>\n",
       "      <td>Egypt Out</td>\n",
       "      <td>27475.0</td>\n",
       "      <td>660.0</td>\n",
       "      <td>2.4</td>\n",
       "      <td>61356.0</td>\n",
       "      <td>15616.0</td>\n",
       "      <td>25.5</td>\n",
       "      <td>123.3</td>\n",
       "      <td>2266.1</td>\n",
       "    </tr>\n",
       "    <tr>\n",
       "      <th>25</th>\n",
       "      <td>Moldova Out</td>\n",
       "      <td>17729.0</td>\n",
       "      <td>3402.0</td>\n",
       "      <td>19.2</td>\n",
       "      <td>19188.0</td>\n",
       "      <td>3360.0</td>\n",
       "      <td>17.5</td>\n",
       "      <td>8.2</td>\n",
       "      <td>-1.2</td>\n",
       "    </tr>\n",
       "    <tr>\n",
       "      <th>23</th>\n",
       "      <td>Latvia Out</td>\n",
       "      <td>4678.0</td>\n",
       "      <td>452.0</td>\n",
       "      <td>9.7</td>\n",
       "      <td>4376.0</td>\n",
       "      <td>697.0</td>\n",
       "      <td>15.9</td>\n",
       "      <td>-6.5</td>\n",
       "      <td>54.2</td>\n",
       "    </tr>\n",
       "    <tr>\n",
       "      <th>4</th>\n",
       "      <td>Azerbaijan Out</td>\n",
       "      <td>33652.0</td>\n",
       "      <td>11269.0</td>\n",
       "      <td>33.5</td>\n",
       "      <td>45442.0</td>\n",
       "      <td>6761.0</td>\n",
       "      <td>14.9</td>\n",
       "      <td>35.0</td>\n",
       "      <td>-40.0</td>\n",
       "    </tr>\n",
       "    <tr>\n",
       "      <th>38</th>\n",
       "      <td>Zambia Out</td>\n",
       "      <td>4698.0</td>\n",
       "      <td>198.0</td>\n",
       "      <td>4.2</td>\n",
       "      <td>4685.0</td>\n",
       "      <td>612.0</td>\n",
       "      <td>13.1</td>\n",
       "      <td>-0.3</td>\n",
       "      <td>209.1</td>\n",
       "    </tr>\n",
       "    <tr>\n",
       "      <th>34</th>\n",
       "      <td>Ukraine Out</td>\n",
       "      <td>77068.0</td>\n",
       "      <td>15263.0</td>\n",
       "      <td>19.8</td>\n",
       "      <td>76852.0</td>\n",
       "      <td>9446.0</td>\n",
       "      <td>12.3</td>\n",
       "      <td>-0.3</td>\n",
       "      <td>-38.1</td>\n",
       "    </tr>\n",
       "    <tr>\n",
       "      <th>18</th>\n",
       "      <td>Iraq Out</td>\n",
       "      <td>23589.0</td>\n",
       "      <td>1530.0</td>\n",
       "      <td>6.5</td>\n",
       "      <td>34127.0</td>\n",
       "      <td>3594.0</td>\n",
       "      <td>10.5</td>\n",
       "      <td>44.7</td>\n",
       "      <td>134.9</td>\n",
       "    </tr>\n",
       "    <tr>\n",
       "      <th>9</th>\n",
       "      <td>Congo Out</td>\n",
       "      <td>8918.0</td>\n",
       "      <td>360.0</td>\n",
       "      <td>4.0</td>\n",
       "      <td>8351.0</td>\n",
       "      <td>726.0</td>\n",
       "      <td>8.7</td>\n",
       "      <td>-6.4</td>\n",
       "      <td>101.7</td>\n",
       "    </tr>\n",
       "    <tr>\n",
       "      <th>2</th>\n",
       "      <td>Angola Out</td>\n",
       "      <td>11402.0</td>\n",
       "      <td>865.0</td>\n",
       "      <td>7.6</td>\n",
       "      <td>9539.0</td>\n",
       "      <td>805.0</td>\n",
       "      <td>8.4</td>\n",
       "      <td>-16.3</td>\n",
       "      <td>-6.9</td>\n",
       "    </tr>\n",
       "    <tr>\n",
       "      <th>0</th>\n",
       "      <td>Afghanistan Out</td>\n",
       "      <td>14730.0</td>\n",
       "      <td>188.0</td>\n",
       "      <td>1.3</td>\n",
       "      <td>19665.0</td>\n",
       "      <td>1602.0</td>\n",
       "      <td>8.1</td>\n",
       "      <td>33.5</td>\n",
       "      <td>752.1</td>\n",
       "    </tr>\n",
       "    <tr>\n",
       "      <th>17</th>\n",
       "      <td>Iran Out</td>\n",
       "      <td>49406.0</td>\n",
       "      <td>184.0</td>\n",
       "      <td>0.4</td>\n",
       "      <td>83839.0</td>\n",
       "      <td>6735.0</td>\n",
       "      <td>8.0</td>\n",
       "      <td>69.7</td>\n",
       "      <td>3560.3</td>\n",
       "    </tr>\n",
       "    <tr>\n",
       "      <th>26</th>\n",
       "      <td>Mongolia Out</td>\n",
       "      <td>20605.0</td>\n",
       "      <td>1034.0</td>\n",
       "      <td>5.0</td>\n",
       "      <td>26264.0</td>\n",
       "      <td>2048.0</td>\n",
       "      <td>7.8</td>\n",
       "      <td>27.5</td>\n",
       "      <td>98.1</td>\n",
       "    </tr>\n",
       "    <tr>\n",
       "      <th>13</th>\n",
       "      <td>Georgia Out</td>\n",
       "      <td>8612.0</td>\n",
       "      <td>1580.0</td>\n",
       "      <td>18.3</td>\n",
       "      <td>7477.0</td>\n",
       "      <td>565.0</td>\n",
       "      <td>7.6</td>\n",
       "      <td>-13.2</td>\n",
       "      <td>-64.2</td>\n",
       "    </tr>\n",
       "    <tr>\n",
       "      <th>20</th>\n",
       "      <td>Jordan Out</td>\n",
       "      <td>16081.0</td>\n",
       "      <td>605.0</td>\n",
       "      <td>3.8</td>\n",
       "      <td>26086.0</td>\n",
       "      <td>1600.0</td>\n",
       "      <td>6.1</td>\n",
       "      <td>62.2</td>\n",
       "      <td>164.5</td>\n",
       "    </tr>\n",
       "    <tr>\n",
       "      <th>15</th>\n",
       "      <td>Haiti Out</td>\n",
       "      <td>9240.0</td>\n",
       "      <td>14.0</td>\n",
       "      <td>0.2</td>\n",
       "      <td>10576.0</td>\n",
       "      <td>618.0</td>\n",
       "      <td>5.8</td>\n",
       "      <td>14.5</td>\n",
       "      <td>4314.3</td>\n",
       "    </tr>\n",
       "    <tr>\n",
       "      <th>39</th>\n",
       "      <td>Zimbabwe Out</td>\n",
       "      <td>18417.0</td>\n",
       "      <td>190.0</td>\n",
       "      <td>1.0</td>\n",
       "      <td>21794.0</td>\n",
       "      <td>1266.0</td>\n",
       "      <td>5.8</td>\n",
       "      <td>18.3</td>\n",
       "      <td>566.3</td>\n",
       "    </tr>\n",
       "    <tr>\n",
       "      <th>11</th>\n",
       "      <td>Ecuador Out</td>\n",
       "      <td>19631.0</td>\n",
       "      <td>138.0</td>\n",
       "      <td>0.7</td>\n",
       "      <td>30578.0</td>\n",
       "      <td>1677.0</td>\n",
       "      <td>5.5</td>\n",
       "      <td>55.8</td>\n",
       "      <td>1115.2</td>\n",
       "    </tr>\n",
       "    <tr>\n",
       "      <th>27</th>\n",
       "      <td>Morocco Out</td>\n",
       "      <td>47637.0</td>\n",
       "      <td>1643.0</td>\n",
       "      <td>3.4</td>\n",
       "      <td>67566.0</td>\n",
       "      <td>3601.0</td>\n",
       "      <td>5.3</td>\n",
       "      <td>41.8</td>\n",
       "      <td>119.2</td>\n",
       "    </tr>\n",
       "    <tr>\n",
       "      <th>37</th>\n",
       "      <td>Yemen Out</td>\n",
       "      <td>21531.0</td>\n",
       "      <td>274.0</td>\n",
       "      <td>1.3</td>\n",
       "      <td>32261.0</td>\n",
       "      <td>1539.0</td>\n",
       "      <td>4.8</td>\n",
       "      <td>49.8</td>\n",
       "      <td>461.7</td>\n",
       "    </tr>\n",
       "    <tr>\n",
       "      <th>1</th>\n",
       "      <td>Algeria Out</td>\n",
       "      <td>25090.0</td>\n",
       "      <td>246.0</td>\n",
       "      <td>1.0</td>\n",
       "      <td>34873.0</td>\n",
       "      <td>1524.0</td>\n",
       "      <td>4.4</td>\n",
       "      <td>39.0</td>\n",
       "      <td>519.5</td>\n",
       "    </tr>\n",
       "    <tr>\n",
       "      <th>7</th>\n",
       "      <td>China Out</td>\n",
       "      <td>837346.0</td>\n",
       "      <td>11950.0</td>\n",
       "      <td>1.4</td>\n",
       "      <td>944495.0</td>\n",
       "      <td>40797.0</td>\n",
       "      <td>4.3</td>\n",
       "      <td>12.8</td>\n",
       "      <td>241.4</td>\n",
       "    </tr>\n",
       "    <tr>\n",
       "      <th>24</th>\n",
       "      <td>Lebanon Out</td>\n",
       "      <td>14155.0</td>\n",
       "      <td>167.0</td>\n",
       "      <td>1.2</td>\n",
       "      <td>24995.0</td>\n",
       "      <td>1033.0</td>\n",
       "      <td>4.1</td>\n",
       "      <td>76.6</td>\n",
       "      <td>518.6</td>\n",
       "    </tr>\n",
       "    <tr>\n",
       "      <th>32</th>\n",
       "      <td>Tunisia Out</td>\n",
       "      <td>21616.0</td>\n",
       "      <td>781.0</td>\n",
       "      <td>3.6</td>\n",
       "      <td>26275.0</td>\n",
       "      <td>1065.0</td>\n",
       "      <td>4.1</td>\n",
       "      <td>21.6</td>\n",
       "      <td>36.4</td>\n",
       "    </tr>\n",
       "    <tr>\n",
       "      <th>10</th>\n",
       "      <td>Côte d'Ivoire Out</td>\n",
       "      <td>13407.0</td>\n",
       "      <td>227.0</td>\n",
       "      <td>1.7</td>\n",
       "      <td>18153.0</td>\n",
       "      <td>709.0</td>\n",
       "      <td>3.9</td>\n",
       "      <td>35.4</td>\n",
       "      <td>212.3</td>\n",
       "    </tr>\n",
       "    <tr>\n",
       "      <th>19</th>\n",
       "      <td>Israel Out</td>\n",
       "      <td>13649.0</td>\n",
       "      <td>350.0</td>\n",
       "      <td>2.6</td>\n",
       "      <td>15529.0</td>\n",
       "      <td>590.0</td>\n",
       "      <td>3.8</td>\n",
       "      <td>13.8</td>\n",
       "      <td>68.6</td>\n",
       "    </tr>\n",
       "    <tr>\n",
       "      <th>30</th>\n",
       "      <td>Syrian Arab Republic Out</td>\n",
       "      <td>44826.0</td>\n",
       "      <td>601.0</td>\n",
       "      <td>1.3</td>\n",
       "      <td>95578.0</td>\n",
       "      <td>3290.0</td>\n",
       "      <td>3.4</td>\n",
       "      <td>113.2</td>\n",
       "      <td>447.4</td>\n",
       "    </tr>\n",
       "    <tr>\n",
       "      <th>14</th>\n",
       "      <td>Ghana Out</td>\n",
       "      <td>11996.0</td>\n",
       "      <td>557.0</td>\n",
       "      <td>4.6</td>\n",
       "      <td>21101.0</td>\n",
       "      <td>660.0</td>\n",
       "      <td>3.1</td>\n",
       "      <td>75.9</td>\n",
       "      <td>18.5</td>\n",
       "    </tr>\n",
       "    <tr>\n",
       "      <th>28</th>\n",
       "      <td>Palestine Out</td>\n",
       "      <td>20074.0</td>\n",
       "      <td>197.0</td>\n",
       "      <td>1.0</td>\n",
       "      <td>25333.0</td>\n",
       "      <td>696.0</td>\n",
       "      <td>2.7</td>\n",
       "      <td>26.2</td>\n",
       "      <td>253.3</td>\n",
       "    </tr>\n",
       "    <tr>\n",
       "      <th>16</th>\n",
       "      <td>India Out</td>\n",
       "      <td>342118.0</td>\n",
       "      <td>6544.0</td>\n",
       "      <td>1.9</td>\n",
       "      <td>732424.0</td>\n",
       "      <td>19734.0</td>\n",
       "      <td>2.7</td>\n",
       "      <td>114.1</td>\n",
       "      <td>201.6</td>\n",
       "    </tr>\n",
       "    <tr>\n",
       "      <th>29</th>\n",
       "      <td>Sri Lanka Out</td>\n",
       "      <td>20259.0</td>\n",
       "      <td>493.0</td>\n",
       "      <td>2.4</td>\n",
       "      <td>30807.0</td>\n",
       "      <td>806.0</td>\n",
       "      <td>2.6</td>\n",
       "      <td>52.1</td>\n",
       "      <td>63.5</td>\n",
       "    </tr>\n",
       "    <tr>\n",
       "      <th>6</th>\n",
       "      <td>Cameroon Out</td>\n",
       "      <td>24309.0</td>\n",
       "      <td>270.0</td>\n",
       "      <td>1.1</td>\n",
       "      <td>29985.0</td>\n",
       "      <td>723.0</td>\n",
       "      <td>2.4</td>\n",
       "      <td>23.3</td>\n",
       "      <td>167.8</td>\n",
       "    </tr>\n",
       "    <tr>\n",
       "      <th>36</th>\n",
       "      <td>Viet Nam Out</td>\n",
       "      <td>104249.0</td>\n",
       "      <td>1374.0</td>\n",
       "      <td>1.3</td>\n",
       "      <td>144480.0</td>\n",
       "      <td>3537.0</td>\n",
       "      <td>2.4</td>\n",
       "      <td>38.6</td>\n",
       "      <td>157.4</td>\n",
       "    </tr>\n",
       "    <tr>\n",
       "      <th>8</th>\n",
       "      <td>Colombia Out</td>\n",
       "      <td>41153.0</td>\n",
       "      <td>264.0</td>\n",
       "      <td>0.6</td>\n",
       "      <td>58925.0</td>\n",
       "      <td>1201.0</td>\n",
       "      <td>2.0</td>\n",
       "      <td>43.2</td>\n",
       "      <td>354.9</td>\n",
       "    </tr>\n",
       "  </tbody>\n",
       "</table>\n",
       "</div>"
      ],
      "text/plain": [
       "                     Country  Total_2017  Russia_In_2017  \\\n",
       "31            Tajikistan Out     19156.0         14204.0   \n",
       "21            Kazakhstan Out     95570.0         65237.0   \n",
       "22            Kyrgyzstan Out     11153.0          5523.0   \n",
       "33          Turkmenistan Out     38924.0         17457.0   \n",
       "3                Armenia Out      5710.0          2720.0   \n",
       "5                Belarus Out     21877.0         11600.0   \n",
       "35            Uzbekistan Out     32570.0         20862.0   \n",
       "12                 Egypt Out     27475.0           660.0   \n",
       "25               Moldova Out     17729.0          3402.0   \n",
       "23                Latvia Out      4678.0           452.0   \n",
       "4             Azerbaijan Out     33652.0         11269.0   \n",
       "38                Zambia Out      4698.0           198.0   \n",
       "34               Ukraine Out     77068.0         15263.0   \n",
       "18                  Iraq Out     23589.0          1530.0   \n",
       "9                  Congo Out      8918.0           360.0   \n",
       "2                 Angola Out     11402.0           865.0   \n",
       "0            Afghanistan Out     14730.0           188.0   \n",
       "17                  Iran Out     49406.0           184.0   \n",
       "26              Mongolia Out     20605.0          1034.0   \n",
       "13               Georgia Out      8612.0          1580.0   \n",
       "20                Jordan Out     16081.0           605.0   \n",
       "15                 Haiti Out      9240.0            14.0   \n",
       "39              Zimbabwe Out     18417.0           190.0   \n",
       "11               Ecuador Out     19631.0           138.0   \n",
       "27               Morocco Out     47637.0          1643.0   \n",
       "37                 Yemen Out     21531.0           274.0   \n",
       "1                Algeria Out     25090.0           246.0   \n",
       "7                  China Out    837346.0         11950.0   \n",
       "24               Lebanon Out     14155.0           167.0   \n",
       "32               Tunisia Out     21616.0           781.0   \n",
       "10         Côte d'Ivoire Out     13407.0           227.0   \n",
       "19                Israel Out     13649.0           350.0   \n",
       "30  Syrian Arab Republic Out     44826.0           601.0   \n",
       "14                 Ghana Out     11996.0           557.0   \n",
       "28             Palestine Out     20074.0           197.0   \n",
       "16                 India Out    342118.0          6544.0   \n",
       "29             Sri Lanka Out     20259.0           493.0   \n",
       "6               Cameroon Out     24309.0           270.0   \n",
       "36              Viet Nam Out    104249.0          1374.0   \n",
       "8               Colombia Out     41153.0           264.0   \n",
       "\n",
       "    Share_to_Russia_%_2017  Total_2022  Russia_In_2022  \\\n",
       "31                    74.1     31553.0         27086.0   \n",
       "21                    68.3     92404.0         53935.0   \n",
       "22                    49.5     16326.0          9345.0   \n",
       "33                    44.8     54259.0         27095.0   \n",
       "3                     47.6      5116.0          2424.0   \n",
       "5                     53.0     26364.0          9821.0   \n",
       "35                    64.1    132936.0         48430.0   \n",
       "12                     2.4     61356.0         15616.0   \n",
       "25                    19.2     19188.0          3360.0   \n",
       "23                     9.7      4376.0           697.0   \n",
       "4                     33.5     45442.0          6761.0   \n",
       "38                     4.2      4685.0           612.0   \n",
       "34                    19.8     76852.0          9446.0   \n",
       "18                     6.5     34127.0          3594.0   \n",
       "9                      4.0      8351.0           726.0   \n",
       "2                      7.6      9539.0           805.0   \n",
       "0                      1.3     19665.0          1602.0   \n",
       "17                     0.4     83839.0          6735.0   \n",
       "26                     5.0     26264.0          2048.0   \n",
       "13                    18.3      7477.0           565.0   \n",
       "20                     3.8     26086.0          1600.0   \n",
       "15                     0.2     10576.0           618.0   \n",
       "39                     1.0     21794.0          1266.0   \n",
       "11                     0.7     30578.0          1677.0   \n",
       "27                     3.4     67566.0          3601.0   \n",
       "37                     1.3     32261.0          1539.0   \n",
       "1                      1.0     34873.0          1524.0   \n",
       "7                      1.4    944495.0         40797.0   \n",
       "24                     1.2     24995.0          1033.0   \n",
       "32                     3.6     26275.0          1065.0   \n",
       "10                     1.7     18153.0           709.0   \n",
       "19                     2.6     15529.0           590.0   \n",
       "30                     1.3     95578.0          3290.0   \n",
       "14                     4.6     21101.0           660.0   \n",
       "28                     1.0     25333.0           696.0   \n",
       "16                     1.9    732424.0         19734.0   \n",
       "29                     2.4     30807.0           806.0   \n",
       "6                      1.1     29985.0           723.0   \n",
       "36                     1.3    144480.0          3537.0   \n",
       "8                      0.6     58925.0          1201.0   \n",
       "\n",
       "    Share_to_Russia_%_2022  total_change  Russia_in_change  \n",
       "31                    85.8          64.7              90.7  \n",
       "21                    58.4          -3.3             -17.3  \n",
       "22                    57.2          46.4              69.2  \n",
       "33                    49.9          39.4              55.2  \n",
       "3                     47.4         -10.4             -10.9  \n",
       "5                     37.3          20.5             -15.3  \n",
       "35                    36.4         308.2             132.1  \n",
       "12                    25.5         123.3            2266.1  \n",
       "25                    17.5           8.2              -1.2  \n",
       "23                    15.9          -6.5              54.2  \n",
       "4                     14.9          35.0             -40.0  \n",
       "38                    13.1          -0.3             209.1  \n",
       "34                    12.3          -0.3             -38.1  \n",
       "18                    10.5          44.7             134.9  \n",
       "9                      8.7          -6.4             101.7  \n",
       "2                      8.4         -16.3              -6.9  \n",
       "0                      8.1          33.5             752.1  \n",
       "17                     8.0          69.7            3560.3  \n",
       "26                     7.8          27.5              98.1  \n",
       "13                     7.6         -13.2             -64.2  \n",
       "20                     6.1          62.2             164.5  \n",
       "15                     5.8          14.5            4314.3  \n",
       "39                     5.8          18.3             566.3  \n",
       "11                     5.5          55.8            1115.2  \n",
       "27                     5.3          41.8             119.2  \n",
       "37                     4.8          49.8             461.7  \n",
       "1                      4.4          39.0             519.5  \n",
       "7                      4.3          12.8             241.4  \n",
       "24                     4.1          76.6             518.6  \n",
       "32                     4.1          21.6              36.4  \n",
       "10                     3.9          35.4             212.3  \n",
       "19                     3.8          13.8              68.6  \n",
       "30                     3.4         113.2             447.4  \n",
       "14                     3.1          75.9              18.5  \n",
       "28                     2.7          26.2             253.3  \n",
       "16                     2.7         114.1             201.6  \n",
       "29                     2.6          52.1              63.5  \n",
       "6                      2.4          23.3             167.8  \n",
       "36                     2.4          38.6             157.4  \n",
       "8                      2.0          43.2             354.9  "
      ]
     },
     "execution_count": 116,
     "metadata": {},
     "output_type": "execute_result"
    }
   ],
   "source": [
    "results = []\n",
    "for every in countries2['from'].unique():\n",
    "    source = countries2[countries2['from']==every]\n",
    "    source_sum_17 = countries2[countries2['from']==every]['2017'].sum()\n",
    "    russia_in_17 = source[source['to']=='Russia In']['2017'].sum()\n",
    "    share_17 = round(russia_in_17/source_sum_17*100,1)\n",
    "    source_sum_22 = countries2[countries2['from']==every]['2022'].sum()\n",
    "    russia_in_22 = source[source['to']=='Russia In']['2022'].sum()\n",
    "    share_22 = round(russia_in_22/source_sum_22*100,1)\n",
    "    # print(every, source_sum,russia_in,share)\n",
    "    results.append({\n",
    "        'Country': every,\n",
    "        'Total_2017': source_sum_17,\n",
    "        'Russia_In_2017': russia_in_17,\n",
    "        'Share_to_Russia_%_2017': share_17,\n",
    "        'Total_2022': source_sum_22,\n",
    "        'Russia_In_2022': russia_in_22,\n",
    "        'Share_to_Russia_%_2022': share_22,\n",
    "    })\n",
    "results_df = pd.DataFrame(results)\n",
    "results_df['total_change'] = round((results_df['Total_2022']/results_df['Total_2017']-1)*100,1)\n",
    "results_df['Russia_in_change'] = round((results_df['Russia_In_2022']/results_df['Russia_In_2017']-1)*100,1)\n",
    "# results_df = results_df[results_df['Share_to_Russia_%']>1]\n",
    "results_df = results_df[results_df['Russia_In_2022']!=0]\n",
    "results_df = results_df[results_df['Share_to_Russia_%_2022']>=2]\n",
    "results_df = results_df[results_df['Russia_In_2022']>=500]\n",
    "results_df = results_df.reset_index()\n",
    "results_df = results_df.drop(columns=['index']).sort_values(by='Share_to_Russia_%_2022',ascending=False)\n",
    "results_df"
   ]
  },
  {
   "cell_type": "code",
   "execution_count": 160,
   "metadata": {},
   "outputs": [
    {
     "data": {
      "application/vnd.plotly.v1+json": {
       "config": {
        "plotlyServerURL": "https://plot.ly"
       },
       "data": [
        {
         "marker": {
          "color": "rgba(19, 17, 18, 1)"
         },
         "name": "2017",
         "text": [
          "74%",
          "68%",
          "50%",
          "45%",
          "48%",
          "53%",
          "64%",
          "2.4%",
          "19%",
          "10%",
          "34%",
          "4.2%",
          "20%",
          "6%",
          "4.0%",
          "8%",
          "1.3%",
          "0.4%",
          "5%",
          "18%",
          "3.8%",
          "0.2%",
          "1.0%",
          "0.7%",
          "3.4%",
          "1.3%",
          "1.0%",
          "1.4%",
          "1.2%",
          "3.6%",
          "1.7%",
          "2.6%",
          "1.3%",
          "4.6%",
          "1.0%",
          "1.9%",
          "2.4%",
          "1.1%",
          "1.3%",
          "0.6%"
         ],
         "textfont": {
          "size": 12
         },
         "textposition": "auto",
         "type": "bar",
         "x": [
          "Tajikistan",
          "Kazakhstan",
          "Kyrgyzstan",
          "Turkmenistan",
          "Armenia",
          "Belarus",
          "Uzbekistan",
          "Egypt",
          "Moldova",
          "Latvia",
          "Azerbaijan",
          "Zambia",
          "Ukraine",
          "Iraq",
          "Congo",
          "Angola",
          "Afghanistan",
          "Iran",
          "Mongolia",
          "Georgia",
          "Jordan",
          "Haiti",
          "Zimbabwe",
          "Ecuador",
          "Morocco",
          "Yemen",
          "Algeria",
          "China",
          "Lebanon",
          "Tunisia",
          "Côte d'Ivoire",
          "Israel",
          "Syrian Arab Republic",
          "Ghana",
          "Palestine",
          "India",
          "Sri Lanka",
          "Cameroon",
          "Viet Nam",
          "Colombia"
         ],
         "y": [
          74.1,
          68.3,
          49.5,
          44.8,
          47.6,
          53,
          64.1,
          2.4,
          19.2,
          9.7,
          33.5,
          4.2,
          19.8,
          6.5,
          4,
          7.6,
          1.3,
          0.4,
          5,
          18.3,
          3.8,
          0.2,
          1,
          0.7,
          3.4,
          1.3,
          1,
          1.4,
          1.2,
          3.6,
          1.7,
          2.6,
          1.3,
          4.6,
          1,
          1.9,
          2.4,
          1.1,
          1.3,
          0.6
         ]
        },
        {
         "marker": {
          "color": "rgba(110, 74, 92, 1)"
         },
         "name": "2022",
         "text": [
          "86%",
          "58%",
          "57%",
          "50%",
          "47%",
          "37%",
          "36%",
          "26%",
          "18%",
          "16%",
          "15%",
          "13%",
          "12%",
          "10%",
          "9%",
          "8%",
          "8%",
          "8%",
          "8%",
          "8%",
          "6%",
          "6%",
          "6%",
          "6%",
          "5%",
          "4.8%",
          "4.4%",
          "4.3%",
          "4.1%",
          "4.1%",
          "3.9%",
          "3.8%",
          "3.4%",
          "3.1%",
          "2.7%",
          "2.7%",
          "2.6%",
          "2.4%",
          "2.4%",
          "2.0%"
         ],
         "textfont": {
          "size": 16
         },
         "textposition": "auto",
         "type": "bar",
         "x": [
          "Tajikistan",
          "Kazakhstan",
          "Kyrgyzstan",
          "Turkmenistan",
          "Armenia",
          "Belarus",
          "Uzbekistan",
          "Egypt",
          "Moldova",
          "Latvia",
          "Azerbaijan",
          "Zambia",
          "Ukraine",
          "Iraq",
          "Congo",
          "Angola",
          "Afghanistan",
          "Iran",
          "Mongolia",
          "Georgia",
          "Jordan",
          "Haiti",
          "Zimbabwe",
          "Ecuador",
          "Morocco",
          "Yemen",
          "Algeria",
          "China",
          "Lebanon",
          "Tunisia",
          "Côte d'Ivoire",
          "Israel",
          "Syrian Arab Republic",
          "Ghana",
          "Palestine",
          "India",
          "Sri Lanka",
          "Cameroon",
          "Viet Nam",
          "Colombia"
         ],
         "y": [
          85.8,
          58.4,
          57.2,
          49.9,
          47.4,
          37.3,
          36.4,
          25.5,
          17.5,
          15.9,
          14.9,
          13.1,
          12.3,
          10.5,
          8.7,
          8.4,
          8.1,
          8,
          7.8,
          7.6,
          6.1,
          5.8,
          5.8,
          5.5,
          5.3,
          4.8,
          4.4,
          4.3,
          4.1,
          4.1,
          3.9,
          3.8,
          3.4,
          3.1,
          2.7,
          2.7,
          2.6,
          2.4,
          2.4,
          2
         ]
        }
       ],
       "layout": {
        "barmode": "group",
        "height": 600,
        "plot_bgcolor": "white",
        "template": {
         "data": {
          "bar": [
           {
            "error_x": {
             "color": "#2a3f5f"
            },
            "error_y": {
             "color": "#2a3f5f"
            },
            "marker": {
             "line": {
              "color": "#E5ECF6",
              "width": 0.5
             },
             "pattern": {
              "fillmode": "overlay",
              "size": 10,
              "solidity": 0.2
             }
            },
            "type": "bar"
           }
          ],
          "barpolar": [
           {
            "marker": {
             "line": {
              "color": "#E5ECF6",
              "width": 0.5
             },
             "pattern": {
              "fillmode": "overlay",
              "size": 10,
              "solidity": 0.2
             }
            },
            "type": "barpolar"
           }
          ],
          "carpet": [
           {
            "aaxis": {
             "endlinecolor": "#2a3f5f",
             "gridcolor": "white",
             "linecolor": "white",
             "minorgridcolor": "white",
             "startlinecolor": "#2a3f5f"
            },
            "baxis": {
             "endlinecolor": "#2a3f5f",
             "gridcolor": "white",
             "linecolor": "white",
             "minorgridcolor": "white",
             "startlinecolor": "#2a3f5f"
            },
            "type": "carpet"
           }
          ],
          "choropleth": [
           {
            "colorbar": {
             "outlinewidth": 0,
             "ticks": ""
            },
            "type": "choropleth"
           }
          ],
          "contour": [
           {
            "colorbar": {
             "outlinewidth": 0,
             "ticks": ""
            },
            "colorscale": [
             [
              0,
              "#0d0887"
             ],
             [
              0.1111111111111111,
              "#46039f"
             ],
             [
              0.2222222222222222,
              "#7201a8"
             ],
             [
              0.3333333333333333,
              "#9c179e"
             ],
             [
              0.4444444444444444,
              "#bd3786"
             ],
             [
              0.5555555555555556,
              "#d8576b"
             ],
             [
              0.6666666666666666,
              "#ed7953"
             ],
             [
              0.7777777777777778,
              "#fb9f3a"
             ],
             [
              0.8888888888888888,
              "#fdca26"
             ],
             [
              1,
              "#f0f921"
             ]
            ],
            "type": "contour"
           }
          ],
          "contourcarpet": [
           {
            "colorbar": {
             "outlinewidth": 0,
             "ticks": ""
            },
            "type": "contourcarpet"
           }
          ],
          "heatmap": [
           {
            "colorbar": {
             "outlinewidth": 0,
             "ticks": ""
            },
            "colorscale": [
             [
              0,
              "#0d0887"
             ],
             [
              0.1111111111111111,
              "#46039f"
             ],
             [
              0.2222222222222222,
              "#7201a8"
             ],
             [
              0.3333333333333333,
              "#9c179e"
             ],
             [
              0.4444444444444444,
              "#bd3786"
             ],
             [
              0.5555555555555556,
              "#d8576b"
             ],
             [
              0.6666666666666666,
              "#ed7953"
             ],
             [
              0.7777777777777778,
              "#fb9f3a"
             ],
             [
              0.8888888888888888,
              "#fdca26"
             ],
             [
              1,
              "#f0f921"
             ]
            ],
            "type": "heatmap"
           }
          ],
          "heatmapgl": [
           {
            "colorbar": {
             "outlinewidth": 0,
             "ticks": ""
            },
            "colorscale": [
             [
              0,
              "#0d0887"
             ],
             [
              0.1111111111111111,
              "#46039f"
             ],
             [
              0.2222222222222222,
              "#7201a8"
             ],
             [
              0.3333333333333333,
              "#9c179e"
             ],
             [
              0.4444444444444444,
              "#bd3786"
             ],
             [
              0.5555555555555556,
              "#d8576b"
             ],
             [
              0.6666666666666666,
              "#ed7953"
             ],
             [
              0.7777777777777778,
              "#fb9f3a"
             ],
             [
              0.8888888888888888,
              "#fdca26"
             ],
             [
              1,
              "#f0f921"
             ]
            ],
            "type": "heatmapgl"
           }
          ],
          "histogram": [
           {
            "marker": {
             "pattern": {
              "fillmode": "overlay",
              "size": 10,
              "solidity": 0.2
             }
            },
            "type": "histogram"
           }
          ],
          "histogram2d": [
           {
            "colorbar": {
             "outlinewidth": 0,
             "ticks": ""
            },
            "colorscale": [
             [
              0,
              "#0d0887"
             ],
             [
              0.1111111111111111,
              "#46039f"
             ],
             [
              0.2222222222222222,
              "#7201a8"
             ],
             [
              0.3333333333333333,
              "#9c179e"
             ],
             [
              0.4444444444444444,
              "#bd3786"
             ],
             [
              0.5555555555555556,
              "#d8576b"
             ],
             [
              0.6666666666666666,
              "#ed7953"
             ],
             [
              0.7777777777777778,
              "#fb9f3a"
             ],
             [
              0.8888888888888888,
              "#fdca26"
             ],
             [
              1,
              "#f0f921"
             ]
            ],
            "type": "histogram2d"
           }
          ],
          "histogram2dcontour": [
           {
            "colorbar": {
             "outlinewidth": 0,
             "ticks": ""
            },
            "colorscale": [
             [
              0,
              "#0d0887"
             ],
             [
              0.1111111111111111,
              "#46039f"
             ],
             [
              0.2222222222222222,
              "#7201a8"
             ],
             [
              0.3333333333333333,
              "#9c179e"
             ],
             [
              0.4444444444444444,
              "#bd3786"
             ],
             [
              0.5555555555555556,
              "#d8576b"
             ],
             [
              0.6666666666666666,
              "#ed7953"
             ],
             [
              0.7777777777777778,
              "#fb9f3a"
             ],
             [
              0.8888888888888888,
              "#fdca26"
             ],
             [
              1,
              "#f0f921"
             ]
            ],
            "type": "histogram2dcontour"
           }
          ],
          "mesh3d": [
           {
            "colorbar": {
             "outlinewidth": 0,
             "ticks": ""
            },
            "type": "mesh3d"
           }
          ],
          "parcoords": [
           {
            "line": {
             "colorbar": {
              "outlinewidth": 0,
              "ticks": ""
             }
            },
            "type": "parcoords"
           }
          ],
          "pie": [
           {
            "automargin": true,
            "type": "pie"
           }
          ],
          "scatter": [
           {
            "fillpattern": {
             "fillmode": "overlay",
             "size": 10,
             "solidity": 0.2
            },
            "type": "scatter"
           }
          ],
          "scatter3d": [
           {
            "line": {
             "colorbar": {
              "outlinewidth": 0,
              "ticks": ""
             }
            },
            "marker": {
             "colorbar": {
              "outlinewidth": 0,
              "ticks": ""
             }
            },
            "type": "scatter3d"
           }
          ],
          "scattercarpet": [
           {
            "marker": {
             "colorbar": {
              "outlinewidth": 0,
              "ticks": ""
             }
            },
            "type": "scattercarpet"
           }
          ],
          "scattergeo": [
           {
            "marker": {
             "colorbar": {
              "outlinewidth": 0,
              "ticks": ""
             }
            },
            "type": "scattergeo"
           }
          ],
          "scattergl": [
           {
            "marker": {
             "colorbar": {
              "outlinewidth": 0,
              "ticks": ""
             }
            },
            "type": "scattergl"
           }
          ],
          "scattermapbox": [
           {
            "marker": {
             "colorbar": {
              "outlinewidth": 0,
              "ticks": ""
             }
            },
            "type": "scattermapbox"
           }
          ],
          "scatterpolar": [
           {
            "marker": {
             "colorbar": {
              "outlinewidth": 0,
              "ticks": ""
             }
            },
            "type": "scatterpolar"
           }
          ],
          "scatterpolargl": [
           {
            "marker": {
             "colorbar": {
              "outlinewidth": 0,
              "ticks": ""
             }
            },
            "type": "scatterpolargl"
           }
          ],
          "scatterternary": [
           {
            "marker": {
             "colorbar": {
              "outlinewidth": 0,
              "ticks": ""
             }
            },
            "type": "scatterternary"
           }
          ],
          "surface": [
           {
            "colorbar": {
             "outlinewidth": 0,
             "ticks": ""
            },
            "colorscale": [
             [
              0,
              "#0d0887"
             ],
             [
              0.1111111111111111,
              "#46039f"
             ],
             [
              0.2222222222222222,
              "#7201a8"
             ],
             [
              0.3333333333333333,
              "#9c179e"
             ],
             [
              0.4444444444444444,
              "#bd3786"
             ],
             [
              0.5555555555555556,
              "#d8576b"
             ],
             [
              0.6666666666666666,
              "#ed7953"
             ],
             [
              0.7777777777777778,
              "#fb9f3a"
             ],
             [
              0.8888888888888888,
              "#fdca26"
             ],
             [
              1,
              "#f0f921"
             ]
            ],
            "type": "surface"
           }
          ],
          "table": [
           {
            "cells": {
             "fill": {
              "color": "#EBF0F8"
             },
             "line": {
              "color": "white"
             }
            },
            "header": {
             "fill": {
              "color": "#C8D4E3"
             },
             "line": {
              "color": "white"
             }
            },
            "type": "table"
           }
          ]
         },
         "layout": {
          "annotationdefaults": {
           "arrowcolor": "#2a3f5f",
           "arrowhead": 0,
           "arrowwidth": 1
          },
          "autotypenumbers": "strict",
          "coloraxis": {
           "colorbar": {
            "outlinewidth": 0,
            "ticks": ""
           }
          },
          "colorscale": {
           "diverging": [
            [
             0,
             "#8e0152"
            ],
            [
             0.1,
             "#c51b7d"
            ],
            [
             0.2,
             "#de77ae"
            ],
            [
             0.3,
             "#f1b6da"
            ],
            [
             0.4,
             "#fde0ef"
            ],
            [
             0.5,
             "#f7f7f7"
            ],
            [
             0.6,
             "#e6f5d0"
            ],
            [
             0.7,
             "#b8e186"
            ],
            [
             0.8,
             "#7fbc41"
            ],
            [
             0.9,
             "#4d9221"
            ],
            [
             1,
             "#276419"
            ]
           ],
           "sequential": [
            [
             0,
             "#0d0887"
            ],
            [
             0.1111111111111111,
             "#46039f"
            ],
            [
             0.2222222222222222,
             "#7201a8"
            ],
            [
             0.3333333333333333,
             "#9c179e"
            ],
            [
             0.4444444444444444,
             "#bd3786"
            ],
            [
             0.5555555555555556,
             "#d8576b"
            ],
            [
             0.6666666666666666,
             "#ed7953"
            ],
            [
             0.7777777777777778,
             "#fb9f3a"
            ],
            [
             0.8888888888888888,
             "#fdca26"
            ],
            [
             1,
             "#f0f921"
            ]
           ],
           "sequentialminus": [
            [
             0,
             "#0d0887"
            ],
            [
             0.1111111111111111,
             "#46039f"
            ],
            [
             0.2222222222222222,
             "#7201a8"
            ],
            [
             0.3333333333333333,
             "#9c179e"
            ],
            [
             0.4444444444444444,
             "#bd3786"
            ],
            [
             0.5555555555555556,
             "#d8576b"
            ],
            [
             0.6666666666666666,
             "#ed7953"
            ],
            [
             0.7777777777777778,
             "#fb9f3a"
            ],
            [
             0.8888888888888888,
             "#fdca26"
            ],
            [
             1,
             "#f0f921"
            ]
           ]
          },
          "colorway": [
           "#636efa",
           "#EF553B",
           "#00cc96",
           "#ab63fa",
           "#FFA15A",
           "#19d3f3",
           "#FF6692",
           "#B6E880",
           "#FF97FF",
           "#FECB52"
          ],
          "font": {
           "color": "#2a3f5f"
          },
          "geo": {
           "bgcolor": "white",
           "lakecolor": "white",
           "landcolor": "#E5ECF6",
           "showlakes": true,
           "showland": true,
           "subunitcolor": "white"
          },
          "hoverlabel": {
           "align": "left"
          },
          "hovermode": "closest",
          "mapbox": {
           "style": "light"
          },
          "paper_bgcolor": "white",
          "plot_bgcolor": "#E5ECF6",
          "polar": {
           "angularaxis": {
            "gridcolor": "white",
            "linecolor": "white",
            "ticks": ""
           },
           "bgcolor": "#E5ECF6",
           "radialaxis": {
            "gridcolor": "white",
            "linecolor": "white",
            "ticks": ""
           }
          },
          "scene": {
           "xaxis": {
            "backgroundcolor": "#E5ECF6",
            "gridcolor": "white",
            "gridwidth": 2,
            "linecolor": "white",
            "showbackground": true,
            "ticks": "",
            "zerolinecolor": "white"
           },
           "yaxis": {
            "backgroundcolor": "#E5ECF6",
            "gridcolor": "white",
            "gridwidth": 2,
            "linecolor": "white",
            "showbackground": true,
            "ticks": "",
            "zerolinecolor": "white"
           },
           "zaxis": {
            "backgroundcolor": "#E5ECF6",
            "gridcolor": "white",
            "gridwidth": 2,
            "linecolor": "white",
            "showbackground": true,
            "ticks": "",
            "zerolinecolor": "white"
           }
          },
          "shapedefaults": {
           "line": {
            "color": "#2a3f5f"
           }
          },
          "ternary": {
           "aaxis": {
            "gridcolor": "white",
            "linecolor": "white",
            "ticks": ""
           },
           "baxis": {
            "gridcolor": "white",
            "linecolor": "white",
            "ticks": ""
           },
           "bgcolor": "#E5ECF6",
           "caxis": {
            "gridcolor": "white",
            "linecolor": "white",
            "ticks": ""
           }
          },
          "title": {
           "x": 0.05
          },
          "xaxis": {
           "automargin": true,
           "gridcolor": "white",
           "linecolor": "white",
           "ticks": "",
           "title": {
            "standoff": 15
           },
           "zerolinecolor": "white",
           "zerolinewidth": 2
          },
          "yaxis": {
           "automargin": true,
           "gridcolor": "white",
           "linecolor": "white",
           "ticks": "",
           "title": {
            "standoff": 15
           },
           "zerolinecolor": "white",
           "zerolinewidth": 2
          }
         }
        },
        "title": {
         "text": "Доля России в выездном потоке студентов по странам в 2017 и 2022 гг"
        },
        "width": 1600,
        "yaxis": {
         "showgrid": true,
         "title": {
          "text": "Доли рынка"
         }
        }
       }
      }
     },
     "metadata": {},
     "output_type": "display_data"
    }
   ],
   "source": [
    "#вариант 1 - график изменения доли рынка России в выездном потоке стран-доноров\n",
    "fig = go.Figure()\n",
    "trace1 = go.Bar(\n",
    "    x=[country.replace(' Out', '') for country in results_df['Country']],\n",
    "    y=results_df['Share_to_Russia_%_2017'],\n",
    "    name='2017',\n",
    "    text=[f\"{round(value, 1)}%\" if value < 5 else f\"{round(value)}%\" for value in results_df['Share_to_Russia_%_2017']],  # Value labels in thousands\n",
    "    textposition='auto',\n",
    "    textfont=dict(size=12),\n",
    "    marker_color='rgba(19, 17, 18, 1)'\n",
    "    )\n",
    "trace2 = go.Bar(\n",
    "    x=[country.replace(' Out', '') for country in results_df['Country']],\n",
    "    y=results_df['Share_to_Russia_%_2022'],\n",
    "    name='2022',\n",
    "    text=[f\"{round(value, 1)}%\" if value < 5 else f\"{round(value)}%\" for value in results_df['Share_to_Russia_%_2022']],  # Value labels in thousands\n",
    "    textposition='auto',\n",
    "    textfont=dict(size=16),\n",
    "    marker_color=\"rgba(110, 74, 92, 1)\"\n",
    "    )\n",
    "    \n",
    "fig.add_trace(trace1)\n",
    "fig.add_trace(trace2)    \n",
    "fig.update_layout(\n",
    "    title='Доля России в выездном потоке студентов по странам в 2017 и 2022 гг',\n",
    "    yaxis_title='Число студентов',\n",
    "    barmode='group',  # Group bars together\n",
    "    height=600,\n",
    "    width=1600,\n",
    "    yaxis=dict(title='Доли рынка', showgrid=True),  # First subplot y-axis\n",
    "    plot_bgcolor='white'\n",
    ")\n",
    "\n",
    "pio.write_image(fig, \"Доля России в выездном потоке студентов по странам в 2017 и 2022 гг.png\")\n",
    "fig.show()"
   ]
  },
  {
   "cell_type": "markdown",
   "metadata": {},
   "source": [
    "Наибольший вклад в прирост въезда за 2017-2022 годы внесли Китай, Египет, Индия, "
   ]
  },
  {
   "cell_type": "markdown",
   "metadata": {},
   "source": [
    "<h4>Куда едут студенты с основных мировых рынков?</h4>"
   ]
  },
  {
   "cell_type": "markdown",
   "metadata": {},
   "source": [
    "Топ мировых рынков международного образования - Китай (более 900 тыс. студентов в год), Индия (более 700 тыс.), Вьетнам и Узбекистан (более 140 тыс. каждый), Германия и Франция (более 120 тыс.), Пакистан (115 тыс.),. Нигерия (107 тыс.), Непал, США и Сирия (более 90 тыс.)\n",
    "<p> из них только в Узбекистане позиции России заметны. "
   ]
  },
  {
   "cell_type": "code",
   "execution_count": null,
   "metadata": {},
   "outputs": [],
   "source": [
    "top_out = ['India Out','China Out','Viet Nam Out','Uzbekistan Out','Germany Out','France','Pakistan Out','Nigeria Out','Nepal Out','USA Out',' Syrian Arab Republic Out']"
   ]
  },
  {
   "cell_type": "code",
   "execution_count": 166,
   "metadata": {},
   "outputs": [
    {
     "data": {
      "text/html": [
       "<div>\n",
       "<style scoped>\n",
       "    .dataframe tbody tr th:only-of-type {\n",
       "        vertical-align: middle;\n",
       "    }\n",
       "\n",
       "    .dataframe tbody tr th {\n",
       "        vertical-align: top;\n",
       "    }\n",
       "\n",
       "    .dataframe thead th {\n",
       "        text-align: right;\n",
       "    }\n",
       "</style>\n",
       "<table border=\"1\" class=\"dataframe\">\n",
       "  <thead>\n",
       "    <tr style=\"text-align: right;\">\n",
       "      <th>year</th>\n",
       "      <th>from</th>\n",
       "      <th>to</th>\n",
       "      <th>2017</th>\n",
       "      <th>2022</th>\n",
       "    </tr>\n",
       "  </thead>\n",
       "  <tbody>\n",
       "    <tr>\n",
       "      <th>18513</th>\n",
       "      <td>Russia Out</td>\n",
       "      <td>Argentina In</td>\n",
       "      <td>131.0</td>\n",
       "      <td>123.0</td>\n",
       "    </tr>\n",
       "    <tr>\n",
       "      <th>18514</th>\n",
       "      <td>Russia Out</td>\n",
       "      <td>Armenia In</td>\n",
       "      <td>1357.0</td>\n",
       "      <td>2082.0</td>\n",
       "    </tr>\n",
       "    <tr>\n",
       "      <th>18515</th>\n",
       "      <td>Russia Out</td>\n",
       "      <td>Australia In</td>\n",
       "      <td>737.0</td>\n",
       "      <td>477.0</td>\n",
       "    </tr>\n",
       "    <tr>\n",
       "      <th>18516</th>\n",
       "      <td>Russia Out</td>\n",
       "      <td>Austria In</td>\n",
       "      <td>1389.0</td>\n",
       "      <td>1792.0</td>\n",
       "    </tr>\n",
       "    <tr>\n",
       "      <th>18517</th>\n",
       "      <td>Russia Out</td>\n",
       "      <td>Azerbaijan In</td>\n",
       "      <td>441.0</td>\n",
       "      <td>477.0</td>\n",
       "    </tr>\n",
       "  </tbody>\n",
       "</table>\n",
       "</div>"
      ],
      "text/plain": [
       "year         from             to    2017    2022\n",
       "18513  Russia Out   Argentina In   131.0   123.0\n",
       "18514  Russia Out     Armenia In  1357.0  2082.0\n",
       "18515  Russia Out   Australia In   737.0   477.0\n",
       "18516  Russia Out     Austria In  1389.0  1792.0\n",
       "18517  Russia Out  Azerbaijan In   441.0   477.0"
      ]
     },
     "execution_count": 166,
     "metadata": {},
     "output_type": "execute_result"
    }
   ],
   "source": [
    "#Where students from India went in 2017 and 2022\n",
    "#Extract all source countries for Russia\n",
    "otbound_country='Russia Out'\n",
    "outbound_from_country = countries2[countries2['from']==otbound_country]\n",
    "outbound_from_country.head()"
   ]
  }
 ],
 "metadata": {
  "kernelspec": {
   "display_name": "Python 3",
   "language": "python",
   "name": "python3"
  },
  "language_info": {
   "codemirror_mode": {
    "name": "ipython",
    "version": 3
   },
   "file_extension": ".py",
   "mimetype": "text/x-python",
   "name": "python",
   "nbconvert_exporter": "python",
   "pygments_lexer": "ipython3",
   "version": "3.11.9"
  }
 },
 "nbformat": 4,
 "nbformat_minor": 2
}
