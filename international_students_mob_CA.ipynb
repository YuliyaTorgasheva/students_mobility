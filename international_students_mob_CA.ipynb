{
 "cells": [
  {
   "cell_type": "code",
   "execution_count": 2,
   "metadata": {},
   "outputs": [],
   "source": [
    "import pandas as pd\n",
    "import matplotlib.pyplot as plt\n",
    "import numpy as np\n",
    "from matplotlib.ticker import ScalarFormatter\n",
    "import plotly.graph_objects as go\n",
    "from plotly.subplots import make_subplots\n",
    "import plotly.io as pio\n",
    "import plotly.express as px"
   ]
  },
  {
   "cell_type": "markdown",
   "metadata": {},
   "source": [
    "<h4>Данные</h4>"
   ]
  },
  {
   "cell_type": "code",
   "execution_count": 3,
   "metadata": {},
   "outputs": [],
   "source": [
    "country_names = pd.read_csv(r\"C:\\Users\\yuliy\\Documents\\UNESCO Education\\OPRI_COUNTRY.csv\")"
   ]
  },
  {
   "cell_type": "code",
   "execution_count": 52,
   "metadata": {},
   "outputs": [
    {
     "data": {
      "text/html": [
       "<div>\n",
       "<style scoped>\n",
       "    .dataframe tbody tr th:only-of-type {\n",
       "        vertical-align: middle;\n",
       "    }\n",
       "\n",
       "    .dataframe tbody tr th {\n",
       "        vertical-align: top;\n",
       "    }\n",
       "\n",
       "    .dataframe thead th {\n",
       "        text-align: right;\n",
       "    }\n",
       "</style>\n",
       "<table border=\"1\" class=\"dataframe\">\n",
       "  <thead>\n",
       "    <tr style=\"text-align: right;\">\n",
       "      <th></th>\n",
       "      <th>COUNTRY_ID</th>\n",
       "      <th>COUNTRY_NAME_EN</th>\n",
       "    </tr>\n",
       "  </thead>\n",
       "  <tbody>\n",
       "    <tr>\n",
       "      <th>0</th>\n",
       "      <td>AFG</td>\n",
       "      <td>Afghanistan</td>\n",
       "    </tr>\n",
       "    <tr>\n",
       "      <th>1</th>\n",
       "      <td>ALB</td>\n",
       "      <td>Albania</td>\n",
       "    </tr>\n",
       "    <tr>\n",
       "      <th>2</th>\n",
       "      <td>DZA</td>\n",
       "      <td>Algeria</td>\n",
       "    </tr>\n",
       "    <tr>\n",
       "      <th>3</th>\n",
       "      <td>ASM</td>\n",
       "      <td>American Samoa</td>\n",
       "    </tr>\n",
       "    <tr>\n",
       "      <th>4</th>\n",
       "      <td>AND</td>\n",
       "      <td>Andorra</td>\n",
       "    </tr>\n",
       "    <tr>\n",
       "      <th>...</th>\n",
       "      <td>...</td>\n",
       "      <td>...</td>\n",
       "    </tr>\n",
       "    <tr>\n",
       "      <th>236</th>\n",
       "      <td>WLF</td>\n",
       "      <td>Wallis and Futuna Islands</td>\n",
       "    </tr>\n",
       "    <tr>\n",
       "      <th>237</th>\n",
       "      <td>WSM</td>\n",
       "      <td>Samoa</td>\n",
       "    </tr>\n",
       "    <tr>\n",
       "      <th>238</th>\n",
       "      <td>YEM</td>\n",
       "      <td>Yemen</td>\n",
       "    </tr>\n",
       "    <tr>\n",
       "      <th>239</th>\n",
       "      <td>COD</td>\n",
       "      <td>Democratic Republic of the Congo</td>\n",
       "    </tr>\n",
       "    <tr>\n",
       "      <th>240</th>\n",
       "      <td>ZMB</td>\n",
       "      <td>Zambia</td>\n",
       "    </tr>\n",
       "  </tbody>\n",
       "</table>\n",
       "<p>241 rows × 2 columns</p>\n",
       "</div>"
      ],
      "text/plain": [
       "    COUNTRY_ID                   COUNTRY_NAME_EN\n",
       "0          AFG                       Afghanistan\n",
       "1          ALB                           Albania\n",
       "2          DZA                           Algeria\n",
       "3          ASM                    American Samoa\n",
       "4          AND                           Andorra\n",
       "..         ...                               ...\n",
       "236        WLF         Wallis and Futuna Islands\n",
       "237        WSM                             Samoa\n",
       "238        YEM                             Yemen\n",
       "239        COD  Democratic Republic of the Congo\n",
       "240        ZMB                            Zambia\n",
       "\n",
       "[241 rows x 2 columns]"
      ]
     },
     "execution_count": 52,
     "metadata": {},
     "output_type": "execute_result"
    }
   ],
   "source": [
    "country_names"
   ]
  },
  {
   "cell_type": "code",
   "execution_count": 4,
   "metadata": {},
   "outputs": [
    {
     "data": {
      "text/plain": [
       "Index(['INDICATOR_ID', 'INDICATOR_LABEL_EN'], dtype='object')"
      ]
     },
     "execution_count": 4,
     "metadata": {},
     "output_type": "execute_result"
    }
   ],
   "source": [
    "labels = pd.read_csv(r\"C:\\Users\\yuliy\\Documents\\UNESCO Education\\OPRI_students_label.csv\")\n",
    "# labels = labels['INDICATOR_ID'].astype(int)\n",
    "labels.columns"
   ]
  },
  {
   "cell_type": "code",
   "execution_count": 5,
   "metadata": {},
   "outputs": [
    {
     "data": {
      "text/plain": [
       "INDICATOR_ID           int64\n",
       "INDICATOR_LABEL_EN    object\n",
       "dtype: object"
      ]
     },
     "execution_count": 5,
     "metadata": {},
     "output_type": "execute_result"
    }
   ],
   "source": [
    "labels.dtypes"
   ]
  },
  {
   "cell_type": "code",
   "execution_count": 6,
   "metadata": {},
   "outputs": [
    {
     "name": "stderr",
     "output_type": "stream",
     "text": [
      "C:\\Users\\yuliy\\AppData\\Local\\Temp\\ipykernel_17988\\3021277289.py:1: DtypeWarning: Columns (0,4) have mixed types. Specify dtype option on import or set low_memory=False.\n",
      "  national = pd.read_csv(r\"C:\\Users\\yuliy\\Documents\\UNESCO Education\\OPRI_DATA_NATIONAL.csv\")\n"
     ]
    },
    {
     "data": {
      "text/plain": [
       "Index(['indicator_id', 'country_id', 'year', 'value', 'magnitude',\n",
       "       'qualifier'],\n",
       "      dtype='object')"
      ]
     },
     "execution_count": 6,
     "metadata": {},
     "output_type": "execute_result"
    }
   ],
   "source": [
    "national = pd.read_csv(r\"C:\\Users\\yuliy\\Documents\\UNESCO Education\\OPRI_DATA_NATIONAL.csv\")\n",
    "national.columns"
   ]
  },
  {
   "cell_type": "code",
   "execution_count": 13,
   "metadata": {},
   "outputs": [
    {
     "data": {
      "text/html": [
       "<div>\n",
       "<style scoped>\n",
       "    .dataframe tbody tr th:only-of-type {\n",
       "        vertical-align: middle;\n",
       "    }\n",
       "\n",
       "    .dataframe tbody tr th {\n",
       "        vertical-align: top;\n",
       "    }\n",
       "\n",
       "    .dataframe thead th {\n",
       "        text-align: right;\n",
       "    }\n",
       "</style>\n",
       "<table border=\"1\" class=\"dataframe\">\n",
       "  <thead>\n",
       "    <tr style=\"text-align: right;\">\n",
       "      <th></th>\n",
       "      <th>from</th>\n",
       "      <th>to</th>\n",
       "      <th>2022</th>\n",
       "    </tr>\n",
       "  </thead>\n",
       "  <tbody>\n",
       "    <tr>\n",
       "      <th>0</th>\n",
       "      <td>Afghanistan</td>\n",
       "      <td>United States</td>\n",
       "      <td>682</td>\n",
       "    </tr>\n",
       "    <tr>\n",
       "      <th>1</th>\n",
       "      <td>Albania</td>\n",
       "      <td>United States</td>\n",
       "      <td>1,087</td>\n",
       "    </tr>\n",
       "    <tr>\n",
       "      <th>2</th>\n",
       "      <td>Algeria</td>\n",
       "      <td>United States</td>\n",
       "      <td>302</td>\n",
       "    </tr>\n",
       "    <tr>\n",
       "      <th>3</th>\n",
       "      <td>Andorra</td>\n",
       "      <td>United States</td>\n",
       "      <td>20</td>\n",
       "    </tr>\n",
       "    <tr>\n",
       "      <th>4</th>\n",
       "      <td>Angola</td>\n",
       "      <td>United States</td>\n",
       "      <td>553</td>\n",
       "    </tr>\n",
       "    <tr>\n",
       "      <th>...</th>\n",
       "      <td>...</td>\n",
       "      <td>...</td>\n",
       "      <td>...</td>\n",
       "    </tr>\n",
       "    <tr>\n",
       "      <th>219</th>\n",
       "      <td>Wallis and Futuna Islands</td>\n",
       "      <td>United States</td>\n",
       "      <td>0</td>\n",
       "    </tr>\n",
       "    <tr>\n",
       "      <th>220</th>\n",
       "      <td>Western Sahara</td>\n",
       "      <td>United States</td>\n",
       "      <td>-</td>\n",
       "    </tr>\n",
       "    <tr>\n",
       "      <th>221</th>\n",
       "      <td>Yemen</td>\n",
       "      <td>United States</td>\n",
       "      <td>305</td>\n",
       "    </tr>\n",
       "    <tr>\n",
       "      <th>222</th>\n",
       "      <td>Zambia</td>\n",
       "      <td>United States</td>\n",
       "      <td>555</td>\n",
       "    </tr>\n",
       "    <tr>\n",
       "      <th>223</th>\n",
       "      <td>Zimbabwe</td>\n",
       "      <td>United States</td>\n",
       "      <td>1,789</td>\n",
       "    </tr>\n",
       "  </tbody>\n",
       "</table>\n",
       "<p>224 rows × 3 columns</p>\n",
       "</div>"
      ],
      "text/plain": [
       "                          from             to   2022\n",
       "0                  Afghanistan  United States    682\n",
       "1                      Albania  United States  1,087\n",
       "2                      Algeria  United States    302\n",
       "3                      Andorra  United States     20\n",
       "4                       Angola  United States    553\n",
       "..                         ...            ...    ...\n",
       "219  Wallis and Futuna Islands  United States      0\n",
       "220             Western Sahara  United States      -\n",
       "221                      Yemen  United States    305\n",
       "222                     Zambia  United States    555\n",
       "223                   Zimbabwe  United States  1,789\n",
       "\n",
       "[224 rows x 3 columns]"
      ]
     },
     "execution_count": 13,
     "metadata": {},
     "output_type": "execute_result"
    }
   ],
   "source": [
    "#данные въезда в США за 2022 г\n",
    "usa_add = pd.read_csv(r\"C:\\Users\\yuliy\\Education_Projects\\students_mobility\\usa_inbound.csv\")\n",
    "usa_add['to'] = 'United States'\n",
    "usa_add = usa_add.rename(columns={'unesco':'from'})\n",
    "usa_add = usa_add[['from','to','2022']]\n",
    "usa_add"
   ]
  },
  {
   "cell_type": "code",
   "execution_count": 15,
   "metadata": {},
   "outputs": [
    {
     "data": {
      "text/html": [
       "<div>\n",
       "<style scoped>\n",
       "    .dataframe tbody tr th:only-of-type {\n",
       "        vertical-align: middle;\n",
       "    }\n",
       "\n",
       "    .dataframe tbody tr th {\n",
       "        vertical-align: top;\n",
       "    }\n",
       "\n",
       "    .dataframe thead th {\n",
       "        text-align: right;\n",
       "    }\n",
       "</style>\n",
       "<table border=\"1\" class=\"dataframe\">\n",
       "  <thead>\n",
       "    <tr style=\"text-align: right;\">\n",
       "      <th></th>\n",
       "      <th>from</th>\n",
       "      <th>to</th>\n",
       "      <th>year</th>\n",
       "      <th>value</th>\n",
       "    </tr>\n",
       "  </thead>\n",
       "  <tbody>\n",
       "    <tr>\n",
       "      <th>0</th>\n",
       "      <td>Afghanistan</td>\n",
       "      <td>United States</td>\n",
       "      <td>2022</td>\n",
       "      <td>682</td>\n",
       "    </tr>\n",
       "    <tr>\n",
       "      <th>1</th>\n",
       "      <td>Albania</td>\n",
       "      <td>United States</td>\n",
       "      <td>2022</td>\n",
       "      <td>1,087</td>\n",
       "    </tr>\n",
       "    <tr>\n",
       "      <th>2</th>\n",
       "      <td>Algeria</td>\n",
       "      <td>United States</td>\n",
       "      <td>2022</td>\n",
       "      <td>302</td>\n",
       "    </tr>\n",
       "    <tr>\n",
       "      <th>3</th>\n",
       "      <td>Andorra</td>\n",
       "      <td>United States</td>\n",
       "      <td>2022</td>\n",
       "      <td>20</td>\n",
       "    </tr>\n",
       "    <tr>\n",
       "      <th>4</th>\n",
       "      <td>Angola</td>\n",
       "      <td>United States</td>\n",
       "      <td>2022</td>\n",
       "      <td>553</td>\n",
       "    </tr>\n",
       "    <tr>\n",
       "      <th>...</th>\n",
       "      <td>...</td>\n",
       "      <td>...</td>\n",
       "      <td>...</td>\n",
       "      <td>...</td>\n",
       "    </tr>\n",
       "    <tr>\n",
       "      <th>219</th>\n",
       "      <td>Wallis and Futuna Islands</td>\n",
       "      <td>United States</td>\n",
       "      <td>2022</td>\n",
       "      <td>0</td>\n",
       "    </tr>\n",
       "    <tr>\n",
       "      <th>220</th>\n",
       "      <td>Western Sahara</td>\n",
       "      <td>United States</td>\n",
       "      <td>2022</td>\n",
       "      <td>-</td>\n",
       "    </tr>\n",
       "    <tr>\n",
       "      <th>221</th>\n",
       "      <td>Yemen</td>\n",
       "      <td>United States</td>\n",
       "      <td>2022</td>\n",
       "      <td>305</td>\n",
       "    </tr>\n",
       "    <tr>\n",
       "      <th>222</th>\n",
       "      <td>Zambia</td>\n",
       "      <td>United States</td>\n",
       "      <td>2022</td>\n",
       "      <td>555</td>\n",
       "    </tr>\n",
       "    <tr>\n",
       "      <th>223</th>\n",
       "      <td>Zimbabwe</td>\n",
       "      <td>United States</td>\n",
       "      <td>2022</td>\n",
       "      <td>1,789</td>\n",
       "    </tr>\n",
       "  </tbody>\n",
       "</table>\n",
       "<p>224 rows × 4 columns</p>\n",
       "</div>"
      ],
      "text/plain": [
       "                          from             to  year  value\n",
       "0                  Afghanistan  United States  2022    682\n",
       "1                      Albania  United States  2022  1,087\n",
       "2                      Algeria  United States  2022    302\n",
       "3                      Andorra  United States  2022     20\n",
       "4                       Angola  United States  2022    553\n",
       "..                         ...            ...   ...    ...\n",
       "219  Wallis and Futuna Islands  United States  2022      0\n",
       "220             Western Sahara  United States  2022      -\n",
       "221                      Yemen  United States  2022    305\n",
       "222                     Zambia  United States  2022    555\n",
       "223                   Zimbabwe  United States  2022  1,789\n",
       "\n",
       "[224 rows x 4 columns]"
      ]
     },
     "execution_count": 15,
     "metadata": {},
     "output_type": "execute_result"
    }
   ],
   "source": [
    "usa_add_long = pd.melt(usa_add,id_vars=['from','to'],value_vars = ['2022'],var_name='year',value_name='value')\n",
    "usa_add_long"
   ]
  },
  {
   "cell_type": "code",
   "execution_count": 19,
   "metadata": {},
   "outputs": [
    {
     "data": {
      "text/html": [
       "<div>\n",
       "<style scoped>\n",
       "    .dataframe tbody tr th:only-of-type {\n",
       "        vertical-align: middle;\n",
       "    }\n",
       "\n",
       "    .dataframe tbody tr th {\n",
       "        vertical-align: top;\n",
       "    }\n",
       "\n",
       "    .dataframe thead th {\n",
       "        text-align: right;\n",
       "    }\n",
       "</style>\n",
       "<table border=\"1\" class=\"dataframe\">\n",
       "  <thead>\n",
       "    <tr style=\"text-align: right;\">\n",
       "      <th></th>\n",
       "      <th>from</th>\n",
       "      <th>to</th>\n",
       "      <th>year</th>\n",
       "      <th>value</th>\n",
       "    </tr>\n",
       "  </thead>\n",
       "  <tbody>\n",
       "    <tr>\n",
       "      <th>0</th>\n",
       "      <td>Uzbekistan</td>\n",
       "      <td>Kazakhstan</td>\n",
       "      <td>2022</td>\n",
       "      <td>9571.0</td>\n",
       "    </tr>\n",
       "    <tr>\n",
       "      <th>1</th>\n",
       "      <td>Tajikistan</td>\n",
       "      <td>Kazakhstan</td>\n",
       "      <td>2022</td>\n",
       "      <td>361.0</td>\n",
       "    </tr>\n",
       "    <tr>\n",
       "      <th>2</th>\n",
       "      <td>Turkmenistan</td>\n",
       "      <td>Kazakhstan</td>\n",
       "      <td>2022</td>\n",
       "      <td>1373.0</td>\n",
       "    </tr>\n",
       "    <tr>\n",
       "      <th>3</th>\n",
       "      <td>Azerbaijan</td>\n",
       "      <td>Kazakhstan</td>\n",
       "      <td>2022</td>\n",
       "      <td>116.0</td>\n",
       "    </tr>\n",
       "    <tr>\n",
       "      <th>4</th>\n",
       "      <td>Kyrgyzstan</td>\n",
       "      <td>Kazakhstan</td>\n",
       "      <td>2022</td>\n",
       "      <td>597.0</td>\n",
       "    </tr>\n",
       "  </tbody>\n",
       "</table>\n",
       "</div>"
      ],
      "text/plain": [
       "           from          to  year   value\n",
       "0    Uzbekistan  Kazakhstan  2022  9571.0\n",
       "1    Tajikistan  Kazakhstan  2022   361.0\n",
       "2  Turkmenistan  Kazakhstan  2022  1373.0\n",
       "3    Azerbaijan  Kazakhstan  2022   116.0\n",
       "4    Kyrgyzstan  Kazakhstan  2022   597.0"
      ]
     },
     "execution_count": 19,
     "metadata": {},
     "output_type": "execute_result"
    }
   ],
   "source": [
    "#данные въезда в Казахстан за 2022 г\n",
    "kaz_add_long = pd.read_csv(r\"C:\\Users\\yuliy\\Education_Projects\\students_mobility\\kazakhstan_inbound.csv\")\n",
    "kaz_add_long.head()"
   ]
  },
  {
   "cell_type": "markdown",
   "metadata": {},
   "source": [
    "inbound отчеты - обработка и добавление"
   ]
  },
  {
   "cell_type": "code",
   "execution_count": 21,
   "metadata": {},
   "outputs": [
    {
     "name": "stderr",
     "output_type": "stream",
     "text": [
      "C:\\Users\\yuliy\\AppData\\Local\\Temp\\ipykernel_17988\\106753272.py:2: SettingWithCopyWarning: \n",
      "A value is trying to be set on a copy of a slice from a DataFrame.\n",
      "Try using .loc[row_indexer,col_indexer] = value instead\n",
      "\n",
      "See the caveats in the documentation: https://pandas.pydata.org/pandas-docs/stable/user_guide/indexing.html#returning-a-view-versus-a-copy\n",
      "  from_to_labels['from'] = from_to_labels['INDICATOR_LABEL_EN'].apply(lambda x:x.split('from ')[1].split(', both sexes (number)')[0].replace('the ',''))\n"
     ]
    },
    {
     "data": {
      "text/html": [
       "<div>\n",
       "<style scoped>\n",
       "    .dataframe tbody tr th:only-of-type {\n",
       "        vertical-align: middle;\n",
       "    }\n",
       "\n",
       "    .dataframe tbody tr th {\n",
       "        vertical-align: top;\n",
       "    }\n",
       "\n",
       "    .dataframe thead th {\n",
       "        text-align: right;\n",
       "    }\n",
       "</style>\n",
       "<table border=\"1\" class=\"dataframe\">\n",
       "  <thead>\n",
       "    <tr style=\"text-align: right;\">\n",
       "      <th></th>\n",
       "      <th>INDICATOR_ID</th>\n",
       "      <th>INDICATOR_LABEL_EN</th>\n",
       "      <th>from</th>\n",
       "    </tr>\n",
       "  </thead>\n",
       "  <tbody>\n",
       "    <tr>\n",
       "      <th>0</th>\n",
       "      <td>26421</td>\n",
       "      <td>Africa: Students from Algeria, both sexes (num...</td>\n",
       "      <td>Algeria</td>\n",
       "    </tr>\n",
       "    <tr>\n",
       "      <th>1</th>\n",
       "      <td>26422</td>\n",
       "      <td>Africa: Students from Angola, both sexes (number)</td>\n",
       "      <td>Angola</td>\n",
       "    </tr>\n",
       "    <tr>\n",
       "      <th>2</th>\n",
       "      <td>26423</td>\n",
       "      <td>Africa: Students from Benin, both sexes (number)</td>\n",
       "      <td>Benin</td>\n",
       "    </tr>\n",
       "    <tr>\n",
       "      <th>3</th>\n",
       "      <td>26424</td>\n",
       "      <td>Africa: Students from Botswana, both sexes (nu...</td>\n",
       "      <td>Botswana</td>\n",
       "    </tr>\n",
       "    <tr>\n",
       "      <th>4</th>\n",
       "      <td>26425</td>\n",
       "      <td>Africa: Students from Burkina Faso, both sexes...</td>\n",
       "      <td>Burkina Faso</td>\n",
       "    </tr>\n",
       "  </tbody>\n",
       "</table>\n",
       "</div>"
      ],
      "text/plain": [
       "   INDICATOR_ID                                 INDICATOR_LABEL_EN  \\\n",
       "0         26421  Africa: Students from Algeria, both sexes (num...   \n",
       "1         26422  Africa: Students from Angola, both sexes (number)   \n",
       "2         26423   Africa: Students from Benin, both sexes (number)   \n",
       "3         26424  Africa: Students from Botswana, both sexes (nu...   \n",
       "4         26425  Africa: Students from Burkina Faso, both sexes...   \n",
       "\n",
       "           from  \n",
       "0       Algeria  \n",
       "1        Angola  \n",
       "2         Benin  \n",
       "3      Botswana  \n",
       "4  Burkina Faso  "
      ]
     },
     "execution_count": 21,
     "metadata": {},
     "output_type": "execute_result"
    }
   ],
   "source": [
    "from_to_labels = labels[~labels['INDICATOR_ID'].isin([26637,26638,43188])]\n",
    "from_to_labels['from'] = from_to_labels['INDICATOR_LABEL_EN'].apply(lambda x:x.split('from ')[1].split(', both sexes (number)')[0].replace('the ',''))\n",
    "from_to_labels.head()"
   ]
  },
  {
   "cell_type": "code",
   "execution_count": 22,
   "metadata": {},
   "outputs": [
    {
     "name": "stdout",
     "output_type": "stream",
     "text": [
      "(453280, 6)\n"
     ]
    },
    {
     "data": {
      "text/html": [
       "<div>\n",
       "<style scoped>\n",
       "    .dataframe tbody tr th:only-of-type {\n",
       "        vertical-align: middle;\n",
       "    }\n",
       "\n",
       "    .dataframe tbody tr th {\n",
       "        vertical-align: top;\n",
       "    }\n",
       "\n",
       "    .dataframe thead th {\n",
       "        text-align: right;\n",
       "    }\n",
       "</style>\n",
       "<table border=\"1\" class=\"dataframe\">\n",
       "  <thead>\n",
       "    <tr style=\"text-align: right;\">\n",
       "      <th></th>\n",
       "      <th>indicator_id</th>\n",
       "      <th>country_id</th>\n",
       "      <th>year</th>\n",
       "      <th>value</th>\n",
       "      <th>from</th>\n",
       "      <th>to</th>\n",
       "    </tr>\n",
       "  </thead>\n",
       "  <tbody>\n",
       "    <tr>\n",
       "      <th>0</th>\n",
       "      <td>26421</td>\n",
       "      <td>ABW</td>\n",
       "      <td>2003</td>\n",
       "      <td>0.0</td>\n",
       "      <td>Algeria</td>\n",
       "      <td>Aruba</td>\n",
       "    </tr>\n",
       "    <tr>\n",
       "      <th>1</th>\n",
       "      <td>26421</td>\n",
       "      <td>ABW</td>\n",
       "      <td>2004</td>\n",
       "      <td>0.0</td>\n",
       "      <td>Algeria</td>\n",
       "      <td>Aruba</td>\n",
       "    </tr>\n",
       "    <tr>\n",
       "      <th>2</th>\n",
       "      <td>26421</td>\n",
       "      <td>ABW</td>\n",
       "      <td>2006</td>\n",
       "      <td>0.0</td>\n",
       "      <td>Algeria</td>\n",
       "      <td>Aruba</td>\n",
       "    </tr>\n",
       "    <tr>\n",
       "      <th>3</th>\n",
       "      <td>26421</td>\n",
       "      <td>ABW</td>\n",
       "      <td>2009</td>\n",
       "      <td>0.0</td>\n",
       "      <td>Algeria</td>\n",
       "      <td>Aruba</td>\n",
       "    </tr>\n",
       "    <tr>\n",
       "      <th>4</th>\n",
       "      <td>26421</td>\n",
       "      <td>ABW</td>\n",
       "      <td>2010</td>\n",
       "      <td>0.0</td>\n",
       "      <td>Algeria</td>\n",
       "      <td>Aruba</td>\n",
       "    </tr>\n",
       "  </tbody>\n",
       "</table>\n",
       "</div>"
      ],
      "text/plain": [
       "  indicator_id country_id  year  value     from     to\n",
       "0        26421        ABW  2003    0.0  Algeria  Aruba\n",
       "1        26421        ABW  2004    0.0  Algeria  Aruba\n",
       "2        26421        ABW  2006    0.0  Algeria  Aruba\n",
       "3        26421        ABW  2009    0.0  Algeria  Aruba\n",
       "4        26421        ABW  2010    0.0  Algeria  Aruba"
      ]
     },
     "execution_count": 22,
     "metadata": {},
     "output_type": "execute_result"
    }
   ],
   "source": [
    "total_from_to = national[national['indicator_id'].isin(from_to_labels['INDICATOR_ID'].unique())]\n",
    "total_from_to = pd.merge(total_from_to,from_to_labels,left_on='indicator_id',right_on='INDICATOR_ID',how='left')\n",
    "total_from_to = pd.merge(total_from_to,country_names,left_on='country_id',right_on='COUNTRY_ID',how='left')\n",
    "total_from_to = total_from_to.rename(columns={'COUNTRY_NAME_EN':'to'})\n",
    "total_from_to =total_from_to[['indicator_id','country_id','year','value','from','to']]\n",
    "print(total_from_to.shape)\n",
    "total_from_to.head()"
   ]
  },
  {
   "cell_type": "code",
   "execution_count": 32,
   "metadata": {},
   "outputs": [
    {
     "data": {
      "text/html": [
       "<div>\n",
       "<style scoped>\n",
       "    .dataframe tbody tr th:only-of-type {\n",
       "        vertical-align: middle;\n",
       "    }\n",
       "\n",
       "    .dataframe tbody tr th {\n",
       "        vertical-align: top;\n",
       "    }\n",
       "\n",
       "    .dataframe thead th {\n",
       "        text-align: right;\n",
       "    }\n",
       "</style>\n",
       "<table border=\"1\" class=\"dataframe\">\n",
       "  <thead>\n",
       "    <tr style=\"text-align: right;\">\n",
       "      <th></th>\n",
       "      <th>indicator_id</th>\n",
       "      <th>country_id</th>\n",
       "      <th>year</th>\n",
       "      <th>value</th>\n",
       "      <th>from</th>\n",
       "      <th>to</th>\n",
       "    </tr>\n",
       "  </thead>\n",
       "  <tbody>\n",
       "  </tbody>\n",
       "</table>\n",
       "</div>"
      ],
      "text/plain": [
       "Empty DataFrame\n",
       "Columns: [indicator_id, country_id, year, value, from, to]\n",
       "Index: []"
      ]
     },
     "execution_count": 32,
     "metadata": {},
     "output_type": "execute_result"
    }
   ],
   "source": [
    "#удалим строки 2022  в США - пустые\n",
    "total_from_to = total_from_to[~(total_from_to['to']=='United States') & ~(total_from_to['year']==2022)]\n",
    "total_from_to.head()"
   ]
  },
  {
   "cell_type": "code",
   "execution_count": 23,
   "metadata": {},
   "outputs": [
    {
     "data": {
      "text/html": [
       "<div>\n",
       "<style scoped>\n",
       "    .dataframe tbody tr th:only-of-type {\n",
       "        vertical-align: middle;\n",
       "    }\n",
       "\n",
       "    .dataframe tbody tr th {\n",
       "        vertical-align: top;\n",
       "    }\n",
       "\n",
       "    .dataframe thead th {\n",
       "        text-align: right;\n",
       "    }\n",
       "</style>\n",
       "<table border=\"1\" class=\"dataframe\">\n",
       "  <thead>\n",
       "    <tr style=\"text-align: right;\">\n",
       "      <th></th>\n",
       "      <th>indicator_id</th>\n",
       "      <th>country_id</th>\n",
       "      <th>year</th>\n",
       "      <th>value</th>\n",
       "      <th>from</th>\n",
       "      <th>to</th>\n",
       "    </tr>\n",
       "  </thead>\n",
       "  <tbody>\n",
       "    <tr>\n",
       "      <th>0</th>\n",
       "      <td>26421</td>\n",
       "      <td>ABW</td>\n",
       "      <td>2003</td>\n",
       "      <td>0.0</td>\n",
       "      <td>Algeria</td>\n",
       "      <td>Aruba</td>\n",
       "    </tr>\n",
       "    <tr>\n",
       "      <th>1</th>\n",
       "      <td>26421</td>\n",
       "      <td>ABW</td>\n",
       "      <td>2004</td>\n",
       "      <td>0.0</td>\n",
       "      <td>Algeria</td>\n",
       "      <td>Aruba</td>\n",
       "    </tr>\n",
       "    <tr>\n",
       "      <th>2</th>\n",
       "      <td>26421</td>\n",
       "      <td>ABW</td>\n",
       "      <td>2006</td>\n",
       "      <td>0.0</td>\n",
       "      <td>Algeria</td>\n",
       "      <td>Aruba</td>\n",
       "    </tr>\n",
       "    <tr>\n",
       "      <th>3</th>\n",
       "      <td>26421</td>\n",
       "      <td>ABW</td>\n",
       "      <td>2009</td>\n",
       "      <td>0.0</td>\n",
       "      <td>Algeria</td>\n",
       "      <td>Aruba</td>\n",
       "    </tr>\n",
       "    <tr>\n",
       "      <th>4</th>\n",
       "      <td>26421</td>\n",
       "      <td>ABW</td>\n",
       "      <td>2010</td>\n",
       "      <td>0.0</td>\n",
       "      <td>Algeria</td>\n",
       "      <td>Aruba</td>\n",
       "    </tr>\n",
       "    <tr>\n",
       "      <th>...</th>\n",
       "      <td>...</td>\n",
       "      <td>...</td>\n",
       "      <td>...</td>\n",
       "      <td>...</td>\n",
       "      <td>...</td>\n",
       "      <td>...</td>\n",
       "    </tr>\n",
       "    <tr>\n",
       "      <th>25</th>\n",
       "      <td>NaN</td>\n",
       "      <td>NaN</td>\n",
       "      <td>2021</td>\n",
       "      <td>353.0</td>\n",
       "      <td>Afghanistan</td>\n",
       "      <td>Kazakhstan</td>\n",
       "    </tr>\n",
       "    <tr>\n",
       "      <th>26</th>\n",
       "      <td>NaN</td>\n",
       "      <td>NaN</td>\n",
       "      <td>2021</td>\n",
       "      <td>583.0</td>\n",
       "      <td>Jordan</td>\n",
       "      <td>Kazakhstan</td>\n",
       "    </tr>\n",
       "    <tr>\n",
       "      <th>27</th>\n",
       "      <td>NaN</td>\n",
       "      <td>NaN</td>\n",
       "      <td>2021</td>\n",
       "      <td>NaN</td>\n",
       "      <td>Republic of Korea</td>\n",
       "      <td>Kazakhstan</td>\n",
       "    </tr>\n",
       "    <tr>\n",
       "      <th>28</th>\n",
       "      <td>NaN</td>\n",
       "      <td>NaN</td>\n",
       "      <td>2021</td>\n",
       "      <td>NaN</td>\n",
       "      <td>Belarus</td>\n",
       "      <td>Kazakhstan</td>\n",
       "    </tr>\n",
       "    <tr>\n",
       "      <th>29</th>\n",
       "      <td>NaN</td>\n",
       "      <td>NaN</td>\n",
       "      <td>2021</td>\n",
       "      <td>NaN</td>\n",
       "      <td>Armenia</td>\n",
       "      <td>Kazakhstan</td>\n",
       "    </tr>\n",
       "  </tbody>\n",
       "</table>\n",
       "<p>453534 rows × 6 columns</p>\n",
       "</div>"
      ],
      "text/plain": [
       "   indicator_id country_id  year  value               from          to\n",
       "0         26421        ABW  2003    0.0            Algeria       Aruba\n",
       "1         26421        ABW  2004    0.0            Algeria       Aruba\n",
       "2         26421        ABW  2006    0.0            Algeria       Aruba\n",
       "3         26421        ABW  2009    0.0            Algeria       Aruba\n",
       "4         26421        ABW  2010    0.0            Algeria       Aruba\n",
       "..          ...        ...   ...    ...                ...         ...\n",
       "25          NaN        NaN  2021  353.0        Afghanistan  Kazakhstan\n",
       "26          NaN        NaN  2021  583.0             Jordan  Kazakhstan\n",
       "27          NaN        NaN  2021    NaN  Republic of Korea  Kazakhstan\n",
       "28          NaN        NaN  2021    NaN            Belarus  Kazakhstan\n",
       "29          NaN        NaN  2021    NaN            Armenia  Kazakhstan\n",
       "\n",
       "[453534 rows x 6 columns]"
      ]
     },
     "execution_count": 23,
     "metadata": {},
     "output_type": "execute_result"
    }
   ],
   "source": [
    "total_from_to = pd.concat([total_from_to,usa_add_long,kaz_add_long])\n",
    "total_from_to"
   ]
  },
  {
   "cell_type": "markdown",
   "metadata": {},
   "source": [
    "<h4>Входящие по странам</h4>"
   ]
  },
  {
   "cell_type": "markdown",
   "metadata": {},
   "source": [
    "На основании отчетов inbound в разрезе страна-страна"
   ]
  },
  {
   "cell_type": "code",
   "execution_count": 29,
   "metadata": {},
   "outputs": [
    {
     "data": {
      "text/html": [
       "<div>\n",
       "<style scoped>\n",
       "    .dataframe tbody tr th:only-of-type {\n",
       "        vertical-align: middle;\n",
       "    }\n",
       "\n",
       "    .dataframe tbody tr th {\n",
       "        vertical-align: top;\n",
       "    }\n",
       "\n",
       "    .dataframe thead th {\n",
       "        text-align: right;\n",
       "    }\n",
       "</style>\n",
       "<table border=\"1\" class=\"dataframe\">\n",
       "  <thead>\n",
       "    <tr style=\"text-align: right;\">\n",
       "      <th>year</th>\n",
       "      <th>from</th>\n",
       "      <th>to</th>\n",
       "      <th>2017</th>\n",
       "      <th>2022</th>\n",
       "    </tr>\n",
       "  </thead>\n",
       "  <tbody>\n",
       "    <tr>\n",
       "      <th>0</th>\n",
       "      <td>Afghanistan</td>\n",
       "      <td>Albania</td>\n",
       "      <td>NaN</td>\n",
       "      <td>0.0</td>\n",
       "    </tr>\n",
       "    <tr>\n",
       "      <th>1</th>\n",
       "      <td>Afghanistan</td>\n",
       "      <td>Andorra</td>\n",
       "      <td>0.0</td>\n",
       "      <td>NaN</td>\n",
       "    </tr>\n",
       "    <tr>\n",
       "      <th>2</th>\n",
       "      <td>Afghanistan</td>\n",
       "      <td>Argentina</td>\n",
       "      <td>15.0</td>\n",
       "      <td>16.0</td>\n",
       "    </tr>\n",
       "    <tr>\n",
       "      <th>3</th>\n",
       "      <td>Afghanistan</td>\n",
       "      <td>Armenia</td>\n",
       "      <td>0.0</td>\n",
       "      <td>0.0</td>\n",
       "    </tr>\n",
       "    <tr>\n",
       "      <th>4</th>\n",
       "      <td>Afghanistan</td>\n",
       "      <td>Australia</td>\n",
       "      <td>44.0</td>\n",
       "      <td>73.0</td>\n",
       "    </tr>\n",
       "    <tr>\n",
       "      <th>...</th>\n",
       "      <td>...</td>\n",
       "      <td>...</td>\n",
       "      <td>...</td>\n",
       "      <td>...</td>\n",
       "    </tr>\n",
       "    <tr>\n",
       "      <th>24542</th>\n",
       "      <td>Zimbabwe</td>\n",
       "      <td>United Kingdom of Great Britain and Northern I...</td>\n",
       "      <td>924.0</td>\n",
       "      <td>1548.0</td>\n",
       "    </tr>\n",
       "    <tr>\n",
       "      <th>24543</th>\n",
       "      <td>Zimbabwe</td>\n",
       "      <td>United Republic of Tanzania</td>\n",
       "      <td>NaN</td>\n",
       "      <td>16.0</td>\n",
       "    </tr>\n",
       "    <tr>\n",
       "      <th>24544</th>\n",
       "      <td>Zimbabwe</td>\n",
       "      <td>United States of America</td>\n",
       "      <td>1365.156982</td>\n",
       "      <td>NaN</td>\n",
       "    </tr>\n",
       "    <tr>\n",
       "      <th>24545</th>\n",
       "      <td>Zimbabwe</td>\n",
       "      <td>Uzbekistan</td>\n",
       "      <td>0.0</td>\n",
       "      <td>0.0</td>\n",
       "    </tr>\n",
       "    <tr>\n",
       "      <th>24546</th>\n",
       "      <td>Zimbabwe</td>\n",
       "      <td>Viet Nam</td>\n",
       "      <td>0.0</td>\n",
       "      <td>1.0</td>\n",
       "    </tr>\n",
       "  </tbody>\n",
       "</table>\n",
       "<p>24547 rows × 4 columns</p>\n",
       "</div>"
      ],
      "text/plain": [
       "year          from                                                 to  \\\n",
       "0      Afghanistan                                            Albania   \n",
       "1      Afghanistan                                            Andorra   \n",
       "2      Afghanistan                                          Argentina   \n",
       "3      Afghanistan                                            Armenia   \n",
       "4      Afghanistan                                          Australia   \n",
       "...            ...                                                ...   \n",
       "24542     Zimbabwe  United Kingdom of Great Britain and Northern I...   \n",
       "24543     Zimbabwe                        United Republic of Tanzania   \n",
       "24544     Zimbabwe                           United States of America   \n",
       "24545     Zimbabwe                                         Uzbekistan   \n",
       "24546     Zimbabwe                                           Viet Nam   \n",
       "\n",
       "year          2017    2022  \n",
       "0              NaN     0.0  \n",
       "1              0.0     NaN  \n",
       "2             15.0    16.0  \n",
       "3              0.0     0.0  \n",
       "4             44.0    73.0  \n",
       "...            ...     ...  \n",
       "24542        924.0  1548.0  \n",
       "24543          NaN    16.0  \n",
       "24544  1365.156982     NaN  \n",
       "24545          0.0     0.0  \n",
       "24546          0.0     1.0  \n",
       "\n",
       "[24547 rows x 4 columns]"
      ]
     },
     "execution_count": 29,
     "metadata": {},
     "output_type": "execute_result"
    }
   ],
   "source": [
    "inbound = total_from_to[total_from_to['year'].isin([2017,2022])].pivot(index=['from','to'], columns='year', values='value').reset_index()\n",
    "inbound = inbound[~inbound['from'].isin(['unknown countries'])]\n",
    "inbound\n"
   ]
  },
  {
   "cell_type": "markdown",
   "metadata": {},
   "source": [
    "На основании отчетов inbound в разрезе весь мир -страна"
   ]
  },
  {
   "cell_type": "code",
   "execution_count": 305,
   "metadata": {},
   "outputs": [
    {
     "name": "stderr",
     "output_type": "stream",
     "text": [
      "C:\\Users\\yuliy\\AppData\\Local\\Temp\\ipykernel_19400\\538833217.py:2: SettingWithCopyWarning:\n",
      "\n",
      "\n",
      "A value is trying to be set on a copy of a slice from a DataFrame.\n",
      "Try using .loc[row_indexer,col_indexer] = value instead\n",
      "\n",
      "See the caveats in the documentation: https://pandas.pydata.org/pandas-docs/stable/user_guide/indexing.html#returning-a-view-versus-a-copy\n",
      "\n"
     ]
    },
    {
     "data": {
      "text/html": [
       "<div>\n",
       "<style scoped>\n",
       "    .dataframe tbody tr th:only-of-type {\n",
       "        vertical-align: middle;\n",
       "    }\n",
       "\n",
       "    .dataframe tbody tr th {\n",
       "        vertical-align: top;\n",
       "    }\n",
       "\n",
       "    .dataframe thead th {\n",
       "        text-align: right;\n",
       "    }\n",
       "</style>\n",
       "<table border=\"1\" class=\"dataframe\">\n",
       "  <thead>\n",
       "    <tr style=\"text-align: right;\">\n",
       "      <th></th>\n",
       "      <th>indicator_id</th>\n",
       "      <th>country_id</th>\n",
       "      <th>year</th>\n",
       "      <th>value</th>\n",
       "      <th>magnitude</th>\n",
       "      <th>qualifier</th>\n",
       "      <th>from</th>\n",
       "    </tr>\n",
       "  </thead>\n",
       "  <tbody>\n",
       "    <tr>\n",
       "      <th>739099</th>\n",
       "      <td>26637</td>\n",
       "      <td>ABW</td>\n",
       "      <td>2003</td>\n",
       "      <td>91.0</td>\n",
       "      <td>NaN</td>\n",
       "      <td>NaN</td>\n",
       "      <td>World</td>\n",
       "    </tr>\n",
       "    <tr>\n",
       "      <th>739100</th>\n",
       "      <td>26637</td>\n",
       "      <td>ABW</td>\n",
       "      <td>2005</td>\n",
       "      <td>40.0</td>\n",
       "      <td>NaN</td>\n",
       "      <td>NaN</td>\n",
       "      <td>World</td>\n",
       "    </tr>\n",
       "    <tr>\n",
       "      <th>739101</th>\n",
       "      <td>26637</td>\n",
       "      <td>ABW</td>\n",
       "      <td>2006</td>\n",
       "      <td>169.0</td>\n",
       "      <td>NaN</td>\n",
       "      <td>NaN</td>\n",
       "      <td>World</td>\n",
       "    </tr>\n",
       "    <tr>\n",
       "      <th>739102</th>\n",
       "      <td>26637</td>\n",
       "      <td>ABW</td>\n",
       "      <td>2009</td>\n",
       "      <td>107.0</td>\n",
       "      <td>NaN</td>\n",
       "      <td>NaN</td>\n",
       "      <td>World</td>\n",
       "    </tr>\n",
       "    <tr>\n",
       "      <th>739103</th>\n",
       "      <td>26637</td>\n",
       "      <td>ABW</td>\n",
       "      <td>2010</td>\n",
       "      <td>63.0</td>\n",
       "      <td>NaN</td>\n",
       "      <td>NaN</td>\n",
       "      <td>World</td>\n",
       "    </tr>\n",
       "  </tbody>\n",
       "</table>\n",
       "</div>"
      ],
      "text/plain": [
       "       indicator_id country_id  year  value magnitude qualifier   from\n",
       "739099        26637        ABW  2003   91.0       NaN       NaN  World\n",
       "739100        26637        ABW  2005   40.0       NaN       NaN  World\n",
       "739101        26637        ABW  2006  169.0       NaN       NaN  World\n",
       "739102        26637        ABW  2009  107.0       NaN       NaN  World\n",
       "739103        26637        ABW  2010   63.0       NaN       NaN  World"
      ]
     },
     "execution_count": 305,
     "metadata": {},
     "output_type": "execute_result"
    }
   ],
   "source": [
    "total_inbound = national[national['indicator_id'].isin([26637])]\n",
    "total_inbound['from'] = 'World'\n",
    "total_inbound.head()"
   ]
  },
  {
   "cell_type": "code",
   "execution_count": null,
   "metadata": {},
   "outputs": [],
   "source": []
  },
  {
   "cell_type": "code",
   "execution_count": 306,
   "metadata": {},
   "outputs": [
    {
     "data": {
      "text/html": [
       "<div>\n",
       "<style scoped>\n",
       "    .dataframe tbody tr th:only-of-type {\n",
       "        vertical-align: middle;\n",
       "    }\n",
       "\n",
       "    .dataframe tbody tr th {\n",
       "        vertical-align: top;\n",
       "    }\n",
       "\n",
       "    .dataframe thead th {\n",
       "        text-align: right;\n",
       "    }\n",
       "</style>\n",
       "<table border=\"1\" class=\"dataframe\">\n",
       "  <thead>\n",
       "    <tr style=\"text-align: right;\">\n",
       "      <th></th>\n",
       "      <th>country_id</th>\n",
       "      <th>2017</th>\n",
       "      <th>2022</th>\n",
       "      <th>COUNTRY_ID</th>\n",
       "      <th>2022/2017,%</th>\n",
       "      <th>group</th>\n",
       "    </tr>\n",
       "    <tr>\n",
       "      <th>COUNTRY_NAME_EN</th>\n",
       "      <th></th>\n",
       "      <th></th>\n",
       "      <th></th>\n",
       "      <th></th>\n",
       "      <th></th>\n",
       "      <th></th>\n",
       "    </tr>\n",
       "  </thead>\n",
       "  <tbody>\n",
       "    <tr>\n",
       "      <th>Malaysia</th>\n",
       "      <td>MYS</td>\n",
       "      <td>100765.0</td>\n",
       "      <td>100437.0</td>\n",
       "      <td>MYS</td>\n",
       "      <td>0</td>\n",
       "      <td>Больше 100 тыс.</td>\n",
       "    </tr>\n",
       "    <tr>\n",
       "      <th>Australia</th>\n",
       "      <td>AUS</td>\n",
       "      <td>381202.0</td>\n",
       "      <td>382007.0</td>\n",
       "      <td>AUS</td>\n",
       "      <td>0</td>\n",
       "      <td>Больше 100 тыс.</td>\n",
       "    </tr>\n",
       "    <tr>\n",
       "      <th>India</th>\n",
       "      <td>IND</td>\n",
       "      <td>46703.0</td>\n",
       "      <td>46659.0</td>\n",
       "      <td>IND</td>\n",
       "      <td>0</td>\n",
       "      <td>20-50 тыс.</td>\n",
       "    </tr>\n",
       "    <tr>\n",
       "      <th>Italy</th>\n",
       "      <td>ITA</td>\n",
       "      <td>97563.0</td>\n",
       "      <td>89946.0</td>\n",
       "      <td>ITA</td>\n",
       "      <td>-8</td>\n",
       "      <td>50-100 тыс.</td>\n",
       "    </tr>\n",
       "    <tr>\n",
       "      <th>Denmark</th>\n",
       "      <td>DNK</td>\n",
       "      <td>33602.0</td>\n",
       "      <td>31375.0</td>\n",
       "      <td>DNK</td>\n",
       "      <td>-7</td>\n",
       "      <td>20-50 тыс.</td>\n",
       "    </tr>\n",
       "    <tr>\n",
       "      <th>...</th>\n",
       "      <td>...</td>\n",
       "      <td>...</td>\n",
       "      <td>...</td>\n",
       "      <td>...</td>\n",
       "      <td>...</td>\n",
       "      <td>...</td>\n",
       "    </tr>\n",
       "    <tr>\n",
       "      <th>Georgia</th>\n",
       "      <td>GEO</td>\n",
       "      <td>7994.0</td>\n",
       "      <td>17527.0</td>\n",
       "      <td>GEO</td>\n",
       "      <td>+119</td>\n",
       "      <td>5-20 тыс.</td>\n",
       "    </tr>\n",
       "    <tr>\n",
       "      <th>Cameroon</th>\n",
       "      <td>CMR</td>\n",
       "      <td>3941.0</td>\n",
       "      <td>8499.0</td>\n",
       "      <td>CMR</td>\n",
       "      <td>+116</td>\n",
       "      <td>5-20 тыс.</td>\n",
       "    </tr>\n",
       "    <tr>\n",
       "      <th>Finland</th>\n",
       "      <td>FIN</td>\n",
       "      <td>24168.0</td>\n",
       "      <td>26774.0</td>\n",
       "      <td>FIN</td>\n",
       "      <td>+11</td>\n",
       "      <td>20-50 тыс.</td>\n",
       "    </tr>\n",
       "    <tr>\n",
       "      <th>Mexico</th>\n",
       "      <td>MEX</td>\n",
       "      <td>25125.0</td>\n",
       "      <td>51659.0</td>\n",
       "      <td>MEX</td>\n",
       "      <td>+106</td>\n",
       "      <td>50-100 тыс.</td>\n",
       "    </tr>\n",
       "    <tr>\n",
       "      <th>Lebanon</th>\n",
       "      <td>LBN</td>\n",
       "      <td>19670.0</td>\n",
       "      <td>40246.0</td>\n",
       "      <td>LBN</td>\n",
       "      <td>+105</td>\n",
       "      <td>20-50 тыс.</td>\n",
       "    </tr>\n",
       "  </tbody>\n",
       "</table>\n",
       "<p>75 rows × 6 columns</p>\n",
       "</div>"
      ],
      "text/plain": [
       "                country_id      2017      2022 COUNTRY_ID 2022/2017,%  \\\n",
       "COUNTRY_NAME_EN                                                         \n",
       "Malaysia               MYS  100765.0  100437.0        MYS           0   \n",
       "Australia              AUS  381202.0  382007.0        AUS           0   \n",
       "India                  IND   46703.0   46659.0        IND           0   \n",
       "Italy                  ITA   97563.0   89946.0        ITA          -8   \n",
       "Denmark                DNK   33602.0   31375.0        DNK          -7   \n",
       "...                    ...       ...       ...        ...         ...   \n",
       "Georgia                GEO    7994.0   17527.0        GEO        +119   \n",
       "Cameroon               CMR    3941.0    8499.0        CMR        +116   \n",
       "Finland                FIN   24168.0   26774.0        FIN         +11   \n",
       "Mexico                 MEX   25125.0   51659.0        MEX        +106   \n",
       "Lebanon                LBN   19670.0   40246.0        LBN        +105   \n",
       "\n",
       "                           group  \n",
       "COUNTRY_NAME_EN                   \n",
       "Malaysia         Больше 100 тыс.  \n",
       "Australia        Больше 100 тыс.  \n",
       "India                 20-50 тыс.  \n",
       "Italy                50-100 тыс.  \n",
       "Denmark               20-50 тыс.  \n",
       "...                          ...  \n",
       "Georgia                5-20 тыс.  \n",
       "Cameroon               5-20 тыс.  \n",
       "Finland               20-50 тыс.  \n",
       "Mexico               50-100 тыс.  \n",
       "Lebanon               20-50 тыс.  \n",
       "\n",
       "[75 rows x 6 columns]"
      ]
     },
     "execution_count": 306,
     "metadata": {},
     "output_type": "execute_result"
    }
   ],
   "source": [
    "diff = total_inbound[total_inbound['year'].isin([2017,2022])].pivot(index=['country_id'], columns='year', values='value').reset_index()\n",
    "\n",
    "diff=pd.merge(diff,country_names,left_on='country_id',right_on='COUNTRY_ID',how='left')\n",
    "diff.loc[diff['country_id']=='USA',2022]=1057288\n",
    "# diff.loc[diff['country_id']=='USA',2021]=948519\n",
    "diff.loc[diff['country_id']=='NLD',2022]=122287\n",
    "diff.loc[diff['country_id']=='EGY',2017]=51162\n",
    "diff.loc[diff['country_id']=='THA',2017] = 43821\n",
    "diff.loc[diff['country_id']=='MEX',2022]=51659\n",
    "diff.loc[diff['country_id']=='IRN',2022]=94406\n",
    "diff.loc[diff['country_id']=='KAZ',2022]=26080\n",
    "diff.loc[diff['country_id']=='UKR',2022]=50870\n",
    "diff.loc[diff['COUNTRY_NAME_EN']=='Iran (Islamic Republic of)','COUNTRY_NAME_EN']='Iran'\n",
    "diff.loc[diff['COUNTRY_NAME_EN']=='United Kingdom of Great Britain and Northern Ireland','COUNTRY_NAME_EN']='Great Britain'\n",
    "diff.loc[diff['COUNTRY_NAME_EN']=='China, Hong Kong Special Administrative Region','COUNTRY_NAME_EN']='Hong Kong'\n",
    "diff.loc[diff['COUNTRY_NAME_EN']=='China, Macao Special Administrative Region','COUNTRY_NAME_EN']='Macao'\n",
    "\n",
    "diff = diff[~(diff[2017].isna()) & ~(diff[2022].isna())]\n",
    "diff = diff[~(diff[2017]==0) & ~(diff[2022]==0)]\n",
    "diff['2022/2017,%'] = round(diff[2022]/diff[2017]*100,0).astype(int)-100\n",
    "diff['2022/2017,%'] = diff['2022/2017,%'].apply(lambda x:'+'+str(x) if x>0 else str(x))\n",
    "diff = diff[diff[2022]>5000]\n",
    "def group(x):\n",
    "    if x<20000:\n",
    "        group_name = '5-20 тыс.'\n",
    "    elif 20000<=x<50000:\n",
    "        group_name = '20-50 тыс.'\n",
    "    elif 50000<=x<100000:\n",
    "        group_name = '50-100 тыс.'\n",
    "    else:\n",
    "        group_name = 'Больше 100 тыс.'\n",
    "    return group_name\n",
    "diff['group'] = diff[2022].apply(lambda x: group(x))\n",
    "diff.set_index('COUNTRY_NAME_EN', inplace=True)\n",
    "diff.sort_values(by='2022/2017,%',ascending=False)"
   ]
  },
  {
   "cell_type": "code",
   "execution_count": 307,
   "metadata": {},
   "outputs": [
    {
     "data": {
      "text/plain": [
       "np.float64(6579656.9140625)"
      ]
     },
     "execution_count": 307,
     "metadata": {},
     "output_type": "execute_result"
    }
   ],
   "source": [
    "diff[2022].sum()"
   ]
  },
  {
   "cell_type": "code",
   "execution_count": 308,
   "metadata": {},
   "outputs": [
    {
     "data": {
      "text/plain": [
       "np.float64(5077737.578125)"
      ]
     },
     "execution_count": 308,
     "metadata": {},
     "output_type": "execute_result"
    }
   ],
   "source": [
    "diff[2017].sum()"
   ]
  },
  {
   "cell_type": "code",
   "execution_count": 153,
   "metadata": {},
   "outputs": [
    {
     "data": {
      "text/plain": [
       "np.float64(129.57851430542215)"
      ]
     },
     "execution_count": 153,
     "metadata": {},
     "output_type": "execute_result"
    }
   ],
   "source": [
    "diff[2022].sum()/diff[2017].sum()*100"
   ]
  },
  {
   "cell_type": "code",
   "execution_count": 154,
   "metadata": {},
   "outputs": [
    {
     "data": {
      "text/plain": [
       "Index(['country_id', 2017, 2022, 'COUNTRY_ID', '2022/2017,%', 'group'], dtype='object')"
      ]
     },
     "execution_count": 154,
     "metadata": {},
     "output_type": "execute_result"
    }
   ],
   "source": [
    "diff.columns"
   ]
  },
  {
   "cell_type": "code",
   "execution_count": 146,
   "metadata": {},
   "outputs": [
    {
     "data": {
      "text/plain": [
       "array(['Больше 100 тыс.', 'До 10 тыс.', '50-100 тыс.', '10-50 тыс.'],\n",
       "      dtype=object)"
      ]
     },
     "execution_count": 146,
     "metadata": {},
     "output_type": "execute_result"
    }
   ],
   "source": [
    "unique_groups"
   ]
  },
  {
   "cell_type": "code",
   "execution_count": 256,
   "metadata": {},
   "outputs": [
    {
     "data": {
      "application/vnd.plotly.v1+json": {
       "config": {
        "plotlyServerURL": "https://plot.ly"
       },
       "data": [
        {
         "marker": {
          "color": "blue",
          "line": {
           "color": [
            "blue",
            "blue",
            "blue",
            "blue",
            "blue",
            "blue",
            "blue",
            "blue",
            "blue",
            "blue",
            "blue",
            "red",
            "blue",
            "blue"
           ],
           "width": 3
          }
         },
         "name": "2017 - Group Больше 100 тыс.",
         "text": [
          "88k",
          "381k",
          "209k",
          "157k",
          "258k",
          "258k",
          "435k",
          "164k",
          "70k",
          "100k",
          "96k",
          "250k",
          "108k",
          "984k"
         ],
         "textfont": {
          "size": 16
         },
         "textposition": "auto",
         "type": "bar",
         "x": [
          "Argentina",
          "Australia",
          "Canada",
          "China",
          "Germany",
          "France",
          "Great Britain",
          "Japan",
          "Republic of Korea",
          "Malaysia",
          "Netherlands",
          "Russian Federation",
          "Turkey",
          "United States of America"
         ],
         "xaxis": "x",
         "y": [
          88873,
          381202,
          209979,
          157108,
          258873,
          258380,
          435734,
          164338,
          70796,
          100765,
          96289,
          250658,
          108076,
          984897.625
         ],
         "yaxis": "y"
        },
        {
         "marker": {
          "color": "green",
          "line": {
           "color": [
            "green",
            "green",
            "green",
            "green",
            "green",
            "green",
            "green",
            "green",
            "green",
            "green",
            "green",
            "red",
            "green",
            "green"
           ],
           "width": 3
          }
         },
         "name": "2022 - Group Больше 100 тыс.",
         "text": [
          "137k\n(+54%)",
          "382k\n(0%)",
          "336k\n(+60%)",
          "210k\n(+34%)",
          "403k\n(+56%)",
          "263k\n(+2%)",
          "674k\n(+55%)",
          "199k\n(+21%)",
          "123k\n(+74%)",
          "100k\n(0%)",
          "122k\n(+27%)",
          "340k\n(+36%)",
          "244k\n(+126%)",
          "1057k\n(+7%)"
         ],
         "textfont": {
          "size": 16
         },
         "textposition": "auto",
         "type": "bar",
         "x": [
          "Argentina",
          "Australia",
          "Canada",
          "China",
          "Germany",
          "France",
          "Great Britain",
          "Japan",
          "Republic of Korea",
          "Malaysia",
          "Netherlands",
          "Russian Federation",
          "Turkey",
          "United States of America"
         ],
         "xaxis": "x",
         "y": [
          137116,
          382007,
          336837,
          210903,
          403473,
          263458.625,
          674931,
          199298,
          123280,
          100437,
          122287,
          340326,
          244027,
          1057288
         ],
         "yaxis": "y"
        },
        {
         "marker": {
          "color": "blue",
          "line": {
           "color": [
            "blue",
            "blue",
            "blue",
            "blue",
            "blue",
            "blue",
            "blue",
            "blue",
            "blue",
            "blue",
            "blue",
            "blue",
            "blue",
            "blue",
            "blue",
            "blue"
           ],
           "width": 3
          }
         },
         "name": "2017 - Group 50-100 тыс.",
         "text": [
          "73k",
          "44k",
          "53k",
          "44k",
          "9k",
          "51k",
          "64k",
          "34k",
          "21k",
          "97k",
          "15k",
          "25k",
          "63k",
          "78k",
          "53k",
          "52k"
         ],
         "textfont": {
          "size": 16
         },
         "textposition": "auto",
         "type": "bar",
         "x": [
          "Austria",
          "Belgium",
          "Switzerland",
          "Czechia",
          "Dominican Republic",
          "Egypt",
          "Spain",
          "Hong Kong",
          "Iran",
          "Italy",
          "Kyrgyzstan",
          "Mexico",
          "Poland",
          "Saudi Arabia",
          "Singapore",
          "Ukraine"
         ],
         "xaxis": "x2",
         "y": [
          73964.34375,
          44978,
          53368,
          44261,
          9607,
          51162,
          64927,
          34348.640625,
          21036,
          97563,
          15149,
          25125,
          63925,
          78344,
          53204,
          52768
         ],
         "yaxis": "y2"
        },
        {
         "marker": {
          "color": "green",
          "line": {
           "color": [
            "green",
            "green",
            "green",
            "green",
            "green",
            "green",
            "green",
            "green",
            "green",
            "green",
            "green",
            "green",
            "green",
            "green",
            "green",
            "green"
           ],
           "width": 3
          }
         },
         "name": "2022 - Group 50-100 тыс.",
         "text": [
          "85k\n(+15%)",
          "55k\n(+24%)",
          "64k\n(+22%)",
          "53k\n(+21%)",
          "54k\n(+469%)",
          "69k\n(+36%)",
          "91k\n(+41%)",
          "53k\n(+57%)",
          "94k\n(+349%)",
          "89k\n(-8%)",
          "80k\n(+433%)",
          "51k\n(+106%)",
          "91k\n(+44%)",
          "64k\n(-17%)",
          "66k\n(+25%)",
          "50k\n(-4%)"
         ],
         "textfont": {
          "size": 16
         },
         "textposition": "auto",
         "type": "bar",
         "x": [
          "Austria",
          "Belgium",
          "Switzerland",
          "Czechia",
          "Dominican Republic",
          "Egypt",
          "Spain",
          "Hong Kong",
          "Iran",
          "Italy",
          "Kyrgyzstan",
          "Mexico",
          "Poland",
          "Saudi Arabia",
          "Singapore",
          "Ukraine"
         ],
         "xaxis": "x2",
         "y": [
          85196.5546875,
          55747,
          64847,
          53369,
          54701,
          69828,
          91692,
          53948,
          94406,
          89946,
          80701,
          51659,
          91751,
          64874,
          66308,
          50870
         ],
         "yaxis": "y2"
        },
        {
         "marker": {
          "color": "blue",
          "line": {
           "color": [
            "blue",
            "blue",
            "blue",
            "blue",
            "blue",
            "blue",
            "blue",
            "blue",
            "blue",
            "blue",
            "blue",
            "blue",
            "blue",
            "blue",
            "blue",
            "blue",
            "blue",
            "blue",
            "blue"
           ],
           "width": 3
          }
         },
         "name": "2017 - Group 20-50 тыс.",
         "text": [
          "17k",
          "20k",
          "33k",
          "24k",
          "25k",
          "28k",
          "46k",
          "19k",
          "39k",
          "13k",
          "19k",
          "14k",
          "20k",
          "52k",
          "22k",
          "27k",
          "28k",
          "43k",
          "45k"
         ],
         "textfont": {
          "size": 16
         },
         "textposition": "auto",
         "type": "bar",
         "x": [
          "Belarus",
          "Brazil",
          "Denmark",
          "Finland",
          "Greece",
          "Hungary",
          "India",
          "Ireland",
          "Jordan",
          "Kazakhstan",
          "Lebanon",
          "Macao",
          "Morocco",
          "New Zealand",
          "Portugal",
          "Romania",
          "Sweden",
          "Thailand",
          "South Africa"
         ],
         "xaxis": "x3",
         "y": [
          17570,
          20671,
          33602,
          24168,
          25067,
          28628,
          46703,
          19983,
          39577,
          13850,
          19670,
          14821,
          20121,
          52678.46875,
          22194,
          27510,
          28747,
          43821,
          45334
         ],
         "yaxis": "y3"
        },
        {
         "marker": {
          "color": "green",
          "line": {
           "color": [
            "green",
            "green",
            "green",
            "green",
            "green",
            "green",
            "green",
            "green",
            "green",
            "green",
            "green",
            "green",
            "green",
            "green",
            "green",
            "green",
            "green",
            "green",
            "green"
           ],
           "width": 3
          }
         },
         "name": "2022 - Group 20-50 тыс.",
         "text": [
          "25k\n(+46%)",
          "24k\n(+16%)",
          "31k\n(-7%)",
          "26k\n(+11%)",
          "26k\n(+7%)",
          "40k\n(+41%)",
          "46k\n(0%)",
          "27k\n(+36%)",
          "39k\n(-1%)",
          "26k\n(+88%)",
          "40k\n(+105%)",
          "28k\n(+91%)",
          "23k\n(+17%)",
          "25k\n(-52%)",
          "49k\n(+125%)",
          "34k\n(+26%)",
          "33k\n(+18%)",
          "27k\n(-38%)",
          "30k\n(-32%)"
         ],
         "textfont": {
          "size": 16
         },
         "textposition": "auto",
         "type": "bar",
         "x": [
          "Belarus",
          "Brazil",
          "Denmark",
          "Finland",
          "Greece",
          "Hungary",
          "India",
          "Ireland",
          "Jordan",
          "Kazakhstan",
          "Lebanon",
          "Macao",
          "Morocco",
          "New Zealand",
          "Portugal",
          "Romania",
          "Sweden",
          "Thailand",
          "South Africa"
         ],
         "xaxis": "x3",
         "y": [
          25672,
          24009,
          31375,
          26774,
          26785,
          40290,
          46659,
          27159,
          39225,
          26080,
          40246,
          28263,
          23584,
          25389.5078125,
          49916,
          34772,
          33910.2265625,
          27113,
          30631
         ],
         "yaxis": "y3"
        },
        {
         "marker": {
          "color": "blue",
          "line": {
           "color": [
            "blue",
            "blue",
            "blue",
            "blue",
            "blue",
            "blue",
            "blue",
            "blue",
            "blue",
            "blue",
            "blue",
            "blue",
            "blue",
            "blue",
            "blue",
            "blue",
            "blue",
            "blue",
            "blue",
            "blue",
            "blue",
            "blue",
            "blue",
            "blue",
            "blue",
            "blue"
           ],
           "width": 3
          }
         },
         "name": "2017 - Group 5-20 тыс.",
         "text": [
          "4k",
          "4k",
          "13k",
          "5k",
          "7k",
          "4k",
          "3k",
          "4k",
          "10k",
          "8k",
          "3k",
          "7k",
          "12k",
          "4k",
          "5k",
          "6k",
          "3k",
          "8k",
          "11k",
          "13k",
          "11k",
          "10k",
          "3k",
          "6k",
          "0.6k",
          "4k"
         ],
         "textfont": {
          "size": 16
         },
         "textposition": "auto",
         "type": "bar",
         "x": [
          "Armenia",
          "Azerbaijan",
          "Bulgaria",
          "Bahrain",
          "Bosnia and Herzegovina",
          "Chile",
          "Cameroon",
          "Colombia",
          "Cyprus",
          "Algeria",
          "Estonia",
          "Georgia",
          "Ghana",
          "Croatia",
          "Lithuania",
          "Latvia",
          "Republic of Moldova",
          "Norway",
          "Qatar",
          "Senegal",
          "Serbia",
          "Slovakia",
          "Slovenia",
          "Tunisia",
          "Uzbekistan",
          "Viet Nam"
         ],
         "xaxis": "x4",
         "y": [
          4512,
          4274,
          13746,
          5616,
          7275,
          4708,
          3941,
          4550,
          10451,
          8546,
          3913.5,
          7994,
          12978,
          4781,
          5806,
          6130,
          3964,
          8955,
          11034,
          13536,
          11624,
          10764,
          3090,
          6370,
          603,
          4162
         ],
         "yaxis": "y4"
        },
        {
         "marker": {
          "color": "green",
          "line": {
           "color": [
            "green",
            "green",
            "green",
            "green",
            "green",
            "green",
            "green",
            "green",
            "green",
            "green",
            "green",
            "green",
            "green",
            "green",
            "green",
            "green",
            "green",
            "green",
            "green",
            "green",
            "green",
            "green",
            "green",
            "green",
            "green",
            "green"
           ],
           "width": 3
          }
         },
         "name": "2022 - Group 5-20 тыс.",
         "text": [
          "6k\n(+49%)",
          "6k\n(+49%)",
          "19k\n(+39%)",
          "5k\n(+2%)",
          "5k\n(-22%)",
          "17k\n(+276%)",
          "8k\n(+116%)",
          "5k\n(+20%)",
          "10k\n(+3%)",
          "7k\n(-10%)",
          "5k\n(+29%)",
          "17k\n(+119%)",
          "5k\n(-58%)",
          "5k\n(+20%)",
          "9k\n(+57%)",
          "9k\n(+60%)",
          "5k\n(+44%)",
          "13k\n(+48%)",
          "17k\n(+54%)",
          "16k\n(+20%)",
          "11k\n(-3%)",
          "16k\n(+55%)",
          "7k\n(+150%)",
          "8k\n(+36%)",
          "5k\n(+813%)",
          "7k\n(+86%)"
         ],
         "textfont": {
          "size": 16
         },
         "textposition": "auto",
         "type": "bar",
         "x": [
          "Armenia",
          "Azerbaijan",
          "Bulgaria",
          "Bahrain",
          "Bosnia and Herzegovina",
          "Chile",
          "Cameroon",
          "Colombia",
          "Cyprus",
          "Algeria",
          "Estonia",
          "Georgia",
          "Ghana",
          "Croatia",
          "Lithuania",
          "Latvia",
          "Republic of Moldova",
          "Norway",
          "Qatar",
          "Senegal",
          "Serbia",
          "Slovakia",
          "Slovenia",
          "Tunisia",
          "Uzbekistan",
          "Viet Nam"
         ],
         "xaxis": "x4",
         "y": [
          6735,
          6377,
          19162,
          5720,
          5691,
          17721,
          8499,
          5448,
          10731,
          7724,
          5062,
          17527,
          5416,
          5735,
          9129,
          9810,
          5716,
          13279,
          17017,
          16216,
          11247,
          16696,
          7729,
          8642,
          5503,
          7760
         ],
         "yaxis": "y4"
        }
       ],
       "layout": {
        "annotations": [
         {
          "font": {
           "size": 16
          },
          "showarrow": false,
          "text": "Больше 100 тыс.",
          "x": 0.225,
          "xanchor": "center",
          "xref": "paper",
          "y": 1,
          "yanchor": "bottom",
          "yref": "paper"
         },
         {
          "font": {
           "size": 16
          },
          "showarrow": false,
          "text": "50-100 тыс.",
          "x": 0.775,
          "xanchor": "center",
          "xref": "paper",
          "y": 1,
          "yanchor": "bottom",
          "yref": "paper"
         },
         {
          "font": {
           "size": 16
          },
          "showarrow": false,
          "text": "20-50 тыс.",
          "x": 0.225,
          "xanchor": "center",
          "xref": "paper",
          "y": 0.375,
          "yanchor": "bottom",
          "yref": "paper"
         },
         {
          "font": {
           "size": 16
          },
          "showarrow": false,
          "text": "5-20 тыс.",
          "x": 0.775,
          "xanchor": "center",
          "xref": "paper",
          "y": 0.375,
          "yanchor": "bottom",
          "yref": "paper"
         }
        ],
        "barmode": "group",
        "height": 1400,
        "plot_bgcolor": "white",
        "template": {
         "data": {
          "bar": [
           {
            "error_x": {
             "color": "#2a3f5f"
            },
            "error_y": {
             "color": "#2a3f5f"
            },
            "marker": {
             "line": {
              "color": "#E5ECF6",
              "width": 0.5
             },
             "pattern": {
              "fillmode": "overlay",
              "size": 10,
              "solidity": 0.2
             }
            },
            "type": "bar"
           }
          ],
          "barpolar": [
           {
            "marker": {
             "line": {
              "color": "#E5ECF6",
              "width": 0.5
             },
             "pattern": {
              "fillmode": "overlay",
              "size": 10,
              "solidity": 0.2
             }
            },
            "type": "barpolar"
           }
          ],
          "carpet": [
           {
            "aaxis": {
             "endlinecolor": "#2a3f5f",
             "gridcolor": "white",
             "linecolor": "white",
             "minorgridcolor": "white",
             "startlinecolor": "#2a3f5f"
            },
            "baxis": {
             "endlinecolor": "#2a3f5f",
             "gridcolor": "white",
             "linecolor": "white",
             "minorgridcolor": "white",
             "startlinecolor": "#2a3f5f"
            },
            "type": "carpet"
           }
          ],
          "choropleth": [
           {
            "colorbar": {
             "outlinewidth": 0,
             "ticks": ""
            },
            "type": "choropleth"
           }
          ],
          "contour": [
           {
            "colorbar": {
             "outlinewidth": 0,
             "ticks": ""
            },
            "colorscale": [
             [
              0,
              "#0d0887"
             ],
             [
              0.1111111111111111,
              "#46039f"
             ],
             [
              0.2222222222222222,
              "#7201a8"
             ],
             [
              0.3333333333333333,
              "#9c179e"
             ],
             [
              0.4444444444444444,
              "#bd3786"
             ],
             [
              0.5555555555555556,
              "#d8576b"
             ],
             [
              0.6666666666666666,
              "#ed7953"
             ],
             [
              0.7777777777777778,
              "#fb9f3a"
             ],
             [
              0.8888888888888888,
              "#fdca26"
             ],
             [
              1,
              "#f0f921"
             ]
            ],
            "type": "contour"
           }
          ],
          "contourcarpet": [
           {
            "colorbar": {
             "outlinewidth": 0,
             "ticks": ""
            },
            "type": "contourcarpet"
           }
          ],
          "heatmap": [
           {
            "colorbar": {
             "outlinewidth": 0,
             "ticks": ""
            },
            "colorscale": [
             [
              0,
              "#0d0887"
             ],
             [
              0.1111111111111111,
              "#46039f"
             ],
             [
              0.2222222222222222,
              "#7201a8"
             ],
             [
              0.3333333333333333,
              "#9c179e"
             ],
             [
              0.4444444444444444,
              "#bd3786"
             ],
             [
              0.5555555555555556,
              "#d8576b"
             ],
             [
              0.6666666666666666,
              "#ed7953"
             ],
             [
              0.7777777777777778,
              "#fb9f3a"
             ],
             [
              0.8888888888888888,
              "#fdca26"
             ],
             [
              1,
              "#f0f921"
             ]
            ],
            "type": "heatmap"
           }
          ],
          "heatmapgl": [
           {
            "colorbar": {
             "outlinewidth": 0,
             "ticks": ""
            },
            "colorscale": [
             [
              0,
              "#0d0887"
             ],
             [
              0.1111111111111111,
              "#46039f"
             ],
             [
              0.2222222222222222,
              "#7201a8"
             ],
             [
              0.3333333333333333,
              "#9c179e"
             ],
             [
              0.4444444444444444,
              "#bd3786"
             ],
             [
              0.5555555555555556,
              "#d8576b"
             ],
             [
              0.6666666666666666,
              "#ed7953"
             ],
             [
              0.7777777777777778,
              "#fb9f3a"
             ],
             [
              0.8888888888888888,
              "#fdca26"
             ],
             [
              1,
              "#f0f921"
             ]
            ],
            "type": "heatmapgl"
           }
          ],
          "histogram": [
           {
            "marker": {
             "pattern": {
              "fillmode": "overlay",
              "size": 10,
              "solidity": 0.2
             }
            },
            "type": "histogram"
           }
          ],
          "histogram2d": [
           {
            "colorbar": {
             "outlinewidth": 0,
             "ticks": ""
            },
            "colorscale": [
             [
              0,
              "#0d0887"
             ],
             [
              0.1111111111111111,
              "#46039f"
             ],
             [
              0.2222222222222222,
              "#7201a8"
             ],
             [
              0.3333333333333333,
              "#9c179e"
             ],
             [
              0.4444444444444444,
              "#bd3786"
             ],
             [
              0.5555555555555556,
              "#d8576b"
             ],
             [
              0.6666666666666666,
              "#ed7953"
             ],
             [
              0.7777777777777778,
              "#fb9f3a"
             ],
             [
              0.8888888888888888,
              "#fdca26"
             ],
             [
              1,
              "#f0f921"
             ]
            ],
            "type": "histogram2d"
           }
          ],
          "histogram2dcontour": [
           {
            "colorbar": {
             "outlinewidth": 0,
             "ticks": ""
            },
            "colorscale": [
             [
              0,
              "#0d0887"
             ],
             [
              0.1111111111111111,
              "#46039f"
             ],
             [
              0.2222222222222222,
              "#7201a8"
             ],
             [
              0.3333333333333333,
              "#9c179e"
             ],
             [
              0.4444444444444444,
              "#bd3786"
             ],
             [
              0.5555555555555556,
              "#d8576b"
             ],
             [
              0.6666666666666666,
              "#ed7953"
             ],
             [
              0.7777777777777778,
              "#fb9f3a"
             ],
             [
              0.8888888888888888,
              "#fdca26"
             ],
             [
              1,
              "#f0f921"
             ]
            ],
            "type": "histogram2dcontour"
           }
          ],
          "mesh3d": [
           {
            "colorbar": {
             "outlinewidth": 0,
             "ticks": ""
            },
            "type": "mesh3d"
           }
          ],
          "parcoords": [
           {
            "line": {
             "colorbar": {
              "outlinewidth": 0,
              "ticks": ""
             }
            },
            "type": "parcoords"
           }
          ],
          "pie": [
           {
            "automargin": true,
            "type": "pie"
           }
          ],
          "scatter": [
           {
            "fillpattern": {
             "fillmode": "overlay",
             "size": 10,
             "solidity": 0.2
            },
            "type": "scatter"
           }
          ],
          "scatter3d": [
           {
            "line": {
             "colorbar": {
              "outlinewidth": 0,
              "ticks": ""
             }
            },
            "marker": {
             "colorbar": {
              "outlinewidth": 0,
              "ticks": ""
             }
            },
            "type": "scatter3d"
           }
          ],
          "scattercarpet": [
           {
            "marker": {
             "colorbar": {
              "outlinewidth": 0,
              "ticks": ""
             }
            },
            "type": "scattercarpet"
           }
          ],
          "scattergeo": [
           {
            "marker": {
             "colorbar": {
              "outlinewidth": 0,
              "ticks": ""
             }
            },
            "type": "scattergeo"
           }
          ],
          "scattergl": [
           {
            "marker": {
             "colorbar": {
              "outlinewidth": 0,
              "ticks": ""
             }
            },
            "type": "scattergl"
           }
          ],
          "scattermapbox": [
           {
            "marker": {
             "colorbar": {
              "outlinewidth": 0,
              "ticks": ""
             }
            },
            "type": "scattermapbox"
           }
          ],
          "scatterpolar": [
           {
            "marker": {
             "colorbar": {
              "outlinewidth": 0,
              "ticks": ""
             }
            },
            "type": "scatterpolar"
           }
          ],
          "scatterpolargl": [
           {
            "marker": {
             "colorbar": {
              "outlinewidth": 0,
              "ticks": ""
             }
            },
            "type": "scatterpolargl"
           }
          ],
          "scatterternary": [
           {
            "marker": {
             "colorbar": {
              "outlinewidth": 0,
              "ticks": ""
             }
            },
            "type": "scatterternary"
           }
          ],
          "surface": [
           {
            "colorbar": {
             "outlinewidth": 0,
             "ticks": ""
            },
            "colorscale": [
             [
              0,
              "#0d0887"
             ],
             [
              0.1111111111111111,
              "#46039f"
             ],
             [
              0.2222222222222222,
              "#7201a8"
             ],
             [
              0.3333333333333333,
              "#9c179e"
             ],
             [
              0.4444444444444444,
              "#bd3786"
             ],
             [
              0.5555555555555556,
              "#d8576b"
             ],
             [
              0.6666666666666666,
              "#ed7953"
             ],
             [
              0.7777777777777778,
              "#fb9f3a"
             ],
             [
              0.8888888888888888,
              "#fdca26"
             ],
             [
              1,
              "#f0f921"
             ]
            ],
            "type": "surface"
           }
          ],
          "table": [
           {
            "cells": {
             "fill": {
              "color": "#EBF0F8"
             },
             "line": {
              "color": "white"
             }
            },
            "header": {
             "fill": {
              "color": "#C8D4E3"
             },
             "line": {
              "color": "white"
             }
            },
            "type": "table"
           }
          ]
         },
         "layout": {
          "annotationdefaults": {
           "arrowcolor": "#2a3f5f",
           "arrowhead": 0,
           "arrowwidth": 1
          },
          "autotypenumbers": "strict",
          "coloraxis": {
           "colorbar": {
            "outlinewidth": 0,
            "ticks": ""
           }
          },
          "colorscale": {
           "diverging": [
            [
             0,
             "#8e0152"
            ],
            [
             0.1,
             "#c51b7d"
            ],
            [
             0.2,
             "#de77ae"
            ],
            [
             0.3,
             "#f1b6da"
            ],
            [
             0.4,
             "#fde0ef"
            ],
            [
             0.5,
             "#f7f7f7"
            ],
            [
             0.6,
             "#e6f5d0"
            ],
            [
             0.7,
             "#b8e186"
            ],
            [
             0.8,
             "#7fbc41"
            ],
            [
             0.9,
             "#4d9221"
            ],
            [
             1,
             "#276419"
            ]
           ],
           "sequential": [
            [
             0,
             "#0d0887"
            ],
            [
             0.1111111111111111,
             "#46039f"
            ],
            [
             0.2222222222222222,
             "#7201a8"
            ],
            [
             0.3333333333333333,
             "#9c179e"
            ],
            [
             0.4444444444444444,
             "#bd3786"
            ],
            [
             0.5555555555555556,
             "#d8576b"
            ],
            [
             0.6666666666666666,
             "#ed7953"
            ],
            [
             0.7777777777777778,
             "#fb9f3a"
            ],
            [
             0.8888888888888888,
             "#fdca26"
            ],
            [
             1,
             "#f0f921"
            ]
           ],
           "sequentialminus": [
            [
             0,
             "#0d0887"
            ],
            [
             0.1111111111111111,
             "#46039f"
            ],
            [
             0.2222222222222222,
             "#7201a8"
            ],
            [
             0.3333333333333333,
             "#9c179e"
            ],
            [
             0.4444444444444444,
             "#bd3786"
            ],
            [
             0.5555555555555556,
             "#d8576b"
            ],
            [
             0.6666666666666666,
             "#ed7953"
            ],
            [
             0.7777777777777778,
             "#fb9f3a"
            ],
            [
             0.8888888888888888,
             "#fdca26"
            ],
            [
             1,
             "#f0f921"
            ]
           ]
          },
          "colorway": [
           "#636efa",
           "#EF553B",
           "#00cc96",
           "#ab63fa",
           "#FFA15A",
           "#19d3f3",
           "#FF6692",
           "#B6E880",
           "#FF97FF",
           "#FECB52"
          ],
          "font": {
           "color": "#2a3f5f"
          },
          "geo": {
           "bgcolor": "white",
           "lakecolor": "white",
           "landcolor": "#E5ECF6",
           "showlakes": true,
           "showland": true,
           "subunitcolor": "white"
          },
          "hoverlabel": {
           "align": "left"
          },
          "hovermode": "closest",
          "mapbox": {
           "style": "light"
          },
          "paper_bgcolor": "white",
          "plot_bgcolor": "#E5ECF6",
          "polar": {
           "angularaxis": {
            "gridcolor": "white",
            "linecolor": "white",
            "ticks": ""
           },
           "bgcolor": "#E5ECF6",
           "radialaxis": {
            "gridcolor": "white",
            "linecolor": "white",
            "ticks": ""
           }
          },
          "scene": {
           "xaxis": {
            "backgroundcolor": "#E5ECF6",
            "gridcolor": "white",
            "gridwidth": 2,
            "linecolor": "white",
            "showbackground": true,
            "ticks": "",
            "zerolinecolor": "white"
           },
           "yaxis": {
            "backgroundcolor": "#E5ECF6",
            "gridcolor": "white",
            "gridwidth": 2,
            "linecolor": "white",
            "showbackground": true,
            "ticks": "",
            "zerolinecolor": "white"
           },
           "zaxis": {
            "backgroundcolor": "#E5ECF6",
            "gridcolor": "white",
            "gridwidth": 2,
            "linecolor": "white",
            "showbackground": true,
            "ticks": "",
            "zerolinecolor": "white"
           }
          },
          "shapedefaults": {
           "line": {
            "color": "#2a3f5f"
           }
          },
          "ternary": {
           "aaxis": {
            "gridcolor": "white",
            "linecolor": "white",
            "ticks": ""
           },
           "baxis": {
            "gridcolor": "white",
            "linecolor": "white",
            "ticks": ""
           },
           "bgcolor": "#E5ECF6",
           "caxis": {
            "gridcolor": "white",
            "linecolor": "white",
            "ticks": ""
           }
          },
          "title": {
           "x": 0.05
          },
          "xaxis": {
           "automargin": true,
           "gridcolor": "white",
           "linecolor": "white",
           "ticks": "",
           "title": {
            "standoff": 15
           },
           "zerolinecolor": "white",
           "zerolinewidth": 2
          },
          "yaxis": {
           "automargin": true,
           "gridcolor": "white",
           "linecolor": "white",
           "ticks": "",
           "title": {
            "standoff": 15
           },
           "zerolinecolor": "white",
           "zerolinewidth": 2
          }
         }
        },
        "title": {
         "text": "Изменение кол-ва иностранных студентов по группам стран с 2017 по 2022 г."
        },
        "width": 2600,
        "xaxis": {
         "anchor": "y",
         "domain": [
          0,
          0.45
         ],
         "tickangle": 45
        },
        "xaxis2": {
         "anchor": "y2",
         "domain": [
          0.55,
          1
         ],
         "tickangle": 45
        },
        "xaxis3": {
         "anchor": "y3",
         "domain": [
          0,
          0.45
         ],
         "tickangle": 45
        },
        "xaxis4": {
         "anchor": "y4",
         "domain": [
          0.55,
          1
         ],
         "tickangle": 45
        },
        "yaxis": {
         "anchor": "x",
         "domain": [
          0.625,
          1
         ],
         "gridcolor": "lightgrey",
         "title": {
          "text": "Число студентов, тыс."
         }
        },
        "yaxis2": {
         "anchor": "x2",
         "domain": [
          0.625,
          1
         ],
         "gridcolor": "lightgrey"
        },
        "yaxis3": {
         "anchor": "x3",
         "domain": [
          0,
          0.375
         ],
         "gridcolor": "lightgrey"
        },
        "yaxis4": {
         "anchor": "x4",
         "domain": [
          0,
          0.375
         ],
         "gridcolor": "lightgrey"
        }
       }
      }
     },
     "metadata": {},
     "output_type": "display_data"
    }
   ],
   "source": [
    "n_cols = 2  # Number of columns in subplot grid\n",
    "# unique_groups  = diff['group'].unique()\n",
    "unique_groups = ['Больше 100 тыс.', '50-100 тыс.', '20-50 тыс.','5-20 тыс.']\n",
    "num_plots = len(unique_groups)\n",
    "num_cols = 2  # Maximum of 2 columns\n",
    "num_rows = (num_plots + num_cols - 1) // num_cols  # Calculate the number of rows\n",
    "fig = make_subplots(rows=num_rows, cols=num_cols, subplot_titles=unique_groups)\n",
    "\n",
    "for i, group in enumerate(unique_groups):\n",
    "    filtered_df = diff[diff['group'] == group]\n",
    "    row_index = i // n_cols + 1\n",
    "    col_index = i % n_cols + 1\n",
    "    \n",
    "    trace1 = go.Bar(x=filtered_df.index,\n",
    "        y=filtered_df[2017],\n",
    "        name=f'2017 - Group {group}',\n",
    "        text=[f\"{value/1000:.1f}k\" if value < 1000 else f\"{int(value/1000)}k\" for value in filtered_df[2017]],  # Value labels in thousands\n",
    "        textposition='auto',\n",
    "        textfont=dict(size=16),\n",
    "        marker_color='blue',\n",
    "        marker_line=dict(width=3, color=['red' if country == 'RUS' else 'blue' for country in filtered_df.country_id]) \n",
    "        )\n",
    "    trace2 = go.Bar(x=filtered_df.index,\n",
    "        y=filtered_df[2022],\n",
    "        name=f'2022 - Group {group}',\n",
    "        text=[f\"{value/1000:.1f}k\\n({filtered_df['2022/2017,%'].values[j]}%)\" if value < 1000 else f\"{int(value/1000)}k\\n({filtered_df['2022/2017,%'].values[j]}%)\" for j, value in enumerate(filtered_df[2022])],  # Value labels in thousands\n",
    "        textposition='auto',\n",
    "        textfont=dict(size=16),\n",
    "        marker_color='green',\n",
    "        marker_line=dict(width=3, color=['red' if country == 'RUS' else 'green' for country in filtered_df.country_id]) \n",
    "        )\n",
    "    \n",
    "    fig.add_trace(trace1, row=row_index, col=col_index)\n",
    "    fig.add_trace(trace2, row=row_index, col=col_index)\n",
    "        \n",
    "fig.update_layout(\n",
    "title='Изменение кол-ва иностранных студентов по группам стран с 2017 по 2022 г.',\n",
    "# xaxis_title='Country',\n",
    "yaxis_title='Число студентов, тыс.',\n",
    "barmode='group',  # Group bars together\n",
    "height=1400,\n",
    "width=2600,\n",
    "plot_bgcolor='white'\n",
    ")\n",
    "for i in range(1, num_rows + 1):\n",
    "    for j in range(1, num_cols + 1):\n",
    "        fig.update_xaxes(tickangle=45, row=i, col=j)\n",
    "        fig.update_yaxes(gridcolor='lightgrey', row=i, col=j)\n",
    "pio.write_image(fig, \"Изменение кол-ва иностранных студентов по группам стран с 2017 по 2022 г.png\")\n",
    "fig.show()"
   ]
  },
  {
   "cell_type": "markdown",
   "metadata": {},
   "source": [
    "<h4>Исходящие по странам</h4>"
   ]
  },
  {
   "cell_type": "markdown",
   "metadata": {},
   "source": [
    "OE.5T8.40510 \n",
    "Total outbound internationally mobile tertiary students studying abroad, all countries, both sexes (UIS estimate) (number)"
   ]
  },
  {
   "cell_type": "code",
   "execution_count": 297,
   "metadata": {},
   "outputs": [
    {
     "data": {
      "text/html": [
       "<div>\n",
       "<style scoped>\n",
       "    .dataframe tbody tr th:only-of-type {\n",
       "        vertical-align: middle;\n",
       "    }\n",
       "\n",
       "    .dataframe tbody tr th {\n",
       "        vertical-align: top;\n",
       "    }\n",
       "\n",
       "    .dataframe thead th {\n",
       "        text-align: right;\n",
       "    }\n",
       "</style>\n",
       "<table border=\"1\" class=\"dataframe\">\n",
       "  <thead>\n",
       "    <tr style=\"text-align: right;\">\n",
       "      <th></th>\n",
       "      <th>indicator_id</th>\n",
       "      <th>country_id</th>\n",
       "      <th>year</th>\n",
       "      <th>value</th>\n",
       "      <th>magnitude</th>\n",
       "      <th>qualifier</th>\n",
       "      <th>COUNTRY_ID</th>\n",
       "      <th>COUNTRY_NAME_EN</th>\n",
       "    </tr>\n",
       "  </thead>\n",
       "  <tbody>\n",
       "    <tr>\n",
       "      <th>0</th>\n",
       "      <td>OE.5T8.40510</td>\n",
       "      <td>ABW</td>\n",
       "      <td>1998</td>\n",
       "      <td>171.0</td>\n",
       "      <td>NaN</td>\n",
       "      <td>UIS_EST</td>\n",
       "      <td>ABW</td>\n",
       "      <td>Aruba</td>\n",
       "    </tr>\n",
       "    <tr>\n",
       "      <th>1</th>\n",
       "      <td>OE.5T8.40510</td>\n",
       "      <td>ABW</td>\n",
       "      <td>1999</td>\n",
       "      <td>127.0</td>\n",
       "      <td>NaN</td>\n",
       "      <td>UIS_EST</td>\n",
       "      <td>ABW</td>\n",
       "      <td>Aruba</td>\n",
       "    </tr>\n",
       "    <tr>\n",
       "      <th>2</th>\n",
       "      <td>OE.5T8.40510</td>\n",
       "      <td>ABW</td>\n",
       "      <td>2000</td>\n",
       "      <td>171.0</td>\n",
       "      <td>NaN</td>\n",
       "      <td>UIS_EST</td>\n",
       "      <td>ABW</td>\n",
       "      <td>Aruba</td>\n",
       "    </tr>\n",
       "    <tr>\n",
       "      <th>3</th>\n",
       "      <td>OE.5T8.40510</td>\n",
       "      <td>ABW</td>\n",
       "      <td>2001</td>\n",
       "      <td>152.0</td>\n",
       "      <td>NaN</td>\n",
       "      <td>UIS_EST</td>\n",
       "      <td>ABW</td>\n",
       "      <td>Aruba</td>\n",
       "    </tr>\n",
       "    <tr>\n",
       "      <th>4</th>\n",
       "      <td>OE.5T8.40510</td>\n",
       "      <td>ABW</td>\n",
       "      <td>2002</td>\n",
       "      <td>324.0</td>\n",
       "      <td>NaN</td>\n",
       "      <td>UIS_EST</td>\n",
       "      <td>ABW</td>\n",
       "      <td>Aruba</td>\n",
       "    </tr>\n",
       "  </tbody>\n",
       "</table>\n",
       "</div>"
      ],
      "text/plain": [
       "   indicator_id country_id  year  value magnitude qualifier COUNTRY_ID  \\\n",
       "0  OE.5T8.40510        ABW  1998  171.0       NaN   UIS_EST        ABW   \n",
       "1  OE.5T8.40510        ABW  1999  127.0       NaN   UIS_EST        ABW   \n",
       "2  OE.5T8.40510        ABW  2000  171.0       NaN   UIS_EST        ABW   \n",
       "3  OE.5T8.40510        ABW  2001  152.0       NaN   UIS_EST        ABW   \n",
       "4  OE.5T8.40510        ABW  2002  324.0       NaN   UIS_EST        ABW   \n",
       "\n",
       "  COUNTRY_NAME_EN  \n",
       "0           Aruba  \n",
       "1           Aruba  \n",
       "2           Aruba  \n",
       "3           Aruba  \n",
       "4           Aruba  "
      ]
     },
     "execution_count": 297,
     "metadata": {},
     "output_type": "execute_result"
    }
   ],
   "source": [
    "total_outbound = national[national['indicator_id'].isin(['OE.5T8.40510'])]\n",
    "total_outbound = pd.merge(total_outbound,country_names,left_on='country_id',right_on='COUNTRY_ID',how='left')\n",
    "total_outbound.head()"
   ]
  },
  {
   "cell_type": "code",
   "execution_count": 304,
   "metadata": {},
   "outputs": [
    {
     "data": {
      "application/vnd.plotly.v1+json": {
       "config": {
        "plotlyServerURL": "https://plot.ly"
       },
       "data": [
        {
         "alignmentgroup": "True",
         "hovertemplate": "year=%{x}<br>value=%{text}<extra></extra>",
         "legendgroup": "",
         "marker": {
          "color": "#636efa",
          "pattern": {
           "shape": ""
          }
         },
         "name": "",
         "offsetgroup": "",
         "orientation": "v",
         "showlegend": false,
         "text": [
          1749477,
          1790476,
          1859946,
          2009943,
          2183618,
          2352435,
          2364504,
          2486426,
          2567909,
          2749958,
          2937924,
          3147246,
          3359274,
          3547638,
          3605214,
          3754270,
          4037806,
          4300442,
          4588280,
          4786978,
          5038026,
          5333733,
          5660868,
          5635213,
          5931780
         ],
         "textposition": "auto",
         "type": "bar",
         "x": [
          1998,
          1999,
          2000,
          2001,
          2002,
          2003,
          2004,
          2005,
          2006,
          2007,
          2008,
          2009,
          2010,
          2011,
          2012,
          2013,
          2014,
          2015,
          2016,
          2017,
          2018,
          2019,
          2020,
          2021,
          2022
         ],
         "xaxis": "x",
         "y": [
          1749477,
          1790476,
          1859946,
          2009943,
          2183618,
          2352435,
          2364504,
          2486426,
          2567909,
          2749958,
          2937924,
          3147246,
          3359274,
          3547638,
          3605214,
          3754270,
          4037806,
          4300442,
          4588280,
          4786978,
          5038026,
          5333733,
          5660868,
          5635213,
          5931780
         ],
         "yaxis": "y"
        }
       ],
       "layout": {
        "barmode": "relative",
        "legend": {
         "tracegroupgap": 0
        },
        "margin": {
         "t": 60
        },
        "template": {
         "data": {
          "bar": [
           {
            "error_x": {
             "color": "#2a3f5f"
            },
            "error_y": {
             "color": "#2a3f5f"
            },
            "marker": {
             "line": {
              "color": "#E5ECF6",
              "width": 0.5
             },
             "pattern": {
              "fillmode": "overlay",
              "size": 10,
              "solidity": 0.2
             }
            },
            "type": "bar"
           }
          ],
          "barpolar": [
           {
            "marker": {
             "line": {
              "color": "#E5ECF6",
              "width": 0.5
             },
             "pattern": {
              "fillmode": "overlay",
              "size": 10,
              "solidity": 0.2
             }
            },
            "type": "barpolar"
           }
          ],
          "carpet": [
           {
            "aaxis": {
             "endlinecolor": "#2a3f5f",
             "gridcolor": "white",
             "linecolor": "white",
             "minorgridcolor": "white",
             "startlinecolor": "#2a3f5f"
            },
            "baxis": {
             "endlinecolor": "#2a3f5f",
             "gridcolor": "white",
             "linecolor": "white",
             "minorgridcolor": "white",
             "startlinecolor": "#2a3f5f"
            },
            "type": "carpet"
           }
          ],
          "choropleth": [
           {
            "colorbar": {
             "outlinewidth": 0,
             "ticks": ""
            },
            "type": "choropleth"
           }
          ],
          "contour": [
           {
            "colorbar": {
             "outlinewidth": 0,
             "ticks": ""
            },
            "colorscale": [
             [
              0,
              "#0d0887"
             ],
             [
              0.1111111111111111,
              "#46039f"
             ],
             [
              0.2222222222222222,
              "#7201a8"
             ],
             [
              0.3333333333333333,
              "#9c179e"
             ],
             [
              0.4444444444444444,
              "#bd3786"
             ],
             [
              0.5555555555555556,
              "#d8576b"
             ],
             [
              0.6666666666666666,
              "#ed7953"
             ],
             [
              0.7777777777777778,
              "#fb9f3a"
             ],
             [
              0.8888888888888888,
              "#fdca26"
             ],
             [
              1,
              "#f0f921"
             ]
            ],
            "type": "contour"
           }
          ],
          "contourcarpet": [
           {
            "colorbar": {
             "outlinewidth": 0,
             "ticks": ""
            },
            "type": "contourcarpet"
           }
          ],
          "heatmap": [
           {
            "colorbar": {
             "outlinewidth": 0,
             "ticks": ""
            },
            "colorscale": [
             [
              0,
              "#0d0887"
             ],
             [
              0.1111111111111111,
              "#46039f"
             ],
             [
              0.2222222222222222,
              "#7201a8"
             ],
             [
              0.3333333333333333,
              "#9c179e"
             ],
             [
              0.4444444444444444,
              "#bd3786"
             ],
             [
              0.5555555555555556,
              "#d8576b"
             ],
             [
              0.6666666666666666,
              "#ed7953"
             ],
             [
              0.7777777777777778,
              "#fb9f3a"
             ],
             [
              0.8888888888888888,
              "#fdca26"
             ],
             [
              1,
              "#f0f921"
             ]
            ],
            "type": "heatmap"
           }
          ],
          "heatmapgl": [
           {
            "colorbar": {
             "outlinewidth": 0,
             "ticks": ""
            },
            "colorscale": [
             [
              0,
              "#0d0887"
             ],
             [
              0.1111111111111111,
              "#46039f"
             ],
             [
              0.2222222222222222,
              "#7201a8"
             ],
             [
              0.3333333333333333,
              "#9c179e"
             ],
             [
              0.4444444444444444,
              "#bd3786"
             ],
             [
              0.5555555555555556,
              "#d8576b"
             ],
             [
              0.6666666666666666,
              "#ed7953"
             ],
             [
              0.7777777777777778,
              "#fb9f3a"
             ],
             [
              0.8888888888888888,
              "#fdca26"
             ],
             [
              1,
              "#f0f921"
             ]
            ],
            "type": "heatmapgl"
           }
          ],
          "histogram": [
           {
            "marker": {
             "pattern": {
              "fillmode": "overlay",
              "size": 10,
              "solidity": 0.2
             }
            },
            "type": "histogram"
           }
          ],
          "histogram2d": [
           {
            "colorbar": {
             "outlinewidth": 0,
             "ticks": ""
            },
            "colorscale": [
             [
              0,
              "#0d0887"
             ],
             [
              0.1111111111111111,
              "#46039f"
             ],
             [
              0.2222222222222222,
              "#7201a8"
             ],
             [
              0.3333333333333333,
              "#9c179e"
             ],
             [
              0.4444444444444444,
              "#bd3786"
             ],
             [
              0.5555555555555556,
              "#d8576b"
             ],
             [
              0.6666666666666666,
              "#ed7953"
             ],
             [
              0.7777777777777778,
              "#fb9f3a"
             ],
             [
              0.8888888888888888,
              "#fdca26"
             ],
             [
              1,
              "#f0f921"
             ]
            ],
            "type": "histogram2d"
           }
          ],
          "histogram2dcontour": [
           {
            "colorbar": {
             "outlinewidth": 0,
             "ticks": ""
            },
            "colorscale": [
             [
              0,
              "#0d0887"
             ],
             [
              0.1111111111111111,
              "#46039f"
             ],
             [
              0.2222222222222222,
              "#7201a8"
             ],
             [
              0.3333333333333333,
              "#9c179e"
             ],
             [
              0.4444444444444444,
              "#bd3786"
             ],
             [
              0.5555555555555556,
              "#d8576b"
             ],
             [
              0.6666666666666666,
              "#ed7953"
             ],
             [
              0.7777777777777778,
              "#fb9f3a"
             ],
             [
              0.8888888888888888,
              "#fdca26"
             ],
             [
              1,
              "#f0f921"
             ]
            ],
            "type": "histogram2dcontour"
           }
          ],
          "mesh3d": [
           {
            "colorbar": {
             "outlinewidth": 0,
             "ticks": ""
            },
            "type": "mesh3d"
           }
          ],
          "parcoords": [
           {
            "line": {
             "colorbar": {
              "outlinewidth": 0,
              "ticks": ""
             }
            },
            "type": "parcoords"
           }
          ],
          "pie": [
           {
            "automargin": true,
            "type": "pie"
           }
          ],
          "scatter": [
           {
            "fillpattern": {
             "fillmode": "overlay",
             "size": 10,
             "solidity": 0.2
            },
            "type": "scatter"
           }
          ],
          "scatter3d": [
           {
            "line": {
             "colorbar": {
              "outlinewidth": 0,
              "ticks": ""
             }
            },
            "marker": {
             "colorbar": {
              "outlinewidth": 0,
              "ticks": ""
             }
            },
            "type": "scatter3d"
           }
          ],
          "scattercarpet": [
           {
            "marker": {
             "colorbar": {
              "outlinewidth": 0,
              "ticks": ""
             }
            },
            "type": "scattercarpet"
           }
          ],
          "scattergeo": [
           {
            "marker": {
             "colorbar": {
              "outlinewidth": 0,
              "ticks": ""
             }
            },
            "type": "scattergeo"
           }
          ],
          "scattergl": [
           {
            "marker": {
             "colorbar": {
              "outlinewidth": 0,
              "ticks": ""
             }
            },
            "type": "scattergl"
           }
          ],
          "scattermapbox": [
           {
            "marker": {
             "colorbar": {
              "outlinewidth": 0,
              "ticks": ""
             }
            },
            "type": "scattermapbox"
           }
          ],
          "scatterpolar": [
           {
            "marker": {
             "colorbar": {
              "outlinewidth": 0,
              "ticks": ""
             }
            },
            "type": "scatterpolar"
           }
          ],
          "scatterpolargl": [
           {
            "marker": {
             "colorbar": {
              "outlinewidth": 0,
              "ticks": ""
             }
            },
            "type": "scatterpolargl"
           }
          ],
          "scatterternary": [
           {
            "marker": {
             "colorbar": {
              "outlinewidth": 0,
              "ticks": ""
             }
            },
            "type": "scatterternary"
           }
          ],
          "surface": [
           {
            "colorbar": {
             "outlinewidth": 0,
             "ticks": ""
            },
            "colorscale": [
             [
              0,
              "#0d0887"
             ],
             [
              0.1111111111111111,
              "#46039f"
             ],
             [
              0.2222222222222222,
              "#7201a8"
             ],
             [
              0.3333333333333333,
              "#9c179e"
             ],
             [
              0.4444444444444444,
              "#bd3786"
             ],
             [
              0.5555555555555556,
              "#d8576b"
             ],
             [
              0.6666666666666666,
              "#ed7953"
             ],
             [
              0.7777777777777778,
              "#fb9f3a"
             ],
             [
              0.8888888888888888,
              "#fdca26"
             ],
             [
              1,
              "#f0f921"
             ]
            ],
            "type": "surface"
           }
          ],
          "table": [
           {
            "cells": {
             "fill": {
              "color": "#EBF0F8"
             },
             "line": {
              "color": "white"
             }
            },
            "header": {
             "fill": {
              "color": "#C8D4E3"
             },
             "line": {
              "color": "white"
             }
            },
            "type": "table"
           }
          ]
         },
         "layout": {
          "annotationdefaults": {
           "arrowcolor": "#2a3f5f",
           "arrowhead": 0,
           "arrowwidth": 1
          },
          "autotypenumbers": "strict",
          "coloraxis": {
           "colorbar": {
            "outlinewidth": 0,
            "ticks": ""
           }
          },
          "colorscale": {
           "diverging": [
            [
             0,
             "#8e0152"
            ],
            [
             0.1,
             "#c51b7d"
            ],
            [
             0.2,
             "#de77ae"
            ],
            [
             0.3,
             "#f1b6da"
            ],
            [
             0.4,
             "#fde0ef"
            ],
            [
             0.5,
             "#f7f7f7"
            ],
            [
             0.6,
             "#e6f5d0"
            ],
            [
             0.7,
             "#b8e186"
            ],
            [
             0.8,
             "#7fbc41"
            ],
            [
             0.9,
             "#4d9221"
            ],
            [
             1,
             "#276419"
            ]
           ],
           "sequential": [
            [
             0,
             "#0d0887"
            ],
            [
             0.1111111111111111,
             "#46039f"
            ],
            [
             0.2222222222222222,
             "#7201a8"
            ],
            [
             0.3333333333333333,
             "#9c179e"
            ],
            [
             0.4444444444444444,
             "#bd3786"
            ],
            [
             0.5555555555555556,
             "#d8576b"
            ],
            [
             0.6666666666666666,
             "#ed7953"
            ],
            [
             0.7777777777777778,
             "#fb9f3a"
            ],
            [
             0.8888888888888888,
             "#fdca26"
            ],
            [
             1,
             "#f0f921"
            ]
           ],
           "sequentialminus": [
            [
             0,
             "#0d0887"
            ],
            [
             0.1111111111111111,
             "#46039f"
            ],
            [
             0.2222222222222222,
             "#7201a8"
            ],
            [
             0.3333333333333333,
             "#9c179e"
            ],
            [
             0.4444444444444444,
             "#bd3786"
            ],
            [
             0.5555555555555556,
             "#d8576b"
            ],
            [
             0.6666666666666666,
             "#ed7953"
            ],
            [
             0.7777777777777778,
             "#fb9f3a"
            ],
            [
             0.8888888888888888,
             "#fdca26"
            ],
            [
             1,
             "#f0f921"
            ]
           ]
          },
          "colorway": [
           "#636efa",
           "#EF553B",
           "#00cc96",
           "#ab63fa",
           "#FFA15A",
           "#19d3f3",
           "#FF6692",
           "#B6E880",
           "#FF97FF",
           "#FECB52"
          ],
          "font": {
           "color": "#2a3f5f"
          },
          "geo": {
           "bgcolor": "white",
           "lakecolor": "white",
           "landcolor": "#E5ECF6",
           "showlakes": true,
           "showland": true,
           "subunitcolor": "white"
          },
          "hoverlabel": {
           "align": "left"
          },
          "hovermode": "closest",
          "mapbox": {
           "style": "light"
          },
          "paper_bgcolor": "white",
          "plot_bgcolor": "#E5ECF6",
          "polar": {
           "angularaxis": {
            "gridcolor": "white",
            "linecolor": "white",
            "ticks": ""
           },
           "bgcolor": "#E5ECF6",
           "radialaxis": {
            "gridcolor": "white",
            "linecolor": "white",
            "ticks": ""
           }
          },
          "scene": {
           "xaxis": {
            "backgroundcolor": "#E5ECF6",
            "gridcolor": "white",
            "gridwidth": 2,
            "linecolor": "white",
            "showbackground": true,
            "ticks": "",
            "zerolinecolor": "white"
           },
           "yaxis": {
            "backgroundcolor": "#E5ECF6",
            "gridcolor": "white",
            "gridwidth": 2,
            "linecolor": "white",
            "showbackground": true,
            "ticks": "",
            "zerolinecolor": "white"
           },
           "zaxis": {
            "backgroundcolor": "#E5ECF6",
            "gridcolor": "white",
            "gridwidth": 2,
            "linecolor": "white",
            "showbackground": true,
            "ticks": "",
            "zerolinecolor": "white"
           }
          },
          "shapedefaults": {
           "line": {
            "color": "#2a3f5f"
           }
          },
          "ternary": {
           "aaxis": {
            "gridcolor": "white",
            "linecolor": "white",
            "ticks": ""
           },
           "baxis": {
            "gridcolor": "white",
            "linecolor": "white",
            "ticks": ""
           },
           "bgcolor": "#E5ECF6",
           "caxis": {
            "gridcolor": "white",
            "linecolor": "white",
            "ticks": ""
           }
          },
          "title": {
           "x": 0.05
          },
          "xaxis": {
           "automargin": true,
           "gridcolor": "white",
           "linecolor": "white",
           "ticks": "",
           "title": {
            "standoff": 15
           },
           "zerolinecolor": "white",
           "zerolinewidth": 2
          },
          "yaxis": {
           "automargin": true,
           "gridcolor": "white",
           "linecolor": "white",
           "ticks": "",
           "title": {
            "standoff": 15
           },
           "zerolinecolor": "white",
           "zerolinewidth": 2
          }
         }
        },
        "xaxis": {
         "anchor": "y",
         "domain": [
          0,
          1
         ],
         "title": {
          "text": "year"
         }
        },
        "yaxis": {
         "anchor": "x",
         "domain": [
          0,
          1
         ],
         "title": {
          "text": "value"
         }
        }
       }
      }
     },
     "metadata": {},
     "output_type": "display_data"
    }
   ],
   "source": [
    "world_outbound = total_outbound.groupby(['year'])['value'].sum().reset_index()\n",
    "fig = px.bar(world_outbound,x='year',y='value',text='value')\n",
    "fig.show()\n",
    "# world_outbound"
   ]
  },
  {
   "cell_type": "code",
   "execution_count": 295,
   "metadata": {},
   "outputs": [
    {
     "data": {
      "text/html": [
       "<div>\n",
       "<style scoped>\n",
       "    .dataframe tbody tr th:only-of-type {\n",
       "        vertical-align: middle;\n",
       "    }\n",
       "\n",
       "    .dataframe tbody tr th {\n",
       "        vertical-align: top;\n",
       "    }\n",
       "\n",
       "    .dataframe thead th {\n",
       "        text-align: right;\n",
       "    }\n",
       "</style>\n",
       "<table border=\"1\" class=\"dataframe\">\n",
       "  <thead>\n",
       "    <tr style=\"text-align: right;\">\n",
       "      <th>year</th>\n",
       "      <th>country_id</th>\n",
       "      <th>2017</th>\n",
       "      <th>2022</th>\n",
       "      <th>2022/2017,%</th>\n",
       "      <th>group</th>\n",
       "    </tr>\n",
       "    <tr>\n",
       "      <th>COUNTRY_NAME_EN</th>\n",
       "      <th></th>\n",
       "      <th></th>\n",
       "      <th></th>\n",
       "      <th></th>\n",
       "      <th></th>\n",
       "    </tr>\n",
       "  </thead>\n",
       "  <tbody>\n",
       "    <tr>\n",
       "      <th>Afghanistan</th>\n",
       "      <td>AFG</td>\n",
       "      <td>29995.0</td>\n",
       "      <td>34323.0</td>\n",
       "      <td>+14</td>\n",
       "      <td>20-50 тыс.</td>\n",
       "    </tr>\n",
       "    <tr>\n",
       "      <th>Angola</th>\n",
       "      <td>AGO</td>\n",
       "      <td>15605.0</td>\n",
       "      <td>10797.0</td>\n",
       "      <td>-31</td>\n",
       "      <td>5-20 тыс.</td>\n",
       "    </tr>\n",
       "    <tr>\n",
       "      <th>Albania</th>\n",
       "      <td>ALB</td>\n",
       "      <td>17808.0</td>\n",
       "      <td>14819.0</td>\n",
       "      <td>-17</td>\n",
       "      <td>5-20 тыс.</td>\n",
       "    </tr>\n",
       "    <tr>\n",
       "      <th>United Arab Emirates</th>\n",
       "      <td>ARE</td>\n",
       "      <td>11261.0</td>\n",
       "      <td>18600.0</td>\n",
       "      <td>+65</td>\n",
       "      <td>5-20 тыс.</td>\n",
       "    </tr>\n",
       "    <tr>\n",
       "      <th>Argentina</th>\n",
       "      <td>ARG</td>\n",
       "      <td>8423.0</td>\n",
       "      <td>11700.0</td>\n",
       "      <td>+39</td>\n",
       "      <td>5-20 тыс.</td>\n",
       "    </tr>\n",
       "    <tr>\n",
       "      <th>...</th>\n",
       "      <td>...</td>\n",
       "      <td>...</td>\n",
       "      <td>...</td>\n",
       "      <td>...</td>\n",
       "      <td>...</td>\n",
       "    </tr>\n",
       "    <tr>\n",
       "      <th>Uzbekistan</th>\n",
       "      <td>UZB</td>\n",
       "      <td>35033.0</td>\n",
       "      <td>150488.0</td>\n",
       "      <td>+330</td>\n",
       "      <td>100-200 тыс.</td>\n",
       "    </tr>\n",
       "    <tr>\n",
       "      <th>Viet Nam</th>\n",
       "      <td>VNM</td>\n",
       "      <td>94643.0</td>\n",
       "      <td>134141.0</td>\n",
       "      <td>+42</td>\n",
       "      <td>100-200 тыс.</td>\n",
       "    </tr>\n",
       "    <tr>\n",
       "      <th>Yemen</th>\n",
       "      <td>YEM</td>\n",
       "      <td>25019.0</td>\n",
       "      <td>36031.0</td>\n",
       "      <td>+44</td>\n",
       "      <td>20-50 тыс.</td>\n",
       "    </tr>\n",
       "    <tr>\n",
       "      <th>South Africa</th>\n",
       "      <td>ZAF</td>\n",
       "      <td>10780.0</td>\n",
       "      <td>12673.0</td>\n",
       "      <td>+18</td>\n",
       "      <td>5-20 тыс.</td>\n",
       "    </tr>\n",
       "    <tr>\n",
       "      <th>Zimbabwe</th>\n",
       "      <td>ZWE</td>\n",
       "      <td>19217.0</td>\n",
       "      <td>22283.0</td>\n",
       "      <td>+16</td>\n",
       "      <td>20-50 тыс.</td>\n",
       "    </tr>\n",
       "  </tbody>\n",
       "</table>\n",
       "<p>102 rows × 5 columns</p>\n",
       "</div>"
      ],
      "text/plain": [
       "year                 country_id     2017      2022 2022/2017,%         group\n",
       "COUNTRY_NAME_EN                                                             \n",
       "Afghanistan                 AFG  29995.0   34323.0         +14    20-50 тыс.\n",
       "Angola                      AGO  15605.0   10797.0         -31     5-20 тыс.\n",
       "Albania                     ALB  17808.0   14819.0         -17     5-20 тыс.\n",
       "United Arab Emirates        ARE  11261.0   18600.0         +65     5-20 тыс.\n",
       "Argentina                   ARG   8423.0   11700.0         +39     5-20 тыс.\n",
       "...                         ...      ...       ...         ...           ...\n",
       "Uzbekistan                  UZB  35033.0  150488.0        +330  100-200 тыс.\n",
       "Viet Nam                    VNM  94643.0  134141.0         +42  100-200 тыс.\n",
       "Yemen                       YEM  25019.0   36031.0         +44    20-50 тыс.\n",
       "South Africa                ZAF  10780.0   12673.0         +18     5-20 тыс.\n",
       "Zimbabwe                    ZWE  19217.0   22283.0         +16    20-50 тыс.\n",
       "\n",
       "[102 rows x 5 columns]"
      ]
     },
     "execution_count": 295,
     "metadata": {},
     "output_type": "execute_result"
    }
   ],
   "source": [
    "diff = total_outbound[total_outbound['year'].isin([2017,2022])].pivot(index=['country_id','COUNTRY_NAME_EN'], columns='year', values='value').reset_index()\n",
    "diff = diff.dropna()\n",
    "diff['2022/2017,%'] = round(diff[2022]/diff[2017]*100,0).astype(int)-100\n",
    "diff['2022/2017,%'] = diff['2022/2017,%'].apply(lambda x:'+'+str(x) if x>0 else str(x))\n",
    "diff = diff[diff[2022]>10000]\n",
    "def group(x):\n",
    "    if x<20000:\n",
    "        group_name = '5-20 тыс.'\n",
    "    elif 20000<=x<50000:\n",
    "        group_name = '20-50 тыс.'\n",
    "    elif 50000<=x<100000:\n",
    "        group_name = '50-100 тыс.'\n",
    "    elif 100000<=x<200000:\n",
    "        group_name = '100-200 тыс.'\n",
    "    else:\n",
    "        group_name = 'Больше 200 тыс.'\n",
    "    return group_name\n",
    "diff['group'] = diff[2022].apply(lambda x: group(x))\n",
    "diff.loc[diff['COUNTRY_NAME_EN']=='Iran (Islamic Republic of)','COUNTRY_NAME_EN']='Iran'\n",
    "diff.loc[diff['COUNTRY_NAME_EN']=='United Kingdom of Great Britain and Northern Ireland','COUNTRY_NAME_EN']='Great Britain'\n",
    "diff.loc[diff['COUNTRY_NAME_EN']=='China, Hong Kong Special Administrative Region','COUNTRY_NAME_EN']='Hong Kong'\n",
    "diff.loc[diff['COUNTRY_NAME_EN']=='China, Macao Special Administrative Region','COUNTRY_NAME_EN']='Macao'\n",
    "diff.set_index('COUNTRY_NAME_EN', inplace=True)\n",
    "diff.sort_values(by='2022/2017,%',ascending=False)\n",
    "diff"
   ]
  },
  {
   "cell_type": "code",
   "execution_count": 296,
   "metadata": {},
   "outputs": [
    {
     "data": {
      "application/vnd.plotly.v1+json": {
       "config": {
        "plotlyServerURL": "https://plot.ly"
       },
       "data": [
        {
         "marker": {
          "color": "brown",
          "line": {
           "color": [
            "brown",
            "brown"
           ],
           "width": 3
          }
         },
         "name": "2017 - Group Больше 200 тыс.",
         "text": [
          "928k",
          "343k"
         ],
         "textfont": {
          "size": 12
         },
         "textposition": "auto",
         "type": "bar",
         "x": [
          "China",
          "India"
         ],
         "xaxis": "x",
         "y": [
          928377,
          343089
         ],
         "yaxis": "y"
        },
        {
         "marker": {
          "color": "orange",
          "line": {
           "color": [
            "orange",
            "orange"
           ],
           "width": 3
          }
         },
         "name": "2022 - Group Больше 200 тыс.",
         "text": [
          "1052k<br>(+13%)",
          "621k<br>(+81%)"
         ],
         "textfont": {
          "size": 12
         },
         "textposition": "auto",
         "type": "bar",
         "x": [
          "China",
          "India"
         ],
         "xaxis": "x",
         "y": [
          1052283,
          621623
         ],
         "yaxis": "y"
        },
        {
         "marker": {
          "color": "brown",
          "line": {
           "color": [
            "brown",
            "brown",
            "brown",
            "brown",
            "brown",
            "brown",
            "brown"
           ],
           "width": 3
          }
         },
         "name": "2017 - Group 100-200 тыс.",
         "text": [
          "35k",
          "94k",
          "123k",
          "86k",
          "94k",
          "86k",
          "53k"
         ],
         "textfont": {
          "size": 12
         },
         "textposition": "auto",
         "type": "bar",
         "x": [
          "Uzbekistan",
          "Viet Nam",
          "Germany",
          "United States of America",
          "France",
          "Nigeria",
          "Syrian Arab Republic"
         ],
         "xaxis": "x2",
         "y": [
          35033,
          94643,
          123015,
          86872,
          94944,
          86233,
          53460
         ],
         "yaxis": "y2"
        },
        {
         "marker": {
          "color": "orange",
          "line": {
           "color": [
            "orange",
            "orange",
            "orange",
            "orange",
            "orange",
            "orange",
            "orange"
           ],
           "width": 3
          }
         },
         "name": "2022 - Group 100-200 тыс.",
         "text": [
          "150k<br>(+330%)",
          "134k<br>(+42%)",
          "126k<br>(+3%)",
          "115k<br>(+32%)",
          "113k<br>(+20%)",
          "112k<br>(+30%)",
          "104k<br>(+96%)"
         ],
         "textfont": {
          "size": 12
         },
         "textposition": "auto",
         "type": "bar",
         "x": [
          "Uzbekistan",
          "Viet Nam",
          "Germany",
          "United States of America",
          "France",
          "Nigeria",
          "Syrian Arab Republic"
         ],
         "xaxis": "x2",
         "y": [
          150488,
          134141,
          126241,
          115026,
          113515,
          112416,
          104987
         ],
         "yaxis": "y2"
        },
        {
         "marker": {
          "color": "brown",
          "line": {
           "color": [
            "brown",
            "brown",
            "brown",
            "brown",
            "brown",
            "brown",
            "brown",
            "brown",
            "brown",
            "brown",
            "brown",
            "black",
            "brown",
            "brown",
            "brown",
            "brown",
            "brown",
            "brown"
           ],
           "width": 3
          }
         },
         "name": "2017 - Group 50-100 тыс.",
         "text": [
          "64k",
          "53k",
          "105k",
          "58k",
          "74k",
          "53k",
          "84k",
          "77k",
          "51k",
          "34k",
          "58k",
          "57k",
          "48k",
          "45k",
          "46k",
          "45k",
          "49k",
          "41k"
         ],
         "textfont": {
          "size": 12
         },
         "textposition": "auto",
         "type": "bar",
         "x": [
          "Nepal",
          "Pakistan",
          "Republic of Korea",
          "Brazil",
          "Italy",
          "Iran",
          "Kazakhstan",
          "Ukraine",
          "Morocco",
          "Egypt",
          "Bangladesh",
          "Russian Federation",
          "Indonesia",
          "Colombia",
          "Turkmenistan",
          "Turkey",
          "Canada",
          "Spain"
         ],
         "xaxis": "x3",
         "y": [
          64356,
          53874,
          105458,
          58304,
          74862,
          53216,
          84859,
          77892,
          51283,
          34779,
          58129,
          57118,
          48550,
          45535,
          46232,
          45691,
          49644,
          41628
         ],
         "yaxis": "y3"
        },
        {
         "marker": {
          "color": "orange",
          "line": {
           "color": [
            "orange",
            "orange",
            "orange",
            "orange",
            "orange",
            "orange",
            "orange",
            "orange",
            "orange",
            "orange",
            "orange",
            "black",
            "orange",
            "orange",
            "orange",
            "orange",
            "orange",
            "orange"
           ],
           "width": 3
          }
         },
         "name": "2022 - Group 50-100 тыс.",
         "text": [
          "95k<br>(+48%)",
          "90k<br>(+68%)",
          "87k<br>(-17%)",
          "87k<br>(+50%)",
          "86k<br>(+16%)",
          "85k<br>(+61%)",
          "78k<br>(-8%)",
          "76k<br>(-1%)",
          "74k<br>(+45%)",
          "69k<br>(+99%)",
          "63k<br>(+10%)",
          "63k<br>(+11%)",
          "62k<br>(+29%)",
          "61k<br>(+36%)",
          "60k<br>(+32%)",
          "60k<br>(+32%)",
          "51k<br>(+4%)",
          "50k<br>(+22%)"
         ],
         "textfont": {
          "size": 12
         },
         "textposition": "auto",
         "type": "bar",
         "x": [
          "Nepal",
          "Pakistan",
          "Republic of Korea",
          "Brazil",
          "Italy",
          "Iran",
          "Kazakhstan",
          "Ukraine",
          "Morocco",
          "Egypt",
          "Bangladesh",
          "Russian Federation",
          "Indonesia",
          "Colombia",
          "Turkmenistan",
          "Turkey",
          "Canada",
          "Spain"
         ],
         "xaxis": "x3",
         "y": [
          95092,
          90614,
          87535,
          87337,
          86469,
          85729,
          78335,
          76802,
          74289,
          69371,
          63936,
          63578,
          62828,
          61940,
          60902,
          60322,
          51819,
          50838
         ],
         "yaxis": "y3"
        },
        {
         "marker": {
          "color": "brown",
          "line": {
           "color": [
            "brown",
            "brown",
            "brown",
            "brown",
            "brown",
            "brown",
            "brown",
            "brown",
            "brown",
            "brown",
            "brown",
            "brown",
            "brown",
            "brown",
            "brown",
            "brown",
            "brown",
            "brown",
            "brown",
            "brown",
            "brown",
            "brown",
            "brown",
            "brown",
            "brown",
            "brown",
            "brown",
            "brown",
            "brown",
            "brown",
            "brown",
            "brown",
            "brown",
            "brown",
            "brown"
           ],
           "width": 3
          }
         },
         "name": "2017 - Group 20-50 тыс.",
         "text": [
          "42k",
          "63k",
          "31k",
          "84k",
          "31k",
          "36k",
          "37k",
          "36k",
          "34k",
          "25k",
          "25k",
          "29k",
          "25k",
          "27k",
          "19k",
          "21k",
          "36k",
          "26k",
          "21k",
          "31k",
          "17k",
          "32k",
          "32k",
          "17k",
          "22k",
          "22k",
          "19k",
          "24k",
          "25k",
          "16k",
          "23k",
          "14k",
          "19k",
          "15k",
          "25k"
         ],
         "textfont": {
          "size": 12
         },
         "textposition": "auto",
         "type": "bar",
         "x": [
          "Azerbaijan",
          "Malaysia",
          "Iraq",
          "Saudi Arabia",
          "Peru",
          "Great Britain",
          "Greece",
          "Hong Kong",
          "Mexico",
          "Yemen",
          "Algeria",
          "Afghanistan",
          "Jordan",
          "Cameroon",
          "Tajikistan",
          "Ecuador",
          "Romania",
          "Palestine",
          "Sri Lanka",
          "Japan",
          "Philippines",
          "Slovakia",
          "Thailand",
          "Lebanon",
          "Tunisia",
          "Belarus",
          "Austria",
          "Cyprus",
          "Poland",
          "Bolivia (Plurinational State of)",
          "Kuwait",
          "Ghana",
          "Zimbabwe",
          "Chile",
          "Bulgaria"
         ],
         "xaxis": "x4",
         "y": [
          42793,
          63808,
          31185,
          84264,
          31548,
          36559,
          37966,
          36588,
          34244,
          25019,
          25706,
          29995,
          25076,
          27453,
          19768,
          21009,
          36036,
          26122,
          21093,
          31771,
          17378,
          32455,
          32577,
          17963,
          22367,
          22422,
          19328,
          24456,
          25161,
          16507,
          23021,
          14901,
          19217,
          15736,
          25089
         ],
         "yaxis": "y4"
        },
        {
         "marker": {
          "color": "orange",
          "line": {
           "color": [
            "orange",
            "orange",
            "orange",
            "orange",
            "orange",
            "orange",
            "orange",
            "orange",
            "orange",
            "orange",
            "orange",
            "orange",
            "orange",
            "orange",
            "orange",
            "orange",
            "orange",
            "orange",
            "orange",
            "orange",
            "orange",
            "orange",
            "orange",
            "orange",
            "orange",
            "orange",
            "orange",
            "orange",
            "orange",
            "orange",
            "orange",
            "orange",
            "orange",
            "orange",
            "orange"
           ],
           "width": 3
          }
         },
         "name": "2022 - Group 20-50 тыс.",
         "text": [
          "49k<br>(+16%)",
          "47k<br>(-25%)",
          "44k<br>(+44%)",
          "44k<br>(-47%)",
          "41k<br>(+32%)",
          "41k<br>(+14%)",
          "38k<br>(+1%)",
          "37k<br>(+2%)",
          "36k<br>(+8%)",
          "36k<br>(+44%)",
          "35k<br>(+39%)",
          "34k<br>(+14%)",
          "33k<br>(+33%)",
          "32k<br>(+20%)",
          "32k<br>(+65%)",
          "31k<br>(+51%)",
          "31k<br>(-12%)",
          "31k<br>(+21%)",
          "31k<br>(+49%)",
          "31k<br>(-2%)",
          "30k<br>(+75%)",
          "30k<br>(-7%)",
          "29k<br>(-9%)",
          "28k<br>(+56%)",
          "27k<br>(+22%)",
          "27k<br>(+20%)",
          "26k<br>(+37%)",
          "25k<br>(+5%)",
          "24k<br>(-1%)",
          "24k<br>(+46%)",
          "22k<br>(-1%)",
          "22k<br>(+50%)",
          "22k<br>(+16%)",
          "20k<br>(+31%)",
          "20k<br>(-20%)"
         ],
         "textfont": {
          "size": 12
         },
         "textposition": "auto",
         "type": "bar",
         "x": [
          "Azerbaijan",
          "Malaysia",
          "Iraq",
          "Saudi Arabia",
          "Peru",
          "Great Britain",
          "Greece",
          "Hong Kong",
          "Mexico",
          "Yemen",
          "Algeria",
          "Afghanistan",
          "Jordan",
          "Cameroon",
          "Tajikistan",
          "Ecuador",
          "Romania",
          "Palestine",
          "Sri Lanka",
          "Japan",
          "Philippines",
          "Slovakia",
          "Thailand",
          "Lebanon",
          "Tunisia",
          "Belarus",
          "Austria",
          "Cyprus",
          "Poland",
          "Bolivia (Plurinational State of)",
          "Kuwait",
          "Ghana",
          "Zimbabwe",
          "Chile",
          "Bulgaria"
         ],
         "xaxis": "x4",
         "y": [
          49665,
          47943,
          44824,
          44265,
          41607,
          41539,
          38484,
          37253,
          36992,
          36031,
          35821,
          34323,
          33277,
          32876,
          32543,
          31723,
          31597,
          31498,
          31336,
          31286,
          30351,
          30293,
          29585,
          28102,
          27234,
          27002,
          26416,
          25585,
          24857,
          24143,
          22767,
          22317,
          22283,
          20622,
          20164
         ],
         "yaxis": "y4"
        },
        {
         "marker": {
          "color": "brown",
          "line": {
           "color": [
            "brown",
            "brown",
            "brown",
            "brown",
            "brown",
            "brown",
            "brown",
            "brown",
            "brown",
            "brown",
            "brown",
            "brown",
            "brown",
            "brown",
            "brown",
            "brown",
            "brown",
            "brown",
            "brown",
            "brown",
            "brown",
            "brown",
            "brown",
            "brown",
            "brown",
            "brown",
            "brown",
            "brown",
            "brown",
            "brown",
            "brown",
            "brown",
            "brown",
            "brown",
            "brown",
            "brown",
            "brown",
            "brown",
            "brown",
            "brown"
           ],
           "width": 3
          }
         },
         "name": "2017 - Group 5-20 тыс.",
         "text": [
          "8k",
          "23k",
          "18k",
          "14k",
          "13k",
          "15k",
          "14k",
          "11k",
          "12k",
          "11k",
          "18k",
          "14k",
          "15k",
          "13k",
          "11k",
          "15k",
          "16k",
          "6k",
          "10k",
          "17k",
          "13k",
          "15k",
          "7k",
          "17k",
          "16k",
          "16k",
          "15k",
          "12k",
          "14k",
          "11k",
          "9k",
          "10k",
          "13k",
          "8k",
          "9k",
          "15k",
          "9k",
          "7k",
          "7k",
          "9k"
         ],
         "textfont": {
          "size": 12
         },
         "textposition": "auto",
         "type": "bar",
         "x": [
          "Chad",
          "Singapore",
          "Republic of Moldova",
          "Switzerland",
          "Côte d'Ivoire",
          "Kenya",
          "Israel",
          "Democratic Republic of the Congo",
          "Senegal",
          "United Arab Emirates",
          "Netherlands",
          "Portugal",
          "Belgium",
          "Paraguay",
          "Kyrgyzstan",
          "Ireland",
          "Oman",
          "Somalia",
          "Mongolia",
          "Norway",
          "Sudan",
          "Bosnia and Herzegovina",
          "Gabon",
          "Albania",
          "Serbia",
          "Sweden",
          "Congo",
          "Hungary",
          "Australia",
          "Luxembourg",
          "Myanmar",
          "South Africa",
          "Czechia",
          "Argentina",
          "Haiti",
          "Angola",
          "Mali",
          "Ethiopia",
          "Benin",
          "Croatia"
         ],
         "xaxis": "x5",
         "y": [
          8216,
          23726,
          18777,
          14385,
          13916,
          15148,
          14875,
          11631,
          12872,
          11261,
          18490,
          14122,
          15035,
          13464,
          11410,
          15075,
          16286,
          6195,
          10580,
          17721,
          13603,
          15436,
          7301,
          17808,
          16213,
          16547,
          15263,
          12399,
          14168,
          11021,
          9169,
          10780,
          13200,
          8423,
          9676,
          15605,
          9556,
          7050,
          7434,
          9697
         ],
         "yaxis": "y5"
        },
        {
         "marker": {
          "color": "orange",
          "line": {
           "color": [
            "orange",
            "orange",
            "orange",
            "orange",
            "orange",
            "orange",
            "orange",
            "orange",
            "orange",
            "orange",
            "orange",
            "orange",
            "orange",
            "orange",
            "orange",
            "orange",
            "orange",
            "orange",
            "orange",
            "orange",
            "orange",
            "orange",
            "orange",
            "orange",
            "orange",
            "orange",
            "orange",
            "orange",
            "orange",
            "orange",
            "orange",
            "orange",
            "orange",
            "orange",
            "orange",
            "orange",
            "orange",
            "orange",
            "orange",
            "orange"
           ],
           "width": 3
          }
         },
         "name": "2022 - Group 5-20 тыс.",
         "text": [
          "19k<br>(+140%)",
          "19k<br>(-17%)",
          "19k<br>(+5%)",
          "19k<br>(+35%)",
          "19k<br>(+38%)",
          "19k<br>(+26%)",
          "18k<br>(+28%)",
          "18k<br>(+61%)",
          "18k<br>(+45%)",
          "18k<br>(+65%)",
          "18k<br>(0%)",
          "17k<br>(+27%)",
          "17k<br>(+17%)",
          "17k<br>(+28%)",
          "17k<br>(+50%)",
          "16k<br>(+13%)",
          "16k<br>(+2%)",
          "16k<br>(+162%)",
          "15k<br>(+51%)",
          "15k<br>(-14%)",
          "15k<br>(+12%)",
          "15k<br>(-2%)",
          "15k<br>(+107%)",
          "14k<br>(-17%)",
          "14k<br>(-10%)",
          "14k<br>(-14%)",
          "13k<br>(-9%)",
          "13k<br>(+12%)",
          "13k<br>(-5%)",
          "13k<br>(+21%)",
          "12k<br>(+40%)",
          "12k<br>(+18%)",
          "11k<br>(-9%)",
          "11k<br>(+39%)",
          "11k<br>(+20%)",
          "10k<br>(-31%)",
          "10k<br>(+11%)",
          "10k<br>(+50%)",
          "10k<br>(+37%)",
          "10k<br>(+4%)"
         ],
         "textfont": {
          "size": 12
         },
         "textposition": "auto",
         "type": "bar",
         "x": [
          "Chad",
          "Singapore",
          "Republic of Moldova",
          "Switzerland",
          "Côte d'Ivoire",
          "Kenya",
          "Israel",
          "Democratic Republic of the Congo",
          "Senegal",
          "United Arab Emirates",
          "Netherlands",
          "Portugal",
          "Belgium",
          "Paraguay",
          "Kyrgyzstan",
          "Ireland",
          "Oman",
          "Somalia",
          "Mongolia",
          "Norway",
          "Sudan",
          "Bosnia and Herzegovina",
          "Gabon",
          "Albania",
          "Serbia",
          "Sweden",
          "Congo",
          "Hungary",
          "Australia",
          "Luxembourg",
          "Myanmar",
          "South Africa",
          "Czechia",
          "Argentina",
          "Haiti",
          "Angola",
          "Mali",
          "Ethiopia",
          "Benin",
          "Croatia"
         ],
         "xaxis": "x5",
         "y": [
          19742,
          19711,
          19632,
          19379,
          19202,
          19077,
          18998,
          18669,
          18656,
          18600,
          18429,
          17869,
          17557,
          17219,
          17124,
          16994,
          16607,
          16201,
          15923,
          15231,
          15211,
          15188,
          15115,
          14819,
          14600,
          14280,
          13932,
          13858,
          13529,
          13346,
          12878,
          12673,
          11986,
          11700,
          11622,
          10797,
          10606,
          10541,
          10204,
          10047
         ],
         "yaxis": "y5"
        }
       ],
       "layout": {
        "annotations": [
         {
          "font": {
           "size": 16
          },
          "showarrow": false,
          "text": "Больше 200 тыс.",
          "x": 0.225,
          "xanchor": "center",
          "xref": "paper",
          "y": 1,
          "yanchor": "bottom",
          "yref": "paper"
         },
         {
          "font": {
           "size": 16
          },
          "showarrow": false,
          "text": "100-200 тыс.",
          "x": 0.775,
          "xanchor": "center",
          "xref": "paper",
          "y": 1,
          "yanchor": "bottom",
          "yref": "paper"
         },
         {
          "font": {
           "size": 16
          },
          "showarrow": false,
          "text": "50-100 тыс.",
          "x": 0.225,
          "xanchor": "center",
          "xref": "paper",
          "y": 0.6111111111111112,
          "yanchor": "bottom",
          "yref": "paper"
         },
         {
          "font": {
           "size": 16
          },
          "showarrow": false,
          "text": "20-50 тыс.",
          "x": 0.775,
          "xanchor": "center",
          "xref": "paper",
          "y": 0.6111111111111112,
          "yanchor": "bottom",
          "yref": "paper"
         },
         {
          "font": {
           "size": 16
          },
          "showarrow": false,
          "text": "5-20 тыс.",
          "x": 0.225,
          "xanchor": "center",
          "xref": "paper",
          "y": 0.22222222222222224,
          "yanchor": "bottom",
          "yref": "paper"
         }
        ],
        "barmode": "group",
        "height": 1600,
        "plot_bgcolor": "white",
        "template": {
         "data": {
          "bar": [
           {
            "error_x": {
             "color": "#2a3f5f"
            },
            "error_y": {
             "color": "#2a3f5f"
            },
            "marker": {
             "line": {
              "color": "#E5ECF6",
              "width": 0.5
             },
             "pattern": {
              "fillmode": "overlay",
              "size": 10,
              "solidity": 0.2
             }
            },
            "type": "bar"
           }
          ],
          "barpolar": [
           {
            "marker": {
             "line": {
              "color": "#E5ECF6",
              "width": 0.5
             },
             "pattern": {
              "fillmode": "overlay",
              "size": 10,
              "solidity": 0.2
             }
            },
            "type": "barpolar"
           }
          ],
          "carpet": [
           {
            "aaxis": {
             "endlinecolor": "#2a3f5f",
             "gridcolor": "white",
             "linecolor": "white",
             "minorgridcolor": "white",
             "startlinecolor": "#2a3f5f"
            },
            "baxis": {
             "endlinecolor": "#2a3f5f",
             "gridcolor": "white",
             "linecolor": "white",
             "minorgridcolor": "white",
             "startlinecolor": "#2a3f5f"
            },
            "type": "carpet"
           }
          ],
          "choropleth": [
           {
            "colorbar": {
             "outlinewidth": 0,
             "ticks": ""
            },
            "type": "choropleth"
           }
          ],
          "contour": [
           {
            "colorbar": {
             "outlinewidth": 0,
             "ticks": ""
            },
            "colorscale": [
             [
              0,
              "#0d0887"
             ],
             [
              0.1111111111111111,
              "#46039f"
             ],
             [
              0.2222222222222222,
              "#7201a8"
             ],
             [
              0.3333333333333333,
              "#9c179e"
             ],
             [
              0.4444444444444444,
              "#bd3786"
             ],
             [
              0.5555555555555556,
              "#d8576b"
             ],
             [
              0.6666666666666666,
              "#ed7953"
             ],
             [
              0.7777777777777778,
              "#fb9f3a"
             ],
             [
              0.8888888888888888,
              "#fdca26"
             ],
             [
              1,
              "#f0f921"
             ]
            ],
            "type": "contour"
           }
          ],
          "contourcarpet": [
           {
            "colorbar": {
             "outlinewidth": 0,
             "ticks": ""
            },
            "type": "contourcarpet"
           }
          ],
          "heatmap": [
           {
            "colorbar": {
             "outlinewidth": 0,
             "ticks": ""
            },
            "colorscale": [
             [
              0,
              "#0d0887"
             ],
             [
              0.1111111111111111,
              "#46039f"
             ],
             [
              0.2222222222222222,
              "#7201a8"
             ],
             [
              0.3333333333333333,
              "#9c179e"
             ],
             [
              0.4444444444444444,
              "#bd3786"
             ],
             [
              0.5555555555555556,
              "#d8576b"
             ],
             [
              0.6666666666666666,
              "#ed7953"
             ],
             [
              0.7777777777777778,
              "#fb9f3a"
             ],
             [
              0.8888888888888888,
              "#fdca26"
             ],
             [
              1,
              "#f0f921"
             ]
            ],
            "type": "heatmap"
           }
          ],
          "heatmapgl": [
           {
            "colorbar": {
             "outlinewidth": 0,
             "ticks": ""
            },
            "colorscale": [
             [
              0,
              "#0d0887"
             ],
             [
              0.1111111111111111,
              "#46039f"
             ],
             [
              0.2222222222222222,
              "#7201a8"
             ],
             [
              0.3333333333333333,
              "#9c179e"
             ],
             [
              0.4444444444444444,
              "#bd3786"
             ],
             [
              0.5555555555555556,
              "#d8576b"
             ],
             [
              0.6666666666666666,
              "#ed7953"
             ],
             [
              0.7777777777777778,
              "#fb9f3a"
             ],
             [
              0.8888888888888888,
              "#fdca26"
             ],
             [
              1,
              "#f0f921"
             ]
            ],
            "type": "heatmapgl"
           }
          ],
          "histogram": [
           {
            "marker": {
             "pattern": {
              "fillmode": "overlay",
              "size": 10,
              "solidity": 0.2
             }
            },
            "type": "histogram"
           }
          ],
          "histogram2d": [
           {
            "colorbar": {
             "outlinewidth": 0,
             "ticks": ""
            },
            "colorscale": [
             [
              0,
              "#0d0887"
             ],
             [
              0.1111111111111111,
              "#46039f"
             ],
             [
              0.2222222222222222,
              "#7201a8"
             ],
             [
              0.3333333333333333,
              "#9c179e"
             ],
             [
              0.4444444444444444,
              "#bd3786"
             ],
             [
              0.5555555555555556,
              "#d8576b"
             ],
             [
              0.6666666666666666,
              "#ed7953"
             ],
             [
              0.7777777777777778,
              "#fb9f3a"
             ],
             [
              0.8888888888888888,
              "#fdca26"
             ],
             [
              1,
              "#f0f921"
             ]
            ],
            "type": "histogram2d"
           }
          ],
          "histogram2dcontour": [
           {
            "colorbar": {
             "outlinewidth": 0,
             "ticks": ""
            },
            "colorscale": [
             [
              0,
              "#0d0887"
             ],
             [
              0.1111111111111111,
              "#46039f"
             ],
             [
              0.2222222222222222,
              "#7201a8"
             ],
             [
              0.3333333333333333,
              "#9c179e"
             ],
             [
              0.4444444444444444,
              "#bd3786"
             ],
             [
              0.5555555555555556,
              "#d8576b"
             ],
             [
              0.6666666666666666,
              "#ed7953"
             ],
             [
              0.7777777777777778,
              "#fb9f3a"
             ],
             [
              0.8888888888888888,
              "#fdca26"
             ],
             [
              1,
              "#f0f921"
             ]
            ],
            "type": "histogram2dcontour"
           }
          ],
          "mesh3d": [
           {
            "colorbar": {
             "outlinewidth": 0,
             "ticks": ""
            },
            "type": "mesh3d"
           }
          ],
          "parcoords": [
           {
            "line": {
             "colorbar": {
              "outlinewidth": 0,
              "ticks": ""
             }
            },
            "type": "parcoords"
           }
          ],
          "pie": [
           {
            "automargin": true,
            "type": "pie"
           }
          ],
          "scatter": [
           {
            "fillpattern": {
             "fillmode": "overlay",
             "size": 10,
             "solidity": 0.2
            },
            "type": "scatter"
           }
          ],
          "scatter3d": [
           {
            "line": {
             "colorbar": {
              "outlinewidth": 0,
              "ticks": ""
             }
            },
            "marker": {
             "colorbar": {
              "outlinewidth": 0,
              "ticks": ""
             }
            },
            "type": "scatter3d"
           }
          ],
          "scattercarpet": [
           {
            "marker": {
             "colorbar": {
              "outlinewidth": 0,
              "ticks": ""
             }
            },
            "type": "scattercarpet"
           }
          ],
          "scattergeo": [
           {
            "marker": {
             "colorbar": {
              "outlinewidth": 0,
              "ticks": ""
             }
            },
            "type": "scattergeo"
           }
          ],
          "scattergl": [
           {
            "marker": {
             "colorbar": {
              "outlinewidth": 0,
              "ticks": ""
             }
            },
            "type": "scattergl"
           }
          ],
          "scattermapbox": [
           {
            "marker": {
             "colorbar": {
              "outlinewidth": 0,
              "ticks": ""
             }
            },
            "type": "scattermapbox"
           }
          ],
          "scatterpolar": [
           {
            "marker": {
             "colorbar": {
              "outlinewidth": 0,
              "ticks": ""
             }
            },
            "type": "scatterpolar"
           }
          ],
          "scatterpolargl": [
           {
            "marker": {
             "colorbar": {
              "outlinewidth": 0,
              "ticks": ""
             }
            },
            "type": "scatterpolargl"
           }
          ],
          "scatterternary": [
           {
            "marker": {
             "colorbar": {
              "outlinewidth": 0,
              "ticks": ""
             }
            },
            "type": "scatterternary"
           }
          ],
          "surface": [
           {
            "colorbar": {
             "outlinewidth": 0,
             "ticks": ""
            },
            "colorscale": [
             [
              0,
              "#0d0887"
             ],
             [
              0.1111111111111111,
              "#46039f"
             ],
             [
              0.2222222222222222,
              "#7201a8"
             ],
             [
              0.3333333333333333,
              "#9c179e"
             ],
             [
              0.4444444444444444,
              "#bd3786"
             ],
             [
              0.5555555555555556,
              "#d8576b"
             ],
             [
              0.6666666666666666,
              "#ed7953"
             ],
             [
              0.7777777777777778,
              "#fb9f3a"
             ],
             [
              0.8888888888888888,
              "#fdca26"
             ],
             [
              1,
              "#f0f921"
             ]
            ],
            "type": "surface"
           }
          ],
          "table": [
           {
            "cells": {
             "fill": {
              "color": "#EBF0F8"
             },
             "line": {
              "color": "white"
             }
            },
            "header": {
             "fill": {
              "color": "#C8D4E3"
             },
             "line": {
              "color": "white"
             }
            },
            "type": "table"
           }
          ]
         },
         "layout": {
          "annotationdefaults": {
           "arrowcolor": "#2a3f5f",
           "arrowhead": 0,
           "arrowwidth": 1
          },
          "autotypenumbers": "strict",
          "coloraxis": {
           "colorbar": {
            "outlinewidth": 0,
            "ticks": ""
           }
          },
          "colorscale": {
           "diverging": [
            [
             0,
             "#8e0152"
            ],
            [
             0.1,
             "#c51b7d"
            ],
            [
             0.2,
             "#de77ae"
            ],
            [
             0.3,
             "#f1b6da"
            ],
            [
             0.4,
             "#fde0ef"
            ],
            [
             0.5,
             "#f7f7f7"
            ],
            [
             0.6,
             "#e6f5d0"
            ],
            [
             0.7,
             "#b8e186"
            ],
            [
             0.8,
             "#7fbc41"
            ],
            [
             0.9,
             "#4d9221"
            ],
            [
             1,
             "#276419"
            ]
           ],
           "sequential": [
            [
             0,
             "#0d0887"
            ],
            [
             0.1111111111111111,
             "#46039f"
            ],
            [
             0.2222222222222222,
             "#7201a8"
            ],
            [
             0.3333333333333333,
             "#9c179e"
            ],
            [
             0.4444444444444444,
             "#bd3786"
            ],
            [
             0.5555555555555556,
             "#d8576b"
            ],
            [
             0.6666666666666666,
             "#ed7953"
            ],
            [
             0.7777777777777778,
             "#fb9f3a"
            ],
            [
             0.8888888888888888,
             "#fdca26"
            ],
            [
             1,
             "#f0f921"
            ]
           ],
           "sequentialminus": [
            [
             0,
             "#0d0887"
            ],
            [
             0.1111111111111111,
             "#46039f"
            ],
            [
             0.2222222222222222,
             "#7201a8"
            ],
            [
             0.3333333333333333,
             "#9c179e"
            ],
            [
             0.4444444444444444,
             "#bd3786"
            ],
            [
             0.5555555555555556,
             "#d8576b"
            ],
            [
             0.6666666666666666,
             "#ed7953"
            ],
            [
             0.7777777777777778,
             "#fb9f3a"
            ],
            [
             0.8888888888888888,
             "#fdca26"
            ],
            [
             1,
             "#f0f921"
            ]
           ]
          },
          "colorway": [
           "#636efa",
           "#EF553B",
           "#00cc96",
           "#ab63fa",
           "#FFA15A",
           "#19d3f3",
           "#FF6692",
           "#B6E880",
           "#FF97FF",
           "#FECB52"
          ],
          "font": {
           "color": "#2a3f5f"
          },
          "geo": {
           "bgcolor": "white",
           "lakecolor": "white",
           "landcolor": "#E5ECF6",
           "showlakes": true,
           "showland": true,
           "subunitcolor": "white"
          },
          "hoverlabel": {
           "align": "left"
          },
          "hovermode": "closest",
          "mapbox": {
           "style": "light"
          },
          "paper_bgcolor": "white",
          "plot_bgcolor": "#E5ECF6",
          "polar": {
           "angularaxis": {
            "gridcolor": "white",
            "linecolor": "white",
            "ticks": ""
           },
           "bgcolor": "#E5ECF6",
           "radialaxis": {
            "gridcolor": "white",
            "linecolor": "white",
            "ticks": ""
           }
          },
          "scene": {
           "xaxis": {
            "backgroundcolor": "#E5ECF6",
            "gridcolor": "white",
            "gridwidth": 2,
            "linecolor": "white",
            "showbackground": true,
            "ticks": "",
            "zerolinecolor": "white"
           },
           "yaxis": {
            "backgroundcolor": "#E5ECF6",
            "gridcolor": "white",
            "gridwidth": 2,
            "linecolor": "white",
            "showbackground": true,
            "ticks": "",
            "zerolinecolor": "white"
           },
           "zaxis": {
            "backgroundcolor": "#E5ECF6",
            "gridcolor": "white",
            "gridwidth": 2,
            "linecolor": "white",
            "showbackground": true,
            "ticks": "",
            "zerolinecolor": "white"
           }
          },
          "shapedefaults": {
           "line": {
            "color": "#2a3f5f"
           }
          },
          "ternary": {
           "aaxis": {
            "gridcolor": "white",
            "linecolor": "white",
            "ticks": ""
           },
           "baxis": {
            "gridcolor": "white",
            "linecolor": "white",
            "ticks": ""
           },
           "bgcolor": "#E5ECF6",
           "caxis": {
            "gridcolor": "white",
            "linecolor": "white",
            "ticks": ""
           }
          },
          "title": {
           "x": 0.05
          },
          "xaxis": {
           "automargin": true,
           "gridcolor": "white",
           "linecolor": "white",
           "ticks": "",
           "title": {
            "standoff": 15
           },
           "zerolinecolor": "white",
           "zerolinewidth": 2
          },
          "yaxis": {
           "automargin": true,
           "gridcolor": "white",
           "linecolor": "white",
           "ticks": "",
           "title": {
            "standoff": 15
           },
           "zerolinecolor": "white",
           "zerolinewidth": 2
          }
         }
        },
        "title": {
         "text": "Изменение кол-ва иностранных студентов по группам стран с 2017 по 2022 г."
        },
        "width": 2600,
        "xaxis": {
         "anchor": "y",
         "domain": [
          0,
          0.45
         ],
         "tickangle": 45
        },
        "xaxis2": {
         "anchor": "y2",
         "domain": [
          0.55,
          1
         ],
         "tickangle": 45
        },
        "xaxis3": {
         "anchor": "y3",
         "domain": [
          0,
          0.45
         ],
         "tickangle": 45
        },
        "xaxis4": {
         "anchor": "y4",
         "domain": [
          0.55,
          1
         ],
         "tickangle": 45
        },
        "xaxis5": {
         "anchor": "y5",
         "domain": [
          0,
          0.45
         ],
         "tickangle": 45
        },
        "xaxis6": {
         "anchor": "y6",
         "domain": [
          0.55,
          1
         ],
         "tickangle": 45
        },
        "yaxis": {
         "anchor": "x",
         "domain": [
          0.7777777777777778,
          1
         ],
         "gridcolor": "lightgrey",
         "title": {
          "text": "Число студентов, тыс."
         }
        },
        "yaxis2": {
         "anchor": "x2",
         "domain": [
          0.7777777777777778,
          1
         ],
         "gridcolor": "lightgrey"
        },
        "yaxis3": {
         "anchor": "x3",
         "domain": [
          0.3888888888888889,
          0.6111111111111112
         ],
         "gridcolor": "lightgrey"
        },
        "yaxis4": {
         "anchor": "x4",
         "domain": [
          0.3888888888888889,
          0.6111111111111112
         ],
         "gridcolor": "lightgrey"
        },
        "yaxis5": {
         "anchor": "x5",
         "domain": [
          0,
          0.22222222222222224
         ],
         "gridcolor": "lightgrey"
        },
        "yaxis6": {
         "anchor": "x6",
         "domain": [
          0,
          0.22222222222222224
         ],
         "gridcolor": "lightgrey"
        }
       }
      }
     },
     "metadata": {},
     "output_type": "display_data"
    }
   ],
   "source": [
    "n_cols = 2  # Number of columns in subplot grid\n",
    "# unique_groups  = diff['group'].unique()\n",
    "unique_groups = ['Больше 200 тыс.','100-200 тыс.', '50-100 тыс.', '20-50 тыс.','5-20 тыс.']\n",
    "num_plots = len(unique_groups)\n",
    "num_cols = 2  # Maximum of 2 columns\n",
    "num_rows = (num_plots + num_cols - 1) // num_cols  # Calculate the number of rows\n",
    "fig = make_subplots(rows=num_rows, cols=num_cols, subplot_titles=unique_groups)\n",
    "diff = diff.sort_values(by=[2022],ascending=False)\n",
    "for i, group in enumerate(unique_groups):\n",
    "    filtered_df = diff[diff['group'] == group]\n",
    "    row_index = i // n_cols + 1\n",
    "    col_index = i % n_cols + 1\n",
    "    \n",
    "    trace1 = go.Bar(x=filtered_df.index,\n",
    "        y=filtered_df[2017],\n",
    "        name=f'2017 - Group {group}',\n",
    "        text=[f\"{value/1000:.1f}k\" if value < 1000 else f\"{int(value/1000)}k\" for value in filtered_df[2017]],  # Value labels in thousands\n",
    "        textposition='auto',\n",
    "        textfont=dict(size=12),\n",
    "        marker_color='brown',\n",
    "        marker_line=dict(width=3, color=['black' if country == 'RUS' else 'brown' for country in filtered_df.country_id]) \n",
    "        )\n",
    "    trace2 = go.Bar(x=filtered_df.index,\n",
    "        y=filtered_df[2022],\n",
    "        name=f'2022 - Group {group}',\n",
    "        text=[f\"{value/1000:.1f}k<br>({filtered_df['2022/2017,%'].values[j]}%)\" if value < 1000 else f\"{int(value/1000)}k<br>({filtered_df['2022/2017,%'].values[j]}%)\" for j, value in enumerate(filtered_df[2022])],  # Value labels in thousands\n",
    "        textposition='auto',\n",
    "        textfont=dict(size=12),\n",
    "        marker_color='orange',\n",
    "        marker_line=dict(width=3, color=['black' if country == 'RUS' else 'orange' for country in filtered_df.country_id]) \n",
    "        )\n",
    "    \n",
    "    fig.add_trace(trace1, row=row_index, col=col_index)\n",
    "    fig.add_trace(trace2, row=row_index, col=col_index)\n",
    "        \n",
    "fig.update_layout(\n",
    "title='Изменение кол-ва иностранных студентов по группам стран с 2017 по 2022 г.',\n",
    "# xaxis_title='Country',\n",
    "yaxis_title='Число студентов, тыс.',\n",
    "barmode='group',  # Group bars together\n",
    "height=1600,\n",
    "width=2600,\n",
    "plot_bgcolor='white'\n",
    ")\n",
    "for i in range(1, num_rows + 1):\n",
    "    for j in range(1, num_cols + 1):\n",
    "        fig.update_xaxes(tickangle=45, row=i, col=j)\n",
    "        fig.update_yaxes(gridcolor='lightgrey', row=i, col=j)\n",
    "pio.write_image(fig, \"Изменение кол-ва иностранных студентов по группам стран с 2017 по 2022 г.png\")\n",
    "fig.show()"
   ]
  },
  {
   "cell_type": "markdown",
   "metadata": {},
   "source": [
    "<h4>Внутри ЦА и России</h4>"
   ]
  },
  {
   "cell_type": "code",
   "execution_count": null,
   "metadata": {},
   "outputs": [],
   "source": [
    "diff = total_from_to[total_from_to['year'].isin([2017,2022])].pivot(index=['indicator_id','country_id','from','to'], columns='year', values='value').reset_index()\n",
    "diff.loc[((diff['country_id']=='KAZ') & (diff['from']=='Uzbekistan')),2022]=9571\n",
    "diff = diff[diff[2022]>20000]\n",
    "diff"
   ]
  },
  {
   "cell_type": "code",
   "execution_count": 294,
   "metadata": {},
   "outputs": [
    {
     "data": {
      "text/html": [
       "<div>\n",
       "<style scoped>\n",
       "    .dataframe tbody tr th:only-of-type {\n",
       "        vertical-align: middle;\n",
       "    }\n",
       "\n",
       "    .dataframe tbody tr th {\n",
       "        vertical-align: top;\n",
       "    }\n",
       "\n",
       "    .dataframe thead th {\n",
       "        text-align: right;\n",
       "    }\n",
       "</style>\n",
       "<table border=\"1\" class=\"dataframe\">\n",
       "  <thead>\n",
       "    <tr style=\"text-align: right;\">\n",
       "      <th>year</th>\n",
       "      <th>indicator_id</th>\n",
       "      <th>country_id</th>\n",
       "      <th>from</th>\n",
       "      <th>to</th>\n",
       "      <th>2017</th>\n",
       "      <th>2022</th>\n",
       "      <th>source</th>\n",
       "      <th>target</th>\n",
       "    </tr>\n",
       "  </thead>\n",
       "  <tbody>\n",
       "    <tr>\n",
       "      <th>39</th>\n",
       "      <td>26421</td>\n",
       "      <td>FRA</td>\n",
       "      <td>Algeria</td>\n",
       "      <td>France</td>\n",
       "      <td>20491.000000</td>\n",
       "      <td>24315.109375</td>\n",
       "      <td>14</td>\n",
       "      <td>31</td>\n",
       "    </tr>\n",
       "    <tr>\n",
       "      <th>3979</th>\n",
       "      <td>26454</td>\n",
       "      <td>FRA</td>\n",
       "      <td>Morocco</td>\n",
       "      <td>France</td>\n",
       "      <td>29733.000000</td>\n",
       "      <td>35909.367188</td>\n",
       "      <td>34</td>\n",
       "      <td>31</td>\n",
       "    </tr>\n",
       "    <tr>\n",
       "      <th>4458</th>\n",
       "      <td>26458</td>\n",
       "      <td>GBR</td>\n",
       "      <td>Nigeria</td>\n",
       "      <td>United Kingdom of Great Britain and Northern I...</td>\n",
       "      <td>12642.000000</td>\n",
       "      <td>44076.000000</td>\n",
       "      <td>10</td>\n",
       "      <td>4</td>\n",
       "    </tr>\n",
       "    <tr>\n",
       "      <th>9345</th>\n",
       "      <td>26503</td>\n",
       "      <td>GBR</td>\n",
       "      <td>United States</td>\n",
       "      <td>United Kingdom of Great Britain and Northern I...</td>\n",
       "      <td>16178.000000</td>\n",
       "      <td>22031.000000</td>\n",
       "      <td>12</td>\n",
       "      <td>4</td>\n",
       "    </tr>\n",
       "    <tr>\n",
       "      <th>9666</th>\n",
       "      <td>26508</td>\n",
       "      <td>ARG</td>\n",
       "      <td>Brazil</td>\n",
       "      <td>Argentina</td>\n",
       "      <td>12789.000000</td>\n",
       "      <td>24571.000000</td>\n",
       "      <td>7</td>\n",
       "      <td>3</td>\n",
       "    </tr>\n",
       "    <tr>\n",
       "      <th>11203</th>\n",
       "      <td>26522</td>\n",
       "      <td>TUR</td>\n",
       "      <td>Azerbaijan</td>\n",
       "      <td>Turkey</td>\n",
       "      <td>14878.000000</td>\n",
       "      <td>28616.000000</td>\n",
       "      <td>18</td>\n",
       "      <td>13</td>\n",
       "    </tr>\n",
       "    <tr>\n",
       "      <th>11814</th>\n",
       "      <td>26528</td>\n",
       "      <td>AUS</td>\n",
       "      <td>China</td>\n",
       "      <td>Australia</td>\n",
       "      <td>128498.000000</td>\n",
       "      <td>87899.000000</td>\n",
       "      <td>28</td>\n",
       "      <td>5</td>\n",
       "    </tr>\n",
       "    <tr>\n",
       "      <th>11830</th>\n",
       "      <td>26528</td>\n",
       "      <td>CAN</td>\n",
       "      <td>China</td>\n",
       "      <td>Canada</td>\n",
       "      <td>66161.000000</td>\n",
       "      <td>73032.000000</td>\n",
       "      <td>28</td>\n",
       "      <td>11</td>\n",
       "    </tr>\n",
       "    <tr>\n",
       "      <th>11842</th>\n",
       "      <td>26528</td>\n",
       "      <td>DEU</td>\n",
       "      <td>China</td>\n",
       "      <td>Germany</td>\n",
       "      <td>27765.000000</td>\n",
       "      <td>38486.000000</td>\n",
       "      <td>28</td>\n",
       "      <td>20</td>\n",
       "    </tr>\n",
       "    <tr>\n",
       "      <th>11849</th>\n",
       "      <td>26528</td>\n",
       "      <td>FRA</td>\n",
       "      <td>China</td>\n",
       "      <td>France</td>\n",
       "      <td>24788.000000</td>\n",
       "      <td>23260.910156</td>\n",
       "      <td>28</td>\n",
       "      <td>31</td>\n",
       "    </tr>\n",
       "    <tr>\n",
       "      <th>11850</th>\n",
       "      <td>26528</td>\n",
       "      <td>GBR</td>\n",
       "      <td>China</td>\n",
       "      <td>United Kingdom of Great Britain and Northern I...</td>\n",
       "      <td>96543.000000</td>\n",
       "      <td>154630.000000</td>\n",
       "      <td>28</td>\n",
       "      <td>4</td>\n",
       "    </tr>\n",
       "    <tr>\n",
       "      <th>11856</th>\n",
       "      <td>26528</td>\n",
       "      <td>HKG</td>\n",
       "      <td>China</td>\n",
       "      <td>China, Hong Kong Special Administrative Region</td>\n",
       "      <td>28736.765625</td>\n",
       "      <td>46662.000000</td>\n",
       "      <td>28</td>\n",
       "      <td>25</td>\n",
       "    </tr>\n",
       "    <tr>\n",
       "      <th>11870</th>\n",
       "      <td>26528</td>\n",
       "      <td>KOR</td>\n",
       "      <td>China</td>\n",
       "      <td>Republic of Korea</td>\n",
       "      <td>44163.000000</td>\n",
       "      <td>60087.000000</td>\n",
       "      <td>28</td>\n",
       "      <td>21</td>\n",
       "    </tr>\n",
       "    <tr>\n",
       "      <th>11879</th>\n",
       "      <td>26528</td>\n",
       "      <td>MAC</td>\n",
       "      <td>China</td>\n",
       "      <td>China, Macao Special Administrative Region</td>\n",
       "      <td>14013.000000</td>\n",
       "      <td>27219.000000</td>\n",
       "      <td>28</td>\n",
       "      <td>16</td>\n",
       "    </tr>\n",
       "    <tr>\n",
       "      <th>11891</th>\n",
       "      <td>26528</td>\n",
       "      <td>MYS</td>\n",
       "      <td>China</td>\n",
       "      <td>Malaysia</td>\n",
       "      <td>10880.000000</td>\n",
       "      <td>38714.000000</td>\n",
       "      <td>28</td>\n",
       "      <td>6</td>\n",
       "    </tr>\n",
       "    <tr>\n",
       "      <th>11904</th>\n",
       "      <td>26528</td>\n",
       "      <td>RUS</td>\n",
       "      <td>China</td>\n",
       "      <td>Russian Federation</td>\n",
       "      <td>11950.000000</td>\n",
       "      <td>40797.000000</td>\n",
       "      <td>28</td>\n",
       "      <td>15</td>\n",
       "    </tr>\n",
       "    <tr>\n",
       "      <th>12409</th>\n",
       "      <td>26533</td>\n",
       "      <td>AUS</td>\n",
       "      <td>India</td>\n",
       "      <td>Australia</td>\n",
       "      <td>51976.000000</td>\n",
       "      <td>69235.000000</td>\n",
       "      <td>2</td>\n",
       "      <td>5</td>\n",
       "    </tr>\n",
       "    <tr>\n",
       "      <th>12425</th>\n",
       "      <td>26533</td>\n",
       "      <td>CAN</td>\n",
       "      <td>India</td>\n",
       "      <td>Canada</td>\n",
       "      <td>32616.000000</td>\n",
       "      <td>104937.000000</td>\n",
       "      <td>2</td>\n",
       "      <td>11</td>\n",
       "    </tr>\n",
       "    <tr>\n",
       "      <th>12436</th>\n",
       "      <td>26533</td>\n",
       "      <td>DEU</td>\n",
       "      <td>India</td>\n",
       "      <td>Germany</td>\n",
       "      <td>13387.000000</td>\n",
       "      <td>34027.000000</td>\n",
       "      <td>2</td>\n",
       "      <td>20</td>\n",
       "    </tr>\n",
       "    <tr>\n",
       "      <th>12444</th>\n",
       "      <td>26533</td>\n",
       "      <td>GBR</td>\n",
       "      <td>India</td>\n",
       "      <td>United Kingdom of Great Britain and Northern I...</td>\n",
       "      <td>16421.000000</td>\n",
       "      <td>126090.000000</td>\n",
       "      <td>2</td>\n",
       "      <td>4</td>\n",
       "    </tr>\n",
       "    <tr>\n",
       "      <th>13333</th>\n",
       "      <td>26540</td>\n",
       "      <td>RUS</td>\n",
       "      <td>Kazakhstan</td>\n",
       "      <td>Russian Federation</td>\n",
       "      <td>65237.000000</td>\n",
       "      <td>53935.000000</td>\n",
       "      <td>29</td>\n",
       "      <td>15</td>\n",
       "    </tr>\n",
       "    <tr>\n",
       "      <th>14672</th>\n",
       "      <td>26552</td>\n",
       "      <td>AUS</td>\n",
       "      <td>Nepal</td>\n",
       "      <td>Australia</td>\n",
       "      <td>21065.000000</td>\n",
       "      <td>38715.000000</td>\n",
       "      <td>8</td>\n",
       "      <td>5</td>\n",
       "    </tr>\n",
       "    <tr>\n",
       "      <th>14946</th>\n",
       "      <td>26554</td>\n",
       "      <td>GBR</td>\n",
       "      <td>Pakistan</td>\n",
       "      <td>United Kingdom of Great Britain and Northern I...</td>\n",
       "      <td>5228.000000</td>\n",
       "      <td>23016.000000</td>\n",
       "      <td>17</td>\n",
       "      <td>4</td>\n",
       "    </tr>\n",
       "    <tr>\n",
       "      <th>15854</th>\n",
       "      <td>26561</td>\n",
       "      <td>TUR</td>\n",
       "      <td>Syrian Arab Republic</td>\n",
       "      <td>Turkey</td>\n",
       "      <td>15042.000000</td>\n",
       "      <td>52367.000000</td>\n",
       "      <td>33</td>\n",
       "      <td>13</td>\n",
       "    </tr>\n",
       "    <tr>\n",
       "      <th>15957</th>\n",
       "      <td>26562</td>\n",
       "      <td>RUS</td>\n",
       "      <td>Tajikistan</td>\n",
       "      <td>Russian Federation</td>\n",
       "      <td>14204.000000</td>\n",
       "      <td>27086.000000</td>\n",
       "      <td>1</td>\n",
       "      <td>15</td>\n",
       "    </tr>\n",
       "    <tr>\n",
       "      <th>16315</th>\n",
       "      <td>26565</td>\n",
       "      <td>RUS</td>\n",
       "      <td>Turkmenistan</td>\n",
       "      <td>Russian Federation</td>\n",
       "      <td>17457.000000</td>\n",
       "      <td>27095.000000</td>\n",
       "      <td>9</td>\n",
       "      <td>15</td>\n",
       "    </tr>\n",
       "    <tr>\n",
       "      <th>16518</th>\n",
       "      <td>26567</td>\n",
       "      <td>KGZ</td>\n",
       "      <td>Uzbekistan</td>\n",
       "      <td>Kyrgyzstan</td>\n",
       "      <td>568.000000</td>\n",
       "      <td>51605.000000</td>\n",
       "      <td>30</td>\n",
       "      <td>32</td>\n",
       "    </tr>\n",
       "    <tr>\n",
       "      <th>16553</th>\n",
       "      <td>26567</td>\n",
       "      <td>RUS</td>\n",
       "      <td>Uzbekistan</td>\n",
       "      <td>Russian Federation</td>\n",
       "      <td>20862.000000</td>\n",
       "      <td>48430.000000</td>\n",
       "      <td>30</td>\n",
       "      <td>15</td>\n",
       "    </tr>\n",
       "    <tr>\n",
       "      <th>16634</th>\n",
       "      <td>26568</td>\n",
       "      <td>JPN</td>\n",
       "      <td>Viet Nam</td>\n",
       "      <td>Japan</td>\n",
       "      <td>26768.000000</td>\n",
       "      <td>38514.000000</td>\n",
       "      <td>23</td>\n",
       "      <td>19</td>\n",
       "    </tr>\n",
       "    <tr>\n",
       "      <th>16638</th>\n",
       "      <td>26568</td>\n",
       "      <td>KOR</td>\n",
       "      <td>Viet Nam</td>\n",
       "      <td>Republic of Korea</td>\n",
       "      <td>4656.000000</td>\n",
       "      <td>26839.000000</td>\n",
       "      <td>23</td>\n",
       "      <td>21</td>\n",
       "    </tr>\n",
       "    <tr>\n",
       "      <th>18368</th>\n",
       "      <td>26585</td>\n",
       "      <td>AUT</td>\n",
       "      <td>Germany</td>\n",
       "      <td>Austria</td>\n",
       "      <td>28473.830078</td>\n",
       "      <td>36430.199219</td>\n",
       "      <td>20</td>\n",
       "      <td>22</td>\n",
       "    </tr>\n",
       "    <tr>\n",
       "      <th>20891</th>\n",
       "      <td>26606</td>\n",
       "      <td>CZE</td>\n",
       "      <td>Slovakia</td>\n",
       "      <td>Czechia</td>\n",
       "      <td>22478.000000</td>\n",
       "      <td>21466.000000</td>\n",
       "      <td>24</td>\n",
       "      <td>0</td>\n",
       "    </tr>\n",
       "    <tr>\n",
       "      <th>21664</th>\n",
       "      <td>26612</td>\n",
       "      <td>POL</td>\n",
       "      <td>Ukraine</td>\n",
       "      <td>Poland</td>\n",
       "      <td>34692.000000</td>\n",
       "      <td>33067.000000</td>\n",
       "      <td>27</td>\n",
       "      <td>26</td>\n",
       "    </tr>\n",
       "  </tbody>\n",
       "</table>\n",
       "</div>"
      ],
      "text/plain": [
       "year   indicator_id country_id                  from  \\\n",
       "39            26421        FRA               Algeria   \n",
       "3979          26454        FRA               Morocco   \n",
       "4458          26458        GBR               Nigeria   \n",
       "9345          26503        GBR         United States   \n",
       "9666          26508        ARG                Brazil   \n",
       "11203         26522        TUR            Azerbaijan   \n",
       "11814         26528        AUS                 China   \n",
       "11830         26528        CAN                 China   \n",
       "11842         26528        DEU                 China   \n",
       "11849         26528        FRA                 China   \n",
       "11850         26528        GBR                 China   \n",
       "11856         26528        HKG                 China   \n",
       "11870         26528        KOR                 China   \n",
       "11879         26528        MAC                 China   \n",
       "11891         26528        MYS                 China   \n",
       "11904         26528        RUS                 China   \n",
       "12409         26533        AUS                 India   \n",
       "12425         26533        CAN                 India   \n",
       "12436         26533        DEU                 India   \n",
       "12444         26533        GBR                 India   \n",
       "13333         26540        RUS            Kazakhstan   \n",
       "14672         26552        AUS                 Nepal   \n",
       "14946         26554        GBR              Pakistan   \n",
       "15854         26561        TUR  Syrian Arab Republic   \n",
       "15957         26562        RUS            Tajikistan   \n",
       "16315         26565        RUS          Turkmenistan   \n",
       "16518         26567        KGZ            Uzbekistan   \n",
       "16553         26567        RUS            Uzbekistan   \n",
       "16634         26568        JPN              Viet Nam   \n",
       "16638         26568        KOR              Viet Nam   \n",
       "18368         26585        AUT               Germany   \n",
       "20891         26606        CZE              Slovakia   \n",
       "21664         26612        POL               Ukraine   \n",
       "\n",
       "year                                                  to           2017  \\\n",
       "39                                                France   20491.000000   \n",
       "3979                                              France   29733.000000   \n",
       "4458   United Kingdom of Great Britain and Northern I...   12642.000000   \n",
       "9345   United Kingdom of Great Britain and Northern I...   16178.000000   \n",
       "9666                                           Argentina   12789.000000   \n",
       "11203                                             Turkey   14878.000000   \n",
       "11814                                          Australia  128498.000000   \n",
       "11830                                             Canada   66161.000000   \n",
       "11842                                            Germany   27765.000000   \n",
       "11849                                             France   24788.000000   \n",
       "11850  United Kingdom of Great Britain and Northern I...   96543.000000   \n",
       "11856     China, Hong Kong Special Administrative Region   28736.765625   \n",
       "11870                                  Republic of Korea   44163.000000   \n",
       "11879         China, Macao Special Administrative Region   14013.000000   \n",
       "11891                                           Malaysia   10880.000000   \n",
       "11904                                 Russian Federation   11950.000000   \n",
       "12409                                          Australia   51976.000000   \n",
       "12425                                             Canada   32616.000000   \n",
       "12436                                            Germany   13387.000000   \n",
       "12444  United Kingdom of Great Britain and Northern I...   16421.000000   \n",
       "13333                                 Russian Federation   65237.000000   \n",
       "14672                                          Australia   21065.000000   \n",
       "14946  United Kingdom of Great Britain and Northern I...    5228.000000   \n",
       "15854                                             Turkey   15042.000000   \n",
       "15957                                 Russian Federation   14204.000000   \n",
       "16315                                 Russian Federation   17457.000000   \n",
       "16518                                         Kyrgyzstan     568.000000   \n",
       "16553                                 Russian Federation   20862.000000   \n",
       "16634                                              Japan   26768.000000   \n",
       "16638                                  Republic of Korea    4656.000000   \n",
       "18368                                            Austria   28473.830078   \n",
       "20891                                            Czechia   22478.000000   \n",
       "21664                                             Poland   34692.000000   \n",
       "\n",
       "year            2022  source  target  \n",
       "39      24315.109375      14      31  \n",
       "3979    35909.367188      34      31  \n",
       "4458    44076.000000      10       4  \n",
       "9345    22031.000000      12       4  \n",
       "9666    24571.000000       7       3  \n",
       "11203   28616.000000      18      13  \n",
       "11814   87899.000000      28       5  \n",
       "11830   73032.000000      28      11  \n",
       "11842   38486.000000      28      20  \n",
       "11849   23260.910156      28      31  \n",
       "11850  154630.000000      28       4  \n",
       "11856   46662.000000      28      25  \n",
       "11870   60087.000000      28      21  \n",
       "11879   27219.000000      28      16  \n",
       "11891   38714.000000      28       6  \n",
       "11904   40797.000000      28      15  \n",
       "12409   69235.000000       2       5  \n",
       "12425  104937.000000       2      11  \n",
       "12436   34027.000000       2      20  \n",
       "12444  126090.000000       2       4  \n",
       "13333   53935.000000      29      15  \n",
       "14672   38715.000000       8       5  \n",
       "14946   23016.000000      17       4  \n",
       "15854   52367.000000      33      13  \n",
       "15957   27086.000000       1      15  \n",
       "16315   27095.000000       9      15  \n",
       "16518   51605.000000      30      32  \n",
       "16553   48430.000000      30      15  \n",
       "16634   38514.000000      23      19  \n",
       "16638   26839.000000      23      21  \n",
       "18368   36430.199219      20      22  \n",
       "20891   21466.000000      24       0  \n",
       "21664   33067.000000      27      26  "
      ]
     },
     "execution_count": 294,
     "metadata": {},
     "output_type": "execute_result"
    }
   ],
   "source": [
    "unique_labels = list(set(diff['from']).union(set(diff['to'])))\n",
    "label_to_index = {label: index for index, label in enumerate(unique_labels)}\n",
    "diff['source'] = diff['from'].map(label_to_index)\n",
    "diff['target'] = diff['to'].map(label_to_index)\n",
    "diff"
   ]
  },
  {
   "cell_type": "code",
   "execution_count": null,
   "metadata": {},
   "outputs": [
    {
     "data": {
      "application/vnd.plotly.v1+json": {
       "config": {
        "plotlyServerURL": "https://plot.ly"
       },
       "data": [
        {
         "link": {
          "source": [
           14,
           34,
           10,
           12,
           7,
           18,
           28,
           28,
           28,
           28,
           28,
           28,
           28,
           28,
           28,
           28,
           2,
           2,
           2,
           2,
           29,
           8,
           17,
           33,
           1,
           9,
           30,
           30,
           23,
           23,
           20,
           24,
           27
          ],
          "target": [
           31,
           31,
           4,
           4,
           3,
           13,
           5,
           11,
           20,
           31,
           4,
           25,
           21,
           16,
           6,
           15,
           5,
           11,
           20,
           4,
           15,
           5,
           4,
           13,
           15,
           15,
           32,
           15,
           19,
           21,
           22,
           0,
           26
          ],
          "value": [
           24315.109375,
           35909.3671875,
           44076,
           22031,
           24571,
           28616,
           87899,
           73032,
           38486,
           23260.91015625,
           154630,
           46662,
           60087,
           27219,
           38714,
           40797,
           69235,
           104937,
           34027,
           126090,
           53935,
           38715,
           23016,
           52367,
           27086,
           27095,
           51605,
           48430,
           38514,
           26839,
           36430.19921875,
           21466,
           33067
          ]
         },
         "node": {
          "color": "blue",
          "label": [
           "Czechia",
           "Tajikistan",
           "India",
           "Argentina",
           "United Kingdom of Great Britain and Northern Ireland",
           "Australia",
           "Malaysia",
           "Brazil",
           "Nepal",
           "Turkmenistan",
           "Nigeria",
           "Canada",
           "United States",
           "Turkey",
           "Algeria",
           "Russian Federation",
           "China, Macao Special Administrative Region",
           "Pakistan",
           "Azerbaijan",
           "Japan",
           "Germany",
           "Republic of Korea",
           "Austria",
           "Viet Nam",
           "Slovakia",
           "China, Hong Kong Special Administrative Region",
           "Poland",
           "Ukraine",
           "China",
           "Kazakhstan",
           "Uzbekistan",
           "France",
           "Kyrgyzstan",
           "Syrian Arab Republic",
           "Morocco"
          ],
          "line": {
           "color": "black",
           "width": 0.5
          },
          "pad": 15,
          "thickness": 20
         },
         "type": "sankey"
        }
       ],
       "layout": {
        "font": {
         "size": 10
        },
        "height": 1200,
        "plot_bgcolor": "white",
        "template": {
         "data": {
          "bar": [
           {
            "error_x": {
             "color": "#2a3f5f"
            },
            "error_y": {
             "color": "#2a3f5f"
            },
            "marker": {
             "line": {
              "color": "#E5ECF6",
              "width": 0.5
             },
             "pattern": {
              "fillmode": "overlay",
              "size": 10,
              "solidity": 0.2
             }
            },
            "type": "bar"
           }
          ],
          "barpolar": [
           {
            "marker": {
             "line": {
              "color": "#E5ECF6",
              "width": 0.5
             },
             "pattern": {
              "fillmode": "overlay",
              "size": 10,
              "solidity": 0.2
             }
            },
            "type": "barpolar"
           }
          ],
          "carpet": [
           {
            "aaxis": {
             "endlinecolor": "#2a3f5f",
             "gridcolor": "white",
             "linecolor": "white",
             "minorgridcolor": "white",
             "startlinecolor": "#2a3f5f"
            },
            "baxis": {
             "endlinecolor": "#2a3f5f",
             "gridcolor": "white",
             "linecolor": "white",
             "minorgridcolor": "white",
             "startlinecolor": "#2a3f5f"
            },
            "type": "carpet"
           }
          ],
          "choropleth": [
           {
            "colorbar": {
             "outlinewidth": 0,
             "ticks": ""
            },
            "type": "choropleth"
           }
          ],
          "contour": [
           {
            "colorbar": {
             "outlinewidth": 0,
             "ticks": ""
            },
            "colorscale": [
             [
              0,
              "#0d0887"
             ],
             [
              0.1111111111111111,
              "#46039f"
             ],
             [
              0.2222222222222222,
              "#7201a8"
             ],
             [
              0.3333333333333333,
              "#9c179e"
             ],
             [
              0.4444444444444444,
              "#bd3786"
             ],
             [
              0.5555555555555556,
              "#d8576b"
             ],
             [
              0.6666666666666666,
              "#ed7953"
             ],
             [
              0.7777777777777778,
              "#fb9f3a"
             ],
             [
              0.8888888888888888,
              "#fdca26"
             ],
             [
              1,
              "#f0f921"
             ]
            ],
            "type": "contour"
           }
          ],
          "contourcarpet": [
           {
            "colorbar": {
             "outlinewidth": 0,
             "ticks": ""
            },
            "type": "contourcarpet"
           }
          ],
          "heatmap": [
           {
            "colorbar": {
             "outlinewidth": 0,
             "ticks": ""
            },
            "colorscale": [
             [
              0,
              "#0d0887"
             ],
             [
              0.1111111111111111,
              "#46039f"
             ],
             [
              0.2222222222222222,
              "#7201a8"
             ],
             [
              0.3333333333333333,
              "#9c179e"
             ],
             [
              0.4444444444444444,
              "#bd3786"
             ],
             [
              0.5555555555555556,
              "#d8576b"
             ],
             [
              0.6666666666666666,
              "#ed7953"
             ],
             [
              0.7777777777777778,
              "#fb9f3a"
             ],
             [
              0.8888888888888888,
              "#fdca26"
             ],
             [
              1,
              "#f0f921"
             ]
            ],
            "type": "heatmap"
           }
          ],
          "heatmapgl": [
           {
            "colorbar": {
             "outlinewidth": 0,
             "ticks": ""
            },
            "colorscale": [
             [
              0,
              "#0d0887"
             ],
             [
              0.1111111111111111,
              "#46039f"
             ],
             [
              0.2222222222222222,
              "#7201a8"
             ],
             [
              0.3333333333333333,
              "#9c179e"
             ],
             [
              0.4444444444444444,
              "#bd3786"
             ],
             [
              0.5555555555555556,
              "#d8576b"
             ],
             [
              0.6666666666666666,
              "#ed7953"
             ],
             [
              0.7777777777777778,
              "#fb9f3a"
             ],
             [
              0.8888888888888888,
              "#fdca26"
             ],
             [
              1,
              "#f0f921"
             ]
            ],
            "type": "heatmapgl"
           }
          ],
          "histogram": [
           {
            "marker": {
             "pattern": {
              "fillmode": "overlay",
              "size": 10,
              "solidity": 0.2
             }
            },
            "type": "histogram"
           }
          ],
          "histogram2d": [
           {
            "colorbar": {
             "outlinewidth": 0,
             "ticks": ""
            },
            "colorscale": [
             [
              0,
              "#0d0887"
             ],
             [
              0.1111111111111111,
              "#46039f"
             ],
             [
              0.2222222222222222,
              "#7201a8"
             ],
             [
              0.3333333333333333,
              "#9c179e"
             ],
             [
              0.4444444444444444,
              "#bd3786"
             ],
             [
              0.5555555555555556,
              "#d8576b"
             ],
             [
              0.6666666666666666,
              "#ed7953"
             ],
             [
              0.7777777777777778,
              "#fb9f3a"
             ],
             [
              0.8888888888888888,
              "#fdca26"
             ],
             [
              1,
              "#f0f921"
             ]
            ],
            "type": "histogram2d"
           }
          ],
          "histogram2dcontour": [
           {
            "colorbar": {
             "outlinewidth": 0,
             "ticks": ""
            },
            "colorscale": [
             [
              0,
              "#0d0887"
             ],
             [
              0.1111111111111111,
              "#46039f"
             ],
             [
              0.2222222222222222,
              "#7201a8"
             ],
             [
              0.3333333333333333,
              "#9c179e"
             ],
             [
              0.4444444444444444,
              "#bd3786"
             ],
             [
              0.5555555555555556,
              "#d8576b"
             ],
             [
              0.6666666666666666,
              "#ed7953"
             ],
             [
              0.7777777777777778,
              "#fb9f3a"
             ],
             [
              0.8888888888888888,
              "#fdca26"
             ],
             [
              1,
              "#f0f921"
             ]
            ],
            "type": "histogram2dcontour"
           }
          ],
          "mesh3d": [
           {
            "colorbar": {
             "outlinewidth": 0,
             "ticks": ""
            },
            "type": "mesh3d"
           }
          ],
          "parcoords": [
           {
            "line": {
             "colorbar": {
              "outlinewidth": 0,
              "ticks": ""
             }
            },
            "type": "parcoords"
           }
          ],
          "pie": [
           {
            "automargin": true,
            "type": "pie"
           }
          ],
          "scatter": [
           {
            "fillpattern": {
             "fillmode": "overlay",
             "size": 10,
             "solidity": 0.2
            },
            "type": "scatter"
           }
          ],
          "scatter3d": [
           {
            "line": {
             "colorbar": {
              "outlinewidth": 0,
              "ticks": ""
             }
            },
            "marker": {
             "colorbar": {
              "outlinewidth": 0,
              "ticks": ""
             }
            },
            "type": "scatter3d"
           }
          ],
          "scattercarpet": [
           {
            "marker": {
             "colorbar": {
              "outlinewidth": 0,
              "ticks": ""
             }
            },
            "type": "scattercarpet"
           }
          ],
          "scattergeo": [
           {
            "marker": {
             "colorbar": {
              "outlinewidth": 0,
              "ticks": ""
             }
            },
            "type": "scattergeo"
           }
          ],
          "scattergl": [
           {
            "marker": {
             "colorbar": {
              "outlinewidth": 0,
              "ticks": ""
             }
            },
            "type": "scattergl"
           }
          ],
          "scattermapbox": [
           {
            "marker": {
             "colorbar": {
              "outlinewidth": 0,
              "ticks": ""
             }
            },
            "type": "scattermapbox"
           }
          ],
          "scatterpolar": [
           {
            "marker": {
             "colorbar": {
              "outlinewidth": 0,
              "ticks": ""
             }
            },
            "type": "scatterpolar"
           }
          ],
          "scatterpolargl": [
           {
            "marker": {
             "colorbar": {
              "outlinewidth": 0,
              "ticks": ""
             }
            },
            "type": "scatterpolargl"
           }
          ],
          "scatterternary": [
           {
            "marker": {
             "colorbar": {
              "outlinewidth": 0,
              "ticks": ""
             }
            },
            "type": "scatterternary"
           }
          ],
          "surface": [
           {
            "colorbar": {
             "outlinewidth": 0,
             "ticks": ""
            },
            "colorscale": [
             [
              0,
              "#0d0887"
             ],
             [
              0.1111111111111111,
              "#46039f"
             ],
             [
              0.2222222222222222,
              "#7201a8"
             ],
             [
              0.3333333333333333,
              "#9c179e"
             ],
             [
              0.4444444444444444,
              "#bd3786"
             ],
             [
              0.5555555555555556,
              "#d8576b"
             ],
             [
              0.6666666666666666,
              "#ed7953"
             ],
             [
              0.7777777777777778,
              "#fb9f3a"
             ],
             [
              0.8888888888888888,
              "#fdca26"
             ],
             [
              1,
              "#f0f921"
             ]
            ],
            "type": "surface"
           }
          ],
          "table": [
           {
            "cells": {
             "fill": {
              "color": "#EBF0F8"
             },
             "line": {
              "color": "white"
             }
            },
            "header": {
             "fill": {
              "color": "#C8D4E3"
             },
             "line": {
              "color": "white"
             }
            },
            "type": "table"
           }
          ]
         },
         "layout": {
          "annotationdefaults": {
           "arrowcolor": "#2a3f5f",
           "arrowhead": 0,
           "arrowwidth": 1
          },
          "autotypenumbers": "strict",
          "coloraxis": {
           "colorbar": {
            "outlinewidth": 0,
            "ticks": ""
           }
          },
          "colorscale": {
           "diverging": [
            [
             0,
             "#8e0152"
            ],
            [
             0.1,
             "#c51b7d"
            ],
            [
             0.2,
             "#de77ae"
            ],
            [
             0.3,
             "#f1b6da"
            ],
            [
             0.4,
             "#fde0ef"
            ],
            [
             0.5,
             "#f7f7f7"
            ],
            [
             0.6,
             "#e6f5d0"
            ],
            [
             0.7,
             "#b8e186"
            ],
            [
             0.8,
             "#7fbc41"
            ],
            [
             0.9,
             "#4d9221"
            ],
            [
             1,
             "#276419"
            ]
           ],
           "sequential": [
            [
             0,
             "#0d0887"
            ],
            [
             0.1111111111111111,
             "#46039f"
            ],
            [
             0.2222222222222222,
             "#7201a8"
            ],
            [
             0.3333333333333333,
             "#9c179e"
            ],
            [
             0.4444444444444444,
             "#bd3786"
            ],
            [
             0.5555555555555556,
             "#d8576b"
            ],
            [
             0.6666666666666666,
             "#ed7953"
            ],
            [
             0.7777777777777778,
             "#fb9f3a"
            ],
            [
             0.8888888888888888,
             "#fdca26"
            ],
            [
             1,
             "#f0f921"
            ]
           ],
           "sequentialminus": [
            [
             0,
             "#0d0887"
            ],
            [
             0.1111111111111111,
             "#46039f"
            ],
            [
             0.2222222222222222,
             "#7201a8"
            ],
            [
             0.3333333333333333,
             "#9c179e"
            ],
            [
             0.4444444444444444,
             "#bd3786"
            ],
            [
             0.5555555555555556,
             "#d8576b"
            ],
            [
             0.6666666666666666,
             "#ed7953"
            ],
            [
             0.7777777777777778,
             "#fb9f3a"
            ],
            [
             0.8888888888888888,
             "#fdca26"
            ],
            [
             1,
             "#f0f921"
            ]
           ]
          },
          "colorway": [
           "#636efa",
           "#EF553B",
           "#00cc96",
           "#ab63fa",
           "#FFA15A",
           "#19d3f3",
           "#FF6692",
           "#B6E880",
           "#FF97FF",
           "#FECB52"
          ],
          "font": {
           "color": "#2a3f5f"
          },
          "geo": {
           "bgcolor": "white",
           "lakecolor": "white",
           "landcolor": "#E5ECF6",
           "showlakes": true,
           "showland": true,
           "subunitcolor": "white"
          },
          "hoverlabel": {
           "align": "left"
          },
          "hovermode": "closest",
          "mapbox": {
           "style": "light"
          },
          "paper_bgcolor": "white",
          "plot_bgcolor": "#E5ECF6",
          "polar": {
           "angularaxis": {
            "gridcolor": "white",
            "linecolor": "white",
            "ticks": ""
           },
           "bgcolor": "#E5ECF6",
           "radialaxis": {
            "gridcolor": "white",
            "linecolor": "white",
            "ticks": ""
           }
          },
          "scene": {
           "xaxis": {
            "backgroundcolor": "#E5ECF6",
            "gridcolor": "white",
            "gridwidth": 2,
            "linecolor": "white",
            "showbackground": true,
            "ticks": "",
            "zerolinecolor": "white"
           },
           "yaxis": {
            "backgroundcolor": "#E5ECF6",
            "gridcolor": "white",
            "gridwidth": 2,
            "linecolor": "white",
            "showbackground": true,
            "ticks": "",
            "zerolinecolor": "white"
           },
           "zaxis": {
            "backgroundcolor": "#E5ECF6",
            "gridcolor": "white",
            "gridwidth": 2,
            "linecolor": "white",
            "showbackground": true,
            "ticks": "",
            "zerolinecolor": "white"
           }
          },
          "shapedefaults": {
           "line": {
            "color": "#2a3f5f"
           }
          },
          "ternary": {
           "aaxis": {
            "gridcolor": "white",
            "linecolor": "white",
            "ticks": ""
           },
           "baxis": {
            "gridcolor": "white",
            "linecolor": "white",
            "ticks": ""
           },
           "bgcolor": "#E5ECF6",
           "caxis": {
            "gridcolor": "white",
            "linecolor": "white",
            "ticks": ""
           }
          },
          "title": {
           "x": 0.05
          },
          "xaxis": {
           "automargin": true,
           "gridcolor": "white",
           "linecolor": "white",
           "ticks": "",
           "title": {
            "standoff": 15
           },
           "zerolinecolor": "white",
           "zerolinewidth": 2
          },
          "yaxis": {
           "automargin": true,
           "gridcolor": "white",
           "linecolor": "white",
           "ticks": "",
           "title": {
            "standoff": 15
           },
           "zerolinecolor": "white",
           "zerolinewidth": 2
          }
         }
        },
        "title": {
         "text": "Sankey Diagram of Country Flows"
        },
        "width": 1200
       }
      }
     },
     "metadata": {},
     "output_type": "display_data"
    }
   ],
   "source": [
    "\n",
    "\n",
    "\n",
    "fig = go.Figure(data=[go.Sankey(\n",
    "    node=dict(\n",
    "        pad=15,\n",
    "        thickness=20,\n",
    "        line=dict(color=\"black\", width=0.5),\n",
    "        label=unique_labels,  # Use defined labels here\n",
    "        color=\"blue\"           # Color for all nodes\n",
    "    ),\n",
    "    link=dict(\n",
    "        source=diff['source'],   # Indices correspond to labels\n",
    "        target=diff['target'],\n",
    "        value=diff[2022]       # Use values from the 2022 column\n",
    "    )\n",
    ")])\n",
    "\n",
    "fig.update_layout(\n",
    "    title_text=\"Sankey Diagram of Country Flows\", \n",
    "    font_size=10,\n",
    "    height=1200,\n",
    "    width=1200,\n",
    "    plot_bgcolor='white'\n",
    ")\n",
    "fig.show()"
   ]
  }
 ],
 "metadata": {
  "kernelspec": {
   "display_name": "Python 3",
   "language": "python",
   "name": "python3"
  },
  "language_info": {
   "codemirror_mode": {
    "name": "ipython",
    "version": 3
   },
   "file_extension": ".py",
   "mimetype": "text/x-python",
   "name": "python",
   "nbconvert_exporter": "python",
   "pygments_lexer": "ipython3",
   "version": "3.11.9"
  }
 },
 "nbformat": 4,
 "nbformat_minor": 2
}
